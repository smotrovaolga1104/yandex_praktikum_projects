{
 "cells": [
  {
   "cell_type": "markdown",
   "metadata": {
    "toc": true
   },
   "source": [
    "<h1>Содержание<span class=\"tocSkip\"></span></h1>\n",
    "<div class=\"toc\"><ul class=\"toc-item\"><li><span><a href=\"#Цель-проекта\" data-toc-modified-id=\"Цель-проекта-1\"><span class=\"toc-item-num\">1&nbsp;&nbsp;</span>Цель проекта</a></span></li><li><span><a href=\"#Обзор-и-подготовка-данных\" data-toc-modified-id=\"Обзор-и-подготовка-данных-2\"><span class=\"toc-item-num\">2&nbsp;&nbsp;</span>Обзор и подготовка данных</a></span><ul class=\"toc-item\"><li><span><a href=\"#Информация-о-датасете\" data-toc-modified-id=\"Информация-о-датасете-2.1\"><span class=\"toc-item-num\">2.1&nbsp;&nbsp;</span>Информация о датасете</a></span></li><li><span><a href=\"#Распределения-признаков\" data-toc-modified-id=\"Распределения-признаков-2.2\"><span class=\"toc-item-num\">2.2&nbsp;&nbsp;</span>Распределения признаков</a></span><ul class=\"toc-item\"><li><span><a href=\"#Целевой-признак:\" data-toc-modified-id=\"Целевой-признак:-2.2.1\"><span class=\"toc-item-num\">2.2.1&nbsp;&nbsp;</span>Целевой признак:</a></span></li><li><span><a href=\"#Страна-проживания\" data-toc-modified-id=\"Страна-проживания-2.2.2\"><span class=\"toc-item-num\">2.2.2&nbsp;&nbsp;</span>Страна проживания</a></span></li><li><span><a href=\"#Пол-клиентов\" data-toc-modified-id=\"Пол-клиентов-2.2.3\"><span class=\"toc-item-num\">2.2.3&nbsp;&nbsp;</span>Пол клиентов</a></span></li><li><span><a href=\"#Возраст-клиентов\" data-toc-modified-id=\"Возраст-клиентов-2.2.4\"><span class=\"toc-item-num\">2.2.4&nbsp;&nbsp;</span>Возраст клиентов</a></span></li><li><span><a href=\"#Кредитный-рейтинг\" data-toc-modified-id=\"Кредитный-рейтинг-2.2.5\"><span class=\"toc-item-num\">2.2.5&nbsp;&nbsp;</span>Кредитный рейтинг</a></span></li><li><span><a href=\"#Баланс-на-карте-клиента\" data-toc-modified-id=\"Баланс-на-карте-клиента-2.2.6\"><span class=\"toc-item-num\">2.2.6&nbsp;&nbsp;</span>Баланс на карте клиента</a></span></li><li><span><a href=\"#Оценочный-доход\" data-toc-modified-id=\"Оценочный-доход-2.2.7\"><span class=\"toc-item-num\">2.2.7&nbsp;&nbsp;</span>Оценочный доход</a></span></li><li><span><a href=\"#Срок-отношений-с-банком\" data-toc-modified-id=\"Срок-отношений-с-банком-2.2.8\"><span class=\"toc-item-num\">2.2.8&nbsp;&nbsp;</span>Срок отношений с банком</a></span></li><li><span><a href=\"#Число-открытых-в-банке-продуктов\" data-toc-modified-id=\"Число-открытых-в-банке-продуктов-2.2.9\"><span class=\"toc-item-num\">2.2.9&nbsp;&nbsp;</span>Число открытых в банке продуктов</a></span></li><li><span><a href=\"#Наличие-кредитной-карты\" data-toc-modified-id=\"Наличие-кредитной-карты-2.2.10\"><span class=\"toc-item-num\">2.2.10&nbsp;&nbsp;</span>Наличие кредитной карты</a></span></li><li><span><a href=\"#Активность-клиента\" data-toc-modified-id=\"Активность-клиента-2.2.11\"><span class=\"toc-item-num\">2.2.11&nbsp;&nbsp;</span>Активность клиента</a></span></li></ul></li><li><span><a href=\"#Работа-с-пропусками\" data-toc-modified-id=\"Работа-с-пропусками-2.3\"><span class=\"toc-item-num\">2.3&nbsp;&nbsp;</span>Работа с пропусками</a></span></li><li><span><a href=\"#Модификация-категориальных-переменных\" data-toc-modified-id=\"Модификация-категориальных-переменных-2.4\"><span class=\"toc-item-num\">2.4&nbsp;&nbsp;</span>Модификация категориальных переменных</a></span></li><li><span><a href=\"#Вывод\" data-toc-modified-id=\"Вывод-2.5\"><span class=\"toc-item-num\">2.5&nbsp;&nbsp;</span>Вывод</a></span></li></ul></li><li><span><a href=\"#Исследование-моделей\" data-toc-modified-id=\"Исследование-моделей-3\"><span class=\"toc-item-num\">3&nbsp;&nbsp;</span>Исследование моделей</a></span><ul class=\"toc-item\"><li><span><a href=\"#Подготовка-выборок\" data-toc-modified-id=\"Подготовка-выборок-3.1\"><span class=\"toc-item-num\">3.1&nbsp;&nbsp;</span>Подготовка выборок</a></span></li><li><span><a href=\"#Дерево-решений\" data-toc-modified-id=\"Дерево-решений-3.2\"><span class=\"toc-item-num\">3.2&nbsp;&nbsp;</span>Дерево решений</a></span></li><li><span><a href=\"#Случайный-лес\" data-toc-modified-id=\"Случайный-лес-3.3\"><span class=\"toc-item-num\">3.3&nbsp;&nbsp;</span>Случайный лес</a></span></li><li><span><a href=\"#Логистическая-регрессия\" data-toc-modified-id=\"Логистическая-регрессия-3.4\"><span class=\"toc-item-num\">3.4&nbsp;&nbsp;</span>Логистическая регрессия</a></span></li><li><span><a href=\"#Вывод\" data-toc-modified-id=\"Вывод-3.5\"><span class=\"toc-item-num\">3.5&nbsp;&nbsp;</span>Вывод</a></span></li></ul></li><li><span><a href=\"#Улучшение-качества-моделей\" data-toc-modified-id=\"Улучшение-качества-моделей-4\"><span class=\"toc-item-num\">4&nbsp;&nbsp;</span>Улучшение качества моделей</a></span><ul class=\"toc-item\"><li><span><a href=\"#Взвешивание-классов\" data-toc-modified-id=\"Взвешивание-классов-4.1\"><span class=\"toc-item-num\">4.1&nbsp;&nbsp;</span>Взвешивание классов</a></span></li><li><span><a href=\"#Увеличение-выборки-(upsampling)\" data-toc-modified-id=\"Увеличение-выборки-(upsampling)-4.2\"><span class=\"toc-item-num\">4.2&nbsp;&nbsp;</span>Увеличение выборки (upsampling)</a></span></li><li><span><a href=\"#Вывод\" data-toc-modified-id=\"Вывод-4.3\"><span class=\"toc-item-num\">4.3&nbsp;&nbsp;</span>Вывод</a></span></li></ul></li><li><span><a href=\"#Тестирование-модели\" data-toc-modified-id=\"Тестирование-модели-5\"><span class=\"toc-item-num\">5&nbsp;&nbsp;</span>Тестирование модели</a></span></li><li><span><a href=\"#Общий-вывод\" data-toc-modified-id=\"Общий-вывод-6\"><span class=\"toc-item-num\">6&nbsp;&nbsp;</span>Общий вывод</a></span></li></ul></div>"
   ]
  },
  {
   "cell_type": "markdown",
   "metadata": {},
   "source": [
    "# Прогноз удержания клиентов банка"
   ]
  },
  {
   "cell_type": "markdown",
   "metadata": {},
   "source": [
    "## Цель проекта\n",
    "\n",
    "Необходимо построить модель для прогноза, уйдёт ли клиент из банка в ближайшее время, на основе исторических данных о поведении клиентов и расторжении договоров с банком. Использование модели может помочь в уменьшении оттока клиентов \"Бета-Банка\" за счет лучшего распределения маркетинговых бюджетов, улучшения программ лояльности.\n",
    "\n",
    "Выполнение поставленной задачи будет проходить в несколько этапов:\n",
    "\n",
    "* Необходимо изучить предоставленные данные, при необходимости подготовить данные для дальнейшего использования в модели;\n",
    "* Разбить датасет на обучающую, валидационнную и тестовую выборки, сохраняя репрезентативность;\n",
    "* Обучить несколько видов моделей (дерево решений, случайный лес, логистическая регрессия), выявить оптимальную на основании метрик F1 и AUC ROC;\n",
    "* Проверить выбранную модель на тестовых данных.\n",
    "\n",
    "Модель должна достигать максимально возможного значения F1-меры (не менее 0.59)."
   ]
  },
  {
   "cell_type": "markdown",
   "metadata": {},
   "source": [
    "## Обзор и подготовка данных\n",
    "\n",
    "### Информация о датасете"
   ]
  },
  {
   "cell_type": "code",
   "execution_count": 1,
   "metadata": {},
   "outputs": [],
   "source": [
    "# Импорты используемых в проекте библиотек:\n",
    "#!pip install skimpy\n",
    "import pandas as pd\n",
    "import random               # для заполнения пропусков\n",
    "import plotly.express as px\n",
    "import numpy as np\n",
    "from skimpy import clean_columns          # для переименования колонок\n",
    "import warnings\n",
    "# Подготовка выборок и предобработка\n",
    "from sklearn.model_selection import train_test_split, GridSearchCV\n",
    "from sklearn.preprocessing import StandardScaler\n",
    "from sklearn.utils import shuffle\n",
    "# Используемые модели\n",
    "from sklearn.tree import DecisionTreeClassifier\n",
    "from sklearn.ensemble import RandomForestClassifier\n",
    "from sklearn.linear_model import LogisticRegression\n",
    "# Используемые метрики качества моделей\n",
    "from sklearn.metrics import f1_score, roc_auc_score, make_scorer"
   ]
  },
  {
   "cell_type": "code",
   "execution_count": 2,
   "metadata": {},
   "outputs": [
    {
     "name": "stdout",
     "output_type": "stream",
     "text": [
      "<class 'pandas.core.frame.DataFrame'>\n",
      "RangeIndex: 10000 entries, 0 to 9999\n",
      "Data columns (total 14 columns):\n",
      " #   Column           Non-Null Count  Dtype  \n",
      "---  ------           --------------  -----  \n",
      " 0   RowNumber        10000 non-null  int64  \n",
      " 1   CustomerId       10000 non-null  int64  \n",
      " 2   Surname          10000 non-null  object \n",
      " 3   CreditScore      10000 non-null  int64  \n",
      " 4   Geography        10000 non-null  object \n",
      " 5   Gender           10000 non-null  object \n",
      " 6   Age              10000 non-null  int64  \n",
      " 7   Tenure           9091 non-null   float64\n",
      " 8   Balance          10000 non-null  float64\n",
      " 9   NumOfProducts    10000 non-null  int64  \n",
      " 10  HasCrCard        10000 non-null  int64  \n",
      " 11  IsActiveMember   10000 non-null  int64  \n",
      " 12  EstimatedSalary  10000 non-null  float64\n",
      " 13  Exited           10000 non-null  int64  \n",
      "dtypes: float64(3), int64(8), object(3)\n",
      "memory usage: 1.1+ MB\n"
     ]
    },
    {
     "data": {
      "text/html": [
       "<div>\n",
       "<style scoped>\n",
       "    .dataframe tbody tr th:only-of-type {\n",
       "        vertical-align: middle;\n",
       "    }\n",
       "\n",
       "    .dataframe tbody tr th {\n",
       "        vertical-align: top;\n",
       "    }\n",
       "\n",
       "    .dataframe thead th {\n",
       "        text-align: right;\n",
       "    }\n",
       "</style>\n",
       "<table border=\"1\" class=\"dataframe\">\n",
       "  <thead>\n",
       "    <tr style=\"text-align: right;\">\n",
       "      <th></th>\n",
       "      <th>RowNumber</th>\n",
       "      <th>CustomerId</th>\n",
       "      <th>Surname</th>\n",
       "      <th>CreditScore</th>\n",
       "      <th>Geography</th>\n",
       "      <th>Gender</th>\n",
       "      <th>Age</th>\n",
       "      <th>Tenure</th>\n",
       "      <th>Balance</th>\n",
       "      <th>NumOfProducts</th>\n",
       "      <th>HasCrCard</th>\n",
       "      <th>IsActiveMember</th>\n",
       "      <th>EstimatedSalary</th>\n",
       "      <th>Exited</th>\n",
       "    </tr>\n",
       "  </thead>\n",
       "  <tbody>\n",
       "    <tr>\n",
       "      <th>0</th>\n",
       "      <td>1</td>\n",
       "      <td>15634602</td>\n",
       "      <td>Hargrave</td>\n",
       "      <td>619</td>\n",
       "      <td>France</td>\n",
       "      <td>Female</td>\n",
       "      <td>42</td>\n",
       "      <td>2.0</td>\n",
       "      <td>0.00</td>\n",
       "      <td>1</td>\n",
       "      <td>1</td>\n",
       "      <td>1</td>\n",
       "      <td>101348.88</td>\n",
       "      <td>1</td>\n",
       "    </tr>\n",
       "    <tr>\n",
       "      <th>1</th>\n",
       "      <td>2</td>\n",
       "      <td>15647311</td>\n",
       "      <td>Hill</td>\n",
       "      <td>608</td>\n",
       "      <td>Spain</td>\n",
       "      <td>Female</td>\n",
       "      <td>41</td>\n",
       "      <td>1.0</td>\n",
       "      <td>83807.86</td>\n",
       "      <td>1</td>\n",
       "      <td>0</td>\n",
       "      <td>1</td>\n",
       "      <td>112542.58</td>\n",
       "      <td>0</td>\n",
       "    </tr>\n",
       "    <tr>\n",
       "      <th>2</th>\n",
       "      <td>3</td>\n",
       "      <td>15619304</td>\n",
       "      <td>Onio</td>\n",
       "      <td>502</td>\n",
       "      <td>France</td>\n",
       "      <td>Female</td>\n",
       "      <td>42</td>\n",
       "      <td>8.0</td>\n",
       "      <td>159660.80</td>\n",
       "      <td>3</td>\n",
       "      <td>1</td>\n",
       "      <td>0</td>\n",
       "      <td>113931.57</td>\n",
       "      <td>1</td>\n",
       "    </tr>\n",
       "    <tr>\n",
       "      <th>3</th>\n",
       "      <td>4</td>\n",
       "      <td>15701354</td>\n",
       "      <td>Boni</td>\n",
       "      <td>699</td>\n",
       "      <td>France</td>\n",
       "      <td>Female</td>\n",
       "      <td>39</td>\n",
       "      <td>1.0</td>\n",
       "      <td>0.00</td>\n",
       "      <td>2</td>\n",
       "      <td>0</td>\n",
       "      <td>0</td>\n",
       "      <td>93826.63</td>\n",
       "      <td>0</td>\n",
       "    </tr>\n",
       "    <tr>\n",
       "      <th>4</th>\n",
       "      <td>5</td>\n",
       "      <td>15737888</td>\n",
       "      <td>Mitchell</td>\n",
       "      <td>850</td>\n",
       "      <td>Spain</td>\n",
       "      <td>Female</td>\n",
       "      <td>43</td>\n",
       "      <td>2.0</td>\n",
       "      <td>125510.82</td>\n",
       "      <td>1</td>\n",
       "      <td>1</td>\n",
       "      <td>1</td>\n",
       "      <td>79084.10</td>\n",
       "      <td>0</td>\n",
       "    </tr>\n",
       "  </tbody>\n",
       "</table>\n",
       "</div>"
      ],
      "text/plain": [
       "   RowNumber  CustomerId   Surname  CreditScore Geography  Gender  Age  \\\n",
       "0          1    15634602  Hargrave          619    France  Female   42   \n",
       "1          2    15647311      Hill          608     Spain  Female   41   \n",
       "2          3    15619304      Onio          502    France  Female   42   \n",
       "3          4    15701354      Boni          699    France  Female   39   \n",
       "4          5    15737888  Mitchell          850     Spain  Female   43   \n",
       "\n",
       "   Tenure    Balance  NumOfProducts  HasCrCard  IsActiveMember  \\\n",
       "0     2.0       0.00              1          1               1   \n",
       "1     1.0   83807.86              1          0               1   \n",
       "2     8.0  159660.80              3          1               0   \n",
       "3     1.0       0.00              2          0               0   \n",
       "4     2.0  125510.82              1          1               1   \n",
       "\n",
       "   EstimatedSalary  Exited  \n",
       "0        101348.88       1  \n",
       "1        112542.58       0  \n",
       "2        113931.57       1  \n",
       "3         93826.63       0  \n",
       "4         79084.10       0  "
      ]
     },
     "execution_count": 2,
     "metadata": {},
     "output_type": "execute_result"
    }
   ],
   "source": [
    "# Загрузка и первичный обзор данных:\n",
    "try:\n",
    "    data = pd.read_csv('/datasets/Churn.csv')\n",
    "except:\n",
    "    data = pd.read_csv('C:/Users/1/python/datasets/Churn.csv')\n",
    "\n",
    "data.info()\n",
    "data.head()"
   ]
  },
  {
   "cell_type": "markdown",
   "metadata": {},
   "source": [
    "Исходный датасет состоит из 10 тыс. объектов, содержащих информацию о ID клиента, персональных характеристках (пол, возраст, страна проживания), финансовых показателях (кредитный рейтинг, баланс на счете, предполагаемый доход) отношениях с банком (сколько лет является клиентом, количество используемых продуктов, наличие кредитной карты, активность клиента) и данных о разрыве договора с банком (`Exited`, где 1 - договор был расторгнут, 0 - не был).\n",
    "\n",
    "* Среди признаков есть нерелевантный (номер строки) и избыточный (фамилия клиента при наличии ID). Кроме того, идентификационные данные не будут использоваться для модели.\n",
    "* В признаке `Tenure` (срок отношений с банком) присутствуют пропуски - необходимо выявить причину, и, по возможности, заполнить недостающие данные.\n",
    "* Качественные признаки (пол и страна проживания) необходимо преобразовать в дамми-переменные для корректного использования в модели.\n",
    "\n",
    "Для начала исключим из датасета избыточные данные и переименуем колонки для удобства:"
   ]
  },
  {
   "cell_type": "code",
   "execution_count": 3,
   "metadata": {},
   "outputs": [
    {
     "data": {
      "text/html": [
       "<pre style=\"white-space:pre;overflow-x:auto;line-height:normal;font-family:Menlo,'DejaVu Sans Mono',consolas,'Courier New',monospace\"><span style=\"color: #008080; text-decoration-color: #008080; font-weight: bold\">14</span> column names have been cleaned\n",
       "</pre>\n"
      ],
      "text/plain": [
       "\u001b[1;36m14\u001b[0m column names have been cleaned\n"
      ]
     },
     "metadata": {},
     "output_type": "display_data"
    },
    {
     "data": {
      "text/html": [
       "<div>\n",
       "<style scoped>\n",
       "    .dataframe tbody tr th:only-of-type {\n",
       "        vertical-align: middle;\n",
       "    }\n",
       "\n",
       "    .dataframe tbody tr th {\n",
       "        vertical-align: top;\n",
       "    }\n",
       "\n",
       "    .dataframe thead th {\n",
       "        text-align: right;\n",
       "    }\n",
       "</style>\n",
       "<table border=\"1\" class=\"dataframe\">\n",
       "  <thead>\n",
       "    <tr style=\"text-align: right;\">\n",
       "      <th></th>\n",
       "      <th>credit_score</th>\n",
       "      <th>geography</th>\n",
       "      <th>gender</th>\n",
       "      <th>age</th>\n",
       "      <th>tenure</th>\n",
       "      <th>balance</th>\n",
       "      <th>num_of_products</th>\n",
       "      <th>has_cr_card</th>\n",
       "      <th>is_active_member</th>\n",
       "      <th>estimated_salary</th>\n",
       "      <th>exited</th>\n",
       "    </tr>\n",
       "  </thead>\n",
       "  <tbody>\n",
       "    <tr>\n",
       "      <th>0</th>\n",
       "      <td>619</td>\n",
       "      <td>France</td>\n",
       "      <td>Female</td>\n",
       "      <td>42</td>\n",
       "      <td>2.0</td>\n",
       "      <td>0.00</td>\n",
       "      <td>1</td>\n",
       "      <td>1</td>\n",
       "      <td>1</td>\n",
       "      <td>101348.88</td>\n",
       "      <td>1</td>\n",
       "    </tr>\n",
       "    <tr>\n",
       "      <th>1</th>\n",
       "      <td>608</td>\n",
       "      <td>Spain</td>\n",
       "      <td>Female</td>\n",
       "      <td>41</td>\n",
       "      <td>1.0</td>\n",
       "      <td>83807.86</td>\n",
       "      <td>1</td>\n",
       "      <td>0</td>\n",
       "      <td>1</td>\n",
       "      <td>112542.58</td>\n",
       "      <td>0</td>\n",
       "    </tr>\n",
       "    <tr>\n",
       "      <th>2</th>\n",
       "      <td>502</td>\n",
       "      <td>France</td>\n",
       "      <td>Female</td>\n",
       "      <td>42</td>\n",
       "      <td>8.0</td>\n",
       "      <td>159660.80</td>\n",
       "      <td>3</td>\n",
       "      <td>1</td>\n",
       "      <td>0</td>\n",
       "      <td>113931.57</td>\n",
       "      <td>1</td>\n",
       "    </tr>\n",
       "    <tr>\n",
       "      <th>3</th>\n",
       "      <td>699</td>\n",
       "      <td>France</td>\n",
       "      <td>Female</td>\n",
       "      <td>39</td>\n",
       "      <td>1.0</td>\n",
       "      <td>0.00</td>\n",
       "      <td>2</td>\n",
       "      <td>0</td>\n",
       "      <td>0</td>\n",
       "      <td>93826.63</td>\n",
       "      <td>0</td>\n",
       "    </tr>\n",
       "    <tr>\n",
       "      <th>4</th>\n",
       "      <td>850</td>\n",
       "      <td>Spain</td>\n",
       "      <td>Female</td>\n",
       "      <td>43</td>\n",
       "      <td>2.0</td>\n",
       "      <td>125510.82</td>\n",
       "      <td>1</td>\n",
       "      <td>1</td>\n",
       "      <td>1</td>\n",
       "      <td>79084.10</td>\n",
       "      <td>0</td>\n",
       "    </tr>\n",
       "  </tbody>\n",
       "</table>\n",
       "</div>"
      ],
      "text/plain": [
       "   credit_score geography  gender  age  tenure    balance  num_of_products  \\\n",
       "0           619    France  Female   42     2.0       0.00                1   \n",
       "1           608     Spain  Female   41     1.0   83807.86                1   \n",
       "2           502    France  Female   42     8.0  159660.80                3   \n",
       "3           699    France  Female   39     1.0       0.00                2   \n",
       "4           850     Spain  Female   43     2.0  125510.82                1   \n",
       "\n",
       "   has_cr_card  is_active_member  estimated_salary  exited  \n",
       "0            1                 1         101348.88       1  \n",
       "1            0                 1         112542.58       0  \n",
       "2            1                 0         113931.57       1  \n",
       "3            0                 0          93826.63       0  \n",
       "4            1                 1          79084.10       0  "
      ]
     },
     "execution_count": 3,
     "metadata": {},
     "output_type": "execute_result"
    }
   ],
   "source": [
    "# Переименуем колонки:\n",
    "data = clean_columns(data)\n",
    "\n",
    "# Удалим избыточные признаки:\n",
    "id_dict = data[['customer_id', 'surname']] # сохраним связь между ID и фамилией в отдельной переменной\n",
    "id_dict = id_dict.drop_duplicates()\n",
    "data = data.drop(['row_number', 'customer_id', 'surname'], axis=1) # исключаем избыточную информацию из датасета\n",
    "\n",
    "data.head()"
   ]
  },
  {
   "cell_type": "markdown",
   "metadata": {},
   "source": [
    "### Распределения признаков\n",
    "\n",
    "#### Целевой признак:"
   ]
  },
  {
   "cell_type": "code",
   "execution_count": 4,
   "metadata": {},
   "outputs": [
    {
     "name": "stdout",
     "output_type": "stream",
     "text": [
      "Доля ушедших клиентов - 20.37%, удерживаемых клиентов - 79.63%.\n"
     ]
    }
   ],
   "source": [
    "shares = data.groupby('exited')['gender'].count()/len(data) * 100\n",
    "print('Доля ушедших клиентов - {0}%, удерживаемых клиентов - {1}%.'.format(round(shares[1], 2), round(shares[0], 2)))"
   ]
  },
  {
   "cell_type": "markdown",
   "metadata": {},
   "source": [
    "Заметим, что объекты распределены по классам неравномерно: ок. 20% объектов относятся к положительному классу и ок. 80% - к отрицательному. Следовательно, при подготовке выборок необходима стратификация.\n",
    "\n",
    "Рассмотрим, как распределяются признаки в зависимости от целевого признака. Поскольку классы несбалансированы, гистограммы были нормированы по общему числу объектов в классе.\n",
    "\n",
    "#### Страна проживания"
   ]
  },
  {
   "cell_type": "code",
   "execution_count": 5,
   "metadata": {},
   "outputs": [
    {
     "data": {
      "image/png": "[encoded data removed]"
     },
     "metadata": {},
     "output_type": "display_data"
    }
   ],
   "source": [
    "fig = px.histogram(data_frame=data, \n",
    "             x='exited', \n",
    "             color='geography', \n",
    "             histnorm='percent',\n",
    "             barmode='group',\n",
    "             title='Страна проживания клиентов',\n",
    "             opacity=0.7,\n",
    "             width = 800)\n",
    "fig.update_layout(yaxis={\"title\":\"Частота в %\"}, \n",
    "                  xaxis={'title':\"Признак\", \n",
    "                         'tickmode':'array', \n",
    "                         'tickvals':[0, 1],\n",
    "                         'ticktext':['Не ушел', 'Ушел']},\n",
    "                 legend={'title':'Страна'})\n",
    "\n",
    "newnames = {'France':'Франция', 'Spain': 'Испания', 'Germany': 'Германия'}\n",
    "fig.for_each_trace(lambda t: t.update(name = newnames[t.name]))\n",
    "fig.show(\"png\")"
   ]
  },
  {
   "cell_type": "markdown",
   "metadata": {},
   "source": [
    "Ок. половины объектов (независимо от класса) относятся к жителям Франции, на жителей Германии и Испании приходится по ок. 25% данных.\n",
    "\n",
    "Доли ушедших на рынках Франции и Испании примерно равны и составляют ок. 16%, в то время как аналогичный показатель в Германии превышает 30%. Возможно, в Германии действуют другие условия, чем в Испании (сопоставимый по размерам рынок), что приводит у большей доле отказавшихся от услуг банка. Либо, напротив, унифицированные условия для всех рынков не учитывают особенности немецких клиентов.\n",
    "\n",
    "#### Пол клиентов"
   ]
  },
  {
   "cell_type": "code",
   "execution_count": 6,
   "metadata": {},
   "outputs": [
    {
     "data": {
      "image/png": "[encoded data removed]"
     },
     "metadata": {},
     "output_type": "display_data"
    }
   ],
   "source": [
    "fig = px.histogram(data_frame=data, \n",
    "             x='exited', \n",
    "             color='gender', \n",
    "             histnorm='percent',\n",
    "             barmode='group',\n",
    "             title='Пол клиентов',\n",
    "             opacity=0.7,\n",
    "             width = 800)\n",
    "fig.update_layout(yaxis={\"title\":\"Частота в %\"}, \n",
    "                  xaxis={'title':\"Признак\", \n",
    "                         'tickmode':'array', \n",
    "                         'tickvals':[0, 1],\n",
    "                         'ticktext':['Не ушел', 'Ушел']},\n",
    "                 legend={'title':'Пол'})\n",
    "\n",
    "newnames = {'Female':'Женский', 'Male': 'Мужской'}\n",
    "fig.for_each_trace(lambda t: t.update(name = newnames[t.name]))\n",
    "fig.show(\"png\")"
   ]
  },
  {
   "cell_type": "markdown",
   "metadata": {},
   "source": [
    "Ок. 45% объектов в данных - женщины, ок. 55% - мужчины. Среди женщин доля ушедших клиентов выше - ок. 25% против ок. 16% среди мужчин.\n",
    "\n",
    "#### Возраст клиентов"
   ]
  },
  {
   "cell_type": "code",
   "execution_count": 7,
   "metadata": {},
   "outputs": [
    {
     "data": {
      "image/png": "[encoded data removed]"
     },
     "metadata": {},
     "output_type": "display_data"
    }
   ],
   "source": [
    "fig = px.histogram(data_frame=data, \n",
    "             x='age', \n",
    "             color='exited', \n",
    "             histnorm='percent',\n",
    "             barmode='overlay',\n",
    "             title='Возраст клиентов',\n",
    "             opacity=0.7,\n",
    "             width = 800)\n",
    "fig.update_layout(yaxis={\"title\":\"Частота в %\"}, \n",
    "                  xaxis={'title':\"В годах\"},\n",
    "                 legend={'title':'Признак'})\n",
    "newnames = {'0':'Не ушел', '1':'Ушел'}\n",
    "fig.for_each_trace(lambda t: t.update(name = newnames[t.name]))\n",
    "fig.show(\"png\")"
   ]
  },
  {
   "cell_type": "markdown",
   "metadata": {},
   "source": [
    "Среди ушедших наибольшая доля приходится на возрастную группу от 30 до 40 лет, в то время как среди ушедших - на 40-52 года. Это противоречит предположению, что более молодые клиенты с бОльшей вероятностью сменят банк обслуживания.\n",
    "\n",
    "#### Кредитный рейтинг"
   ]
  },
  {
   "cell_type": "code",
   "execution_count": 8,
   "metadata": {},
   "outputs": [
    {
     "data": {
      "image/png": "[encoded data removed]"
     },
     "metadata": {},
     "output_type": "display_data"
    }
   ],
   "source": [
    "fig = px.histogram(data_frame=data, \n",
    "             x='credit_score', \n",
    "             color='exited', \n",
    "             histnorm='percent',\n",
    "             barmode='overlay',\n",
    "             title='Кредитный рейтинг клиентов',\n",
    "             opacity=0.7,\n",
    "             width = 800)\n",
    "fig.update_layout(yaxis={\"title\":\"Частота в %\"}, \n",
    "                  xaxis={'title':\"В ед.\"},\n",
    "                 legend={'title':'Признак'})\n",
    "fig.for_each_trace(lambda t: t.update(name = newnames[t.name]))\n",
    "fig.show(\"png\")"
   ]
  },
  {
   "cell_type": "markdown",
   "metadata": {},
   "source": [
    "Среди ушедших есть незначительный \"левый\" хвост клиентов с низким рейтингом (менее 410), который отсутствует для оставшихся клиентов. В остальном явная зависимость между кредитным рейтингом и числом ушедших клиентов не наблюдается.\n",
    "\n",
    "#### Баланс на карте клиента"
   ]
  },
  {
   "cell_type": "code",
   "execution_count": 9,
   "metadata": {},
   "outputs": [
    {
     "data": {
      "image/png": "[encoded data removed]"
     },
     "metadata": {},
     "output_type": "display_data"
    }
   ],
   "source": [
    "fig = px.histogram(data_frame=data, \n",
    "             x='balance', \n",
    "             color='exited', \n",
    "             histnorm='percent',\n",
    "             barmode='overlay',\n",
    "             title='Баланс на карте клиента',\n",
    "             opacity=0.7,\n",
    "             width = 800)\n",
    "fig.update_layout(yaxis={\"title\":\"Частота в %\"}, \n",
    "                  xaxis={'title':\"В у.е.\"},\n",
    "                 legend={'title':'Признак'})\n",
    "fig.for_each_trace(lambda t: t.update(name = newnames[t.name]))\n",
    "fig.show(\"png\")"
   ]
  },
  {
   "cell_type": "markdown",
   "metadata": {},
   "source": [
    "Любопытно, что доля клиентов с околонулевым балансом среди оставшихся выше, чем среди ушедших (ок. 40% против 25%). При этом доля клиентов с балансом 100-140 тыс. у.е. выше среди ушедших (ок. 38% против ок. 26% среди оставшихся). Доли клиентов с балансом 3-100 тыс. у.е. (левый хвост кроме 0) и более 140 тыс. у.е. (правый хвост) примерно равны.\n",
    "\n",
    "#### Оценочный доход"
   ]
  },
  {
   "cell_type": "code",
   "execution_count": 10,
   "metadata": {},
   "outputs": [
    {
     "data": {
      "image/png": "[encoded data removed]"
     },
     "metadata": {},
     "output_type": "display_data"
    }
   ],
   "source": [
    "fig = px.histogram(data_frame=data, \n",
    "             x='estimated_salary', \n",
    "             color='exited', \n",
    "             histnorm='percent',\n",
    "             barmode='overlay',\n",
    "             title='Оценочный доход клиента',\n",
    "             opacity=0.7,\n",
    "             width = 800)\n",
    "fig.update_layout(yaxis={\"title\":\"Частота в %\"}, \n",
    "                  xaxis={'title':\"В у.е.\"},\n",
    "                 legend={'title':'Признак'})\n",
    "fig.for_each_trace(lambda t: t.update(name = newnames[t.name]))\n",
    "fig.show(\"png\")"
   ]
  },
  {
   "cell_type": "markdown",
   "metadata": {},
   "source": [
    "Явная зависимость между оценочным доходом и долей ушедших клиентов не прослеживается.\n",
    "\n",
    "#### Срок отношений с банком"
   ]
  },
  {
   "cell_type": "code",
   "execution_count": 11,
   "metadata": {},
   "outputs": [
    {
     "data": {
      "image/png": "[encoded data removed]"
     },
     "metadata": {},
     "output_type": "display_data"
    }
   ],
   "source": [
    "fig = px.histogram(data_frame=data, \n",
    "             x='tenure', \n",
    "             color='exited', \n",
    "             histnorm='percent',\n",
    "             barmode='overlay',\n",
    "             title='Срок отношений с банком',\n",
    "             opacity=0.7,\n",
    "             width = 800)\n",
    "fig.update_layout(yaxis={\"title\":\"Частота в %\"}, \n",
    "                  xaxis={'title':\"В годах\"},\n",
    "                 legend={'title':'Признак'})\n",
    "newnames = {'0':'Не ушел', '1':'Ушел'}\n",
    "fig.for_each_trace(lambda t: t.update(name = newnames[t.name]))\n",
    "fig.show(\"png\")"
   ]
  },
  {
   "cell_type": "markdown",
   "metadata": {},
   "source": [
    "Явная зависимость между скроком пребывания клиентом банка и долей ушедших клиентов не прослеживается.\n",
    "\n",
    "#### Число открытых в банке продуктов"
   ]
  },
  {
   "cell_type": "code",
   "execution_count": 12,
   "metadata": {},
   "outputs": [
    {
     "data": {
      "image/png": "[encoded data removed]"
     },
     "metadata": {},
     "output_type": "display_data"
    }
   ],
   "source": [
    "fig = px.histogram(data_frame=data, \n",
    "             x='exited',\n",
    "             color='num_of_products', \n",
    "             category_orders={'num_of_products':[1,2,3,4]},\n",
    "             histnorm='percent',\n",
    "             barmode='group',\n",
    "             title='Количество продуктов в банке',\n",
    "             opacity=0.7,\n",
    "             width = 800)\n",
    "fig.update_layout(yaxis={\"title\":\"Частота в %\"}, \n",
    "                  xaxis={'title':\"Признак\", \n",
    "                         'tickmode':'array', \n",
    "                         'tickvals':[0, 1],\n",
    "                         'ticktext':['Не ушел', 'Ушел']},\n",
    "                 legend={'title':'Число продуктов в банке', 'traceorder':'normal'})\n",
    "fig.show(\"png\")"
   ]
  },
  {
   "cell_type": "markdown",
   "metadata": {},
   "source": [
    "Доминируют клиенты с одним продуктом - 51%. Доля клиентов с двумя продуктами - 46%, на долю клиентов с 3 и 4 продуктами суммарно приходится 3%.\n",
    "\n",
    "Доля ушедших среди клиентов с одним продуктом существенно выше, чем среди клиентов с двумя продуктами (28% против 8%). Выборки по клиентам с 3 и 4 продуктами нерепрезентативны.\n",
    "\n",
    "#### Наличие кредитной карты"
   ]
  },
  {
   "cell_type": "code",
   "execution_count": 13,
   "metadata": {},
   "outputs": [
    {
     "data": {
      "image/png": "[encoded data removed]"
     },
     "metadata": {},
     "output_type": "display_data"
    }
   ],
   "source": [
    "fig = px.histogram(data_frame=data, \n",
    "             x='exited',\n",
    "             color='has_cr_card', \n",
    "             histnorm='percent',\n",
    "             barmode='group',\n",
    "             title='Наличие кредитной карты',\n",
    "             opacity=0.7,\n",
    "             width = 800)\n",
    "fig.update_layout(yaxis={\"title\":\"Частота в %\"}, \n",
    "                  xaxis={'title':\"Признак\", \n",
    "                         'tickmode':'array', \n",
    "                         'tickvals':[0, 1],\n",
    "                         'ticktext':['Не ушел', 'Ушел']},\n",
    "                 legend={'title':'Наличие кредитной карты'})\n",
    "newnames = {'0':'Нет', '1':'Есть'}\n",
    "fig.for_each_trace(lambda t: t.update(name = newnames[t.name]))\n",
    "fig.show(\"png\")"
   ]
  },
  {
   "cell_type": "markdown",
   "metadata": {},
   "source": [
    "Ок. 70% клиентов банка пользуются кредитными картами. При этом существенных различий в доле ушедших среди клиентов, использующих кредитные карты, и клиентов, не имеющих кредитной карты, нет.\n",
    "\n",
    "#### Активность клиента"
   ]
  },
  {
   "cell_type": "code",
   "execution_count": 14,
   "metadata": {},
   "outputs": [
    {
     "data": {
      "image/png": "[encoded data removed]"
     },
     "metadata": {},
     "output_type": "display_data"
    }
   ],
   "source": [
    "fig = px.histogram(data_frame=data, \n",
    "             x='exited',\n",
    "             color='is_active_member', \n",
    "             histnorm='percent',\n",
    "             barmode='group',\n",
    "             title='Активность клиента',\n",
    "             opacity=0.7,\n",
    "             width = 800)\n",
    "fig.update_layout(yaxis={\"title\":\"Частота в %\"}, \n",
    "                  xaxis={'title':\"Признак\", \n",
    "                         'tickmode':'array', \n",
    "                         'tickvals':[0, 1],\n",
    "                         'ticktext':['Не ушел', 'Ушел']},\n",
    "                 legend={'title':'Активность клиента'})\n",
    "newnames = {'0':'Не активный', '1':'Активный'}\n",
    "fig.for_each_trace(lambda t: t.update(name = newnames[t.name]))\n",
    "fig.show(\"png\")"
   ]
  },
  {
   "cell_type": "markdown",
   "metadata": {},
   "source": [
    "Активные клиенты составляют 51,5% в выборке. Доля ушедших среди них существенно ниже, чем среди неактивных клиентов (14% против 27%).\n",
    "\n",
    "### Работа с пропусками\n",
    "\n",
    "Признак `Tenure` содержит пропуски в размере ок. 9%. Рассмотрим данные с пропусками:"
   ]
  },
  {
   "cell_type": "code",
   "execution_count": 15,
   "metadata": {},
   "outputs": [
    {
     "data": {
      "text/html": [
       "<div>\n",
       "<style scoped>\n",
       "    .dataframe tbody tr th:only-of-type {\n",
       "        vertical-align: middle;\n",
       "    }\n",
       "\n",
       "    .dataframe tbody tr th {\n",
       "        vertical-align: top;\n",
       "    }\n",
       "\n",
       "    .dataframe thead th {\n",
       "        text-align: right;\n",
       "    }\n",
       "</style>\n",
       "<table border=\"1\" class=\"dataframe\">\n",
       "  <thead>\n",
       "    <tr style=\"text-align: right;\">\n",
       "      <th></th>\n",
       "      <th>credit_score</th>\n",
       "      <th>geography</th>\n",
       "      <th>gender</th>\n",
       "      <th>age</th>\n",
       "      <th>tenure</th>\n",
       "      <th>balance</th>\n",
       "      <th>num_of_products</th>\n",
       "      <th>has_cr_card</th>\n",
       "      <th>is_active_member</th>\n",
       "      <th>estimated_salary</th>\n",
       "      <th>exited</th>\n",
       "    </tr>\n",
       "  </thead>\n",
       "  <tbody>\n",
       "    <tr>\n",
       "      <th>30</th>\n",
       "      <td>591</td>\n",
       "      <td>Spain</td>\n",
       "      <td>Female</td>\n",
       "      <td>39</td>\n",
       "      <td>NaN</td>\n",
       "      <td>0.00</td>\n",
       "      <td>3</td>\n",
       "      <td>1</td>\n",
       "      <td>0</td>\n",
       "      <td>140469.38</td>\n",
       "      <td>1</td>\n",
       "    </tr>\n",
       "    <tr>\n",
       "      <th>48</th>\n",
       "      <td>550</td>\n",
       "      <td>Germany</td>\n",
       "      <td>Male</td>\n",
       "      <td>38</td>\n",
       "      <td>NaN</td>\n",
       "      <td>103391.38</td>\n",
       "      <td>1</td>\n",
       "      <td>0</td>\n",
       "      <td>1</td>\n",
       "      <td>90878.13</td>\n",
       "      <td>0</td>\n",
       "    </tr>\n",
       "    <tr>\n",
       "      <th>51</th>\n",
       "      <td>585</td>\n",
       "      <td>Germany</td>\n",
       "      <td>Male</td>\n",
       "      <td>36</td>\n",
       "      <td>NaN</td>\n",
       "      <td>146050.97</td>\n",
       "      <td>2</td>\n",
       "      <td>0</td>\n",
       "      <td>0</td>\n",
       "      <td>86424.57</td>\n",
       "      <td>0</td>\n",
       "    </tr>\n",
       "    <tr>\n",
       "      <th>53</th>\n",
       "      <td>655</td>\n",
       "      <td>Germany</td>\n",
       "      <td>Male</td>\n",
       "      <td>41</td>\n",
       "      <td>NaN</td>\n",
       "      <td>125561.97</td>\n",
       "      <td>1</td>\n",
       "      <td>0</td>\n",
       "      <td>0</td>\n",
       "      <td>164040.94</td>\n",
       "      <td>1</td>\n",
       "    </tr>\n",
       "    <tr>\n",
       "      <th>60</th>\n",
       "      <td>742</td>\n",
       "      <td>Germany</td>\n",
       "      <td>Male</td>\n",
       "      <td>35</td>\n",
       "      <td>NaN</td>\n",
       "      <td>136857.00</td>\n",
       "      <td>1</td>\n",
       "      <td>0</td>\n",
       "      <td>0</td>\n",
       "      <td>84509.57</td>\n",
       "      <td>0</td>\n",
       "    </tr>\n",
       "    <tr>\n",
       "      <th>82</th>\n",
       "      <td>543</td>\n",
       "      <td>France</td>\n",
       "      <td>Female</td>\n",
       "      <td>36</td>\n",
       "      <td>NaN</td>\n",
       "      <td>0.00</td>\n",
       "      <td>2</td>\n",
       "      <td>0</td>\n",
       "      <td>0</td>\n",
       "      <td>26019.59</td>\n",
       "      <td>0</td>\n",
       "    </tr>\n",
       "    <tr>\n",
       "      <th>85</th>\n",
       "      <td>652</td>\n",
       "      <td>Spain</td>\n",
       "      <td>Female</td>\n",
       "      <td>75</td>\n",
       "      <td>NaN</td>\n",
       "      <td>0.00</td>\n",
       "      <td>2</td>\n",
       "      <td>1</td>\n",
       "      <td>1</td>\n",
       "      <td>114675.75</td>\n",
       "      <td>0</td>\n",
       "    </tr>\n",
       "    <tr>\n",
       "      <th>94</th>\n",
       "      <td>730</td>\n",
       "      <td>Spain</td>\n",
       "      <td>Male</td>\n",
       "      <td>42</td>\n",
       "      <td>NaN</td>\n",
       "      <td>0.00</td>\n",
       "      <td>2</td>\n",
       "      <td>0</td>\n",
       "      <td>1</td>\n",
       "      <td>85982.47</td>\n",
       "      <td>0</td>\n",
       "    </tr>\n",
       "    <tr>\n",
       "      <th>99</th>\n",
       "      <td>413</td>\n",
       "      <td>France</td>\n",
       "      <td>Male</td>\n",
       "      <td>34</td>\n",
       "      <td>NaN</td>\n",
       "      <td>0.00</td>\n",
       "      <td>2</td>\n",
       "      <td>0</td>\n",
       "      <td>0</td>\n",
       "      <td>6534.18</td>\n",
       "      <td>0</td>\n",
       "    </tr>\n",
       "    <tr>\n",
       "      <th>111</th>\n",
       "      <td>538</td>\n",
       "      <td>Germany</td>\n",
       "      <td>Male</td>\n",
       "      <td>39</td>\n",
       "      <td>NaN</td>\n",
       "      <td>108055.10</td>\n",
       "      <td>2</td>\n",
       "      <td>1</td>\n",
       "      <td>0</td>\n",
       "      <td>27231.26</td>\n",
       "      <td>0</td>\n",
       "    </tr>\n",
       "  </tbody>\n",
       "</table>\n",
       "</div>"
      ],
      "text/plain": [
       "     credit_score geography  gender  age  tenure    balance  num_of_products  \\\n",
       "30            591     Spain  Female   39     NaN       0.00                3   \n",
       "48            550   Germany    Male   38     NaN  103391.38                1   \n",
       "51            585   Germany    Male   36     NaN  146050.97                2   \n",
       "53            655   Germany    Male   41     NaN  125561.97                1   \n",
       "60            742   Germany    Male   35     NaN  136857.00                1   \n",
       "82            543    France  Female   36     NaN       0.00                2   \n",
       "85            652     Spain  Female   75     NaN       0.00                2   \n",
       "94            730     Spain    Male   42     NaN       0.00                2   \n",
       "99            413    France    Male   34     NaN       0.00                2   \n",
       "111           538   Germany    Male   39     NaN  108055.10                2   \n",
       "\n",
       "     has_cr_card  is_active_member  estimated_salary  exited  \n",
       "30             1                 0         140469.38       1  \n",
       "48             0                 1          90878.13       0  \n",
       "51             0                 0          86424.57       0  \n",
       "53             0                 0         164040.94       1  \n",
       "60             0                 0          84509.57       0  \n",
       "82             0                 0          26019.59       0  \n",
       "85             1                 1         114675.75       0  \n",
       "94             0                 1          85982.47       0  \n",
       "99             0                 0           6534.18       0  \n",
       "111            1                 0          27231.26       0  "
      ]
     },
     "metadata": {},
     "output_type": "display_data"
    }
   ],
   "source": [
    "display(data[data['tenure'].isna()].head(10))"
   ]
  },
  {
   "cell_type": "markdown",
   "metadata": {},
   "source": [
    "Видим, что явных причин для пропусков нет (пропуски есть для всех стран, полов, возрастов, количества продуктов и т.п.). Предлагается заполнить пропущенные значения случайным образом пропорционально частоте вхождения числа в массив:"
   ]
  },
  {
   "cell_type": "code",
   "execution_count": 16,
   "metadata": {},
   "outputs": [],
   "source": [
    "# находим частоты каждого из значений:\n",
    "data_for_refill = data['tenure'].value_counts(normalize=True)\n",
    "# создаем последовательность случайных числел:\n",
    "for_fillna = pd.Series(random.choices(population=data_for_refill.index, # ограничиваем возможные значения\n",
    "                                      weights=data_for_refill,          # пропорционируем по числу вхождений\n",
    "                                      k=len(data['tenure'].isna())),    # длина равна числу пропусков\n",
    "                       index=data['tenure'].isna().index                # индекс совпадает с индексами пропусков\n",
    "                       )\n",
    "# присваиваем пропускам сгенерированные значения\n",
    "data.loc[data['tenure'].isna(), 'tenure'] = for_fillna                 "
   ]
  },
  {
   "cell_type": "markdown",
   "metadata": {},
   "source": [
    "### Модификация категориальных переменных\n",
    "\n",
    "Преобразуем категориальные признаки (пол, страна проживания) в дамми-переменные. Наличие кредитной карты, активность клиента также являются категориальными, однако уже представлены в бинарном виде."
   ]
  },
  {
   "cell_type": "code",
   "execution_count": 17,
   "metadata": {},
   "outputs": [
    {
     "data": {
      "text/html": [
       "<div>\n",
       "<style scoped>\n",
       "    .dataframe tbody tr th:only-of-type {\n",
       "        vertical-align: middle;\n",
       "    }\n",
       "\n",
       "    .dataframe tbody tr th {\n",
       "        vertical-align: top;\n",
       "    }\n",
       "\n",
       "    .dataframe thead th {\n",
       "        text-align: right;\n",
       "    }\n",
       "</style>\n",
       "<table border=\"1\" class=\"dataframe\">\n",
       "  <thead>\n",
       "    <tr style=\"text-align: right;\">\n",
       "      <th></th>\n",
       "      <th>credit_score</th>\n",
       "      <th>age</th>\n",
       "      <th>tenure</th>\n",
       "      <th>balance</th>\n",
       "      <th>num_of_products</th>\n",
       "      <th>has_cr_card</th>\n",
       "      <th>is_active_member</th>\n",
       "      <th>estimated_salary</th>\n",
       "      <th>exited</th>\n",
       "      <th>geography_germany</th>\n",
       "      <th>geography_spain</th>\n",
       "      <th>gender_male</th>\n",
       "    </tr>\n",
       "  </thead>\n",
       "  <tbody>\n",
       "    <tr>\n",
       "      <th>0</th>\n",
       "      <td>619</td>\n",
       "      <td>42</td>\n",
       "      <td>2.0</td>\n",
       "      <td>0.00</td>\n",
       "      <td>1</td>\n",
       "      <td>1</td>\n",
       "      <td>1</td>\n",
       "      <td>101348.88</td>\n",
       "      <td>1</td>\n",
       "      <td>0</td>\n",
       "      <td>0</td>\n",
       "      <td>0</td>\n",
       "    </tr>\n",
       "    <tr>\n",
       "      <th>1</th>\n",
       "      <td>608</td>\n",
       "      <td>41</td>\n",
       "      <td>1.0</td>\n",
       "      <td>83807.86</td>\n",
       "      <td>1</td>\n",
       "      <td>0</td>\n",
       "      <td>1</td>\n",
       "      <td>112542.58</td>\n",
       "      <td>0</td>\n",
       "      <td>0</td>\n",
       "      <td>1</td>\n",
       "      <td>0</td>\n",
       "    </tr>\n",
       "    <tr>\n",
       "      <th>2</th>\n",
       "      <td>502</td>\n",
       "      <td>42</td>\n",
       "      <td>8.0</td>\n",
       "      <td>159660.80</td>\n",
       "      <td>3</td>\n",
       "      <td>1</td>\n",
       "      <td>0</td>\n",
       "      <td>113931.57</td>\n",
       "      <td>1</td>\n",
       "      <td>0</td>\n",
       "      <td>0</td>\n",
       "      <td>0</td>\n",
       "    </tr>\n",
       "    <tr>\n",
       "      <th>3</th>\n",
       "      <td>699</td>\n",
       "      <td>39</td>\n",
       "      <td>1.0</td>\n",
       "      <td>0.00</td>\n",
       "      <td>2</td>\n",
       "      <td>0</td>\n",
       "      <td>0</td>\n",
       "      <td>93826.63</td>\n",
       "      <td>0</td>\n",
       "      <td>0</td>\n",
       "      <td>0</td>\n",
       "      <td>0</td>\n",
       "    </tr>\n",
       "    <tr>\n",
       "      <th>4</th>\n",
       "      <td>850</td>\n",
       "      <td>43</td>\n",
       "      <td>2.0</td>\n",
       "      <td>125510.82</td>\n",
       "      <td>1</td>\n",
       "      <td>1</td>\n",
       "      <td>1</td>\n",
       "      <td>79084.10</td>\n",
       "      <td>0</td>\n",
       "      <td>0</td>\n",
       "      <td>1</td>\n",
       "      <td>0</td>\n",
       "    </tr>\n",
       "  </tbody>\n",
       "</table>\n",
       "</div>"
      ],
      "text/plain": [
       "   credit_score  age  tenure    balance  num_of_products  has_cr_card  \\\n",
       "0           619   42     2.0       0.00                1            1   \n",
       "1           608   41     1.0   83807.86                1            0   \n",
       "2           502   42     8.0  159660.80                3            1   \n",
       "3           699   39     1.0       0.00                2            0   \n",
       "4           850   43     2.0  125510.82                1            1   \n",
       "\n",
       "   is_active_member  estimated_salary  exited  geography_germany  \\\n",
       "0                 1         101348.88       1                  0   \n",
       "1                 1         112542.58       0                  0   \n",
       "2                 0         113931.57       1                  0   \n",
       "3                 0          93826.63       0                  0   \n",
       "4                 1          79084.10       0                  0   \n",
       "\n",
       "   geography_spain  gender_male  \n",
       "0                0            0  \n",
       "1                1            0  \n",
       "2                0            0  \n",
       "3                0            0  \n",
       "4                1            0  "
      ]
     },
     "metadata": {},
     "output_type": "display_data"
    }
   ],
   "source": [
    "data_ohe = pd.get_dummies(data, drop_first=True) # убираем одну из дамми-переменных для линейной независимости\n",
    "new_cols = [x.lower() for x in list(data_ohe.columns)] # унифицируем названия признаков после преобразования\n",
    "data_ohe.columns = new_cols\n",
    "\n",
    "display(data_ohe.head())"
   ]
  },
  {
   "cell_type": "markdown",
   "metadata": {},
   "source": [
    "### Вывод\n",
    "\n",
    "Исходный датасет содержит 10 тыс. объектов, содержащих информацию о персональных (пол, возраст, страна проживания) и финансовых (кредитный рейтинг, баланс на карте, оценочный доход) характеристиках клиентов, а также об отношениях клиента с банком (кол-во продуктов, длительность отношений, активность). Целевым признаком является факт разрыва договора с банком. \n",
    "\n",
    "Исходные данные были преобразованы:\n",
    "\n",
    "* Из датасета была удалена избыточная информация (не будет использована для моделирования) - номер строки, ID и фамилия клиента.\n",
    "* В признаке `Tenure` (срок отношений с банком) были выявлены пропуски в размере ок. 9% от размера датасета. Пропуски были случайными значениями.\n",
    "* Категориальные признаки (пол и страна проживания) были преобразованы в дамми-переменные.\n",
    "\n",
    "Объекты распределены по классам неравномерно - на долю положительного класса приходится ок. 20% от общего числа объектов. Соответственно, при подготовке обучающей, валидационной и тестовой выборок необходима стратификация по целевому признаку для сохранения репрезентативности.\n",
    "\n",
    "Согласно первичному анализу, доля ушедших выше среди жителей Германии по сравнению с другими странами, среди женщин (по сравнению с мужчинами) и среди неактивных клиентов (по сравнению с активными). Зависимость между долей ушедших клиентов и финансовыми показателями неочевидна."
   ]
  },
  {
   "cell_type": "markdown",
   "metadata": {},
   "source": [
    "## Исследование моделей\n",
    "\n",
    "На основании подхотовленных выборок обучим три модели: дерево решений, случайный лес и логистическая регрессия. В каждом из типов моделей найдем лучшую в зависимости от гиперпараметров на основании F1-меры (контроль AUC ROC).\n",
    "\n",
    "### Подготовка выборок\n",
    "\n",
    "Разделим исходный датасет на обучающую и тестовую выборки в соотношении 80% :20% (В дальнейшем будет использован GridsearchCV, что позволит не выделять отдельно валидационную выборку). Применим стратификацию по целевому признаку."
   ]
  },
  {
   "cell_type": "code",
   "execution_count": 18,
   "metadata": {},
   "outputs": [
    {
     "name": "stdout",
     "output_type": "stream",
     "text": [
      "Кол-во объектов в обучающей выборке: 8000\n",
      "Кол-во объектов в тестовой выборке: 2000\n"
     ]
    }
   ],
   "source": [
    "# Разделяем признаки и целевой признак:\n",
    "features = data_ohe.drop('exited', axis=1)\n",
    "target = data_ohe['exited']\n",
    "# Отделяем тестовую выборку:\n",
    "features_train, features_test, target_train, target_test = train_test_split(features, \n",
    "                                                                            target, \n",
    "                                                                            test_size = 0.2, \n",
    "                                                                            random_state = 1104, \n",
    "                                                                            stratify=target)\n",
    "\n",
    "print('Кол-во объектов в обучающей выборке:', features_train.shape[0])\n",
    "print('Кол-во объектов в тестовой выборке:', features_test.shape[0])"
   ]
  },
  {
   "cell_type": "markdown",
   "metadata": {},
   "source": [
    "В дальнейшем анализе планируется использовать в т.ч. модель, требовательную к масштабам данных (линейная регрессия). В связи с этим проведем страндартизацию количественных данных."
   ]
  },
  {
   "cell_type": "code",
   "execution_count": 19,
   "metadata": {},
   "outputs": [],
   "source": [
    "numeric = ['credit_score', 'age', 'tenure', 'balance', 'num_of_products', 'estimated_salary']  # признаки для масштабирования\n",
    "warnings.filterwarnings('ignore')\n",
    "# Масштабируем колич.признаки по параметрам обучающей выборки:\n",
    "scaler = StandardScaler()\n",
    "scaler.fit(features_train[numeric])\n",
    "# Трансформируем выборки:\n",
    "features_train[numeric] = scaler.transform(features_train[numeric])\n",
    "features_test[numeric] = scaler.transform(features_test[numeric])"
   ]
  },
  {
   "cell_type": "markdown",
   "metadata": {},
   "source": [
    "### Дерево решений\n",
    "\n",
    "Выберем модель, выдающую наибольшее значение F1-меры на валидационной выборке, в зависимости от гиперпараметров."
   ]
  },
  {
   "cell_type": "code",
   "execution_count": 20,
   "metadata": {},
   "outputs": [
    {
     "name": "stdout",
     "output_type": "stream",
     "text": [
      "Наилучшее значение F1 для дерева решений - 0.5815530983577615, AUC ROC - 0.8429370804480358.\n"
     ]
    }
   ],
   "source": [
    "scores = {'auc' : 'roc_auc', # фиксируем контролируемые метрики\n",
    "        'f1' : make_scorer(f1_score)}\n",
    "\n",
    "params_tree = {'max_depth': range(1, 16), # исследуемые гиперпараметры для дерева решений\n",
    "              'min_samples_leaf': range(1, 51, 10),\n",
    "              'random_state' : [1104]}\n",
    "\n",
    "# Подбираем параметры для наилучшего значения метрики:\n",
    "grid = GridSearchCV(estimator = DecisionTreeClassifier(),\n",
    "                    param_grid = params_tree,\n",
    "                    scoring = scores,\n",
    "                    refit='f1' # максимизируем по метрике F1\n",
    "                    )\n",
    "grid.fit(features_train, target_train)\n",
    "\n",
    "tree_unbalanced = grid.best_estimator_ # сохраняем модель с наилучшим значением F1\n",
    "f1_tree_unbalanced = grid.best_score_ # сохраняем наилучшее значение F1-меры\n",
    "auc_tree_unbalanced = grid.cv_results_['mean_test_auc'][grid.best_index_] # соответствующее значение AUC ROC\n",
    "print('Наилучшее значение F1 для дерева решений - {0}, AUC ROC - {1}.'\n",
    "      .format(f1_tree_unbalanced, auc_tree_unbalanced))"
   ]
  },
  {
   "cell_type": "markdown",
   "metadata": {},
   "source": [
    "Наилучшее значение F1-меры для дерева решений - 0.5809, что меньше минимального требуемого уровня метрики. \n",
    "\n",
    "### Случайный лес\n",
    "\n",
    "Выберем модель, выдающую наибольшее значение F1-меры на валидационной выборке, в зависимости от максимальной глубины и числа деревьев:"
   ]
  },
  {
   "cell_type": "code",
   "execution_count": 21,
   "metadata": {},
   "outputs": [
    {
     "name": "stdout",
     "output_type": "stream",
     "text": [
      "Наилучшее значение F1 для случайного леса - 0.5917531143937523, AUC ROC - 0.8430809387181627.\n",
      "CPU times: total: 1min 8s\n",
      "Wall time: 1min 8s\n"
     ]
    }
   ],
   "source": [
    "%%time\n",
    "\n",
    "params_forest = {'max_depth': range(1, 16), # исследуемые гиперпараметры для случайного леса\n",
    "                 'n_estimators': range(10, 101, 20),\n",
    "                 'random_state': [1104]}\n",
    "\n",
    "# Подбираем параметры для наилучшего значения метрики:\n",
    "grid = GridSearchCV(estimator = RandomForestClassifier(),\n",
    "                    param_grid = params_forest,\n",
    "                    scoring = scores,\n",
    "                    refit='f1', # максимизируем по метрике F1\n",
    "                    cv=3  # для ускорения работы\n",
    "                    )\n",
    "grid.fit(features_train, target_train)\n",
    "\n",
    "forest_unbalanced = grid.best_estimator_ # сохраняем модель с наилучшим значением F1\n",
    "f1_forest_unbalanced = grid.best_score_ # сохраняем наилучшее значение F1-меры\n",
    "auc_forest_unbalanced = grid.cv_results_['mean_test_auc'][grid.best_index_] # соответствующее значение AUC ROC\n",
    "print('Наилучшее значение F1 для случайного леса - {0}, AUC ROC - {1}.'\n",
    "      .format(f1_forest_unbalanced, auc_forest_unbalanced))"
   ]
  },
  {
   "cell_type": "markdown",
   "metadata": {},
   "source": [
    "Максимальное значение F1-меры для случайного леса выше, чем для дерева решений (0.5931 против 0.5809) и выше минимально допустимого значения (0.59), хотя и незначительно. Показатель AUC ROC также выше, чем для дерева решений.\n",
    "\n",
    "### Логистическая регрессия\n",
    "\n",
    "Найдем значения F1-меры и AUC ROC для логистической регрессии:"
   ]
  },
  {
   "cell_type": "code",
   "execution_count": 22,
   "metadata": {},
   "outputs": [
    {
     "name": "stdout",
     "output_type": "stream",
     "text": [
      "Наилучшее значение F1 для логистической регрессии - 0.3314733105494797, AUC ROC - 0.7695437778698075.\n"
     ]
    }
   ],
   "source": [
    "params_logreg = {'solver':['liblinear', 'lbfgs'],\n",
    "                'random_state' : [1104]}\n",
    "# Подбираем параметры для наилучшего значения метрики:\n",
    "grid = GridSearchCV(estimator = LogisticRegression(),\n",
    "                    param_grid = params_logreg,\n",
    "                    scoring = scores,\n",
    "                    refit='f1', # максимизируем по метрике F1\n",
    "                    )\n",
    "grid.fit(features_train, target_train)\n",
    "\n",
    "logreg_unbalanced = grid.best_estimator_ # сохраняем модель с наилучшим значением F1\n",
    "f1_logreg_unbalanced = grid.best_score_ # сохраняем наилучшее значение F1-меры\n",
    "auc_logreg_unbalanced = grid.cv_results_['mean_test_auc'][grid.best_index_] # соответствующее значение AUC ROC\n",
    "print('Наилучшее значение F1 для логистической регрессии - {0}, AUC ROC - {1}.'\n",
    "      .format(f1_logreg_unbalanced, auc_logreg_unbalanced))"
   ]
  },
  {
   "cell_type": "markdown",
   "metadata": {},
   "source": [
    "Значение F1-меры для логистической регрессии практически в два раза ниже, чем для дерева решений и случайного леса. При этом разница в показателе AUC ROC не так значительна - 0.769 против 0.84-0.85. \n",
    "\n",
    "### Вывод\n",
    "\n",
    "Наилучший результат на валидационной выборке показала модель случайного леса  - F1-мера составила 0.5931. Значение F1-меры для дерева решений несколько хуже (0.5809). Логистическая регрессия показала наихудший результат (0.331).\n",
    "\n",
    "Только одна из трех моделей превысила пороговое значение F1-меры, и то превышение несущественно. Необходимо улучшить качество моделей за счет работы с выборкой. При этом значения AUC ROC для всех трех моделей оказывались выше, чем F1-мера. Т.к. AUC ROC не чувстсвительна к применяемому порогу, возможно, качество моделей можно улучшить также изменением порогового значения."
   ]
  },
  {
   "cell_type": "markdown",
   "metadata": {},
   "source": [
    "## Улучшение качества моделей\n",
    "\n",
    "Поскольку классы в выборке несбалансированы, попробуем улучшить качество моделей за счет взвешивания классов, а также за счет увеличения размера выборки (upsampling). Поскольку размер исходного датасета невелик (10 тыс. объектов), а обучающая и валидационная выборки в совокупности состоят всего из 8 тыс. объектов, применять уменьшение выборки (downsampling) представляется нелогичным.\n",
    "\n",
    "### Взвешивание классов\n",
    "\n",
    "Найдем метрики качества лучшей модели дерева решений с учетом веса классов:"
   ]
  },
  {
   "cell_type": "code",
   "execution_count": 23,
   "metadata": {},
   "outputs": [
    {
     "name": "stdout",
     "output_type": "stream",
     "text": [
      "Значение F1 до взвешивания классов - 0.5815530983577615, после взвешивания - 0.5778881205674138.\n",
      "Значение AUC ROC до взвешивания классов - 0.8429370804480358, после взвешивания - 0.8086123123152044.\n"
     ]
    }
   ],
   "source": [
    "# Подбираем параметры для наилучшего значения метрики:\n",
    "grid = GridSearchCV(estimator = DecisionTreeClassifier(class_weight='balanced'), # придание веса классам\n",
    "                    param_grid = params_tree,\n",
    "                    scoring = scores,\n",
    "                    refit = 'f1')\n",
    "grid.fit(features_train, target_train)\n",
    "\n",
    "tree_weighted = grid.best_estimator_ # сохраняем модель с наилучшим значением F1\n",
    "f1_tree_weighted = grid.best_score_ # сохраняем наилучшее значение F1-меры\n",
    "auc_tree_weighted = grid.cv_results_['mean_test_auc'][grid.best_index_] # соответствующее значение AUC ROC\n",
    "print('Значение F1 до взвешивания классов - {0}, после взвешивания - {1}.'\n",
    "      .format(f1_tree_unbalanced, f1_tree_weighted))\n",
    "print('Значение AUC ROC до взвешивания классов - {0}, после взвешивания - {1}.'\n",
    "      .format(auc_tree_unbalanced, auc_tree_weighted))"
   ]
  },
  {
   "cell_type": "markdown",
   "metadata": {},
   "source": [
    "Значения обеих метрик незначительно сократились после придания большего веса положительному классу. Т.е. модель стала предсказывать больше положительного класса, что ухудшило показатель точности и, соответсвенно, F1-меру. \n",
    "\n",
    "Обучим лучшую модель случайного леса с учетом веса классов:"
   ]
  },
  {
   "cell_type": "code",
   "execution_count": 24,
   "metadata": {},
   "outputs": [
    {
     "name": "stdout",
     "output_type": "stream",
     "text": [
      "Значение F1 до взвешивания классов - 0.5917531143937523, после взвешивания - 0.6236031575569173.\n",
      "Значение AUC ROC до взвешивания классов - 0.8430809387181627, после взвешивания - 0.8623751545151026.\n",
      "CPU times: total: 1min 8s\n",
      "Wall time: 1min 9s\n"
     ]
    }
   ],
   "source": [
    "%%time\n",
    "\n",
    "# Подбираем параметры для наилучшего значения метрики:\n",
    "grid = GridSearchCV(estimator = RandomForestClassifier(class_weight='balanced'), # придание веса классам\n",
    "                    param_grid = params_forest,\n",
    "                    scoring = scores,\n",
    "                    refit='f1', # максимизируем по метрике F1\n",
    "                    cv=3  # для ускорения работы\n",
    "                    )\n",
    "grid.fit(features_train, target_train)\n",
    "\n",
    "forest_weighted = grid.best_estimator_ # сохраняем модель с наилучшим значением F1\n",
    "f1_forest_weighted = grid.best_score_ # сохраняем наилучшее значение F1-меры\n",
    "auc_forest_weighted = grid.cv_results_['mean_test_auc'][grid.best_index_] # соответствующее значение AUC ROC\n",
    "\n",
    "print('Значение F1 до взвешивания классов - {0}, после взвешивания - {1}.'\n",
    "      .format(f1_forest_unbalanced, f1_forest_weighted))\n",
    "print('Значение AUC ROC до взвешивания классов - {0}, после взвешивания - {1}.'\n",
    "      .format(auc_forest_unbalanced, auc_forest_weighted))"
   ]
  },
  {
   "cell_type": "markdown",
   "metadata": {},
   "source": [
    "F1-мера выросла до при взвешивании класса до 0.6220; AUC ROC улучшился на ок. 1 п.п.\n",
    "\n",
    "Обучим модель логистической регрессии с учетом веса классов:"
   ]
  },
  {
   "cell_type": "code",
   "execution_count": 25,
   "metadata": {},
   "outputs": [
    {
     "name": "stdout",
     "output_type": "stream",
     "text": [
      "Значение F1 до взвешивания классов - 0.3314733105494797, после взвешивания - 0.49609742041166555.\n",
      "Значение AUC ROC до взвешивания классов - 0.7695437778698075, после взвешивания - 0.7728043647850835.\n"
     ]
    }
   ],
   "source": [
    "# Подбираем параметры для наилучшего значения метрики:\n",
    "grid = GridSearchCV(estimator = LogisticRegression(class_weight='balanced'), # придание веса классам\n",
    "                    param_grid = params_logreg,\n",
    "                    scoring = scores,\n",
    "                    refit='f1', # максимизируем по метрике F1\n",
    "                    )\n",
    "grid.fit(features_train, target_train)\n",
    "\n",
    "logreg_weighted = grid.best_estimator_ # сохраняем модель с наилучшим значением F1\n",
    "f1_logreg_weighted = grid.best_score_ # сохраняем наилучшее значение F1-меры\n",
    "auc_logreg_weighted = grid.cv_results_['mean_test_auc'][grid.best_index_] # соответствующее значение AUC ROC\n",
    "\n",
    "print('Значение F1 до взвешивания классов - {0}, после взвешивания - {1}.'\n",
    "      .format(f1_logreg_unbalanced, f1_logreg_weighted))\n",
    "print('Значение AUC ROC до взвешивания классов - {0}, после взвешивания - {1}.'\n",
    "      .format(auc_logreg_unbalanced, auc_logreg_weighted))"
   ]
  },
  {
   "cell_type": "markdown",
   "metadata": {},
   "source": [
    "Значение F1-меры существенно улучшилось по сравнению с моделью без учета веса классов, однако все еще не превышает порога в 0.59. Значение AUC ROC немного выросло.\n",
    "\n",
    "Таким образом, взвешивание классов во всех моделях привело к увеличению доли ложноположительных ответов. F1-мера существенно выросла для логистической регресии (от 0.331 до 0.496), однако все же недостаточно для преодоления установленного порога в 0.59. Качество случайного леса незначительно выросло, качество дерева решений - незначительно упало.\n",
    "\n",
    "### Увеличение выборки (upsampling)\n",
    "\n",
    "Попробуем увеличить выборку за счет объектов положительного класса и обучим модели. Для этого выделим из обучающей выборки валидационную, чтобы проверять метрики моделей, обученных на увеличенной выборке, на несбалансированных данных:"
   ]
  },
  {
   "cell_type": "code",
   "execution_count": 26,
   "metadata": {},
   "outputs": [
    {
     "name": "stdout",
     "output_type": "stream",
     "text": [
      "Размер новой обучающей выборки: 8444\n",
      "Размер валидационной выборки: 2000\n"
     ]
    }
   ],
   "source": [
    "# Отделяем валидационную выборку:\n",
    "features_edu, features_valid, target_edu, target_valid = train_test_split(features_train, \n",
    "                                                                         target_train, \n",
    "                                                                         test_size = 0.25,    # для сохранения пропрорций \n",
    "                                                                         random_state = 1104, # ...60:20:20\n",
    "                                                                         stratify=target_train)\n",
    "# Разделяем объекты на положительные и отрицательные:\n",
    "features_edu_zeros = features_edu[target_edu == 0]\n",
    "features_edu_ones = features_edu[target_edu == 1]\n",
    "target_edu_zeros = target_edu[target_edu == 0]\n",
    "target_edu_ones = target_edu[target_edu == 1]\n",
    "# Создаем новую выборку с бОльшим числом положительных объектов:\n",
    "features_train_ups = pd.concat([features_edu_zeros] + [features_edu_ones] * 3)\n",
    "target_train_ups = pd.concat([target_edu_zeros] + [target_edu_ones] * 3)\n",
    "\n",
    "# Перемешиваем объекты:\n",
    "features_train_ups, target_train_ups = shuffle(features_train_ups, target_train_ups, random_state=1104)\n",
    "\n",
    "print('Размер новой обучающей выборки:', features_train_ups.shape[0])\n",
    "print('Размер валидационной выборки:', features_valid.shape[0])"
   ]
  },
  {
   "cell_type": "markdown",
   "metadata": {},
   "source": [
    "Обучим модель дерева решений на увеличенной выборке и посчитаем метрики:"
   ]
  },
  {
   "cell_type": "code",
   "execution_count": 27,
   "metadata": {},
   "outputs": [
    {
     "name": "stdout",
     "output_type": "stream",
     "text": [
      "Значение F1 до увеличения выборки - 0.5815530983577615, после - 0.6299892125134844.\n",
      "Значение AUC ROC до увеличения выборки - 0.8429370804480358, после - 0.8536478347620455.\n"
     ]
    }
   ],
   "source": [
    "tree_upsampled = None\n",
    "f1_tree_upsampled = 0\n",
    "auc_tree_upsampled = 0\n",
    "\n",
    "# Подбираем параметры дерева решений для наилучшего значения метрики на валид.выборке:\n",
    "for depth in params_tree['max_depth']:\n",
    "    for leaf in params_tree['min_samples_leaf']:\n",
    "        model = DecisionTreeClassifier(max_depth = depth,\n",
    "                                       min_samples_leaf = leaf,\n",
    "                                       random_state = 1104)\n",
    "        model.fit(features_train_ups, target_train_ups)         # Обучаем модель на увеличенной выборке\n",
    "        f1 = f1_score(target_valid,                             # Находим метрику на несбалансированных данных\n",
    "                     model.predict(features_valid))\n",
    "        if f1 > f1_tree_upsampled:\n",
    "            tree_upsampled = model\n",
    "            f1_tree_upsampled = f1\n",
    "            auc_tree_upsampled = roc_auc_score(target_valid,\n",
    "                                              model.predict_proba(features_valid)[:,1])\n",
    "        \n",
    "print('Значение F1 до увеличения выборки - {0}, после - {1}.'\n",
    "      .format(f1_tree_unbalanced, f1_tree_upsampled))\n",
    "print('Значение AUC ROC до увеличения выборки - {0}, после - {1}.'\n",
    "      .format(auc_tree_unbalanced, auc_tree_upsampled))"
   ]
  },
  {
   "cell_type": "markdown",
   "metadata": {},
   "source": [
    "Увеличение выборки привело к росту F1-меры для дерева решений до 0.6299 (0.5734 при взвешивании классов). AUC ROC незначительно вырос по сравнению с несбалансированными данными. Рассмотрим метрики случайного леса:"
   ]
  },
  {
   "cell_type": "code",
   "execution_count": 28,
   "metadata": {},
   "outputs": [
    {
     "name": "stdout",
     "output_type": "stream",
     "text": [
      "Значение F1 до увеличения выборки - 0.5917531143937523, после - 0.6479532163742691.\n",
      "Значение AUC ROC до увеличения выборки - 0.8430809387181627, после - 0.8724997536703125.\n"
     ]
    }
   ],
   "source": [
    "forest_upsampled = None\n",
    "f1_forest_upsampled = 0\n",
    "auc_forest_upsampled = 0\n",
    "\n",
    "# Подбираем параметры случайного леса для наилучшего значения метрики на валид.выборке:\n",
    "for depth in params_forest['max_depth']:\n",
    "    for est in params_forest['n_estimators']:\n",
    "        model = RandomForestClassifier(max_depth = depth,\n",
    "                                       n_estimators = est,\n",
    "                                       random_state = 1104)\n",
    "        model.fit(features_train_ups, target_train_ups)         # Обучаем модель на увеличенной выборке\n",
    "        f1 = f1_score(target_valid,                             # Находим метрику на несбалансированных данных\n",
    "                     model.predict(features_valid))\n",
    "        if f1 > f1_forest_upsampled:\n",
    "            forest_upsampled = model\n",
    "            f1_forest_upsampled = f1\n",
    "            auc_forest_upsampled = roc_auc_score(target_valid,\n",
    "                                                model.predict_proba(features_valid)[:,1])\n",
    "\n",
    "print('Значение F1 до увеличения выборки - {0}, после - {1}.'\n",
    "      .format(f1_forest_unbalanced, f1_forest_upsampled))\n",
    "print('Значение AUC ROC до увеличения выборки - {0}, после - {1}.'\n",
    "      .format(auc_forest_unbalanced, auc_forest_upsampled))"
   ]
  },
  {
   "cell_type": "markdown",
   "metadata": {},
   "source": [
    "Как и в случае с деревом решений, F1-мера выросла до 0.6497 (0.6220 при взвешивании классов). Показатель AUC ROC также вырос на ок. 2,5 п.п.\n",
    "\n",
    "Оценим модель логистической регрессии:"
   ]
  },
  {
   "cell_type": "code",
   "execution_count": 29,
   "metadata": {},
   "outputs": [
    {
     "name": "stdout",
     "output_type": "stream",
     "text": [
      "Значение F1 до увеличения выборки - 0.3314733105494797, после - 0.5077399380804952.\n",
      "Значение AUC ROC до увеличения выборки - 0.7695437778698075, после - 0.7812284461523303.\n"
     ]
    }
   ],
   "source": [
    "logreg_upsampled = None\n",
    "f1_logreg_upsampled = 0\n",
    "auc_logreg_upsampled = 0\n",
    "\n",
    "# Подбираем параметры логистической регрессии для наилучшего значения метрики на валид.выборке:\n",
    "for alg in params_logreg['solver']:\n",
    "    model = LogisticRegression(solver = alg,\n",
    "                            random_state = 1104)\n",
    "    model.fit(features_train_ups, target_train_ups)         # Обучаем модель на увеличенной выборке\n",
    "    f1 = f1_score(target_valid,                             # Находим метрику на несбалансированных данных\n",
    "                 model.predict(features_valid))\n",
    "    if f1 > f1_logreg_upsampled:\n",
    "        logreg_upsampled = model\n",
    "        f1_logreg_upsampled = f1\n",
    "        auc_logreg_upsampled = roc_auc_score(target_valid,\n",
    "                                            model.predict_proba(features_valid)[:,1])\n",
    "\n",
    "print('Значение F1 до увеличения выборки - {0}, после - {1}.'\n",
    "      .format(f1_logreg_unbalanced, f1_logreg_upsampled))\n",
    "print('Значение AUC ROC до увеличения выборки - {0}, после - {1}.'\n",
    "      .format(auc_logreg_unbalanced, auc_logreg_upsampled))"
   ]
  },
  {
   "cell_type": "markdown",
   "metadata": {},
   "source": [
    "Увеличение выборки привело к росту показателя F1 до 0.5051, но не позволило пересечь порог в 0.59. Показатель AUC ROC, тем не менее, изменился несущественно."
   ]
  },
  {
   "cell_type": "markdown",
   "metadata": {},
   "source": [
    "### Вывод\n",
    "\n",
    "Взвешивание классов привело к различным эффектам для разных моделей:\n",
    "* Качество дерева решений незначительно ухудшилось за счет увеличения доли ложноположительных ответов;\n",
    "* Качество модели случайного леса незначительно выросло, т.к. падение точности было компенсировано ростом полноты при том же значении AUC ROC;\n",
    "* Качество логистической регрессии выросло существенно (от 0.331 до 0.496) при незначительном росте показателя AUC ROC.\n",
    "\n",
    "Увеличение выборки улучшило показатели всех моделей: на 4-5 п.п. для дерева решений и случайного леса и на 27 п.п. для логистической регрессии.\n",
    "\n",
    "Тем не менее, в каждом из случаев наилучший результат демонстрировала модель случайного леса. В результате наилучший показатель F1-меры достигла модель случайного леса c 90 деревьями и глубиной дерева 8.\n",
    "Проверим качество этой модели на тестовой выборке."
   ]
  },
  {
   "cell_type": "markdown",
   "metadata": {},
   "source": [
    "## Тестирование модели\n",
    "\n",
    "Рассчитаем F1-меру для выбранной ранее модели на тестовой выборке:"
   ]
  },
  {
   "cell_type": "code",
   "execution_count": 30,
   "metadata": {},
   "outputs": [
    {
     "name": "stdout",
     "output_type": "stream",
     "text": [
      "Значение F1 для случайного леса на тестовой выборке: 0.5903614457831325\n"
     ]
    }
   ],
   "source": [
    "probabilities_one_test = forest_upsampled.predict_proba(features_test)[:, 1]\n",
    "\n",
    "predicted_test = forest_upsampled.predict(features_test)\n",
    "f1_test = f1_score(target_test, predicted_test)\n",
    "\n",
    "print('Значение F1 для случайного леса на тестовой выборке:', f1_test)"
   ]
  },
  {
   "cell_type": "markdown",
   "metadata": {},
   "source": [
    "Удалось достичь значения F1-меры на тестовой выборке выше минимального порога в 0.59.\n",
    "\n",
    "## Общий вывод\n",
    "\n",
    "Цель проекта заключалась в создании модели, предсказывающей факт ухода клиента из банка в зависимости от его персональных и финансовых характеристик, а также отношений с банком. Требованием к качеству модели являлось достижение F1-меры не ниже 0.59.\n",
    "\n",
    "Исходные данные для обучения и тестирования модели содержали 10 тыс. объектов, ок. 20% из которых принадлежат к положительному классу (т.е. клиент разорвал отношения с банком). В результате предобработки данных:\n",
    "* Были удалены нерелевантные данные;\n",
    "* Устранены пропуски в признаке `tenure` - срок отношений с банком;\n",
    "* Категориальные переменные (пол клиента, страна проживания) были преобразованы в дамми-переменные.\n",
    "\n",
    "На основании подготовленных данных были сформированы обучающая и тестовая выборки с учетом дисбаланса классов. Количественные признаки были стандартизованы на основе обучающей выборки.\n",
    "\n",
    "Были исследованы три типа моделей: дерево решений, случайный лес и логистическая регрессия. Модели без учета дисбаланса классов показали неудовлетворительные результаты - только у случайного леса F1-мера оказалась выше 0.59, хотя превышение минимально.\n",
    "\n",
    "Для улучшения качества моделей были применены два метода -  взвешиване классов и увеличение обучающей выборки за счет положительных объектов. Метод увеличения выборки оказался более эффективным - в результате две из трех моделей превысили минимально требуемый уровень F1-меры. Модель логистической регрессии не достигла требуемого уровня F1-меры даже после улучшений.\n",
    "\n",
    "Наивысший результат показала модель случайного леса c 90 деревьями и глубиной дерева 8 (F1-мера при валидации - 0.6497). Проверка модели на тестовой выборке привела к значению F1-меры 0.6057, что выше заданного порога. Таким образом, данная модель можеть быть использована в дальнейшем."
   ]
  }
 ],
 "metadata": {
  "ExecuteTimeLog": [
   {
    "duration": 1165,
    "start_time": "2022-09-14T08:21:18.959Z"
   },
   {
    "duration": 4,
    "start_time": "2022-09-14T08:23:15.927Z"
   },
   {
    "duration": 153,
    "start_time": "2022-09-14T08:24:21.450Z"
   },
   {
    "duration": 54,
    "start_time": "2022-09-14T08:43:28.391Z"
   },
   {
    "duration": 11,
    "start_time": "2022-09-14T09:19:33.207Z"
   },
   {
    "duration": 56,
    "start_time": "2022-09-14T09:22:40.489Z"
   },
   {
    "duration": 63,
    "start_time": "2022-09-14T09:24:49.308Z"
   },
   {
    "duration": 516,
    "start_time": "2022-09-14T09:28:33.510Z"
   },
   {
    "duration": 46,
    "start_time": "2022-09-14T09:30:27.872Z"
   },
   {
    "duration": 45,
    "start_time": "2022-09-14T09:30:31.535Z"
   },
   {
    "duration": 145,
    "start_time": "2022-09-14T09:31:13.809Z"
   },
   {
    "duration": 17,
    "start_time": "2022-09-14T09:33:19.945Z"
   },
   {
    "duration": 3,
    "start_time": "2022-09-14T09:33:25.953Z"
   },
   {
    "duration": 4,
    "start_time": "2022-09-14T09:33:29.098Z"
   },
   {
    "duration": 9,
    "start_time": "2022-09-14T09:34:42.082Z"
   },
   {
    "duration": 8,
    "start_time": "2022-09-14T09:34:55.795Z"
   },
   {
    "duration": 3,
    "start_time": "2022-09-14T09:38:19.638Z"
   },
   {
    "duration": 3,
    "start_time": "2022-09-14T09:38:37.910Z"
   },
   {
    "duration": 58,
    "start_time": "2022-09-14T09:39:58.719Z"
   },
   {
    "duration": 9,
    "start_time": "2022-09-14T09:40:41.351Z"
   },
   {
    "duration": 4,
    "start_time": "2022-09-14T09:43:54.723Z"
   },
   {
    "duration": 406,
    "start_time": "2022-09-14T09:45:24.802Z"
   },
   {
    "duration": 9,
    "start_time": "2022-09-14T09:45:59.072Z"
   },
   {
    "duration": 13,
    "start_time": "2022-09-14T09:46:11.979Z"
   },
   {
    "duration": 17,
    "start_time": "2022-09-14T09:54:12.910Z"
   },
   {
    "duration": 2044,
    "start_time": "2022-09-14T09:54:27.649Z"
   },
   {
    "duration": 13,
    "start_time": "2022-09-14T09:55:06.977Z"
   },
   {
    "duration": 7,
    "start_time": "2022-09-14T09:57:19.226Z"
   },
   {
    "duration": 24,
    "start_time": "2022-09-14T09:58:11.963Z"
   },
   {
    "duration": 14,
    "start_time": "2022-09-14T09:59:18.373Z"
   },
   {
    "duration": 14,
    "start_time": "2022-09-14T09:59:25.426Z"
   },
   {
    "duration": 1258,
    "start_time": "2022-09-14T09:59:38.912Z"
   },
   {
    "duration": 69,
    "start_time": "2022-09-14T09:59:40.172Z"
   },
   {
    "duration": 10,
    "start_time": "2022-09-14T09:59:40.243Z"
   },
   {
    "duration": 111,
    "start_time": "2022-09-14T10:31:13.223Z"
   },
   {
    "duration": 16,
    "start_time": "2022-09-14T10:31:54.924Z"
   },
   {
    "duration": 1146,
    "start_time": "2022-09-14T10:32:06.147Z"
   },
   {
    "duration": 80,
    "start_time": "2022-09-14T10:32:07.295Z"
   },
   {
    "duration": 9,
    "start_time": "2022-09-14T10:32:07.376Z"
   },
   {
    "duration": 134,
    "start_time": "2022-09-14T10:32:07.387Z"
   },
   {
    "duration": 12,
    "start_time": "2022-09-14T10:32:20.039Z"
   },
   {
    "duration": 16,
    "start_time": "2022-09-14T10:32:27.207Z"
   },
   {
    "duration": 6,
    "start_time": "2022-09-14T10:40:47.283Z"
   },
   {
    "duration": 426,
    "start_time": "2022-09-14T10:43:47.255Z"
   },
   {
    "duration": 250,
    "start_time": "2022-09-14T10:44:07.151Z"
   },
   {
    "duration": 229,
    "start_time": "2022-09-14T10:53:44.357Z"
   },
   {
    "duration": 192,
    "start_time": "2022-09-14T10:57:00.427Z"
   },
   {
    "duration": 152,
    "start_time": "2022-09-14T11:04:47.944Z"
   },
   {
    "duration": 138,
    "start_time": "2022-09-14T11:05:27.639Z"
   },
   {
    "duration": 148,
    "start_time": "2022-09-14T11:12:54.766Z"
   },
   {
    "duration": 206,
    "start_time": "2022-09-14T11:13:26.367Z"
   },
   {
    "duration": 65,
    "start_time": "2022-09-14T11:26:01.304Z"
   },
   {
    "duration": 127,
    "start_time": "2022-09-14T11:26:38.933Z"
   },
   {
    "duration": 119,
    "start_time": "2022-09-14T11:27:15.561Z"
   },
   {
    "duration": 126,
    "start_time": "2022-09-14T11:27:40.993Z"
   },
   {
    "duration": 1161,
    "start_time": "2022-09-14T11:29:20.987Z"
   },
   {
    "duration": 62,
    "start_time": "2022-09-14T11:29:22.150Z"
   },
   {
    "duration": 20,
    "start_time": "2022-09-14T11:29:22.215Z"
   },
   {
    "duration": 27,
    "start_time": "2022-09-14T11:29:22.237Z"
   },
   {
    "duration": 474,
    "start_time": "2022-09-14T11:29:22.266Z"
   },
   {
    "duration": 109,
    "start_time": "2022-09-14T11:33:23.843Z"
   },
   {
    "duration": 166,
    "start_time": "2022-09-14T11:33:56.545Z"
   },
   {
    "duration": 160,
    "start_time": "2022-09-14T11:36:41.386Z"
   },
   {
    "duration": 213,
    "start_time": "2022-09-14T11:38:44.543Z"
   },
   {
    "duration": 123,
    "start_time": "2022-09-14T11:42:45.161Z"
   },
   {
    "duration": 258,
    "start_time": "2022-09-14T11:48:20.355Z"
   },
   {
    "duration": 106,
    "start_time": "2022-09-14T11:48:30.646Z"
   },
   {
    "duration": 118,
    "start_time": "2022-09-14T11:51:38.300Z"
   },
   {
    "duration": 210,
    "start_time": "2022-09-14T11:51:59.948Z"
   },
   {
    "duration": 95,
    "start_time": "2022-09-14T11:58:45.779Z"
   },
   {
    "duration": 111,
    "start_time": "2022-09-14T12:00:09.053Z"
   },
   {
    "duration": 107,
    "start_time": "2022-09-14T12:00:17.197Z"
   },
   {
    "duration": 1420,
    "start_time": "2022-09-14T12:03:33.440Z"
   },
   {
    "duration": 84,
    "start_time": "2022-09-14T12:03:34.864Z"
   },
   {
    "duration": 25,
    "start_time": "2022-09-14T12:03:34.949Z"
   },
   {
    "duration": 21,
    "start_time": "2022-09-14T12:03:34.976Z"
   },
   {
    "duration": 599,
    "start_time": "2022-09-14T12:03:35.000Z"
   },
   {
    "duration": 170,
    "start_time": "2022-09-14T12:03:35.606Z"
   },
   {
    "duration": 477,
    "start_time": "2022-09-14T12:03:35.777Z"
   },
   {
    "duration": 115,
    "start_time": "2022-09-14T12:07:03.551Z"
   },
   {
    "duration": 346,
    "start_time": "2022-09-14T12:10:34.539Z"
   },
   {
    "duration": 349,
    "start_time": "2022-09-14T12:10:56.849Z"
   },
   {
    "duration": 234,
    "start_time": "2022-09-14T12:11:46.299Z"
   },
   {
    "duration": 125,
    "start_time": "2022-09-14T12:15:25.082Z"
   },
   {
    "duration": 114,
    "start_time": "2022-09-14T12:20:07.485Z"
   },
   {
    "duration": 123,
    "start_time": "2022-09-14T12:25:38.330Z"
   },
   {
    "duration": 153,
    "start_time": "2022-09-14T12:25:53.623Z"
   },
   {
    "duration": 167,
    "start_time": "2022-09-14T12:26:30.070Z"
   },
   {
    "duration": 118,
    "start_time": "2022-09-14T12:31:09.036Z"
   },
   {
    "duration": 189,
    "start_time": "2022-09-14T12:41:29.701Z"
   },
   {
    "duration": 144,
    "start_time": "2022-09-14T12:42:08.393Z"
   },
   {
    "duration": 97,
    "start_time": "2022-09-14T12:42:55.836Z"
   },
   {
    "duration": 110,
    "start_time": "2022-09-14T12:43:28.954Z"
   },
   {
    "duration": 105,
    "start_time": "2022-09-14T12:45:59.188Z"
   },
   {
    "duration": 111,
    "start_time": "2022-09-14T12:49:11.440Z"
   },
   {
    "duration": 100,
    "start_time": "2022-09-14T12:50:30.791Z"
   },
   {
    "duration": 170,
    "start_time": "2022-09-14T12:50:49.136Z"
   },
   {
    "duration": 91,
    "start_time": "2022-09-14T12:52:24.968Z"
   },
   {
    "duration": 102,
    "start_time": "2022-09-14T12:52:35.634Z"
   },
   {
    "duration": 132,
    "start_time": "2022-09-14T12:52:54.533Z"
   },
   {
    "duration": 111,
    "start_time": "2022-09-14T13:02:28.585Z"
   },
   {
    "duration": 197,
    "start_time": "2022-09-14T13:05:46.992Z"
   },
   {
    "duration": 114,
    "start_time": "2022-09-14T13:06:01.523Z"
   },
   {
    "duration": 161,
    "start_time": "2022-09-14T13:06:53.018Z"
   },
   {
    "duration": 91,
    "start_time": "2022-09-14T13:09:02.168Z"
   },
   {
    "duration": 92,
    "start_time": "2022-09-14T13:09:29.675Z"
   },
   {
    "duration": 133,
    "start_time": "2022-09-14T13:14:24.420Z"
   },
   {
    "duration": 84,
    "start_time": "2022-09-14T13:15:57.969Z"
   },
   {
    "duration": 99,
    "start_time": "2022-09-14T13:22:02.931Z"
   },
   {
    "duration": 14,
    "start_time": "2022-09-14T13:26:03.528Z"
   },
   {
    "duration": 13,
    "start_time": "2022-09-14T13:26:50.027Z"
   },
   {
    "duration": 17,
    "start_time": "2022-09-14T13:27:14.060Z"
   },
   {
    "duration": 9,
    "start_time": "2022-09-14T13:31:39.314Z"
   },
   {
    "duration": 6,
    "start_time": "2022-09-14T13:32:02.191Z"
   },
   {
    "duration": 6,
    "start_time": "2022-09-14T13:32:12.079Z"
   },
   {
    "duration": 6,
    "start_time": "2022-09-14T13:32:36.616Z"
   },
   {
    "duration": 9,
    "start_time": "2022-09-14T13:32:47.783Z"
   },
   {
    "duration": 13,
    "start_time": "2022-09-14T13:32:53.649Z"
   },
   {
    "duration": 26,
    "start_time": "2022-09-14T13:40:56.379Z"
   },
   {
    "duration": 34,
    "start_time": "2022-09-14T13:42:15.783Z"
   },
   {
    "duration": 10,
    "start_time": "2022-09-14T13:42:55.539Z"
   },
   {
    "duration": 9,
    "start_time": "2022-09-14T13:43:27.666Z"
   },
   {
    "duration": 1186,
    "start_time": "2022-09-14T13:45:22.317Z"
   },
   {
    "duration": 61,
    "start_time": "2022-09-14T13:45:23.505Z"
   },
   {
    "duration": 17,
    "start_time": "2022-09-14T13:45:23.569Z"
   },
   {
    "duration": 7,
    "start_time": "2022-09-14T13:45:23.588Z"
   },
   {
    "duration": 434,
    "start_time": "2022-09-14T13:45:23.596Z"
   },
   {
    "duration": 117,
    "start_time": "2022-09-14T13:45:24.031Z"
   },
   {
    "duration": 174,
    "start_time": "2022-09-14T13:45:24.150Z"
   },
   {
    "duration": 100,
    "start_time": "2022-09-14T13:45:24.325Z"
   },
   {
    "duration": 102,
    "start_time": "2022-09-14T13:45:24.427Z"
   },
   {
    "duration": 127,
    "start_time": "2022-09-14T13:45:24.532Z"
   },
   {
    "duration": 106,
    "start_time": "2022-09-14T13:45:24.661Z"
   },
   {
    "duration": 96,
    "start_time": "2022-09-14T13:45:24.769Z"
   },
   {
    "duration": 178,
    "start_time": "2022-09-14T13:45:24.866Z"
   },
   {
    "duration": 96,
    "start_time": "2022-09-14T13:45:25.045Z"
   },
   {
    "duration": 14,
    "start_time": "2022-09-14T13:45:25.142Z"
   },
   {
    "duration": 8,
    "start_time": "2022-09-14T13:45:25.157Z"
   },
   {
    "duration": 1229,
    "start_time": "2022-09-14T13:48:23.170Z"
   },
   {
    "duration": 84,
    "start_time": "2022-09-14T13:48:24.402Z"
   },
   {
    "duration": 27,
    "start_time": "2022-09-14T13:48:24.488Z"
   },
   {
    "duration": 17,
    "start_time": "2022-09-14T13:48:24.517Z"
   },
   {
    "duration": 508,
    "start_time": "2022-09-14T13:48:24.537Z"
   },
   {
    "duration": 114,
    "start_time": "2022-09-14T13:48:25.047Z"
   },
   {
    "duration": 189,
    "start_time": "2022-09-14T13:48:25.163Z"
   },
   {
    "duration": 104,
    "start_time": "2022-09-14T13:48:25.354Z"
   },
   {
    "duration": 100,
    "start_time": "2022-09-14T13:48:25.460Z"
   },
   {
    "duration": 123,
    "start_time": "2022-09-14T13:48:25.562Z"
   },
   {
    "duration": 108,
    "start_time": "2022-09-14T13:48:25.687Z"
   },
   {
    "duration": 176,
    "start_time": "2022-09-14T13:48:25.797Z"
   },
   {
    "duration": 86,
    "start_time": "2022-09-14T13:48:25.974Z"
   },
   {
    "duration": 102,
    "start_time": "2022-09-14T13:48:26.063Z"
   },
   {
    "duration": 15,
    "start_time": "2022-09-14T13:48:26.167Z"
   },
   {
    "duration": 20,
    "start_time": "2022-09-14T13:48:26.184Z"
   },
   {
    "duration": 1118,
    "start_time": "2022-09-16T07:51:41.207Z"
   },
   {
    "duration": 182,
    "start_time": "2022-09-16T07:51:42.327Z"
   },
   {
    "duration": 16,
    "start_time": "2022-09-16T07:51:42.510Z"
   },
   {
    "duration": 6,
    "start_time": "2022-09-16T07:51:42.527Z"
   },
   {
    "duration": 481,
    "start_time": "2022-09-16T07:51:42.535Z"
   },
   {
    "duration": 170,
    "start_time": "2022-09-16T07:51:43.018Z"
   },
   {
    "duration": 150,
    "start_time": "2022-09-16T07:51:43.190Z"
   },
   {
    "duration": 86,
    "start_time": "2022-09-16T07:51:43.341Z"
   },
   {
    "duration": 85,
    "start_time": "2022-09-16T07:51:43.428Z"
   },
   {
    "duration": 105,
    "start_time": "2022-09-16T07:51:43.514Z"
   },
   {
    "duration": 108,
    "start_time": "2022-09-16T07:51:43.620Z"
   },
   {
    "duration": 97,
    "start_time": "2022-09-16T07:51:43.729Z"
   },
   {
    "duration": 153,
    "start_time": "2022-09-16T07:51:43.827Z"
   },
   {
    "duration": 71,
    "start_time": "2022-09-16T07:51:43.983Z"
   },
   {
    "duration": 31,
    "start_time": "2022-09-16T07:51:44.056Z"
   },
   {
    "duration": 4,
    "start_time": "2022-09-16T07:51:44.089Z"
   },
   {
    "duration": 16,
    "start_time": "2022-09-16T07:56:06.910Z"
   },
   {
    "duration": 16,
    "start_time": "2022-09-16T07:56:19.304Z"
   },
   {
    "duration": 16,
    "start_time": "2022-09-16T07:56:31.719Z"
   },
   {
    "duration": 16,
    "start_time": "2022-09-16T07:56:39.208Z"
   },
   {
    "duration": 17,
    "start_time": "2022-09-16T07:56:58.216Z"
   },
   {
    "duration": 8,
    "start_time": "2022-09-16T07:58:08.193Z"
   },
   {
    "duration": 1096,
    "start_time": "2022-09-16T07:58:14.538Z"
   },
   {
    "duration": 60,
    "start_time": "2022-09-16T07:58:15.635Z"
   },
   {
    "duration": 16,
    "start_time": "2022-09-16T07:58:15.696Z"
   },
   {
    "duration": 7,
    "start_time": "2022-09-16T07:58:15.714Z"
   },
   {
    "duration": 429,
    "start_time": "2022-09-16T07:58:15.723Z"
   },
   {
    "duration": 78,
    "start_time": "2022-09-16T07:58:16.153Z"
   },
   {
    "duration": 173,
    "start_time": "2022-09-16T07:58:16.233Z"
   },
   {
    "duration": 87,
    "start_time": "2022-09-16T07:58:16.408Z"
   },
   {
    "duration": 103,
    "start_time": "2022-09-16T07:58:16.496Z"
   },
   {
    "duration": 109,
    "start_time": "2022-09-16T07:58:16.601Z"
   },
   {
    "duration": 109,
    "start_time": "2022-09-16T07:58:16.712Z"
   },
   {
    "duration": 164,
    "start_time": "2022-09-16T07:58:16.822Z"
   },
   {
    "duration": 89,
    "start_time": "2022-09-16T07:58:16.988Z"
   },
   {
    "duration": 74,
    "start_time": "2022-09-16T07:58:17.081Z"
   },
   {
    "duration": 34,
    "start_time": "2022-09-16T07:58:17.156Z"
   },
   {
    "duration": 7,
    "start_time": "2022-09-16T07:58:17.192Z"
   },
   {
    "duration": 1294,
    "start_time": "2022-09-16T08:15:50.617Z"
   },
   {
    "duration": 16,
    "start_time": "2022-09-16T08:20:20.315Z"
   },
   {
    "duration": 1637,
    "start_time": "2022-09-16T08:20:42.288Z"
   },
   {
    "duration": 11,
    "start_time": "2022-09-16T08:21:35.374Z"
   },
   {
    "duration": 94,
    "start_time": "2022-09-16T08:23:42.807Z"
   },
   {
    "duration": 15,
    "start_time": "2022-09-16T08:36:25.811Z"
   },
   {
    "duration": 19,
    "start_time": "2022-09-16T08:45:30.480Z"
   },
   {
    "duration": 16,
    "start_time": "2022-09-16T08:46:15.945Z"
   },
   {
    "duration": 14,
    "start_time": "2022-09-16T08:46:27.946Z"
   },
   {
    "duration": 16,
    "start_time": "2022-09-16T08:46:32.297Z"
   },
   {
    "duration": 15,
    "start_time": "2022-09-16T08:48:51.187Z"
   },
   {
    "duration": 17,
    "start_time": "2022-09-16T08:49:43.620Z"
   },
   {
    "duration": 16,
    "start_time": "2022-09-16T08:50:02.572Z"
   },
   {
    "duration": 1110,
    "start_time": "2022-09-16T08:50:11.210Z"
   },
   {
    "duration": 61,
    "start_time": "2022-09-16T08:50:12.322Z"
   },
   {
    "duration": 16,
    "start_time": "2022-09-16T08:50:12.385Z"
   },
   {
    "duration": 5,
    "start_time": "2022-09-16T08:50:12.403Z"
   },
   {
    "duration": 473,
    "start_time": "2022-09-16T08:50:12.410Z"
   },
   {
    "duration": 129,
    "start_time": "2022-09-16T08:50:12.885Z"
   },
   {
    "duration": 158,
    "start_time": "2022-09-16T08:50:13.016Z"
   },
   {
    "duration": 71,
    "start_time": "2022-09-16T08:50:13.177Z"
   },
   {
    "duration": 99,
    "start_time": "2022-09-16T08:50:13.249Z"
   },
   {
    "duration": 101,
    "start_time": "2022-09-16T08:50:13.351Z"
   },
   {
    "duration": 96,
    "start_time": "2022-09-16T08:50:13.454Z"
   },
   {
    "duration": 87,
    "start_time": "2022-09-16T08:50:13.552Z"
   },
   {
    "duration": 148,
    "start_time": "2022-09-16T08:50:13.640Z"
   },
   {
    "duration": 74,
    "start_time": "2022-09-16T08:50:13.790Z"
   },
   {
    "duration": 13,
    "start_time": "2022-09-16T08:50:13.877Z"
   },
   {
    "duration": 102,
    "start_time": "2022-09-16T08:50:13.891Z"
   },
   {
    "duration": 18,
    "start_time": "2022-09-16T08:50:13.994Z"
   },
   {
    "duration": 14,
    "start_time": "2022-09-16T08:50:14.014Z"
   },
   {
    "duration": 1085,
    "start_time": "2022-09-16T08:53:52.523Z"
   },
   {
    "duration": 62,
    "start_time": "2022-09-16T08:53:53.610Z"
   },
   {
    "duration": 19,
    "start_time": "2022-09-16T08:53:53.674Z"
   },
   {
    "duration": 7,
    "start_time": "2022-09-16T08:53:53.695Z"
   },
   {
    "duration": 464,
    "start_time": "2022-09-16T08:53:53.705Z"
   },
   {
    "duration": 142,
    "start_time": "2022-09-16T08:53:54.171Z"
   },
   {
    "duration": 160,
    "start_time": "2022-09-16T08:53:54.314Z"
   },
   {
    "duration": 72,
    "start_time": "2022-09-16T08:53:54.475Z"
   },
   {
    "duration": 101,
    "start_time": "2022-09-16T08:53:54.548Z"
   },
   {
    "duration": 103,
    "start_time": "2022-09-16T08:53:54.650Z"
   },
   {
    "duration": 98,
    "start_time": "2022-09-16T08:53:54.755Z"
   },
   {
    "duration": 78,
    "start_time": "2022-09-16T08:53:54.876Z"
   },
   {
    "duration": 178,
    "start_time": "2022-09-16T08:53:54.956Z"
   },
   {
    "duration": 110,
    "start_time": "2022-09-16T08:53:55.137Z"
   },
   {
    "duration": 14,
    "start_time": "2022-09-16T08:53:55.249Z"
   },
   {
    "duration": 112,
    "start_time": "2022-09-16T08:53:55.278Z"
   },
   {
    "duration": 24,
    "start_time": "2022-09-16T08:53:55.391Z"
   },
   {
    "duration": 20,
    "start_time": "2022-09-16T08:53:55.417Z"
   },
   {
    "duration": 4,
    "start_time": "2022-09-16T09:00:32.266Z"
   },
   {
    "duration": 89,
    "start_time": "2022-09-16T09:02:36.838Z"
   },
   {
    "duration": 31,
    "start_time": "2022-09-16T09:02:42.638Z"
   },
   {
    "duration": 1150,
    "start_time": "2022-09-16T09:04:15.395Z"
   },
   {
    "duration": 70,
    "start_time": "2022-09-16T09:04:16.547Z"
   },
   {
    "duration": 21,
    "start_time": "2022-09-16T09:04:16.618Z"
   },
   {
    "duration": 8,
    "start_time": "2022-09-16T09:04:16.641Z"
   },
   {
    "duration": 493,
    "start_time": "2022-09-16T09:04:16.650Z"
   },
   {
    "duration": 155,
    "start_time": "2022-09-16T09:04:17.145Z"
   },
   {
    "duration": 163,
    "start_time": "2022-09-16T09:04:17.302Z"
   },
   {
    "duration": 113,
    "start_time": "2022-09-16T09:04:17.466Z"
   },
   {
    "duration": 145,
    "start_time": "2022-09-16T09:04:17.581Z"
   },
   {
    "duration": 137,
    "start_time": "2022-09-16T09:04:17.729Z"
   },
   {
    "duration": 128,
    "start_time": "2022-09-16T09:04:17.868Z"
   },
   {
    "duration": 199,
    "start_time": "2022-09-16T09:04:17.998Z"
   },
   {
    "duration": 97,
    "start_time": "2022-09-16T09:04:18.199Z"
   },
   {
    "duration": 99,
    "start_time": "2022-09-16T09:04:18.298Z"
   },
   {
    "duration": 16,
    "start_time": "2022-09-16T09:04:18.399Z"
   },
   {
    "duration": 114,
    "start_time": "2022-09-16T09:04:18.417Z"
   },
   {
    "duration": 19,
    "start_time": "2022-09-16T09:04:18.532Z"
   },
   {
    "duration": 35,
    "start_time": "2022-09-16T09:04:18.553Z"
   },
   {
    "duration": 25,
    "start_time": "2022-09-16T09:04:18.597Z"
   },
   {
    "duration": 327,
    "start_time": "2022-09-16T09:18:16.662Z"
   },
   {
    "duration": 163,
    "start_time": "2022-09-16T09:19:49.292Z"
   },
   {
    "duration": 315,
    "start_time": "2022-09-16T09:19:58.240Z"
   },
   {
    "duration": 343,
    "start_time": "2022-09-16T09:21:13.793Z"
   },
   {
    "duration": 300,
    "start_time": "2022-09-16T09:26:21.236Z"
   },
   {
    "duration": 15,
    "start_time": "2022-09-16T09:35:53.122Z"
   },
   {
    "duration": 722,
    "start_time": "2022-09-16T09:38:43.660Z"
   },
   {
    "duration": 23,
    "start_time": "2022-09-16T09:39:05.832Z"
   },
   {
    "duration": 8002,
    "start_time": "2022-09-16T09:40:39.193Z"
   },
   {
    "duration": 7960,
    "start_time": "2022-09-16T09:43:09.153Z"
   },
   {
    "duration": 78,
    "start_time": "2022-09-16T09:44:11.266Z"
   },
   {
    "duration": 748,
    "start_time": "2022-09-16T09:44:51.690Z"
   },
   {
    "duration": 8051,
    "start_time": "2022-09-16T09:45:08.002Z"
   },
   {
    "duration": 7966,
    "start_time": "2022-09-16T09:45:57.059Z"
   },
   {
    "duration": 8002,
    "start_time": "2022-09-16T09:46:22.876Z"
   },
   {
    "duration": 7881,
    "start_time": "2022-09-16T09:46:45.867Z"
   },
   {
    "duration": 383,
    "start_time": "2022-09-16T11:42:15.825Z"
   },
   {
    "duration": 316,
    "start_time": "2022-09-16T11:43:18.450Z"
   },
   {
    "duration": 359,
    "start_time": "2022-09-16T11:45:02.188Z"
   },
   {
    "duration": 342,
    "start_time": "2022-09-16T11:45:51.660Z"
   },
   {
    "duration": 374,
    "start_time": "2022-09-16T11:46:04.596Z"
   },
   {
    "duration": 331,
    "start_time": "2022-09-16T11:46:19.932Z"
   },
   {
    "duration": 355,
    "start_time": "2022-09-16T11:46:39.300Z"
   },
   {
    "duration": 362,
    "start_time": "2022-09-16T11:47:19.997Z"
   },
   {
    "duration": 347,
    "start_time": "2022-09-16T11:47:45.702Z"
   },
   {
    "duration": 348,
    "start_time": "2022-09-16T11:48:40.277Z"
   },
   {
    "duration": 8398,
    "start_time": "2022-09-16T11:59:41.983Z"
   },
   {
    "duration": 7997,
    "start_time": "2022-09-16T12:00:49.963Z"
   },
   {
    "duration": 8280,
    "start_time": "2022-09-16T12:02:16.355Z"
   },
   {
    "duration": 8003,
    "start_time": "2022-09-16T12:02:58.254Z"
   },
   {
    "duration": 42,
    "start_time": "2022-09-16T12:03:17.388Z"
   },
   {
    "duration": 5,
    "start_time": "2022-09-16T12:04:41.693Z"
   },
   {
    "duration": 5,
    "start_time": "2022-09-16T12:05:00.565Z"
   },
   {
    "duration": 13,
    "start_time": "2022-09-16T12:05:11.798Z"
   },
   {
    "duration": 12,
    "start_time": "2022-09-16T12:05:43.248Z"
   },
   {
    "duration": 7069,
    "start_time": "2022-09-16T12:05:48.766Z"
   },
   {
    "duration": 90,
    "start_time": "2022-09-16T12:06:59.710Z"
   },
   {
    "duration": 15,
    "start_time": "2022-09-16T12:07:56.375Z"
   },
   {
    "duration": 8,
    "start_time": "2022-09-16T12:08:02.591Z"
   },
   {
    "duration": 5,
    "start_time": "2022-09-16T12:10:34.592Z"
   },
   {
    "duration": 12,
    "start_time": "2022-09-16T12:11:46.234Z"
   },
   {
    "duration": 47,
    "start_time": "2022-09-16T12:12:18.741Z"
   },
   {
    "duration": 4,
    "start_time": "2022-09-16T12:14:05.952Z"
   },
   {
    "duration": 349,
    "start_time": "2022-09-16T12:17:48.913Z"
   },
   {
    "duration": 12,
    "start_time": "2022-09-16T12:21:46.120Z"
   },
   {
    "duration": 35,
    "start_time": "2022-09-16T12:21:52.009Z"
   },
   {
    "duration": 13,
    "start_time": "2022-09-16T12:22:31.905Z"
   },
   {
    "duration": 5,
    "start_time": "2022-09-16T12:22:40.213Z"
   },
   {
    "duration": 6,
    "start_time": "2022-09-16T12:22:51.081Z"
   },
   {
    "duration": 28,
    "start_time": "2022-09-16T12:26:58.477Z"
   },
   {
    "duration": 7,
    "start_time": "2022-09-16T12:27:10.254Z"
   },
   {
    "duration": 16,
    "start_time": "2022-09-16T12:27:26.454Z"
   },
   {
    "duration": 10,
    "start_time": "2022-09-16T12:27:33.749Z"
   },
   {
    "duration": 12,
    "start_time": "2022-09-16T12:30:55.922Z"
   },
   {
    "duration": 19,
    "start_time": "2022-09-16T12:31:47.097Z"
   },
   {
    "duration": 16,
    "start_time": "2022-09-16T12:32:34.265Z"
   },
   {
    "duration": 14,
    "start_time": "2022-09-16T12:33:48.532Z"
   },
   {
    "duration": 7882,
    "start_time": "2022-09-16T12:34:42.634Z"
   },
   {
    "duration": 50,
    "start_time": "2022-09-16T12:48:19.233Z"
   },
   {
    "duration": 410,
    "start_time": "2022-09-16T13:08:30.549Z"
   },
   {
    "duration": 24,
    "start_time": "2022-09-16T13:14:52.833Z"
   },
   {
    "duration": 29,
    "start_time": "2022-09-16T13:19:25.804Z"
   },
   {
    "duration": 30,
    "start_time": "2022-09-16T13:19:56.661Z"
   },
   {
    "duration": 29,
    "start_time": "2022-09-16T13:20:05.100Z"
   },
   {
    "duration": 426,
    "start_time": "2022-09-16T13:23:25.039Z"
   },
   {
    "duration": 26,
    "start_time": "2022-09-16T13:29:45.811Z"
   },
   {
    "duration": 8511,
    "start_time": "2022-09-16T13:29:52.524Z"
   },
   {
    "duration": 66,
    "start_time": "2022-09-16T13:36:40.955Z"
   },
   {
    "duration": 141,
    "start_time": "2022-09-16T13:37:19.321Z"
   },
   {
    "duration": 70,
    "start_time": "2022-09-16T13:37:27.793Z"
   },
   {
    "duration": 67,
    "start_time": "2022-09-16T13:37:33.839Z"
   },
   {
    "duration": 67,
    "start_time": "2022-09-16T13:37:39.364Z"
   },
   {
    "duration": 25,
    "start_time": "2022-09-16T13:40:29.970Z"
   },
   {
    "duration": 4,
    "start_time": "2022-09-16T13:43:18.148Z"
   },
   {
    "duration": 4,
    "start_time": "2022-09-16T13:46:41.530Z"
   },
   {
    "duration": 29,
    "start_time": "2022-09-16T13:52:04.499Z"
   },
   {
    "duration": 30,
    "start_time": "2022-09-16T13:52:17.379Z"
   },
   {
    "duration": 71,
    "start_time": "2022-09-16T13:52:38.259Z"
   },
   {
    "duration": 68,
    "start_time": "2022-09-16T13:54:22.852Z"
   },
   {
    "duration": 1263,
    "start_time": "2022-09-20T08:34:06.358Z"
   },
   {
    "duration": 150,
    "start_time": "2022-09-20T08:34:07.626Z"
   },
   {
    "duration": 18,
    "start_time": "2022-09-20T08:34:07.777Z"
   },
   {
    "duration": 7,
    "start_time": "2022-09-20T08:34:07.796Z"
   },
   {
    "duration": 543,
    "start_time": "2022-09-20T08:34:07.806Z"
   },
   {
    "duration": 180,
    "start_time": "2022-09-20T08:34:08.351Z"
   },
   {
    "duration": 194,
    "start_time": "2022-09-20T08:34:08.533Z"
   },
   {
    "duration": 124,
    "start_time": "2022-09-20T08:34:08.729Z"
   },
   {
    "duration": 112,
    "start_time": "2022-09-20T08:34:08.855Z"
   },
   {
    "duration": 115,
    "start_time": "2022-09-20T08:34:08.969Z"
   },
   {
    "duration": 137,
    "start_time": "2022-09-20T08:34:09.086Z"
   },
   {
    "duration": 122,
    "start_time": "2022-09-20T08:34:09.228Z"
   },
   {
    "duration": 131,
    "start_time": "2022-09-20T08:34:09.351Z"
   },
   {
    "duration": 98,
    "start_time": "2022-09-20T08:34:09.485Z"
   },
   {
    "duration": 28,
    "start_time": "2022-09-20T08:34:09.585Z"
   },
   {
    "duration": 85,
    "start_time": "2022-09-20T08:34:09.614Z"
   },
   {
    "duration": 31,
    "start_time": "2022-09-20T08:34:09.701Z"
   },
   {
    "duration": 16,
    "start_time": "2022-09-20T08:34:09.734Z"
   },
   {
    "duration": 24,
    "start_time": "2022-09-20T08:34:09.751Z"
   },
   {
    "duration": 470,
    "start_time": "2022-09-20T08:34:09.776Z"
   },
   {
    "duration": 9854,
    "start_time": "2022-09-20T08:34:10.248Z"
   },
   {
    "duration": 105,
    "start_time": "2022-09-20T08:34:20.110Z"
   },
   {
    "duration": 136,
    "start_time": "2022-09-20T08:34:20.217Z"
   },
   {
    "duration": 9644,
    "start_time": "2022-09-20T08:36:06.889Z"
   },
   {
    "duration": 167,
    "start_time": "2022-09-20T08:41:42.438Z"
   },
   {
    "duration": 4,
    "start_time": "2022-09-20T08:42:16.286Z"
   },
   {
    "duration": 469,
    "start_time": "2022-09-20T08:46:33.898Z"
   },
   {
    "duration": 445,
    "start_time": "2022-09-20T08:48:03.658Z"
   },
   {
    "duration": 437,
    "start_time": "2022-09-20T08:53:10.736Z"
   },
   {
    "duration": 440,
    "start_time": "2022-09-20T09:04:48.261Z"
   },
   {
    "duration": 154,
    "start_time": "2022-09-20T09:12:00.995Z"
   },
   {
    "duration": 49,
    "start_time": "2022-09-20T09:19:55.852Z"
   },
   {
    "duration": 10090,
    "start_time": "2022-09-20T09:23:41.255Z"
   },
   {
    "duration": 150,
    "start_time": "2022-09-20T09:24:50.400Z"
   },
   {
    "duration": 124,
    "start_time": "2022-09-20T09:33:37.184Z"
   },
   {
    "duration": 112,
    "start_time": "2022-09-20T09:33:46.028Z"
   },
   {
    "duration": 210,
    "start_time": "2022-09-20T09:35:36.417Z"
   },
   {
    "duration": 4,
    "start_time": "2022-09-20T10:21:54.158Z"
   },
   {
    "duration": 14,
    "start_time": "2022-09-20T10:22:30.641Z"
   },
   {
    "duration": 45,
    "start_time": "2022-09-20T10:24:39.258Z"
   },
   {
    "duration": 11,
    "start_time": "2022-09-20T10:25:20.265Z"
   },
   {
    "duration": 38,
    "start_time": "2022-09-20T10:25:22.533Z"
   },
   {
    "duration": 11,
    "start_time": "2022-09-20T10:27:01.239Z"
   },
   {
    "duration": 193,
    "start_time": "2022-09-20T10:27:47.172Z"
   },
   {
    "duration": 14,
    "start_time": "2022-09-20T10:29:06.837Z"
   },
   {
    "duration": 223,
    "start_time": "2022-09-20T10:29:29.077Z"
   },
   {
    "duration": 146,
    "start_time": "2022-09-20T10:30:36.354Z"
   },
   {
    "duration": 204,
    "start_time": "2022-09-20T10:30:43.734Z"
   },
   {
    "duration": 11,
    "start_time": "2022-09-20T10:31:14.047Z"
   },
   {
    "duration": 42,
    "start_time": "2022-09-20T10:31:16.407Z"
   },
   {
    "duration": 162,
    "start_time": "2022-09-20T10:31:23.828Z"
   },
   {
    "duration": 77,
    "start_time": "2022-09-20T10:32:41.256Z"
   },
   {
    "duration": 1182,
    "start_time": "2022-09-20T10:32:47.265Z"
   },
   {
    "duration": 86,
    "start_time": "2022-09-20T10:32:48.449Z"
   },
   {
    "duration": 20,
    "start_time": "2022-09-20T10:32:48.536Z"
   },
   {
    "duration": 7,
    "start_time": "2022-09-20T10:32:48.558Z"
   },
   {
    "duration": 535,
    "start_time": "2022-09-20T10:32:48.567Z"
   },
   {
    "duration": 154,
    "start_time": "2022-09-20T10:32:49.104Z"
   },
   {
    "duration": 208,
    "start_time": "2022-09-20T10:32:49.259Z"
   },
   {
    "duration": 105,
    "start_time": "2022-09-20T10:32:49.469Z"
   },
   {
    "duration": 108,
    "start_time": "2022-09-20T10:32:49.576Z"
   },
   {
    "duration": 139,
    "start_time": "2022-09-20T10:32:49.685Z"
   },
   {
    "duration": 110,
    "start_time": "2022-09-20T10:32:49.836Z"
   },
   {
    "duration": 105,
    "start_time": "2022-09-20T10:32:49.948Z"
   },
   {
    "duration": 144,
    "start_time": "2022-09-20T10:32:50.054Z"
   },
   {
    "duration": 100,
    "start_time": "2022-09-20T10:32:50.201Z"
   },
   {
    "duration": 18,
    "start_time": "2022-09-20T10:32:50.303Z"
   },
   {
    "duration": 133,
    "start_time": "2022-09-20T10:32:50.322Z"
   },
   {
    "duration": 17,
    "start_time": "2022-09-20T10:32:50.457Z"
   },
   {
    "duration": 41,
    "start_time": "2022-09-20T10:32:50.476Z"
   },
   {
    "duration": 47,
    "start_time": "2022-09-20T10:32:50.521Z"
   },
   {
    "duration": 473,
    "start_time": "2022-09-20T10:32:50.569Z"
   },
   {
    "duration": 9863,
    "start_time": "2022-09-20T10:32:51.044Z"
   },
   {
    "duration": 110,
    "start_time": "2022-09-20T10:33:00.911Z"
   },
   {
    "duration": 106,
    "start_time": "2022-09-20T10:33:01.036Z"
   },
   {
    "duration": 164,
    "start_time": "2022-09-20T10:33:01.143Z"
   },
   {
    "duration": 97,
    "start_time": "2022-09-20T10:33:01.314Z"
   },
   {
    "duration": 108,
    "start_time": "2022-09-20T10:33:01.412Z"
   },
   {
    "duration": 126,
    "start_time": "2022-09-20T10:33:01.525Z"
   },
   {
    "duration": 236,
    "start_time": "2022-09-20T10:33:01.653Z"
   },
   {
    "duration": 130,
    "start_time": "2022-09-20T10:33:01.891Z"
   },
   {
    "duration": 14,
    "start_time": "2022-09-20T10:34:26.570Z"
   },
   {
    "duration": 1144,
    "start_time": "2022-09-20T10:34:32.563Z"
   },
   {
    "duration": 77,
    "start_time": "2022-09-20T10:34:33.716Z"
   },
   {
    "duration": 42,
    "start_time": "2022-09-20T10:34:33.795Z"
   },
   {
    "duration": 7,
    "start_time": "2022-09-20T10:34:33.839Z"
   },
   {
    "duration": 508,
    "start_time": "2022-09-20T10:34:33.848Z"
   },
   {
    "duration": 184,
    "start_time": "2022-09-20T10:34:34.358Z"
   },
   {
    "duration": 203,
    "start_time": "2022-09-20T10:34:34.544Z"
   },
   {
    "duration": 120,
    "start_time": "2022-09-20T10:34:34.748Z"
   },
   {
    "duration": 157,
    "start_time": "2022-09-20T10:34:34.870Z"
   },
   {
    "duration": 142,
    "start_time": "2022-09-20T10:34:35.029Z"
   },
   {
    "duration": 164,
    "start_time": "2022-09-20T10:34:35.173Z"
   },
   {
    "duration": 102,
    "start_time": "2022-09-20T10:34:35.342Z"
   },
   {
    "duration": 191,
    "start_time": "2022-09-20T10:34:35.446Z"
   },
   {
    "duration": 115,
    "start_time": "2022-09-20T10:34:35.647Z"
   },
   {
    "duration": 15,
    "start_time": "2022-09-20T10:34:35.764Z"
   },
   {
    "duration": 143,
    "start_time": "2022-09-20T10:34:35.781Z"
   },
   {
    "duration": 28,
    "start_time": "2022-09-20T10:34:35.925Z"
   },
   {
    "duration": 24,
    "start_time": "2022-09-20T10:34:35.955Z"
   },
   {
    "duration": 50,
    "start_time": "2022-09-20T10:34:35.981Z"
   },
   {
    "duration": 487,
    "start_time": "2022-09-20T10:34:36.040Z"
   },
   {
    "duration": 10060,
    "start_time": "2022-09-20T10:34:36.528Z"
   },
   {
    "duration": 120,
    "start_time": "2022-09-20T10:34:46.590Z"
   },
   {
    "duration": 144,
    "start_time": "2022-09-20T10:34:46.728Z"
   },
   {
    "duration": 153,
    "start_time": "2022-09-20T10:34:46.874Z"
   },
   {
    "duration": 100,
    "start_time": "2022-09-20T10:34:47.034Z"
   },
   {
    "duration": 129,
    "start_time": "2022-09-20T10:34:47.135Z"
   },
   {
    "duration": 90,
    "start_time": "2022-09-20T10:34:47.265Z"
   },
   {
    "duration": 233,
    "start_time": "2022-09-20T10:34:47.364Z"
   },
   {
    "duration": 124,
    "start_time": "2022-09-20T10:34:47.599Z"
   },
   {
    "duration": 13,
    "start_time": "2022-09-20T10:44:55.430Z"
   },
   {
    "duration": 103,
    "start_time": "2022-09-20T10:44:58.836Z"
   },
   {
    "duration": 15,
    "start_time": "2022-09-20T10:45:07.343Z"
   },
   {
    "duration": 77,
    "start_time": "2022-09-20T10:45:10.244Z"
   },
   {
    "duration": 91,
    "start_time": "2022-09-20T10:49:11.170Z"
   },
   {
    "duration": 264,
    "start_time": "2022-09-20T10:58:03.587Z"
   },
   {
    "duration": 236,
    "start_time": "2022-09-20T10:58:10.067Z"
   },
   {
    "duration": 3,
    "start_time": "2022-09-20T10:58:29.869Z"
   },
   {
    "duration": 55,
    "start_time": "2022-09-20T10:58:34.972Z"
   },
   {
    "duration": 58,
    "start_time": "2022-09-20T10:58:51.033Z"
   },
   {
    "duration": 59,
    "start_time": "2022-09-20T10:58:57.964Z"
   },
   {
    "duration": 69,
    "start_time": "2022-09-20T10:59:26.581Z"
   },
   {
    "duration": 106,
    "start_time": "2022-09-20T11:00:41.183Z"
   },
   {
    "duration": 202,
    "start_time": "2022-09-20T11:01:49.577Z"
   },
   {
    "duration": 291,
    "start_time": "2022-09-20T11:02:58.336Z"
   },
   {
    "duration": 310,
    "start_time": "2022-09-20T11:04:37.529Z"
   },
   {
    "duration": 109,
    "start_time": "2022-09-20T11:05:13.461Z"
   },
   {
    "duration": 221,
    "start_time": "2022-09-20T11:08:40.175Z"
   },
   {
    "duration": 15,
    "start_time": "2022-09-20T11:27:03.764Z"
   },
   {
    "duration": 34,
    "start_time": "2022-09-20T11:30:31.000Z"
   },
   {
    "duration": 33,
    "start_time": "2022-09-20T11:30:38.305Z"
   },
   {
    "duration": 14,
    "start_time": "2022-09-20T11:31:01.690Z"
   },
   {
    "duration": 24,
    "start_time": "2022-09-20T11:31:06.497Z"
   },
   {
    "duration": 16,
    "start_time": "2022-09-20T11:31:09.569Z"
   },
   {
    "duration": 26,
    "start_time": "2022-09-20T11:31:14.631Z"
   },
   {
    "duration": 15,
    "start_time": "2022-09-20T11:52:41.276Z"
   },
   {
    "duration": 3,
    "start_time": "2022-09-20T11:52:53.971Z"
   },
   {
    "duration": 14,
    "start_time": "2022-09-20T11:57:21.555Z"
   },
   {
    "duration": 25,
    "start_time": "2022-09-20T11:57:32.648Z"
   },
   {
    "duration": 7,
    "start_time": "2022-09-20T11:58:54.448Z"
   },
   {
    "duration": 27939,
    "start_time": "2022-09-20T12:00:08.629Z"
   },
   {
    "duration": 14904,
    "start_time": "2022-09-20T12:01:19.856Z"
   },
   {
    "duration": 14348,
    "start_time": "2022-09-20T12:02:36.986Z"
   },
   {
    "duration": 172722,
    "start_time": "2022-09-20T12:12:31.853Z"
   },
   {
    "duration": 17293,
    "start_time": "2022-09-20T12:16:30.350Z"
   },
   {
    "duration": 8482,
    "start_time": "2022-09-20T12:21:21.689Z"
   },
   {
    "duration": 6992,
    "start_time": "2022-09-20T13:56:23.199Z"
   },
   {
    "duration": 6963,
    "start_time": "2022-09-20T14:01:02.449Z"
   },
   {
    "duration": 14,
    "start_time": "2022-09-20T14:01:57.421Z"
   },
   {
    "duration": 7053,
    "start_time": "2022-09-20T14:02:31.738Z"
   },
   {
    "duration": 6933,
    "start_time": "2022-09-20T14:03:05.821Z"
   },
   {
    "duration": 93,
    "start_time": "2022-09-20T14:06:01.393Z"
   },
   {
    "duration": 6924,
    "start_time": "2022-09-20T14:06:06.799Z"
   },
   {
    "duration": 4,
    "start_time": "2022-09-20T14:09:22.770Z"
   },
   {
    "duration": 5,
    "start_time": "2022-09-20T14:09:43.618Z"
   },
   {
    "duration": 66,
    "start_time": "2022-09-20T14:09:49.563Z"
   },
   {
    "duration": 7560,
    "start_time": "2022-09-20T14:09:56.371Z"
   },
   {
    "duration": 6648,
    "start_time": "2022-09-20T14:22:25.658Z"
   },
   {
    "duration": 6648,
    "start_time": "2022-09-20T14:23:29.473Z"
   },
   {
    "duration": 6611,
    "start_time": "2022-09-20T14:23:48.523Z"
   },
   {
    "duration": 6487,
    "start_time": "2022-09-20T14:24:17.778Z"
   },
   {
    "duration": 6771,
    "start_time": "2022-09-20T14:26:35.701Z"
   },
   {
    "duration": 6640,
    "start_time": "2022-09-20T14:28:05.641Z"
   },
   {
    "duration": 6567,
    "start_time": "2022-09-20T14:28:25.401Z"
   },
   {
    "duration": 7086,
    "start_time": "2022-09-20T14:28:52.815Z"
   },
   {
    "duration": 7188,
    "start_time": "2022-09-20T14:29:20.103Z"
   },
   {
    "duration": 6982,
    "start_time": "2022-09-20T15:43:50.058Z"
   },
   {
    "duration": 7577,
    "start_time": "2022-09-20T15:44:47.242Z"
   },
   {
    "duration": 7558,
    "start_time": "2022-09-20T15:45:44.092Z"
   },
   {
    "duration": 570413,
    "start_time": "2022-09-20T15:52:44.100Z"
   },
   {
    "duration": 208380,
    "start_time": "2022-09-20T16:03:59.552Z"
   },
   {
    "duration": 119631,
    "start_time": "2022-09-20T16:11:50.378Z"
   },
   {
    "duration": 1190,
    "start_time": "2022-09-20T16:14:06.533Z"
   },
   {
    "duration": 69,
    "start_time": "2022-09-20T16:14:07.725Z"
   },
   {
    "duration": 25,
    "start_time": "2022-09-20T16:14:07.797Z"
   },
   {
    "duration": 7,
    "start_time": "2022-09-20T16:14:07.828Z"
   },
   {
    "duration": 500,
    "start_time": "2022-09-20T16:14:07.837Z"
   },
   {
    "duration": 178,
    "start_time": "2022-09-20T16:14:08.338Z"
   },
   {
    "duration": 141,
    "start_time": "2022-09-20T16:14:08.521Z"
   },
   {
    "duration": 100,
    "start_time": "2022-09-20T16:14:08.664Z"
   },
   {
    "duration": 113,
    "start_time": "2022-09-20T16:14:08.766Z"
   },
   {
    "duration": 113,
    "start_time": "2022-09-20T16:14:08.881Z"
   },
   {
    "duration": 104,
    "start_time": "2022-09-20T16:14:08.995Z"
   },
   {
    "duration": 104,
    "start_time": "2022-09-20T16:14:09.115Z"
   },
   {
    "duration": 153,
    "start_time": "2022-09-20T16:14:09.224Z"
   },
   {
    "duration": 96,
    "start_time": "2022-09-20T16:14:09.381Z"
   },
   {
    "duration": 36,
    "start_time": "2022-09-20T16:14:09.479Z"
   },
   {
    "duration": 86,
    "start_time": "2022-09-20T16:14:09.516Z"
   },
   {
    "duration": 33,
    "start_time": "2022-09-20T16:14:09.604Z"
   },
   {
    "duration": 13,
    "start_time": "2022-09-20T16:14:09.639Z"
   },
   {
    "duration": 21,
    "start_time": "2022-09-20T16:14:09.654Z"
   },
   {
    "duration": 9484,
    "start_time": "2022-09-20T16:14:09.676Z"
   },
   {
    "duration": 157175,
    "start_time": "2022-09-20T16:14:19.162Z"
   },
   {
    "duration": 230,
    "start_time": "2022-09-20T16:16:56.338Z"
   },
   {
    "duration": 0,
    "start_time": "2022-09-20T16:16:56.570Z"
   },
   {
    "duration": 0,
    "start_time": "2022-09-20T16:16:56.572Z"
   },
   {
    "duration": 0,
    "start_time": "2022-09-20T16:16:56.573Z"
   },
   {
    "duration": 0,
    "start_time": "2022-09-20T16:16:56.574Z"
   },
   {
    "duration": 0,
    "start_time": "2022-09-20T16:16:56.576Z"
   },
   {
    "duration": 0,
    "start_time": "2022-09-20T16:16:56.577Z"
   },
   {
    "duration": 0,
    "start_time": "2022-09-20T16:16:56.578Z"
   },
   {
    "duration": 0,
    "start_time": "2022-09-20T16:16:56.579Z"
   },
   {
    "duration": 0,
    "start_time": "2022-09-20T16:16:56.580Z"
   },
   {
    "duration": 0,
    "start_time": "2022-09-20T16:16:56.582Z"
   },
   {
    "duration": 1,
    "start_time": "2022-09-20T16:16:56.582Z"
   },
   {
    "duration": 95,
    "start_time": "2022-09-20T16:20:16.403Z"
   },
   {
    "duration": 14,
    "start_time": "2022-09-20T16:20:23.294Z"
   },
   {
    "duration": 20,
    "start_time": "2022-09-20T16:20:31.802Z"
   },
   {
    "duration": 9914,
    "start_time": "2022-09-20T16:20:54.221Z"
   },
   {
    "duration": 34959,
    "start_time": "2022-09-20T16:21:29.806Z"
   },
   {
    "duration": 88823,
    "start_time": "2022-09-20T16:23:53.550Z"
   },
   {
    "duration": 33946,
    "start_time": "2022-09-20T16:26:13.529Z"
   },
   {
    "duration": 89065,
    "start_time": "2022-09-20T16:27:49.525Z"
   },
   {
    "duration": 123311,
    "start_time": "2022-09-20T16:31:28.935Z"
   },
   {
    "duration": 34291,
    "start_time": "2022-09-20T16:34:47.537Z"
   },
   {
    "duration": 13,
    "start_time": "2022-09-20T16:35:37.946Z"
   },
   {
    "duration": 9748,
    "start_time": "2022-09-20T16:35:51.474Z"
   },
   {
    "duration": 59527,
    "start_time": "2022-09-20T16:36:13.074Z"
   },
   {
    "duration": 10032,
    "start_time": "2022-09-20T16:47:34.729Z"
   },
   {
    "duration": 60570,
    "start_time": "2022-09-20T16:51:05.721Z"
   },
   {
    "duration": 6397,
    "start_time": "2022-09-20T16:56:33.222Z"
   },
   {
    "duration": 12,
    "start_time": "2022-09-20T16:58:07.721Z"
   },
   {
    "duration": 12876,
    "start_time": "2022-09-20T17:00:52.822Z"
   },
   {
    "duration": 12819,
    "start_time": "2022-09-20T17:03:00.938Z"
   },
   {
    "duration": 86308,
    "start_time": "2022-09-20T17:06:39.728Z"
   },
   {
    "duration": 14598,
    "start_time": "2022-09-20T17:11:23.538Z"
   },
   {
    "duration": 30,
    "start_time": "2022-09-20T17:16:00.166Z"
   },
   {
    "duration": 1164,
    "start_time": "2022-09-20T17:18:11.979Z"
   },
   {
    "duration": 78,
    "start_time": "2022-09-20T17:18:13.145Z"
   },
   {
    "duration": 19,
    "start_time": "2022-09-20T17:18:13.225Z"
   },
   {
    "duration": 6,
    "start_time": "2022-09-20T17:18:13.246Z"
   },
   {
    "duration": 461,
    "start_time": "2022-09-20T17:18:13.254Z"
   },
   {
    "duration": 133,
    "start_time": "2022-09-20T17:18:13.724Z"
   },
   {
    "duration": 160,
    "start_time": "2022-09-20T17:18:13.859Z"
   },
   {
    "duration": 76,
    "start_time": "2022-09-20T17:18:14.021Z"
   },
   {
    "duration": 112,
    "start_time": "2022-09-20T17:18:14.109Z"
   },
   {
    "duration": 106,
    "start_time": "2022-09-20T17:18:14.224Z"
   },
   {
    "duration": 118,
    "start_time": "2022-09-20T17:18:14.332Z"
   },
   {
    "duration": 121,
    "start_time": "2022-09-20T17:18:14.453Z"
   },
   {
    "duration": 189,
    "start_time": "2022-09-20T17:18:14.575Z"
   },
   {
    "duration": 101,
    "start_time": "2022-09-20T17:18:14.766Z"
   },
   {
    "duration": 16,
    "start_time": "2022-09-20T17:18:14.869Z"
   },
   {
    "duration": 95,
    "start_time": "2022-09-20T17:18:14.887Z"
   },
   {
    "duration": 28,
    "start_time": "2022-09-20T17:18:14.984Z"
   },
   {
    "duration": 27,
    "start_time": "2022-09-20T17:18:15.014Z"
   },
   {
    "duration": 50,
    "start_time": "2022-09-20T17:18:15.042Z"
   },
   {
    "duration": 9311,
    "start_time": "2022-09-20T17:18:15.093Z"
   },
   {
    "duration": 58221,
    "start_time": "2022-09-20T17:18:24.406Z"
   },
   {
    "duration": 8481,
    "start_time": "2022-09-20T17:19:22.629Z"
   },
   {
    "duration": 9975,
    "start_time": "2022-09-20T17:19:31.118Z"
   },
   {
    "duration": 59660,
    "start_time": "2022-09-20T17:19:41.095Z"
   },
   {
    "duration": 8074,
    "start_time": "2022-09-20T17:20:40.757Z"
   },
   {
    "duration": 12,
    "start_time": "2022-09-20T17:20:48.832Z"
   },
   {
    "duration": 12953,
    "start_time": "2022-09-20T17:20:48.846Z"
   },
   {
    "duration": 85224,
    "start_time": "2022-09-20T17:21:01.802Z"
   },
   {
    "duration": 8892,
    "start_time": "2022-09-20T17:22:27.028Z"
   },
   {
    "duration": 29,
    "start_time": "2022-09-20T17:22:35.922Z"
   },
   {
    "duration": 9,
    "start_time": "2022-09-20T17:22:46.438Z"
   },
   {
    "duration": 49,
    "start_time": "2022-09-20T17:23:04.168Z"
   },
   {
    "duration": 3,
    "start_time": "2022-09-21T06:52:08.421Z"
   },
   {
    "duration": 15,
    "start_time": "2022-09-21T06:58:19.256Z"
   },
   {
    "duration": 1207,
    "start_time": "2022-09-21T07:00:58.661Z"
   },
   {
    "duration": 71,
    "start_time": "2022-09-21T07:00:59.870Z"
   },
   {
    "duration": 17,
    "start_time": "2022-09-21T07:00:59.942Z"
   },
   {
    "duration": 6,
    "start_time": "2022-09-21T07:00:59.961Z"
   },
   {
    "duration": 486,
    "start_time": "2022-09-21T07:00:59.968Z"
   },
   {
    "duration": 106,
    "start_time": "2022-09-21T07:01:00.456Z"
   },
   {
    "duration": 145,
    "start_time": "2022-09-21T07:01:00.609Z"
   },
   {
    "duration": 107,
    "start_time": "2022-09-21T07:01:00.756Z"
   },
   {
    "duration": 102,
    "start_time": "2022-09-21T07:01:00.865Z"
   },
   {
    "duration": 132,
    "start_time": "2022-09-21T07:01:00.971Z"
   },
   {
    "duration": 97,
    "start_time": "2022-09-21T07:01:01.105Z"
   },
   {
    "duration": 117,
    "start_time": "2022-09-21T07:01:01.209Z"
   },
   {
    "duration": 155,
    "start_time": "2022-09-21T07:01:01.328Z"
   },
   {
    "duration": 97,
    "start_time": "2022-09-21T07:01:01.485Z"
   },
   {
    "duration": 13,
    "start_time": "2022-09-21T07:01:01.583Z"
   },
   {
    "duration": 93,
    "start_time": "2022-09-21T07:01:01.609Z"
   },
   {
    "duration": 25,
    "start_time": "2022-09-21T07:01:01.704Z"
   },
   {
    "duration": 42,
    "start_time": "2022-09-21T07:01:01.732Z"
   },
   {
    "duration": 48,
    "start_time": "2022-09-21T07:01:01.776Z"
   },
   {
    "duration": 9473,
    "start_time": "2022-09-21T07:01:01.826Z"
   },
   {
    "duration": 59722,
    "start_time": "2022-09-21T07:01:11.301Z"
   },
   {
    "duration": 10803,
    "start_time": "2022-09-21T07:02:11.024Z"
   },
   {
    "duration": 10218,
    "start_time": "2022-09-21T07:02:21.828Z"
   },
   {
    "duration": 60017,
    "start_time": "2022-09-21T07:02:32.048Z"
   },
   {
    "duration": 6952,
    "start_time": "2022-09-21T07:03:32.067Z"
   },
   {
    "duration": 15,
    "start_time": "2022-09-21T07:03:39.020Z"
   },
   {
    "duration": 13500,
    "start_time": "2022-09-21T07:03:39.036Z"
   },
   {
    "duration": 87348,
    "start_time": "2022-09-21T07:03:52.540Z"
   },
   {
    "duration": 8342,
    "start_time": "2022-09-21T07:05:19.889Z"
   },
   {
    "duration": 196,
    "start_time": "2022-09-21T07:05:28.233Z"
   },
   {
    "duration": 12,
    "start_time": "2022-09-21T07:06:19.163Z"
   },
   {
    "duration": 11995,
    "start_time": "2022-09-21T07:06:27.234Z"
   },
   {
    "duration": 76849,
    "start_time": "2022-09-21T07:06:44.796Z"
   },
   {
    "duration": 7487,
    "start_time": "2022-09-21T07:09:48.343Z"
   },
   {
    "duration": 45,
    "start_time": "2022-09-21T07:10:00.441Z"
   },
   {
    "duration": 52,
    "start_time": "2022-09-21T07:10:15.167Z"
   },
   {
    "duration": 64,
    "start_time": "2022-09-21T07:10:23.464Z"
   },
   {
    "duration": 42,
    "start_time": "2022-09-21T07:10:37.723Z"
   },
   {
    "duration": 7,
    "start_time": "2022-09-21T07:10:54.184Z"
   },
   {
    "duration": 44,
    "start_time": "2022-09-21T07:11:01.737Z"
   },
   {
    "duration": 18,
    "start_time": "2022-09-21T07:11:28.604Z"
   },
   {
    "duration": 12,
    "start_time": "2022-09-21T07:11:36.523Z"
   },
   {
    "duration": 10999,
    "start_time": "2022-09-21T07:11:40.650Z"
   },
   {
    "duration": 69668,
    "start_time": "2022-09-21T07:11:51.651Z"
   },
   {
    "duration": 7114,
    "start_time": "2022-09-21T07:13:01.320Z"
   },
   {
    "duration": 43,
    "start_time": "2022-09-21T07:13:25.621Z"
   },
   {
    "duration": 1103,
    "start_time": "2022-09-21T07:14:17.754Z"
   },
   {
    "duration": 68,
    "start_time": "2022-09-21T07:14:18.859Z"
   },
   {
    "duration": 18,
    "start_time": "2022-09-21T07:14:18.928Z"
   },
   {
    "duration": 7,
    "start_time": "2022-09-21T07:14:18.948Z"
   },
   {
    "duration": 493,
    "start_time": "2022-09-21T07:14:18.956Z"
   },
   {
    "duration": 116,
    "start_time": "2022-09-21T07:14:19.451Z"
   },
   {
    "duration": 181,
    "start_time": "2022-09-21T07:14:19.569Z"
   },
   {
    "duration": 91,
    "start_time": "2022-09-21T07:14:19.751Z"
   },
   {
    "duration": 104,
    "start_time": "2022-09-21T07:14:19.844Z"
   },
   {
    "duration": 117,
    "start_time": "2022-09-21T07:14:19.950Z"
   },
   {
    "duration": 122,
    "start_time": "2022-09-21T07:14:20.068Z"
   },
   {
    "duration": 134,
    "start_time": "2022-09-21T07:14:20.191Z"
   },
   {
    "duration": 94,
    "start_time": "2022-09-21T07:14:20.327Z"
   },
   {
    "duration": 151,
    "start_time": "2022-09-21T07:14:20.426Z"
   },
   {
    "duration": 39,
    "start_time": "2022-09-21T07:14:20.579Z"
   },
   {
    "duration": 84,
    "start_time": "2022-09-21T07:14:20.624Z"
   },
   {
    "duration": 17,
    "start_time": "2022-09-21T07:14:20.720Z"
   },
   {
    "duration": 11,
    "start_time": "2022-09-21T07:14:20.739Z"
   },
   {
    "duration": 20,
    "start_time": "2022-09-21T07:14:20.752Z"
   },
   {
    "duration": 9023,
    "start_time": "2022-09-21T07:14:20.773Z"
   },
   {
    "duration": 56158,
    "start_time": "2022-09-21T07:14:29.798Z"
   },
   {
    "duration": 6362,
    "start_time": "2022-09-21T07:15:25.957Z"
   },
   {
    "duration": 9483,
    "start_time": "2022-09-21T07:15:32.321Z"
   },
   {
    "duration": 57545,
    "start_time": "2022-09-21T07:15:41.806Z"
   },
   {
    "duration": 7062,
    "start_time": "2022-09-21T07:16:39.353Z"
   },
   {
    "duration": 13,
    "start_time": "2022-09-21T07:16:46.416Z"
   },
   {
    "duration": 12222,
    "start_time": "2022-09-21T07:16:46.432Z"
   },
   {
    "duration": 79832,
    "start_time": "2022-09-21T07:16:58.657Z"
   },
   {
    "duration": 11531,
    "start_time": "2022-09-21T07:18:18.490Z"
   },
   {
    "duration": 51,
    "start_time": "2022-09-21T07:18:30.023Z"
   },
   {
    "duration": 11,
    "start_time": "2022-09-21T07:18:56.862Z"
   },
   {
    "duration": 11369,
    "start_time": "2022-09-21T07:18:58.231Z"
   },
   {
    "duration": 73028,
    "start_time": "2022-09-21T07:19:09.603Z"
   },
   {
    "duration": 10282,
    "start_time": "2022-09-21T07:20:22.632Z"
   },
   {
    "duration": 56,
    "start_time": "2022-09-21T07:20:32.916Z"
   },
   {
    "duration": 1176,
    "start_time": "2022-09-21T07:21:25.552Z"
   },
   {
    "duration": 68,
    "start_time": "2022-09-21T07:21:26.731Z"
   },
   {
    "duration": 25,
    "start_time": "2022-09-21T07:21:26.801Z"
   },
   {
    "duration": 8,
    "start_time": "2022-09-21T07:21:26.828Z"
   },
   {
    "duration": 505,
    "start_time": "2022-09-21T07:21:26.838Z"
   },
   {
    "duration": 205,
    "start_time": "2022-09-21T07:21:27.345Z"
   },
   {
    "duration": 150,
    "start_time": "2022-09-21T07:21:27.551Z"
   },
   {
    "duration": 118,
    "start_time": "2022-09-21T07:21:27.703Z"
   },
   {
    "duration": 104,
    "start_time": "2022-09-21T07:21:27.822Z"
   },
   {
    "duration": 125,
    "start_time": "2022-09-21T07:21:27.929Z"
   },
   {
    "duration": 106,
    "start_time": "2022-09-21T07:21:28.056Z"
   },
   {
    "duration": 108,
    "start_time": "2022-09-21T07:21:28.163Z"
   },
   {
    "duration": 162,
    "start_time": "2022-09-21T07:21:28.273Z"
   },
   {
    "duration": 87,
    "start_time": "2022-09-21T07:21:28.436Z"
   },
   {
    "duration": 14,
    "start_time": "2022-09-21T07:21:28.524Z"
   },
   {
    "duration": 107,
    "start_time": "2022-09-21T07:21:28.539Z"
   },
   {
    "duration": 17,
    "start_time": "2022-09-21T07:21:28.647Z"
   },
   {
    "duration": 12,
    "start_time": "2022-09-21T07:21:28.666Z"
   },
   {
    "duration": 19,
    "start_time": "2022-09-21T07:21:28.680Z"
   },
   {
    "duration": 9033,
    "start_time": "2022-09-21T07:21:28.701Z"
   },
   {
    "duration": 56717,
    "start_time": "2022-09-21T07:21:37.735Z"
   },
   {
    "duration": 122875,
    "start_time": "2022-09-21T07:22:34.453Z"
   },
   {
    "duration": 9592,
    "start_time": "2022-09-21T07:24:37.331Z"
   },
   {
    "duration": 56478,
    "start_time": "2022-09-21T07:24:46.925Z"
   },
   {
    "duration": 162626,
    "start_time": "2022-09-21T07:25:43.405Z"
   },
   {
    "duration": 95,
    "start_time": "2022-09-21T07:28:26.033Z"
   },
   {
    "duration": 11826,
    "start_time": "2022-09-21T07:28:26.130Z"
   },
   {
    "duration": 72070,
    "start_time": "2022-09-21T07:28:37.959Z"
   },
   {
    "duration": 205179,
    "start_time": "2022-09-21T07:29:50.031Z"
   },
   {
    "duration": 135,
    "start_time": "2022-09-21T07:33:15.211Z"
   },
   {
    "duration": 1200,
    "start_time": "2022-09-21T07:35:25.786Z"
   },
   {
    "duration": 65,
    "start_time": "2022-09-21T07:35:26.988Z"
   },
   {
    "duration": 17,
    "start_time": "2022-09-21T07:35:27.054Z"
   },
   {
    "duration": 6,
    "start_time": "2022-09-21T07:35:27.074Z"
   },
   {
    "duration": 457,
    "start_time": "2022-09-21T07:35:27.081Z"
   },
   {
    "duration": 119,
    "start_time": "2022-09-21T07:35:27.540Z"
   },
   {
    "duration": 180,
    "start_time": "2022-09-21T07:35:27.661Z"
   },
   {
    "duration": 85,
    "start_time": "2022-09-21T07:35:27.842Z"
   },
   {
    "duration": 99,
    "start_time": "2022-09-21T07:35:27.929Z"
   },
   {
    "duration": 108,
    "start_time": "2022-09-21T07:35:28.031Z"
   },
   {
    "duration": 111,
    "start_time": "2022-09-21T07:35:28.140Z"
   },
   {
    "duration": 95,
    "start_time": "2022-09-21T07:35:28.252Z"
   },
   {
    "duration": 151,
    "start_time": "2022-09-21T07:35:28.348Z"
   },
   {
    "duration": 89,
    "start_time": "2022-09-21T07:35:28.500Z"
   },
   {
    "duration": 35,
    "start_time": "2022-09-21T07:35:28.590Z"
   },
   {
    "duration": 95,
    "start_time": "2022-09-21T07:35:28.626Z"
   },
   {
    "duration": 17,
    "start_time": "2022-09-21T07:35:28.723Z"
   },
   {
    "duration": 11,
    "start_time": "2022-09-21T07:35:28.741Z"
   },
   {
    "duration": 22,
    "start_time": "2022-09-21T07:35:28.753Z"
   },
   {
    "duration": 9308,
    "start_time": "2022-09-21T07:35:28.776Z"
   },
   {
    "duration": 56717,
    "start_time": "2022-09-21T07:35:38.085Z"
   },
   {
    "duration": 915,
    "start_time": "2022-09-21T07:36:34.804Z"
   },
   {
    "duration": 9722,
    "start_time": "2022-09-21T07:36:35.720Z"
   },
   {
    "duration": 57504,
    "start_time": "2022-09-21T07:36:45.445Z"
   },
   {
    "duration": 1185,
    "start_time": "2022-09-21T07:37:42.950Z"
   },
   {
    "duration": 14,
    "start_time": "2022-09-21T07:37:44.137Z"
   },
   {
    "duration": 11646,
    "start_time": "2022-09-21T07:37:44.153Z"
   },
   {
    "duration": 73241,
    "start_time": "2022-09-21T07:37:55.803Z"
   },
   {
    "duration": 1087,
    "start_time": "2022-09-21T07:39:09.046Z"
   },
   {
    "duration": 50,
    "start_time": "2022-09-21T07:39:10.135Z"
   },
   {
    "duration": 4,
    "start_time": "2022-09-21T07:45:39.185Z"
   },
   {
    "duration": 172,
    "start_time": "2022-09-21T07:48:48.450Z"
   },
   {
    "duration": 666,
    "start_time": "2022-09-21T07:48:59.306Z"
   },
   {
    "duration": 1526,
    "start_time": "2022-09-21T07:49:06.690Z"
   },
   {
    "duration": 1824,
    "start_time": "2022-09-21T07:49:13.977Z"
   },
   {
    "duration": 8934,
    "start_time": "2022-09-21T07:49:23.834Z"
   },
   {
    "duration": 1144,
    "start_time": "2022-09-21T07:49:40.755Z"
   },
   {
    "duration": 73733,
    "start_time": "2022-09-21T07:50:44.604Z"
   },
   {
    "duration": 44,
    "start_time": "2022-09-21T07:52:09.828Z"
   },
   {
    "duration": 3,
    "start_time": "2022-09-21T07:52:18.716Z"
   },
   {
    "duration": 1198,
    "start_time": "2022-09-21T07:54:20.723Z"
   },
   {
    "duration": 123,
    "start_time": "2022-09-21T07:54:21.923Z"
   },
   {
    "duration": 71,
    "start_time": "2022-09-21T07:54:22.047Z"
   },
   {
    "duration": 6,
    "start_time": "2022-09-21T07:54:22.120Z"
   },
   {
    "duration": 590,
    "start_time": "2022-09-21T07:54:22.128Z"
   },
   {
    "duration": 80,
    "start_time": "2022-09-21T07:54:22.719Z"
   },
   {
    "duration": 218,
    "start_time": "2022-09-21T07:54:22.801Z"
   },
   {
    "duration": 130,
    "start_time": "2022-09-21T07:54:23.021Z"
   },
   {
    "duration": 194,
    "start_time": "2022-09-21T07:54:23.153Z"
   },
   {
    "duration": 110,
    "start_time": "2022-09-21T07:54:23.350Z"
   },
   {
    "duration": 103,
    "start_time": "2022-09-21T07:54:23.462Z"
   },
   {
    "duration": 176,
    "start_time": "2022-09-21T07:54:23.566Z"
   },
   {
    "duration": 280,
    "start_time": "2022-09-21T07:54:23.744Z"
   },
   {
    "duration": 87,
    "start_time": "2022-09-21T07:54:24.026Z"
   },
   {
    "duration": 13,
    "start_time": "2022-09-21T07:54:24.115Z"
   },
   {
    "duration": 99,
    "start_time": "2022-09-21T07:54:24.130Z"
   },
   {
    "duration": 17,
    "start_time": "2022-09-21T07:54:24.231Z"
   },
   {
    "duration": 10,
    "start_time": "2022-09-21T07:54:24.249Z"
   },
   {
    "duration": 20,
    "start_time": "2022-09-21T07:54:24.260Z"
   },
   {
    "duration": 9176,
    "start_time": "2022-09-21T07:54:24.281Z"
   },
   {
    "duration": 56469,
    "start_time": "2022-09-21T07:54:33.459Z"
   },
   {
    "duration": 1086,
    "start_time": "2022-09-21T07:55:29.930Z"
   },
   {
    "duration": 9545,
    "start_time": "2022-09-21T07:55:31.018Z"
   },
   {
    "duration": 57262,
    "start_time": "2022-09-21T07:55:40.564Z"
   },
   {
    "duration": 883,
    "start_time": "2022-09-21T07:56:37.827Z"
   },
   {
    "duration": 12,
    "start_time": "2022-09-21T07:56:38.712Z"
   },
   {
    "duration": 11508,
    "start_time": "2022-09-21T07:56:38.726Z"
   },
   {
    "duration": 73398,
    "start_time": "2022-09-21T07:56:50.237Z"
   },
   {
    "duration": 996,
    "start_time": "2022-09-21T07:58:03.637Z"
   },
   {
    "duration": 124,
    "start_time": "2022-09-21T07:58:04.635Z"
   },
   {
    "duration": 291,
    "start_time": "2022-09-21T08:04:14.966Z"
   },
   {
    "duration": 133,
    "start_time": "2022-09-21T08:04:39.887Z"
   },
   {
    "duration": 123,
    "start_time": "2022-09-21T08:05:57.104Z"
   },
   {
    "duration": 295,
    "start_time": "2022-09-21T08:06:44.360Z"
   },
   {
    "duration": 48,
    "start_time": "2022-09-21T08:08:09.994Z"
   },
   {
    "duration": 1189,
    "start_time": "2022-09-21T08:08:50.300Z"
   },
   {
    "duration": 63,
    "start_time": "2022-09-21T08:08:51.491Z"
   },
   {
    "duration": 18,
    "start_time": "2022-09-21T08:08:51.556Z"
   },
   {
    "duration": 6,
    "start_time": "2022-09-21T08:08:51.576Z"
   },
   {
    "duration": 470,
    "start_time": "2022-09-21T08:08:51.583Z"
   },
   {
    "duration": 173,
    "start_time": "2022-09-21T08:08:52.055Z"
   },
   {
    "duration": 142,
    "start_time": "2022-09-21T08:08:52.229Z"
   },
   {
    "duration": 126,
    "start_time": "2022-09-21T08:08:52.373Z"
   },
   {
    "duration": 94,
    "start_time": "2022-09-21T08:08:52.501Z"
   },
   {
    "duration": 107,
    "start_time": "2022-09-21T08:08:52.610Z"
   },
   {
    "duration": 118,
    "start_time": "2022-09-21T08:08:52.718Z"
   },
   {
    "duration": 102,
    "start_time": "2022-09-21T08:08:52.838Z"
   },
   {
    "duration": 155,
    "start_time": "2022-09-21T08:08:52.942Z"
   },
   {
    "duration": 92,
    "start_time": "2022-09-21T08:08:53.098Z"
   },
   {
    "duration": 18,
    "start_time": "2022-09-21T08:08:53.209Z"
   },
   {
    "duration": 100,
    "start_time": "2022-09-21T08:08:53.228Z"
   },
   {
    "duration": 18,
    "start_time": "2022-09-21T08:08:53.330Z"
   },
   {
    "duration": 11,
    "start_time": "2022-09-21T08:08:53.350Z"
   },
   {
    "duration": 20,
    "start_time": "2022-09-21T08:08:53.363Z"
   },
   {
    "duration": 9150,
    "start_time": "2022-09-21T08:08:53.384Z"
   },
   {
    "duration": 57096,
    "start_time": "2022-09-21T08:09:02.536Z"
   },
   {
    "duration": 886,
    "start_time": "2022-09-21T08:09:59.633Z"
   },
   {
    "duration": 9639,
    "start_time": "2022-09-21T08:10:00.521Z"
   },
   {
    "duration": 56951,
    "start_time": "2022-09-21T08:10:10.162Z"
   },
   {
    "duration": 1011,
    "start_time": "2022-09-21T08:11:07.115Z"
   },
   {
    "duration": 12,
    "start_time": "2022-09-21T08:11:08.128Z"
   },
   {
    "duration": 11521,
    "start_time": "2022-09-21T08:11:08.142Z"
   },
   {
    "duration": 76437,
    "start_time": "2022-09-21T08:11:19.666Z"
   },
   {
    "duration": 925,
    "start_time": "2022-09-21T08:12:36.105Z"
   },
   {
    "duration": 120,
    "start_time": "2022-09-21T08:12:37.032Z"
   },
   {
    "duration": 3,
    "start_time": "2022-09-21T08:13:10.942Z"
   },
   {
    "duration": 1241,
    "start_time": "2022-09-21T10:59:48.311Z"
   },
   {
    "duration": 111,
    "start_time": "2022-09-21T11:04:43.462Z"
   },
   {
    "duration": 4,
    "start_time": "2022-09-21T11:04:58.913Z"
   },
   {
    "duration": 131,
    "start_time": "2022-09-21T11:04:58.919Z"
   },
   {
    "duration": 18,
    "start_time": "2022-09-21T11:04:59.052Z"
   },
   {
    "duration": 27,
    "start_time": "2022-09-21T11:04:59.072Z"
   },
   {
    "duration": 478,
    "start_time": "2022-09-21T11:04:59.101Z"
   },
   {
    "duration": 197,
    "start_time": "2022-09-21T11:04:59.580Z"
   },
   {
    "duration": 162,
    "start_time": "2022-09-21T11:04:59.779Z"
   },
   {
    "duration": 99,
    "start_time": "2022-09-21T11:04:59.943Z"
   },
   {
    "duration": 109,
    "start_time": "2022-09-21T11:05:00.044Z"
   },
   {
    "duration": 126,
    "start_time": "2022-09-21T11:05:00.155Z"
   },
   {
    "duration": 156,
    "start_time": "2022-09-21T11:05:00.283Z"
   },
   {
    "duration": 206,
    "start_time": "2022-09-21T11:05:00.441Z"
   },
   {
    "duration": 121,
    "start_time": "2022-09-21T11:05:00.650Z"
   },
   {
    "duration": 85,
    "start_time": "2022-09-21T11:05:00.773Z"
   },
   {
    "duration": 16,
    "start_time": "2022-09-21T11:05:00.876Z"
   },
   {
    "duration": 7,
    "start_time": "2022-09-21T11:05:07.877Z"
   },
   {
    "duration": 8,
    "start_time": "2022-09-21T11:05:41.421Z"
   },
   {
    "duration": 68,
    "start_time": "2022-09-21T11:09:53.690Z"
   },
   {
    "duration": 76,
    "start_time": "2022-09-21T11:11:15.268Z"
   },
   {
    "duration": 31,
    "start_time": "2022-09-21T11:11:50.837Z"
   },
   {
    "duration": 15,
    "start_time": "2022-09-21T11:12:20.566Z"
   },
   {
    "duration": 35,
    "start_time": "2022-09-21T11:14:49.151Z"
   },
   {
    "duration": 18,
    "start_time": "2022-09-21T11:20:28.106Z"
   },
   {
    "duration": 15,
    "start_time": "2022-09-21T11:27:13.489Z"
   },
   {
    "duration": 1193,
    "start_time": "2022-09-21T11:27:23.757Z"
   },
   {
    "duration": 64,
    "start_time": "2022-09-21T11:27:24.952Z"
   },
   {
    "duration": 20,
    "start_time": "2022-09-21T11:27:25.018Z"
   },
   {
    "duration": 7,
    "start_time": "2022-09-21T11:27:25.041Z"
   },
   {
    "duration": 544,
    "start_time": "2022-09-21T11:27:25.050Z"
   },
   {
    "duration": 140,
    "start_time": "2022-09-21T11:27:25.596Z"
   },
   {
    "duration": 150,
    "start_time": "2022-09-21T11:27:25.777Z"
   },
   {
    "duration": 88,
    "start_time": "2022-09-21T11:27:25.928Z"
   },
   {
    "duration": 97,
    "start_time": "2022-09-21T11:27:26.017Z"
   },
   {
    "duration": 102,
    "start_time": "2022-09-21T11:27:26.116Z"
   },
   {
    "duration": 103,
    "start_time": "2022-09-21T11:27:26.220Z"
   },
   {
    "duration": 98,
    "start_time": "2022-09-21T11:27:26.324Z"
   },
   {
    "duration": 167,
    "start_time": "2022-09-21T11:27:26.423Z"
   },
   {
    "duration": 95,
    "start_time": "2022-09-21T11:27:26.592Z"
   },
   {
    "duration": 14,
    "start_time": "2022-09-21T11:27:26.689Z"
   },
   {
    "duration": 15,
    "start_time": "2022-09-21T11:27:26.705Z"
   },
   {
    "duration": 19,
    "start_time": "2022-09-21T11:27:26.722Z"
   },
   {
    "duration": 40,
    "start_time": "2022-09-21T11:27:26.743Z"
   },
   {
    "duration": 22,
    "start_time": "2022-09-21T11:27:26.784Z"
   },
   {
    "duration": 8710,
    "start_time": "2022-09-21T11:27:26.807Z"
   },
   {
    "duration": 56873,
    "start_time": "2022-09-21T11:27:35.520Z"
   },
   {
    "duration": 1089,
    "start_time": "2022-09-21T11:28:32.395Z"
   },
   {
    "duration": 9215,
    "start_time": "2022-09-21T11:28:33.486Z"
   },
   {
    "duration": 57045,
    "start_time": "2022-09-21T11:28:42.702Z"
   },
   {
    "duration": 1145,
    "start_time": "2022-09-21T11:29:39.748Z"
   },
   {
    "duration": 12,
    "start_time": "2022-09-21T11:29:40.896Z"
   },
   {
    "duration": 10880,
    "start_time": "2022-09-21T11:29:40.910Z"
   },
   {
    "duration": 73455,
    "start_time": "2022-09-21T11:29:51.793Z"
   },
   {
    "duration": 1050,
    "start_time": "2022-09-21T11:31:05.250Z"
   },
   {
    "duration": 120,
    "start_time": "2022-09-21T11:31:06.302Z"
   },
   {
    "duration": 173,
    "start_time": "2022-09-21T11:46:55.553Z"
   },
   {
    "duration": 20,
    "start_time": "2022-09-21T11:47:40.072Z"
   },
   {
    "duration": 1280,
    "start_time": "2022-09-21T11:48:08.729Z"
   },
   {
    "duration": 73,
    "start_time": "2022-09-21T11:48:10.011Z"
   },
   {
    "duration": 23,
    "start_time": "2022-09-21T11:48:10.089Z"
   },
   {
    "duration": 8,
    "start_time": "2022-09-21T11:48:10.114Z"
   },
   {
    "duration": 489,
    "start_time": "2022-09-21T11:48:10.125Z"
   },
   {
    "duration": 185,
    "start_time": "2022-09-21T11:48:10.615Z"
   },
   {
    "duration": 166,
    "start_time": "2022-09-21T11:48:10.802Z"
   },
   {
    "duration": 120,
    "start_time": "2022-09-21T11:48:10.978Z"
   },
   {
    "duration": 110,
    "start_time": "2022-09-21T11:48:11.100Z"
   },
   {
    "duration": 150,
    "start_time": "2022-09-21T11:48:11.213Z"
   },
   {
    "duration": 157,
    "start_time": "2022-09-21T11:48:11.365Z"
   },
   {
    "duration": 123,
    "start_time": "2022-09-21T11:48:11.525Z"
   },
   {
    "duration": 202,
    "start_time": "2022-09-21T11:48:11.650Z"
   },
   {
    "duration": 110,
    "start_time": "2022-09-21T11:48:11.855Z"
   },
   {
    "duration": 19,
    "start_time": "2022-09-21T11:48:11.976Z"
   },
   {
    "duration": 18,
    "start_time": "2022-09-21T11:48:11.997Z"
   },
   {
    "duration": 28,
    "start_time": "2022-09-21T11:48:12.017Z"
   },
   {
    "duration": 45,
    "start_time": "2022-09-21T11:48:12.046Z"
   },
   {
    "duration": 41,
    "start_time": "2022-09-21T11:48:12.093Z"
   },
   {
    "duration": 9724,
    "start_time": "2022-09-21T11:48:12.136Z"
   },
   {
    "duration": 61242,
    "start_time": "2022-09-21T11:48:21.863Z"
   },
   {
    "duration": 898,
    "start_time": "2022-09-21T11:49:23.107Z"
   },
   {
    "duration": 9271,
    "start_time": "2022-09-21T11:49:24.008Z"
   },
   {
    "duration": 57300,
    "start_time": "2022-09-21T11:49:33.281Z"
   },
   {
    "duration": 912,
    "start_time": "2022-09-21T11:50:30.583Z"
   },
   {
    "duration": 17,
    "start_time": "2022-09-21T11:50:31.497Z"
   },
   {
    "duration": 8706,
    "start_time": "2022-09-21T11:50:31.516Z"
   },
   {
    "duration": 58925,
    "start_time": "2022-09-21T11:50:40.224Z"
   },
   {
    "duration": 1026,
    "start_time": "2022-09-21T11:51:39.151Z"
   },
   {
    "duration": 80,
    "start_time": "2022-09-21T11:51:40.179Z"
   },
   {
    "duration": 161,
    "start_time": "2022-09-21T11:56:13.278Z"
   },
   {
    "duration": 4,
    "start_time": "2022-09-21T11:56:22.015Z"
   },
   {
    "duration": 10,
    "start_time": "2022-09-21T11:56:44.223Z"
   },
   {
    "duration": 4,
    "start_time": "2022-09-21T11:57:29.704Z"
   },
   {
    "duration": 1607,
    "start_time": "2022-09-21T12:04:24.829Z"
   },
   {
    "duration": 22005,
    "start_time": "2022-09-21T12:09:04.506Z"
   },
   {
    "duration": 1673,
    "start_time": "2022-09-21T12:11:25.332Z"
   },
   {
    "duration": 295,
    "start_time": "2022-09-21T12:17:35.987Z"
   },
   {
    "duration": 1231,
    "start_time": "2022-09-21T12:18:31.731Z"
   },
   {
    "duration": 68,
    "start_time": "2022-09-21T12:18:32.964Z"
   },
   {
    "duration": 22,
    "start_time": "2022-09-21T12:18:33.034Z"
   },
   {
    "duration": 8,
    "start_time": "2022-09-21T12:18:33.059Z"
   },
   {
    "duration": 480,
    "start_time": "2022-09-21T12:18:33.069Z"
   },
   {
    "duration": 144,
    "start_time": "2022-09-21T12:18:33.551Z"
   },
   {
    "duration": 172,
    "start_time": "2022-09-21T12:18:33.697Z"
   },
   {
    "duration": 83,
    "start_time": "2022-09-21T12:18:33.871Z"
   },
   {
    "duration": 122,
    "start_time": "2022-09-21T12:18:33.955Z"
   },
   {
    "duration": 116,
    "start_time": "2022-09-21T12:18:34.080Z"
   },
   {
    "duration": 119,
    "start_time": "2022-09-21T12:18:34.198Z"
   },
   {
    "duration": 108,
    "start_time": "2022-09-21T12:18:34.319Z"
   },
   {
    "duration": 173,
    "start_time": "2022-09-21T12:18:34.430Z"
   },
   {
    "duration": 96,
    "start_time": "2022-09-21T12:18:34.605Z"
   },
   {
    "duration": 15,
    "start_time": "2022-09-21T12:18:34.703Z"
   },
   {
    "duration": 16,
    "start_time": "2022-09-21T12:18:34.720Z"
   },
   {
    "duration": 50,
    "start_time": "2022-09-21T12:18:34.738Z"
   },
   {
    "duration": 12,
    "start_time": "2022-09-21T12:18:34.790Z"
   },
   {
    "duration": 33,
    "start_time": "2022-09-21T12:18:34.803Z"
   },
   {
    "duration": 8982,
    "start_time": "2022-09-21T12:18:34.838Z"
   },
   {
    "duration": 58426,
    "start_time": "2022-09-21T12:18:43.822Z"
   },
   {
    "duration": 2134,
    "start_time": "2022-09-21T12:19:42.250Z"
   },
   {
    "duration": 9522,
    "start_time": "2022-09-21T12:19:44.387Z"
   },
   {
    "duration": 57336,
    "start_time": "2022-09-21T12:19:53.911Z"
   },
   {
    "duration": 2938,
    "start_time": "2022-09-21T12:20:51.249Z"
   },
   {
    "duration": 21,
    "start_time": "2022-09-21T12:20:54.189Z"
   },
   {
    "duration": 1793,
    "start_time": "2022-09-21T12:20:54.212Z"
   },
   {
    "duration": 24315,
    "start_time": "2022-09-21T12:20:56.008Z"
   },
   {
    "duration": 170,
    "start_time": "2022-09-21T12:21:20.326Z"
   },
   {
    "duration": 133,
    "start_time": "2022-09-21T12:21:20.579Z"
   },
   {
    "duration": 1311,
    "start_time": "2022-09-21T12:25:44.696Z"
   },
   {
    "duration": 65,
    "start_time": "2022-09-21T12:25:46.009Z"
   },
   {
    "duration": 33,
    "start_time": "2022-09-21T12:25:46.080Z"
   },
   {
    "duration": 9,
    "start_time": "2022-09-21T12:25:46.117Z"
   },
   {
    "duration": 494,
    "start_time": "2022-09-21T12:25:46.127Z"
   },
   {
    "duration": 187,
    "start_time": "2022-09-21T12:25:46.624Z"
   },
   {
    "duration": 211,
    "start_time": "2022-09-21T12:25:46.813Z"
   },
   {
    "duration": 114,
    "start_time": "2022-09-21T12:25:47.026Z"
   },
   {
    "duration": 116,
    "start_time": "2022-09-21T12:25:47.142Z"
   },
   {
    "duration": 132,
    "start_time": "2022-09-21T12:25:47.261Z"
   },
   {
    "duration": 119,
    "start_time": "2022-09-21T12:25:47.399Z"
   },
   {
    "duration": 106,
    "start_time": "2022-09-21T12:25:47.520Z"
   },
   {
    "duration": 197,
    "start_time": "2022-09-21T12:25:47.627Z"
   },
   {
    "duration": 108,
    "start_time": "2022-09-21T12:25:47.826Z"
   },
   {
    "duration": 17,
    "start_time": "2022-09-21T12:25:47.937Z"
   },
   {
    "duration": 51,
    "start_time": "2022-09-21T12:25:47.956Z"
   },
   {
    "duration": 21,
    "start_time": "2022-09-21T12:25:48.009Z"
   },
   {
    "duration": 14,
    "start_time": "2022-09-21T12:25:48.032Z"
   },
   {
    "duration": 38,
    "start_time": "2022-09-21T12:25:48.048Z"
   },
   {
    "duration": 9275,
    "start_time": "2022-09-21T12:25:48.095Z"
   },
   {
    "duration": 61501,
    "start_time": "2022-09-21T12:25:57.372Z"
   },
   {
    "duration": 2603,
    "start_time": "2022-09-21T12:26:58.875Z"
   },
   {
    "duration": 9667,
    "start_time": "2022-09-21T12:27:01.481Z"
   },
   {
    "duration": 60007,
    "start_time": "2022-09-21T12:27:11.150Z"
   },
   {
    "duration": 2638,
    "start_time": "2022-09-21T12:28:11.159Z"
   },
   {
    "duration": 25,
    "start_time": "2022-09-21T12:28:13.879Z"
   },
   {
    "duration": 1837,
    "start_time": "2022-09-21T12:28:13.906Z"
   },
   {
    "duration": 23918,
    "start_time": "2022-09-21T12:28:15.747Z"
   },
   {
    "duration": 314,
    "start_time": "2022-09-21T12:28:39.666Z"
   },
   {
    "duration": 139,
    "start_time": "2022-09-21T12:28:39.993Z"
   },
   {
    "duration": 30714,
    "start_time": "2022-09-21T12:42:18.173Z"
   },
   {
    "duration": 7,
    "start_time": "2022-09-21T12:44:22.408Z"
   }
  ],
  "kernelspec": {
   "display_name": "Python 3 (ipykernel)",
   "language": "python",
   "name": "python3"
  },
  "language_info": {
   "codemirror_mode": {
    "name": "ipython",
    "version": 3
   },
   "file_extension": ".py",
   "mimetype": "text/x-python",
   "name": "python",
   "nbconvert_exporter": "python",
   "pygments_lexer": "ipython3",
   "version": "3.9.15"
  },
  "toc": {
   "base_numbering": 1,
   "nav_menu": {},
   "number_sections": true,
   "sideBar": true,
   "skip_h1_title": true,
   "title_cell": "Содержание",
   "title_sidebar": "Contents",
   "toc_cell": true,
   "toc_position": {
    "height": "calc(100% - 180px)",
    "left": "10px",
    "top": "150px",
    "width": "165px"
   },
   "toc_section_display": true,
   "toc_window_display": true
  }
 },
 "nbformat": 4,
 "nbformat_minor": 2
}
