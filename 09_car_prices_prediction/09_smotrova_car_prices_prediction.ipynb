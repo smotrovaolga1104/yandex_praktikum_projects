{
 "cells": [
  {
   "cell_type": "markdown",
   "metadata": {},
   "source": [
    "# Прогноз стоимости автомобилей"
   ]
  },
  {
   "cell_type": "markdown",
   "metadata": {},
   "source": [
    "## Цель проекта\n",
    "\n",
    "Необходимо построить модель, позволяющую прогнозировать рыночную стоимость автомобиля в зависимости от его состояния и технических характеристик. Модель планируется использовать для сервиса по продаже автомобилей с пробегом. По условиям технического задания, для выбора оптимальной модели важны следующие характеристики:\n",
    "\n",
    "- качество предсказания (*RMSE* не больше 2 500);\n",
    "- скорость предсказания;\n",
    "- время обучения.\n",
    "\n",
    "Для реализации поставленной задачи необходимо:\n",
    "- проанализировать предоставленные исходные данные и их качество (полнота, наличие выбросов и т.п.);\n",
    "- по возможности устранить выявленные проблемы в данных, подготовить выборки;\n",
    "- обучить несколько моделей разной степени сложности;\n",
    "- сравнить модели по означенным характеристикам, выбрать оптимальную;\n",
    "- проверить качество выбранной модели на тестовой выборке."
   ]
  },
  {
   "cell_type": "code",
   "execution_count": 1,
   "metadata": {},
   "outputs": [],
   "source": [
    "#!pip install skimpy\n",
    "# Импорт используемых библиотек: \n",
    "import pandas as pd\n",
    "import numpy as np\n",
    "import matplotlib.pyplot as plt\n",
    "from skimpy import clean_columns\n",
    "from sklearn.preprocessing import OrdinalEncoder\n",
    "from sklearn.model_selection import train_test_split, GridSearchCV\n",
    "from sklearn.compose import ColumnTransformer\n",
    "from sklearn.pipeline import Pipeline\n",
    "from sklearn.tree import DecisionTreeRegressor\n",
    "from sklearn.ensemble import RandomForestRegressor\n",
    "from lightgbm import LGBMRegressor\n",
    "from sklearn.metrics import mean_squared_error\n",
    "from warnings import filterwarnings"
   ]
  },
  {
   "cell_type": "markdown",
   "metadata": {},
   "source": [
    "## Подготовка данных\n",
    "\n",
    "### Первичный обзор"
   ]
  },
  {
   "cell_type": "code",
   "execution_count": 2,
   "metadata": {},
   "outputs": [
    {
     "name": "stdout",
     "output_type": "stream",
     "text": [
      "<class 'pandas.core.frame.DataFrame'>\n",
      "RangeIndex: 354369 entries, 0 to 354368\n",
      "Data columns (total 16 columns):\n",
      " #   Column             Non-Null Count   Dtype \n",
      "---  ------             --------------   ----- \n",
      " 0   DateCrawled        354369 non-null  object\n",
      " 1   Price              354369 non-null  int64 \n",
      " 2   VehicleType        316879 non-null  object\n",
      " 3   RegistrationYear   354369 non-null  int64 \n",
      " 4   Gearbox            334536 non-null  object\n",
      " 5   Power              354369 non-null  int64 \n",
      " 6   Model              334664 non-null  object\n",
      " 7   Kilometer          354369 non-null  int64 \n",
      " 8   RegistrationMonth  354369 non-null  int64 \n",
      " 9   FuelType           321474 non-null  object\n",
      " 10  Brand              354369 non-null  object\n",
      " 11  Repaired           283215 non-null  object\n",
      " 12  DateCreated        354369 non-null  object\n",
      " 13  NumberOfPictures   354369 non-null  int64 \n",
      " 14  PostalCode         354369 non-null  int64 \n",
      " 15  LastSeen           354369 non-null  object\n",
      "dtypes: int64(7), object(9)\n",
      "memory usage: 43.3+ MB\n"
     ]
    },
    {
     "data": {
      "text/html": [
       "<div>\n",
       "<style scoped>\n",
       "    .dataframe tbody tr th:only-of-type {\n",
       "        vertical-align: middle;\n",
       "    }\n",
       "\n",
       "    .dataframe tbody tr th {\n",
       "        vertical-align: top;\n",
       "    }\n",
       "\n",
       "    .dataframe thead th {\n",
       "        text-align: right;\n",
       "    }\n",
       "</style>\n",
       "<table border=\"1\" class=\"dataframe\">\n",
       "  <thead>\n",
       "    <tr style=\"text-align: right;\">\n",
       "      <th></th>\n",
       "      <th>DateCrawled</th>\n",
       "      <th>Price</th>\n",
       "      <th>VehicleType</th>\n",
       "      <th>RegistrationYear</th>\n",
       "      <th>Gearbox</th>\n",
       "      <th>Power</th>\n",
       "      <th>Model</th>\n",
       "      <th>Kilometer</th>\n",
       "      <th>RegistrationMonth</th>\n",
       "      <th>FuelType</th>\n",
       "      <th>Brand</th>\n",
       "      <th>Repaired</th>\n",
       "      <th>DateCreated</th>\n",
       "      <th>NumberOfPictures</th>\n",
       "      <th>PostalCode</th>\n",
       "      <th>LastSeen</th>\n",
       "    </tr>\n",
       "  </thead>\n",
       "  <tbody>\n",
       "    <tr>\n",
       "      <th>0</th>\n",
       "      <td>2016-03-24 11:52:17</td>\n",
       "      <td>480</td>\n",
       "      <td>NaN</td>\n",
       "      <td>1993</td>\n",
       "      <td>manual</td>\n",
       "      <td>0</td>\n",
       "      <td>golf</td>\n",
       "      <td>150000</td>\n",
       "      <td>0</td>\n",
       "      <td>petrol</td>\n",
       "      <td>volkswagen</td>\n",
       "      <td>NaN</td>\n",
       "      <td>2016-03-24 00:00:00</td>\n",
       "      <td>0</td>\n",
       "      <td>70435</td>\n",
       "      <td>2016-04-07 03:16:57</td>\n",
       "    </tr>\n",
       "    <tr>\n",
       "      <th>1</th>\n",
       "      <td>2016-03-24 10:58:45</td>\n",
       "      <td>18300</td>\n",
       "      <td>coupe</td>\n",
       "      <td>2011</td>\n",
       "      <td>manual</td>\n",
       "      <td>190</td>\n",
       "      <td>NaN</td>\n",
       "      <td>125000</td>\n",
       "      <td>5</td>\n",
       "      <td>gasoline</td>\n",
       "      <td>audi</td>\n",
       "      <td>yes</td>\n",
       "      <td>2016-03-24 00:00:00</td>\n",
       "      <td>0</td>\n",
       "      <td>66954</td>\n",
       "      <td>2016-04-07 01:46:50</td>\n",
       "    </tr>\n",
       "    <tr>\n",
       "      <th>2</th>\n",
       "      <td>2016-03-14 12:52:21</td>\n",
       "      <td>9800</td>\n",
       "      <td>suv</td>\n",
       "      <td>2004</td>\n",
       "      <td>auto</td>\n",
       "      <td>163</td>\n",
       "      <td>grand</td>\n",
       "      <td>125000</td>\n",
       "      <td>8</td>\n",
       "      <td>gasoline</td>\n",
       "      <td>jeep</td>\n",
       "      <td>NaN</td>\n",
       "      <td>2016-03-14 00:00:00</td>\n",
       "      <td>0</td>\n",
       "      <td>90480</td>\n",
       "      <td>2016-04-05 12:47:46</td>\n",
       "    </tr>\n",
       "    <tr>\n",
       "      <th>3</th>\n",
       "      <td>2016-03-17 16:54:04</td>\n",
       "      <td>1500</td>\n",
       "      <td>small</td>\n",
       "      <td>2001</td>\n",
       "      <td>manual</td>\n",
       "      <td>75</td>\n",
       "      <td>golf</td>\n",
       "      <td>150000</td>\n",
       "      <td>6</td>\n",
       "      <td>petrol</td>\n",
       "      <td>volkswagen</td>\n",
       "      <td>no</td>\n",
       "      <td>2016-03-17 00:00:00</td>\n",
       "      <td>0</td>\n",
       "      <td>91074</td>\n",
       "      <td>2016-03-17 17:40:17</td>\n",
       "    </tr>\n",
       "    <tr>\n",
       "      <th>4</th>\n",
       "      <td>2016-03-31 17:25:20</td>\n",
       "      <td>3600</td>\n",
       "      <td>small</td>\n",
       "      <td>2008</td>\n",
       "      <td>manual</td>\n",
       "      <td>69</td>\n",
       "      <td>fabia</td>\n",
       "      <td>90000</td>\n",
       "      <td>7</td>\n",
       "      <td>gasoline</td>\n",
       "      <td>skoda</td>\n",
       "      <td>no</td>\n",
       "      <td>2016-03-31 00:00:00</td>\n",
       "      <td>0</td>\n",
       "      <td>60437</td>\n",
       "      <td>2016-04-06 10:17:21</td>\n",
       "    </tr>\n",
       "  </tbody>\n",
       "</table>\n",
       "</div>"
      ],
      "text/plain": [
       "           DateCrawled  Price VehicleType  RegistrationYear Gearbox  Power  \\\n",
       "0  2016-03-24 11:52:17    480         NaN              1993  manual      0   \n",
       "1  2016-03-24 10:58:45  18300       coupe              2011  manual    190   \n",
       "2  2016-03-14 12:52:21   9800         suv              2004    auto    163   \n",
       "3  2016-03-17 16:54:04   1500       small              2001  manual     75   \n",
       "4  2016-03-31 17:25:20   3600       small              2008  manual     69   \n",
       "\n",
       "   Model  Kilometer  RegistrationMonth  FuelType       Brand Repaired  \\\n",
       "0   golf     150000                  0    petrol  volkswagen      NaN   \n",
       "1    NaN     125000                  5  gasoline        audi      yes   \n",
       "2  grand     125000                  8  gasoline        jeep      NaN   \n",
       "3   golf     150000                  6    petrol  volkswagen       no   \n",
       "4  fabia      90000                  7  gasoline       skoda       no   \n",
       "\n",
       "           DateCreated  NumberOfPictures  PostalCode             LastSeen  \n",
       "0  2016-03-24 00:00:00                 0       70435  2016-04-07 03:16:57  \n",
       "1  2016-03-24 00:00:00                 0       66954  2016-04-07 01:46:50  \n",
       "2  2016-03-14 00:00:00                 0       90480  2016-04-05 12:47:46  \n",
       "3  2016-03-17 00:00:00                 0       91074  2016-03-17 17:40:17  \n",
       "4  2016-03-31 00:00:00                 0       60437  2016-04-06 10:17:21  "
      ]
     },
     "metadata": {},
     "output_type": "display_data"
    }
   ],
   "source": [
    "# Первичный обзор данных:\n",
    "try:\n",
    "    df = pd.read_csv('/datasets/autos.csv')\n",
    "except:\n",
    "    df = pd.read_csv('datasets/autos.csv')\n",
    "df.info()\n",
    "display(df.head())\n",
    "\n",
    "# Для контроля размера выборки:\n",
    "init_size = df.shape[0]"
   ]
  },
  {
   "cell_type": "markdown",
   "metadata": {},
   "source": [
    "Датасет содержит ок. 354 тыс. объектов. Целевым признаком является `Price` - цена автомобиля, указанная в объявлении. В составе признаков присутствуют следующие данные:\n",
    "- описание автомобиля - марка и модель, год и месяц регистрации, пробег, информация о ремонтах;\n",
    "- технические характеристики автомобиля - тип кузова, коробки передач, топлива, мощность двигателя;\n",
    "- информация об анкете и пользователе - даты создания и скачивания анкеты, число фотографий, почтовый индекс пользователя и дата его последней активности.\n",
    "\n",
    "Заметим, что колонки названы с большой буквы и без пробелов. Для дальнейшего удобства приведем написание названий признаков к snake_case: "
   ]
  },
  {
   "cell_type": "code",
   "execution_count": 3,
   "metadata": {},
   "outputs": [
    {
     "data": {
      "text/html": [
       "<pre style=\"white-space:pre;overflow-x:auto;line-height:normal;font-family:Menlo,'DejaVu Sans Mono',consolas,'Courier New',monospace\"><span style=\"color: #008080; text-decoration-color: #008080; font-weight: bold\">16</span> column names have been cleaned\n",
       "</pre>\n"
      ],
      "text/plain": [
       "\u001b[1;36m16\u001b[0m column names have been cleaned\n"
      ]
     },
     "metadata": {},
     "output_type": "display_data"
    },
    {
     "name": "stdout",
     "output_type": "stream",
     "text": [
      "Новые названия колонок:\n",
      " ['date_crawled', 'price', 'vehicle_type', 'registration_year', 'gearbox', 'power', 'model', 'kilometer', 'registration_month', 'fuel_type', 'brand', 'repaired', 'date_created', 'number_of_pictures', 'postal_code', 'last_seen']\n"
     ]
    }
   ],
   "source": [
    "#filterwarnings('ignore')\n",
    "# Приведем названия колонок к snake_case:\n",
    "df = clean_columns(df)\n",
    "print('Новые названия колонок:\\n', list(df.columns))"
   ]
  },
  {
   "cell_type": "markdown",
   "metadata": {},
   "source": [
    "В части признаков есть пропущенные значения:"
   ]
  },
  {
   "cell_type": "code",
   "execution_count": 4,
   "metadata": {},
   "outputs": [
    {
     "data": {
      "text/html": [
       "<style type=\"text/css\">\n",
       "#T_62371_row0_col0, #T_62371_row1_col0, #T_62371_row3_col0, #T_62371_row5_col0, #T_62371_row7_col0, #T_62371_row8_col0, #T_62371_row10_col0, #T_62371_row12_col0, #T_62371_row13_col0, #T_62371_row14_col0, #T_62371_row15_col0 {\n",
       "  background-color: #fff7fb;\n",
       "  color: #000000;\n",
       "}\n",
       "#T_62371_row2_col0 {\n",
       "  background-color: #67a4cc;\n",
       "  color: #f1f1f1;\n",
       "}\n",
       "#T_62371_row4_col0 {\n",
       "  background-color: #c6cce3;\n",
       "  color: #000000;\n",
       "}\n",
       "#T_62371_row6_col0 {\n",
       "  background-color: #c8cde4;\n",
       "  color: #000000;\n",
       "}\n",
       "#T_62371_row9_col0 {\n",
       "  background-color: #83afd3;\n",
       "  color: #f1f1f1;\n",
       "}\n",
       "#T_62371_row11_col0 {\n",
       "  background-color: #023858;\n",
       "  color: #f1f1f1;\n",
       "}\n",
       "</style>\n",
       "<table id=\"T_62371\">\n",
       "  <thead>\n",
       "    <tr>\n",
       "      <th class=\"blank level0\" >&nbsp;</th>\n",
       "      <th id=\"T_62371_level0_col0\" class=\"col_heading level0 col0\" >0</th>\n",
       "    </tr>\n",
       "  </thead>\n",
       "  <tbody>\n",
       "    <tr>\n",
       "      <th id=\"T_62371_level0_row0\" class=\"row_heading level0 row0\" >date_crawled</th>\n",
       "      <td id=\"T_62371_row0_col0\" class=\"data row0 col0\" >0.000000</td>\n",
       "    </tr>\n",
       "    <tr>\n",
       "      <th id=\"T_62371_level0_row1\" class=\"row_heading level0 row1\" >price</th>\n",
       "      <td id=\"T_62371_row1_col0\" class=\"data row1 col0\" >0.000000</td>\n",
       "    </tr>\n",
       "    <tr>\n",
       "      <th id=\"T_62371_level0_row2\" class=\"row_heading level0 row2\" >vehicle_type</th>\n",
       "      <td id=\"T_62371_row2_col0\" class=\"data row2 col0\" >10.579000</td>\n",
       "    </tr>\n",
       "    <tr>\n",
       "      <th id=\"T_62371_level0_row3\" class=\"row_heading level0 row3\" >registration_year</th>\n",
       "      <td id=\"T_62371_row3_col0\" class=\"data row3 col0\" >0.000000</td>\n",
       "    </tr>\n",
       "    <tr>\n",
       "      <th id=\"T_62371_level0_row4\" class=\"row_heading level0 row4\" >gearbox</th>\n",
       "      <td id=\"T_62371_row4_col0\" class=\"data row4 col0\" >5.597000</td>\n",
       "    </tr>\n",
       "    <tr>\n",
       "      <th id=\"T_62371_level0_row5\" class=\"row_heading level0 row5\" >power</th>\n",
       "      <td id=\"T_62371_row5_col0\" class=\"data row5 col0\" >0.000000</td>\n",
       "    </tr>\n",
       "    <tr>\n",
       "      <th id=\"T_62371_level0_row6\" class=\"row_heading level0 row6\" >model</th>\n",
       "      <td id=\"T_62371_row6_col0\" class=\"data row6 col0\" >5.561000</td>\n",
       "    </tr>\n",
       "    <tr>\n",
       "      <th id=\"T_62371_level0_row7\" class=\"row_heading level0 row7\" >kilometer</th>\n",
       "      <td id=\"T_62371_row7_col0\" class=\"data row7 col0\" >0.000000</td>\n",
       "    </tr>\n",
       "    <tr>\n",
       "      <th id=\"T_62371_level0_row8\" class=\"row_heading level0 row8\" >registration_month</th>\n",
       "      <td id=\"T_62371_row8_col0\" class=\"data row8 col0\" >0.000000</td>\n",
       "    </tr>\n",
       "    <tr>\n",
       "      <th id=\"T_62371_level0_row9\" class=\"row_heading level0 row9\" >fuel_type</th>\n",
       "      <td id=\"T_62371_row9_col0\" class=\"data row9 col0\" >9.283000</td>\n",
       "    </tr>\n",
       "    <tr>\n",
       "      <th id=\"T_62371_level0_row10\" class=\"row_heading level0 row10\" >brand</th>\n",
       "      <td id=\"T_62371_row10_col0\" class=\"data row10 col0\" >0.000000</td>\n",
       "    </tr>\n",
       "    <tr>\n",
       "      <th id=\"T_62371_level0_row11\" class=\"row_heading level0 row11\" >repaired</th>\n",
       "      <td id=\"T_62371_row11_col0\" class=\"data row11 col0\" >20.079000</td>\n",
       "    </tr>\n",
       "    <tr>\n",
       "      <th id=\"T_62371_level0_row12\" class=\"row_heading level0 row12\" >date_created</th>\n",
       "      <td id=\"T_62371_row12_col0\" class=\"data row12 col0\" >0.000000</td>\n",
       "    </tr>\n",
       "    <tr>\n",
       "      <th id=\"T_62371_level0_row13\" class=\"row_heading level0 row13\" >number_of_pictures</th>\n",
       "      <td id=\"T_62371_row13_col0\" class=\"data row13 col0\" >0.000000</td>\n",
       "    </tr>\n",
       "    <tr>\n",
       "      <th id=\"T_62371_level0_row14\" class=\"row_heading level0 row14\" >postal_code</th>\n",
       "      <td id=\"T_62371_row14_col0\" class=\"data row14 col0\" >0.000000</td>\n",
       "    </tr>\n",
       "    <tr>\n",
       "      <th id=\"T_62371_level0_row15\" class=\"row_heading level0 row15\" >last_seen</th>\n",
       "      <td id=\"T_62371_row15_col0\" class=\"data row15 col0\" >0.000000</td>\n",
       "    </tr>\n",
       "  </tbody>\n",
       "</table>\n"
      ],
      "text/plain": [
       "<pandas.io.formats.style.Styler at 0x172027ef1f0>"
      ]
     },
     "execution_count": 4,
     "metadata": {},
     "output_type": "execute_result"
    }
   ],
   "source": [
    "# Доли явных пропусков в данных:\n",
    "pd.DataFrame(round(df.isna().mean()*100,3)).style.background_gradient()"
   ]
  },
  {
   "cell_type": "markdown",
   "metadata": {},
   "source": [
    "Явные пропуски в целевом признаке отсутствуют. Наибольшее число пропусков (более 20%) содержатся в признаке `repaired` (был ли ремонт), ок. 10% - в признаках `vehicle_type` и `fuel_type` (тип кузова и топлива), ок. 6% - в признаках `gearbox` и `model` (тип коробки передач и модель авто). При подготовке данных необходимо будет проанализировать пропущенные значения и по возможности предложить замену пропускам."
   ]
  },
  {
   "cell_type": "markdown",
   "metadata": {},
   "source": [
    "### Структура данных\n",
    "\n",
    "Рассмотрим структуру признаков на предмет подозрительных значений и дубликатов для категориальных признаков."
   ]
  },
  {
   "cell_type": "code",
   "execution_count": 5,
   "metadata": {},
   "outputs": [],
   "source": [
    "# Для удобства создадим шаблон для вывода долей:\n",
    "def shares_display(col_name):\n",
    "    return (pd.DataFrame(df[col_name].value_counts(normalize=True, dropna=False)).\n",
    "            rename({col_name:'Доля, %'}, axis=1).\n",
    "            head(10)*100)"
   ]
  },
  {
   "cell_type": "markdown",
   "metadata": {},
   "source": [
    "#### Цена автомобилей"
   ]
  },
  {
   "cell_type": "code",
   "execution_count": 6,
   "metadata": {
    "scrolled": true
   },
   "outputs": [
    {
     "name": "stderr",
     "output_type": "stream",
     "text": [
      "C:\\Users\\1\\AppData\\Local\\Temp\\ipykernel_1080\\4114479380.py:9: UserWarning: Matplotlib is currently using module://matplotlib_inline.backend_inline, which is a non-GUI backend, so cannot show the figure.\n",
      "  fig.show()\n"
     ]
    },
    {
     "data": {
      "text/plain": [
       "count    354369.000000\n",
       "mean       4416.656776\n",
       "std        4514.158514\n",
       "min           0.000000\n",
       "25%        1050.000000\n",
       "50%        2700.000000\n",
       "75%        6400.000000\n",
       "max       20000.000000\n",
       "Name: price, dtype: float64"
      ]
     },
     "metadata": {},
     "output_type": "display_data"
    },
    {
     "data": {
      "image/png": "[encoded data removed]",
      "text/plain": [
       "<Figure size 1000x400 with 2 Axes>"
      ]
     },
     "metadata": {},
     "output_type": "display_data"
    }
   ],
   "source": [
    "# Гистограмма:\n",
    "fig, axs = plt.subplots(1, 2, figsize=(10, 4))\n",
    "axs[0].hist(df['price'], bins = 50)\n",
    "axs[0].set_title('Цена (общее распределение)')\n",
    "axs[0].set_xlabel('В евро')\n",
    "axs[1].hist(df.query('price <= 500')['price'], bins = 50)\n",
    "axs[1].set_xlabel('В евро')\n",
    "axs[1].set_title('Цена до 500 евро')\n",
    "fig.show()\n",
    "# Описательные статистики:\n",
    "display(df['price'].describe())"
   ]
  },
  {
   "cell_type": "markdown",
   "metadata": {},
   "source": [
    "Указанные в объявлениях цены на авто варьируются от 0 до 20 тыс. евро. Распределение смещенное: медиана составляет 2 700 евро, в то время как среднее - ок. 4 400 евро. Присутствует подозрительный пик в районе нуля: цена от 0 до 1 евро указана для 3,4% объектов в выборке.\n",
    "\n",
    "#### Описание автомобиля"
   ]
  },
  {
   "cell_type": "code",
   "execution_count": 7,
   "metadata": {},
   "outputs": [
    {
     "name": "stdout",
     "output_type": "stream",
     "text": [
      "Уникальных марок автомобилей: 40\n",
      "Топ-10 марок:\n"
     ]
    },
    {
     "data": {
      "text/html": [
       "<div>\n",
       "<style scoped>\n",
       "    .dataframe tbody tr th:only-of-type {\n",
       "        vertical-align: middle;\n",
       "    }\n",
       "\n",
       "    .dataframe tbody tr th {\n",
       "        vertical-align: top;\n",
       "    }\n",
       "\n",
       "    .dataframe thead th {\n",
       "        text-align: right;\n",
       "    }\n",
       "</style>\n",
       "<table border=\"1\" class=\"dataframe\">\n",
       "  <thead>\n",
       "    <tr style=\"text-align: right;\">\n",
       "      <th></th>\n",
       "      <th>Доля, %</th>\n",
       "    </tr>\n",
       "  </thead>\n",
       "  <tbody>\n",
       "    <tr>\n",
       "      <th>volkswagen</th>\n",
       "      <td>21.732431</td>\n",
       "    </tr>\n",
       "    <tr>\n",
       "      <th>opel</th>\n",
       "      <td>11.268198</td>\n",
       "    </tr>\n",
       "    <tr>\n",
       "      <th>bmw</th>\n",
       "      <td>10.416825</td>\n",
       "    </tr>\n",
       "    <tr>\n",
       "      <th>mercedes_benz</th>\n",
       "      <td>9.043116</td>\n",
       "    </tr>\n",
       "    <tr>\n",
       "      <th>audi</th>\n",
       "      <td>8.312240</td>\n",
       "    </tr>\n",
       "    <tr>\n",
       "      <th>ford</th>\n",
       "      <td>7.105305</td>\n",
       "    </tr>\n",
       "    <tr>\n",
       "      <th>renault</th>\n",
       "      <td>5.058851</td>\n",
       "    </tr>\n",
       "    <tr>\n",
       "      <th>peugeot</th>\n",
       "      <td>3.103545</td>\n",
       "    </tr>\n",
       "    <tr>\n",
       "      <th>fiat</th>\n",
       "      <td>2.721175</td>\n",
       "    </tr>\n",
       "    <tr>\n",
       "      <th>seat</th>\n",
       "      <td>1.949098</td>\n",
       "    </tr>\n",
       "  </tbody>\n",
       "</table>\n",
       "</div>"
      ],
      "text/plain": [
       "                 Доля, %\n",
       "volkswagen     21.732431\n",
       "opel           11.268198\n",
       "bmw            10.416825\n",
       "mercedes_benz   9.043116\n",
       "audi            8.312240\n",
       "ford            7.105305\n",
       "renault         5.058851\n",
       "peugeot         3.103545\n",
       "fiat            2.721175\n",
       "seat            1.949098"
      ]
     },
     "metadata": {},
     "output_type": "display_data"
    }
   ],
   "source": [
    "# Описание признака марки авто:\n",
    "print('Уникальных марок автомобилей:', df['brand'].nunique())\n",
    "print('Топ-10 марок:')\n",
    "display(shares_display('brand'))"
   ]
  },
  {
   "cell_type": "markdown",
   "metadata": {},
   "source": [
    "- **Марка**: заметим, что выборка достаточно концентрированная: на топ-5 брендов из 40 представленных приходится более 60% всех объектов. Кроме того, все топ-5 брендов имеют немецкое происхождение (вероятнее всего, данные представлены по немецкому рынку)."
   ]
  },
  {
   "cell_type": "code",
   "execution_count": 8,
   "metadata": {},
   "outputs": [
    {
     "name": "stdout",
     "output_type": "stream",
     "text": [
      "Уникальных моделей автомобилей: 250\n",
      "['100' '145' '147' '156' '159' '1_reihe' '1er' '200' '2_reihe' '300c'\n",
      " '3_reihe' '3er' '4_reihe' '500' '5_reihe' '5er' '601' '6_reihe' '6er'\n",
      " '7er' '80' '850' '90' '900' '9000' '911' 'a1' 'a2' 'a3' 'a4' 'a5' 'a6'\n",
      " 'a8' 'a_klasse' 'accord' 'agila' 'alhambra' 'almera' 'altea' 'amarok'\n",
      " 'antara' 'arosa' 'astra' 'auris' 'avensis' 'aveo' 'aygo' 'b_klasse'\n",
      " 'b_max' 'beetle' 'berlingo' 'bora' 'boxster' 'bravo' 'c1' 'c2' 'c3' 'c4'\n",
      " 'c5' 'c_klasse' 'c_max' 'c_reihe' 'caddy' 'calibra' 'captiva' 'carisma'\n",
      " 'carnival' 'cayenne' 'cc' 'ceed' 'charade' 'cherokee' 'citigo' 'civic'\n",
      " 'cl' 'clio' 'clk' 'clubman' 'colt' 'combo' 'cooper' 'cordoba' 'corolla'\n",
      " 'corsa' 'cr_reihe' 'croma' 'crossfire' 'cuore' 'cx_reihe' 'defender'\n",
      " 'delta' 'discovery' 'doblo' 'ducato' 'duster' 'e_klasse' 'elefantino'\n",
      " 'eos' 'escort' 'espace' 'exeo' 'fabia' 'fiesta' 'focus' 'forester'\n",
      " 'forfour' 'fortwo' 'fox' 'freelander' 'fusion' 'g_klasse' 'galant'\n",
      " 'galaxy' 'getz' 'gl' 'glk' 'golf' 'grand' 'i3' 'i_reihe' 'ibiza'\n",
      " 'impreza' 'insignia' 'jazz' 'jetta' 'jimny' 'juke' 'justy' 'ka' 'kadett'\n",
      " 'kaefer' 'kalina' 'kalos' 'kangoo' 'kappa' 'kuga' 'laguna' 'lancer'\n",
      " 'lanos' 'legacy' 'leon' 'lodgy' 'logan' 'lupo' 'lybra' 'm_klasse'\n",
      " 'm_reihe' 'materia' 'matiz' 'megane' 'meriva' 'micra' 'mii' 'modus'\n",
      " 'mondeo' 'move' 'musa' 'mustang' 'mx_reihe' 'navara' 'niva' 'note'\n",
      " 'nubira' 'octavia' 'omega' 'one' 'other' 'outlander' 'pajero' 'panda'\n",
      " 'passat' 'phaeton' 'picanto' 'polo' 'primera' 'ptcruiser' 'punto' 'q3'\n",
      " 'q5' 'q7' 'qashqai' 'r19' 'range_rover' 'range_rover_evoque'\n",
      " 'range_rover_sport' 'rangerover' 'rav' 'rio' 'roadster' 'roomster'\n",
      " 'rx_reihe' 's60' 's_klasse' 's_max' 's_type' 'samara' 'sandero' 'santa'\n",
      " 'scenic' 'scirocco' 'seicento' 'serie_1' 'serie_2' 'serie_3' 'sharan'\n",
      " 'signum' 'sirion' 'sl' 'slk' 'sorento' 'spark' 'spider' 'sportage'\n",
      " 'sprinter' 'stilo' 'superb' 'swift' 'terios' 'tigra' 'tiguan' 'toledo'\n",
      " 'touareg' 'touran' 'transit' 'transporter' 'tt' 'tucson' 'twingo' 'up'\n",
      " 'v40' 'v50' 'v60' 'v70' 'v_klasse' 'vectra' 'verso' 'viano' 'vito'\n",
      " 'vivaro' 'voyager' 'wrangler' 'x_reihe' 'x_trail' 'x_type' 'xc_reihe'\n",
      " 'yaris' 'yeti' 'ypsilon' 'z_reihe' 'zafira']\n"
     ]
    }
   ],
   "source": [
    "# Описание признака модели авто:\n",
    "print('Уникальных моделей автомобилей:', df['model'].nunique())\n",
    "print(np.sort(df['model'].dropna().unique())) # исключаем пропуски, чтобы отсортировать значения"
   ]
  },
  {
   "cell_type": "markdown",
   "metadata": {},
   "source": [
    "- **Модель**: в выборке представлено 250 уникальных моделей авто; дубликатов в написании не выявлено."
   ]
  },
  {
   "cell_type": "code",
   "execution_count": 9,
   "metadata": {},
   "outputs": [
    {
     "name": "stderr",
     "output_type": "stream",
     "text": [
      "C:\\Users\\1\\AppData\\Local\\Temp\\ipykernel_1080\\3661203689.py:9: UserWarning: Matplotlib is currently using module://matplotlib_inline.backend_inline, which is a non-GUI backend, so cannot show the figure.\n",
      "  fig.show()\n"
     ]
    },
    {
     "data": {
      "image/png": "[encoded data removed]",
      "text/plain": [
       "<Figure size 1500x400 with 3 Axes>"
      ]
     },
     "metadata": {},
     "output_type": "display_data"
    }
   ],
   "source": [
    "# Описание признаков года и месяца регистрации:\n",
    "fig, axs = plt.subplots(1, 3, figsize=(15, 4))\n",
    "axs[0].hist(df['registration_year'], bins = 50)\n",
    "axs[0].set_title('Год регистрации (общее распределение)')\n",
    "axs[1].hist(df.query('1960 <= registration_year <= 2022')['registration_year'], bins = 63)\n",
    "axs[1].set_title('Год регистрации (c 1960 по 2020)')\n",
    "axs[2].hist(df['registration_month'], bins = 50)\n",
    "axs[2].set_title('Месяц регистрации')\n",
    "fig.show()"
   ]
  },
  {
   "cell_type": "markdown",
   "metadata": {},
   "source": [
    "- **Год регистрации**: в распределении присутствуют единичные выбросы, сдвигающие ось гистограммы и затрудняющие анализ. Такие данные не выглядят правдоподобно: год может быть как меньше 1900, так и больше 2022 гг. Число таких объектов не превышает 0.1% от всей выборки. Диапазон \"правдоподобных\" значений начинается в 1960 г. и заканчивается 2019 г. Преобладают объекты, зарегистрированные в конце 90-х - начале нулевывх годов. При этом присутствует всплеск на уровне 2016-2018 гг.\n",
    "\n",
    "Исходя из этого, можно предположить, что под годом регистрации понимается год выпуска автомобиля. Если это так, данный параметр следует учитывать в модели. Однако, если под годом регистрации понимается год последнего перехода права собственности на автомобиль (и соответственно изменений в регистрационных данных), этот параметр в меньшей степени влияет на цену авто.\n",
    "\n",
    "- **Месяц регистрации**: в ок. 10% данных указан 0 в качестве месяца регистрации. Судя по тому, что также присутствуют объекты с месяцами 1-12, нулем могут быть обозначены объекты, в которых месяц регистрации не указан. Представляется, что месяц регистрации является не принципиальным параметром для расчета цены автомобиля (большее значение имеет год выпуска)."
   ]
  },
  {
   "cell_type": "code",
   "execution_count": 10,
   "metadata": {},
   "outputs": [
    {
     "data": {
      "image/png": "[encoded data removed]",
      "text/plain": [
       "<Figure size 640x480 with 1 Axes>"
      ]
     },
     "metadata": {},
     "output_type": "display_data"
    }
   ],
   "source": [
    "# Описание признака пробега:\n",
    "df['kilometer'].hist(bins=13)\n",
    "plt.title('Пробег')\n",
    "plt.xlim(5000, 150000)\n",
    "plt.xlabel('В км')\n",
    "plt.show()"
   ]
  },
  {
   "cell_type": "markdown",
   "metadata": {},
   "source": [
    "- **Пробег**: заметим, что распределение значений пробега дискретное - всего 13 уникальных значений (5, 10, 20, ..., 100, 125 и 150 тыс. км), причем более 50% объектов обладают пробегом 150 000 км. Такое распределение для реального пробега не выглядит реалистичным; вероятнее всего, анкета предполагает указание *диапазона*, в который попадает реальный пробег авто. При выгрузке указывается максимальное значение диапазона (для диапазона \"150 тыс. км +\" - минимальное). Т.е. де-факто пробег является категориальным признаком."
   ]
  },
  {
   "cell_type": "code",
   "execution_count": 11,
   "metadata": {},
   "outputs": [
    {
     "name": "stdout",
     "output_type": "stream",
     "text": [
      "Структура данных по ремонтам:\n"
     ]
    },
    {
     "data": {
      "text/html": [
       "<div>\n",
       "<style scoped>\n",
       "    .dataframe tbody tr th:only-of-type {\n",
       "        vertical-align: middle;\n",
       "    }\n",
       "\n",
       "    .dataframe tbody tr th {\n",
       "        vertical-align: top;\n",
       "    }\n",
       "\n",
       "    .dataframe thead th {\n",
       "        text-align: right;\n",
       "    }\n",
       "</style>\n",
       "<table border=\"1\" class=\"dataframe\">\n",
       "  <thead>\n",
       "    <tr style=\"text-align: right;\">\n",
       "      <th></th>\n",
       "      <th>Доля, %</th>\n",
       "    </tr>\n",
       "  </thead>\n",
       "  <tbody>\n",
       "    <tr>\n",
       "      <th>no</th>\n",
       "      <td>69.746789</td>\n",
       "    </tr>\n",
       "    <tr>\n",
       "      <th>NaN</th>\n",
       "      <td>20.079070</td>\n",
       "    </tr>\n",
       "    <tr>\n",
       "      <th>yes</th>\n",
       "      <td>10.174141</td>\n",
       "    </tr>\n",
       "  </tbody>\n",
       "</table>\n",
       "</div>"
      ],
      "text/plain": [
       "       Доля, %\n",
       "no   69.746789\n",
       "NaN  20.079070\n",
       "yes  10.174141"
      ]
     },
     "metadata": {},
     "output_type": "display_data"
    }
   ],
   "source": [
    "# Описание признака ремонта:\n",
    "print('Структура данных по ремонтам:')\n",
    "display(shares_display('repaired'))"
   ]
  },
  {
   "cell_type": "markdown",
   "metadata": {},
   "source": [
    "- **Ремонт**: ок. 70% объектов во всей выборке не подвергались ремонтам; в 10% - ремонт был; по ок. 20% объектов отсутствуют данные. Скорее всего, они не были указаны в анкете. Однако, наличие пропуска при выгрузке свидетельствует против того, что незаполненные поля при выгрузке превращаются в ноль. Возможно, произошел технический сбой при выгрузке.\n",
    "\n",
    "#### Технические характеристики автомобиля"
   ]
  },
  {
   "cell_type": "code",
   "execution_count": 12,
   "metadata": {},
   "outputs": [
    {
     "name": "stdout",
     "output_type": "stream",
     "text": [
      "Структура данных по типам кузова:\n"
     ]
    },
    {
     "data": {
      "text/html": [
       "<div>\n",
       "<style scoped>\n",
       "    .dataframe tbody tr th:only-of-type {\n",
       "        vertical-align: middle;\n",
       "    }\n",
       "\n",
       "    .dataframe tbody tr th {\n",
       "        vertical-align: top;\n",
       "    }\n",
       "\n",
       "    .dataframe thead th {\n",
       "        text-align: right;\n",
       "    }\n",
       "</style>\n",
       "<table border=\"1\" class=\"dataframe\">\n",
       "  <thead>\n",
       "    <tr style=\"text-align: right;\">\n",
       "      <th></th>\n",
       "      <th>Доля, %</th>\n",
       "    </tr>\n",
       "  </thead>\n",
       "  <tbody>\n",
       "    <tr>\n",
       "      <th>sedan</th>\n",
       "      <td>25.808409</td>\n",
       "    </tr>\n",
       "    <tr>\n",
       "      <th>small</th>\n",
       "      <td>22.527648</td>\n",
       "    </tr>\n",
       "    <tr>\n",
       "      <th>wagon</th>\n",
       "      <td>18.389306</td>\n",
       "    </tr>\n",
       "    <tr>\n",
       "      <th>NaN</th>\n",
       "      <td>10.579368</td>\n",
       "    </tr>\n",
       "    <tr>\n",
       "      <th>bus</th>\n",
       "      <td>8.120067</td>\n",
       "    </tr>\n",
       "    <tr>\n",
       "      <th>convertible</th>\n",
       "      <td>5.701119</td>\n",
       "    </tr>\n",
       "    <tr>\n",
       "      <th>coupe</th>\n",
       "      <td>4.561065</td>\n",
       "    </tr>\n",
       "    <tr>\n",
       "      <th>suv</th>\n",
       "      <td>3.385172</td>\n",
       "    </tr>\n",
       "    <tr>\n",
       "      <th>other</th>\n",
       "      <td>0.927846</td>\n",
       "    </tr>\n",
       "  </tbody>\n",
       "</table>\n",
       "</div>"
      ],
      "text/plain": [
       "               Доля, %\n",
       "sedan        25.808409\n",
       "small        22.527648\n",
       "wagon        18.389306\n",
       "NaN          10.579368\n",
       "bus           8.120067\n",
       "convertible   5.701119\n",
       "coupe         4.561065\n",
       "suv           3.385172\n",
       "other         0.927846"
      ]
     },
     "metadata": {},
     "output_type": "display_data"
    }
   ],
   "source": [
    "# Описание признака типа кузова:\n",
    "print('Структура данных по типам кузова:')\n",
    "display(shares_display('vehicle_type'))"
   ]
  },
  {
   "cell_type": "markdown",
   "metadata": {},
   "source": [
    "- **Тип кузова**: в выборке доминируют седаны (более 25% общего числа объектов) и мини-автомобили (ок. 23%). В ок. 10% случаев тип кузова не указан. Возможно, получится восстановить информацию по модели авто."
   ]
  },
  {
   "cell_type": "code",
   "execution_count": 13,
   "metadata": {},
   "outputs": [
    {
     "name": "stdout",
     "output_type": "stream",
     "text": [
      "Структура данных по коробке передач:\n"
     ]
    },
    {
     "data": {
      "text/html": [
       "<div>\n",
       "<style scoped>\n",
       "    .dataframe tbody tr th:only-of-type {\n",
       "        vertical-align: middle;\n",
       "    }\n",
       "\n",
       "    .dataframe tbody tr th {\n",
       "        vertical-align: top;\n",
       "    }\n",
       "\n",
       "    .dataframe thead th {\n",
       "        text-align: right;\n",
       "    }\n",
       "</style>\n",
       "<table border=\"1\" class=\"dataframe\">\n",
       "  <thead>\n",
       "    <tr style=\"text-align: right;\">\n",
       "      <th></th>\n",
       "      <th>Доля, %</th>\n",
       "    </tr>\n",
       "  </thead>\n",
       "  <tbody>\n",
       "    <tr>\n",
       "      <th>manual</th>\n",
       "      <td>75.698213</td>\n",
       "    </tr>\n",
       "    <tr>\n",
       "      <th>auto</th>\n",
       "      <td>18.705079</td>\n",
       "    </tr>\n",
       "    <tr>\n",
       "      <th>NaN</th>\n",
       "      <td>5.596709</td>\n",
       "    </tr>\n",
       "  </tbody>\n",
       "</table>\n",
       "</div>"
      ],
      "text/plain": [
       "          Доля, %\n",
       "manual  75.698213\n",
       "auto    18.705079\n",
       "NaN      5.596709"
      ]
     },
     "metadata": {},
     "output_type": "display_data"
    }
   ],
   "source": [
    "# Описание признака коробки передач:\n",
    "print('Структура данных по коробке передач:')\n",
    "display(shares_display('gearbox'))"
   ]
  },
  {
   "cell_type": "markdown",
   "metadata": {},
   "source": [
    "- **Коробка передач**: более 75% автомобилей в выборке имеют механическую коробку передач. Пропуски составляют ок. 6% от всей выборки. Восстановление данных по модели авто в данном случае предстваляется менее оправданным (одна и та же модель может быть оснащена как механической, так и автоматической коробкой передач)."
   ]
  },
  {
   "cell_type": "code",
   "execution_count": 14,
   "metadata": {},
   "outputs": [
    {
     "name": "stdout",
     "output_type": "stream",
     "text": [
      "Структура данных по потребляемому топливу:\n"
     ]
    },
    {
     "data": {
      "text/html": [
       "<div>\n",
       "<style scoped>\n",
       "    .dataframe tbody tr th:only-of-type {\n",
       "        vertical-align: middle;\n",
       "    }\n",
       "\n",
       "    .dataframe tbody tr th {\n",
       "        vertical-align: top;\n",
       "    }\n",
       "\n",
       "    .dataframe thead th {\n",
       "        text-align: right;\n",
       "    }\n",
       "</style>\n",
       "<table border=\"1\" class=\"dataframe\">\n",
       "  <thead>\n",
       "    <tr style=\"text-align: right;\">\n",
       "      <th></th>\n",
       "      <th>Доля, %</th>\n",
       "    </tr>\n",
       "  </thead>\n",
       "  <tbody>\n",
       "    <tr>\n",
       "      <th>petrol</th>\n",
       "      <td>61.052744</td>\n",
       "    </tr>\n",
       "    <tr>\n",
       "      <th>gasoline</th>\n",
       "      <td>27.857967</td>\n",
       "    </tr>\n",
       "    <tr>\n",
       "      <th>NaN</th>\n",
       "      <td>9.282697</td>\n",
       "    </tr>\n",
       "    <tr>\n",
       "      <th>lpg</th>\n",
       "      <td>1.498438</td>\n",
       "    </tr>\n",
       "    <tr>\n",
       "      <th>cng</th>\n",
       "      <td>0.159438</td>\n",
       "    </tr>\n",
       "    <tr>\n",
       "      <th>hybrid</th>\n",
       "      <td>0.065751</td>\n",
       "    </tr>\n",
       "    <tr>\n",
       "      <th>other</th>\n",
       "      <td>0.057567</td>\n",
       "    </tr>\n",
       "    <tr>\n",
       "      <th>electric</th>\n",
       "      <td>0.025397</td>\n",
       "    </tr>\n",
       "  </tbody>\n",
       "</table>\n",
       "</div>"
      ],
      "text/plain": [
       "            Доля, %\n",
       "petrol    61.052744\n",
       "gasoline  27.857967\n",
       "NaN        9.282697\n",
       "lpg        1.498438\n",
       "cng        0.159438\n",
       "hybrid     0.065751\n",
       "other      0.057567\n",
       "electric   0.025397"
      ]
     },
     "metadata": {},
     "output_type": "display_data"
    }
   ],
   "source": [
    "# Описание признака используемого топлива:\n",
    "print('Структура данных по потребляемому топливу:')\n",
    "display(shares_display('fuel_type'))"
   ]
  },
  {
   "cell_type": "markdown",
   "metadata": {},
   "source": [
    "- **Тип топлива**: заметим, что термины `petrol` и `gasoline` оба обозначают бензиновое топливо, разница является исключительно лингвистической. Т.е. выявлены неявные дубликаты, которые нужно будет устранить. С учетом этого, бензиновые авто составляют ок. 89% в выборке . На газе (сжатом или сжиженном) работают ок. 1,7% автомобилей в выборке. Доли прочих видов топлива ничтожны. В ок. 10% объектов тип топлива не указан. Поскольку бензин все еще является \"топливом по умолчанию\", будет оправдано заменить пропуски этим значением."
   ]
  },
  {
   "cell_type": "code",
   "execution_count": 15,
   "metadata": {},
   "outputs": [
    {
     "data": {
      "text/plain": [
       "count    354369.000000\n",
       "mean        110.094337\n",
       "std         189.850405\n",
       "min           0.000000\n",
       "25%          69.000000\n",
       "50%         105.000000\n",
       "75%         143.000000\n",
       "max       20000.000000\n",
       "Name: power, dtype: float64"
      ]
     },
     "metadata": {},
     "output_type": "display_data"
    },
    {
     "data": {
      "image/png": "[encoded data removed]",
      "text/plain": [
       "<Figure size 1000x400 with 2 Axes>"
      ]
     },
     "metadata": {},
     "output_type": "display_data"
    }
   ],
   "source": [
    "# Описание признака мощности двигателя:\n",
    "display(df['power'].describe())\n",
    "fig, axs = plt.subplots(1, 2, figsize=(10, 4))\n",
    "axs[0].hist(df['power'], bins = 50)\n",
    "axs[0].set_title('Мощность двигателя (общее распределение)')\n",
    "axs[0].set_xlabel('В л.с.')\n",
    "axs[1].hist(df.query('power <= 600')['power'], bins = 50)\n",
    "axs[1].set_xlabel('В л.с.')\n",
    "axs[1].set_title('Мощность до 600 л.с.')\n",
    "plt.show()"
   ]
  },
  {
   "cell_type": "markdown",
   "metadata": {},
   "source": [
    "- **Мощность двигателя**: в выборке присутствуют как нулевые значения (ок. 11% выборки), так и единичные экстремально большие значения (более 600 л.с. - ок. 0.1% от выборки). Возможно, нулевое значение мощности означает, что пользователь не заполнил эту информацию в анкете. В таком случае следует расценивать 0 как пропуск и по возможности заменить аналогичным по модели значением.\n",
    "\n",
    "#### Информация об анкете и пользователе\n",
    "\n",
    "Рассмотрим даты скачивания анкет, создания объявления и последней активности пользователя. Сами по себе эти данные не влияют на цену автомобиля, однако, возможно, их анализ приведет к каким-либо существенным выводам:"
   ]
  },
  {
   "cell_type": "code",
   "execution_count": 16,
   "metadata": {},
   "outputs": [
    {
     "name": "stdout",
     "output_type": "stream",
     "text": [
      "Годы скачивания анкет: [2016]\n",
      "Месяцы скачивания анкет: [3 4]\n",
      "-------------\n",
      "Годы создания анкет: [2016 2015 2014]\n",
      "Месяцы создания анкет: [ 3  4  2  1 11 12  9  8  6]\n",
      "-------------\n",
      "Годы последней активности: [2016]\n",
      "Месяцы последней активности: [4 3]\n"
     ]
    }
   ],
   "source": [
    "# Переводим даты в удобный формат:\n",
    "df['date_crawled'] = pd.to_datetime(df['date_crawled'])\n",
    "df['date_created'] = pd.to_datetime(df['date_created'])\n",
    "df['last_seen'] = pd.to_datetime(df['last_seen'])\n",
    "\n",
    "print('Годы скачивания анкет:', df['date_crawled'].dt.year.unique())\n",
    "print('Месяцы скачивания анкет:', df['date_crawled'].dt.month.unique())\n",
    "print('-------------')\n",
    "print('Годы создания анкет:', df['date_created'].dt.year.unique())\n",
    "print('Месяцы создания анкет:', df['date_created'].dt.month.unique())\n",
    "print('-------------')\n",
    "print('Годы последней активности:', df['last_seen'].dt.year.unique())\n",
    "print('Месяцы последней активности:', df['last_seen'].dt.month.unique())"
   ]
  },
  {
   "cell_type": "markdown",
   "metadata": {},
   "source": [
    "- Видим, что анкеты создавались на протяжении трех лет. Однако последняя активнось пользователей была в то же время, что и скачивание анкет из базы. Т.е., скорее всего, динамика цен на автомобили за время экспозиции анкет уже учтена в финальной цене, попавшей в базу.\n",
    "- Год выгрузки данных - 2016. В этом случае подозрительно выглядят данные о годе регистрации автомобиля больше этой даты отсечения. Отметим те объекты, где дата регистрации авто больше, чем дата выгрузки анкеты:"
   ]
  },
  {
   "cell_type": "code",
   "execution_count": 17,
   "metadata": {},
   "outputs": [
    {
     "name": "stdout",
     "output_type": "stream",
     "text": [
      "Число объектов с подозрительной датой: 19759\n"
     ]
    }
   ],
   "source": [
    "df['suspicious_date'] = ((df['date_crawled'].dt.year < df['registration_year']) | \n",
    "                         ((df['date_crawled'].dt.year == df['registration_year']) &\n",
    "                             (df['date_crawled'].dt.month < df['registration_month']))\n",
    "                        )\n",
    "print('Число объектов с подозрительной датой:', df['suspicious_date'].sum())"
   ]
  },
  {
   "cell_type": "markdown",
   "metadata": {},
   "source": [
    "Таким образом, объектов с \"подозрительной\" датой регистрации в выборке ок. 5%.\n",
    "\n",
    "- **Число фотографий**: в выгрузке присутствуют только нули. В любом случае данные не представляют ценности для прогнозирования цены авто, поэтому их исключение из выборки никак не повлияет на построение модели."
   ]
  },
  {
   "cell_type": "code",
   "execution_count": 18,
   "metadata": {},
   "outputs": [
    {
     "data": {
      "text/plain": [
       "count    354369.0\n",
       "mean          0.0\n",
       "std           0.0\n",
       "min           0.0\n",
       "25%           0.0\n",
       "50%           0.0\n",
       "75%           0.0\n",
       "max           0.0\n",
       "Name: number_of_pictures, dtype: float64"
      ]
     },
     "metadata": {},
     "output_type": "display_data"
    }
   ],
   "source": [
    "# Описание признака числа фотографий:\n",
    "display(df['number_of_pictures'].describe())"
   ]
  },
  {
   "cell_type": "markdown",
   "metadata": {},
   "source": [
    "- **Почтовый индекс**: данная информация нерелевантна для анализа, т.к. неизвестен регион, по которому собрана база. Поиск примеров индекса в открытых источниках свидетельствует о том, что один и тот же код может использоваться в разных странах (напр., 90480 - Финляндия, поселение Hailuoto или Германия, Нюрнберг). Другая информация (номинация цены в евро, ассортимент автомобилей) дает основание предполагать, что данные собраны по Германии. В этом случае ценовая дифференциация в зависимости от географии будет незначительна, соответственно, попытка определения локации через почтовый индекс не оправдана."
   ]
  },
  {
   "cell_type": "markdown",
   "metadata": {},
   "source": [
    "### Работа с пропусками, дубликатами и аномалиями\n",
    "\n",
    "В ходе предыдущего анализа было выявлено, что в данных о типе кузова, коробки передач, топлива, а также наличии ремонта есть явные пропуски, а в цене и мощности двигателя - неявные (0). Кроме того были выявлены аномальные значения для года регистрации авто и мощности двигателя.\n",
    "\n",
    "#### Цена автомобиля\n",
    "\n",
    "Неявные пропуски в целевом признаке составляют ок. 3% выборки. Предложить замену таким пропускам кажется проблематичным, более того, это исказит обучение модели. Помимо нулевых значений, цена до 50 евро кажется неоправдано низкой. Удалим такие данные из выборки:"
   ]
  },
  {
   "cell_type": "code",
   "execution_count": 19,
   "metadata": {},
   "outputs": [],
   "source": [
    "df = df.query('price >= 50')"
   ]
  },
  {
   "cell_type": "markdown",
   "metadata": {},
   "source": [
    "#### Марка авто\n",
    "\n",
    "В исходных данных содержится ок. 5% пропусков в марке автомобиля. Не представляется возможным предложить рациональную замену таким пропускам, поэтому, для совместимости типов, заменим пропуски \"заглушкой\" вида `undefined`."
   ]
  },
  {
   "cell_type": "code",
   "execution_count": 20,
   "metadata": {},
   "outputs": [],
   "source": [
    "df['model'] = df['model'].fillna('undefined')"
   ]
  },
  {
   "cell_type": "markdown",
   "metadata": {},
   "source": [
    "#### Год регистрации\n",
    "\n",
    "В ходе анализа были выявлены аномальные значения (ранее, чем 1900, а также позднее, чем 2022 гг.), но их число незначительно. Удалим такие объекты из выборки. Кроме того, были отмечены \"подозрительные\" объекты, в которых указана более поздняя дата регистрации авто, чем дата выгрузки анкеты. Такие объекты составляют ок. 5% от размера выборки.  "
   ]
  },
  {
   "cell_type": "code",
   "execution_count": 21,
   "metadata": {},
   "outputs": [],
   "source": [
    "# Удаляем аномальные и подозрительные значения:\n",
    "df = df.query('1900 < registration_year <= 2022')\n",
    "df = df[df['suspicious_date']==False]"
   ]
  },
  {
   "cell_type": "markdown",
   "metadata": {},
   "source": [
    "#### Ремонт\n",
    "\n",
    "В исходных данных пропуски в признаке составляют ок. 20%. Предположение о том, что отсутствующая информация о ремонте означает наличие ремонтов (пользователь захотел скрыть эту информацию), выглядит чересчур консервативно. В связи с этим предлагается заполнить пропуски \"заглушкой\"."
   ]
  },
  {
   "cell_type": "code",
   "execution_count": 22,
   "metadata": {},
   "outputs": [],
   "source": [
    "df['repaired'] = df['repaired'].fillna('undefined')"
   ]
  },
  {
   "cell_type": "markdown",
   "metadata": {},
   "source": [
    "#### Модель кузова\n",
    "\n",
    "Попробуем заполнить пропуски в типе кузова по марке и модели авто (наиболее частое значение):"
   ]
  },
  {
   "cell_type": "code",
   "execution_count": 23,
   "metadata": {},
   "outputs": [
    {
     "name": "stdout",
     "output_type": "stream",
     "text": [
      "Число пропусков до заполнения: 14335\n"
     ]
    }
   ],
   "source": [
    "print('Число пропусков до заполнения:', df['vehicle_type'].isna().sum())\n",
    "\n",
    "# Создаем ключ из марки-модели и строим по нему сводную таблицу:\n",
    "df['brand_model'] = df['brand'] + '_' + df['model']\n",
    "pivot = df.pivot_table(index = 'brand_model', columns='vehicle_type', values='price', aggfunc='count')\n",
    "# Находим наиболее частый вариант кузова для данной марки-модели:\n",
    "pivot['most_frequent'] = pivot.idxmax(axis=1)\n",
    "# Заполняем пропуски наиболее частым типом кузова:\n",
    "for car in pivot.index:\n",
    "    df.loc[(df['brand_model']==car) & (df['vehicle_type'].isna()), 'vehicle_type'] = pivot.loc[car, 'most_frequent']\n",
    "# Удаляем оставшиеся пропуски:\n",
    "df = df[~(df['vehicle_type'].isna())]"
   ]
  },
  {
   "cell_type": "markdown",
   "metadata": {},
   "source": [
    "#### Тип коробки передач\n",
    "\n",
    "Поскольку нет возможности из имеющихся данных установить, какой тип коробки установлен в автомобиле, заполним пропущенные значения \"заглушкой\"."
   ]
  },
  {
   "cell_type": "code",
   "execution_count": 24,
   "metadata": {},
   "outputs": [],
   "source": [
    "df['gearbox'] = df['gearbox'].fillna('undefined')"
   ]
  },
  {
   "cell_type": "markdown",
   "metadata": {},
   "source": [
    "#### Тип топлива\n",
    "В данном признаке был обнаружен неявный дубликат (`petrol` и `gasoline`). Заменим `gasoline` на `petrol`. Кроме того, в данных присутствуют пропуски (ок. 10%). Заполним их \"заглушкой\", чтобы не искажать фактическое распределение объектов по категориям."
   ]
  },
  {
   "cell_type": "code",
   "execution_count": 25,
   "metadata": {},
   "outputs": [],
   "source": [
    "# Устраняем неявный дубликат:\n",
    "df['fuel_type'] = df['fuel_type'].replace('gasoline', 'petrol')\n",
    "# Заполняем пропуски:\n",
    "df['fuel_type'] = df['fuel_type'].fillna('undefined')"
   ]
  },
  {
   "cell_type": "markdown",
   "metadata": {},
   "source": [
    "#### Мощность двигателя\n",
    "\n",
    "В данных есть как подозрительные нулевые значения, так и аномально большие значения (более 600 л.с.). Удалим аномалии из выборки. Заменим нули на пропуски и постараемся заполнить пропуски по марке-модели авто (медианное значение):"
   ]
  },
  {
   "cell_type": "code",
   "execution_count": 26,
   "metadata": {},
   "outputs": [
    {
     "name": "stdout",
     "output_type": "stream",
     "text": [
      "Число пропусков до заполнения: 30873\n"
     ]
    }
   ],
   "source": [
    "# Удаляем аномалии:\n",
    "df = df.query('power <= 600')\n",
    "\n",
    "# Заменяем нули на пропуски:\n",
    "df.loc[df['power']==0, 'power'] = np.nan\n",
    "print('Число пропусков до заполнения:', df['power'].isna().sum())\n",
    "# Строим сводную таблицу по марке-модели:\n",
    "pivot = df.pivot_table(index = 'brand_model', values='power', aggfunc='median')\n",
    "# Заполняем пропуски медианным значением мощности:\n",
    "for car in pivot.index:\n",
    "    df.loc[(df['brand_model']==car) & (df['power'].isna()), 'power'] = pivot.loc[car, 'power']\n",
    "# Удаляем оставшиеся пропуски:\n",
    "df = df[~(df['power'].isna())]"
   ]
  },
  {
   "cell_type": "markdown",
   "metadata": {},
   "source": [
    "#### Контроль размера выборки\n",
    "\n",
    "В результате предобрабоки данных часть объектов (с нулевой или подозрительно низкой ценой, а также с другими аномальными значениями в признаках) были удалены. Найдем, на сколько сократилась выборка в результате подготовки данных:"
   ]
  },
  {
   "cell_type": "code",
   "execution_count": 27,
   "metadata": {},
   "outputs": [
    {
     "name": "stdout",
     "output_type": "stream",
     "text": [
      "Выборка сократилась на 31424 объектов или 8.868%.\n"
     ]
    }
   ],
   "source": [
    "final_size = len(df)\n",
    "print('Выборка сократилась на {0} объектов или {1:.3%}.'.format(init_size - final_size, 1 - final_size/init_size))"
   ]
  },
  {
   "cell_type": "markdown",
   "metadata": {},
   "source": [
    "Уменьшение выборки на ок. 9%  является допустимым.\n",
    "\n",
    "### Устранение нерелевантных данных\n",
    "\n",
    "Как было выяснено в ходе анализа структуры данных, часть признаков, а именно информация о пользователе и анкете, а также месяц регистрации автомобиля, не представляют практической ценности для прогнозирования цены автомобиля. Кроме того, были созданы два вспомогательных столбца (ключ \"марка_модель\" и признак подозрительной даты регистрации). Удалим эти данные."
   ]
  },
  {
   "cell_type": "code",
   "execution_count": 28,
   "metadata": {},
   "outputs": [
    {
     "data": {
      "text/html": [
       "<div>\n",
       "<style scoped>\n",
       "    .dataframe tbody tr th:only-of-type {\n",
       "        vertical-align: middle;\n",
       "    }\n",
       "\n",
       "    .dataframe tbody tr th {\n",
       "        vertical-align: top;\n",
       "    }\n",
       "\n",
       "    .dataframe thead th {\n",
       "        text-align: right;\n",
       "    }\n",
       "</style>\n",
       "<table border=\"1\" class=\"dataframe\">\n",
       "  <thead>\n",
       "    <tr style=\"text-align: right;\">\n",
       "      <th></th>\n",
       "      <th>price</th>\n",
       "      <th>vehicle_type</th>\n",
       "      <th>registration_year</th>\n",
       "      <th>gearbox</th>\n",
       "      <th>power</th>\n",
       "      <th>model</th>\n",
       "      <th>kilometer</th>\n",
       "      <th>fuel_type</th>\n",
       "      <th>brand</th>\n",
       "      <th>repaired</th>\n",
       "    </tr>\n",
       "  </thead>\n",
       "  <tbody>\n",
       "    <tr>\n",
       "      <th>0</th>\n",
       "      <td>480</td>\n",
       "      <td>sedan</td>\n",
       "      <td>1993</td>\n",
       "      <td>manual</td>\n",
       "      <td>101.0</td>\n",
       "      <td>golf</td>\n",
       "      <td>150000</td>\n",
       "      <td>petrol</td>\n",
       "      <td>volkswagen</td>\n",
       "      <td>undefined</td>\n",
       "    </tr>\n",
       "    <tr>\n",
       "      <th>1</th>\n",
       "      <td>18300</td>\n",
       "      <td>coupe</td>\n",
       "      <td>2011</td>\n",
       "      <td>manual</td>\n",
       "      <td>190.0</td>\n",
       "      <td>undefined</td>\n",
       "      <td>125000</td>\n",
       "      <td>petrol</td>\n",
       "      <td>audi</td>\n",
       "      <td>yes</td>\n",
       "    </tr>\n",
       "    <tr>\n",
       "      <th>2</th>\n",
       "      <td>9800</td>\n",
       "      <td>suv</td>\n",
       "      <td>2004</td>\n",
       "      <td>auto</td>\n",
       "      <td>163.0</td>\n",
       "      <td>grand</td>\n",
       "      <td>125000</td>\n",
       "      <td>petrol</td>\n",
       "      <td>jeep</td>\n",
       "      <td>undefined</td>\n",
       "    </tr>\n",
       "    <tr>\n",
       "      <th>3</th>\n",
       "      <td>1500</td>\n",
       "      <td>small</td>\n",
       "      <td>2001</td>\n",
       "      <td>manual</td>\n",
       "      <td>75.0</td>\n",
       "      <td>golf</td>\n",
       "      <td>150000</td>\n",
       "      <td>petrol</td>\n",
       "      <td>volkswagen</td>\n",
       "      <td>no</td>\n",
       "    </tr>\n",
       "    <tr>\n",
       "      <th>4</th>\n",
       "      <td>3600</td>\n",
       "      <td>small</td>\n",
       "      <td>2008</td>\n",
       "      <td>manual</td>\n",
       "      <td>69.0</td>\n",
       "      <td>fabia</td>\n",
       "      <td>90000</td>\n",
       "      <td>petrol</td>\n",
       "      <td>skoda</td>\n",
       "      <td>no</td>\n",
       "    </tr>\n",
       "  </tbody>\n",
       "</table>\n",
       "</div>"
      ],
      "text/plain": [
       "   price vehicle_type  registration_year gearbox  power      model  kilometer  \\\n",
       "0    480        sedan               1993  manual  101.0       golf     150000   \n",
       "1  18300        coupe               2011  manual  190.0  undefined     125000   \n",
       "2   9800          suv               2004    auto  163.0      grand     125000   \n",
       "3   1500        small               2001  manual   75.0       golf     150000   \n",
       "4   3600        small               2008  manual   69.0      fabia      90000   \n",
       "\n",
       "  fuel_type       brand   repaired  \n",
       "0    petrol  volkswagen  undefined  \n",
       "1    petrol        audi        yes  \n",
       "2    petrol        jeep  undefined  \n",
       "3    petrol  volkswagen         no  \n",
       "4    petrol       skoda         no  "
      ]
     },
     "execution_count": 28,
     "metadata": {},
     "output_type": "execute_result"
    }
   ],
   "source": [
    "df = df.drop(['date_crawled',\n",
    "             'date_created',\n",
    "             'last_seen',\n",
    "             'postal_code',\n",
    "             'number_of_pictures',\n",
    "             'registration_month',\n",
    "             'brand_model',\n",
    "             'suspicious_date'],\n",
    "            axis=1)\n",
    "df.head()"
   ]
  },
  {
   "cell_type": "markdown",
   "metadata": {},
   "source": [
    "### Вывод\n",
    "\n",
    "Исходные данные содержали ок. 354 тыс. объектов по 16 признаков. Помимо цены автомобиля (целевой признак), в состав признаков входили: \n",
    "\n",
    "- описательные характеристики (марка, модель, пробег, год и месяц регистрации, наличие ремонтов);\n",
    "- технические характеристики (типы кузова, коробки, топлива и мощность двигателя) авто;\n",
    "- информация об анкете и пользователе (даты создания и выгрузки анкеты, число фотографий, дата последней активности и почтовый индекс пользователя).\n",
    "\n",
    "В данных содержались явные и неявные пропуски, а также аномальные значения. В результате предобработки:\n",
    "- Пропуски были по возможности заполнены на основе имеющихся данных (напр., тип кузова) либо на основе предположений (напр., ремонты). Неявные пропуски в цене (0) были удалены;\n",
    "- Аномальные значения для цены (менее 50 евро), даты регистрации (до 1900 г. или после даты выгрузки анкеты), мощности двигателя (более 600 л.с.) были удалены из выборки;\n",
    "- Был устранен неявный дубликат в типе потребляемого топлива.\n",
    "\n",
    "В результате размер выборки сократился на ок. 9%. Нерелевантные для прогноза цены признаки (информация об анкете и пользователе, а также месяц регистрации авто) также были исключены из рассмотрения."
   ]
  },
  {
   "cell_type": "markdown",
   "metadata": {},
   "source": [
    "## Исследование моделей\n",
    "\n",
    "Рассмотрим три типа моделей: простое дерево решений, случайный лес и градиентный бустинг. Будем сравнивать модели по качеству предсказания (метрика *RMSE*) и времени работы. Сравним время обучения и прогноза для моделей по умолчанию (без подбора гиперпараметров) и среднее время при подборе гиперпараметров.\n",
    "\n",
    "### Подготовка выборок\n",
    "\n",
    "Разделим датасет на обучающую и тестовую выборки в пропорции 80:20 (обучающая выборка будет использоваться для кросс-валидации результатов)."
   ]
  },
  {
   "cell_type": "code",
   "execution_count": 29,
   "metadata": {},
   "outputs": [
    {
     "name": "stdout",
     "output_type": "stream",
     "text": [
      "Кол-во объектов в обучающей выборке: 258356\n",
      "Кол-во объектов в тестовой выборке: 64589\n"
     ]
    }
   ],
   "source": [
    "state = np.random.RandomState(1104)\n",
    "# Выделяем целевой признак:\n",
    "features = df.drop('price', axis = 1)\n",
    "target = df['price']\n",
    "\n",
    "# Отделяем тестовую выборку:\n",
    "features_train, features_test, target_train, target_test = train_test_split(features, \n",
    "                                                                            target, \n",
    "                                                                            test_size = 0.2, \n",
    "                                                                            random_state = state)\n",
    "\n",
    "print('Кол-во объектов в обучающей выборке:', features_train.shape[0])\n",
    "print('Кол-во объектов в тестовой выборке:', features_test.shape[0])"
   ]
  },
  {
   "cell_type": "markdown",
   "metadata": {},
   "source": [
    "Библиотека *LightGBM*, которая планируется для дальнейшего использования, позволяет работать с категориальными переменными, однако требует перевод категориальных значений в тип `int`. Переведем текстовые категориальные переменные в числовые. Однако, поскольку обучающая выборка будет использоваться для кросс-валидации при подборе гиперпараметров, будем использовать инструмент `ColumnTransformer` для кодирования, который затем станет шагом в `Pipeline`:"
   ]
  },
  {
   "cell_type": "code",
   "execution_count": 30,
   "metadata": {},
   "outputs": [],
   "source": [
    "# Колонки с типом object:\n",
    "to_convert = list(df.select_dtypes(include=['object']).columns)\n",
    "# Кодируем выбранные колонки:\n",
    "encoder = ColumnTransformer(transformers=[('encoder', \n",
    "                                           OrdinalEncoder(handle_unknown='use_encoded_value',\n",
    "                                                         unknown_value = 999999), \n",
    "                                           to_convert)\n",
    "                                         ],\n",
    "                           remainder = 'passthrough')\n"
   ]
  },
  {
   "cell_type": "markdown",
   "metadata": {},
   "source": [
    "Какже подготовим шаблон таблицы для сравнения результатов моделей:"
   ]
  },
  {
   "cell_type": "markdown",
   "metadata": {},
   "source": [
    "### Обучение моделей\n",
    "\n",
    "Теперь оценим время на обучение и предсказание, а также качество моделей при подборе гиперпараметров."
   ]
  },
  {
   "cell_type": "code",
   "execution_count": 31,
   "metadata": {},
   "outputs": [],
   "source": [
    "# Используемые регрессоры:\n",
    "tree = Pipeline(steps=[('enc', encoder),\n",
    "                       ('clf', DecisionTreeRegressor(random_state=state))])\n",
    "forest = Pipeline(steps=[('enc', encoder),\n",
    "                         ('clf', RandomForestRegressor(random_state=state))])\n",
    "boost = Pipeline(steps=[('enc', encoder),\n",
    "                        ('clf', LGBMRegressor(random_state=state))])\n",
    "\n",
    "regs = {'Дерево решений': tree, \n",
    "       'Случайный лес': forest,\n",
    "       'Градиентный бустинг': boost}\n",
    "\n",
    "# Гиперпараметры для подбора:\n",
    "params_tree = {'clf__max_depth': range(2, 16), \n",
    "               'clf__min_samples_leaf': [1, 10, 50]}\n",
    "params_forest = {'clf__min_samples_leaf': [1, 10, 50], \n",
    "                'clf__max_features':['sqrt', 'log2', None]}\n",
    "params_boost = {'clf__learning_rate':[0.05, 0.1, 0.3, 0.5],\n",
    "               'clf__n_estimators':[100, 200, 300]}\n",
    "\n",
    "params = {'Дерево решений': params_tree, \n",
    "         'Случайный лес': params_forest,\n",
    "         'Градиентный бустинг': params_boost}"
   ]
  },
  {
   "cell_type": "code",
   "execution_count": 32,
   "metadata": {},
   "outputs": [],
   "source": [
    "# Шаблон таблицы с результатами:\n",
    "results_table = pd.DataFrame(index=['Обучение, с',\n",
    "                                   'Предсказание, с',\n",
    "                                   'RMSE'],\n",
    "                              columns=regs.keys())\n",
    "best_models = {'Дерево решений':None, \n",
    "              'Случайный лес': None,\n",
    "              'Градиентный бустинг': None}\n",
    "cv_results = {'Дерево решений':None, \n",
    "              'Случайный лес': None,\n",
    "              'Градиентный бустинг': None}"
   ]
  },
  {
   "cell_type": "code",
   "execution_count": 33,
   "metadata": {},
   "outputs": [
    {
     "name": "stdout",
     "output_type": "stream",
     "text": [
      "CPU times: total: 31min 3s\n",
      "Wall time: 21min 38s\n"
     ]
    }
   ],
   "source": [
    "%%time\n",
    "\n",
    "# Подбираем параметры для улучшения метрики качества:\n",
    "for i in regs.keys():\n",
    "    grid = GridSearchCV(estimator = regs[i],\n",
    "                       param_grid = params[i],\n",
    "                       scoring = 'neg_root_mean_squared_error', \n",
    "                       refit=True)\n",
    "    grid.fit(features_train, target_train)\n",
    "\n",
    "    best_models[i] = grid.best_estimator_ # сохраняем модель с наилучшим значением RMSE\n",
    "    cv_results[i] = grid.cv_results_\n",
    "    best_index = grid.best_index_\n",
    "\n",
    "    # Фиксируем результаты для выбранной модели:\n",
    "    results_table.loc['Обучение, с', i] = cv_results[i]['mean_fit_time'][best_index]\n",
    "    results_table.loc['Предсказание, с', i] = cv_results[i]['mean_score_time'][best_index]\n",
    "    results_table.loc['RMSE', i] = round(-grid.best_score_, 4)"
   ]
  },
  {
   "cell_type": "markdown",
   "metadata": {},
   "source": [
    "### Вывод\n",
    "\n",
    "Сравним показатели лучших в своем типе моделей:"
   ]
  },
  {
   "cell_type": "code",
   "execution_count": 34,
   "metadata": {},
   "outputs": [
    {
     "data": {
      "text/html": [
       "<div>\n",
       "<style scoped>\n",
       "    .dataframe tbody tr th:only-of-type {\n",
       "        vertical-align: middle;\n",
       "    }\n",
       "\n",
       "    .dataframe tbody tr th {\n",
       "        vertical-align: top;\n",
       "    }\n",
       "\n",
       "    .dataframe thead th {\n",
       "        text-align: right;\n",
       "    }\n",
       "</style>\n",
       "<table border=\"1\" class=\"dataframe\">\n",
       "  <thead>\n",
       "    <tr style=\"text-align: right;\">\n",
       "      <th></th>\n",
       "      <th>Дерево решений</th>\n",
       "      <th>Случайный лес</th>\n",
       "      <th>Градиентный бустинг</th>\n",
       "    </tr>\n",
       "  </thead>\n",
       "  <tbody>\n",
       "    <tr>\n",
       "      <th>Обучение, с</th>\n",
       "      <td>0.822991</td>\n",
       "      <td>20.357967</td>\n",
       "      <td>1.215072</td>\n",
       "    </tr>\n",
       "    <tr>\n",
       "      <th>Предсказание, с</th>\n",
       "      <td>0.078018</td>\n",
       "      <td>1.438526</td>\n",
       "      <td>0.155435</td>\n",
       "    </tr>\n",
       "    <tr>\n",
       "      <th>RMSE</th>\n",
       "      <td>1824.4373</td>\n",
       "      <td>1594.8261</td>\n",
       "      <td>1598.5137</td>\n",
       "    </tr>\n",
       "  </tbody>\n",
       "</table>\n",
       "</div>"
      ],
      "text/plain": [
       "                Дерево решений Случайный лес Градиентный бустинг\n",
       "Обучение, с           0.822991     20.357967            1.215072\n",
       "Предсказание, с       0.078018      1.438526            0.155435\n",
       "RMSE                 1824.4373     1594.8261           1598.5137"
      ]
     },
     "metadata": {},
     "output_type": "display_data"
    }
   ],
   "source": [
    "display(results_table)"
   ]
  },
  {
   "cell_type": "markdown",
   "metadata": {},
   "source": [
    "- Лидером по времени обучения и прогноза, предсказуемо, является дерево решений. Однако модель уступает по качеству предсказания более сложным моделям. \n",
    "- Наилучший результат с точки зрения качества модели демонстрирует случайный лес. Но время обучения и предсказания в десятки раз превышает показатели дерева решений (логично, учитывая, что это ансамбль деревьев с усреднением) и в разы - градиентного бустинга.\n",
    "- Качество модели градиентого бустинга с учетом параметризации незначительно уступает случайному лесу, однако выигрывает в скорости обучения.\n",
    "\n",
    "С учетом подбора гиперпараметров оптимальной моделью по соотношению качества прогноза и времени работы является **градиентный бустинг** с гиперпараметрами:"
   ]
  },
  {
   "cell_type": "code",
   "execution_count": 35,
   "metadata": {},
   "outputs": [
    {
     "data": {
      "text/plain": [
       "{'memory': None,\n",
       " 'steps': [('enc', ColumnTransformer(remainder='passthrough',\n",
       "                     transformers=[('encoder',\n",
       "                                    OrdinalEncoder(handle_unknown='use_encoded_value',\n",
       "                                                   unknown_value=999999),\n",
       "                                    ['vehicle_type', 'gearbox', 'model',\n",
       "                                     'fuel_type', 'brand', 'repaired'])])),\n",
       "  ('clf',\n",
       "   LGBMRegressor(learning_rate=0.3, n_estimators=300,\n",
       "                 random_state=RandomState(MT19937) at 0x172380DC540))],\n",
       " 'verbose': False,\n",
       " 'enc': ColumnTransformer(remainder='passthrough',\n",
       "                   transformers=[('encoder',\n",
       "                                  OrdinalEncoder(handle_unknown='use_encoded_value',\n",
       "                                                 unknown_value=999999),\n",
       "                                  ['vehicle_type', 'gearbox', 'model',\n",
       "                                   'fuel_type', 'brand', 'repaired'])]),\n",
       " 'clf': LGBMRegressor(learning_rate=0.3, n_estimators=300,\n",
       "               random_state=RandomState(MT19937) at 0x172380DC540),\n",
       " 'enc__n_jobs': None,\n",
       " 'enc__remainder': 'passthrough',\n",
       " 'enc__sparse_threshold': 0.3,\n",
       " 'enc__transformer_weights': None,\n",
       " 'enc__transformers': [('encoder',\n",
       "   OrdinalEncoder(handle_unknown='use_encoded_value', unknown_value=999999),\n",
       "   ['vehicle_type', 'gearbox', 'model', 'fuel_type', 'brand', 'repaired'])],\n",
       " 'enc__verbose': False,\n",
       " 'enc__encoder': OrdinalEncoder(handle_unknown='use_encoded_value', unknown_value=999999),\n",
       " 'enc__encoder__categories': 'auto',\n",
       " 'enc__encoder__dtype': numpy.float64,\n",
       " 'enc__encoder__handle_unknown': 'use_encoded_value',\n",
       " 'enc__encoder__unknown_value': 999999,\n",
       " 'clf__boosting_type': 'gbdt',\n",
       " 'clf__class_weight': None,\n",
       " 'clf__colsample_bytree': 1.0,\n",
       " 'clf__importance_type': 'split',\n",
       " 'clf__learning_rate': 0.3,\n",
       " 'clf__max_depth': -1,\n",
       " 'clf__min_child_samples': 20,\n",
       " 'clf__min_child_weight': 0.001,\n",
       " 'clf__min_split_gain': 0.0,\n",
       " 'clf__n_estimators': 300,\n",
       " 'clf__n_jobs': -1,\n",
       " 'clf__num_leaves': 31,\n",
       " 'clf__objective': None,\n",
       " 'clf__random_state': RandomState(MT19937) at 0x172380DC540,\n",
       " 'clf__reg_alpha': 0.0,\n",
       " 'clf__reg_lambda': 0.0,\n",
       " 'clf__silent': 'warn',\n",
       " 'clf__subsample': 1.0,\n",
       " 'clf__subsample_for_bin': 200000,\n",
       " 'clf__subsample_freq': 0}"
      ]
     },
     "execution_count": 35,
     "metadata": {},
     "output_type": "execute_result"
    }
   ],
   "source": [
    "best_models['Градиентный бустинг'].get_params()"
   ]
  },
  {
   "cell_type": "markdown",
   "metadata": {},
   "source": [
    "## Проверка модели на тестовой выборке\n",
    "\n",
    "Найдем значение RMSE для выбранной ранее модели на тестовой выборке:"
   ]
  },
  {
   "cell_type": "code",
   "execution_count": 36,
   "metadata": {},
   "outputs": [
    {
     "name": "stdout",
     "output_type": "stream",
     "text": [
      "Значение RMSE на тестовой выборке: 1561.9524025106948\n"
     ]
    }
   ],
   "source": [
    "print('Значение RMSE на тестовой выборке:', mean_squared_error(target_test,\n",
    "                                                              best_models['Градиентный бустинг'].predict(features_test),\n",
    "                                                              squared = False)\n",
    "     )"
   ]
  },
  {
   "cell_type": "markdown",
   "metadata": {},
   "source": [
    "Качество модели на тестовой выборке не сильно оличается от результатов кросс-валидации на обучающей выборке.\n",
    "\n",
    "## Общий вывод\n",
    "\n",
    "Цель проекта состояла в построении модели прогноза рыночной стоимости автомобиля в зависимости от его состояния и технических характеристик для сервиса по продаже авто с пробегом. \n",
    "\n",
    "Для обучения модели был предоставлен датасет, состоящий из ок. 354 тыс. объектов и содержащий историческую информацию из анкет, размещенных на сервисе.  Признаки объектов, присутствующие в датасете, можно разбить на три группы: \n",
    "\n",
    "- описательные характеристики (модель, пробег и т.п.);\n",
    "- технические характеристики авто;\n",
    "- информация об анкете и пользователе.\n",
    "\n",
    "В данных содержались явные (до 20% от общего числа объектов) и неявные пропуски (нулевые значения там, где это не предусмотрено), а также выбросы. Была проведена предобработка данных, в результате которой:\n",
    "- пропущенные значения были заполнены (исходя из имеющихся данных и разумных предположений, либо \"заглушками\");\n",
    "- аномальные значения (в т.ч. объекты с ценой от 0 до 50 евро) были удалены из выборки;\n",
    "- был устранен неявный дубликат в типе потребляемого топлива;\n",
    "- нерелевантные для прогноза цены признаки были исключены из рассмотрения.\n",
    "\n",
    "В результате размер выборки сократился на ок. 9%. \n",
    "\n",
    "Затем были обучены три типа моделей - дерево решений, случайный лес и градиентный бустинг (с контролем времени обучения и прогноза), подобраны гиперпараметры, улучшающие качество моделей. Наилучший баланс между временем работы и качеством модели продемонстрировала модель *градиентного бустинга*. Проверка на тестовой выборке показала несущественные отличия в качестве модели по сравнению с обучающей выборкой.\n",
    "\n",
    "Возможно, качество модели можно будет дополнительно улучшить при повышении качества исходных данных (напр., использовании фактического пробега, а не границы диапазона, отсутсвии пропусков в исходных данных)."
   ]
  }
 ],
 "metadata": {
  "ExecuteTimeLog": [
   {
    "duration": 388,
    "start_time": "2022-11-08T11:41:50.611Z"
   },
   {
    "duration": 1197,
    "start_time": "2022-11-08T11:43:04.579Z"
   },
   {
    "duration": 977,
    "start_time": "2022-11-08T11:45:17.641Z"
   },
   {
    "duration": 20,
    "start_time": "2022-11-08T11:46:20.053Z"
   },
   {
    "duration": 7,
    "start_time": "2022-11-08T11:46:50.436Z"
   },
   {
    "duration": 439,
    "start_time": "2022-11-08T11:47:19.001Z"
   },
   {
    "duration": 944,
    "start_time": "2022-11-08T11:47:19.442Z"
   },
   {
    "duration": 13,
    "start_time": "2022-11-08T11:47:20.388Z"
   },
   {
    "duration": 5,
    "start_time": "2022-11-08T11:52:13.676Z"
   },
   {
    "duration": 5,
    "start_time": "2022-11-08T11:59:23.491Z"
   },
   {
    "duration": 405,
    "start_time": "2022-11-08T12:00:39.608Z"
   },
   {
    "duration": 947,
    "start_time": "2022-11-08T12:00:40.015Z"
   },
   {
    "duration": 78,
    "start_time": "2022-11-08T12:00:40.964Z"
   },
   {
    "duration": 371,
    "start_time": "2022-11-08T12:01:12.940Z"
   },
   {
    "duration": 989,
    "start_time": "2022-11-08T12:01:13.313Z"
   },
   {
    "duration": 6,
    "start_time": "2022-11-08T12:01:14.304Z"
   },
   {
    "duration": 1551,
    "start_time": "2022-11-08T12:03:32.742Z"
   },
   {
    "duration": 1041,
    "start_time": "2022-11-08T12:03:37.422Z"
   },
   {
    "duration": 71,
    "start_time": "2022-11-08T12:40:21.378Z"
   },
   {
    "duration": 223,
    "start_time": "2022-11-08T12:40:29.248Z"
   },
   {
    "duration": 12,
    "start_time": "2022-11-08T12:47:45.446Z"
   },
   {
    "duration": 70,
    "start_time": "2022-11-08T12:47:50.544Z"
   },
   {
    "duration": 6,
    "start_time": "2022-11-08T12:47:59.912Z"
   },
   {
    "duration": 425,
    "start_time": "2022-11-08T12:48:08.564Z"
   },
   {
    "duration": 949,
    "start_time": "2022-11-08T12:48:08.992Z"
   },
   {
    "duration": 6,
    "start_time": "2022-11-08T12:48:09.943Z"
   },
   {
    "duration": 446,
    "start_time": "2022-11-08T12:48:09.951Z"
   },
   {
    "duration": 1168,
    "start_time": "2022-11-08T12:48:10.400Z"
   },
   {
    "duration": 94,
    "start_time": "2022-11-08T12:54:23.823Z"
   },
   {
    "duration": 538,
    "start_time": "2022-11-08T12:55:36.891Z"
   },
   {
    "duration": 1007,
    "start_time": "2022-11-08T12:55:37.431Z"
   },
   {
    "duration": 5,
    "start_time": "2022-11-08T12:55:38.440Z"
   },
   {
    "duration": 359,
    "start_time": "2022-11-08T12:55:38.447Z"
   },
   {
    "duration": 1113,
    "start_time": "2022-11-08T12:55:38.808Z"
   },
   {
    "duration": 153,
    "start_time": "2022-11-09T10:32:56.212Z"
   },
   {
    "duration": 273,
    "start_time": "2022-11-09T10:33:09.418Z"
   },
   {
    "duration": 204,
    "start_time": "2022-11-09T10:36:48.655Z"
   },
   {
    "duration": 504,
    "start_time": "2022-11-09T10:40:39.758Z"
   },
   {
    "duration": 987,
    "start_time": "2022-11-09T10:40:40.264Z"
   },
   {
    "duration": 6,
    "start_time": "2022-11-09T10:40:41.253Z"
   },
   {
    "duration": 383,
    "start_time": "2022-11-09T10:40:41.261Z"
   },
   {
    "duration": 236,
    "start_time": "2022-11-09T10:40:41.647Z"
   },
   {
    "duration": 925,
    "start_time": "2022-11-09T10:40:54.906Z"
   },
   {
    "duration": 1254,
    "start_time": "2022-11-09T10:45:54.142Z"
   },
   {
    "duration": 1154,
    "start_time": "2022-11-09T10:47:18.953Z"
   },
   {
    "duration": 1116,
    "start_time": "2022-11-09T10:48:25.881Z"
   },
   {
    "duration": 527,
    "start_time": "2022-11-09T10:48:39.667Z"
   },
   {
    "duration": 1012,
    "start_time": "2022-11-09T10:48:40.198Z"
   },
   {
    "duration": 6,
    "start_time": "2022-11-09T10:48:41.214Z"
   },
   {
    "duration": 357,
    "start_time": "2022-11-09T10:48:41.222Z"
   },
   {
    "duration": 64,
    "start_time": "2022-11-09T10:48:41.580Z"
   },
   {
    "duration": 265,
    "start_time": "2022-11-09T10:48:41.646Z"
   },
   {
    "duration": 337,
    "start_time": "2022-11-09T10:49:55.466Z"
   },
   {
    "duration": 96,
    "start_time": "2022-11-09T10:50:54.915Z"
   },
   {
    "duration": 36,
    "start_time": "2022-11-09T10:51:06.346Z"
   },
   {
    "duration": 36,
    "start_time": "2022-11-09T10:51:18.314Z"
   },
   {
    "duration": 88,
    "start_time": "2022-11-09T10:51:27.763Z"
   },
   {
    "duration": 41,
    "start_time": "2022-11-09T10:51:40.962Z"
   },
   {
    "duration": 67,
    "start_time": "2022-11-09T10:53:01.964Z"
   },
   {
    "duration": 117,
    "start_time": "2022-11-09T10:53:14.380Z"
   },
   {
    "duration": 65,
    "start_time": "2022-11-09T10:53:32.172Z"
   },
   {
    "duration": 39,
    "start_time": "2022-11-09T10:54:16.525Z"
   },
   {
    "duration": 110,
    "start_time": "2022-11-09T10:54:20.189Z"
   },
   {
    "duration": 76,
    "start_time": "2022-11-09T10:54:43.989Z"
   },
   {
    "duration": 64,
    "start_time": "2022-11-09T10:57:31.960Z"
   },
   {
    "duration": 117,
    "start_time": "2022-11-09T10:59:22.627Z"
   },
   {
    "duration": 66,
    "start_time": "2022-11-09T10:59:28.673Z"
   },
   {
    "duration": 194,
    "start_time": "2022-11-09T11:00:32.458Z"
   },
   {
    "duration": 212,
    "start_time": "2022-11-09T11:03:02.460Z"
   },
   {
    "duration": 235,
    "start_time": "2022-11-09T11:04:28.269Z"
   },
   {
    "duration": 223,
    "start_time": "2022-11-09T11:04:34.622Z"
   },
   {
    "duration": 334,
    "start_time": "2022-11-09T11:04:42.423Z"
   },
   {
    "duration": 226,
    "start_time": "2022-11-09T11:05:06.590Z"
   },
   {
    "duration": 230,
    "start_time": "2022-11-09T11:05:17.839Z"
   },
   {
    "duration": 3,
    "start_time": "2022-11-09T11:05:41.863Z"
   },
   {
    "duration": 234,
    "start_time": "2022-11-09T11:05:47.446Z"
   },
   {
    "duration": 413,
    "start_time": "2022-11-09T11:09:43.866Z"
   },
   {
    "duration": 372,
    "start_time": "2022-11-09T11:09:53.377Z"
   },
   {
    "duration": 431,
    "start_time": "2022-11-09T11:10:34.530Z"
   },
   {
    "duration": 408,
    "start_time": "2022-11-09T11:10:47.628Z"
   },
   {
    "duration": 380,
    "start_time": "2022-11-09T11:11:06.628Z"
   },
   {
    "duration": 374,
    "start_time": "2022-11-09T11:11:18.147Z"
   },
   {
    "duration": 287,
    "start_time": "2022-11-09T11:11:57.655Z"
   },
   {
    "duration": 538,
    "start_time": "2022-11-09T11:12:09.916Z"
   },
   {
    "duration": 453,
    "start_time": "2022-11-09T11:14:43.659Z"
   },
   {
    "duration": 374,
    "start_time": "2022-11-09T11:14:55.289Z"
   },
   {
    "duration": 366,
    "start_time": "2022-11-09T11:15:03.339Z"
   },
   {
    "duration": 364,
    "start_time": "2022-11-09T11:24:45.271Z"
   },
   {
    "duration": 503,
    "start_time": "2022-11-09T11:25:30.841Z"
   },
   {
    "duration": 388,
    "start_time": "2022-11-09T11:28:38.645Z"
   },
   {
    "duration": 386,
    "start_time": "2022-11-09T11:29:33.552Z"
   },
   {
    "duration": 443,
    "start_time": "2022-11-09T11:30:37.038Z"
   },
   {
    "duration": 400,
    "start_time": "2022-11-09T11:30:50.632Z"
   },
   {
    "duration": 439,
    "start_time": "2022-11-09T11:31:44.753Z"
   },
   {
    "duration": 2004,
    "start_time": "2022-11-09T11:36:54.287Z"
   },
   {
    "duration": 1882,
    "start_time": "2022-11-09T11:37:00.640Z"
   },
   {
    "duration": 2373,
    "start_time": "2022-11-09T11:37:09.959Z"
   },
   {
    "duration": 703,
    "start_time": "2022-11-09T11:37:36.775Z"
   },
   {
    "duration": 988,
    "start_time": "2022-11-09T11:37:37.480Z"
   },
   {
    "duration": 5,
    "start_time": "2022-11-09T11:37:38.470Z"
   },
   {
    "duration": 179,
    "start_time": "2022-11-09T11:37:38.478Z"
   },
   {
    "duration": 1588,
    "start_time": "2022-11-09T11:37:38.659Z"
   },
   {
    "duration": 352,
    "start_time": "2022-11-09T11:37:40.249Z"
   },
   {
    "duration": 3497,
    "start_time": "2022-11-09T11:38:32.081Z"
   },
   {
    "duration": 707,
    "start_time": "2022-11-09T11:38:54.967Z"
   },
   {
    "duration": 998,
    "start_time": "2022-11-09T11:38:55.676Z"
   },
   {
    "duration": 7,
    "start_time": "2022-11-09T11:38:56.676Z"
   },
   {
    "duration": 194,
    "start_time": "2022-11-09T11:38:56.686Z"
   },
   {
    "duration": 2155,
    "start_time": "2022-11-09T11:38:56.883Z"
   },
   {
    "duration": 342,
    "start_time": "2022-11-09T11:38:59.040Z"
   },
   {
    "duration": 1451,
    "start_time": "2022-11-09T11:43:59.151Z"
   },
   {
    "duration": 1417,
    "start_time": "2022-11-09T11:44:10.808Z"
   },
   {
    "duration": 1213,
    "start_time": "2022-11-09T11:44:28.047Z"
   },
   {
    "duration": 1414,
    "start_time": "2022-11-09T11:44:41.688Z"
   },
   {
    "duration": 1173,
    "start_time": "2022-11-09T11:44:57.784Z"
   },
   {
    "duration": 1271,
    "start_time": "2022-11-09T11:45:10.681Z"
   },
   {
    "duration": 1293,
    "start_time": "2022-11-09T11:45:21.321Z"
   },
   {
    "duration": 1572,
    "start_time": "2022-11-09T11:47:10.867Z"
   },
   {
    "duration": 1590,
    "start_time": "2022-11-09T11:47:26.532Z"
   },
   {
    "duration": 1488,
    "start_time": "2022-11-09T11:48:27.821Z"
   },
   {
    "duration": 1722,
    "start_time": "2022-11-09T11:48:33.252Z"
   },
   {
    "duration": 1482,
    "start_time": "2022-11-09T11:48:48.036Z"
   },
   {
    "duration": 74,
    "start_time": "2022-11-09T11:49:10.166Z"
   },
   {
    "duration": 1394,
    "start_time": "2022-11-09T11:50:37.038Z"
   },
   {
    "duration": 2186,
    "start_time": "2022-11-09T11:51:01.149Z"
   },
   {
    "duration": 6073,
    "start_time": "2022-11-09T11:51:17.386Z"
   },
   {
    "duration": 1334,
    "start_time": "2022-11-09T11:52:07.232Z"
   },
   {
    "duration": 6073,
    "start_time": "2022-11-09T11:52:15.662Z"
   },
   {
    "duration": 3158,
    "start_time": "2022-11-09T11:54:31.572Z"
   },
   {
    "duration": 683,
    "start_time": "2022-11-09T11:54:43.281Z"
   },
   {
    "duration": 1017,
    "start_time": "2022-11-09T11:54:43.966Z"
   },
   {
    "duration": 6,
    "start_time": "2022-11-09T11:54:44.985Z"
   },
   {
    "duration": 169,
    "start_time": "2022-11-09T11:54:44.998Z"
   },
   {
    "duration": 1885,
    "start_time": "2022-11-09T11:54:45.169Z"
   },
   {
    "duration": 326,
    "start_time": "2022-11-09T11:54:47.056Z"
   },
   {
    "duration": 1658,
    "start_time": "2022-11-09T12:01:13.479Z"
   },
   {
    "duration": 202,
    "start_time": "2022-11-09T12:01:19.854Z"
   },
   {
    "duration": 219,
    "start_time": "2022-11-09T12:04:33.369Z"
   },
   {
    "duration": 334,
    "start_time": "2022-11-09T12:04:58.603Z"
   },
   {
    "duration": 98,
    "start_time": "2022-11-09T12:05:42.691Z"
   },
   {
    "duration": 683,
    "start_time": "2022-11-09T12:07:08.361Z"
   },
   {
    "duration": 965,
    "start_time": "2022-11-09T12:07:09.047Z"
   },
   {
    "duration": 5,
    "start_time": "2022-11-09T12:07:10.014Z"
   },
   {
    "duration": 175,
    "start_time": "2022-11-09T12:07:10.022Z"
   },
   {
    "duration": 1940,
    "start_time": "2022-11-09T12:07:10.199Z"
   },
   {
    "duration": 208,
    "start_time": "2022-11-09T12:07:12.141Z"
   },
   {
    "duration": 314,
    "start_time": "2022-11-09T12:07:12.351Z"
   },
   {
    "duration": 1284,
    "start_time": "2022-11-09T12:10:17.479Z"
   },
   {
    "duration": 1005,
    "start_time": "2022-11-09T12:10:26.543Z"
   },
   {
    "duration": 1238,
    "start_time": "2022-11-09T12:10:38.175Z"
   },
   {
    "duration": 21,
    "start_time": "2022-11-09T12:22:55.866Z"
   },
   {
    "duration": 19,
    "start_time": "2022-11-09T12:23:10.075Z"
   },
   {
    "duration": 83,
    "start_time": "2022-11-09T12:23:55.130Z"
   },
   {
    "duration": 13,
    "start_time": "2022-11-09T12:24:08.587Z"
   },
   {
    "duration": 25,
    "start_time": "2022-11-09T12:26:02.837Z"
   },
   {
    "duration": 16,
    "start_time": "2022-11-09T12:26:10.445Z"
   },
   {
    "duration": 15,
    "start_time": "2022-11-09T12:26:20.830Z"
   },
   {
    "duration": 8,
    "start_time": "2022-11-09T12:28:57.575Z"
   },
   {
    "duration": 8,
    "start_time": "2022-11-09T12:29:07.854Z"
   },
   {
    "duration": 9,
    "start_time": "2022-11-09T12:29:15.831Z"
   },
   {
    "duration": 9,
    "start_time": "2022-11-09T12:29:40.290Z"
   },
   {
    "duration": 9,
    "start_time": "2022-11-09T12:29:44.681Z"
   },
   {
    "duration": 9,
    "start_time": "2022-11-09T12:29:50.240Z"
   },
   {
    "duration": 223,
    "start_time": "2022-11-09T12:31:41.219Z"
   },
   {
    "duration": 233,
    "start_time": "2022-11-09T12:31:52.442Z"
   },
   {
    "duration": 10,
    "start_time": "2022-11-09T12:31:59.850Z"
   },
   {
    "duration": 229,
    "start_time": "2022-11-09T12:32:29.859Z"
   },
   {
    "duration": 290,
    "start_time": "2022-11-09T12:32:43.643Z"
   },
   {
    "duration": 222,
    "start_time": "2022-11-09T12:32:58.427Z"
   },
   {
    "duration": 6,
    "start_time": "2022-11-09T12:40:02.620Z"
   },
   {
    "duration": 10,
    "start_time": "2022-11-09T12:41:11.051Z"
   },
   {
    "duration": 12,
    "start_time": "2022-11-09T12:41:17.217Z"
   },
   {
    "duration": 7,
    "start_time": "2022-11-09T12:41:20.819Z"
   },
   {
    "duration": 5,
    "start_time": "2022-11-09T12:41:24.803Z"
   },
   {
    "duration": 8,
    "start_time": "2022-11-09T12:41:29.238Z"
   },
   {
    "duration": 59,
    "start_time": "2022-11-09T12:42:05.403Z"
   },
   {
    "duration": 1050,
    "start_time": "2022-11-09T12:42:07.154Z"
   },
   {
    "duration": 331,
    "start_time": "2022-11-09T13:13:07.248Z"
   },
   {
    "duration": 461,
    "start_time": "2022-11-09T13:13:55.343Z"
   },
   {
    "duration": 390,
    "start_time": "2022-11-09T13:14:46.967Z"
   },
   {
    "duration": 454,
    "start_time": "2022-11-09T13:14:53.872Z"
   },
   {
    "duration": 34,
    "start_time": "2022-11-09T13:17:16.626Z"
   },
   {
    "duration": 33,
    "start_time": "2022-11-09T13:17:27.369Z"
   },
   {
    "duration": 36,
    "start_time": "2022-11-09T13:17:50.619Z"
   },
   {
    "duration": 36,
    "start_time": "2022-11-09T13:18:25.937Z"
   },
   {
    "duration": 42,
    "start_time": "2022-11-09T13:18:34.291Z"
   },
   {
    "duration": 50,
    "start_time": "2022-11-09T13:18:49.052Z"
   },
   {
    "duration": 71,
    "start_time": "2022-11-09T13:19:58.636Z"
   },
   {
    "duration": 68,
    "start_time": "2022-11-09T13:20:16.645Z"
   },
   {
    "duration": 79,
    "start_time": "2022-11-09T13:20:30.245Z"
   },
   {
    "duration": 70,
    "start_time": "2022-11-09T13:22:04.567Z"
   },
   {
    "duration": 90,
    "start_time": "2022-11-09T13:23:00.593Z"
   },
   {
    "duration": 71,
    "start_time": "2022-11-09T13:23:39.560Z"
   },
   {
    "duration": 72,
    "start_time": "2022-11-09T13:24:04.321Z"
   },
   {
    "duration": 70,
    "start_time": "2022-11-09T13:28:55.357Z"
   },
   {
    "duration": 38,
    "start_time": "2022-11-09T13:29:10.965Z"
   },
   {
    "duration": 55,
    "start_time": "2022-11-09T13:30:10.166Z"
   },
   {
    "duration": 50,
    "start_time": "2022-11-09T13:33:35.008Z"
   },
   {
    "duration": 18,
    "start_time": "2022-11-09T13:34:34.747Z"
   },
   {
    "duration": 36,
    "start_time": "2022-11-09T13:34:47.402Z"
   },
   {
    "duration": 24,
    "start_time": "2022-11-09T13:35:08.371Z"
   },
   {
    "duration": 60,
    "start_time": "2022-11-09T13:37:16.996Z"
   },
   {
    "duration": 60,
    "start_time": "2022-11-09T13:37:29.028Z"
   },
   {
    "duration": 59,
    "start_time": "2022-11-09T13:37:33.077Z"
   },
   {
    "duration": 60,
    "start_time": "2022-11-09T13:37:52.229Z"
   },
   {
    "duration": 59,
    "start_time": "2022-11-09T13:39:05.806Z"
   },
   {
    "duration": 70,
    "start_time": "2022-11-09T13:42:50.898Z"
   },
   {
    "duration": 80,
    "start_time": "2022-11-09T13:43:03.697Z"
   },
   {
    "duration": 71,
    "start_time": "2022-11-09T13:43:18.586Z"
   },
   {
    "duration": 76,
    "start_time": "2022-11-09T13:43:26.939Z"
   },
   {
    "duration": 93,
    "start_time": "2022-11-09T13:43:51.931Z"
   },
   {
    "duration": 89,
    "start_time": "2022-11-09T13:43:59.291Z"
   },
   {
    "duration": 82,
    "start_time": "2022-11-09T13:47:11.927Z"
   },
   {
    "duration": 391,
    "start_time": "2022-11-09T13:48:26.479Z"
   },
   {
    "duration": 389,
    "start_time": "2022-11-09T13:51:20.514Z"
   },
   {
    "duration": 701,
    "start_time": "2022-11-09T13:52:38.084Z"
   },
   {
    "duration": 579,
    "start_time": "2022-11-09T13:53:05.815Z"
   },
   {
    "duration": 572,
    "start_time": "2022-11-09T13:54:40.653Z"
   },
   {
    "duration": 604,
    "start_time": "2022-11-09T13:54:48.253Z"
   },
   {
    "duration": 669,
    "start_time": "2022-11-09T13:54:56.765Z"
   },
   {
    "duration": 684,
    "start_time": "2022-11-09T13:55:35.054Z"
   },
   {
    "duration": 1097,
    "start_time": "2022-11-09T13:55:35.740Z"
   },
   {
    "duration": 6,
    "start_time": "2022-11-09T13:55:36.838Z"
   },
   {
    "duration": 196,
    "start_time": "2022-11-09T13:55:36.848Z"
   },
   {
    "duration": 440,
    "start_time": "2022-11-09T13:55:37.046Z"
   },
   {
    "duration": 76,
    "start_time": "2022-11-09T13:55:37.488Z"
   },
   {
    "duration": 90,
    "start_time": "2022-11-09T13:55:37.565Z"
   },
   {
    "duration": 729,
    "start_time": "2022-11-09T13:55:37.657Z"
   },
   {
    "duration": 229,
    "start_time": "2022-11-09T13:55:38.388Z"
   },
   {
    "duration": 254,
    "start_time": "2022-11-09T13:55:38.620Z"
   },
   {
    "duration": 6,
    "start_time": "2022-11-09T13:55:38.876Z"
   },
   {
    "duration": 316,
    "start_time": "2022-11-09T13:55:38.883Z"
   },
   {
    "duration": 435,
    "start_time": "2022-11-09T13:57:26.223Z"
   },
   {
    "duration": 308,
    "start_time": "2022-11-09T13:57:46.432Z"
   },
   {
    "duration": 65,
    "start_time": "2022-11-09T13:58:54.306Z"
   },
   {
    "duration": 400,
    "start_time": "2022-11-09T13:59:21.154Z"
   },
   {
    "duration": 506,
    "start_time": "2022-11-09T14:00:25.603Z"
   },
   {
    "duration": 256,
    "start_time": "2022-11-09T14:01:01.283Z"
   },
   {
    "duration": 412,
    "start_time": "2022-11-09T14:03:56.397Z"
   },
   {
    "duration": 425,
    "start_time": "2022-11-09T14:04:10.414Z"
   },
   {
    "duration": 418,
    "start_time": "2022-11-09T14:04:20.070Z"
   },
   {
    "duration": 68,
    "start_time": "2022-11-09T14:06:20.847Z"
   },
   {
    "duration": 67,
    "start_time": "2022-11-09T14:06:49.912Z"
   },
   {
    "duration": 82,
    "start_time": "2022-11-09T14:07:17.829Z"
   },
   {
    "duration": 80,
    "start_time": "2022-11-09T14:07:28.800Z"
   },
   {
    "duration": 77,
    "start_time": "2022-11-09T14:08:02.858Z"
   },
   {
    "duration": 69,
    "start_time": "2022-11-09T14:08:34.858Z"
   },
   {
    "duration": 72,
    "start_time": "2022-11-09T14:08:45.050Z"
   },
   {
    "duration": 75,
    "start_time": "2022-11-09T14:09:22.394Z"
   },
   {
    "duration": 70,
    "start_time": "2022-11-09T14:09:47.284Z"
   },
   {
    "duration": 656,
    "start_time": "2022-11-09T14:09:56.944Z"
   },
   {
    "duration": 1023,
    "start_time": "2022-11-09T14:09:57.602Z"
   },
   {
    "duration": 8,
    "start_time": "2022-11-09T14:09:58.627Z"
   },
   {
    "duration": 184,
    "start_time": "2022-11-09T14:09:58.637Z"
   },
   {
    "duration": 443,
    "start_time": "2022-11-09T14:09:58.823Z"
   },
   {
    "duration": 82,
    "start_time": "2022-11-09T14:09:59.268Z"
   },
   {
    "duration": 88,
    "start_time": "2022-11-09T14:09:59.352Z"
   },
   {
    "duration": 698,
    "start_time": "2022-11-09T14:09:59.442Z"
   },
   {
    "duration": 7,
    "start_time": "2022-11-09T14:10:00.143Z"
   },
   {
    "duration": 399,
    "start_time": "2022-11-09T14:10:00.154Z"
   },
   {
    "duration": 14,
    "start_time": "2022-11-09T14:56:17.389Z"
   },
   {
    "duration": 66,
    "start_time": "2022-11-09T14:56:22.629Z"
   },
   {
    "duration": 9,
    "start_time": "2022-11-09T14:56:30.774Z"
   },
   {
    "duration": 10,
    "start_time": "2022-11-09T14:56:46.189Z"
   },
   {
    "duration": 9,
    "start_time": "2022-11-09T14:57:31.213Z"
   },
   {
    "duration": 680,
    "start_time": "2022-11-09T14:57:43.941Z"
   },
   {
    "duration": 10,
    "start_time": "2022-11-09T14:58:00.357Z"
   },
   {
    "duration": 48,
    "start_time": "2022-11-10T10:13:08.328Z"
   },
   {
    "duration": 12,
    "start_time": "2022-11-10T10:14:03.681Z"
   },
   {
    "duration": 676,
    "start_time": "2022-11-10T10:17:33.397Z"
   },
   {
    "duration": 598,
    "start_time": "2022-11-10T10:18:00.695Z"
   },
   {
    "duration": 759,
    "start_time": "2022-11-10T10:18:36.798Z"
   },
   {
    "duration": 597,
    "start_time": "2022-11-10T10:18:42.425Z"
   },
   {
    "duration": 600,
    "start_time": "2022-11-10T10:19:09.648Z"
   },
   {
    "duration": 19,
    "start_time": "2022-11-10T10:26:07.821Z"
   },
   {
    "duration": 16,
    "start_time": "2022-11-10T10:26:17.758Z"
   },
   {
    "duration": 13,
    "start_time": "2022-11-10T10:26:25.030Z"
   },
   {
    "duration": 12,
    "start_time": "2022-11-10T10:26:31.910Z"
   },
   {
    "duration": 19,
    "start_time": "2022-11-10T10:26:59.343Z"
   },
   {
    "duration": 665,
    "start_time": "2022-11-10T10:27:31.662Z"
   },
   {
    "duration": 1000,
    "start_time": "2022-11-10T10:27:32.329Z"
   },
   {
    "duration": 5,
    "start_time": "2022-11-10T10:27:33.331Z"
   },
   {
    "duration": 166,
    "start_time": "2022-11-10T10:27:33.338Z"
   },
   {
    "duration": 433,
    "start_time": "2022-11-10T10:27:33.505Z"
   },
   {
    "duration": 84,
    "start_time": "2022-11-10T10:27:33.940Z"
   },
   {
    "duration": 112,
    "start_time": "2022-11-10T10:27:34.026Z"
   },
   {
    "duration": 719,
    "start_time": "2022-11-10T10:27:34.140Z"
   },
   {
    "duration": 22,
    "start_time": "2022-11-10T10:27:34.861Z"
   },
   {
    "duration": 333,
    "start_time": "2022-11-10T10:27:34.886Z"
   },
   {
    "duration": 221,
    "start_time": "2022-11-10T10:31:24.231Z"
   },
   {
    "duration": 86,
    "start_time": "2022-11-10T10:33:18.668Z"
   },
   {
    "duration": 12,
    "start_time": "2022-11-10T10:33:51.926Z"
   },
   {
    "duration": 15,
    "start_time": "2022-11-10T10:34:52.008Z"
   },
   {
    "duration": 10,
    "start_time": "2022-11-10T10:35:06.342Z"
   },
   {
    "duration": 13,
    "start_time": "2022-11-10T10:36:37.792Z"
   },
   {
    "duration": 202,
    "start_time": "2022-11-10T10:37:13.322Z"
   },
   {
    "duration": 200,
    "start_time": "2022-11-10T10:37:22.353Z"
   },
   {
    "duration": 180,
    "start_time": "2022-11-10T10:37:41.385Z"
   },
   {
    "duration": 155,
    "start_time": "2022-11-10T10:40:02.756Z"
   },
   {
    "duration": 35,
    "start_time": "2022-11-10T10:41:26.477Z"
   },
   {
    "duration": 34,
    "start_time": "2022-11-10T10:42:00.796Z"
   },
   {
    "duration": 35,
    "start_time": "2022-11-10T10:43:07.680Z"
   },
   {
    "duration": 35,
    "start_time": "2022-11-10T10:43:24.383Z"
   },
   {
    "duration": 34,
    "start_time": "2022-11-10T10:44:20.641Z"
   },
   {
    "duration": 36,
    "start_time": "2022-11-10T10:52:06.296Z"
   },
   {
    "duration": 609,
    "start_time": "2022-11-10T11:03:55.076Z"
   },
   {
    "duration": 993,
    "start_time": "2022-11-10T11:03:55.687Z"
   },
   {
    "duration": 6,
    "start_time": "2022-11-10T11:03:56.684Z"
   },
   {
    "duration": 173,
    "start_time": "2022-11-10T11:03:56.692Z"
   },
   {
    "duration": 3,
    "start_time": "2022-11-10T11:03:56.867Z"
   },
   {
    "duration": 457,
    "start_time": "2022-11-10T11:03:56.872Z"
   },
   {
    "duration": 73,
    "start_time": "2022-11-10T11:03:57.330Z"
   },
   {
    "duration": 89,
    "start_time": "2022-11-10T11:03:57.405Z"
   },
   {
    "duration": 710,
    "start_time": "2022-11-10T11:03:57.497Z"
   },
   {
    "duration": 162,
    "start_time": "2022-11-10T11:03:58.208Z"
   },
   {
    "duration": 36,
    "start_time": "2022-11-10T11:03:58.372Z"
   },
   {
    "duration": 37,
    "start_time": "2022-11-10T11:03:58.421Z"
   },
   {
    "duration": 36,
    "start_time": "2022-11-10T11:03:58.460Z"
   },
   {
    "duration": 353,
    "start_time": "2022-11-10T11:03:58.497Z"
   },
   {
    "duration": 81,
    "start_time": "2022-11-10T11:04:51.238Z"
   },
   {
    "duration": 82,
    "start_time": "2022-11-10T11:05:03.860Z"
   },
   {
    "duration": 80,
    "start_time": "2022-11-10T11:05:10.782Z"
   },
   {
    "duration": 82,
    "start_time": "2022-11-10T11:05:16.885Z"
   },
   {
    "duration": 35,
    "start_time": "2022-11-10T11:06:01.582Z"
   },
   {
    "duration": 35,
    "start_time": "2022-11-10T11:06:30.695Z"
   },
   {
    "duration": 34,
    "start_time": "2022-11-10T11:06:51.718Z"
   },
   {
    "duration": 37,
    "start_time": "2022-11-10T11:10:26.403Z"
   },
   {
    "duration": 164,
    "start_time": "2022-11-10T11:23:05.864Z"
   },
   {
    "duration": 427,
    "start_time": "2022-11-10T11:24:06.128Z"
   },
   {
    "duration": 456,
    "start_time": "2022-11-10T11:24:30.769Z"
   },
   {
    "duration": 34,
    "start_time": "2022-11-10T11:25:16.754Z"
   },
   {
    "duration": 9,
    "start_time": "2022-11-10T11:25:21.158Z"
   },
   {
    "duration": 309,
    "start_time": "2022-11-10T11:39:21.857Z"
   },
   {
    "duration": 222,
    "start_time": "2022-11-10T11:40:15.064Z"
   },
   {
    "duration": 218,
    "start_time": "2022-11-10T11:40:23.160Z"
   },
   {
    "duration": 14,
    "start_time": "2022-11-10T11:45:35.167Z"
   },
   {
    "duration": 80,
    "start_time": "2022-11-10T11:59:11.076Z"
   },
   {
    "duration": 25,
    "start_time": "2022-11-10T11:59:27.710Z"
   },
   {
    "duration": 634,
    "start_time": "2022-11-10T12:03:44.745Z"
   },
   {
    "duration": 1015,
    "start_time": "2022-11-10T12:03:45.381Z"
   },
   {
    "duration": 6,
    "start_time": "2022-11-10T12:03:46.398Z"
   },
   {
    "duration": 197,
    "start_time": "2022-11-10T12:03:46.407Z"
   },
   {
    "duration": 4,
    "start_time": "2022-11-10T12:03:46.605Z"
   },
   {
    "duration": 431,
    "start_time": "2022-11-10T12:03:46.610Z"
   },
   {
    "duration": 81,
    "start_time": "2022-11-10T12:03:47.042Z"
   },
   {
    "duration": 71,
    "start_time": "2022-11-10T12:03:47.125Z"
   },
   {
    "duration": 690,
    "start_time": "2022-11-10T12:03:47.198Z"
   },
   {
    "duration": 166,
    "start_time": "2022-11-10T12:03:47.891Z"
   },
   {
    "duration": 34,
    "start_time": "2022-11-10T12:03:48.059Z"
   },
   {
    "duration": 77,
    "start_time": "2022-11-10T12:03:48.095Z"
   },
   {
    "duration": 47,
    "start_time": "2022-11-10T12:03:48.175Z"
   },
   {
    "duration": 41,
    "start_time": "2022-11-10T12:03:48.224Z"
   },
   {
    "duration": 463,
    "start_time": "2022-11-10T12:03:48.267Z"
   },
   {
    "duration": 459,
    "start_time": "2022-11-10T12:03:48.732Z"
   },
   {
    "duration": 15,
    "start_time": "2022-11-10T12:03:49.193Z"
   },
   {
    "duration": 57,
    "start_time": "2022-11-10T12:03:49.209Z"
   },
   {
    "duration": 675,
    "start_time": "2022-11-10T12:13:40.791Z"
   },
   {
    "duration": 999,
    "start_time": "2022-11-10T12:13:41.469Z"
   },
   {
    "duration": 6,
    "start_time": "2022-11-10T12:13:42.469Z"
   },
   {
    "duration": 306,
    "start_time": "2022-11-10T12:13:42.476Z"
   },
   {
    "duration": 4,
    "start_time": "2022-11-10T12:13:42.784Z"
   },
   {
    "duration": 428,
    "start_time": "2022-11-10T12:13:42.789Z"
   },
   {
    "duration": 69,
    "start_time": "2022-11-10T12:13:43.222Z"
   },
   {
    "duration": 83,
    "start_time": "2022-11-10T12:13:43.293Z"
   },
   {
    "duration": 679,
    "start_time": "2022-11-10T12:13:43.378Z"
   },
   {
    "duration": 219,
    "start_time": "2022-11-10T12:13:44.059Z"
   },
   {
    "duration": 50,
    "start_time": "2022-11-10T12:13:44.280Z"
   },
   {
    "duration": 34,
    "start_time": "2022-11-10T12:13:44.331Z"
   },
   {
    "duration": 60,
    "start_time": "2022-11-10T12:13:44.367Z"
   },
   {
    "duration": 41,
    "start_time": "2022-11-10T12:13:44.430Z"
   },
   {
    "duration": 475,
    "start_time": "2022-11-10T12:13:44.472Z"
   },
   {
    "duration": 457,
    "start_time": "2022-11-10T12:13:44.949Z"
   },
   {
    "duration": 20,
    "start_time": "2022-11-10T12:13:45.408Z"
   },
   {
    "duration": 38,
    "start_time": "2022-11-10T12:13:45.430Z"
   },
   {
    "duration": 43,
    "start_time": "2022-11-10T12:13:45.469Z"
   },
   {
    "duration": 28,
    "start_time": "2022-11-10T12:13:50.780Z"
   },
   {
    "duration": 791,
    "start_time": "2022-11-10T12:15:40.302Z"
   },
   {
    "duration": 1139,
    "start_time": "2022-11-10T12:15:41.123Z"
   },
   {
    "duration": 7,
    "start_time": "2022-11-10T12:15:42.264Z"
   },
   {
    "duration": 231,
    "start_time": "2022-11-10T12:15:42.273Z"
   },
   {
    "duration": 4,
    "start_time": "2022-11-10T12:15:42.507Z"
   },
   {
    "duration": 641,
    "start_time": "2022-11-10T12:15:42.513Z"
   },
   {
    "duration": 127,
    "start_time": "2022-11-10T12:15:43.156Z"
   },
   {
    "duration": 83,
    "start_time": "2022-11-10T12:15:43.285Z"
   },
   {
    "duration": 769,
    "start_time": "2022-11-10T12:15:43.370Z"
   },
   {
    "duration": 243,
    "start_time": "2022-11-10T12:15:44.141Z"
   },
   {
    "duration": 62,
    "start_time": "2022-11-10T12:15:44.386Z"
   },
   {
    "duration": 42,
    "start_time": "2022-11-10T12:15:44.450Z"
   },
   {
    "duration": 57,
    "start_time": "2022-11-10T12:15:44.494Z"
   },
   {
    "duration": 72,
    "start_time": "2022-11-10T12:15:44.555Z"
   },
   {
    "duration": 530,
    "start_time": "2022-11-10T12:15:44.629Z"
   },
   {
    "duration": 479,
    "start_time": "2022-11-10T12:15:45.161Z"
   },
   {
    "duration": 15,
    "start_time": "2022-11-10T12:15:45.644Z"
   },
   {
    "duration": 39,
    "start_time": "2022-11-10T12:15:45.661Z"
   },
   {
    "duration": 41,
    "start_time": "2022-11-10T12:15:45.702Z"
   },
   {
    "duration": 60,
    "start_time": "2022-11-10T12:21:52.459Z"
   },
   {
    "duration": 1259,
    "start_time": "2022-11-10T12:29:19.714Z"
   },
   {
    "duration": 50,
    "start_time": "2022-11-10T12:29:39.521Z"
   },
   {
    "duration": 336,
    "start_time": "2022-11-10T12:33:12.662Z"
   },
   {
    "duration": 217,
    "start_time": "2022-11-10T12:33:33.733Z"
   },
   {
    "duration": 227,
    "start_time": "2022-11-10T12:34:46.159Z"
   },
   {
    "duration": 221,
    "start_time": "2022-11-10T12:37:52.995Z"
   },
   {
    "duration": 222,
    "start_time": "2022-11-10T12:38:03.330Z"
   },
   {
    "duration": 194,
    "start_time": "2022-11-10T12:38:47.142Z"
   },
   {
    "duration": 114,
    "start_time": "2022-11-10T12:39:43.316Z"
   },
   {
    "duration": 192,
    "start_time": "2022-11-10T12:40:26.140Z"
   },
   {
    "duration": 204,
    "start_time": "2022-11-10T12:43:44.344Z"
   },
   {
    "duration": 219,
    "start_time": "2022-11-10T12:46:13.635Z"
   },
   {
    "duration": 216,
    "start_time": "2022-11-10T12:52:29.560Z"
   },
   {
    "duration": 1408,
    "start_time": "2022-11-10T12:52:46.483Z"
   },
   {
    "duration": 225,
    "start_time": "2022-11-10T12:54:17.011Z"
   },
   {
    "duration": 687,
    "start_time": "2022-11-10T12:54:22.740Z"
   },
   {
    "duration": 1104,
    "start_time": "2022-11-10T12:54:23.430Z"
   },
   {
    "duration": 6,
    "start_time": "2022-11-10T12:54:24.535Z"
   },
   {
    "duration": 178,
    "start_time": "2022-11-10T12:54:24.543Z"
   },
   {
    "duration": 4,
    "start_time": "2022-11-10T12:54:24.725Z"
   },
   {
    "duration": 452,
    "start_time": "2022-11-10T12:54:24.731Z"
   },
   {
    "duration": 81,
    "start_time": "2022-11-10T12:54:25.185Z"
   },
   {
    "duration": 87,
    "start_time": "2022-11-10T12:54:25.268Z"
   },
   {
    "duration": 769,
    "start_time": "2022-11-10T12:54:25.357Z"
   },
   {
    "duration": 183,
    "start_time": "2022-11-10T12:54:26.128Z"
   },
   {
    "duration": 42,
    "start_time": "2022-11-10T12:54:26.312Z"
   },
   {
    "duration": 43,
    "start_time": "2022-11-10T12:54:26.356Z"
   },
   {
    "duration": 51,
    "start_time": "2022-11-10T12:54:26.401Z"
   },
   {
    "duration": 37,
    "start_time": "2022-11-10T12:54:26.456Z"
   },
   {
    "duration": 534,
    "start_time": "2022-11-10T12:54:26.495Z"
   },
   {
    "duration": 475,
    "start_time": "2022-11-10T12:54:27.031Z"
   },
   {
    "duration": 21,
    "start_time": "2022-11-10T12:54:27.508Z"
   },
   {
    "duration": 40,
    "start_time": "2022-11-10T12:54:27.531Z"
   },
   {
    "duration": 24,
    "start_time": "2022-11-10T12:54:27.573Z"
   },
   {
    "duration": 128,
    "start_time": "2022-11-10T12:54:27.599Z"
   },
   {
    "duration": 364,
    "start_time": "2022-11-10T12:54:27.729Z"
   },
   {
    "duration": 1433,
    "start_time": "2022-11-10T12:55:25.300Z"
   },
   {
    "duration": 698,
    "start_time": "2022-11-10T12:56:06.217Z"
   },
   {
    "duration": 982,
    "start_time": "2022-11-10T12:56:06.917Z"
   },
   {
    "duration": 5,
    "start_time": "2022-11-10T12:56:07.901Z"
   },
   {
    "duration": 171,
    "start_time": "2022-11-10T12:56:07.908Z"
   },
   {
    "duration": 4,
    "start_time": "2022-11-10T12:56:08.080Z"
   },
   {
    "duration": 432,
    "start_time": "2022-11-10T12:56:08.086Z"
   },
   {
    "duration": 70,
    "start_time": "2022-11-10T12:56:08.522Z"
   },
   {
    "duration": 86,
    "start_time": "2022-11-10T12:56:08.593Z"
   },
   {
    "duration": 679,
    "start_time": "2022-11-10T12:56:08.681Z"
   },
   {
    "duration": 168,
    "start_time": "2022-11-10T12:56:09.363Z"
   },
   {
    "duration": 34,
    "start_time": "2022-11-10T12:56:09.533Z"
   },
   {
    "duration": 52,
    "start_time": "2022-11-10T12:56:09.570Z"
   },
   {
    "duration": 34,
    "start_time": "2022-11-10T12:56:09.624Z"
   },
   {
    "duration": 37,
    "start_time": "2022-11-10T12:56:09.660Z"
   },
   {
    "duration": 488,
    "start_time": "2022-11-10T12:56:09.699Z"
   },
   {
    "duration": 462,
    "start_time": "2022-11-10T12:56:10.189Z"
   },
   {
    "duration": 15,
    "start_time": "2022-11-10T12:56:10.653Z"
   },
   {
    "duration": 60,
    "start_time": "2022-11-10T12:56:10.670Z"
   },
   {
    "duration": 24,
    "start_time": "2022-11-10T12:56:10.732Z"
   },
   {
    "duration": 80,
    "start_time": "2022-11-10T12:56:10.757Z"
   },
   {
    "duration": 10139,
    "start_time": "2022-11-10T12:56:10.839Z"
   },
   {
    "duration": 805,
    "start_time": "2022-11-14T11:54:38.216Z"
   },
   {
    "duration": 1259,
    "start_time": "2022-11-14T11:54:39.023Z"
   },
   {
    "duration": 7,
    "start_time": "2022-11-14T11:54:40.284Z"
   },
   {
    "duration": 183,
    "start_time": "2022-11-14T11:54:40.293Z"
   },
   {
    "duration": 3,
    "start_time": "2022-11-14T11:54:40.478Z"
   },
   {
    "duration": 407,
    "start_time": "2022-11-14T11:54:40.484Z"
   },
   {
    "duration": 78,
    "start_time": "2022-11-14T11:54:40.893Z"
   },
   {
    "duration": 88,
    "start_time": "2022-11-14T11:54:40.973Z"
   },
   {
    "duration": 620,
    "start_time": "2022-11-14T11:54:41.062Z"
   },
   {
    "duration": 153,
    "start_time": "2022-11-14T11:54:41.684Z"
   },
   {
    "duration": 36,
    "start_time": "2022-11-14T11:54:41.839Z"
   },
   {
    "duration": 47,
    "start_time": "2022-11-14T11:54:41.877Z"
   },
   {
    "duration": 35,
    "start_time": "2022-11-14T11:54:41.926Z"
   },
   {
    "duration": 57,
    "start_time": "2022-11-14T11:54:41.965Z"
   },
   {
    "duration": 442,
    "start_time": "2022-11-14T11:54:42.024Z"
   },
   {
    "duration": 426,
    "start_time": "2022-11-14T11:54:42.468Z"
   },
   {
    "duration": 101,
    "start_time": "2022-11-14T11:54:42.904Z"
   },
   {
    "duration": 0,
    "start_time": "2022-11-14T11:54:43.007Z"
   },
   {
    "duration": 0,
    "start_time": "2022-11-14T11:54:43.011Z"
   },
   {
    "duration": 0,
    "start_time": "2022-11-14T11:54:43.012Z"
   },
   {
    "duration": 0,
    "start_time": "2022-11-14T11:54:43.014Z"
   },
   {
    "duration": 0,
    "start_time": "2022-11-14T11:54:43.015Z"
   },
   {
    "duration": 36,
    "start_time": "2022-11-14T11:55:13.778Z"
   },
   {
    "duration": 88,
    "start_time": "2022-11-14T11:55:23.973Z"
   },
   {
    "duration": 720,
    "start_time": "2022-11-14T11:56:02.423Z"
   },
   {
    "duration": 1061,
    "start_time": "2022-11-14T11:56:03.145Z"
   },
   {
    "duration": 7,
    "start_time": "2022-11-14T11:56:04.208Z"
   },
   {
    "duration": 206,
    "start_time": "2022-11-14T11:56:04.217Z"
   },
   {
    "duration": 4,
    "start_time": "2022-11-14T11:56:04.425Z"
   },
   {
    "duration": 469,
    "start_time": "2022-11-14T11:56:04.431Z"
   },
   {
    "duration": 102,
    "start_time": "2022-11-14T11:56:04.903Z"
   },
   {
    "duration": 80,
    "start_time": "2022-11-14T11:56:05.007Z"
   },
   {
    "duration": 725,
    "start_time": "2022-11-14T11:56:05.089Z"
   },
   {
    "duration": 188,
    "start_time": "2022-11-14T11:56:05.817Z"
   },
   {
    "duration": 46,
    "start_time": "2022-11-14T11:56:06.007Z"
   },
   {
    "duration": 63,
    "start_time": "2022-11-14T11:56:06.054Z"
   },
   {
    "duration": 50,
    "start_time": "2022-11-14T11:56:06.119Z"
   },
   {
    "duration": 68,
    "start_time": "2022-11-14T11:56:06.173Z"
   },
   {
    "duration": 481,
    "start_time": "2022-11-14T11:56:06.243Z"
   },
   {
    "duration": 459,
    "start_time": "2022-11-14T11:56:06.726Z"
   },
   {
    "duration": 96,
    "start_time": "2022-11-14T11:56:07.187Z"
   },
   {
    "duration": 21,
    "start_time": "2022-11-14T11:56:07.285Z"
   },
   {
    "duration": 58,
    "start_time": "2022-11-14T11:56:07.307Z"
   },
   {
    "duration": 40,
    "start_time": "2022-11-14T11:56:07.367Z"
   },
   {
    "duration": 72,
    "start_time": "2022-11-14T11:56:07.409Z"
   },
   {
    "duration": 10674,
    "start_time": "2022-11-14T11:56:07.483Z"
   },
   {
    "duration": 105,
    "start_time": "2022-11-14T12:09:46.380Z"
   },
   {
    "duration": 36,
    "start_time": "2022-11-14T12:09:58.197Z"
   },
   {
    "duration": 716,
    "start_time": "2022-11-14T12:25:34.620Z"
   },
   {
    "duration": 1182,
    "start_time": "2022-11-14T12:25:35.338Z"
   },
   {
    "duration": 6,
    "start_time": "2022-11-14T12:25:36.523Z"
   },
   {
    "duration": 211,
    "start_time": "2022-11-14T12:25:36.532Z"
   },
   {
    "duration": 4,
    "start_time": "2022-11-14T12:25:36.746Z"
   },
   {
    "duration": 491,
    "start_time": "2022-11-14T12:25:36.752Z"
   },
   {
    "duration": 107,
    "start_time": "2022-11-14T12:25:37.245Z"
   },
   {
    "duration": 129,
    "start_time": "2022-11-14T12:25:37.354Z"
   },
   {
    "duration": 823,
    "start_time": "2022-11-14T12:25:37.486Z"
   },
   {
    "duration": 185,
    "start_time": "2022-11-14T12:25:38.311Z"
   },
   {
    "duration": 49,
    "start_time": "2022-11-14T12:25:38.499Z"
   },
   {
    "duration": 57,
    "start_time": "2022-11-14T12:25:38.550Z"
   },
   {
    "duration": 49,
    "start_time": "2022-11-14T12:25:38.610Z"
   },
   {
    "duration": 70,
    "start_time": "2022-11-14T12:25:38.662Z"
   },
   {
    "duration": 509,
    "start_time": "2022-11-14T12:25:38.734Z"
   },
   {
    "duration": 477,
    "start_time": "2022-11-14T12:25:39.245Z"
   },
   {
    "duration": 112,
    "start_time": "2022-11-14T12:25:39.724Z"
   },
   {
    "duration": 15,
    "start_time": "2022-11-14T12:25:39.838Z"
   },
   {
    "duration": 64,
    "start_time": "2022-11-14T12:25:39.855Z"
   },
   {
    "duration": 27,
    "start_time": "2022-11-14T12:25:39.923Z"
   },
   {
    "duration": 65,
    "start_time": "2022-11-14T12:25:39.952Z"
   },
   {
    "duration": 23,
    "start_time": "2022-11-14T12:25:40.020Z"
   },
   {
    "duration": 89,
    "start_time": "2022-11-14T12:25:40.045Z"
   },
   {
    "duration": 11693,
    "start_time": "2022-11-14T12:25:40.136Z"
   },
   {
    "duration": 23,
    "start_time": "2022-11-14T12:26:22.990Z"
   },
   {
    "duration": 716,
    "start_time": "2022-11-14T12:28:55.151Z"
   },
   {
    "duration": 1160,
    "start_time": "2022-11-14T12:28:55.869Z"
   },
   {
    "duration": 7,
    "start_time": "2022-11-14T12:28:57.031Z"
   },
   {
    "duration": 208,
    "start_time": "2022-11-14T12:28:57.039Z"
   },
   {
    "duration": 3,
    "start_time": "2022-11-14T12:28:57.255Z"
   },
   {
    "duration": 530,
    "start_time": "2022-11-14T12:28:57.259Z"
   },
   {
    "duration": 103,
    "start_time": "2022-11-14T12:28:57.791Z"
   },
   {
    "duration": 123,
    "start_time": "2022-11-14T12:28:57.897Z"
   },
   {
    "duration": 753,
    "start_time": "2022-11-14T12:28:58.022Z"
   },
   {
    "duration": 203,
    "start_time": "2022-11-14T12:28:58.777Z"
   },
   {
    "duration": 53,
    "start_time": "2022-11-14T12:28:58.981Z"
   },
   {
    "duration": 43,
    "start_time": "2022-11-14T12:28:59.036Z"
   },
   {
    "duration": 61,
    "start_time": "2022-11-14T12:28:59.081Z"
   },
   {
    "duration": 42,
    "start_time": "2022-11-14T12:28:59.145Z"
   },
   {
    "duration": 522,
    "start_time": "2022-11-14T12:28:59.206Z"
   },
   {
    "duration": 504,
    "start_time": "2022-11-14T12:28:59.730Z"
   },
   {
    "duration": 110,
    "start_time": "2022-11-14T12:29:00.236Z"
   },
   {
    "duration": 14,
    "start_time": "2022-11-14T12:29:00.348Z"
   },
   {
    "duration": 78,
    "start_time": "2022-11-14T12:29:00.363Z"
   },
   {
    "duration": 45,
    "start_time": "2022-11-14T12:29:00.442Z"
   },
   {
    "duration": 24,
    "start_time": "2022-11-14T12:29:00.489Z"
   },
   {
    "duration": 119,
    "start_time": "2022-11-14T12:29:00.516Z"
   },
   {
    "duration": 22,
    "start_time": "2022-11-14T12:29:00.636Z"
   },
   {
    "duration": 12612,
    "start_time": "2022-11-14T12:29:00.660Z"
   },
   {
    "duration": 82,
    "start_time": "2022-11-14T12:29:13.273Z"
   },
   {
    "duration": 1384,
    "start_time": "2022-11-14T12:40:11.149Z"
   },
   {
    "duration": 769,
    "start_time": "2022-11-14T12:40:50.983Z"
   },
   {
    "duration": 1120,
    "start_time": "2022-11-14T12:40:51.753Z"
   },
   {
    "duration": 7,
    "start_time": "2022-11-14T12:40:52.875Z"
   },
   {
    "duration": 222,
    "start_time": "2022-11-14T12:40:52.884Z"
   },
   {
    "duration": 5,
    "start_time": "2022-11-14T12:40:53.111Z"
   },
   {
    "duration": 474,
    "start_time": "2022-11-14T12:40:53.118Z"
   },
   {
    "duration": 94,
    "start_time": "2022-11-14T12:40:53.594Z"
   },
   {
    "duration": 137,
    "start_time": "2022-11-14T12:40:53.706Z"
   },
   {
    "duration": 793,
    "start_time": "2022-11-14T12:40:53.845Z"
   },
   {
    "duration": 191,
    "start_time": "2022-11-14T12:40:54.641Z"
   },
   {
    "duration": 76,
    "start_time": "2022-11-14T12:40:54.834Z"
   },
   {
    "duration": 61,
    "start_time": "2022-11-14T12:40:54.912Z"
   },
   {
    "duration": 73,
    "start_time": "2022-11-14T12:40:54.976Z"
   },
   {
    "duration": 41,
    "start_time": "2022-11-14T12:40:55.051Z"
   },
   {
    "duration": 511,
    "start_time": "2022-11-14T12:40:55.106Z"
   },
   {
    "duration": 530,
    "start_time": "2022-11-14T12:40:55.620Z"
   },
   {
    "duration": 124,
    "start_time": "2022-11-14T12:40:56.153Z"
   },
   {
    "duration": 27,
    "start_time": "2022-11-14T12:40:56.278Z"
   },
   {
    "duration": 47,
    "start_time": "2022-11-14T12:40:56.308Z"
   },
   {
    "duration": 25,
    "start_time": "2022-11-14T12:40:56.357Z"
   },
   {
    "duration": 50,
    "start_time": "2022-11-14T12:40:56.384Z"
   },
   {
    "duration": 85,
    "start_time": "2022-11-14T12:40:56.437Z"
   },
   {
    "duration": 22,
    "start_time": "2022-11-14T12:40:56.525Z"
   },
   {
    "duration": 12907,
    "start_time": "2022-11-14T12:40:56.549Z"
   },
   {
    "duration": 18,
    "start_time": "2022-11-14T12:41:09.458Z"
   },
   {
    "duration": 50,
    "start_time": "2022-11-14T12:41:09.478Z"
   },
   {
    "duration": 130,
    "start_time": "2022-11-14T12:41:09.530Z"
   },
   {
    "duration": 758,
    "start_time": "2022-11-14T12:41:11.708Z"
   },
   {
    "duration": 1099,
    "start_time": "2022-11-14T12:41:12.468Z"
   },
   {
    "duration": 7,
    "start_time": "2022-11-14T12:41:13.570Z"
   },
   {
    "duration": 228,
    "start_time": "2022-11-14T12:41:13.578Z"
   },
   {
    "duration": 6,
    "start_time": "2022-11-14T12:41:13.809Z"
   },
   {
    "duration": 439,
    "start_time": "2022-11-14T12:41:13.817Z"
   },
   {
    "duration": 140,
    "start_time": "2022-11-14T12:41:14.258Z"
   },
   {
    "duration": 91,
    "start_time": "2022-11-14T12:41:14.404Z"
   },
   {
    "duration": 781,
    "start_time": "2022-11-14T12:41:14.505Z"
   },
   {
    "duration": 189,
    "start_time": "2022-11-14T12:41:15.288Z"
   },
   {
    "duration": 51,
    "start_time": "2022-11-14T12:41:15.479Z"
   },
   {
    "duration": 40,
    "start_time": "2022-11-14T12:41:15.531Z"
   },
   {
    "duration": 74,
    "start_time": "2022-11-14T12:41:15.573Z"
   },
   {
    "duration": 44,
    "start_time": "2022-11-14T12:41:15.650Z"
   },
   {
    "duration": 547,
    "start_time": "2022-11-14T12:41:15.696Z"
   },
   {
    "duration": 502,
    "start_time": "2022-11-14T12:41:16.245Z"
   },
   {
    "duration": 105,
    "start_time": "2022-11-14T12:41:16.749Z"
   },
   {
    "duration": 14,
    "start_time": "2022-11-14T12:41:16.856Z"
   },
   {
    "duration": 71,
    "start_time": "2022-11-14T12:41:16.871Z"
   },
   {
    "duration": 25,
    "start_time": "2022-11-14T12:41:16.943Z"
   },
   {
    "duration": 35,
    "start_time": "2022-11-14T12:41:16.970Z"
   },
   {
    "duration": 77,
    "start_time": "2022-11-14T12:41:17.008Z"
   },
   {
    "duration": 22,
    "start_time": "2022-11-14T12:41:17.087Z"
   },
   {
    "duration": 12726,
    "start_time": "2022-11-14T12:41:17.111Z"
   },
   {
    "duration": 21,
    "start_time": "2022-11-14T12:41:29.840Z"
   },
   {
    "duration": 64,
    "start_time": "2022-11-14T12:41:29.862Z"
   },
   {
    "duration": 146,
    "start_time": "2022-11-14T12:41:29.928Z"
   },
   {
    "duration": 658,
    "start_time": "2022-11-14T12:42:18.735Z"
   },
   {
    "duration": 932,
    "start_time": "2022-11-14T12:42:19.394Z"
   },
   {
    "duration": 5,
    "start_time": "2022-11-14T12:42:20.328Z"
   },
   {
    "duration": 178,
    "start_time": "2022-11-14T12:42:20.335Z"
   },
   {
    "duration": 4,
    "start_time": "2022-11-14T12:42:20.514Z"
   },
   {
    "duration": 384,
    "start_time": "2022-11-14T12:42:20.520Z"
   },
   {
    "duration": 71,
    "start_time": "2022-11-14T12:42:20.906Z"
   },
   {
    "duration": 86,
    "start_time": "2022-11-14T12:42:20.978Z"
   },
   {
    "duration": 626,
    "start_time": "2022-11-14T12:42:21.066Z"
   },
   {
    "duration": 164,
    "start_time": "2022-11-14T12:42:21.695Z"
   },
   {
    "duration": 46,
    "start_time": "2022-11-14T12:42:21.860Z"
   },
   {
    "duration": 44,
    "start_time": "2022-11-14T12:42:21.908Z"
   },
   {
    "duration": 77,
    "start_time": "2022-11-14T12:42:21.954Z"
   },
   {
    "duration": 55,
    "start_time": "2022-11-14T12:42:22.033Z"
   },
   {
    "duration": 486,
    "start_time": "2022-11-14T12:42:22.089Z"
   },
   {
    "duration": 449,
    "start_time": "2022-11-14T12:42:22.577Z"
   },
   {
    "duration": 94,
    "start_time": "2022-11-14T12:42:23.028Z"
   },
   {
    "duration": 12,
    "start_time": "2022-11-14T12:42:23.123Z"
   },
   {
    "duration": 54,
    "start_time": "2022-11-14T12:42:23.138Z"
   },
   {
    "duration": 31,
    "start_time": "2022-11-14T12:42:23.205Z"
   },
   {
    "duration": 26,
    "start_time": "2022-11-14T12:42:23.238Z"
   },
   {
    "duration": 66,
    "start_time": "2022-11-14T12:42:23.266Z"
   },
   {
    "duration": 22,
    "start_time": "2022-11-14T12:42:23.333Z"
   },
   {
    "duration": 10471,
    "start_time": "2022-11-14T12:42:23.357Z"
   },
   {
    "duration": 18,
    "start_time": "2022-11-14T12:42:33.830Z"
   },
   {
    "duration": 29,
    "start_time": "2022-11-14T12:42:33.849Z"
   },
   {
    "duration": 103,
    "start_time": "2022-11-14T12:42:33.880Z"
   },
   {
    "duration": 567,
    "start_time": "2022-11-14T12:44:09.449Z"
   },
   {
    "duration": 933,
    "start_time": "2022-11-14T12:44:10.018Z"
   },
   {
    "duration": 6,
    "start_time": "2022-11-14T12:44:10.952Z"
   },
   {
    "duration": 175,
    "start_time": "2022-11-14T12:44:10.960Z"
   },
   {
    "duration": 3,
    "start_time": "2022-11-14T12:44:11.136Z"
   },
   {
    "duration": 381,
    "start_time": "2022-11-14T12:44:11.141Z"
   },
   {
    "duration": 69,
    "start_time": "2022-11-14T12:44:11.523Z"
   },
   {
    "duration": 82,
    "start_time": "2022-11-14T12:44:11.594Z"
   },
   {
    "duration": 642,
    "start_time": "2022-11-14T12:44:11.677Z"
   },
   {
    "duration": 155,
    "start_time": "2022-11-14T12:44:12.322Z"
   },
   {
    "duration": 40,
    "start_time": "2022-11-14T12:44:12.479Z"
   },
   {
    "duration": 36,
    "start_time": "2022-11-14T12:44:12.520Z"
   },
   {
    "duration": 53,
    "start_time": "2022-11-14T12:44:12.558Z"
   },
   {
    "duration": 38,
    "start_time": "2022-11-14T12:44:12.613Z"
   },
   {
    "duration": 425,
    "start_time": "2022-11-14T12:44:12.653Z"
   },
   {
    "duration": 429,
    "start_time": "2022-11-14T12:44:13.080Z"
   },
   {
    "duration": 84,
    "start_time": "2022-11-14T12:44:13.510Z"
   },
   {
    "duration": 12,
    "start_time": "2022-11-14T12:44:13.604Z"
   },
   {
    "duration": 38,
    "start_time": "2022-11-14T12:44:13.618Z"
   },
   {
    "duration": 24,
    "start_time": "2022-11-14T12:44:13.658Z"
   },
   {
    "duration": 34,
    "start_time": "2022-11-14T12:44:13.684Z"
   },
   {
    "duration": 56,
    "start_time": "2022-11-14T12:44:13.720Z"
   },
   {
    "duration": 30,
    "start_time": "2022-11-14T12:44:13.778Z"
   },
   {
    "duration": 10265,
    "start_time": "2022-11-14T12:44:13.810Z"
   },
   {
    "duration": 18,
    "start_time": "2022-11-14T12:44:24.077Z"
   },
   {
    "duration": 32,
    "start_time": "2022-11-14T12:44:24.105Z"
   },
   {
    "duration": 7522,
    "start_time": "2022-11-14T12:44:24.138Z"
   },
   {
    "duration": 584,
    "start_time": "2022-11-14T12:45:47.347Z"
   },
   {
    "duration": 907,
    "start_time": "2022-11-14T12:45:47.933Z"
   },
   {
    "duration": 5,
    "start_time": "2022-11-14T12:45:48.841Z"
   },
   {
    "duration": 174,
    "start_time": "2022-11-14T12:45:48.848Z"
   },
   {
    "duration": 3,
    "start_time": "2022-11-14T12:45:49.024Z"
   },
   {
    "duration": 394,
    "start_time": "2022-11-14T12:45:49.028Z"
   },
   {
    "duration": 68,
    "start_time": "2022-11-14T12:45:49.424Z"
   },
   {
    "duration": 70,
    "start_time": "2022-11-14T12:45:49.504Z"
   },
   {
    "duration": 619,
    "start_time": "2022-11-14T12:45:49.576Z"
   },
   {
    "duration": 144,
    "start_time": "2022-11-14T12:45:50.204Z"
   },
   {
    "duration": 35,
    "start_time": "2022-11-14T12:45:50.350Z"
   },
   {
    "duration": 73,
    "start_time": "2022-11-14T12:45:50.387Z"
   },
   {
    "duration": 43,
    "start_time": "2022-11-14T12:45:50.462Z"
   },
   {
    "duration": 39,
    "start_time": "2022-11-14T12:45:50.506Z"
   },
   {
    "duration": 427,
    "start_time": "2022-11-14T12:45:50.546Z"
   },
   {
    "duration": 431,
    "start_time": "2022-11-14T12:45:50.974Z"
   },
   {
    "duration": 84,
    "start_time": "2022-11-14T12:45:51.407Z"
   },
   {
    "duration": 22,
    "start_time": "2022-11-14T12:45:51.492Z"
   },
   {
    "duration": 41,
    "start_time": "2022-11-14T12:45:51.516Z"
   },
   {
    "duration": 23,
    "start_time": "2022-11-14T12:45:51.559Z"
   },
   {
    "duration": 36,
    "start_time": "2022-11-14T12:45:51.583Z"
   },
   {
    "duration": 78,
    "start_time": "2022-11-14T12:45:51.620Z"
   },
   {
    "duration": 22,
    "start_time": "2022-11-14T12:45:51.700Z"
   },
   {
    "duration": 10122,
    "start_time": "2022-11-14T12:45:51.724Z"
   },
   {
    "duration": 17,
    "start_time": "2022-11-14T12:46:01.848Z"
   },
   {
    "duration": 73,
    "start_time": "2022-11-14T12:46:01.867Z"
   },
   {
    "duration": 7323,
    "start_time": "2022-11-14T12:46:01.942Z"
   },
   {
    "duration": 130,
    "start_time": "2022-11-14T12:47:30.716Z"
   },
   {
    "duration": 638,
    "start_time": "2022-11-14T12:47:43.093Z"
   },
   {
    "duration": 982,
    "start_time": "2022-11-14T12:47:43.734Z"
   },
   {
    "duration": 6,
    "start_time": "2022-11-14T12:47:44.718Z"
   },
   {
    "duration": 188,
    "start_time": "2022-11-14T12:47:44.726Z"
   },
   {
    "duration": 3,
    "start_time": "2022-11-14T12:47:44.916Z"
   },
   {
    "duration": 410,
    "start_time": "2022-11-14T12:47:44.921Z"
   },
   {
    "duration": 83,
    "start_time": "2022-11-14T12:47:45.333Z"
   },
   {
    "duration": 88,
    "start_time": "2022-11-14T12:47:45.417Z"
   },
   {
    "duration": 684,
    "start_time": "2022-11-14T12:47:45.507Z"
   },
   {
    "duration": 164,
    "start_time": "2022-11-14T12:47:46.195Z"
   },
   {
    "duration": 49,
    "start_time": "2022-11-14T12:47:46.361Z"
   },
   {
    "duration": 40,
    "start_time": "2022-11-14T12:47:46.411Z"
   },
   {
    "duration": 74,
    "start_time": "2022-11-14T12:47:46.452Z"
   },
   {
    "duration": 51,
    "start_time": "2022-11-14T12:47:46.528Z"
   },
   {
    "duration": 449,
    "start_time": "2022-11-14T12:47:46.581Z"
   },
   {
    "duration": 464,
    "start_time": "2022-11-14T12:47:47.031Z"
   },
   {
    "duration": 114,
    "start_time": "2022-11-14T12:47:47.497Z"
   },
   {
    "duration": 15,
    "start_time": "2022-11-14T12:47:47.613Z"
   },
   {
    "duration": 48,
    "start_time": "2022-11-14T12:47:47.629Z"
   },
   {
    "duration": 40,
    "start_time": "2022-11-14T12:47:47.679Z"
   },
   {
    "duration": 78,
    "start_time": "2022-11-14T12:47:47.721Z"
   },
   {
    "duration": 68,
    "start_time": "2022-11-14T12:47:47.801Z"
   },
   {
    "duration": 22,
    "start_time": "2022-11-14T12:47:47.871Z"
   },
   {
    "duration": 11129,
    "start_time": "2022-11-14T12:47:47.895Z"
   },
   {
    "duration": 20,
    "start_time": "2022-11-14T12:47:59.026Z"
   },
   {
    "duration": 35,
    "start_time": "2022-11-14T12:47:59.048Z"
   },
   {
    "duration": 150,
    "start_time": "2022-11-14T12:47:59.084Z"
   },
   {
    "duration": 615,
    "start_time": "2022-11-14T12:49:12.330Z"
   },
   {
    "duration": 949,
    "start_time": "2022-11-14T12:49:12.946Z"
   },
   {
    "duration": 10,
    "start_time": "2022-11-14T12:49:13.896Z"
   },
   {
    "duration": 173,
    "start_time": "2022-11-14T12:49:13.907Z"
   },
   {
    "duration": 4,
    "start_time": "2022-11-14T12:49:14.082Z"
   },
   {
    "duration": 385,
    "start_time": "2022-11-14T12:49:14.087Z"
   },
   {
    "duration": 80,
    "start_time": "2022-11-14T12:49:14.474Z"
   },
   {
    "duration": 80,
    "start_time": "2022-11-14T12:49:14.556Z"
   },
   {
    "duration": 637,
    "start_time": "2022-11-14T12:49:14.637Z"
   },
   {
    "duration": 164,
    "start_time": "2022-11-14T12:49:15.276Z"
   },
   {
    "duration": 37,
    "start_time": "2022-11-14T12:49:15.442Z"
   },
   {
    "duration": 55,
    "start_time": "2022-11-14T12:49:15.481Z"
   },
   {
    "duration": 37,
    "start_time": "2022-11-14T12:49:15.538Z"
   },
   {
    "duration": 58,
    "start_time": "2022-11-14T12:49:15.578Z"
   },
   {
    "duration": 457,
    "start_time": "2022-11-14T12:49:15.638Z"
   },
   {
    "duration": 433,
    "start_time": "2022-11-14T12:49:16.097Z"
   },
   {
    "duration": 95,
    "start_time": "2022-11-14T12:49:16.532Z"
   },
   {
    "duration": 12,
    "start_time": "2022-11-14T12:49:16.628Z"
   },
   {
    "duration": 38,
    "start_time": "2022-11-14T12:49:16.642Z"
   },
   {
    "duration": 39,
    "start_time": "2022-11-14T12:49:16.681Z"
   },
   {
    "duration": 19,
    "start_time": "2022-11-14T12:49:16.722Z"
   },
   {
    "duration": 67,
    "start_time": "2022-11-14T12:49:16.742Z"
   },
   {
    "duration": 20,
    "start_time": "2022-11-14T12:49:16.811Z"
   },
   {
    "duration": 10410,
    "start_time": "2022-11-14T12:49:16.832Z"
   },
   {
    "duration": 17,
    "start_time": "2022-11-14T12:49:27.243Z"
   },
   {
    "duration": 28,
    "start_time": "2022-11-14T12:49:27.262Z"
   },
   {
    "duration": 6240,
    "start_time": "2022-11-14T12:49:27.304Z"
   },
   {
    "duration": 613,
    "start_time": "2022-11-14T12:51:11.545Z"
   },
   {
    "duration": 958,
    "start_time": "2022-11-14T12:51:12.160Z"
   },
   {
    "duration": 5,
    "start_time": "2022-11-14T12:51:13.119Z"
   },
   {
    "duration": 173,
    "start_time": "2022-11-14T12:51:13.126Z"
   },
   {
    "duration": 5,
    "start_time": "2022-11-14T12:51:13.300Z"
   },
   {
    "duration": 377,
    "start_time": "2022-11-14T12:51:13.306Z"
   },
   {
    "duration": 104,
    "start_time": "2022-11-14T12:51:13.685Z"
   },
   {
    "duration": 86,
    "start_time": "2022-11-14T12:51:13.790Z"
   },
   {
    "duration": 650,
    "start_time": "2022-11-14T12:51:13.878Z"
   },
   {
    "duration": 146,
    "start_time": "2022-11-14T12:51:14.530Z"
   },
   {
    "duration": 38,
    "start_time": "2022-11-14T12:51:14.677Z"
   },
   {
    "duration": 35,
    "start_time": "2022-11-14T12:51:14.717Z"
   },
   {
    "duration": 57,
    "start_time": "2022-11-14T12:51:14.753Z"
   },
   {
    "duration": 35,
    "start_time": "2022-11-14T12:51:14.811Z"
   },
   {
    "duration": 451,
    "start_time": "2022-11-14T12:51:14.848Z"
   },
   {
    "duration": 420,
    "start_time": "2022-11-14T12:51:15.304Z"
   },
   {
    "duration": 91,
    "start_time": "2022-11-14T12:51:15.725Z"
   },
   {
    "duration": 12,
    "start_time": "2022-11-14T12:51:15.818Z"
   },
   {
    "duration": 38,
    "start_time": "2022-11-14T12:51:15.832Z"
   },
   {
    "duration": 48,
    "start_time": "2022-11-14T12:51:15.871Z"
   },
   {
    "duration": 18,
    "start_time": "2022-11-14T12:51:15.921Z"
   },
   {
    "duration": 57,
    "start_time": "2022-11-14T12:51:15.940Z"
   },
   {
    "duration": 21,
    "start_time": "2022-11-14T12:51:16.005Z"
   },
   {
    "duration": 10406,
    "start_time": "2022-11-14T12:51:16.027Z"
   },
   {
    "duration": 19,
    "start_time": "2022-11-14T12:51:26.435Z"
   },
   {
    "duration": 31,
    "start_time": "2022-11-14T12:51:26.456Z"
   },
   {
    "duration": 6028,
    "start_time": "2022-11-14T12:51:26.489Z"
   },
   {
    "duration": 676,
    "start_time": "2022-11-14T12:52:20.714Z"
   },
   {
    "duration": 987,
    "start_time": "2022-11-14T12:52:21.392Z"
   },
   {
    "duration": 5,
    "start_time": "2022-11-14T12:52:22.381Z"
   },
   {
    "duration": 187,
    "start_time": "2022-11-14T12:52:22.404Z"
   },
   {
    "duration": 4,
    "start_time": "2022-11-14T12:52:22.592Z"
   },
   {
    "duration": 498,
    "start_time": "2022-11-14T12:52:22.598Z"
   },
   {
    "duration": 87,
    "start_time": "2022-11-14T12:52:23.098Z"
   },
   {
    "duration": 125,
    "start_time": "2022-11-14T12:52:23.188Z"
   },
   {
    "duration": 732,
    "start_time": "2022-11-14T12:52:23.315Z"
   },
   {
    "duration": 216,
    "start_time": "2022-11-14T12:52:24.050Z"
   },
   {
    "duration": 66,
    "start_time": "2022-11-14T12:52:24.268Z"
   },
   {
    "duration": 47,
    "start_time": "2022-11-14T12:52:24.336Z"
   },
   {
    "duration": 64,
    "start_time": "2022-11-14T12:52:24.385Z"
   },
   {
    "duration": 44,
    "start_time": "2022-11-14T12:52:24.452Z"
   },
   {
    "duration": 523,
    "start_time": "2022-11-14T12:52:24.498Z"
   },
   {
    "duration": 483,
    "start_time": "2022-11-14T12:52:25.025Z"
   },
   {
    "duration": 85,
    "start_time": "2022-11-14T12:52:25.510Z"
   },
   {
    "duration": 18,
    "start_time": "2022-11-14T12:52:25.597Z"
   },
   {
    "duration": 42,
    "start_time": "2022-11-14T12:52:25.618Z"
   },
   {
    "duration": 43,
    "start_time": "2022-11-14T12:52:25.662Z"
   },
   {
    "duration": 22,
    "start_time": "2022-11-14T12:52:25.708Z"
   },
   {
    "duration": 83,
    "start_time": "2022-11-14T12:52:25.733Z"
   },
   {
    "duration": 33,
    "start_time": "2022-11-14T12:52:25.818Z"
   },
   {
    "duration": 10373,
    "start_time": "2022-11-14T12:52:25.853Z"
   },
   {
    "duration": 20,
    "start_time": "2022-11-14T12:52:36.227Z"
   },
   {
    "duration": 28,
    "start_time": "2022-11-14T12:52:36.248Z"
   },
   {
    "duration": 6107,
    "start_time": "2022-11-14T12:52:36.278Z"
   },
   {
    "duration": 623,
    "start_time": "2022-11-14T12:56:58.633Z"
   },
   {
    "duration": 1007,
    "start_time": "2022-11-14T12:56:59.257Z"
   },
   {
    "duration": 5,
    "start_time": "2022-11-14T12:57:00.266Z"
   },
   {
    "duration": 207,
    "start_time": "2022-11-14T12:57:00.273Z"
   },
   {
    "duration": 4,
    "start_time": "2022-11-14T12:57:00.481Z"
   },
   {
    "duration": 425,
    "start_time": "2022-11-14T12:57:00.486Z"
   },
   {
    "duration": 78,
    "start_time": "2022-11-14T12:57:00.912Z"
   },
   {
    "duration": 79,
    "start_time": "2022-11-14T12:57:01.004Z"
   },
   {
    "duration": 689,
    "start_time": "2022-11-14T12:57:01.085Z"
   },
   {
    "duration": 153,
    "start_time": "2022-11-14T12:57:01.776Z"
   },
   {
    "duration": 36,
    "start_time": "2022-11-14T12:57:01.930Z"
   },
   {
    "duration": 72,
    "start_time": "2022-11-14T12:57:01.968Z"
   },
   {
    "duration": 112,
    "start_time": "2022-11-14T12:57:02.041Z"
   },
   {
    "duration": 52,
    "start_time": "2022-11-14T12:57:02.155Z"
   },
   {
    "duration": 456,
    "start_time": "2022-11-14T12:57:02.208Z"
   },
   {
    "duration": 415,
    "start_time": "2022-11-14T12:57:02.665Z"
   },
   {
    "duration": 97,
    "start_time": "2022-11-14T12:57:03.081Z"
   },
   {
    "duration": 12,
    "start_time": "2022-11-14T12:57:03.179Z"
   },
   {
    "duration": 57,
    "start_time": "2022-11-14T12:57:03.205Z"
   },
   {
    "duration": 18,
    "start_time": "2022-11-14T12:57:03.264Z"
   },
   {
    "duration": 101,
    "start_time": "2022-11-14T12:57:03.284Z"
   },
   {
    "duration": 20,
    "start_time": "2022-11-14T12:57:03.387Z"
   },
   {
    "duration": 10800,
    "start_time": "2022-11-14T12:57:03.409Z"
   },
   {
    "duration": 20,
    "start_time": "2022-11-14T12:57:14.211Z"
   },
   {
    "duration": 41,
    "start_time": "2022-11-14T12:57:14.233Z"
   },
   {
    "duration": 6605,
    "start_time": "2022-11-14T12:57:14.275Z"
   },
   {
    "duration": 39,
    "start_time": "2022-11-14T12:57:20.882Z"
   },
   {
    "duration": 78,
    "start_time": "2022-11-14T12:57:44.809Z"
   },
   {
    "duration": 87,
    "start_time": "2022-11-14T13:01:06.643Z"
   },
   {
    "duration": 74,
    "start_time": "2022-11-14T13:01:11.779Z"
   },
   {
    "duration": 4,
    "start_time": "2022-11-14T13:01:49.292Z"
   },
   {
    "duration": 806,
    "start_time": "2022-11-14T13:15:30.978Z"
   },
   {
    "duration": 3,
    "start_time": "2022-11-14T13:28:15.306Z"
   },
   {
    "duration": 4,
    "start_time": "2022-11-14T13:28:26.257Z"
   },
   {
    "duration": 5,
    "start_time": "2022-11-14T13:30:50.766Z"
   },
   {
    "duration": 18,
    "start_time": "2022-11-14T13:33:37.022Z"
   },
   {
    "duration": 980,
    "start_time": "2022-11-14T13:34:59.489Z"
   },
   {
    "duration": 1327,
    "start_time": "2022-11-14T13:35:33.606Z"
   },
   {
    "duration": 931,
    "start_time": "2022-11-14T13:35:34.936Z"
   },
   {
    "duration": 6,
    "start_time": "2022-11-14T13:35:35.869Z"
   },
   {
    "duration": 169,
    "start_time": "2022-11-14T13:35:35.877Z"
   },
   {
    "duration": 4,
    "start_time": "2022-11-14T13:35:36.049Z"
   },
   {
    "duration": 421,
    "start_time": "2022-11-14T13:35:36.054Z"
   },
   {
    "duration": 83,
    "start_time": "2022-11-14T13:35:36.476Z"
   },
   {
    "duration": 80,
    "start_time": "2022-11-14T13:35:36.561Z"
   },
   {
    "duration": 583,
    "start_time": "2022-11-14T13:35:36.643Z"
   },
   {
    "duration": 258,
    "start_time": "2022-11-14T13:35:37.228Z"
   },
   {
    "duration": 52,
    "start_time": "2022-11-14T13:35:37.488Z"
   },
   {
    "duration": 65,
    "start_time": "2022-11-14T13:35:37.542Z"
   },
   {
    "duration": 49,
    "start_time": "2022-11-14T13:35:37.609Z"
   },
   {
    "duration": 65,
    "start_time": "2022-11-14T13:35:37.662Z"
   },
   {
    "duration": 418,
    "start_time": "2022-11-14T13:35:37.729Z"
   },
   {
    "duration": 442,
    "start_time": "2022-11-14T13:35:38.149Z"
   },
   {
    "duration": 91,
    "start_time": "2022-11-14T13:35:38.593Z"
   },
   {
    "duration": 25,
    "start_time": "2022-11-14T13:35:38.685Z"
   },
   {
    "duration": 45,
    "start_time": "2022-11-14T13:35:38.711Z"
   },
   {
    "duration": 20,
    "start_time": "2022-11-14T13:35:38.757Z"
   },
   {
    "duration": 74,
    "start_time": "2022-11-14T13:35:38.778Z"
   },
   {
    "duration": 22,
    "start_time": "2022-11-14T13:35:38.853Z"
   },
   {
    "duration": 10096,
    "start_time": "2022-11-14T13:35:38.877Z"
   },
   {
    "duration": 18,
    "start_time": "2022-11-14T13:35:48.975Z"
   },
   {
    "duration": 33,
    "start_time": "2022-11-14T13:35:49.005Z"
   },
   {
    "duration": 6047,
    "start_time": "2022-11-14T13:35:49.040Z"
   },
   {
    "duration": 36,
    "start_time": "2022-11-14T13:35:55.089Z"
   },
   {
    "duration": 4,
    "start_time": "2022-11-14T13:35:55.126Z"
   },
   {
    "duration": 1002,
    "start_time": "2022-11-14T13:35:55.131Z"
   },
   {
    "duration": 1261,
    "start_time": "2022-11-14T13:36:24.840Z"
   },
   {
    "duration": 935,
    "start_time": "2022-11-14T13:36:26.103Z"
   },
   {
    "duration": 5,
    "start_time": "2022-11-14T13:36:27.040Z"
   },
   {
    "duration": 173,
    "start_time": "2022-11-14T13:36:27.047Z"
   },
   {
    "duration": 3,
    "start_time": "2022-11-14T13:36:27.223Z"
   },
   {
    "duration": 440,
    "start_time": "2022-11-14T13:36:27.227Z"
   },
   {
    "duration": 76,
    "start_time": "2022-11-14T13:36:27.669Z"
   },
   {
    "duration": 81,
    "start_time": "2022-11-14T13:36:27.747Z"
   },
   {
    "duration": 658,
    "start_time": "2022-11-14T13:36:27.830Z"
   },
   {
    "duration": 227,
    "start_time": "2022-11-14T13:36:28.490Z"
   },
   {
    "duration": 36,
    "start_time": "2022-11-14T13:36:28.718Z"
   },
   {
    "duration": 59,
    "start_time": "2022-11-14T13:36:28.755Z"
   },
   {
    "duration": 52,
    "start_time": "2022-11-14T13:36:28.816Z"
   },
   {
    "duration": 54,
    "start_time": "2022-11-14T13:36:28.872Z"
   },
   {
    "duration": 427,
    "start_time": "2022-11-14T13:36:28.927Z"
   },
   {
    "duration": 433,
    "start_time": "2022-11-14T13:36:29.356Z"
   },
   {
    "duration": 100,
    "start_time": "2022-11-14T13:36:29.791Z"
   },
   {
    "duration": 18,
    "start_time": "2022-11-14T13:36:29.893Z"
   },
   {
    "duration": 49,
    "start_time": "2022-11-14T13:36:29.913Z"
   },
   {
    "duration": 45,
    "start_time": "2022-11-14T13:36:29.964Z"
   },
   {
    "duration": 60,
    "start_time": "2022-11-14T13:36:30.010Z"
   },
   {
    "duration": 35,
    "start_time": "2022-11-14T13:36:30.072Z"
   },
   {
    "duration": 10186,
    "start_time": "2022-11-14T13:36:30.109Z"
   },
   {
    "duration": 21,
    "start_time": "2022-11-14T13:36:40.297Z"
   },
   {
    "duration": 30,
    "start_time": "2022-11-14T13:36:40.319Z"
   },
   {
    "duration": 5972,
    "start_time": "2022-11-14T13:36:40.351Z"
   },
   {
    "duration": 31,
    "start_time": "2022-11-14T13:36:46.325Z"
   },
   {
    "duration": 4,
    "start_time": "2022-11-14T13:36:46.357Z"
   },
   {
    "duration": 933,
    "start_time": "2022-11-14T13:36:46.362Z"
   },
   {
    "duration": 1379,
    "start_time": "2022-11-14T13:37:47.143Z"
   },
   {
    "duration": 980,
    "start_time": "2022-11-14T13:37:48.524Z"
   },
   {
    "duration": 5,
    "start_time": "2022-11-14T13:37:49.506Z"
   },
   {
    "duration": 169,
    "start_time": "2022-11-14T13:37:49.512Z"
   },
   {
    "duration": 3,
    "start_time": "2022-11-14T13:37:49.683Z"
   },
   {
    "duration": 393,
    "start_time": "2022-11-14T13:37:49.688Z"
   },
   {
    "duration": 88,
    "start_time": "2022-11-14T13:37:50.082Z"
   },
   {
    "duration": 74,
    "start_time": "2022-11-14T13:37:50.172Z"
   },
   {
    "duration": 569,
    "start_time": "2022-11-14T13:37:50.248Z"
   },
   {
    "duration": 232,
    "start_time": "2022-11-14T13:37:50.819Z"
   },
   {
    "duration": 37,
    "start_time": "2022-11-14T13:37:51.052Z"
   },
   {
    "duration": 49,
    "start_time": "2022-11-14T13:37:51.090Z"
   },
   {
    "duration": 37,
    "start_time": "2022-11-14T13:37:51.141Z"
   },
   {
    "duration": 56,
    "start_time": "2022-11-14T13:37:51.181Z"
   },
   {
    "duration": 434,
    "start_time": "2022-11-14T13:37:51.238Z"
   },
   {
    "duration": 416,
    "start_time": "2022-11-14T13:37:51.674Z"
   },
   {
    "duration": 100,
    "start_time": "2022-11-14T13:37:52.091Z"
   },
   {
    "duration": 13,
    "start_time": "2022-11-14T13:37:52.204Z"
   },
   {
    "duration": 44,
    "start_time": "2022-11-14T13:37:52.218Z"
   },
   {
    "duration": 19,
    "start_time": "2022-11-14T13:37:52.263Z"
   },
   {
    "duration": 73,
    "start_time": "2022-11-14T13:37:52.284Z"
   },
   {
    "duration": 20,
    "start_time": "2022-11-14T13:37:52.358Z"
   },
   {
    "duration": 10357,
    "start_time": "2022-11-14T13:37:52.380Z"
   },
   {
    "duration": 17,
    "start_time": "2022-11-14T13:38:02.739Z"
   },
   {
    "duration": 43,
    "start_time": "2022-11-14T13:38:02.757Z"
   },
   {
    "duration": 6236,
    "start_time": "2022-11-14T13:38:02.802Z"
   },
   {
    "duration": 29,
    "start_time": "2022-11-14T13:38:09.040Z"
   },
   {
    "duration": 3,
    "start_time": "2022-11-14T13:38:09.070Z"
   },
   {
    "duration": 922,
    "start_time": "2022-11-14T13:38:09.074Z"
   },
   {
    "duration": 1408,
    "start_time": "2022-11-14T13:47:02.439Z"
   },
   {
    "duration": 1078,
    "start_time": "2022-11-14T13:47:03.849Z"
   },
   {
    "duration": 12,
    "start_time": "2022-11-14T13:47:04.928Z"
   },
   {
    "duration": 201,
    "start_time": "2022-11-14T13:47:04.944Z"
   },
   {
    "duration": 4,
    "start_time": "2022-11-14T13:47:05.148Z"
   },
   {
    "duration": 450,
    "start_time": "2022-11-14T13:47:05.154Z"
   },
   {
    "duration": 84,
    "start_time": "2022-11-14T13:47:05.606Z"
   },
   {
    "duration": 116,
    "start_time": "2022-11-14T13:47:05.691Z"
   },
   {
    "duration": 756,
    "start_time": "2022-11-14T13:47:05.809Z"
   },
   {
    "duration": 302,
    "start_time": "2022-11-14T13:47:06.567Z"
   },
   {
    "duration": 76,
    "start_time": "2022-11-14T13:47:06.871Z"
   },
   {
    "duration": 61,
    "start_time": "2022-11-14T13:47:06.949Z"
   },
   {
    "duration": 65,
    "start_time": "2022-11-14T13:47:07.012Z"
   },
   {
    "duration": 58,
    "start_time": "2022-11-14T13:47:07.081Z"
   },
   {
    "duration": 540,
    "start_time": "2022-11-14T13:47:07.142Z"
   },
   {
    "duration": 492,
    "start_time": "2022-11-14T13:47:07.685Z"
   },
   {
    "duration": 110,
    "start_time": "2022-11-14T13:47:08.179Z"
   },
   {
    "duration": 21,
    "start_time": "2022-11-14T13:47:08.291Z"
   },
   {
    "duration": 60,
    "start_time": "2022-11-14T13:47:08.314Z"
   },
   {
    "duration": 29,
    "start_time": "2022-11-14T13:47:08.377Z"
   },
   {
    "duration": 92,
    "start_time": "2022-11-14T13:47:08.408Z"
   },
   {
    "duration": 21,
    "start_time": "2022-11-14T13:47:08.502Z"
   },
   {
    "duration": 11458,
    "start_time": "2022-11-14T13:47:08.525Z"
   },
   {
    "duration": 26,
    "start_time": "2022-11-14T13:47:19.985Z"
   },
   {
    "duration": 37,
    "start_time": "2022-11-14T13:47:20.013Z"
   },
   {
    "duration": 6947,
    "start_time": "2022-11-14T13:47:20.051Z"
   },
   {
    "duration": 4,
    "start_time": "2022-11-14T13:47:27.000Z"
   },
   {
    "duration": 46,
    "start_time": "2022-11-14T13:47:27.006Z"
   },
   {
    "duration": 1168,
    "start_time": "2022-11-14T13:47:27.053Z"
   },
   {
    "duration": 174,
    "start_time": "2022-11-14T13:52:24.996Z"
   },
   {
    "duration": 11,
    "start_time": "2022-11-14T13:52:41.101Z"
   },
   {
    "duration": 18,
    "start_time": "2022-11-14T13:52:50.949Z"
   },
   {
    "duration": 4,
    "start_time": "2022-11-14T13:53:13.221Z"
   },
   {
    "duration": 1501,
    "start_time": "2022-11-14T13:53:19.299Z"
   },
   {
    "duration": 1089,
    "start_time": "2022-11-14T13:53:20.802Z"
   },
   {
    "duration": 14,
    "start_time": "2022-11-14T13:53:21.892Z"
   },
   {
    "duration": 196,
    "start_time": "2022-11-14T13:53:21.909Z"
   },
   {
    "duration": 3,
    "start_time": "2022-11-14T13:53:22.107Z"
   },
   {
    "duration": 439,
    "start_time": "2022-11-14T13:53:22.111Z"
   },
   {
    "duration": 93,
    "start_time": "2022-11-14T13:53:22.552Z"
   },
   {
    "duration": 113,
    "start_time": "2022-11-14T13:53:22.647Z"
   },
   {
    "duration": 749,
    "start_time": "2022-11-14T13:53:22.762Z"
   },
   {
    "duration": 185,
    "start_time": "2022-11-14T13:53:23.513Z"
   },
   {
    "duration": 40,
    "start_time": "2022-11-14T13:53:23.700Z"
   },
   {
    "duration": 45,
    "start_time": "2022-11-14T13:53:23.742Z"
   },
   {
    "duration": 39,
    "start_time": "2022-11-14T13:53:23.805Z"
   },
   {
    "duration": 61,
    "start_time": "2022-11-14T13:53:23.845Z"
   },
   {
    "duration": 499,
    "start_time": "2022-11-14T13:53:23.908Z"
   },
   {
    "duration": 485,
    "start_time": "2022-11-14T13:53:24.410Z"
   },
   {
    "duration": 113,
    "start_time": "2022-11-14T13:53:24.897Z"
   },
   {
    "duration": 16,
    "start_time": "2022-11-14T13:53:25.012Z"
   },
   {
    "duration": 56,
    "start_time": "2022-11-14T13:53:25.030Z"
   },
   {
    "duration": 22,
    "start_time": "2022-11-14T13:53:25.106Z"
   },
   {
    "duration": 78,
    "start_time": "2022-11-14T13:53:25.130Z"
   },
   {
    "duration": 22,
    "start_time": "2022-11-14T13:53:25.210Z"
   },
   {
    "duration": 11517,
    "start_time": "2022-11-14T13:53:25.234Z"
   },
   {
    "duration": 19,
    "start_time": "2022-11-14T13:53:36.753Z"
   },
   {
    "duration": 70,
    "start_time": "2022-11-14T13:53:36.774Z"
   },
   {
    "duration": 6851,
    "start_time": "2022-11-14T13:53:36.846Z"
   },
   {
    "duration": 7,
    "start_time": "2022-11-14T13:53:43.698Z"
   },
   {
    "duration": 33,
    "start_time": "2022-11-14T13:53:43.708Z"
   },
   {
    "duration": 1070,
    "start_time": "2022-11-14T13:53:43.743Z"
   },
   {
    "duration": 3,
    "start_time": "2022-11-14T14:17:49.408Z"
   },
   {
    "duration": 53,
    "start_time": "2022-11-14T14:20:34.340Z"
   },
   {
    "duration": 3,
    "start_time": "2022-11-14T14:28:44.013Z"
   },
   {
    "duration": 3,
    "start_time": "2022-11-14T14:32:10.034Z"
   },
   {
    "duration": 2,
    "start_time": "2022-11-14T14:32:26.224Z"
   },
   {
    "duration": 113,
    "start_time": "2022-11-14T14:34:33.458Z"
   },
   {
    "duration": 113332,
    "start_time": "2022-11-14T14:34:44.395Z"
   },
   {
    "duration": 118889,
    "start_time": "2022-11-14T14:40:34.720Z"
   },
   {
    "duration": 119243,
    "start_time": "2022-11-14T14:47:28.120Z"
   },
   {
    "duration": 1337,
    "start_time": "2022-11-14T14:53:01.600Z"
   },
   {
    "duration": 924,
    "start_time": "2022-11-14T14:53:02.938Z"
   },
   {
    "duration": 6,
    "start_time": "2022-11-14T14:53:03.863Z"
   },
   {
    "duration": 213,
    "start_time": "2022-11-14T14:53:03.871Z"
   },
   {
    "duration": 3,
    "start_time": "2022-11-14T14:53:04.086Z"
   },
   {
    "duration": 434,
    "start_time": "2022-11-14T14:53:04.091Z"
   },
   {
    "duration": 86,
    "start_time": "2022-11-14T14:53:04.526Z"
   },
   {
    "duration": 92,
    "start_time": "2022-11-14T14:53:04.614Z"
   },
   {
    "duration": 668,
    "start_time": "2022-11-14T14:53:04.707Z"
   },
   {
    "duration": 146,
    "start_time": "2022-11-14T14:53:05.378Z"
   },
   {
    "duration": 34,
    "start_time": "2022-11-14T14:53:05.526Z"
   },
   {
    "duration": 49,
    "start_time": "2022-11-14T14:53:05.562Z"
   },
   {
    "duration": 39,
    "start_time": "2022-11-14T14:53:05.613Z"
   },
   {
    "duration": 37,
    "start_time": "2022-11-14T14:53:05.654Z"
   },
   {
    "duration": 415,
    "start_time": "2022-11-14T14:53:05.692Z"
   },
   {
    "duration": 432,
    "start_time": "2022-11-14T14:53:06.109Z"
   },
   {
    "duration": 93,
    "start_time": "2022-11-14T14:53:06.543Z"
   },
   {
    "duration": 12,
    "start_time": "2022-11-14T14:53:06.638Z"
   },
   {
    "duration": 55,
    "start_time": "2022-11-14T14:53:06.652Z"
   },
   {
    "duration": 18,
    "start_time": "2022-11-14T14:53:06.709Z"
   },
   {
    "duration": 57,
    "start_time": "2022-11-14T14:53:06.729Z"
   },
   {
    "duration": 33,
    "start_time": "2022-11-14T14:53:06.787Z"
   },
   {
    "duration": 10531,
    "start_time": "2022-11-14T14:53:06.822Z"
   },
   {
    "duration": 21,
    "start_time": "2022-11-14T14:53:17.356Z"
   },
   {
    "duration": 47,
    "start_time": "2022-11-14T14:53:17.380Z"
   },
   {
    "duration": 6283,
    "start_time": "2022-11-14T14:53:17.429Z"
   },
   {
    "duration": 4,
    "start_time": "2022-11-14T14:53:23.713Z"
   },
   {
    "duration": 73,
    "start_time": "2022-11-14T14:53:23.719Z"
   },
   {
    "duration": 938,
    "start_time": "2022-11-14T14:53:23.794Z"
   },
   {
    "duration": 57,
    "start_time": "2022-11-14T14:53:24.734Z"
   },
   {
    "duration": 4,
    "start_time": "2022-11-14T14:53:24.805Z"
   },
   {
    "duration": 110810,
    "start_time": "2022-11-14T14:53:24.811Z"
   },
   {
    "duration": 121,
    "start_time": "2022-11-14T15:02:21.463Z"
   },
   {
    "duration": 4,
    "start_time": "2022-11-14T15:02:49.624Z"
   },
   {
    "duration": 39228,
    "start_time": "2022-11-14T15:03:31.906Z"
   },
   {
    "duration": 31801,
    "start_time": "2022-11-14T17:05:57.360Z"
   },
   {
    "duration": 32628,
    "start_time": "2022-11-14T17:06:51.065Z"
   },
   {
    "duration": 11,
    "start_time": "2022-11-14T17:07:33.937Z"
   },
   {
    "duration": 4,
    "start_time": "2022-11-14T17:07:42.001Z"
   },
   {
    "duration": 42557,
    "start_time": "2022-11-14T17:08:41.906Z"
   },
   {
    "duration": 4,
    "start_time": "2022-11-14T17:09:55.796Z"
   },
   {
    "duration": 99914,
    "start_time": "2022-11-14T17:10:09.828Z"
   },
   {
    "duration": 4,
    "start_time": "2022-11-14T17:12:06.333Z"
   },
   {
    "duration": 298150,
    "start_time": "2022-11-14T17:13:02.063Z"
   },
   {
    "duration": 4,
    "start_time": "2022-11-14T17:18:11.754Z"
   },
   {
    "duration": 67161,
    "start_time": "2022-11-14T17:18:44.244Z"
   },
   {
    "duration": 3,
    "start_time": "2022-11-14T17:19:56.965Z"
   },
   {
    "duration": 91611,
    "start_time": "2022-11-14T17:20:09.869Z"
   },
   {
    "duration": 5,
    "start_time": "2022-11-14T17:21:44.110Z"
   },
   {
    "duration": 91031,
    "start_time": "2022-11-14T17:21:57.183Z"
   },
   {
    "duration": 3,
    "start_time": "2022-11-14T17:23:31.912Z"
   },
   {
    "duration": 1342,
    "start_time": "2022-11-14T17:24:12.538Z"
   },
   {
    "duration": 918,
    "start_time": "2022-11-14T17:24:13.881Z"
   },
   {
    "duration": 6,
    "start_time": "2022-11-14T17:24:14.804Z"
   },
   {
    "duration": 171,
    "start_time": "2022-11-14T17:24:14.812Z"
   },
   {
    "duration": 3,
    "start_time": "2022-11-14T17:24:14.985Z"
   },
   {
    "duration": 408,
    "start_time": "2022-11-14T17:24:14.989Z"
   },
   {
    "duration": 77,
    "start_time": "2022-11-14T17:24:15.399Z"
   },
   {
    "duration": 82,
    "start_time": "2022-11-14T17:24:15.477Z"
   },
   {
    "duration": 677,
    "start_time": "2022-11-14T17:24:15.560Z"
   },
   {
    "duration": 169,
    "start_time": "2022-11-14T17:24:16.239Z"
   },
   {
    "duration": 36,
    "start_time": "2022-11-14T17:24:16.409Z"
   },
   {
    "duration": 59,
    "start_time": "2022-11-14T17:24:16.447Z"
   },
   {
    "duration": 53,
    "start_time": "2022-11-14T17:24:16.508Z"
   },
   {
    "duration": 51,
    "start_time": "2022-11-14T17:24:16.562Z"
   },
   {
    "duration": 483,
    "start_time": "2022-11-14T17:24:16.615Z"
   },
   {
    "duration": 439,
    "start_time": "2022-11-14T17:24:17.104Z"
   },
   {
    "duration": 105,
    "start_time": "2022-11-14T17:24:17.545Z"
   },
   {
    "duration": 18,
    "start_time": "2022-11-14T17:24:17.652Z"
   },
   {
    "duration": 64,
    "start_time": "2022-11-14T17:24:17.674Z"
   },
   {
    "duration": 19,
    "start_time": "2022-11-14T17:24:17.740Z"
   },
   {
    "duration": 86,
    "start_time": "2022-11-14T17:24:17.761Z"
   },
   {
    "duration": 20,
    "start_time": "2022-11-14T17:24:17.849Z"
   },
   {
    "duration": 10733,
    "start_time": "2022-11-14T17:24:17.871Z"
   },
   {
    "duration": 19,
    "start_time": "2022-11-14T17:24:28.606Z"
   },
   {
    "duration": 33,
    "start_time": "2022-11-14T17:24:28.626Z"
   },
   {
    "duration": 6414,
    "start_time": "2022-11-14T17:24:28.661Z"
   },
   {
    "duration": 3,
    "start_time": "2022-11-14T17:24:35.077Z"
   },
   {
    "duration": 46,
    "start_time": "2022-11-14T17:24:35.083Z"
   },
   {
    "duration": 960,
    "start_time": "2022-11-14T17:24:35.131Z"
   },
   {
    "duration": 63,
    "start_time": "2022-11-14T17:24:36.093Z"
   },
   {
    "duration": 5,
    "start_time": "2022-11-14T17:24:36.158Z"
   },
   {
    "duration": 105,
    "start_time": "2022-11-14T17:24:36.165Z"
   },
   {
    "duration": 0,
    "start_time": "2022-11-14T17:24:36.271Z"
   },
   {
    "duration": 86249,
    "start_time": "2022-11-14T17:25:07.370Z"
   },
   {
    "duration": 3,
    "start_time": "2022-11-14T17:26:42.747Z"
   },
   {
    "duration": 51,
    "start_time": "2022-11-15T06:35:15.492Z"
   },
   {
    "duration": 1537,
    "start_time": "2022-11-15T06:35:21.879Z"
   },
   {
    "duration": 2908,
    "start_time": "2022-11-15T06:35:23.418Z"
   },
   {
    "duration": 5,
    "start_time": "2022-11-15T06:35:26.328Z"
   },
   {
    "duration": 167,
    "start_time": "2022-11-15T06:35:26.335Z"
   },
   {
    "duration": 4,
    "start_time": "2022-11-15T06:35:26.504Z"
   },
   {
    "duration": 406,
    "start_time": "2022-11-15T06:35:26.509Z"
   },
   {
    "duration": 65,
    "start_time": "2022-11-15T06:35:26.917Z"
   },
   {
    "duration": 81,
    "start_time": "2022-11-15T06:35:26.983Z"
   },
   {
    "duration": 668,
    "start_time": "2022-11-15T06:35:27.066Z"
   },
   {
    "duration": 160,
    "start_time": "2022-11-15T06:35:27.736Z"
   },
   {
    "duration": 39,
    "start_time": "2022-11-15T06:35:27.898Z"
   },
   {
    "duration": 33,
    "start_time": "2022-11-15T06:35:27.939Z"
   },
   {
    "duration": 53,
    "start_time": "2022-11-15T06:35:27.973Z"
   },
   {
    "duration": 34,
    "start_time": "2022-11-15T06:35:28.027Z"
   },
   {
    "duration": 444,
    "start_time": "2022-11-15T06:35:28.063Z"
   },
   {
    "duration": 440,
    "start_time": "2022-11-15T06:35:28.509Z"
   },
   {
    "duration": 102,
    "start_time": "2022-11-15T06:35:28.951Z"
   },
   {
    "duration": 14,
    "start_time": "2022-11-15T06:35:29.054Z"
   },
   {
    "duration": 60,
    "start_time": "2022-11-15T06:35:29.069Z"
   },
   {
    "duration": 18,
    "start_time": "2022-11-15T06:35:29.131Z"
   },
   {
    "duration": 74,
    "start_time": "2022-11-15T06:35:29.151Z"
   },
   {
    "duration": 16,
    "start_time": "2022-11-15T06:35:29.227Z"
   },
   {
    "duration": 9363,
    "start_time": "2022-11-15T06:35:29.245Z"
   },
   {
    "duration": 18,
    "start_time": "2022-11-15T06:35:38.610Z"
   },
   {
    "duration": 38,
    "start_time": "2022-11-15T06:35:38.630Z"
   },
   {
    "duration": 5704,
    "start_time": "2022-11-15T06:35:38.670Z"
   },
   {
    "duration": 4,
    "start_time": "2022-11-15T06:35:44.376Z"
   },
   {
    "duration": 41,
    "start_time": "2022-11-15T06:35:44.382Z"
   },
   {
    "duration": 920,
    "start_time": "2022-11-15T06:35:44.425Z"
   },
   {
    "duration": 61,
    "start_time": "2022-11-15T06:35:45.347Z"
   },
   {
    "duration": 3,
    "start_time": "2022-11-15T06:35:45.410Z"
   },
   {
    "duration": 86360,
    "start_time": "2022-11-15T06:35:45.415Z"
   },
   {
    "duration": 2480786,
    "start_time": "2022-11-15T06:37:11.777Z"
   },
   {
    "duration": 4,
    "start_time": "2022-11-15T07:23:33.914Z"
   },
   {
    "duration": 2305805,
    "start_time": "2022-11-15T07:24:24.146Z"
   },
   {
    "duration": 3,
    "start_time": "2022-11-15T08:04:01.719Z"
   },
   {
    "duration": 2487524,
    "start_time": "2022-11-15T08:04:37.690Z"
   },
   {
    "duration": 4,
    "start_time": "2022-11-15T08:48:40.662Z"
   },
   {
    "duration": 40732,
    "start_time": "2022-11-15T08:49:14.160Z"
   },
   {
    "duration": 66131,
    "start_time": "2022-11-15T08:50:31.905Z"
   },
   {
    "duration": 87941,
    "start_time": "2022-11-15T08:52:29.393Z"
   },
   {
    "duration": 5,
    "start_time": "2022-11-15T08:54:16.225Z"
   },
   {
    "duration": 86915,
    "start_time": "2022-11-15T08:54:38.857Z"
   },
   {
    "duration": 5,
    "start_time": "2022-11-15T08:56:11.082Z"
   },
   {
    "duration": 67009,
    "start_time": "2022-11-15T08:56:21.658Z"
   },
   {
    "duration": 66419,
    "start_time": "2022-11-15T08:57:50.717Z"
   },
   {
    "duration": 222448,
    "start_time": "2022-11-15T08:59:21.885Z"
   },
   {
    "duration": 5,
    "start_time": "2022-11-15T09:03:09.374Z"
   },
   {
    "duration": 129723,
    "start_time": "2022-11-15T09:03:20.366Z"
   },
   {
    "duration": 5,
    "start_time": "2022-11-15T09:06:14.449Z"
   },
   {
    "duration": 66897,
    "start_time": "2022-11-15T09:06:32.715Z"
   },
   {
    "duration": 107972,
    "start_time": "2022-11-15T09:11:54.334Z"
   },
   {
    "duration": 1032,
    "start_time": "2022-11-15T10:36:01.482Z"
   },
   {
    "duration": 5,
    "start_time": "2022-11-15T10:36:36.483Z"
   },
   {
    "duration": 5,
    "start_time": "2022-11-15T10:37:46.172Z"
   },
   {
    "duration": 9537,
    "start_time": "2022-11-15T10:38:17.933Z"
   },
   {
    "duration": 978,
    "start_time": "2022-11-15T10:38:57.109Z"
   },
   {
    "duration": 949,
    "start_time": "2022-11-15T10:39:04.183Z"
   },
   {
    "duration": 117,
    "start_time": "2022-11-15T10:40:50.671Z"
   },
   {
    "duration": 73,
    "start_time": "2022-11-15T10:42:23.272Z"
   },
   {
    "duration": 9551,
    "start_time": "2022-11-15T10:42:50.636Z"
   },
   {
    "duration": 5,
    "start_time": "2022-11-15T10:43:07.985Z"
   },
   {
    "duration": 4129,
    "start_time": "2022-11-15T10:43:26.330Z"
   },
   {
    "duration": 66117,
    "start_time": "2022-11-15T11:21:00.013Z"
   },
   {
    "duration": 65593,
    "start_time": "2022-11-15T11:23:15.897Z"
   },
   {
    "duration": 7487,
    "start_time": "2022-11-15T11:25:53.514Z"
   },
   {
    "duration": 3,
    "start_time": "2022-11-15T11:40:42.873Z"
   },
   {
    "duration": 911,
    "start_time": "2022-11-15T11:40:46.673Z"
   },
   {
    "duration": 922,
    "start_time": "2022-11-15T11:40:54.153Z"
   },
   {
    "duration": 65543,
    "start_time": "2022-11-15T11:40:56.305Z"
   },
   {
    "duration": 9,
    "start_time": "2022-11-15T11:52:24.899Z"
   },
   {
    "duration": 54,
    "start_time": "2022-11-15T11:52:30.811Z"
   },
   {
    "duration": 68245,
    "start_time": "2022-11-15T11:55:53.774Z"
   },
   {
    "duration": 1052,
    "start_time": "2022-11-15T11:57:55.994Z"
   },
   {
    "duration": 4,
    "start_time": "2022-11-15T11:59:05.585Z"
   },
   {
    "duration": 3686,
    "start_time": "2022-11-15T12:01:35.683Z"
   },
   {
    "duration": 3357,
    "start_time": "2022-11-15T12:04:19.303Z"
   },
   {
    "duration": 3,
    "start_time": "2022-11-15T12:05:00.520Z"
   },
   {
    "duration": 3411,
    "start_time": "2022-11-15T12:05:42.055Z"
   },
   {
    "duration": 4,
    "start_time": "2022-11-15T12:06:46.730Z"
   },
   {
    "duration": 54,
    "start_time": "2022-11-15T12:09:07.811Z"
   },
   {
    "duration": 46,
    "start_time": "2022-11-15T12:09:32.813Z"
   },
   {
    "duration": 97,
    "start_time": "2022-11-15T12:09:46.700Z"
   },
   {
    "duration": 93,
    "start_time": "2022-11-15T12:10:09.109Z"
   },
   {
    "duration": 3458,
    "start_time": "2022-11-15T12:10:43.813Z"
   },
   {
    "duration": 5,
    "start_time": "2022-11-15T12:11:23.929Z"
   },
   {
    "duration": 95,
    "start_time": "2022-11-15T12:12:06.191Z"
   },
   {
    "duration": 3558,
    "start_time": "2022-11-15T12:12:34.226Z"
   },
   {
    "duration": 1314,
    "start_time": "2022-11-15T12:13:58.841Z"
   },
   {
    "duration": 996,
    "start_time": "2022-11-15T12:14:00.157Z"
   },
   {
    "duration": 5,
    "start_time": "2022-11-15T12:14:01.154Z"
   },
   {
    "duration": 189,
    "start_time": "2022-11-15T12:14:01.161Z"
   },
   {
    "duration": 3,
    "start_time": "2022-11-15T12:14:01.353Z"
   },
   {
    "duration": 460,
    "start_time": "2022-11-15T12:14:01.357Z"
   },
   {
    "duration": 87,
    "start_time": "2022-11-15T12:14:01.819Z"
   },
   {
    "duration": 91,
    "start_time": "2022-11-15T12:14:01.908Z"
   },
   {
    "duration": 702,
    "start_time": "2022-11-15T12:14:02.001Z"
   },
   {
    "duration": 173,
    "start_time": "2022-11-15T12:14:02.706Z"
   },
   {
    "duration": 36,
    "start_time": "2022-11-15T12:14:02.881Z"
   },
   {
    "duration": 39,
    "start_time": "2022-11-15T12:14:02.919Z"
   },
   {
    "duration": 49,
    "start_time": "2022-11-15T12:14:02.959Z"
   },
   {
    "duration": 41,
    "start_time": "2022-11-15T12:14:03.010Z"
   },
   {
    "duration": 468,
    "start_time": "2022-11-15T12:14:03.053Z"
   },
   {
    "duration": 450,
    "start_time": "2022-11-15T12:14:03.523Z"
   },
   {
    "duration": 100,
    "start_time": "2022-11-15T12:14:03.974Z"
   },
   {
    "duration": 22,
    "start_time": "2022-11-15T12:14:04.075Z"
   },
   {
    "duration": 47,
    "start_time": "2022-11-15T12:14:04.099Z"
   },
   {
    "duration": 18,
    "start_time": "2022-11-15T12:14:04.148Z"
   },
   {
    "duration": 81,
    "start_time": "2022-11-15T12:14:04.168Z"
   },
   {
    "duration": 19,
    "start_time": "2022-11-15T12:14:04.251Z"
   },
   {
    "duration": 9698,
    "start_time": "2022-11-15T12:14:04.272Z"
   },
   {
    "duration": 25,
    "start_time": "2022-11-15T12:14:13.971Z"
   },
   {
    "duration": 26,
    "start_time": "2022-11-15T12:14:13.998Z"
   },
   {
    "duration": 6040,
    "start_time": "2022-11-15T12:14:14.026Z"
   },
   {
    "duration": 3,
    "start_time": "2022-11-15T12:14:20.068Z"
   },
   {
    "duration": 49,
    "start_time": "2022-11-15T12:14:20.074Z"
   },
   {
    "duration": 926,
    "start_time": "2022-11-15T12:14:20.125Z"
   },
   {
    "duration": 64,
    "start_time": "2022-11-15T12:14:21.053Z"
   },
   {
    "duration": 3,
    "start_time": "2022-11-15T12:14:21.119Z"
   },
   {
    "duration": 3535,
    "start_time": "2022-11-15T12:14:21.123Z"
   },
   {
    "duration": 66604,
    "start_time": "2022-11-15T12:14:24.659Z"
   },
   {
    "duration": 133,
    "start_time": "2022-11-15T12:15:31.264Z"
   },
   {
    "duration": 0,
    "start_time": "2022-11-15T12:15:31.399Z"
   },
   {
    "duration": 0,
    "start_time": "2022-11-15T12:15:31.400Z"
   },
   {
    "duration": 0,
    "start_time": "2022-11-15T12:15:31.402Z"
   },
   {
    "duration": 0,
    "start_time": "2022-11-15T12:15:31.403Z"
   },
   {
    "duration": 57,
    "start_time": "2022-11-15T12:16:29.364Z"
   },
   {
    "duration": 4252,
    "start_time": "2022-11-15T12:16:56.300Z"
   },
   {
    "duration": 144,
    "start_time": "2022-11-15T12:17:54.733Z"
   },
   {
    "duration": 140,
    "start_time": "2022-11-15T12:18:00.325Z"
   },
   {
    "duration": 4,
    "start_time": "2022-11-16T07:58:14.029Z"
   },
   {
    "duration": 1378,
    "start_time": "2022-11-16T08:00:48.639Z"
   },
   {
    "duration": 952,
    "start_time": "2022-11-16T08:00:50.019Z"
   },
   {
    "duration": 5,
    "start_time": "2022-11-16T08:00:50.972Z"
   },
   {
    "duration": 186,
    "start_time": "2022-11-16T08:00:50.979Z"
   },
   {
    "duration": 3,
    "start_time": "2022-11-16T08:00:51.166Z"
   },
   {
    "duration": 393,
    "start_time": "2022-11-16T08:00:51.170Z"
   },
   {
    "duration": 78,
    "start_time": "2022-11-16T08:00:51.565Z"
   },
   {
    "duration": 83,
    "start_time": "2022-11-16T08:00:51.645Z"
   },
   {
    "duration": 653,
    "start_time": "2022-11-16T08:00:51.730Z"
   },
   {
    "duration": 168,
    "start_time": "2022-11-16T08:00:52.386Z"
   },
   {
    "duration": 37,
    "start_time": "2022-11-16T08:00:52.556Z"
   },
   {
    "duration": 54,
    "start_time": "2022-11-16T08:00:52.594Z"
   },
   {
    "duration": 37,
    "start_time": "2022-11-16T08:00:52.649Z"
   },
   {
    "duration": 52,
    "start_time": "2022-11-16T08:00:52.688Z"
   },
   {
    "duration": 434,
    "start_time": "2022-11-16T08:00:52.742Z"
   },
   {
    "duration": 438,
    "start_time": "2022-11-16T08:00:53.178Z"
   },
   {
    "duration": 88,
    "start_time": "2022-11-16T08:00:53.618Z"
   },
   {
    "duration": 14,
    "start_time": "2022-11-16T08:00:53.716Z"
   },
   {
    "duration": 45,
    "start_time": "2022-11-16T08:00:53.732Z"
   },
   {
    "duration": 41,
    "start_time": "2022-11-16T08:00:53.778Z"
   },
   {
    "duration": 56,
    "start_time": "2022-11-16T08:00:53.821Z"
   },
   {
    "duration": 19,
    "start_time": "2022-11-16T08:00:53.879Z"
   },
   {
    "duration": 10263,
    "start_time": "2022-11-16T08:00:53.900Z"
   },
   {
    "duration": 17,
    "start_time": "2022-11-16T08:01:04.165Z"
   },
   {
    "duration": 58,
    "start_time": "2022-11-16T08:01:04.184Z"
   },
   {
    "duration": 6106,
    "start_time": "2022-11-16T08:01:04.244Z"
   },
   {
    "duration": 3,
    "start_time": "2022-11-16T08:01:10.352Z"
   },
   {
    "duration": 33,
    "start_time": "2022-11-16T08:01:10.358Z"
   },
   {
    "duration": 939,
    "start_time": "2022-11-16T08:01:10.393Z"
   },
   {
    "duration": 53,
    "start_time": "2022-11-16T08:01:11.334Z"
   },
   {
    "duration": 4279,
    "start_time": "2022-11-16T08:01:11.389Z"
   },
   {
    "duration": 130,
    "start_time": "2022-11-16T08:01:15.669Z"
   },
   {
    "duration": 66052,
    "start_time": "2022-11-16T08:01:15.801Z"
   },
   {
    "duration": 50,
    "start_time": "2022-11-16T08:02:21.855Z"
   },
   {
    "duration": 285086,
    "start_time": "2022-11-16T08:02:21.907Z"
   },
   {
    "duration": 2404488,
    "start_time": "2022-11-16T08:07:06.995Z"
   },
   {
    "duration": 30246,
    "start_time": "2022-11-16T08:47:11.485Z"
   },
   {
    "duration": 80489,
    "start_time": "2022-11-16T08:47:41.733Z"
   },
   {
    "duration": 3,
    "start_time": "2022-11-16T09:08:08.719Z"
   },
   {
    "duration": 5,
    "start_time": "2022-11-16T09:08:12.293Z"
   },
   {
    "duration": 769200,
    "start_time": "2022-11-16T09:09:03.920Z"
   },
   {
    "duration": 6,
    "start_time": "2022-11-16T11:16:34.391Z"
   },
   {
    "duration": 1283,
    "start_time": "2022-11-16T11:17:08.347Z"
   },
   {
    "duration": 995,
    "start_time": "2022-11-16T11:17:09.632Z"
   },
   {
    "duration": 6,
    "start_time": "2022-11-16T11:17:10.628Z"
   },
   {
    "duration": 181,
    "start_time": "2022-11-16T11:17:10.636Z"
   },
   {
    "duration": 3,
    "start_time": "2022-11-16T11:17:10.818Z"
   },
   {
    "duration": 409,
    "start_time": "2022-11-16T11:17:10.823Z"
   },
   {
    "duration": 86,
    "start_time": "2022-11-16T11:17:11.234Z"
   },
   {
    "duration": 79,
    "start_time": "2022-11-16T11:17:11.321Z"
   },
   {
    "duration": 672,
    "start_time": "2022-11-16T11:17:11.415Z"
   },
   {
    "duration": 175,
    "start_time": "2022-11-16T11:17:12.091Z"
   },
   {
    "duration": 47,
    "start_time": "2022-11-16T11:17:12.268Z"
   },
   {
    "duration": 36,
    "start_time": "2022-11-16T11:17:12.317Z"
   },
   {
    "duration": 35,
    "start_time": "2022-11-16T11:17:12.355Z"
   },
   {
    "duration": 64,
    "start_time": "2022-11-16T11:17:12.392Z"
   },
   {
    "duration": 478,
    "start_time": "2022-11-16T11:17:12.458Z"
   },
   {
    "duration": 437,
    "start_time": "2022-11-16T11:17:12.938Z"
   },
   {
    "duration": 93,
    "start_time": "2022-11-16T11:17:13.376Z"
   },
   {
    "duration": 12,
    "start_time": "2022-11-16T11:17:13.471Z"
   },
   {
    "duration": 63,
    "start_time": "2022-11-16T11:17:13.484Z"
   },
   {
    "duration": 19,
    "start_time": "2022-11-16T11:17:13.549Z"
   },
   {
    "duration": 72,
    "start_time": "2022-11-16T11:17:13.570Z"
   },
   {
    "duration": 19,
    "start_time": "2022-11-16T11:17:13.644Z"
   },
   {
    "duration": 6862,
    "start_time": "2022-11-16T11:17:13.665Z"
   },
   {
    "duration": 0,
    "start_time": "2022-11-16T11:17:20.529Z"
   },
   {
    "duration": 0,
    "start_time": "2022-11-16T11:17:20.530Z"
   },
   {
    "duration": 0,
    "start_time": "2022-11-16T11:17:20.532Z"
   },
   {
    "duration": 0,
    "start_time": "2022-11-16T11:17:20.533Z"
   },
   {
    "duration": 0,
    "start_time": "2022-11-16T11:17:20.534Z"
   },
   {
    "duration": 0,
    "start_time": "2022-11-16T11:17:20.535Z"
   },
   {
    "duration": 0,
    "start_time": "2022-11-16T11:17:20.536Z"
   },
   {
    "duration": 0,
    "start_time": "2022-11-16T11:17:20.536Z"
   },
   {
    "duration": 0,
    "start_time": "2022-11-16T11:17:20.537Z"
   },
   {
    "duration": 0,
    "start_time": "2022-11-16T11:17:20.539Z"
   },
   {
    "duration": 1,
    "start_time": "2022-11-16T11:17:20.539Z"
   },
   {
    "duration": 0,
    "start_time": "2022-11-16T11:17:20.541Z"
   },
   {
    "duration": 0,
    "start_time": "2022-11-16T11:17:20.541Z"
   },
   {
    "duration": 0,
    "start_time": "2022-11-16T11:17:20.543Z"
   },
   {
    "duration": 0,
    "start_time": "2022-11-16T11:17:20.544Z"
   },
   {
    "duration": 0,
    "start_time": "2022-11-16T11:17:20.545Z"
   },
   {
    "duration": 1385,
    "start_time": "2022-11-16T11:17:54.149Z"
   },
   {
    "duration": 997,
    "start_time": "2022-11-16T11:17:55.536Z"
   },
   {
    "duration": 7,
    "start_time": "2022-11-16T11:17:56.535Z"
   },
   {
    "duration": 219,
    "start_time": "2022-11-16T11:17:56.544Z"
   },
   {
    "duration": 3,
    "start_time": "2022-11-16T11:17:56.764Z"
   },
   {
    "duration": 412,
    "start_time": "2022-11-16T11:17:56.768Z"
   },
   {
    "duration": 90,
    "start_time": "2022-11-16T11:17:57.182Z"
   },
   {
    "duration": 87,
    "start_time": "2022-11-16T11:17:57.274Z"
   },
   {
    "duration": 662,
    "start_time": "2022-11-16T11:17:57.363Z"
   },
   {
    "duration": 163,
    "start_time": "2022-11-16T11:17:58.028Z"
   },
   {
    "duration": 41,
    "start_time": "2022-11-16T11:17:58.193Z"
   },
   {
    "duration": 36,
    "start_time": "2022-11-16T11:17:58.235Z"
   },
   {
    "duration": 50,
    "start_time": "2022-11-16T11:17:58.272Z"
   },
   {
    "duration": 37,
    "start_time": "2022-11-16T11:17:58.324Z"
   },
   {
    "duration": 453,
    "start_time": "2022-11-16T11:17:58.362Z"
   },
   {
    "duration": 460,
    "start_time": "2022-11-16T11:17:58.817Z"
   },
   {
    "duration": 96,
    "start_time": "2022-11-16T11:17:59.279Z"
   },
   {
    "duration": 13,
    "start_time": "2022-11-16T11:17:59.376Z"
   },
   {
    "duration": 61,
    "start_time": "2022-11-16T11:17:59.391Z"
   },
   {
    "duration": 20,
    "start_time": "2022-11-16T11:17:59.454Z"
   },
   {
    "duration": 74,
    "start_time": "2022-11-16T11:17:59.475Z"
   },
   {
    "duration": 20,
    "start_time": "2022-11-16T11:17:59.550Z"
   },
   {
    "duration": 10488,
    "start_time": "2022-11-16T11:17:59.571Z"
   },
   {
    "duration": 22,
    "start_time": "2022-11-16T11:18:10.061Z"
   },
   {
    "duration": 44,
    "start_time": "2022-11-16T11:18:10.085Z"
   },
   {
    "duration": 6240,
    "start_time": "2022-11-16T11:18:10.130Z"
   },
   {
    "duration": 4,
    "start_time": "2022-11-16T11:18:16.371Z"
   },
   {
    "duration": 46,
    "start_time": "2022-11-16T11:18:16.378Z"
   },
   {
    "duration": 993,
    "start_time": "2022-11-16T11:18:16.426Z"
   },
   {
    "duration": 58,
    "start_time": "2022-11-16T11:18:17.421Z"
   },
   {
    "duration": 4435,
    "start_time": "2022-11-16T11:18:17.480Z"
   },
   {
    "duration": 129,
    "start_time": "2022-11-16T11:18:21.917Z"
   },
   {
    "duration": 67631,
    "start_time": "2022-11-16T11:18:22.048Z"
   },
   {
    "duration": 56,
    "start_time": "2022-11-16T11:19:29.681Z"
   },
   {
    "duration": 285125,
    "start_time": "2022-11-16T11:19:29.739Z"
   },
   {
    "duration": 0,
    "start_time": "2022-11-16T11:24:14.866Z"
   },
   {
    "duration": 0,
    "start_time": "2022-11-16T11:24:14.867Z"
   },
   {
    "duration": 0,
    "start_time": "2022-11-16T11:24:14.868Z"
   },
   {
    "duration": 0,
    "start_time": "2022-11-16T11:24:14.869Z"
   },
   {
    "duration": 1351,
    "start_time": "2022-11-16T11:25:03.580Z"
   },
   {
    "duration": 988,
    "start_time": "2022-11-16T11:25:04.933Z"
   },
   {
    "duration": 6,
    "start_time": "2022-11-16T11:25:05.922Z"
   },
   {
    "duration": 226,
    "start_time": "2022-11-16T11:25:05.929Z"
   },
   {
    "duration": 3,
    "start_time": "2022-11-16T11:25:06.157Z"
   },
   {
    "duration": 450,
    "start_time": "2022-11-16T11:25:06.162Z"
   },
   {
    "duration": 78,
    "start_time": "2022-11-16T11:25:06.614Z"
   },
   {
    "duration": 91,
    "start_time": "2022-11-16T11:25:06.693Z"
   },
   {
    "duration": 673,
    "start_time": "2022-11-16T11:25:06.785Z"
   },
   {
    "duration": 153,
    "start_time": "2022-11-16T11:25:07.459Z"
   },
   {
    "duration": 37,
    "start_time": "2022-11-16T11:25:07.616Z"
   },
   {
    "duration": 35,
    "start_time": "2022-11-16T11:25:07.655Z"
   },
   {
    "duration": 58,
    "start_time": "2022-11-16T11:25:07.692Z"
   },
   {
    "duration": 37,
    "start_time": "2022-11-16T11:25:07.752Z"
   },
   {
    "duration": 458,
    "start_time": "2022-11-16T11:25:07.791Z"
   },
   {
    "duration": 452,
    "start_time": "2022-11-16T11:25:08.251Z"
   },
   {
    "duration": 99,
    "start_time": "2022-11-16T11:25:08.704Z"
   },
   {
    "duration": 22,
    "start_time": "2022-11-16T11:25:08.804Z"
   },
   {
    "duration": 47,
    "start_time": "2022-11-16T11:25:08.827Z"
   },
   {
    "duration": 40,
    "start_time": "2022-11-16T11:25:08.876Z"
   },
   {
    "duration": 60,
    "start_time": "2022-11-16T11:25:08.917Z"
   },
   {
    "duration": 37,
    "start_time": "2022-11-16T11:25:08.979Z"
   },
   {
    "duration": 10919,
    "start_time": "2022-11-16T11:25:09.018Z"
   },
   {
    "duration": 23,
    "start_time": "2022-11-16T11:25:19.939Z"
   },
   {
    "duration": 32,
    "start_time": "2022-11-16T11:25:19.963Z"
   },
   {
    "duration": 6406,
    "start_time": "2022-11-16T11:25:19.997Z"
   },
   {
    "duration": 4,
    "start_time": "2022-11-16T11:25:26.405Z"
   },
   {
    "duration": 67,
    "start_time": "2022-11-16T11:25:26.411Z"
   },
   {
    "duration": 1077,
    "start_time": "2022-11-16T11:25:26.480Z"
   },
   {
    "duration": 63,
    "start_time": "2022-11-16T11:25:27.559Z"
   },
   {
    "duration": 66,
    "start_time": "2022-11-16T11:25:27.624Z"
   },
   {
    "duration": 0,
    "start_time": "2022-11-16T11:25:27.692Z"
   },
   {
    "duration": 0,
    "start_time": "2022-11-16T11:25:27.694Z"
   },
   {
    "duration": 0,
    "start_time": "2022-11-16T11:25:27.695Z"
   },
   {
    "duration": 0,
    "start_time": "2022-11-16T11:25:27.696Z"
   },
   {
    "duration": 0,
    "start_time": "2022-11-16T11:25:27.697Z"
   },
   {
    "duration": 0,
    "start_time": "2022-11-16T11:25:27.698Z"
   },
   {
    "duration": 0,
    "start_time": "2022-11-16T11:25:27.700Z"
   },
   {
    "duration": 0,
    "start_time": "2022-11-16T11:25:27.701Z"
   },
   {
    "duration": 3734,
    "start_time": "2022-11-16T11:28:18.470Z"
   },
   {
    "duration": 69467,
    "start_time": "2022-11-16T11:28:44.147Z"
   },
   {
    "duration": 106,
    "start_time": "2022-11-16T11:45:08.788Z"
   },
   {
    "duration": 241565,
    "start_time": "2022-11-16T11:45:42.332Z"
   },
   {
    "duration": 1129828,
    "start_time": "2022-11-16T11:51:34.768Z"
   },
   {
    "duration": 11,
    "start_time": "2022-11-16T12:18:11.616Z"
   },
   {
    "duration": 11,
    "start_time": "2022-11-16T12:18:41.731Z"
   },
   {
    "duration": 5,
    "start_time": "2022-11-16T12:18:59.284Z"
   },
   {
    "duration": 59,
    "start_time": "2022-11-16T12:27:32.004Z"
   },
   {
    "duration": 5,
    "start_time": "2022-11-16T12:28:14.908Z"
   },
   {
    "duration": 3625,
    "start_time": "2022-11-16T12:33:02.505Z"
   },
   {
    "duration": 4,
    "start_time": "2022-11-16T12:36:43.332Z"
   },
   {
    "duration": 3536,
    "start_time": "2022-11-16T12:39:57.314Z"
   },
   {
    "duration": 3,
    "start_time": "2022-11-16T12:41:50.234Z"
   },
   {
    "duration": 3685,
    "start_time": "2022-11-16T12:53:04.011Z"
   },
   {
    "duration": 3754,
    "start_time": "2022-11-16T12:54:15.647Z"
   },
   {
    "duration": 4,
    "start_time": "2022-11-16T12:57:41.010Z"
   },
   {
    "duration": 355198,
    "start_time": "2022-11-16T12:57:50.662Z"
   },
   {
    "duration": 11,
    "start_time": "2022-11-16T13:12:24.949Z"
   },
   {
    "duration": 5,
    "start_time": "2022-11-16T13:12:44.496Z"
   },
   {
    "duration": 210212,
    "start_time": "2022-11-16T13:12:47.328Z"
   },
   {
    "duration": 6,
    "start_time": "2022-11-16T13:16:46.251Z"
   },
   {
    "duration": 1441,
    "start_time": "2022-11-16T13:18:55.412Z"
   },
   {
    "duration": 3104,
    "start_time": "2022-11-16T13:18:56.855Z"
   },
   {
    "duration": 5,
    "start_time": "2022-11-16T13:18:59.961Z"
   },
   {
    "duration": 182,
    "start_time": "2022-11-16T13:18:59.968Z"
   },
   {
    "duration": 3,
    "start_time": "2022-11-16T13:19:00.152Z"
   },
   {
    "duration": 418,
    "start_time": "2022-11-16T13:19:00.156Z"
   },
   {
    "duration": 85,
    "start_time": "2022-11-16T13:19:00.575Z"
   },
   {
    "duration": 92,
    "start_time": "2022-11-16T13:19:00.662Z"
   },
   {
    "duration": 692,
    "start_time": "2022-11-16T13:19:00.756Z"
   },
   {
    "duration": 161,
    "start_time": "2022-11-16T13:19:01.451Z"
   },
   {
    "duration": 36,
    "start_time": "2022-11-16T13:19:01.615Z"
   },
   {
    "duration": 37,
    "start_time": "2022-11-16T13:19:01.653Z"
   },
   {
    "duration": 59,
    "start_time": "2022-11-16T13:19:01.692Z"
   },
   {
    "duration": 40,
    "start_time": "2022-11-16T13:19:01.752Z"
   },
   {
    "duration": 462,
    "start_time": "2022-11-16T13:19:01.794Z"
   },
   {
    "duration": 458,
    "start_time": "2022-11-16T13:19:02.257Z"
   },
   {
    "duration": 99,
    "start_time": "2022-11-16T13:19:02.717Z"
   },
   {
    "duration": 12,
    "start_time": "2022-11-16T13:19:02.818Z"
   },
   {
    "duration": 45,
    "start_time": "2022-11-16T13:19:02.831Z"
   },
   {
    "duration": 18,
    "start_time": "2022-11-16T13:19:02.878Z"
   },
   {
    "duration": 60,
    "start_time": "2022-11-16T13:19:02.915Z"
   },
   {
    "duration": 19,
    "start_time": "2022-11-16T13:19:02.977Z"
   },
   {
    "duration": 10776,
    "start_time": "2022-11-16T13:19:02.998Z"
   },
   {
    "duration": 20,
    "start_time": "2022-11-16T13:19:13.776Z"
   },
   {
    "duration": 40,
    "start_time": "2022-11-16T13:19:13.798Z"
   },
   {
    "duration": 6336,
    "start_time": "2022-11-16T13:19:13.840Z"
   },
   {
    "duration": 4,
    "start_time": "2022-11-16T13:19:20.178Z"
   },
   {
    "duration": 47,
    "start_time": "2022-11-16T13:19:20.185Z"
   },
   {
    "duration": 947,
    "start_time": "2022-11-16T13:19:20.234Z"
   },
   {
    "duration": 61,
    "start_time": "2022-11-16T13:19:21.182Z"
   },
   {
    "duration": 6,
    "start_time": "2022-11-16T13:19:21.244Z"
   },
   {
    "duration": 478781,
    "start_time": "2022-11-16T13:19:21.251Z"
   },
   {
    "duration": 156,
    "start_time": "2022-11-16T13:27:20.035Z"
   },
   {
    "duration": 0,
    "start_time": "2022-11-16T13:27:20.193Z"
   },
   {
    "duration": 8,
    "start_time": "2022-11-16T13:32:51.566Z"
   },
   {
    "duration": 5,
    "start_time": "2022-11-16T13:33:24.295Z"
   },
   {
    "duration": 68069,
    "start_time": "2022-11-16T13:33:39.298Z"
   },
   {
    "duration": 1089421,
    "start_time": "2022-11-16T13:35:14.700Z"
   },
   {
    "duration": 638602,
    "start_time": "2022-11-16T13:53:24.123Z"
   },
   {
    "duration": 7,
    "start_time": "2022-11-16T14:04:02.728Z"
   },
   {
    "duration": 347671,
    "start_time": "2022-11-16T14:11:26.155Z"
   },
   {
    "duration": 7,
    "start_time": "2022-11-16T14:17:13.828Z"
   },
   {
    "duration": 885,
    "start_time": "2022-11-16T14:47:29.440Z"
   },
   {
    "duration": 1293,
    "start_time": "2022-11-16T16:26:27.648Z"
   },
   {
    "duration": 991,
    "start_time": "2022-11-16T16:26:28.943Z"
   },
   {
    "duration": 5,
    "start_time": "2022-11-16T16:26:29.935Z"
   },
   {
    "duration": 209,
    "start_time": "2022-11-16T16:26:29.943Z"
   },
   {
    "duration": 4,
    "start_time": "2022-11-16T16:26:30.154Z"
   },
   {
    "duration": 425,
    "start_time": "2022-11-16T16:26:30.160Z"
   },
   {
    "duration": 87,
    "start_time": "2022-11-16T16:26:30.587Z"
   },
   {
    "duration": 97,
    "start_time": "2022-11-16T16:26:30.676Z"
   },
   {
    "duration": 688,
    "start_time": "2022-11-16T16:26:30.775Z"
   },
   {
    "duration": 152,
    "start_time": "2022-11-16T16:26:31.466Z"
   },
   {
    "duration": 37,
    "start_time": "2022-11-16T16:26:31.619Z"
   },
   {
    "duration": 50,
    "start_time": "2022-11-16T16:26:31.657Z"
   },
   {
    "duration": 60,
    "start_time": "2022-11-16T16:26:31.709Z"
   },
   {
    "duration": 41,
    "start_time": "2022-11-16T16:26:31.770Z"
   },
   {
    "duration": 457,
    "start_time": "2022-11-16T16:26:31.813Z"
   },
   {
    "duration": 447,
    "start_time": "2022-11-16T16:26:32.272Z"
   },
   {
    "duration": 100,
    "start_time": "2022-11-16T16:26:32.721Z"
   },
   {
    "duration": 17,
    "start_time": "2022-11-16T16:26:32.823Z"
   },
   {
    "duration": 74,
    "start_time": "2022-11-16T16:26:32.842Z"
   },
   {
    "duration": 30,
    "start_time": "2022-11-16T16:26:32.918Z"
   },
   {
    "duration": 78,
    "start_time": "2022-11-16T16:26:32.949Z"
   },
   {
    "duration": 20,
    "start_time": "2022-11-16T16:26:33.029Z"
   },
   {
    "duration": 10452,
    "start_time": "2022-11-16T16:26:33.051Z"
   },
   {
    "duration": 20,
    "start_time": "2022-11-16T16:26:43.505Z"
   },
   {
    "duration": 35,
    "start_time": "2022-11-16T16:26:43.526Z"
   },
   {
    "duration": 6313,
    "start_time": "2022-11-16T16:26:43.563Z"
   },
   {
    "duration": 4,
    "start_time": "2022-11-16T16:26:49.877Z"
   },
   {
    "duration": 49,
    "start_time": "2022-11-16T16:26:49.885Z"
   },
   {
    "duration": 987,
    "start_time": "2022-11-16T16:26:49.936Z"
   },
   {
    "duration": 65,
    "start_time": "2022-11-16T16:26:50.925Z"
   },
   {
    "duration": 5,
    "start_time": "2022-11-16T16:26:50.992Z"
   },
   {
    "duration": 346928,
    "start_time": "2022-11-16T16:26:50.999Z"
   },
   {
    "duration": 68155,
    "start_time": "2022-11-16T16:32:37.929Z"
   },
   {
    "duration": 640848,
    "start_time": "2022-11-16T16:33:46.086Z"
   },
   {
    "duration": 1339,
    "start_time": "2022-11-16T16:48:26.447Z"
   },
   {
    "duration": 974,
    "start_time": "2022-11-16T16:48:27.788Z"
   },
   {
    "duration": 5,
    "start_time": "2022-11-16T16:48:28.764Z"
   },
   {
    "duration": 179,
    "start_time": "2022-11-16T16:48:28.771Z"
   },
   {
    "duration": 4,
    "start_time": "2022-11-16T16:48:28.952Z"
   },
   {
    "duration": 403,
    "start_time": "2022-11-16T16:48:28.957Z"
   },
   {
    "duration": 85,
    "start_time": "2022-11-16T16:48:29.362Z"
   },
   {
    "duration": 86,
    "start_time": "2022-11-16T16:48:29.448Z"
   },
   {
    "duration": 651,
    "start_time": "2022-11-16T16:48:29.536Z"
   },
   {
    "duration": 159,
    "start_time": "2022-11-16T16:48:30.190Z"
   },
   {
    "duration": 39,
    "start_time": "2022-11-16T16:48:30.351Z"
   },
   {
    "duration": 80,
    "start_time": "2022-11-16T16:48:30.393Z"
   },
   {
    "duration": 65,
    "start_time": "2022-11-16T16:48:30.475Z"
   },
   {
    "duration": 68,
    "start_time": "2022-11-16T16:48:30.542Z"
   },
   {
    "duration": 447,
    "start_time": "2022-11-16T16:48:30.612Z"
   },
   {
    "duration": 436,
    "start_time": "2022-11-16T16:48:31.062Z"
   },
   {
    "duration": 93,
    "start_time": "2022-11-16T16:48:31.499Z"
   },
   {
    "duration": 25,
    "start_time": "2022-11-16T16:48:31.594Z"
   },
   {
    "duration": 57,
    "start_time": "2022-11-16T16:48:31.621Z"
   },
   {
    "duration": 19,
    "start_time": "2022-11-16T16:48:31.680Z"
   },
   {
    "duration": 64,
    "start_time": "2022-11-16T16:48:31.701Z"
   },
   {
    "duration": 19,
    "start_time": "2022-11-16T16:48:31.766Z"
   },
   {
    "duration": 10636,
    "start_time": "2022-11-16T16:48:31.787Z"
   },
   {
    "duration": 20,
    "start_time": "2022-11-16T16:48:42.424Z"
   },
   {
    "duration": 36,
    "start_time": "2022-11-16T16:48:42.446Z"
   },
   {
    "duration": 6268,
    "start_time": "2022-11-16T16:48:42.485Z"
   },
   {
    "duration": 4,
    "start_time": "2022-11-16T16:48:48.754Z"
   },
   {
    "duration": 32,
    "start_time": "2022-11-16T16:48:48.761Z"
   },
   {
    "duration": 1010,
    "start_time": "2022-11-16T16:48:48.794Z"
   },
   {
    "duration": 64,
    "start_time": "2022-11-16T16:48:49.806Z"
   },
   {
    "duration": 5,
    "start_time": "2022-11-16T16:48:49.872Z"
   },
   {
    "duration": 349543,
    "start_time": "2022-11-16T16:48:49.879Z"
   },
   {
    "duration": 67403,
    "start_time": "2022-11-16T16:54:39.424Z"
   },
   {
    "duration": 1102002,
    "start_time": "2022-11-16T16:55:46.828Z"
   },
   {
    "duration": 885095,
    "start_time": "2022-11-16T17:14:08.832Z"
   },
   {
    "duration": 89,
    "start_time": "2022-11-16T17:28:53.929Z"
   },
   {
    "duration": 909,
    "start_time": "2022-11-16T17:28:54.020Z"
   },
   {
    "duration": 1983,
    "start_time": "2022-11-17T17:18:46.304Z"
   },
   {
    "duration": 3078,
    "start_time": "2022-11-17T17:18:48.289Z"
   },
   {
    "duration": 6,
    "start_time": "2022-11-17T17:18:51.369Z"
   },
   {
    "duration": 195,
    "start_time": "2022-11-17T17:18:51.377Z"
   },
   {
    "duration": 4,
    "start_time": "2022-11-17T17:18:51.573Z"
   },
   {
    "duration": 425,
    "start_time": "2022-11-17T17:18:51.579Z"
   },
   {
    "duration": 87,
    "start_time": "2022-11-17T17:18:52.006Z"
   },
   {
    "duration": 87,
    "start_time": "2022-11-17T17:18:52.095Z"
   },
   {
    "duration": 687,
    "start_time": "2022-11-17T17:18:52.184Z"
   },
   {
    "duration": 167,
    "start_time": "2022-11-17T17:18:52.874Z"
   },
   {
    "duration": 43,
    "start_time": "2022-11-17T17:18:53.042Z"
   },
   {
    "duration": 36,
    "start_time": "2022-11-17T17:18:53.087Z"
   },
   {
    "duration": 58,
    "start_time": "2022-11-17T17:18:53.124Z"
   },
   {
    "duration": 40,
    "start_time": "2022-11-17T17:18:53.184Z"
   },
   {
    "duration": 497,
    "start_time": "2022-11-17T17:18:53.225Z"
   },
   {
    "duration": 448,
    "start_time": "2022-11-17T17:18:53.724Z"
   },
   {
    "duration": 100,
    "start_time": "2022-11-17T17:18:54.174Z"
   },
   {
    "duration": 14,
    "start_time": "2022-11-17T17:18:54.276Z"
   },
   {
    "duration": 63,
    "start_time": "2022-11-17T17:18:54.292Z"
   },
   {
    "duration": 21,
    "start_time": "2022-11-17T17:18:54.356Z"
   },
   {
    "duration": 77,
    "start_time": "2022-11-17T17:18:54.379Z"
   },
   {
    "duration": 6,
    "start_time": "2022-11-17T17:19:04.543Z"
   },
   {
    "duration": 1460,
    "start_time": "2022-11-18T06:35:00.634Z"
   },
   {
    "duration": 3107,
    "start_time": "2022-11-18T06:35:02.095Z"
   },
   {
    "duration": 5,
    "start_time": "2022-11-18T06:35:05.203Z"
   },
   {
    "duration": 199,
    "start_time": "2022-11-18T06:35:05.210Z"
   },
   {
    "duration": 2,
    "start_time": "2022-11-18T06:35:05.411Z"
   },
   {
    "duration": 378,
    "start_time": "2022-11-18T06:35:05.415Z"
   },
   {
    "duration": 71,
    "start_time": "2022-11-18T06:35:05.795Z"
   },
   {
    "duration": 72,
    "start_time": "2022-11-18T06:35:05.876Z"
   },
   {
    "duration": 612,
    "start_time": "2022-11-18T06:35:05.949Z"
   },
   {
    "duration": 164,
    "start_time": "2022-11-18T06:35:06.563Z"
   },
   {
    "duration": 33,
    "start_time": "2022-11-18T06:35:06.729Z"
   },
   {
    "duration": 48,
    "start_time": "2022-11-18T06:35:06.764Z"
   },
   {
    "duration": 35,
    "start_time": "2022-11-18T06:35:06.814Z"
   },
   {
    "duration": 35,
    "start_time": "2022-11-18T06:35:06.877Z"
   },
   {
    "duration": 451,
    "start_time": "2022-11-18T06:35:06.913Z"
   },
   {
    "duration": 454,
    "start_time": "2022-11-18T06:35:07.366Z"
   },
   {
    "duration": 108,
    "start_time": "2022-11-18T06:35:07.821Z"
   },
   {
    "duration": 13,
    "start_time": "2022-11-18T06:35:07.931Z"
   },
   {
    "duration": 67,
    "start_time": "2022-11-18T06:35:07.946Z"
   },
   {
    "duration": 20,
    "start_time": "2022-11-18T06:35:08.017Z"
   },
   {
    "duration": 71,
    "start_time": "2022-11-18T06:35:08.038Z"
   },
   {
    "duration": 20,
    "start_time": "2022-11-18T06:35:08.110Z"
   },
   {
    "duration": 10079,
    "start_time": "2022-11-18T06:35:08.132Z"
   },
   {
    "duration": 17,
    "start_time": "2022-11-18T06:35:18.213Z"
   },
   {
    "duration": 44,
    "start_time": "2022-11-18T06:35:18.232Z"
   },
   {
    "duration": 5768,
    "start_time": "2022-11-18T06:35:18.278Z"
   },
   {
    "duration": 4,
    "start_time": "2022-11-18T06:35:24.048Z"
   },
   {
    "duration": 44,
    "start_time": "2022-11-18T06:35:24.054Z"
   },
   {
    "duration": 83,
    "start_time": "2022-11-18T06:35:24.100Z"
   },
   {
    "duration": 843,
    "start_time": "2022-11-18T06:35:31.336Z"
   },
   {
    "duration": 5,
    "start_time": "2022-11-18T06:38:17.751Z"
   },
   {
    "duration": 5,
    "start_time": "2022-11-18T06:44:49.457Z"
   },
   {
    "duration": 268935,
    "start_time": "2022-11-18T06:50:13.061Z"
   },
   {
    "duration": 5,
    "start_time": "2022-11-18T06:57:47.324Z"
   },
   {
    "duration": 3,
    "start_time": "2022-11-18T07:02:20.678Z"
   },
   {
    "duration": 843,
    "start_time": "2022-11-18T07:02:20.683Z"
   },
   {
    "duration": 6,
    "start_time": "2022-11-18T07:02:21.528Z"
   },
   {
    "duration": 150,
    "start_time": "2022-11-18T07:02:21.536Z"
   },
   {
    "duration": 11,
    "start_time": "2022-11-18T07:02:21.688Z"
   },
   {
    "duration": 411,
    "start_time": "2022-11-18T07:02:21.700Z"
   },
   {
    "duration": 94,
    "start_time": "2022-11-18T07:02:22.114Z"
   },
   {
    "duration": 79,
    "start_time": "2022-11-18T07:02:22.210Z"
   },
   {
    "duration": 560,
    "start_time": "2022-11-18T07:02:22.290Z"
   },
   {
    "duration": 241,
    "start_time": "2022-11-18T07:02:22.852Z"
   },
   {
    "duration": 33,
    "start_time": "2022-11-18T07:02:23.096Z"
   },
   {
    "duration": 48,
    "start_time": "2022-11-18T07:02:23.131Z"
   },
   {
    "duration": 49,
    "start_time": "2022-11-18T07:02:23.181Z"
   },
   {
    "duration": 41,
    "start_time": "2022-11-18T07:02:23.232Z"
   },
   {
    "duration": 380,
    "start_time": "2022-11-18T07:02:23.275Z"
   },
   {
    "duration": 400,
    "start_time": "2022-11-18T07:02:23.657Z"
   },
   {
    "duration": 96,
    "start_time": "2022-11-18T07:02:24.058Z"
   },
   {
    "duration": 20,
    "start_time": "2022-11-18T07:02:24.156Z"
   },
   {
    "duration": 30,
    "start_time": "2022-11-18T07:02:24.178Z"
   },
   {
    "duration": 17,
    "start_time": "2022-11-18T07:02:24.209Z"
   },
   {
    "duration": 65,
    "start_time": "2022-11-18T07:02:24.228Z"
   },
   {
    "duration": 18,
    "start_time": "2022-11-18T07:02:24.295Z"
   },
   {
    "duration": 10744,
    "start_time": "2022-11-18T07:02:24.315Z"
   },
   {
    "duration": 25,
    "start_time": "2022-11-18T07:02:35.062Z"
   },
   {
    "duration": 33,
    "start_time": "2022-11-18T07:02:35.090Z"
   },
   {
    "duration": 6529,
    "start_time": "2022-11-18T07:02:35.124Z"
   },
   {
    "duration": 4,
    "start_time": "2022-11-18T07:02:41.655Z"
   },
   {
    "duration": 44,
    "start_time": "2022-11-18T07:02:41.660Z"
   },
   {
    "duration": 80,
    "start_time": "2022-11-18T07:02:41.705Z"
   },
   {
    "duration": 909,
    "start_time": "2022-11-18T07:02:41.786Z"
   },
   {
    "duration": 5,
    "start_time": "2022-11-18T07:02:42.696Z"
   },
   {
    "duration": 267808,
    "start_time": "2022-11-18T07:03:06.586Z"
   },
   {
    "duration": 65489,
    "start_time": "2022-11-18T07:11:19.594Z"
   },
   {
    "duration": 67328,
    "start_time": "2022-11-18T07:17:02.494Z"
   },
   {
    "duration": 69045,
    "start_time": "2022-11-18T07:22:48.934Z"
   },
   {
    "duration": 66299,
    "start_time": "2022-11-18T07:24:56.527Z"
   },
   {
    "duration": 66375,
    "start_time": "2022-11-18T07:28:16.159Z"
   },
   {
    "duration": 1336,
    "start_time": "2022-11-18T07:31:17.063Z"
   },
   {
    "duration": 921,
    "start_time": "2022-11-18T07:31:18.401Z"
   },
   {
    "duration": 5,
    "start_time": "2022-11-18T07:31:19.323Z"
   },
   {
    "duration": 165,
    "start_time": "2022-11-18T07:31:19.330Z"
   },
   {
    "duration": 3,
    "start_time": "2022-11-18T07:31:19.497Z"
   },
   {
    "duration": 377,
    "start_time": "2022-11-18T07:31:19.502Z"
   },
   {
    "duration": 76,
    "start_time": "2022-11-18T07:31:19.881Z"
   },
   {
    "duration": 86,
    "start_time": "2022-11-18T07:31:19.958Z"
   },
   {
    "duration": 635,
    "start_time": "2022-11-18T07:31:20.045Z"
   },
   {
    "duration": 146,
    "start_time": "2022-11-18T07:31:20.681Z"
   },
   {
    "duration": 34,
    "start_time": "2022-11-18T07:31:20.829Z"
   },
   {
    "duration": 78,
    "start_time": "2022-11-18T07:31:20.864Z"
   },
   {
    "duration": 47,
    "start_time": "2022-11-18T07:31:20.943Z"
   },
   {
    "duration": 36,
    "start_time": "2022-11-18T07:31:20.993Z"
   },
   {
    "duration": 409,
    "start_time": "2022-11-18T07:31:21.031Z"
   },
   {
    "duration": 418,
    "start_time": "2022-11-18T07:31:21.442Z"
   },
   {
    "duration": 87,
    "start_time": "2022-11-18T07:31:21.862Z"
   },
   {
    "duration": 25,
    "start_time": "2022-11-18T07:31:21.951Z"
   },
   {
    "duration": 42,
    "start_time": "2022-11-18T07:31:21.977Z"
   },
   {
    "duration": 18,
    "start_time": "2022-11-18T07:31:22.021Z"
   },
   {
    "duration": 73,
    "start_time": "2022-11-18T07:31:22.040Z"
   },
   {
    "duration": 19,
    "start_time": "2022-11-18T07:31:22.114Z"
   },
   {
    "duration": 9796,
    "start_time": "2022-11-18T07:31:22.134Z"
   },
   {
    "duration": 17,
    "start_time": "2022-11-18T07:31:31.931Z"
   },
   {
    "duration": 49,
    "start_time": "2022-11-18T07:31:31.950Z"
   },
   {
    "duration": 6133,
    "start_time": "2022-11-18T07:31:32.001Z"
   },
   {
    "duration": 3,
    "start_time": "2022-11-18T07:31:38.136Z"
   },
   {
    "duration": 41,
    "start_time": "2022-11-18T07:31:38.141Z"
   },
   {
    "duration": 78,
    "start_time": "2022-11-18T07:31:38.184Z"
   },
   {
    "duration": 917,
    "start_time": "2022-11-18T07:31:38.264Z"
   },
   {
    "duration": 4,
    "start_time": "2022-11-18T07:31:39.183Z"
   },
   {
    "duration": 271500,
    "start_time": "2022-11-18T07:31:39.189Z"
   },
   {
    "duration": 67767,
    "start_time": "2022-11-18T07:36:10.691Z"
   },
   {
    "duration": 137169,
    "start_time": "2022-11-18T07:37:18.460Z"
   },
   {
    "duration": 49928,
    "start_time": "2022-11-18T07:39:35.630Z"
   },
   {
    "duration": 9,
    "start_time": "2022-11-18T07:40:25.559Z"
   },
   {
    "duration": 10,
    "start_time": "2022-11-18T07:40:25.576Z"
   },
   {
    "duration": 0,
    "start_time": "2022-11-18T07:40:25.590Z"
   },
   {
    "duration": 815,
    "start_time": "2022-11-18T07:40:31.093Z"
   },
   {
    "duration": 4,
    "start_time": "2022-11-18T07:41:02.759Z"
   },
   {
    "duration": 4,
    "start_time": "2022-11-18T07:41:11.976Z"
   },
   {
    "duration": 3,
    "start_time": "2022-11-18T07:41:48.593Z"
   },
   {
    "duration": 4,
    "start_time": "2022-11-18T07:41:54.833Z"
   },
   {
    "duration": 7,
    "start_time": "2022-11-18T07:43:17.192Z"
   },
   {
    "duration": 1317,
    "start_time": "2022-11-18T07:43:39.795Z"
   },
   {
    "duration": 936,
    "start_time": "2022-11-18T07:43:41.114Z"
   },
   {
    "duration": 5,
    "start_time": "2022-11-18T07:43:42.051Z"
   },
   {
    "duration": 181,
    "start_time": "2022-11-18T07:43:42.058Z"
   },
   {
    "duration": 4,
    "start_time": "2022-11-18T07:43:42.240Z"
   },
   {
    "duration": 477,
    "start_time": "2022-11-18T07:43:42.245Z"
   },
   {
    "duration": 97,
    "start_time": "2022-11-18T07:43:42.725Z"
   },
   {
    "duration": 110,
    "start_time": "2022-11-18T07:43:42.824Z"
   },
   {
    "duration": 707,
    "start_time": "2022-11-18T07:43:42.936Z"
   },
   {
    "duration": 176,
    "start_time": "2022-11-18T07:43:43.646Z"
   },
   {
    "duration": 37,
    "start_time": "2022-11-18T07:43:43.823Z"
   },
   {
    "duration": 54,
    "start_time": "2022-11-18T07:43:43.862Z"
   },
   {
    "duration": 41,
    "start_time": "2022-11-18T07:43:43.918Z"
   },
   {
    "duration": 55,
    "start_time": "2022-11-18T07:43:43.977Z"
   },
   {
    "duration": 462,
    "start_time": "2022-11-18T07:43:44.034Z"
   },
   {
    "duration": 490,
    "start_time": "2022-11-18T07:43:44.497Z"
   },
   {
    "duration": 94,
    "start_time": "2022-11-18T07:43:44.989Z"
   },
   {
    "duration": 12,
    "start_time": "2022-11-18T07:43:45.085Z"
   },
   {
    "duration": 44,
    "start_time": "2022-11-18T07:43:45.099Z"
   },
   {
    "duration": 37,
    "start_time": "2022-11-18T07:43:45.145Z"
   },
   {
    "duration": 61,
    "start_time": "2022-11-18T07:43:45.184Z"
   },
   {
    "duration": 36,
    "start_time": "2022-11-18T07:43:45.247Z"
   },
   {
    "duration": 10744,
    "start_time": "2022-11-18T07:43:45.285Z"
   },
   {
    "duration": 17,
    "start_time": "2022-11-18T07:43:56.030Z"
   },
   {
    "duration": 41,
    "start_time": "2022-11-18T07:43:56.049Z"
   },
   {
    "duration": 6353,
    "start_time": "2022-11-18T07:43:56.092Z"
   },
   {
    "duration": 3,
    "start_time": "2022-11-18T07:44:02.446Z"
   },
   {
    "duration": 41,
    "start_time": "2022-11-18T07:44:02.452Z"
   },
   {
    "duration": 86,
    "start_time": "2022-11-18T07:44:02.495Z"
   },
   {
    "duration": 958,
    "start_time": "2022-11-18T07:44:02.583Z"
   },
   {
    "duration": 5,
    "start_time": "2022-11-18T07:44:03.543Z"
   },
   {
    "duration": 361341,
    "start_time": "2022-11-18T07:44:03.550Z"
   },
   {
    "duration": 71154,
    "start_time": "2022-11-18T07:50:04.893Z"
   },
   {
    "duration": 1100629,
    "start_time": "2022-11-18T07:51:16.048Z"
   },
   {
    "duration": 581016,
    "start_time": "2022-11-18T08:09:36.679Z"
   },
   {
    "duration": 81,
    "start_time": "2022-11-18T08:19:17.697Z"
   },
   {
    "duration": 906,
    "start_time": "2022-11-18T08:19:17.779Z"
   },
   {
    "duration": 1220,
    "start_time": "2022-11-18T08:29:25.938Z"
   },
   {
    "duration": 941,
    "start_time": "2022-11-18T08:29:27.160Z"
   },
   {
    "duration": 5,
    "start_time": "2022-11-18T08:29:28.103Z"
   },
   {
    "duration": 206,
    "start_time": "2022-11-18T08:29:28.110Z"
   },
   {
    "duration": 3,
    "start_time": "2022-11-18T08:29:28.318Z"
   },
   {
    "duration": 388,
    "start_time": "2022-11-18T08:29:28.322Z"
   },
   {
    "duration": 83,
    "start_time": "2022-11-18T08:29:28.712Z"
   },
   {
    "duration": 82,
    "start_time": "2022-11-18T08:29:28.796Z"
   },
   {
    "duration": 635,
    "start_time": "2022-11-18T08:29:28.880Z"
   },
   {
    "duration": 156,
    "start_time": "2022-11-18T08:29:29.517Z"
   },
   {
    "duration": 34,
    "start_time": "2022-11-18T08:29:29.676Z"
   },
   {
    "duration": 40,
    "start_time": "2022-11-18T08:29:29.711Z"
   },
   {
    "duration": 49,
    "start_time": "2022-11-18T08:29:29.752Z"
   },
   {
    "duration": 35,
    "start_time": "2022-11-18T08:29:29.804Z"
   },
   {
    "duration": 422,
    "start_time": "2022-11-18T08:29:29.840Z"
   },
   {
    "duration": 428,
    "start_time": "2022-11-18T08:29:30.264Z"
   },
   {
    "duration": 93,
    "start_time": "2022-11-18T08:29:30.694Z"
   },
   {
    "duration": 11,
    "start_time": "2022-11-18T08:29:30.789Z"
   },
   {
    "duration": 64,
    "start_time": "2022-11-18T08:29:30.802Z"
   },
   {
    "duration": 17,
    "start_time": "2022-11-18T08:29:30.868Z"
   },
   {
    "duration": 73,
    "start_time": "2022-11-18T08:29:30.887Z"
   },
   {
    "duration": 18,
    "start_time": "2022-11-18T08:29:30.962Z"
   },
   {
    "duration": 10339,
    "start_time": "2022-11-18T08:29:30.981Z"
   },
   {
    "duration": 17,
    "start_time": "2022-11-18T08:29:41.322Z"
   },
   {
    "duration": 39,
    "start_time": "2022-11-18T08:29:41.340Z"
   },
   {
    "duration": 5863,
    "start_time": "2022-11-18T08:29:41.381Z"
   },
   {
    "duration": 4,
    "start_time": "2022-11-18T08:29:47.246Z"
   },
   {
    "duration": 59,
    "start_time": "2022-11-18T08:29:47.251Z"
   },
   {
    "duration": 78,
    "start_time": "2022-11-18T08:29:47.312Z"
   },
   {
    "duration": 902,
    "start_time": "2022-11-18T08:29:47.391Z"
   },
   {
    "duration": 5,
    "start_time": "2022-11-18T08:29:48.295Z"
   },
   {
    "duration": 271896,
    "start_time": "2022-11-18T08:29:48.301Z"
   },
   {
    "duration": 71150,
    "start_time": "2022-11-18T08:34:20.199Z"
   },
   {
    "duration": 1098329,
    "start_time": "2022-11-18T08:35:31.350Z"
   },
   {
    "duration": 642008,
    "start_time": "2022-11-18T08:53:49.681Z"
   },
   {
    "duration": 88,
    "start_time": "2022-11-18T09:04:31.691Z"
   },
   {
    "duration": 924,
    "start_time": "2022-11-18T09:04:31.780Z"
   },
   {
    "duration": 1330,
    "start_time": "2022-11-18T09:05:47.587Z"
   },
   {
    "duration": 924,
    "start_time": "2022-11-18T09:05:48.919Z"
   },
   {
    "duration": 5,
    "start_time": "2022-11-18T09:05:49.844Z"
   },
   {
    "duration": 180,
    "start_time": "2022-11-18T09:05:49.852Z"
   },
   {
    "duration": 3,
    "start_time": "2022-11-18T09:05:50.033Z"
   },
   {
    "duration": 369,
    "start_time": "2022-11-18T09:05:50.038Z"
   },
   {
    "duration": 75,
    "start_time": "2022-11-18T09:05:50.408Z"
   },
   {
    "duration": 71,
    "start_time": "2022-11-18T09:05:50.484Z"
   },
   {
    "duration": 654,
    "start_time": "2022-11-18T09:05:50.557Z"
   },
   {
    "duration": 176,
    "start_time": "2022-11-18T09:05:51.214Z"
   },
   {
    "duration": 35,
    "start_time": "2022-11-18T09:05:51.392Z"
   },
   {
    "duration": 51,
    "start_time": "2022-11-18T09:05:51.429Z"
   },
   {
    "duration": 38,
    "start_time": "2022-11-18T09:05:51.482Z"
   },
   {
    "duration": 59,
    "start_time": "2022-11-18T09:05:51.521Z"
   },
   {
    "duration": 425,
    "start_time": "2022-11-18T09:05:51.582Z"
   },
   {
    "duration": 425,
    "start_time": "2022-11-18T09:05:52.008Z"
   },
   {
    "duration": 96,
    "start_time": "2022-11-18T09:05:52.435Z"
   },
   {
    "duration": 12,
    "start_time": "2022-11-18T09:05:52.533Z"
   },
   {
    "duration": 60,
    "start_time": "2022-11-18T09:05:52.547Z"
   },
   {
    "duration": 19,
    "start_time": "2022-11-18T09:05:52.609Z"
   },
   {
    "duration": 73,
    "start_time": "2022-11-18T09:05:52.629Z"
   },
   {
    "duration": 21,
    "start_time": "2022-11-18T09:05:52.704Z"
   },
   {
    "duration": 10463,
    "start_time": "2022-11-18T09:05:52.727Z"
   },
   {
    "duration": 18,
    "start_time": "2022-11-18T09:06:03.192Z"
   },
   {
    "duration": 34,
    "start_time": "2022-11-18T09:06:03.211Z"
   },
   {
    "duration": 6621,
    "start_time": "2022-11-18T09:06:03.247Z"
   },
   {
    "duration": 7,
    "start_time": "2022-11-18T09:06:09.869Z"
   },
   {
    "duration": 51,
    "start_time": "2022-11-18T09:06:09.879Z"
   },
   {
    "duration": 72,
    "start_time": "2022-11-18T09:06:09.933Z"
   },
   {
    "duration": 966,
    "start_time": "2022-11-18T09:06:10.007Z"
   },
   {
    "duration": 5,
    "start_time": "2022-11-18T09:06:10.974Z"
   },
   {
    "duration": 990314,
    "start_time": "2022-11-18T09:06:10.981Z"
   },
   {
    "duration": 68367,
    "start_time": "2022-11-18T09:22:41.377Z"
   },
   {
    "duration": 1114593,
    "start_time": "2022-11-18T09:23:49.746Z"
   },
   {
    "duration": 516851,
    "start_time": "2022-11-18T09:42:24.340Z"
   },
   {
    "duration": 8,
    "start_time": "2022-11-18T09:51:01.193Z"
   },
   {
    "duration": 1001,
    "start_time": "2022-11-18T09:51:01.276Z"
   },
   {
    "duration": 157,
    "start_time": "2022-11-18T10:02:24.879Z"
   },
   {
    "duration": 4,
    "start_time": "2022-11-18T10:02:37.327Z"
   },
   {
    "duration": 8,
    "start_time": "2022-11-18T10:06:05.611Z"
   },
   {
    "duration": 1342,
    "start_time": "2022-11-18T10:09:26.440Z"
   },
   {
    "duration": 1016,
    "start_time": "2022-11-18T10:09:27.784Z"
   },
   {
    "duration": 6,
    "start_time": "2022-11-18T10:09:28.801Z"
   },
   {
    "duration": 178,
    "start_time": "2022-11-18T10:09:28.809Z"
   },
   {
    "duration": 3,
    "start_time": "2022-11-18T10:09:28.988Z"
   },
   {
    "duration": 397,
    "start_time": "2022-11-18T10:09:28.992Z"
   },
   {
    "duration": 74,
    "start_time": "2022-11-18T10:09:29.390Z"
   },
   {
    "duration": 79,
    "start_time": "2022-11-18T10:09:29.477Z"
   },
   {
    "duration": 685,
    "start_time": "2022-11-18T10:09:29.558Z"
   },
   {
    "duration": 160,
    "start_time": "2022-11-18T10:09:30.245Z"
   },
   {
    "duration": 35,
    "start_time": "2022-11-18T10:09:30.407Z"
   },
   {
    "duration": 54,
    "start_time": "2022-11-18T10:09:30.444Z"
   },
   {
    "duration": 65,
    "start_time": "2022-11-18T10:09:30.499Z"
   },
   {
    "duration": 84,
    "start_time": "2022-11-18T10:09:30.565Z"
   },
   {
    "duration": 446,
    "start_time": "2022-11-18T10:09:30.650Z"
   },
   {
    "duration": 422,
    "start_time": "2022-11-18T10:09:31.098Z"
   },
   {
    "duration": 94,
    "start_time": "2022-11-18T10:09:31.521Z"
   },
   {
    "duration": 12,
    "start_time": "2022-11-18T10:09:31.617Z"
   },
   {
    "duration": 98,
    "start_time": "2022-11-18T10:09:31.631Z"
   },
   {
    "duration": 19,
    "start_time": "2022-11-18T10:09:31.731Z"
   },
   {
    "duration": 62,
    "start_time": "2022-11-18T10:09:31.752Z"
   },
   {
    "duration": 19,
    "start_time": "2022-11-18T10:09:31.816Z"
   },
   {
    "duration": 10776,
    "start_time": "2022-11-18T10:09:31.837Z"
   },
   {
    "duration": 18,
    "start_time": "2022-11-18T10:09:42.615Z"
   },
   {
    "duration": 42,
    "start_time": "2022-11-18T10:09:42.635Z"
   },
   {
    "duration": 6467,
    "start_time": "2022-11-18T10:09:42.679Z"
   },
   {
    "duration": 4,
    "start_time": "2022-11-18T10:09:49.148Z"
   },
   {
    "duration": 45,
    "start_time": "2022-11-18T10:09:49.156Z"
   },
   {
    "duration": 92,
    "start_time": "2022-11-18T10:09:49.203Z"
   },
   {
    "duration": 978,
    "start_time": "2022-11-18T10:09:49.296Z"
   },
   {
    "duration": 5,
    "start_time": "2022-11-18T10:09:50.276Z"
   },
   {
    "duration": 418415,
    "start_time": "2022-11-18T10:09:50.282Z"
   },
   {
    "duration": 66577,
    "start_time": "2022-11-18T10:16:48.699Z"
   },
   {
    "duration": 1091752,
    "start_time": "2022-11-18T10:17:55.278Z"
   },
   {
    "duration": 513452,
    "start_time": "2022-11-18T10:36:07.032Z"
   },
   {
    "duration": 7,
    "start_time": "2022-11-18T10:44:40.486Z"
   },
   {
    "duration": 1005,
    "start_time": "2022-11-18T10:44:40.494Z"
   },
   {
    "duration": 3625,
    "start_time": "2022-11-19T10:24:58.287Z"
   },
   {
    "duration": 3270,
    "start_time": "2022-11-19T10:25:01.915Z"
   },
   {
    "duration": 5,
    "start_time": "2022-11-19T10:25:05.187Z"
   },
   {
    "duration": 161,
    "start_time": "2022-11-19T10:25:05.194Z"
   },
   {
    "duration": 4,
    "start_time": "2022-11-19T10:25:05.357Z"
   },
   {
    "duration": 506,
    "start_time": "2022-11-19T10:25:05.363Z"
   },
   {
    "duration": 89,
    "start_time": "2022-11-19T10:25:05.871Z"
   },
   {
    "duration": 78,
    "start_time": "2022-11-19T10:25:05.962Z"
   },
   {
    "duration": 693,
    "start_time": "2022-11-19T10:25:06.042Z"
   },
   {
    "duration": 153,
    "start_time": "2022-11-19T10:25:06.743Z"
   },
   {
    "duration": 39,
    "start_time": "2022-11-19T10:25:06.898Z"
   },
   {
    "duration": 41,
    "start_time": "2022-11-19T10:25:06.939Z"
   },
   {
    "duration": 65,
    "start_time": "2022-11-19T10:25:06.982Z"
   },
   {
    "duration": 33,
    "start_time": "2022-11-19T10:25:07.049Z"
   },
   {
    "duration": 478,
    "start_time": "2022-11-19T10:25:07.084Z"
   },
   {
    "duration": 450,
    "start_time": "2022-11-19T10:25:07.564Z"
   },
   {
    "duration": 110,
    "start_time": "2022-11-19T10:25:08.015Z"
   },
   {
    "duration": 14,
    "start_time": "2022-11-19T10:25:08.127Z"
   },
   {
    "duration": 52,
    "start_time": "2022-11-19T10:25:08.143Z"
   },
   {
    "duration": 42,
    "start_time": "2022-11-19T10:25:08.196Z"
   },
   {
    "duration": 90,
    "start_time": "2022-11-19T10:25:08.242Z"
   },
   {
    "duration": 23,
    "start_time": "2022-11-19T10:25:08.334Z"
   },
   {
    "duration": 10061,
    "start_time": "2022-11-19T10:25:08.359Z"
   },
   {
    "duration": 24,
    "start_time": "2022-11-19T10:25:18.421Z"
   },
   {
    "duration": 30,
    "start_time": "2022-11-19T10:25:18.447Z"
   },
   {
    "duration": 6323,
    "start_time": "2022-11-19T10:25:18.480Z"
   },
   {
    "duration": 4,
    "start_time": "2022-11-19T10:25:24.807Z"
   },
   {
    "duration": 33,
    "start_time": "2022-11-19T10:25:24.822Z"
   },
   {
    "duration": 96,
    "start_time": "2022-11-19T10:25:24.857Z"
   },
   {
    "duration": 16,
    "start_time": "2022-11-19T10:25:26.388Z"
   },
   {
    "duration": 86,
    "start_time": "2022-11-19T10:25:57.213Z"
   }
  ],
  "kernelspec": {
   "display_name": "Python 3 (ipykernel)",
   "language": "python",
   "name": "python3"
  },
  "language_info": {
   "codemirror_mode": {
    "name": "ipython",
    "version": 3
   },
   "file_extension": ".py",
   "mimetype": "text/x-python",
   "name": "python",
   "nbconvert_exporter": "python",
   "pygments_lexer": "ipython3",
   "version": "3.9.15"
  },
  "toc": {
   "base_numbering": 1,
   "nav_menu": {},
   "number_sections": true,
   "sideBar": true,
   "skip_h1_title": true,
   "title_cell": "Table of Contents",
   "title_sidebar": "Contents",
   "toc_cell": false,
   "toc_position": {},
   "toc_section_display": true,
   "toc_window_display": true
  }
 },
 "nbformat": 4,
 "nbformat_minor": 2
}
