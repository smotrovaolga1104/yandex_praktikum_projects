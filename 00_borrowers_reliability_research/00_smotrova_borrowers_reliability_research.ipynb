{
 "cells": [
  {
   "cell_type": "markdown",
   "id": "c81daeeb",
   "metadata": {
    "tags": []
   },
   "source": [
    "# Исследование надежности заемщиков\n",
    "\n",
    "## Введение\n",
    "\n",
    "Цель проекта состоит в установлении зависимости между семейным положением и количеством детей клиента банка и фактом погашения кредита в срок. Полученные выводы будут учтены при построении модели кредитного скоринга.\n",
    "\n",
    "Для анализа предоставлена статистика, содержащая следующую информацию о заемщиках:\n",
    "- `children` — количество детей в семье\n",
    "- `days_employed` — общий трудовой стаж в днях\n",
    "- `dob_years` — возраст клиента в годах\n",
    "- `education` — уровень образования клиента\n",
    "- `education_id` — идентификатор уровня образования\n",
    "- `family_status` — семейное положение\n",
    "- `family_status_id` — идентификатор семейного положения\n",
    "- `gender` — пол клиента\n",
    "- `income_type` — тип занятости\n",
    "- `debt` — имел ли задолженность по возврату кредитов\n",
    "- `total_income` — ежемесячный доход\n",
    "- `purpose` — цель получения кредита"
   ]
  },
  {
   "cell_type": "code",
   "execution_count": 1,
   "id": "273972f9-f8c3-4ea8-9e42-b69d684d39ba",
   "metadata": {},
   "outputs": [],
   "source": [
    "# Импорт используемых библиотек\n",
    "import pandas as pd\n",
    "import seaborn as sbn\n",
    "import matplotlib.pyplot as plt"
   ]
  },
  {
   "cell_type": "markdown",
   "id": "744d7639",
   "metadata": {
    "tags": []
   },
   "source": [
    "## Обзор данных"
   ]
  },
  {
   "cell_type": "code",
   "execution_count": 2,
   "id": "7bcf75c9",
   "metadata": {
    "tags": []
   },
   "outputs": [
    {
     "data": {
      "text/html": [
       "<div>\n",
       "<style scoped>\n",
       "    .dataframe tbody tr th:only-of-type {\n",
       "        vertical-align: middle;\n",
       "    }\n",
       "\n",
       "    .dataframe tbody tr th {\n",
       "        vertical-align: top;\n",
       "    }\n",
       "\n",
       "    .dataframe thead th {\n",
       "        text-align: right;\n",
       "    }\n",
       "</style>\n",
       "<table border=\"1\" class=\"dataframe\">\n",
       "  <thead>\n",
       "    <tr style=\"text-align: right;\">\n",
       "      <th></th>\n",
       "      <th>children</th>\n",
       "      <th>days_employed</th>\n",
       "      <th>dob_years</th>\n",
       "      <th>education</th>\n",
       "      <th>education_id</th>\n",
       "      <th>family_status</th>\n",
       "      <th>family_status_id</th>\n",
       "      <th>gender</th>\n",
       "      <th>income_type</th>\n",
       "      <th>debt</th>\n",
       "      <th>total_income</th>\n",
       "      <th>purpose</th>\n",
       "    </tr>\n",
       "  </thead>\n",
       "  <tbody>\n",
       "    <tr>\n",
       "      <th>0</th>\n",
       "      <td>1</td>\n",
       "      <td>-8437.673028</td>\n",
       "      <td>42</td>\n",
       "      <td>высшее</td>\n",
       "      <td>0</td>\n",
       "      <td>женат / замужем</td>\n",
       "      <td>0</td>\n",
       "      <td>F</td>\n",
       "      <td>сотрудник</td>\n",
       "      <td>0</td>\n",
       "      <td>253875.639453</td>\n",
       "      <td>покупка жилья</td>\n",
       "    </tr>\n",
       "    <tr>\n",
       "      <th>1</th>\n",
       "      <td>1</td>\n",
       "      <td>-4024.803754</td>\n",
       "      <td>36</td>\n",
       "      <td>среднее</td>\n",
       "      <td>1</td>\n",
       "      <td>женат / замужем</td>\n",
       "      <td>0</td>\n",
       "      <td>F</td>\n",
       "      <td>сотрудник</td>\n",
       "      <td>0</td>\n",
       "      <td>112080.014102</td>\n",
       "      <td>приобретение автомобиля</td>\n",
       "    </tr>\n",
       "    <tr>\n",
       "      <th>2</th>\n",
       "      <td>0</td>\n",
       "      <td>-5623.422610</td>\n",
       "      <td>33</td>\n",
       "      <td>Среднее</td>\n",
       "      <td>1</td>\n",
       "      <td>женат / замужем</td>\n",
       "      <td>0</td>\n",
       "      <td>M</td>\n",
       "      <td>сотрудник</td>\n",
       "      <td>0</td>\n",
       "      <td>145885.952297</td>\n",
       "      <td>покупка жилья</td>\n",
       "    </tr>\n",
       "    <tr>\n",
       "      <th>3</th>\n",
       "      <td>3</td>\n",
       "      <td>-4124.747207</td>\n",
       "      <td>32</td>\n",
       "      <td>среднее</td>\n",
       "      <td>1</td>\n",
       "      <td>женат / замужем</td>\n",
       "      <td>0</td>\n",
       "      <td>M</td>\n",
       "      <td>сотрудник</td>\n",
       "      <td>0</td>\n",
       "      <td>267628.550329</td>\n",
       "      <td>дополнительное образование</td>\n",
       "    </tr>\n",
       "    <tr>\n",
       "      <th>4</th>\n",
       "      <td>0</td>\n",
       "      <td>340266.072047</td>\n",
       "      <td>53</td>\n",
       "      <td>среднее</td>\n",
       "      <td>1</td>\n",
       "      <td>гражданский брак</td>\n",
       "      <td>1</td>\n",
       "      <td>F</td>\n",
       "      <td>пенсионер</td>\n",
       "      <td>0</td>\n",
       "      <td>158616.077870</td>\n",
       "      <td>сыграть свадьбу</td>\n",
       "    </tr>\n",
       "    <tr>\n",
       "      <th>5</th>\n",
       "      <td>0</td>\n",
       "      <td>-926.185831</td>\n",
       "      <td>27</td>\n",
       "      <td>высшее</td>\n",
       "      <td>0</td>\n",
       "      <td>гражданский брак</td>\n",
       "      <td>1</td>\n",
       "      <td>M</td>\n",
       "      <td>компаньон</td>\n",
       "      <td>0</td>\n",
       "      <td>255763.565419</td>\n",
       "      <td>покупка жилья</td>\n",
       "    </tr>\n",
       "    <tr>\n",
       "      <th>6</th>\n",
       "      <td>0</td>\n",
       "      <td>-2879.202052</td>\n",
       "      <td>43</td>\n",
       "      <td>высшее</td>\n",
       "      <td>0</td>\n",
       "      <td>женат / замужем</td>\n",
       "      <td>0</td>\n",
       "      <td>F</td>\n",
       "      <td>компаньон</td>\n",
       "      <td>0</td>\n",
       "      <td>240525.971920</td>\n",
       "      <td>операции с жильем</td>\n",
       "    </tr>\n",
       "    <tr>\n",
       "      <th>7</th>\n",
       "      <td>0</td>\n",
       "      <td>-152.779569</td>\n",
       "      <td>50</td>\n",
       "      <td>СРЕДНЕЕ</td>\n",
       "      <td>1</td>\n",
       "      <td>женат / замужем</td>\n",
       "      <td>0</td>\n",
       "      <td>M</td>\n",
       "      <td>сотрудник</td>\n",
       "      <td>0</td>\n",
       "      <td>135823.934197</td>\n",
       "      <td>образование</td>\n",
       "    </tr>\n",
       "    <tr>\n",
       "      <th>8</th>\n",
       "      <td>2</td>\n",
       "      <td>-6929.865299</td>\n",
       "      <td>35</td>\n",
       "      <td>ВЫСШЕЕ</td>\n",
       "      <td>0</td>\n",
       "      <td>гражданский брак</td>\n",
       "      <td>1</td>\n",
       "      <td>F</td>\n",
       "      <td>сотрудник</td>\n",
       "      <td>0</td>\n",
       "      <td>95856.832424</td>\n",
       "      <td>на проведение свадьбы</td>\n",
       "    </tr>\n",
       "    <tr>\n",
       "      <th>9</th>\n",
       "      <td>0</td>\n",
       "      <td>-2188.756445</td>\n",
       "      <td>41</td>\n",
       "      <td>среднее</td>\n",
       "      <td>1</td>\n",
       "      <td>женат / замужем</td>\n",
       "      <td>0</td>\n",
       "      <td>M</td>\n",
       "      <td>сотрудник</td>\n",
       "      <td>0</td>\n",
       "      <td>144425.938277</td>\n",
       "      <td>покупка жилья для семьи</td>\n",
       "    </tr>\n",
       "  </tbody>\n",
       "</table>\n",
       "</div>"
      ],
      "text/plain": [
       "   children  days_employed  dob_years education  education_id  \\\n",
       "0         1   -8437.673028         42    высшее             0   \n",
       "1         1   -4024.803754         36   среднее             1   \n",
       "2         0   -5623.422610         33   Среднее             1   \n",
       "3         3   -4124.747207         32   среднее             1   \n",
       "4         0  340266.072047         53   среднее             1   \n",
       "5         0    -926.185831         27    высшее             0   \n",
       "6         0   -2879.202052         43    высшее             0   \n",
       "7         0    -152.779569         50   СРЕДНЕЕ             1   \n",
       "8         2   -6929.865299         35    ВЫСШЕЕ             0   \n",
       "9         0   -2188.756445         41   среднее             1   \n",
       "\n",
       "      family_status  family_status_id gender income_type  debt   total_income  \\\n",
       "0   женат / замужем                 0      F   сотрудник     0  253875.639453   \n",
       "1   женат / замужем                 0      F   сотрудник     0  112080.014102   \n",
       "2   женат / замужем                 0      M   сотрудник     0  145885.952297   \n",
       "3   женат / замужем                 0      M   сотрудник     0  267628.550329   \n",
       "4  гражданский брак                 1      F   пенсионер     0  158616.077870   \n",
       "5  гражданский брак                 1      M   компаньон     0  255763.565419   \n",
       "6   женат / замужем                 0      F   компаньон     0  240525.971920   \n",
       "7   женат / замужем                 0      M   сотрудник     0  135823.934197   \n",
       "8  гражданский брак                 1      F   сотрудник     0   95856.832424   \n",
       "9   женат / замужем                 0      M   сотрудник     0  144425.938277   \n",
       "\n",
       "                      purpose  \n",
       "0               покупка жилья  \n",
       "1     приобретение автомобиля  \n",
       "2               покупка жилья  \n",
       "3  дополнительное образование  \n",
       "4             сыграть свадьбу  \n",
       "5               покупка жилья  \n",
       "6           операции с жильем  \n",
       "7                 образование  \n",
       "8       на проведение свадьбы  \n",
       "9     покупка жилья для семьи  "
      ]
     },
     "metadata": {},
     "output_type": "display_data"
    },
    {
     "name": "stdout",
     "output_type": "stream",
     "text": [
      "<class 'pandas.core.frame.DataFrame'>\n",
      "RangeIndex: 21525 entries, 0 to 21524\n",
      "Data columns (total 12 columns):\n",
      " #   Column            Non-Null Count  Dtype  \n",
      "---  ------            --------------  -----  \n",
      " 0   children          21525 non-null  int64  \n",
      " 1   days_employed     19351 non-null  float64\n",
      " 2   dob_years         21525 non-null  int64  \n",
      " 3   education         21525 non-null  object \n",
      " 4   education_id      21525 non-null  int64  \n",
      " 5   family_status     21525 non-null  object \n",
      " 6   family_status_id  21525 non-null  int64  \n",
      " 7   gender            21525 non-null  object \n",
      " 8   income_type       21525 non-null  object \n",
      " 9   debt              21525 non-null  int64  \n",
      " 10  total_income      19351 non-null  float64\n",
      " 11  purpose           21525 non-null  object \n",
      "dtypes: float64(2), int64(5), object(5)\n",
      "memory usage: 2.0+ MB\n",
      "None\n"
     ]
    }
   ],
   "source": [
    "# Загрузка данных:\n",
    "try:\n",
    "    data = pd.read_csv('/datasets/data.csv')\n",
    "except:\n",
    "    data = pd.read_csv('datasets/data_first.csv')\n",
    "\n",
    "# Общая информация:\n",
    "display(data.head(10))\n",
    "print(data.info())"
   ]
  },
  {
   "cell_type": "markdown",
   "id": "1645c378-0fea-4db3-8110-a518efaf89fb",
   "metadata": {},
   "source": [
    "**Наблюдения:**\n",
    "- В предоставленных данных имеется ок. 21,5 тыс. наблюдений, в данных присутствуют пропуски.\n",
    "- В колонке с образованием клиента есть неявные дубликаты (различное написание одного и того же), однако колонка с идентификатором уровня образования устраняет эту проблему.\n",
    "- Данные о трудовом стаже и общем доходе представлены с избыточной точностью (можно перевести в целочисленный тип для экономи памяти).\n",
    "- В колонке \"цель кредита\" присутствуют неявные дубликаты (разные формулировки одной и той же цели).\n",
    "\n",
    "Для дальнейшего анализа необходимо провести предобработку данных."
   ]
  },
  {
   "cell_type": "markdown",
   "id": "333ec665",
   "metadata": {
    "deletable": false,
    "id": "333ec665"
   },
   "source": [
    "## Предобработка данных"
   ]
  },
  {
   "cell_type": "markdown",
   "id": "02d92d53",
   "metadata": {
    "tags": []
   },
   "source": [
    "### Удаление пропусков"
   ]
  },
  {
   "cell_type": "markdown",
   "id": "cd84967c",
   "metadata": {
    "tags": []
   },
   "source": [
    "Рассмотрим число пропусков в данных по полям:"
   ]
  },
  {
   "cell_type": "code",
   "execution_count": 3,
   "id": "7f9b2309",
   "metadata": {
    "tags": []
   },
   "outputs": [
    {
     "data": {
      "text/plain": [
       "children             0.0\n",
       "days_employed       10.1\n",
       "dob_years            0.0\n",
       "education            0.0\n",
       "education_id         0.0\n",
       "family_status        0.0\n",
       "family_status_id     0.0\n",
       "gender               0.0\n",
       "income_type          0.0\n",
       "debt                 0.0\n",
       "total_income        10.1\n",
       "purpose              0.0\n",
       "dtype: float64"
      ]
     },
     "execution_count": 3,
     "metadata": {},
     "output_type": "execute_result"
    }
   ],
   "source": [
    "round(data.isna().sum() / len(data) * 100, 3)"
   ]
  },
  {
   "cell_type": "markdown",
   "id": "db86e27b",
   "metadata": {
    "tags": []
   },
   "source": [
    "Пропуски есть в двух столбцах (10% от выборки) — `days_employed` и `total_income`. Возможно, получится восстановить пропущенные значения на основании других имеющихся данных, например, типе занятости. Рассмотрим медианные значения дохода и стажа в зависимости от типа занятости:"
   ]
  },
  {
   "cell_type": "code",
   "execution_count": 4,
   "id": "84c662a5-fab2-41d8-bcee-9e6b9a75f9f0",
   "metadata": {},
   "outputs": [
    {
     "data": {
      "text/html": [
       "<div>\n",
       "<style scoped>\n",
       "    .dataframe tbody tr th:only-of-type {\n",
       "        vertical-align: middle;\n",
       "    }\n",
       "\n",
       "    .dataframe tbody tr th {\n",
       "        vertical-align: top;\n",
       "    }\n",
       "\n",
       "    .dataframe thead th {\n",
       "        text-align: right;\n",
       "    }\n",
       "</style>\n",
       "<table border=\"1\" class=\"dataframe\">\n",
       "  <thead>\n",
       "    <tr style=\"text-align: right;\">\n",
       "      <th></th>\n",
       "      <th>days_employed</th>\n",
       "      <th>total_income</th>\n",
       "    </tr>\n",
       "    <tr>\n",
       "      <th>income_type</th>\n",
       "      <th></th>\n",
       "      <th></th>\n",
       "    </tr>\n",
       "  </thead>\n",
       "  <tbody>\n",
       "    <tr>\n",
       "      <th>безработный</th>\n",
       "      <td>366413.652744</td>\n",
       "      <td>131339.751676</td>\n",
       "    </tr>\n",
       "    <tr>\n",
       "      <th>в декрете</th>\n",
       "      <td>-3296.759962</td>\n",
       "      <td>53829.130729</td>\n",
       "    </tr>\n",
       "    <tr>\n",
       "      <th>госслужащий</th>\n",
       "      <td>-2689.368353</td>\n",
       "      <td>150447.935283</td>\n",
       "    </tr>\n",
       "    <tr>\n",
       "      <th>компаньон</th>\n",
       "      <td>-1547.382223</td>\n",
       "      <td>172357.950966</td>\n",
       "    </tr>\n",
       "    <tr>\n",
       "      <th>пенсионер</th>\n",
       "      <td>365213.306266</td>\n",
       "      <td>118514.486412</td>\n",
       "    </tr>\n",
       "    <tr>\n",
       "      <th>предприниматель</th>\n",
       "      <td>-520.848083</td>\n",
       "      <td>499163.144947</td>\n",
       "    </tr>\n",
       "    <tr>\n",
       "      <th>сотрудник</th>\n",
       "      <td>-1574.202821</td>\n",
       "      <td>142594.396847</td>\n",
       "    </tr>\n",
       "    <tr>\n",
       "      <th>студент</th>\n",
       "      <td>-578.751554</td>\n",
       "      <td>98201.625314</td>\n",
       "    </tr>\n",
       "  </tbody>\n",
       "</table>\n",
       "</div>"
      ],
      "text/plain": [
       "                 days_employed   total_income\n",
       "income_type                                  \n",
       "безработный      366413.652744  131339.751676\n",
       "в декрете         -3296.759962   53829.130729\n",
       "госслужащий       -2689.368353  150447.935283\n",
       "компаньон         -1547.382223  172357.950966\n",
       "пенсионер        365213.306266  118514.486412\n",
       "предприниматель    -520.848083  499163.144947\n",
       "сотрудник         -1574.202821  142594.396847\n",
       "студент            -578.751554   98201.625314"
      ]
     },
     "execution_count": 4,
     "metadata": {},
     "output_type": "execute_result"
    }
   ],
   "source": [
    "data.pivot_table(index = 'income_type', values = ['total_income', 'days_employed'], aggfunc='median')"
   ]
  },
  {
   "cell_type": "markdown",
   "id": "cd8bdcd1-6ccc-449e-a3ee-5a0d09edcab9",
   "metadata": {},
   "source": [
    "Видим, что медианные значения для стажа и дохода действительно разнятся в зависимости от типа занятости. Таким образом, предлагается заполнить пропущенные значения медианами по своему типу занятости.\n",
    "\n",
    "Заметим, что медианы для стажа отрицательны для всех категорий, кроме безработных и пенсионеров. При этом по модулю стаж безработных и пенсионеров в сотни раз больше, чем для остальных типов занятости. Эти аномалии будут обработаны позднее."
   ]
  },
  {
   "cell_type": "code",
   "execution_count": 5,
   "id": "42006a93",
   "metadata": {
    "tags": []
   },
   "outputs": [],
   "source": [
    "# Заполняем пропуски:\n",
    "for t in data['income_type'].unique():\n",
    "    # Общих доход:\n",
    "    data.loc[(data['income_type'] == t) & (data['total_income'].isna()), 'total_income'] = \\\n",
    "    data.loc[(data['income_type'] == t), 'total_income'].median()\n",
    "    # Общий стаж:\n",
    "    data.loc[(data['income_type'] == t) & (data['days_employed'].isna()), 'days_employed'] = \\\n",
    "    data.loc[(data['income_type'] == t), 'days_employed'].median()"
   ]
  },
  {
   "cell_type": "markdown",
   "id": "89da5ece",
   "metadata": {
    "tags": []
   },
   "source": [
    "### Обработка аномальных значений"
   ]
  },
  {
   "cell_type": "markdown",
   "id": "57964554",
   "metadata": {
    "tags": []
   },
   "source": [
    "Как было замечено ранее, медианные значения для стажа были отрицательны. Рассмотрим распределение стажа, чтобы выяснить, как лучше устранить аномалию:"
   ]
  },
  {
   "cell_type": "code",
   "execution_count": 6,
   "id": "cb0662f1-5db5-4c22-aa32-eb828a6988c8",
   "metadata": {},
   "outputs": [
    {
     "data": {
      "image/png": "[encoded data removed]",
      "text/plain": [
       "<Figure size 640x480 with 1 Axes>"
      ]
     },
     "metadata": {},
     "output_type": "display_data"
    }
   ],
   "source": [
    "sbn.histplot(data = data,\n",
    "            x='days_employed')\n",
    "plt.ylabel('Частота в ед.')\n",
    "plt.xlabel('Трудовой стаж в днях')\n",
    "plt.title('Распределение трудового стажа')\n",
    "plt.show()"
   ]
  },
  {
   "cell_type": "markdown",
   "id": "5d722354-a04c-465f-a8cf-4638966dbab9",
   "metadata": {},
   "source": [
    "Распределение не очень показательное из-за больших значений бля пенсионеров и безработных, однако можно заметить, что все значения для остальных категорий отрицательны. Поэтому можно заменить их абсолютным значением. Для аномально больших по модулю значений стажа среди пенсионеров и безработных сложно предложить разумный вариант устранения (неизвестно, что привело к возникновению проблемы), поэтому оставим эти значения как есть."
   ]
  },
  {
   "cell_type": "code",
   "execution_count": 7,
   "id": "f6f055bf",
   "metadata": {
    "tags": []
   },
   "outputs": [],
   "source": [
    "# Меняем знак на трудовом стаже:\n",
    "data['days_employed'] = data['days_employed'].abs()"
   ]
  },
  {
   "cell_type": "markdown",
   "id": "d8a9f147",
   "metadata": {
    "tags": []
   },
   "source": [
    "Рассмотрим остальные столбцы на предмет аномальных значений:"
   ]
  },
  {
   "cell_type": "code",
   "execution_count": 8,
   "id": "ef5056eb",
   "metadata": {
    "tags": []
   },
   "outputs": [
    {
     "name": "stdout",
     "output_type": "stream",
     "text": [
      "Уникальные значения в колонке children\n",
      "[ 1  0  3  2 -1  4 20  5]\n",
      "-------------------------------\n",
      "Уникальные значения в колонке education\n",
      "['высшее' 'среднее' 'Среднее' 'СРЕДНЕЕ' 'ВЫСШЕЕ' 'неоконченное высшее'\n",
      " 'начальное' 'Высшее' 'НЕОКОНЧЕННОЕ ВЫСШЕЕ' 'Неоконченное высшее'\n",
      " 'НАЧАЛЬНОЕ' 'Начальное' 'Ученая степень' 'УЧЕНАЯ СТЕПЕНЬ'\n",
      " 'ученая степень']\n",
      "-------------------------------\n",
      "Уникальные значения в колонке education_id\n",
      "[0 1 2 3 4]\n",
      "-------------------------------\n",
      "Уникальные значения в колонке family_status\n",
      "['женат / замужем' 'гражданский брак' 'вдовец / вдова' 'в разводе'\n",
      " 'Не женат / не замужем']\n",
      "-------------------------------\n",
      "Уникальные значения в колонке family_status_id\n",
      "[0 1 2 3 4]\n",
      "-------------------------------\n",
      "Уникальные значения в колонке gender\n",
      "['F' 'M' 'XNA']\n",
      "-------------------------------\n",
      "Уникальные значения в колонке debt\n",
      "[0 1]\n",
      "-------------------------------\n",
      "Уникальные значения в колонке purpose\n",
      "['покупка жилья' 'приобретение автомобиля' 'дополнительное образование'\n",
      " 'сыграть свадьбу' 'операции с жильем' 'образование'\n",
      " 'на проведение свадьбы' 'покупка жилья для семьи' 'покупка недвижимости'\n",
      " 'покупка коммерческой недвижимости' 'покупка жилой недвижимости'\n",
      " 'строительство собственной недвижимости' 'недвижимость'\n",
      " 'строительство недвижимости' 'на покупку подержанного автомобиля'\n",
      " 'на покупку своего автомобиля' 'операции с коммерческой недвижимостью'\n",
      " 'строительство жилой недвижимости' 'жилье'\n",
      " 'операции со своей недвижимостью' 'автомобили' 'заняться образованием'\n",
      " 'сделка с подержанным автомобилем' 'получение образования' 'автомобиль'\n",
      " 'свадьба' 'получение дополнительного образования' 'покупка своего жилья'\n",
      " 'операции с недвижимостью' 'получение высшего образования'\n",
      " 'свой автомобиль' 'сделка с автомобилем' 'профильное образование'\n",
      " 'высшее образование' 'покупка жилья для сдачи' 'на покупку автомобиля'\n",
      " 'ремонт жилью' 'заняться высшим образованием']\n",
      "-------------------------------\n"
     ]
    }
   ],
   "source": [
    "cols_to_analyse = ['children', \n",
    "                   'education',\n",
    "                   'education_id', \n",
    "                   'family_status',\n",
    "                   'family_status_id',\n",
    "                   'gender', \n",
    "                   'debt',\n",
    "                   'purpose']\n",
    "for i in cols_to_analyse:\n",
    "    print('Уникальные значения в колонке', i)\n",
    "    print(data[i].unique())\n",
    "    print('-------------------------------')"
   ]
  },
  {
   "cell_type": "markdown",
   "id": "40b9ebf2",
   "metadata": {
    "tags": []
   },
   "source": [
    "- Заметим, что в столбце `children` есть два аномальных значения (-1 и 20). Найдем их долю:"
   ]
  },
  {
   "cell_type": "code",
   "execution_count": 9,
   "id": "128947d2-c10b-4d68-b2f0-a2a4e0991063",
   "metadata": {},
   "outputs": [
    {
     "data": {
      "text/plain": [
       " 0     65.732869\n",
       " 1     22.383275\n",
       " 2      9.547038\n",
       " 3      1.533101\n",
       " 20     0.353078\n",
       "-1      0.218351\n",
       " 4      0.190476\n",
       " 5      0.041812\n",
       "Name: children, dtype: float64"
      ]
     },
     "execution_count": 9,
     "metadata": {},
     "output_type": "execute_result"
    }
   ],
   "source": [
    "data['children'].value_counts(normalize=True)*100"
   ]
  },
  {
   "cell_type": "markdown",
   "id": "bbefbbbf-7b06-455a-97c1-5c0a66057f0f",
   "metadata": {},
   "source": [
    "В совокупности число аномалий не превышет 1% от выборки, удалим такие значения."
   ]
  },
  {
   "cell_type": "code",
   "execution_count": 10,
   "id": "3ff9801d",
   "metadata": {
    "tags": []
   },
   "outputs": [],
   "source": [
    "data = data[(data['children'] != -1) & (data['children'] != 20)]"
   ]
  },
  {
   "cell_type": "markdown",
   "id": "7756ca36-91ae-46f6-951b-6ce477cbca9c",
   "metadata": {},
   "source": [
    "- Несмотря на различное написание, число категорий в уровне образования и в идентификаторе уровня образования совпадают, т.е. при необходимости можно ориентироваться на идентификатор.\n",
    "- Проблем в категориях семейного положения нет.\n",
    "- Приустствует странное значение в коолонке пола. Найдем долю наблюдений с таким признаком:"
   ]
  },
  {
   "cell_type": "code",
   "execution_count": 11,
   "id": "34426690-7526-47e2-a568-1937b7bb231d",
   "metadata": {},
   "outputs": [
    {
     "data": {
      "text/plain": [
       "F      66.134006\n",
       "M      33.861321\n",
       "XNA     0.004672\n",
       "Name: gender, dtype: float64"
      ]
     },
     "execution_count": 11,
     "metadata": {},
     "output_type": "execute_result"
    }
   ],
   "source": [
    "data['gender'].value_counts(normalize=True)*100"
   ]
  },
  {
   "cell_type": "markdown",
   "id": "8665f948-46a9-47d7-92a0-3776de4967a3",
   "metadata": {},
   "source": [
    "Количество таких наблюдений мизерно, удалим их из датасета."
   ]
  },
  {
   "cell_type": "code",
   "execution_count": 12,
   "id": "377b9087-a6db-4f2f-8de7-8dc813bc68c0",
   "metadata": {},
   "outputs": [],
   "source": [
    "data = data[data['gender'] != 'XNA']"
   ]
  },
  {
   "cell_type": "markdown",
   "id": "ad6c83fb-89cf-42cf-ad41-9e639b906396",
   "metadata": {},
   "source": [
    "- Значения в колонке `debt` только 0 и 1, т.е. фиксируется не количество просрочек, а только факт их допущения.\n",
    "- Среди целей получения кредита много разных формулировок для одной и той же цели; можно ввести катгоризацию для упрощения анализа."
   ]
  },
  {
   "cell_type": "markdown",
   "id": "ddc81e43",
   "metadata": {
    "tags": []
   },
   "source": [
    "### Изменение типов данных"
   ]
  },
  {
   "cell_type": "markdown",
   "id": "42d19d24",
   "metadata": {
    "tags": []
   },
   "source": [
    "Ранее было замечено, что данные о трудовом стаже и общем доходе представлены с избыточной точностью. Переведем их в целочисленный тип для экономии памяти:"
   ]
  },
  {
   "cell_type": "code",
   "execution_count": 13,
   "id": "920b65ad",
   "metadata": {
    "tags": []
   },
   "outputs": [],
   "source": [
    "data['total_income'] = data['total_income'].astype(int)\n",
    "data['days_employed'] = data['days_employed'].astype(int)"
   ]
  },
  {
   "cell_type": "markdown",
   "id": "80c420ba",
   "metadata": {
    "tags": []
   },
   "source": [
    "### Обработка дубликатов\n",
    "\n",
    "Ранее отметили, что в колонке с уровнем образования присутствуют неявные дубликаты (написание со строчной/заглавной буквы). Унифицируем написание признаков:"
   ]
  },
  {
   "cell_type": "code",
   "execution_count": 14,
   "id": "a9f8e2bf",
   "metadata": {
    "tags": []
   },
   "outputs": [],
   "source": [
    "data['education'] = data['education'].str.lower()"
   ]
  },
  {
   "cell_type": "markdown",
   "id": "dc587695",
   "metadata": {
    "tags": []
   },
   "source": [
    "Теперь проверим датасет на наличие полных дубликатов в записях:"
   ]
  },
  {
   "cell_type": "code",
   "execution_count": 15,
   "id": "3ee445e4",
   "metadata": {
    "tags": []
   },
   "outputs": [
    {
     "data": {
      "text/plain": [
       "71"
      ]
     },
     "execution_count": 15,
     "metadata": {},
     "output_type": "execute_result"
    }
   ],
   "source": [
    "data.duplicated().sum()"
   ]
  },
  {
   "cell_type": "markdown",
   "id": "9771a76c",
   "metadata": {
    "tags": []
   },
   "source": [
    "Удалим явыные дубликаты:"
   ]
  },
  {
   "cell_type": "code",
   "execution_count": 16,
   "id": "8575fe05",
   "metadata": {
    "tags": []
   },
   "outputs": [],
   "source": [
    "data = data.drop_duplicates()"
   ]
  },
  {
   "cell_type": "markdown",
   "id": "9904cf55",
   "metadata": {
    "tags": []
   },
   "source": [
    "### Категоризация данных"
   ]
  },
  {
   "cell_type": "markdown",
   "id": "72fcc8a2",
   "metadata": {
    "tags": []
   },
   "source": [
    "Для упрощения анализа категоризируем некоторые данные. Создадим столбец `total_income_category` с категориями:\n",
    "\n",
    "- 0–30000 — `'E'`;\n",
    "- 30001–50000 — `'D'`;\n",
    "- 50001–200000 — `'C'`;\n",
    "- 200001–1000000 — `'B'`;\n",
    "- 1000001 и выше — `'A'`."
   ]
  },
  {
   "cell_type": "code",
   "execution_count": 17,
   "id": "e1771346",
   "metadata": {
    "tags": []
   },
   "outputs": [],
   "source": [
    "def categorize_income(income):\n",
    "    try:\n",
    "        if 0 <= income <= 30000:\n",
    "            return 'E'\n",
    "        elif 30001 <= income <= 50000:\n",
    "            return 'D'\n",
    "        elif 50001 <= income <= 200000:\n",
    "            return 'C'\n",
    "        elif 200001 <= income <= 1000000:\n",
    "            return 'B'\n",
    "        elif income >= 1000001:\n",
    "            return 'A'\n",
    "    except:\n",
    "        pass"
   ]
  },
  {
   "cell_type": "code",
   "execution_count": 18,
   "id": "d5f3586d",
   "metadata": {
    "tags": []
   },
   "outputs": [],
   "source": [
    "data['total_income_category'] = data['total_income'].apply(categorize_income)"
   ]
  },
  {
   "cell_type": "markdown",
   "id": "85d0aef0",
   "metadata": {
    "tags": []
   },
   "source": [
    "Также объединим цели кредитов в категории  на основании данных из столбца `purpose`. Сформируем новый столбец `purpose_category`, в который войдут следующие категории:\n",
    "\n",
    "- `'операции с автомобилем'`,\n",
    "- `'операции с недвижимостью'`,\n",
    "- `'проведение свадьбы'`,\n",
    "- `'получение образования'`."
   ]
  },
  {
   "cell_type": "code",
   "execution_count": 19,
   "id": "e149fab4",
   "metadata": {
    "tags": []
   },
   "outputs": [],
   "source": [
    "def categorize_purpose(row):\n",
    "    try:\n",
    "        if 'автом' in row:\n",
    "            return 'операции с автомобилем'\n",
    "        elif 'жил' in row or 'недвиж' in row:\n",
    "            return 'операции с недвижимостью'\n",
    "        elif 'свад' in row:\n",
    "            return 'проведение свадьбы'\n",
    "        elif 'образов' in row:\n",
    "            return 'получение образования'\n",
    "    except:\n",
    "        return 'нет категории'"
   ]
  },
  {
   "cell_type": "code",
   "execution_count": 20,
   "id": "bf36e69b",
   "metadata": {
    "tags": []
   },
   "outputs": [],
   "source": [
    "data['purpose_category'] = data['purpose'].apply(categorize_purpose)"
   ]
  },
  {
   "cell_type": "markdown",
   "id": "09b242bf",
   "metadata": {
    "tags": []
   },
   "source": [
    "## Исследовательский анализ"
   ]
  },
  {
   "cell_type": "markdown",
   "id": "c5d66278",
   "metadata": {
    "tags": []
   },
   "source": [
    "### Зависимость между количеством детей и возвратом кредита в срок"
   ]
  },
  {
   "cell_type": "markdown",
   "id": "3903067b",
   "metadata": {},
   "source": [
    "**Гипотеза**\n",
    "\n",
    "Гипотетически вероятность допустить просрочку по кредиту должна увеличиваться по мере роста количества детей у заемщика, поскольку при прочих равных получаемый доход распределяется на все большее количество членов семьи, увеличивается риск непредвиденных трат и т.д. (Гипотеза основана на допущении, что отсутствует зависимость между уровнем дохода и количеством детей в семье).\n",
    "\n",
    "**Анализ**\n",
    "\n",
    "Рассмотрим данные по средней доле заемщиков с просрочкой по кредиту в разрезе количества детей:"
   ]
  },
  {
   "cell_type": "code",
   "execution_count": 21,
   "id": "2cacfc4a",
   "metadata": {
    "tags": []
   },
   "outputs": [
    {
     "data": {
      "text/html": [
       "<div>\n",
       "<style scoped>\n",
       "    .dataframe tbody tr th:only-of-type {\n",
       "        vertical-align: middle;\n",
       "    }\n",
       "\n",
       "    .dataframe tbody tr th {\n",
       "        vertical-align: top;\n",
       "    }\n",
       "\n",
       "    .dataframe thead th {\n",
       "        text-align: right;\n",
       "    }\n",
       "</style>\n",
       "<table border=\"1\" class=\"dataframe\">\n",
       "  <thead>\n",
       "    <tr style=\"text-align: right;\">\n",
       "      <th></th>\n",
       "      <th>Кол-во детей у заемщика</th>\n",
       "      <th>Кол-во наблюдений</th>\n",
       "      <th>Доля заемщиков с просрочкой, %</th>\n",
       "    </tr>\n",
       "  </thead>\n",
       "  <tbody>\n",
       "    <tr>\n",
       "      <th>0</th>\n",
       "      <td>0</td>\n",
       "      <td>14090</td>\n",
       "      <td>7.544</td>\n",
       "    </tr>\n",
       "    <tr>\n",
       "      <th>1</th>\n",
       "      <td>1</td>\n",
       "      <td>4808</td>\n",
       "      <td>9.235</td>\n",
       "    </tr>\n",
       "    <tr>\n",
       "      <th>2</th>\n",
       "      <td>2</td>\n",
       "      <td>2052</td>\n",
       "      <td>9.454</td>\n",
       "    </tr>\n",
       "    <tr>\n",
       "      <th>3</th>\n",
       "      <td>3</td>\n",
       "      <td>330</td>\n",
       "      <td>8.182</td>\n",
       "    </tr>\n",
       "    <tr>\n",
       "      <th>4</th>\n",
       "      <td>4</td>\n",
       "      <td>41</td>\n",
       "      <td>9.756</td>\n",
       "    </tr>\n",
       "    <tr>\n",
       "      <th>5</th>\n",
       "      <td>5</td>\n",
       "      <td>9</td>\n",
       "      <td>0.000</td>\n",
       "    </tr>\n",
       "  </tbody>\n",
       "</table>\n",
       "</div>"
      ],
      "text/plain": [
       "   Кол-во детей у заемщика  Кол-во наблюдений  Доля заемщиков с просрочкой, %\n",
       "0                        0              14090                           7.544\n",
       "1                        1               4808                           9.235\n",
       "2                        2               2052                           9.454\n",
       "3                        3                330                           8.182\n",
       "4                        4                 41                           9.756\n",
       "5                        5                  9                           0.000"
      ]
     },
     "metadata": {},
     "output_type": "display_data"
    },
    {
     "data": {
      "image/png": "[encoded data removed]",
      "text/plain": [
       "<Figure size 640x480 with 1 Axes>"
      ]
     },
     "metadata": {},
     "output_type": "display_data"
    }
   ],
   "source": [
    "# получим сводные данные:\n",
    "pivot = data.pivot_table(values='debt',index='children',aggfunc=['count','mean'])\n",
    "# создадим таблицу для визуализации:\n",
    "# (я не поняла, как переименовать столбцы в \"человеческий\" формат в pivot_table, \n",
    "# подскажите, пожалуйста, как это сделать правильно)\n",
    "debt_by_children = pd.DataFrame(index=pivot.index)\n",
    "debt_by_children['Кол-во детей у заемщика'] = pivot.index\n",
    "debt_by_children['Кол-во наблюдений'] = pivot['count']\n",
    "debt_by_children['Доля заемщиков с просрочкой, %'] = round(pivot['mean']*100, 3)\n",
    "display(debt_by_children.reset_index(drop=True))\n",
    "\n",
    "# рассмотрим распределение полученных значений:\n",
    "sbn.barplot(x='Кол-во детей у заемщика', \n",
    "            y='Доля заемщиков с просрочкой, %', \n",
    "            data=debt_by_children);"
   ]
  },
  {
   "cell_type": "markdown",
   "id": "3a6b99ec",
   "metadata": {
    "tags": []
   },
   "source": [
    "Данные говорят о том, что:\n",
    "\n",
    "- Подавляющее большинство заемщиков (более 50%) не имеют детей. Количество заемщиков с детьми кратно сокращается по мере увеличения количества детей, доля заемщиков с четырьмя и пятью детьми в выборке ничтожна (в совокупности менее 1%).\n",
    "\n",
    "- Доля заемщиков с просрочкой колеблется в зависимости от количества детей (см. график выше), четкой линейной зависимости между показателями не наблюдается. Кроме того, данные для заемщиков с четырьмя и пятью детьми могут быть нерепрезентативны из-за малого количества наблюдений. Однако можно заметить, что доля бездетных заемщиков с просрочкой (7,5%) ниже, чем у заемщиков с детьми (8,2-9,8%).\n",
    "\n",
    "Рассчитаем долю просрочки в целом по заемщикам, у которых есть дети."
   ]
  },
  {
   "cell_type": "code",
   "execution_count": 22,
   "id": "db34503e",
   "metadata": {},
   "outputs": [
    {
     "name": "stdout",
     "output_type": "stream",
     "text": [
      "Доля просрочек по кредиту среди заемщиков без детей: 7.544%\n",
      "Доля просрочек по кредиту среди заемщиков с детьми: 9.240%\n"
     ]
    }
   ],
   "source": [
    "# создадим функцию, конвертирующую количество детей в факт их наличия/отсутствия:\n",
    "def categorize_children(number):\n",
    "    if number == 0:\n",
    "        return 'нет детей'\n",
    "    elif number > 0:\n",
    "        return 'есть дети'\n",
    "    else:\n",
    "        return 'проверить данные'\n",
    "    \n",
    "# применим функцию к данным:\n",
    "data['children_category'] = data['children'].apply(categorize_children)\n",
    "\n",
    "# получим сводные данные в разрезе наличия детей:\n",
    "pivot = data.pivot_table(values='debt',index='children_category',aggfunc=['count','mean'])\n",
    "no_kids = pivot['mean'].values[1,0]\n",
    "has_kids = pivot['mean'].values[0,0]\n",
    "\n",
    "try:\n",
    "    print(f'Доля просрочек по кредиту среди заемщиков без детей: {no_kids:.3%}')\n",
    "    print(f'Доля просрочек по кредиту среди заемщиков с детьми: {has_kids:.3%}')\n",
    "except:\n",
    "    print('Ошибка, проверить данные сводной таблицы')"
   ]
  },
  {
   "cell_type": "markdown",
   "id": "a1b0bbfb",
   "metadata": {},
   "source": [
    "Видим, что доля просрочек среди заемщиков, у которых есть дети, составила 9,2%, что в целом выше, чем у бездетных заемщиков (7,5%).\n",
    "\n",
    "**Вывод**\n",
    "\n",
    "- Согласно данным, заемщик без детей с большей вероятностью вернет кредит в срок, чем заемщик, у которого есть дети. Такой вывод может быть обусловлен тем, что наличие детей приводит к бОльшим обязательным расходам (однако, данная гипотеза нуждается в проверке, т.к. наличие детей может и не оказывать влияние на *располагаемый* доход, т.е. доходы за вычетом обязательных расходов).\n",
    "\n",
    "- При этом, влияние *количества* детей у заемщика на вероятность возврата займа в срок не очевидно из предоставленных данных."
   ]
  },
  {
   "cell_type": "markdown",
   "id": "97be82ca",
   "metadata": {
    "tags": []
   },
   "source": [
    "### Зависимость между семейным положением и возвратом кредита в срок"
   ]
  },
  {
   "cell_type": "markdown",
   "id": "ad42150f",
   "metadata": {},
   "source": [
    "**Гипотеза**\n",
    "\n",
    "Вероятность возврата кредита в срок у заемщика, имеющего партнера (независимо от факта регистрации отношений), должна быть выше, чем у заемщиков-\"одиночек\", т.к. в случае потери дохода у заемщика кредит может погашаться средствами партнера. Если партнер не работает, при потере дохода заемщика вероятность найти новый источник дохода для семьи также выше.\n",
    "\n",
    "**Анализ**\n",
    "\n",
    "Рассмотрим долю заемщиков, имевших задолженность по кредиту, в разрезе их семейного положения:"
   ]
  },
  {
   "cell_type": "code",
   "execution_count": 23,
   "id": "dc3f7ee8",
   "metadata": {
    "tags": []
   },
   "outputs": [
    {
     "data": {
      "text/html": [
       "<div>\n",
       "<style scoped>\n",
       "    .dataframe tbody tr th:only-of-type {\n",
       "        vertical-align: middle;\n",
       "    }\n",
       "\n",
       "    .dataframe tbody tr th {\n",
       "        vertical-align: top;\n",
       "    }\n",
       "\n",
       "    .dataframe thead th {\n",
       "        text-align: right;\n",
       "    }\n",
       "</style>\n",
       "<table border=\"1\" class=\"dataframe\">\n",
       "  <thead>\n",
       "    <tr style=\"text-align: right;\">\n",
       "      <th></th>\n",
       "      <th>Семейное положение заемщика</th>\n",
       "      <th>Кол-во наблюдений</th>\n",
       "      <th>Доля заемщиков с просрочкой, %</th>\n",
       "    </tr>\n",
       "  </thead>\n",
       "  <tbody>\n",
       "    <tr>\n",
       "      <th>0</th>\n",
       "      <td>женат / замужем</td>\n",
       "      <td>12261</td>\n",
       "      <td>7.561</td>\n",
       "    </tr>\n",
       "    <tr>\n",
       "      <th>1</th>\n",
       "      <td>гражданский брак</td>\n",
       "      <td>4133</td>\n",
       "      <td>9.315</td>\n",
       "    </tr>\n",
       "    <tr>\n",
       "      <th>2</th>\n",
       "      <td>Не женат / не замужем</td>\n",
       "      <td>2796</td>\n",
       "      <td>9.764</td>\n",
       "    </tr>\n",
       "    <tr>\n",
       "      <th>3</th>\n",
       "      <td>в разводе</td>\n",
       "      <td>1189</td>\n",
       "      <td>7.065</td>\n",
       "    </tr>\n",
       "    <tr>\n",
       "      <th>4</th>\n",
       "      <td>вдовец / вдова</td>\n",
       "      <td>951</td>\n",
       "      <td>6.625</td>\n",
       "    </tr>\n",
       "  </tbody>\n",
       "</table>\n",
       "</div>"
      ],
      "text/plain": [
       "  Семейное положение заемщика  Кол-во наблюдений  \\\n",
       "0             женат / замужем              12261   \n",
       "1            гражданский брак               4133   \n",
       "2       Не женат / не замужем               2796   \n",
       "3                   в разводе               1189   \n",
       "4              вдовец / вдова                951   \n",
       "\n",
       "   Доля заемщиков с просрочкой, %  \n",
       "0                           7.561  \n",
       "1                           9.315  \n",
       "2                           9.764  \n",
       "3                           7.065  \n",
       "4                           6.625  "
      ]
     },
     "metadata": {},
     "output_type": "display_data"
    },
    {
     "data": {
      "image/png": "[encoded data removed]",
      "text/plain": [
       "<Figure size 640x480 with 1 Axes>"
      ]
     },
     "metadata": {},
     "output_type": "display_data"
    }
   ],
   "source": [
    "# получим сводные данные, отсортированные по количеству наблюдений:\n",
    "pivot = (data.pivot_table(values='debt',index='family_status',aggfunc=['count','mean']).\n",
    "         sort_values(('count', 'debt'), ascending=False))\n",
    "\n",
    "# создадим таблицу для визуализации:\n",
    "debt_by_family = pd.DataFrame(index=pivot.index)\n",
    "debt_by_family['Семейное положение заемщика'] = pivot.index\n",
    "debt_by_family['Кол-во наблюдений'] = pivot['count']\n",
    "debt_by_family['Доля заемщиков с просрочкой, %'] = round(pivot['mean']*100, 3)\n",
    "display(debt_by_family.reset_index(drop=True))\n",
    "\n",
    "# рассмотрим распределение полученных значений:\n",
    "sbn.barplot(x='Доля заемщиков с просрочкой, %', \n",
    "            y='Семейное положение заемщика', \n",
    "            data=debt_by_family);"
   ]
  },
  {
   "cell_type": "markdown",
   "id": "1cef7837",
   "metadata": {
    "tags": []
   },
   "source": [
    "Согласно данным в выборке:\n",
    "\n",
    "- Преимущественно кредит берут люди в официальном браке (ок. 60% наблюдений). Вторая крупнейшая категория заемщиков - люди в гражданском браке.\n",
    "\n",
    "- Наибольшая доля заемщиков, имеющих просрочку по кредиту, характерна для неженатых/незамужних заемщиков, что подтверждает гипотезу.\n",
    "\n",
    "- С другой стороны, доля просрочек среди заемщиков в гражданском браке (9,3%) ближе к показателю неженатых/незамужних (9,7%), чем к заемщиков в официальном браке (ок. 7,6%), что противоречит выдвинутой гипотезе. Доли заемщиков с просрочкой среди разведенных и вдовцов также ниже, чем среди женатых/замужних (7% и 6,6% соответственно против 7,5%). Для объяснения таких наблюдений нужны дополнительные данные (например, переходит ли долг умершего партнера на наследников, которые становятся созаемщиками, остается ли бывший супруг/-а созаемщиком при расторжении брака и т.д.)\n",
    "\n",
    "\n",
    "**Вывод:** \n",
    "\n",
    "Исходя из полученных данных, наибольшая вероятность допустить просрочку по кредиту у неженатых / незамужних заемщиков, однако прямая зависимость между семейным положением и возвратом кредита в срок не очевидна."
   ]
  },
  {
   "cell_type": "markdown",
   "id": "1e8b2fca",
   "metadata": {
    "tags": []
   },
   "source": [
    "### Зависимость между уровнем дохода и возвратом кредита в срок"
   ]
  },
  {
   "cell_type": "markdown",
   "id": "b4143a64",
   "metadata": {},
   "source": [
    "**Гипотеза**\n",
    "\n",
    "Вероятность возврата кредита в срок должна быть тем выше, чем выше уровень дохода заемщика, т.к. доля расходов на базовые потребности (еда, жилье, одежда и т.д.) сокращается по мере роста дохода, а доля расходов на развлечения, товары роскоши и т.п. растет. Т.е. \"окно\" для перераспределения бюджета в пользу погашения кредита увеличивается по мере роста дохода.\n",
    "\n",
    "**Анализ**\n",
    "\n",
    "Для начала рассмотрим распределение уровня доходов заемщиков в выборке:"
   ]
  },
  {
   "cell_type": "code",
   "execution_count": 24,
   "id": "bf2ba98e",
   "metadata": {},
   "outputs": [
    {
     "data": {
      "image/png": "[encoded data removed]",
      "text/plain": [
       "<Figure size 640x480 with 1 Axes>"
      ]
     },
     "metadata": {},
     "output_type": "display_data"
    }
   ],
   "source": [
    "# выводим на экран результат:\n",
    "sbn.histplot(data=data, x='total_income')\n",
    "plt.xlabel('Ежемесячный доход, ден. ед.')\n",
    "plt.ylabel('Частота')\n",
    "plt.title('Распределение ежемесячного дохода');"
   ]
  },
  {
   "cell_type": "markdown",
   "id": "9955b796",
   "metadata": {},
   "source": [
    "Видим, что есть выбросы, однако в текущем виде график плохо читаем, поэтому покажем укрупненно участок с выбросами:"
   ]
  },
  {
   "cell_type": "code",
   "execution_count": 25,
   "id": "2f3adf98",
   "metadata": {},
   "outputs": [
    {
     "data": {
      "image/png": "[encoded data removed]",
      "text/plain": [
       "<Figure size 640x480 with 1 Axes>"
      ]
     },
     "metadata": {},
     "output_type": "display_data"
    }
   ],
   "source": [
    "sbn.histplot(data=data[data['total_income'] <= 300000], \n",
    "             x='total_income')\n",
    "plt.xlabel('Ежемесячный доход, ден. ед.')\n",
    "plt.ylabel('Частота')\n",
    "plt.title('Распределение ежемесячного дохода (до 300 тыс.)');"
   ]
  },
  {
   "cell_type": "markdown",
   "id": "9ecb23aa",
   "metadata": {},
   "source": [
    "Видим, что в распределении доходов в выборке присутствуют явные выбросы, полученные при заполнении пропусков медианными значениями, все выбросы находятся в пределах от 100 до 200 тыс.ед. ежемесячного дохода.\n",
    "\n",
    "За исключением выбросов, доходы заемщиков распределены равномерно.\n",
    "\n",
    "Теперь перейдем к рассмотрению доли заемщиков с просрочкой по кредиту в зависимости от категории платежеспособности:"
   ]
  },
  {
   "cell_type": "code",
   "execution_count": 26,
   "id": "cd7e3720",
   "metadata": {
    "tags": []
   },
   "outputs": [
    {
     "data": {
      "text/html": [
       "<div>\n",
       "<style scoped>\n",
       "    .dataframe tbody tr th:only-of-type {\n",
       "        vertical-align: middle;\n",
       "    }\n",
       "\n",
       "    .dataframe tbody tr th {\n",
       "        vertical-align: top;\n",
       "    }\n",
       "\n",
       "    .dataframe thead th {\n",
       "        text-align: right;\n",
       "    }\n",
       "</style>\n",
       "<table border=\"1\" class=\"dataframe\">\n",
       "  <thead>\n",
       "    <tr style=\"text-align: right;\">\n",
       "      <th></th>\n",
       "      <th>Категория платежеспособности заемщика</th>\n",
       "      <th>Кол-во наблюдений</th>\n",
       "      <th>Доля заемщиков с просрочкой, %</th>\n",
       "    </tr>\n",
       "  </thead>\n",
       "  <tbody>\n",
       "    <tr>\n",
       "      <th>0</th>\n",
       "      <td>A</td>\n",
       "      <td>25</td>\n",
       "      <td>8.000</td>\n",
       "    </tr>\n",
       "    <tr>\n",
       "      <th>1</th>\n",
       "      <td>B</td>\n",
       "      <td>5013</td>\n",
       "      <td>7.062</td>\n",
       "    </tr>\n",
       "    <tr>\n",
       "      <th>2</th>\n",
       "      <td>C</td>\n",
       "      <td>15921</td>\n",
       "      <td>8.498</td>\n",
       "    </tr>\n",
       "    <tr>\n",
       "      <th>3</th>\n",
       "      <td>D</td>\n",
       "      <td>349</td>\n",
       "      <td>6.017</td>\n",
       "    </tr>\n",
       "    <tr>\n",
       "      <th>4</th>\n",
       "      <td>E</td>\n",
       "      <td>22</td>\n",
       "      <td>9.091</td>\n",
       "    </tr>\n",
       "  </tbody>\n",
       "</table>\n",
       "</div>"
      ],
      "text/plain": [
       "  Категория платежеспособности заемщика  Кол-во наблюдений  \\\n",
       "0                                     A                 25   \n",
       "1                                     B               5013   \n",
       "2                                     C              15921   \n",
       "3                                     D                349   \n",
       "4                                     E                 22   \n",
       "\n",
       "   Доля заемщиков с просрочкой, %  \n",
       "0                           8.000  \n",
       "1                           7.062  \n",
       "2                           8.498  \n",
       "3                           6.017  \n",
       "4                           9.091  "
      ]
     },
     "metadata": {},
     "output_type": "display_data"
    },
    {
     "data": {
      "image/png": "[encoded data removed]",
      "text/plain": [
       "<Figure size 640x480 with 1 Axes>"
      ]
     },
     "metadata": {},
     "output_type": "display_data"
    }
   ],
   "source": [
    "# получим сводные данные:\n",
    "pivot = data.pivot_table(values='debt',index='total_income_category',aggfunc=['count','mean'])\n",
    "\n",
    "# создадим таблицу для визуализации:\n",
    "debt_by_income = pd.DataFrame(index=pivot.index)\n",
    "debt_by_income['Категория платежеспособности заемщика'] = pivot.index\n",
    "debt_by_income['Кол-во наблюдений'] = pivot['count']\n",
    "debt_by_income['Доля заемщиков с просрочкой, %'] = round(pivot['mean']*100, 3)\n",
    "debt_by_income = debt_by_income.sort_values('Категория платежеспособности заемщика').reset_index(drop=True)\n",
    "display(debt_by_income)\n",
    "\n",
    "# рассмотрим распределение полученных значений:\n",
    "sbn.barplot(x='Категория платежеспособности заемщика', \n",
    "            y='Доля заемщиков с просрочкой, %', \n",
    "            data=debt_by_income);"
   ]
  },
  {
   "cell_type": "markdown",
   "id": "e8593def",
   "metadata": {
    "tags": []
   },
   "source": [
    "- Видим, что основную массу наблюдений составляют заемщики с доходом от 50 до 200 тыс.ед./месяц (категория С, более 70% наблюдений, из них ок. 2 000 наблюдений - заполненные искусственно пропуски) и люди с доходом от 200 тыс. до 1 млн ед. в месяц (категория B, более 20% наблюдений). Доли наиболее бедных заемщиков (ежемесячный доход менее 30 тыс.ед.) и наиболее богатых заемщиков (более 1 млн ед. в месяц) несущественны.\n",
    "\n",
    "- Тенденция на снижение доли просрочки наблюдается на заемщиках категории E (наиболее бедные заемщики, максимальная вероятность просрочки по категориям), С и A. Однако доли просрочки по заемщикам категорий D и B находятся ниже воображаемой линии тренда, построенной по категориям Е, С и А (см. график выше).\n",
    "\n",
    "- С другой стороны, репрезентативными категориями являются только категории С и В (доля остальных категорий в совокупности не превышает 2%). Соответсвенно, данные по категориям E, D и A могут быть ненадежными. При сравнении репрезентативных категорий видно, что доля просрочки у более платежеспособной группы заметно ниже, чем у менее платежеспособной (ок. 7% для категории В против ок. 8,5% для категории С).\n",
    "\n",
    "Можно проверить последний вывод, переопределив категории платежеспособности заемщиков (т.к. распределение доходов за исключением выбросов равномерно, а все выбросы попали в одну категорию, количество наблюдений в той или иной категории определяется применяемой группировкой)."
   ]
  },
  {
   "cell_type": "code",
   "execution_count": 27,
   "id": "606a77c5",
   "metadata": {},
   "outputs": [
    {
     "data": {
      "text/html": [
       "<div>\n",
       "<style scoped>\n",
       "    .dataframe tbody tr th:only-of-type {\n",
       "        vertical-align: middle;\n",
       "    }\n",
       "\n",
       "    .dataframe tbody tr th {\n",
       "        vertical-align: top;\n",
       "    }\n",
       "\n",
       "    .dataframe thead th {\n",
       "        text-align: right;\n",
       "    }\n",
       "</style>\n",
       "<table border=\"1\" class=\"dataframe\">\n",
       "  <thead>\n",
       "    <tr style=\"text-align: right;\">\n",
       "      <th></th>\n",
       "      <th>Категория платежеспособности заемщика</th>\n",
       "      <th>Кол-во наблюдений</th>\n",
       "      <th>Доля заемщиков с просрочкой, %</th>\n",
       "    </tr>\n",
       "  </thead>\n",
       "  <tbody>\n",
       "    <tr>\n",
       "      <th>0</th>\n",
       "      <td>1) до 100 тыс.</td>\n",
       "      <td>4444</td>\n",
       "      <td>7.966</td>\n",
       "    </tr>\n",
       "    <tr>\n",
       "      <th>1</th>\n",
       "      <td>2) от 100 до 200 тыс.</td>\n",
       "      <td>11848</td>\n",
       "      <td>8.626</td>\n",
       "    </tr>\n",
       "    <tr>\n",
       "      <th>2</th>\n",
       "      <td>3) от 200 до 400 тыс.</td>\n",
       "      <td>4510</td>\n",
       "      <td>7.206</td>\n",
       "    </tr>\n",
       "    <tr>\n",
       "      <th>3</th>\n",
       "      <td>4) более 400 тыс.</td>\n",
       "      <td>528</td>\n",
       "      <td>5.871</td>\n",
       "    </tr>\n",
       "  </tbody>\n",
       "</table>\n",
       "</div>"
      ],
      "text/plain": [
       "  Категория платежеспособности заемщика  Кол-во наблюдений  \\\n",
       "0                        1) до 100 тыс.               4444   \n",
       "1                 2) от 100 до 200 тыс.              11848   \n",
       "2                 3) от 200 до 400 тыс.               4510   \n",
       "3                     4) более 400 тыс.                528   \n",
       "\n",
       "   Доля заемщиков с просрочкой, %  \n",
       "0                           7.966  \n",
       "1                           8.626  \n",
       "2                           7.206  \n",
       "3                           5.871  "
      ]
     },
     "metadata": {},
     "output_type": "display_data"
    },
    {
     "data": {
      "image/png": "[encoded data removed]",
      "text/plain": [
       "<Figure size 640x480 with 1 Axes>"
      ]
     },
     "metadata": {},
     "output_type": "display_data"
    }
   ],
   "source": [
    "# создадим функцию для новой группировки по уровню дохода:\n",
    "def new_income_category(income):\n",
    "    if income <= 100000:\n",
    "        return '1) до 100 тыс.'\n",
    "    elif 100001 <= income <= 200000:\n",
    "        return '2) от 100 до 200 тыс.'\n",
    "    elif 200001 <= income <= 400000:\n",
    "        return '3) от 200 до 400 тыс.'\n",
    "    else:\n",
    "        return '4) более 400 тыс.'\n",
    "\n",
    "# применим функцию к данным:\n",
    "data['total_income_category_new'] = data['total_income'].apply(new_income_category)\n",
    "\n",
    "# получим сводные данные:\n",
    "pivot = data.pivot_table(values='debt',index='total_income_category_new',aggfunc=['count','mean'])\n",
    "# создадим таблицу для визуализации:\n",
    "debt_by_income_new = pd.DataFrame(index=pivot.index)\n",
    "debt_by_income_new['Категория платежеспособности заемщика'] = pivot.index\n",
    "debt_by_income_new['Кол-во наблюдений'] = pivot['count']\n",
    "debt_by_income_new['Доля заемщиков с просрочкой, %'] = round(pivot['mean']*100, 3)\n",
    "debt_by_income_new = debt_by_income_new.reset_index(drop=True)\n",
    "display(debt_by_income_new)\n",
    "\n",
    "# рассмотрим распределение полученных значений:\n",
    "sbn.barplot(x='Доля заемщиков с просрочкой, %', \n",
    "            y='Категория платежеспособности заемщика', \n",
    "            data=debt_by_income_new);"
   ]
  },
  {
   "cell_type": "markdown",
   "id": "157fde15",
   "metadata": {},
   "source": [
    "- Новая группировка дает менее концентрированное распределение наблюдений по категориям (даже с учетом того, что все пропуски в изначальных данных попали в категорию 2).\n",
    "\n",
    "- Видим, что гипотеза подтверждается на всех категориях, кроме первой (доля просрочки у заемщиков с доходом до 100 тыс.ед. (ок. 8%) ниже, чем у заемщиков с доходом от 100 до 200 тыс.ед. (ок. 8,6%).Однако затем наблюдается явная тенденция к снижению доли просрочки при росте дохода. \n",
    "\n",
    "**Вывод**\n",
    "\n",
    "Зависимость между уровнем дохода заемщика и возвратом кредита в срок есть, но она не линейная. Согласно данным, вероятность погашения кредита в срок у заемщиком с доходом до 100 тыс.ед. несколько выше, чем у следующей по уровню дохода категории, хотя в дальнейшем вероятность погашения в срок растет с уровнем дохода. Возможно, это объясняется дополнительными требованиями банка к заемщикам с наименьшим уровнем дохода (например, привлечение поручителей - для анализа нужны дополнительные данные)."
   ]
  },
  {
   "cell_type": "markdown",
   "id": "99ecbd1f",
   "metadata": {
    "tags": []
   },
   "source": [
    "### Зависимость между целью кредита и возвратом в срок"
   ]
  },
  {
   "cell_type": "markdown",
   "id": "ff0edb80",
   "metadata": {},
   "source": [
    "**Гипотеза**\n",
    "\n",
    "Зависимости между целями кредита и вероятностью возврата в срок не должно быть, т.к. возможность вовремя вносить плату скорее определяется соотношением доходов и расходов заемщика, нежели направлением использования заемных средств. Обеспеченность кредита залогом (недвижимость, автомобиль и т.п.) в данном случае не является фактором, увеличивающим вероятность погашения в срок, т.к. истребование залога уже свидетельствует о просрочке платежа.\n",
    "\n",
    "**Анализ**"
   ]
  },
  {
   "cell_type": "code",
   "execution_count": 28,
   "id": "2b687290",
   "metadata": {
    "tags": []
   },
   "outputs": [
    {
     "data": {
      "text/html": [
       "<div>\n",
       "<style scoped>\n",
       "    .dataframe tbody tr th:only-of-type {\n",
       "        vertical-align: middle;\n",
       "    }\n",
       "\n",
       "    .dataframe tbody tr th {\n",
       "        vertical-align: top;\n",
       "    }\n",
       "\n",
       "    .dataframe thead th {\n",
       "        text-align: right;\n",
       "    }\n",
       "</style>\n",
       "<table border=\"1\" class=\"dataframe\">\n",
       "  <thead>\n",
       "    <tr style=\"text-align: right;\">\n",
       "      <th></th>\n",
       "      <th>Цель кредита</th>\n",
       "      <th>Кол-во наблюдений</th>\n",
       "      <th>Доля заемщиков с просрочкой, %</th>\n",
       "    </tr>\n",
       "  </thead>\n",
       "  <tbody>\n",
       "    <tr>\n",
       "      <th>0</th>\n",
       "      <td>операции с недвижимостью</td>\n",
       "      <td>10750</td>\n",
       "      <td>7.256</td>\n",
       "    </tr>\n",
       "    <tr>\n",
       "      <th>1</th>\n",
       "      <td>операции с автомобилем</td>\n",
       "      <td>4279</td>\n",
       "      <td>9.348</td>\n",
       "    </tr>\n",
       "    <tr>\n",
       "      <th>2</th>\n",
       "      <td>получение образования</td>\n",
       "      <td>3988</td>\n",
       "      <td>9.253</td>\n",
       "    </tr>\n",
       "    <tr>\n",
       "      <th>3</th>\n",
       "      <td>проведение свадьбы</td>\n",
       "      <td>2313</td>\n",
       "      <td>7.912</td>\n",
       "    </tr>\n",
       "  </tbody>\n",
       "</table>\n",
       "</div>"
      ],
      "text/plain": [
       "               Цель кредита  Кол-во наблюдений  Доля заемщиков с просрочкой, %\n",
       "0  операции с недвижимостью              10750                           7.256\n",
       "1    операции с автомобилем               4279                           9.348\n",
       "2     получение образования               3988                           9.253\n",
       "3        проведение свадьбы               2313                           7.912"
      ]
     },
     "metadata": {},
     "output_type": "display_data"
    },
    {
     "data": {
      "image/png": "[encoded data removed]",
      "text/plain": [
       "<Figure size 640x480 with 1 Axes>"
      ]
     },
     "metadata": {},
     "output_type": "display_data"
    }
   ],
   "source": [
    "# получим сводные данные, отсортированные по количеству наблюдений:\n",
    "pivot = (data.pivot_table(values='debt',index='purpose_category',aggfunc=['count','mean']).\n",
    "         sort_values(('count', 'debt'), ascending=False))\n",
    "\n",
    "# создадим таблицу для визуализации:\n",
    "debt_by_purpose = pd.DataFrame(index=pivot.index)\n",
    "debt_by_purpose['Цель кредита'] = pivot.index\n",
    "debt_by_purpose['Кол-во наблюдений'] = pivot['count']\n",
    "debt_by_purpose['Доля заемщиков с просрочкой, %'] = round(pivot['mean']*100, 3)\n",
    "display(debt_by_purpose.reset_index(drop=True))\n",
    "\n",
    "# рассмотрим распределение полученных значений:\n",
    "sbn.barplot(x='Доля заемщиков с просрочкой, %', \n",
    "            y='Цель кредита', \n",
    "            data=debt_by_purpose);"
   ]
  },
  {
   "cell_type": "markdown",
   "id": "b4bb2ce6",
   "metadata": {
    "tags": []
   },
   "source": [
    "- Около 50% кредитов выдаются на операции с жилой и коммерческой недвижимостью (в т.ч. ремонт помещений). Вторая по численности категория - операции с автомобилем (ок. 20%). \n",
    "\n",
    "- Наибольшая доля просрочек наблюдается по кредитам, выданным на операции с автомобилем (9,35%) и на получение образования (9,25%). Наименьшая - по кредитам на операции с недвижимостью (7,26%). Возможно, на такое распределение влияют косвенные факторы (напр., бОльшая доля заемщиков, приобретающих жилье, находятся в официальном браке, сроки кредитов и применяемые ставки (ипотечные кредиты обычно выдаются под меньший процент и на более долгий период), какие-то другие неочевидные причины).\n",
    "\n",
    "**Вывод:**\n",
    "Очевидная зависимость между целью кредита и вероятность вернуть заем в срок не наблюдается."
   ]
  },
  {
   "cell_type": "markdown",
   "id": "6db5255a",
   "metadata": {
    "tags": []
   },
   "source": [
    "## Общий вывод"
   ]
  },
  {
   "cell_type": "markdown",
   "id": "bad65432",
   "metadata": {
    "tags": []
   },
   "source": [
    "Цель проекта состояла в установлении зависимостей между характеристиками клиента банка (семенйное положение, наличие детей, уровень дохода и т.п.) и фактом погашения кредита в срок. Полученные выводы могут быть использованы при построении модели кредитного скоринга.\n",
    "\n",
    "Для анализа была предоставлена выборка из 21,5 тыс.наблюдений. Данные были подготовлены к анализу:\n",
    "- пропуски в колонках с общим трудовым стажем и ежемесячным доходом (ок. 10% от выборки) были заполнены медианными значениями для каждого типа занятости;\n",
    "- устранены аномалии в данных (отрицательные значения стажа переведены в абсолютные значения, удалены подозрительные значения в колонках с количеством детей и полом клиента);\n",
    "- устранены неявные дубликаты в написании уровня образования и явные дубликаты в выборке;\n",
    "- введены категории для уровня дохода и цели кредита для упрощения анализа.\n",
    "\n",
    "Исходя из предоставленных данных, можно выделить следующие наблюдения:\n",
    "\n",
    "- Вероятноть погашения кредита в срок выше у бездетных заемщиков, чем у заемщиков с детьми. Однако распределение доли просрочки в зависисмости от *количества* детей у заемщика не приводит к однозначным выводам.\n",
    "- Наибольший риск просрочки по кредиту наблюдается среди неженатых / незамужних заемщиков, но показатели просрочки по другим видам семейного положения не позволяют утверждать, что земщики-\"одиночки\" в целом хуже выплачивают кредит.\n",
    "- Зависимость между уровнем дохода и долей просрочек нелинейная - вероятность погашения кредита в срок у заемщиком с доходом до 100 тыс.ед. несколько выше, чем у следующей по уровню дохода категории, хотя в дальнейшем вероятность погашения в срок растет с уровнем дохода. Возможно, это объясняется дополнительными требованиями банка к заемщикам с наименьшим уровнем дохода (например, привлечение поручителей - для анализа нужны дополнительные данные).\n",
    "- Доля просрочек среди кредитов, взятых на приобретение автомобиля и получение образования выше, чем для кредитов на покупку недвижимости и проведение свадьбы, однако причины неясны.\n",
    "\n",
    "Для дальнейшего анализа желательно выяснить, являются ли факторы независимыми (возможно, количество детей и семейное положение заемщика коррелирует с уровнем дохода, уровень дохода - с уровнем образования и т.п.), провести статистические тесты и/ли построить прогнозную модель для более точного ответа на поставленные вопросы."
   ]
  }
 ],
 "metadata": {
  "ExecuteTimeLog": [
   {
    "duration": 60,
    "start_time": "2022-07-05T06:28:02.806Z"
   },
   {
    "duration": 568,
    "start_time": "2022-07-05T06:29:11.456Z"
   },
   {
    "duration": 26,
    "start_time": "2022-07-05T06:29:12.028Z"
   },
   {
    "duration": 18,
    "start_time": "2022-07-05T06:29:12.056Z"
   },
   {
    "duration": 14,
    "start_time": "2022-07-05T06:29:12.077Z"
   },
   {
    "duration": 75,
    "start_time": "2022-07-05T06:29:12.093Z"
   },
   {
    "duration": 4,
    "start_time": "2022-07-05T06:29:12.170Z"
   },
   {
    "duration": 20,
    "start_time": "2022-07-05T06:29:12.177Z"
   },
   {
    "duration": 6,
    "start_time": "2022-07-05T06:29:12.199Z"
   },
   {
    "duration": 15,
    "start_time": "2022-07-05T06:29:12.207Z"
   },
   {
    "duration": 8,
    "start_time": "2022-07-05T06:29:12.226Z"
   },
   {
    "duration": 67,
    "start_time": "2022-07-05T06:29:12.236Z"
   },
   {
    "duration": 12,
    "start_time": "2022-07-05T06:29:12.305Z"
   },
   {
    "duration": 10,
    "start_time": "2022-07-05T06:29:12.319Z"
   },
   {
    "duration": 32,
    "start_time": "2022-07-05T06:29:12.330Z"
   },
   {
    "duration": 18,
    "start_time": "2022-07-05T06:29:12.364Z"
   },
   {
    "duration": 28,
    "start_time": "2022-07-05T06:29:12.384Z"
   },
   {
    "duration": 4,
    "start_time": "2022-07-05T06:29:12.414Z"
   },
   {
    "duration": 45,
    "start_time": "2022-07-05T06:29:12.419Z"
   },
   {
    "duration": 13,
    "start_time": "2022-07-05T06:29:12.466Z"
   },
   {
    "duration": 6,
    "start_time": "2022-07-05T06:29:12.481Z"
   },
   {
    "duration": 17,
    "start_time": "2022-07-05T06:29:12.490Z"
   },
   {
    "duration": 23,
    "start_time": "2022-07-05T06:29:57.629Z"
   },
   {
    "duration": 12,
    "start_time": "2022-07-05T06:37:11.946Z"
   },
   {
    "duration": 37,
    "start_time": "2022-07-05T06:38:00.434Z"
   },
   {
    "duration": 14,
    "start_time": "2022-07-05T06:38:06.371Z"
   },
   {
    "duration": 20,
    "start_time": "2022-07-05T06:39:58.699Z"
   },
   {
    "duration": 15,
    "start_time": "2022-07-05T06:40:15.220Z"
   },
   {
    "duration": 43,
    "start_time": "2022-07-05T06:51:48.428Z"
   },
   {
    "duration": 97,
    "start_time": "2022-07-05T06:52:08.351Z"
   },
   {
    "duration": 31,
    "start_time": "2022-07-05T06:52:42.274Z"
   },
   {
    "duration": 34,
    "start_time": "2022-07-05T06:53:13.824Z"
   },
   {
    "duration": 36,
    "start_time": "2022-07-05T06:53:20.002Z"
   },
   {
    "duration": 423,
    "start_time": "2022-07-05T07:10:59.900Z"
   },
   {
    "duration": 368,
    "start_time": "2022-07-05T07:11:47.143Z"
   },
   {
    "duration": 411,
    "start_time": "2022-07-05T07:12:39.310Z"
   },
   {
    "duration": 22,
    "start_time": "2022-07-05T07:16:34.106Z"
   },
   {
    "duration": 327,
    "start_time": "2022-07-05T07:20:43.436Z"
   },
   {
    "duration": 40,
    "start_time": "2022-07-05T07:25:03.252Z"
   },
   {
    "duration": 35,
    "start_time": "2022-07-05T07:26:38.888Z"
   },
   {
    "duration": 937,
    "start_time": "2022-07-05T07:30:53.090Z"
   },
   {
    "duration": 381,
    "start_time": "2022-07-05T07:31:20.239Z"
   },
   {
    "duration": 1234,
    "start_time": "2022-07-05T07:32:02.087Z"
   },
   {
    "duration": 1154,
    "start_time": "2022-07-05T07:33:12.805Z"
   },
   {
    "duration": 764,
    "start_time": "2022-07-05T07:36:39.961Z"
   },
   {
    "duration": 141,
    "start_time": "2022-07-05T07:38:07.692Z"
   },
   {
    "duration": 38,
    "start_time": "2022-07-05T07:40:12.311Z"
   },
   {
    "duration": 62,
    "start_time": "2022-07-05T07:40:52.756Z"
   },
   {
    "duration": 184,
    "start_time": "2022-07-05T07:46:44.455Z"
   },
   {
    "duration": 50,
    "start_time": "2022-07-05T07:46:53.204Z"
   },
   {
    "duration": 31,
    "start_time": "2022-07-05T07:50:47.108Z"
   },
   {
    "duration": 24,
    "start_time": "2022-07-05T07:57:11.935Z"
   },
   {
    "duration": 31,
    "start_time": "2022-07-05T07:57:28.992Z"
   },
   {
    "duration": 31,
    "start_time": "2022-07-05T07:58:21.372Z"
   },
   {
    "duration": 19,
    "start_time": "2022-07-05T08:01:50.237Z"
   },
   {
    "duration": 22,
    "start_time": "2022-07-05T08:05:05.081Z"
   },
   {
    "duration": 20,
    "start_time": "2022-07-05T08:05:42.526Z"
   },
   {
    "duration": 28,
    "start_time": "2022-07-05T08:09:37.583Z"
   },
   {
    "duration": 34,
    "start_time": "2022-07-05T08:11:05.631Z"
   },
   {
    "duration": 34,
    "start_time": "2022-07-05T08:15:35.759Z"
   },
   {
    "duration": 888,
    "start_time": "2022-07-05T08:19:06.850Z"
   },
   {
    "duration": 28,
    "start_time": "2022-07-05T08:20:35.051Z"
   },
   {
    "duration": 41,
    "start_time": "2022-07-05T08:26:29.073Z"
   },
   {
    "duration": 27,
    "start_time": "2022-07-05T08:26:59.528Z"
   },
   {
    "duration": 28,
    "start_time": "2022-07-05T08:27:52.530Z"
   },
   {
    "duration": 365,
    "start_time": "2022-07-05T08:28:24.781Z"
   },
   {
    "duration": 11,
    "start_time": "2022-07-05T08:30:13.238Z"
   },
   {
    "duration": 38,
    "start_time": "2022-07-05T08:30:23.893Z"
   },
   {
    "duration": 151,
    "start_time": "2022-07-05T08:34:31.281Z"
   },
   {
    "duration": 184,
    "start_time": "2022-07-05T08:35:56.090Z"
   },
   {
    "duration": 223,
    "start_time": "2022-07-05T09:09:12.656Z"
   },
   {
    "duration": 28,
    "start_time": "2022-07-05T09:09:19.345Z"
   },
   {
    "duration": 62,
    "start_time": "2022-07-05T09:15:19.703Z"
   },
   {
    "duration": 40,
    "start_time": "2022-07-05T09:15:50.935Z"
   },
   {
    "duration": 42,
    "start_time": "2022-07-05T09:16:29.121Z"
   },
   {
    "duration": 45,
    "start_time": "2022-07-05T09:17:06.305Z"
   },
   {
    "duration": 35,
    "start_time": "2022-07-05T09:18:09.690Z"
   },
   {
    "duration": 35,
    "start_time": "2022-07-05T09:18:22.065Z"
   },
   {
    "duration": 43,
    "start_time": "2022-07-05T09:20:17.275Z"
   },
   {
    "duration": 25,
    "start_time": "2022-07-05T09:21:47.741Z"
   },
   {
    "duration": 34,
    "start_time": "2022-07-05T09:23:21.677Z"
   },
   {
    "duration": 44,
    "start_time": "2022-07-05T09:23:55.639Z"
   },
   {
    "duration": 39,
    "start_time": "2022-07-05T09:24:48.784Z"
   },
   {
    "duration": 43,
    "start_time": "2022-07-05T09:24:57.993Z"
   },
   {
    "duration": 31,
    "start_time": "2022-07-05T09:25:30.166Z"
   },
   {
    "duration": 30,
    "start_time": "2022-07-05T09:25:34.855Z"
   },
   {
    "duration": 30,
    "start_time": "2022-07-05T09:25:37.967Z"
   },
   {
    "duration": 31,
    "start_time": "2022-07-05T09:26:06.114Z"
   },
   {
    "duration": 44,
    "start_time": "2022-07-05T09:26:17.752Z"
   },
   {
    "duration": 43,
    "start_time": "2022-07-05T09:26:32.816Z"
   },
   {
    "duration": 40,
    "start_time": "2022-07-05T09:27:05.257Z"
   },
   {
    "duration": 35,
    "start_time": "2022-07-05T09:27:33.697Z"
   },
   {
    "duration": 44,
    "start_time": "2022-07-05T09:27:41.192Z"
   },
   {
    "duration": 529,
    "start_time": "2022-07-05T09:28:16.111Z"
   },
   {
    "duration": 34,
    "start_time": "2022-07-05T09:28:16.643Z"
   },
   {
    "duration": 31,
    "start_time": "2022-07-05T09:28:16.682Z"
   },
   {
    "duration": 39,
    "start_time": "2022-07-05T09:28:16.716Z"
   },
   {
    "duration": 68,
    "start_time": "2022-07-05T09:28:16.757Z"
   },
   {
    "duration": 5,
    "start_time": "2022-07-05T09:28:16.827Z"
   },
   {
    "duration": 29,
    "start_time": "2022-07-05T09:28:16.835Z"
   },
   {
    "duration": 19,
    "start_time": "2022-07-05T09:28:16.866Z"
   },
   {
    "duration": 42,
    "start_time": "2022-07-05T09:28:16.887Z"
   },
   {
    "duration": 23,
    "start_time": "2022-07-05T09:28:16.931Z"
   },
   {
    "duration": 57,
    "start_time": "2022-07-05T09:28:16.956Z"
   },
   {
    "duration": 16,
    "start_time": "2022-07-05T09:28:17.015Z"
   },
   {
    "duration": 8,
    "start_time": "2022-07-05T09:28:17.037Z"
   },
   {
    "duration": 45,
    "start_time": "2022-07-05T09:28:17.047Z"
   },
   {
    "duration": 17,
    "start_time": "2022-07-05T09:28:17.094Z"
   },
   {
    "duration": 38,
    "start_time": "2022-07-05T09:28:17.113Z"
   },
   {
    "duration": 19,
    "start_time": "2022-07-05T09:28:17.153Z"
   },
   {
    "duration": 18,
    "start_time": "2022-07-05T09:28:17.175Z"
   },
   {
    "duration": 24,
    "start_time": "2022-07-05T09:28:17.195Z"
   },
   {
    "duration": 20,
    "start_time": "2022-07-05T09:28:17.221Z"
   },
   {
    "duration": 44,
    "start_time": "2022-07-05T09:28:17.243Z"
   },
   {
    "duration": 922,
    "start_time": "2022-07-05T09:28:17.289Z"
   },
   {
    "duration": 139,
    "start_time": "2022-07-05T09:28:18.213Z"
   },
   {
    "duration": 0,
    "start_time": "2022-07-05T09:28:18.354Z"
   },
   {
    "duration": 0,
    "start_time": "2022-07-05T09:28:18.355Z"
   },
   {
    "duration": 0,
    "start_time": "2022-07-05T09:28:18.360Z"
   },
   {
    "duration": 33,
    "start_time": "2022-07-05T09:28:30.058Z"
   },
   {
    "duration": 43,
    "start_time": "2022-07-05T09:31:46.406Z"
   },
   {
    "duration": 84,
    "start_time": "2022-07-05T10:11:04.550Z"
   },
   {
    "duration": 27,
    "start_time": "2022-07-05T10:11:04.636Z"
   },
   {
    "duration": 21,
    "start_time": "2022-07-05T10:11:04.665Z"
   },
   {
    "duration": 19,
    "start_time": "2022-07-05T10:11:04.689Z"
   },
   {
    "duration": 59,
    "start_time": "2022-07-05T10:11:04.709Z"
   },
   {
    "duration": 4,
    "start_time": "2022-07-05T10:11:04.770Z"
   },
   {
    "duration": 12,
    "start_time": "2022-07-05T10:11:04.776Z"
   },
   {
    "duration": 6,
    "start_time": "2022-07-05T10:11:04.790Z"
   },
   {
    "duration": 9,
    "start_time": "2022-07-05T10:11:04.798Z"
   },
   {
    "duration": 5,
    "start_time": "2022-07-05T10:11:04.810Z"
   },
   {
    "duration": 71,
    "start_time": "2022-07-05T10:11:04.817Z"
   },
   {
    "duration": 11,
    "start_time": "2022-07-05T10:11:04.889Z"
   },
   {
    "duration": 4,
    "start_time": "2022-07-05T10:11:04.902Z"
   },
   {
    "duration": 21,
    "start_time": "2022-07-05T10:11:04.907Z"
   },
   {
    "duration": 55,
    "start_time": "2022-07-05T10:11:04.930Z"
   },
   {
    "duration": 41,
    "start_time": "2022-07-05T10:11:04.987Z"
   },
   {
    "duration": 5,
    "start_time": "2022-07-05T10:11:05.030Z"
   },
   {
    "duration": 35,
    "start_time": "2022-07-05T10:11:05.037Z"
   },
   {
    "duration": 8,
    "start_time": "2022-07-05T10:11:05.074Z"
   },
   {
    "duration": 6,
    "start_time": "2022-07-05T10:11:05.084Z"
   },
   {
    "duration": 14,
    "start_time": "2022-07-05T10:11:05.092Z"
   },
   {
    "duration": 188,
    "start_time": "2022-07-05T10:11:05.108Z"
   },
   {
    "duration": 40,
    "start_time": "2022-07-05T10:11:18.573Z"
   },
   {
    "duration": 43,
    "start_time": "2022-07-05T10:11:39.169Z"
   },
   {
    "duration": 66,
    "start_time": "2022-07-05T10:20:36.199Z"
   },
   {
    "duration": 55,
    "start_time": "2022-07-05T10:23:48.418Z"
   },
   {
    "duration": 36,
    "start_time": "2022-07-05T10:24:21.130Z"
   },
   {
    "duration": 30,
    "start_time": "2022-07-05T10:25:27.612Z"
   },
   {
    "duration": 36,
    "start_time": "2022-07-05T10:25:53.451Z"
   },
   {
    "duration": 26,
    "start_time": "2022-07-05T10:26:07.508Z"
   },
   {
    "duration": 39,
    "start_time": "2022-07-05T10:26:39.212Z"
   },
   {
    "duration": 25,
    "start_time": "2022-07-05T10:31:16.552Z"
   },
   {
    "duration": 31,
    "start_time": "2022-07-05T10:31:56.529Z"
   },
   {
    "duration": 814,
    "start_time": "2022-07-05T10:34:21.660Z"
   },
   {
    "duration": 37,
    "start_time": "2022-07-05T10:35:28.308Z"
   },
   {
    "duration": 842,
    "start_time": "2022-07-05T10:35:56.332Z"
   },
   {
    "duration": 30,
    "start_time": "2022-07-05T10:36:19.469Z"
   },
   {
    "duration": 25,
    "start_time": "2022-07-05T10:37:03.021Z"
   },
   {
    "duration": 54,
    "start_time": "2022-07-05T10:38:18.942Z"
   },
   {
    "duration": 50,
    "start_time": "2022-07-05T10:38:29.911Z"
   },
   {
    "duration": 55,
    "start_time": "2022-07-05T10:38:34.662Z"
   },
   {
    "duration": 27,
    "start_time": "2022-07-05T10:38:53.775Z"
   },
   {
    "duration": 31,
    "start_time": "2022-07-05T10:39:36.360Z"
   },
   {
    "duration": 23,
    "start_time": "2022-07-05T10:40:23.496Z"
   },
   {
    "duration": 31,
    "start_time": "2022-07-05T10:41:41.890Z"
   },
   {
    "duration": 34,
    "start_time": "2022-07-05T10:41:49.237Z"
   },
   {
    "duration": 90,
    "start_time": "2022-07-05T10:42:24.884Z"
   },
   {
    "duration": 28,
    "start_time": "2022-07-05T10:42:42.028Z"
   },
   {
    "duration": 26,
    "start_time": "2022-07-05T10:43:52.956Z"
   },
   {
    "duration": 28,
    "start_time": "2022-07-05T10:45:22.989Z"
   },
   {
    "duration": 26,
    "start_time": "2022-07-05T10:45:31.173Z"
   },
   {
    "duration": 158,
    "start_time": "2022-07-05T11:18:16.032Z"
   },
   {
    "duration": 169,
    "start_time": "2022-07-05T11:18:27.986Z"
   },
   {
    "duration": 167,
    "start_time": "2022-07-05T11:24:00.582Z"
   },
   {
    "duration": 30,
    "start_time": "2022-07-05T11:24:30.653Z"
   },
   {
    "duration": 31,
    "start_time": "2022-07-05T11:30:33.964Z"
   },
   {
    "duration": 38,
    "start_time": "2022-07-05T11:31:10.588Z"
   },
   {
    "duration": 183,
    "start_time": "2022-07-05T11:31:24.973Z"
   },
   {
    "duration": 74,
    "start_time": "2022-07-05T11:32:03.007Z"
   },
   {
    "duration": 15,
    "start_time": "2022-07-05T11:32:03.083Z"
   },
   {
    "duration": 19,
    "start_time": "2022-07-05T11:32:03.100Z"
   },
   {
    "duration": 12,
    "start_time": "2022-07-05T11:32:03.121Z"
   },
   {
    "duration": 67,
    "start_time": "2022-07-05T11:32:03.135Z"
   },
   {
    "duration": 4,
    "start_time": "2022-07-05T11:32:03.204Z"
   },
   {
    "duration": 15,
    "start_time": "2022-07-05T11:32:03.210Z"
   },
   {
    "duration": 11,
    "start_time": "2022-07-05T11:32:03.227Z"
   },
   {
    "duration": 20,
    "start_time": "2022-07-05T11:32:03.240Z"
   },
   {
    "duration": 5,
    "start_time": "2022-07-05T11:32:03.262Z"
   },
   {
    "duration": 43,
    "start_time": "2022-07-05T11:32:03.269Z"
   },
   {
    "duration": 10,
    "start_time": "2022-07-05T11:32:03.314Z"
   },
   {
    "duration": 7,
    "start_time": "2022-07-05T11:32:03.326Z"
   },
   {
    "duration": 33,
    "start_time": "2022-07-05T11:32:03.336Z"
   },
   {
    "duration": 16,
    "start_time": "2022-07-05T11:32:03.371Z"
   },
   {
    "duration": 27,
    "start_time": "2022-07-05T11:32:03.389Z"
   },
   {
    "duration": 4,
    "start_time": "2022-07-05T11:32:03.418Z"
   },
   {
    "duration": 38,
    "start_time": "2022-07-05T11:32:03.423Z"
   },
   {
    "duration": 6,
    "start_time": "2022-07-05T11:32:03.463Z"
   },
   {
    "duration": 4,
    "start_time": "2022-07-05T11:32:03.471Z"
   },
   {
    "duration": 16,
    "start_time": "2022-07-05T11:32:03.476Z"
   },
   {
    "duration": 169,
    "start_time": "2022-07-05T11:32:03.494Z"
   },
   {
    "duration": 30,
    "start_time": "2022-07-05T11:32:03.665Z"
   },
   {
    "duration": 36,
    "start_time": "2022-07-05T11:32:03.697Z"
   },
   {
    "duration": 26,
    "start_time": "2022-07-05T11:32:03.735Z"
   },
   {
    "duration": 7,
    "start_time": "2022-07-05T11:32:03.763Z"
   },
   {
    "duration": 18,
    "start_time": "2022-07-05T11:32:42.860Z"
   },
   {
    "duration": 32,
    "start_time": "2022-07-05T11:32:49.052Z"
   },
   {
    "duration": 431,
    "start_time": "2022-07-05T11:33:16.897Z"
   },
   {
    "duration": 24,
    "start_time": "2022-07-05T11:33:17.330Z"
   },
   {
    "duration": 22,
    "start_time": "2022-07-05T11:33:17.356Z"
   },
   {
    "duration": 10,
    "start_time": "2022-07-05T11:33:17.380Z"
   },
   {
    "duration": 33,
    "start_time": "2022-07-05T11:33:17.392Z"
   },
   {
    "duration": 4,
    "start_time": "2022-07-05T11:33:17.427Z"
   },
   {
    "duration": 12,
    "start_time": "2022-07-05T11:33:17.461Z"
   },
   {
    "duration": 5,
    "start_time": "2022-07-05T11:33:17.475Z"
   },
   {
    "duration": 13,
    "start_time": "2022-07-05T11:33:17.482Z"
   },
   {
    "duration": 9,
    "start_time": "2022-07-05T11:33:17.497Z"
   },
   {
    "duration": 73,
    "start_time": "2022-07-05T11:33:17.508Z"
   },
   {
    "duration": 14,
    "start_time": "2022-07-05T11:33:17.583Z"
   },
   {
    "duration": 4,
    "start_time": "2022-07-05T11:33:17.599Z"
   },
   {
    "duration": 24,
    "start_time": "2022-07-05T11:33:17.607Z"
   },
   {
    "duration": 42,
    "start_time": "2022-07-05T11:33:17.633Z"
   },
   {
    "duration": 28,
    "start_time": "2022-07-05T11:33:17.676Z"
   },
   {
    "duration": 4,
    "start_time": "2022-07-05T11:33:17.705Z"
   },
   {
    "duration": 15,
    "start_time": "2022-07-05T11:33:17.711Z"
   },
   {
    "duration": 10,
    "start_time": "2022-07-05T11:33:17.727Z"
   },
   {
    "duration": 24,
    "start_time": "2022-07-05T11:33:17.739Z"
   },
   {
    "duration": 17,
    "start_time": "2022-07-05T11:33:17.765Z"
   },
   {
    "duration": 894,
    "start_time": "2022-07-05T11:33:17.784Z"
   },
   {
    "duration": 0,
    "start_time": "2022-07-05T11:33:18.680Z"
   },
   {
    "duration": 0,
    "start_time": "2022-07-05T11:33:18.681Z"
   },
   {
    "duration": 0,
    "start_time": "2022-07-05T11:33:18.683Z"
   },
   {
    "duration": 0,
    "start_time": "2022-07-05T11:33:18.684Z"
   },
   {
    "duration": 505,
    "start_time": "2022-07-05T11:33:54.069Z"
   },
   {
    "duration": 24,
    "start_time": "2022-07-05T11:33:54.577Z"
   },
   {
    "duration": 15,
    "start_time": "2022-07-05T11:33:54.603Z"
   },
   {
    "duration": 10,
    "start_time": "2022-07-05T11:33:54.620Z"
   },
   {
    "duration": 65,
    "start_time": "2022-07-05T11:33:54.633Z"
   },
   {
    "duration": 6,
    "start_time": "2022-07-05T11:33:54.700Z"
   },
   {
    "duration": 13,
    "start_time": "2022-07-05T11:33:54.708Z"
   },
   {
    "duration": 5,
    "start_time": "2022-07-05T11:33:54.723Z"
   },
   {
    "duration": 13,
    "start_time": "2022-07-05T11:33:54.730Z"
   },
   {
    "duration": 6,
    "start_time": "2022-07-05T11:33:54.761Z"
   },
   {
    "duration": 46,
    "start_time": "2022-07-05T11:33:54.769Z"
   },
   {
    "duration": 11,
    "start_time": "2022-07-05T11:33:54.817Z"
   },
   {
    "duration": 30,
    "start_time": "2022-07-05T11:33:54.830Z"
   },
   {
    "duration": 20,
    "start_time": "2022-07-05T11:33:54.864Z"
   },
   {
    "duration": 17,
    "start_time": "2022-07-05T11:33:54.886Z"
   },
   {
    "duration": 58,
    "start_time": "2022-07-05T11:33:54.905Z"
   },
   {
    "duration": 5,
    "start_time": "2022-07-05T11:33:54.965Z"
   },
   {
    "duration": 19,
    "start_time": "2022-07-05T11:33:54.971Z"
   },
   {
    "duration": 10,
    "start_time": "2022-07-05T11:33:54.993Z"
   },
   {
    "duration": 5,
    "start_time": "2022-07-05T11:33:55.005Z"
   },
   {
    "duration": 11,
    "start_time": "2022-07-05T11:33:55.012Z"
   },
   {
    "duration": 923,
    "start_time": "2022-07-05T11:33:55.024Z"
   },
   {
    "duration": 48,
    "start_time": "2022-07-05T11:33:55.949Z"
   },
   {
    "duration": 127,
    "start_time": "2022-07-05T11:33:55.999Z"
   },
   {
    "duration": 0,
    "start_time": "2022-07-05T11:33:56.128Z"
   },
   {
    "duration": 0,
    "start_time": "2022-07-05T11:33:56.129Z"
   },
   {
    "duration": 429,
    "start_time": "2022-07-05T11:34:32.713Z"
   },
   {
    "duration": 22,
    "start_time": "2022-07-05T11:34:33.145Z"
   },
   {
    "duration": 15,
    "start_time": "2022-07-05T11:34:33.168Z"
   },
   {
    "duration": 12,
    "start_time": "2022-07-05T11:34:33.184Z"
   },
   {
    "duration": 37,
    "start_time": "2022-07-05T11:34:33.198Z"
   },
   {
    "duration": 4,
    "start_time": "2022-07-05T11:34:33.262Z"
   },
   {
    "duration": 14,
    "start_time": "2022-07-05T11:34:33.267Z"
   },
   {
    "duration": 7,
    "start_time": "2022-07-05T11:34:33.282Z"
   },
   {
    "duration": 14,
    "start_time": "2022-07-05T11:34:33.291Z"
   },
   {
    "duration": 5,
    "start_time": "2022-07-05T11:34:33.306Z"
   },
   {
    "duration": 57,
    "start_time": "2022-07-05T11:34:33.313Z"
   },
   {
    "duration": 13,
    "start_time": "2022-07-05T11:34:33.371Z"
   },
   {
    "duration": 4,
    "start_time": "2022-07-05T11:34:33.386Z"
   },
   {
    "duration": 22,
    "start_time": "2022-07-05T11:34:33.393Z"
   },
   {
    "duration": 44,
    "start_time": "2022-07-05T11:34:33.417Z"
   },
   {
    "duration": 42,
    "start_time": "2022-07-05T11:34:33.463Z"
   },
   {
    "duration": 6,
    "start_time": "2022-07-05T11:34:33.507Z"
   },
   {
    "duration": 18,
    "start_time": "2022-07-05T11:34:33.515Z"
   },
   {
    "duration": 29,
    "start_time": "2022-07-05T11:34:33.535Z"
   },
   {
    "duration": 4,
    "start_time": "2022-07-05T11:34:33.566Z"
   },
   {
    "duration": 15,
    "start_time": "2022-07-05T11:34:33.571Z"
   },
   {
    "duration": 892,
    "start_time": "2022-07-05T11:34:33.587Z"
   },
   {
    "duration": 33,
    "start_time": "2022-07-05T11:34:34.481Z"
   },
   {
    "duration": 22,
    "start_time": "2022-07-05T11:34:34.516Z"
   },
   {
    "duration": 5,
    "start_time": "2022-07-05T11:34:34.561Z"
   },
   {
    "duration": 6,
    "start_time": "2022-07-05T11:34:34.568Z"
   },
   {
    "duration": 26,
    "start_time": "2022-07-05T11:34:39.110Z"
   },
   {
    "duration": 114,
    "start_time": "2022-07-05T11:34:57.510Z"
   },
   {
    "duration": 31,
    "start_time": "2022-07-05T11:35:04.190Z"
   },
   {
    "duration": 31,
    "start_time": "2022-07-05T11:37:49.938Z"
   },
   {
    "duration": 41,
    "start_time": "2022-07-05T11:38:20.017Z"
   },
   {
    "duration": 31,
    "start_time": "2022-07-05T11:39:03.442Z"
   },
   {
    "duration": 28,
    "start_time": "2022-07-05T11:39:47.812Z"
   },
   {
    "duration": 41,
    "start_time": "2022-07-05T11:40:27.771Z"
   },
   {
    "duration": 52,
    "start_time": "2022-07-05T11:40:46.338Z"
   },
   {
    "duration": 43,
    "start_time": "2022-07-05T11:40:55.803Z"
   },
   {
    "duration": 41,
    "start_time": "2022-07-05T11:44:01.384Z"
   },
   {
    "duration": 39,
    "start_time": "2022-07-05T11:44:18.615Z"
   },
   {
    "duration": 37,
    "start_time": "2022-07-05T11:44:49.495Z"
   },
   {
    "duration": 31,
    "start_time": "2022-07-05T11:45:13.463Z"
   },
   {
    "duration": 34,
    "start_time": "2022-07-05T11:45:23.175Z"
   },
   {
    "duration": 47,
    "start_time": "2022-07-05T11:46:19.097Z"
   },
   {
    "duration": 24,
    "start_time": "2022-07-05T11:47:43.370Z"
   },
   {
    "duration": 488,
    "start_time": "2022-07-05T11:48:04.661Z"
   },
   {
    "duration": 25,
    "start_time": "2022-07-05T11:48:05.151Z"
   },
   {
    "duration": 14,
    "start_time": "2022-07-05T11:48:05.178Z"
   },
   {
    "duration": 18,
    "start_time": "2022-07-05T11:48:05.194Z"
   },
   {
    "duration": 46,
    "start_time": "2022-07-05T11:48:05.214Z"
   },
   {
    "duration": 4,
    "start_time": "2022-07-05T11:48:05.263Z"
   },
   {
    "duration": 19,
    "start_time": "2022-07-05T11:48:05.268Z"
   },
   {
    "duration": 13,
    "start_time": "2022-07-05T11:48:05.288Z"
   },
   {
    "duration": 23,
    "start_time": "2022-07-05T11:48:05.303Z"
   },
   {
    "duration": 5,
    "start_time": "2022-07-05T11:48:05.330Z"
   },
   {
    "duration": 40,
    "start_time": "2022-07-05T11:48:05.337Z"
   },
   {
    "duration": 9,
    "start_time": "2022-07-05T11:48:05.379Z"
   },
   {
    "duration": 6,
    "start_time": "2022-07-05T11:48:05.390Z"
   },
   {
    "duration": 27,
    "start_time": "2022-07-05T11:48:05.398Z"
   },
   {
    "duration": 18,
    "start_time": "2022-07-05T11:48:05.427Z"
   },
   {
    "duration": 40,
    "start_time": "2022-07-05T11:48:05.447Z"
   },
   {
    "duration": 3,
    "start_time": "2022-07-05T11:48:05.489Z"
   },
   {
    "duration": 18,
    "start_time": "2022-07-05T11:48:05.494Z"
   },
   {
    "duration": 14,
    "start_time": "2022-07-05T11:48:05.514Z"
   },
   {
    "duration": 3,
    "start_time": "2022-07-05T11:48:05.530Z"
   },
   {
    "duration": 20,
    "start_time": "2022-07-05T11:48:05.535Z"
   },
   {
    "duration": 982,
    "start_time": "2022-07-05T11:48:05.561Z"
   },
   {
    "duration": 41,
    "start_time": "2022-07-05T11:48:06.548Z"
   },
   {
    "duration": 27,
    "start_time": "2022-07-05T11:48:06.590Z"
   },
   {
    "duration": 3,
    "start_time": "2022-07-05T11:48:06.618Z"
   },
   {
    "duration": 19,
    "start_time": "2022-07-05T11:48:06.622Z"
   },
   {
    "duration": 26,
    "start_time": "2022-07-05T11:49:37.456Z"
   },
   {
    "duration": 150,
    "start_time": "2022-07-05T11:50:53.354Z"
   },
   {
    "duration": 159,
    "start_time": "2022-07-05T11:51:28.242Z"
   },
   {
    "duration": 154,
    "start_time": "2022-07-05T11:54:34.923Z"
   },
   {
    "duration": 178,
    "start_time": "2022-07-05T11:55:23.077Z"
   },
   {
    "duration": 126,
    "start_time": "2022-07-05T11:59:35.992Z"
   },
   {
    "duration": 181,
    "start_time": "2022-07-05T12:00:15.266Z"
   },
   {
    "duration": 163,
    "start_time": "2022-07-05T12:00:47.785Z"
   },
   {
    "duration": 186,
    "start_time": "2022-07-05T12:01:54.875Z"
   },
   {
    "duration": 201,
    "start_time": "2022-07-05T12:04:10.030Z"
   },
   {
    "duration": 261,
    "start_time": "2022-07-05T12:04:22.501Z"
   },
   {
    "duration": 153,
    "start_time": "2022-07-05T12:07:42.767Z"
   },
   {
    "duration": 10,
    "start_time": "2022-07-05T12:30:25.714Z"
   },
   {
    "duration": 13,
    "start_time": "2022-07-05T12:30:36.652Z"
   },
   {
    "duration": 10,
    "start_time": "2022-07-05T12:30:47.578Z"
   },
   {
    "duration": 13,
    "start_time": "2022-07-05T12:31:06.787Z"
   },
   {
    "duration": 8,
    "start_time": "2022-07-05T12:31:15.460Z"
   },
   {
    "duration": 8,
    "start_time": "2022-07-05T12:39:16.278Z"
   },
   {
    "duration": 8,
    "start_time": "2022-07-05T12:39:31.042Z"
   },
   {
    "duration": 9,
    "start_time": "2022-07-05T12:39:47.280Z"
   },
   {
    "duration": 34,
    "start_time": "2022-07-05T12:40:12.255Z"
   },
   {
    "duration": 22,
    "start_time": "2022-07-05T12:49:35.736Z"
   },
   {
    "duration": 80,
    "start_time": "2022-07-05T13:59:10.487Z"
   },
   {
    "duration": 204,
    "start_time": "2022-07-05T14:03:28.087Z"
   },
   {
    "duration": 188,
    "start_time": "2022-07-05T14:03:57.996Z"
   },
   {
    "duration": 252,
    "start_time": "2022-07-05T14:06:26.237Z"
   },
   {
    "duration": 133,
    "start_time": "2022-07-05T14:07:50.721Z"
   },
   {
    "duration": 19,
    "start_time": "2022-07-05T14:10:03.359Z"
   },
   {
    "duration": 181,
    "start_time": "2022-07-05T14:10:38.425Z"
   },
   {
    "duration": 364,
    "start_time": "2022-07-05T14:11:21.985Z"
   },
   {
    "duration": 48,
    "start_time": "2022-07-05T14:30:49.826Z"
   },
   {
    "duration": 4,
    "start_time": "2022-07-05T14:30:58.374Z"
   },
   {
    "duration": 30,
    "start_time": "2022-07-05T14:31:10.565Z"
   },
   {
    "duration": 145,
    "start_time": "2022-07-05T14:31:21.543Z"
   },
   {
    "duration": 135,
    "start_time": "2022-07-05T14:31:53.007Z"
   },
   {
    "duration": 238,
    "start_time": "2022-07-05T14:32:13.352Z"
   },
   {
    "duration": 48,
    "start_time": "2022-07-06T08:01:42.613Z"
   },
   {
    "duration": 527,
    "start_time": "2022-07-06T08:05:08.907Z"
   },
   {
    "duration": 22,
    "start_time": "2022-07-06T08:05:09.436Z"
   },
   {
    "duration": 15,
    "start_time": "2022-07-06T08:05:09.460Z"
   },
   {
    "duration": 10,
    "start_time": "2022-07-06T08:05:09.478Z"
   },
   {
    "duration": 52,
    "start_time": "2022-07-06T08:05:09.490Z"
   },
   {
    "duration": 4,
    "start_time": "2022-07-06T08:05:09.544Z"
   },
   {
    "duration": 13,
    "start_time": "2022-07-06T08:05:09.550Z"
   },
   {
    "duration": 8,
    "start_time": "2022-07-06T08:05:09.565Z"
   },
   {
    "duration": 15,
    "start_time": "2022-07-06T08:05:09.574Z"
   },
   {
    "duration": 5,
    "start_time": "2022-07-06T08:05:09.591Z"
   },
   {
    "duration": 55,
    "start_time": "2022-07-06T08:05:09.597Z"
   },
   {
    "duration": 10,
    "start_time": "2022-07-06T08:05:09.654Z"
   },
   {
    "duration": 5,
    "start_time": "2022-07-06T08:05:09.665Z"
   },
   {
    "duration": 19,
    "start_time": "2022-07-06T08:05:09.672Z"
   },
   {
    "duration": 41,
    "start_time": "2022-07-06T08:05:09.694Z"
   },
   {
    "duration": 27,
    "start_time": "2022-07-06T08:05:09.737Z"
   },
   {
    "duration": 3,
    "start_time": "2022-07-06T08:05:09.766Z"
   },
   {
    "duration": 16,
    "start_time": "2022-07-06T08:05:09.771Z"
   },
   {
    "duration": 9,
    "start_time": "2022-07-06T08:05:09.789Z"
   },
   {
    "duration": 25,
    "start_time": "2022-07-06T08:05:09.799Z"
   },
   {
    "duration": 10,
    "start_time": "2022-07-06T08:05:09.825Z"
   },
   {
    "duration": 1055,
    "start_time": "2022-07-06T08:05:09.836Z"
   },
   {
    "duration": 41,
    "start_time": "2022-07-06T08:05:10.893Z"
   },
   {
    "duration": 174,
    "start_time": "2022-07-06T08:05:10.937Z"
   },
   {
    "duration": 68,
    "start_time": "2022-07-06T08:05:11.112Z"
   },
   {
    "duration": 0,
    "start_time": "2022-07-06T08:05:11.182Z"
   },
   {
    "duration": 0,
    "start_time": "2022-07-06T08:05:11.183Z"
   },
   {
    "duration": 9,
    "start_time": "2022-07-06T08:05:25.278Z"
   },
   {
    "duration": 7,
    "start_time": "2022-07-06T08:05:50.390Z"
   },
   {
    "duration": 9,
    "start_time": "2022-07-06T08:06:43.102Z"
   },
   {
    "duration": 6,
    "start_time": "2022-07-06T08:07:35.024Z"
   },
   {
    "duration": 637,
    "start_time": "2022-07-06T08:08:00.864Z"
   },
   {
    "duration": 46,
    "start_time": "2022-07-06T08:12:31.352Z"
   },
   {
    "duration": 908,
    "start_time": "2022-07-06T08:12:38.020Z"
   },
   {
    "duration": 16,
    "start_time": "2022-07-06T08:12:58.850Z"
   },
   {
    "duration": 9,
    "start_time": "2022-07-06T08:13:05.868Z"
   },
   {
    "duration": 13,
    "start_time": "2022-07-06T08:14:31.627Z"
   },
   {
    "duration": 18,
    "start_time": "2022-07-06T08:15:32.452Z"
   },
   {
    "duration": 18,
    "start_time": "2022-07-06T08:16:58.096Z"
   },
   {
    "duration": 623,
    "start_time": "2022-07-06T08:18:25.258Z"
   },
   {
    "duration": 628,
    "start_time": "2022-07-06T08:20:27.401Z"
   },
   {
    "duration": 1296,
    "start_time": "2022-07-06T08:25:54.665Z"
   },
   {
    "duration": 722,
    "start_time": "2022-07-06T08:27:05.132Z"
   },
   {
    "duration": 1207,
    "start_time": "2022-07-06T08:28:41.774Z"
   },
   {
    "duration": 1400,
    "start_time": "2022-07-06T08:29:56.633Z"
   },
   {
    "duration": 1204,
    "start_time": "2022-07-06T08:30:14.350Z"
   },
   {
    "duration": 636,
    "start_time": "2022-07-06T08:30:21.492Z"
   },
   {
    "duration": 765,
    "start_time": "2022-07-06T08:30:34.909Z"
   },
   {
    "duration": 669,
    "start_time": "2022-07-06T08:31:00.662Z"
   },
   {
    "duration": 1140,
    "start_time": "2022-07-06T08:34:57.985Z"
   },
   {
    "duration": 651,
    "start_time": "2022-07-06T08:36:16.209Z"
   },
   {
    "duration": 1146,
    "start_time": "2022-07-06T08:40:20.714Z"
   },
   {
    "duration": 602,
    "start_time": "2022-07-06T08:42:33.261Z"
   },
   {
    "duration": 1182,
    "start_time": "2022-07-06T08:48:04.720Z"
   },
   {
    "duration": 696,
    "start_time": "2022-07-06T08:48:30.937Z"
   },
   {
    "duration": 631,
    "start_time": "2022-07-06T08:51:00.379Z"
   },
   {
    "duration": 655,
    "start_time": "2022-07-06T08:51:19.371Z"
   },
   {
    "duration": 13,
    "start_time": "2022-07-06T08:54:02.072Z"
   },
   {
    "duration": 14,
    "start_time": "2022-07-06T08:54:24.543Z"
   },
   {
    "duration": 6,
    "start_time": "2022-07-06T08:54:50.848Z"
   },
   {
    "duration": 33,
    "start_time": "2022-07-06T08:58:13.100Z"
   },
   {
    "duration": 282,
    "start_time": "2022-07-06T08:58:55.013Z"
   },
   {
    "duration": 814,
    "start_time": "2022-07-06T08:59:07.093Z"
   },
   {
    "duration": 448,
    "start_time": "2022-07-06T08:59:34.743Z"
   },
   {
    "duration": 22,
    "start_time": "2022-07-06T08:59:35.193Z"
   },
   {
    "duration": 15,
    "start_time": "2022-07-06T08:59:35.217Z"
   },
   {
    "duration": 9,
    "start_time": "2022-07-06T08:59:35.234Z"
   },
   {
    "duration": 1381,
    "start_time": "2022-07-06T08:59:35.244Z"
   },
   {
    "duration": 4,
    "start_time": "2022-07-06T08:59:36.626Z"
   },
   {
    "duration": 15,
    "start_time": "2022-07-06T08:59:36.632Z"
   },
   {
    "duration": 5,
    "start_time": "2022-07-06T08:59:36.649Z"
   },
   {
    "duration": 9,
    "start_time": "2022-07-06T08:59:36.656Z"
   },
   {
    "duration": 5,
    "start_time": "2022-07-06T08:59:36.669Z"
   },
   {
    "duration": 79,
    "start_time": "2022-07-06T08:59:36.676Z"
   },
   {
    "duration": 11,
    "start_time": "2022-07-06T08:59:36.757Z"
   },
   {
    "duration": 4,
    "start_time": "2022-07-06T08:59:36.769Z"
   },
   {
    "duration": 22,
    "start_time": "2022-07-06T08:59:36.774Z"
   },
   {
    "duration": 36,
    "start_time": "2022-07-06T08:59:36.798Z"
   },
   {
    "duration": 25,
    "start_time": "2022-07-06T08:59:36.836Z"
   },
   {
    "duration": 4,
    "start_time": "2022-07-06T08:59:36.863Z"
   },
   {
    "duration": 13,
    "start_time": "2022-07-06T08:59:36.869Z"
   },
   {
    "duration": 6,
    "start_time": "2022-07-06T08:59:36.883Z"
   },
   {
    "duration": 4,
    "start_time": "2022-07-06T08:59:36.891Z"
   },
   {
    "duration": 33,
    "start_time": "2022-07-06T08:59:36.897Z"
   },
   {
    "duration": 160,
    "start_time": "2022-07-06T08:59:36.932Z"
   },
   {
    "duration": 42,
    "start_time": "2022-07-06T08:59:37.093Z"
   },
   {
    "duration": 190,
    "start_time": "2022-07-06T08:59:37.136Z"
   },
   {
    "duration": 666,
    "start_time": "2022-07-06T08:59:37.327Z"
   },
   {
    "duration": 598,
    "start_time": "2022-07-06T08:59:37.995Z"
   },
   {
    "duration": 159,
    "start_time": "2022-07-06T08:59:38.595Z"
   },
   {
    "duration": 166,
    "start_time": "2022-07-06T08:59:38.758Z"
   },
   {
    "duration": 459,
    "start_time": "2022-07-06T09:00:10.503Z"
   },
   {
    "duration": 21,
    "start_time": "2022-07-06T09:00:10.964Z"
   },
   {
    "duration": 20,
    "start_time": "2022-07-06T09:00:10.987Z"
   },
   {
    "duration": 29,
    "start_time": "2022-07-06T09:00:11.009Z"
   },
   {
    "duration": 37,
    "start_time": "2022-07-06T09:00:11.040Z"
   },
   {
    "duration": 3,
    "start_time": "2022-07-06T09:00:11.079Z"
   },
   {
    "duration": 18,
    "start_time": "2022-07-06T09:00:11.084Z"
   },
   {
    "duration": 31,
    "start_time": "2022-07-06T09:00:11.104Z"
   },
   {
    "duration": 32,
    "start_time": "2022-07-06T09:00:11.137Z"
   },
   {
    "duration": 8,
    "start_time": "2022-07-06T09:00:11.173Z"
   },
   {
    "duration": 56,
    "start_time": "2022-07-06T09:00:11.182Z"
   },
   {
    "duration": 10,
    "start_time": "2022-07-06T09:00:11.240Z"
   },
   {
    "duration": 14,
    "start_time": "2022-07-06T09:00:11.251Z"
   },
   {
    "duration": 35,
    "start_time": "2022-07-06T09:00:11.267Z"
   },
   {
    "duration": 18,
    "start_time": "2022-07-06T09:00:11.304Z"
   },
   {
    "duration": 41,
    "start_time": "2022-07-06T09:00:11.323Z"
   },
   {
    "duration": 4,
    "start_time": "2022-07-06T09:00:11.366Z"
   },
   {
    "duration": 21,
    "start_time": "2022-07-06T09:00:11.371Z"
   },
   {
    "duration": 24,
    "start_time": "2022-07-06T09:00:11.394Z"
   },
   {
    "duration": 19,
    "start_time": "2022-07-06T09:00:11.420Z"
   },
   {
    "duration": 51,
    "start_time": "2022-07-06T09:00:11.441Z"
   },
   {
    "duration": 148,
    "start_time": "2022-07-06T09:00:11.494Z"
   },
   {
    "duration": 1,
    "start_time": "2022-07-06T09:00:11.645Z"
   },
   {
    "duration": 0,
    "start_time": "2022-07-06T09:00:11.647Z"
   },
   {
    "duration": 0,
    "start_time": "2022-07-06T09:00:11.648Z"
   },
   {
    "duration": 0,
    "start_time": "2022-07-06T09:00:11.649Z"
   },
   {
    "duration": 0,
    "start_time": "2022-07-06T09:00:11.650Z"
   },
   {
    "duration": 0,
    "start_time": "2022-07-06T09:00:11.651Z"
   },
   {
    "duration": 445,
    "start_time": "2022-07-06T09:00:25.188Z"
   },
   {
    "duration": 26,
    "start_time": "2022-07-06T09:00:25.635Z"
   },
   {
    "duration": 16,
    "start_time": "2022-07-06T09:00:25.663Z"
   },
   {
    "duration": 9,
    "start_time": "2022-07-06T09:00:25.681Z"
   },
   {
    "duration": 44,
    "start_time": "2022-07-06T09:00:25.692Z"
   },
   {
    "duration": 4,
    "start_time": "2022-07-06T09:00:25.737Z"
   },
   {
    "duration": 10,
    "start_time": "2022-07-06T09:00:25.743Z"
   },
   {
    "duration": 4,
    "start_time": "2022-07-06T09:00:25.755Z"
   },
   {
    "duration": 9,
    "start_time": "2022-07-06T09:00:25.760Z"
   },
   {
    "duration": 4,
    "start_time": "2022-07-06T09:00:25.772Z"
   },
   {
    "duration": 67,
    "start_time": "2022-07-06T09:00:25.778Z"
   },
   {
    "duration": 11,
    "start_time": "2022-07-06T09:00:25.846Z"
   },
   {
    "duration": 3,
    "start_time": "2022-07-06T09:00:25.859Z"
   },
   {
    "duration": 19,
    "start_time": "2022-07-06T09:00:25.864Z"
   },
   {
    "duration": 51,
    "start_time": "2022-07-06T09:00:25.885Z"
   },
   {
    "duration": 26,
    "start_time": "2022-07-06T09:00:25.938Z"
   },
   {
    "duration": 3,
    "start_time": "2022-07-06T09:00:25.966Z"
   },
   {
    "duration": 13,
    "start_time": "2022-07-06T09:00:25.970Z"
   },
   {
    "duration": 5,
    "start_time": "2022-07-06T09:00:25.985Z"
   },
   {
    "duration": 5,
    "start_time": "2022-07-06T09:00:25.991Z"
   },
   {
    "duration": 12,
    "start_time": "2022-07-06T09:00:25.998Z"
   },
   {
    "duration": 927,
    "start_time": "2022-07-06T09:00:26.012Z"
   },
   {
    "duration": 32,
    "start_time": "2022-07-06T09:00:26.941Z"
   },
   {
    "duration": 182,
    "start_time": "2022-07-06T09:00:26.975Z"
   },
   {
    "duration": 714,
    "start_time": "2022-07-06T09:00:27.159Z"
   },
   {
    "duration": 676,
    "start_time": "2022-07-06T09:00:27.875Z"
   },
   {
    "duration": 161,
    "start_time": "2022-07-06T09:00:28.553Z"
   },
   {
    "duration": 165,
    "start_time": "2022-07-06T09:00:28.717Z"
   },
   {
    "duration": 28,
    "start_time": "2022-07-06T09:43:38.190Z"
   },
   {
    "duration": 43,
    "start_time": "2022-07-06T09:44:45.344Z"
   },
   {
    "duration": 33,
    "start_time": "2022-07-06T09:45:49.970Z"
   },
   {
    "duration": 32,
    "start_time": "2022-07-06T09:47:04.916Z"
   },
   {
    "duration": 33,
    "start_time": "2022-07-06T09:47:54.893Z"
   },
   {
    "duration": 143,
    "start_time": "2022-07-06T09:52:09.661Z"
   },
   {
    "duration": 221,
    "start_time": "2022-07-06T09:52:20.946Z"
   },
   {
    "duration": 141,
    "start_time": "2022-07-06T09:52:46.552Z"
   },
   {
    "duration": 62,
    "start_time": "2022-07-06T10:12:44.639Z"
   },
   {
    "duration": 14,
    "start_time": "2022-07-06T10:12:44.703Z"
   },
   {
    "duration": 30,
    "start_time": "2022-07-06T10:12:44.719Z"
   },
   {
    "duration": 18,
    "start_time": "2022-07-06T10:12:44.751Z"
   },
   {
    "duration": 33,
    "start_time": "2022-07-06T10:12:44.771Z"
   },
   {
    "duration": 3,
    "start_time": "2022-07-06T10:12:44.806Z"
   },
   {
    "duration": 26,
    "start_time": "2022-07-06T10:12:44.811Z"
   },
   {
    "duration": 11,
    "start_time": "2022-07-06T10:12:44.839Z"
   },
   {
    "duration": 76,
    "start_time": "2022-07-06T10:12:44.851Z"
   },
   {
    "duration": 16,
    "start_time": "2022-07-06T10:12:44.929Z"
   },
   {
    "duration": 39,
    "start_time": "2022-07-06T10:12:44.947Z"
   },
   {
    "duration": 12,
    "start_time": "2022-07-06T10:12:44.988Z"
   },
   {
    "duration": 27,
    "start_time": "2022-07-06T10:12:45.001Z"
   },
   {
    "duration": 33,
    "start_time": "2022-07-06T10:12:45.031Z"
   },
   {
    "duration": 16,
    "start_time": "2022-07-06T10:12:45.066Z"
   },
   {
    "duration": 24,
    "start_time": "2022-07-06T10:12:45.084Z"
   },
   {
    "duration": 4,
    "start_time": "2022-07-06T10:12:45.110Z"
   },
   {
    "duration": 13,
    "start_time": "2022-07-06T10:12:45.115Z"
   },
   {
    "duration": 22,
    "start_time": "2022-07-06T10:12:45.129Z"
   },
   {
    "duration": 8,
    "start_time": "2022-07-06T10:12:45.152Z"
   },
   {
    "duration": 13,
    "start_time": "2022-07-06T10:12:45.161Z"
   },
   {
    "duration": 151,
    "start_time": "2022-07-06T10:12:45.175Z"
   },
   {
    "duration": 29,
    "start_time": "2022-07-06T10:12:45.328Z"
   },
   {
    "duration": 171,
    "start_time": "2022-07-06T10:12:45.358Z"
   },
   {
    "duration": 640,
    "start_time": "2022-07-06T10:12:45.531Z"
   },
   {
    "duration": 609,
    "start_time": "2022-07-06T10:12:46.173Z"
   },
   {
    "duration": 149,
    "start_time": "2022-07-06T10:12:46.784Z"
   },
   {
    "duration": 158,
    "start_time": "2022-07-06T10:12:46.935Z"
   },
   {
    "duration": 152,
    "start_time": "2022-07-06T10:12:47.094Z"
   },
   {
    "duration": 24,
    "start_time": "2022-07-06T11:22:37.009Z"
   },
   {
    "duration": 454,
    "start_time": "2022-07-06T11:24:54.940Z"
   },
   {
    "duration": 22,
    "start_time": "2022-07-06T11:24:55.396Z"
   },
   {
    "duration": 15,
    "start_time": "2022-07-06T11:24:55.419Z"
   },
   {
    "duration": 25,
    "start_time": "2022-07-06T11:24:55.435Z"
   },
   {
    "duration": 38,
    "start_time": "2022-07-06T11:24:55.462Z"
   },
   {
    "duration": 3,
    "start_time": "2022-07-06T11:24:55.502Z"
   },
   {
    "duration": 28,
    "start_time": "2022-07-06T11:24:55.506Z"
   },
   {
    "duration": 9,
    "start_time": "2022-07-06T11:24:55.535Z"
   },
   {
    "duration": 13,
    "start_time": "2022-07-06T11:24:55.546Z"
   },
   {
    "duration": 10,
    "start_time": "2022-07-06T11:24:55.560Z"
   },
   {
    "duration": 51,
    "start_time": "2022-07-06T11:24:55.572Z"
   },
   {
    "duration": 10,
    "start_time": "2022-07-06T11:24:55.624Z"
   },
   {
    "duration": 14,
    "start_time": "2022-07-06T11:24:55.635Z"
   },
   {
    "duration": 27,
    "start_time": "2022-07-06T11:24:55.652Z"
   },
   {
    "duration": 17,
    "start_time": "2022-07-06T11:24:55.681Z"
   },
   {
    "duration": 32,
    "start_time": "2022-07-06T11:24:55.699Z"
   },
   {
    "duration": 3,
    "start_time": "2022-07-06T11:24:55.733Z"
   },
   {
    "duration": 16,
    "start_time": "2022-07-06T11:24:55.738Z"
   },
   {
    "duration": 13,
    "start_time": "2022-07-06T11:24:55.756Z"
   },
   {
    "duration": 11,
    "start_time": "2022-07-06T11:24:55.771Z"
   },
   {
    "duration": 14,
    "start_time": "2022-07-06T11:24:55.783Z"
   },
   {
    "duration": 884,
    "start_time": "2022-07-06T11:24:55.799Z"
   },
   {
    "duration": 39,
    "start_time": "2022-07-06T11:24:56.685Z"
   },
   {
    "duration": 166,
    "start_time": "2022-07-06T11:24:56.725Z"
   },
   {
    "duration": 670,
    "start_time": "2022-07-06T11:24:56.892Z"
   },
   {
    "duration": 579,
    "start_time": "2022-07-06T11:24:57.564Z"
   },
   {
    "duration": 146,
    "start_time": "2022-07-06T11:24:58.144Z"
   },
   {
    "duration": 170,
    "start_time": "2022-07-06T11:24:58.292Z"
   },
   {
    "duration": 142,
    "start_time": "2022-07-06T11:24:58.464Z"
   },
   {
    "duration": 139,
    "start_time": "2022-07-06T11:27:11.286Z"
   },
   {
    "duration": 458,
    "start_time": "2022-07-06T11:27:18.889Z"
   },
   {
    "duration": 20,
    "start_time": "2022-07-06T11:27:19.349Z"
   },
   {
    "duration": 15,
    "start_time": "2022-07-06T11:27:19.371Z"
   },
   {
    "duration": 9,
    "start_time": "2022-07-06T11:27:19.388Z"
   },
   {
    "duration": 55,
    "start_time": "2022-07-06T11:27:19.399Z"
   },
   {
    "duration": 3,
    "start_time": "2022-07-06T11:27:19.456Z"
   },
   {
    "duration": 12,
    "start_time": "2022-07-06T11:27:19.460Z"
   },
   {
    "duration": 5,
    "start_time": "2022-07-06T11:27:19.474Z"
   },
   {
    "duration": 8,
    "start_time": "2022-07-06T11:27:19.480Z"
   },
   {
    "duration": 4,
    "start_time": "2022-07-06T11:27:19.491Z"
   },
   {
    "duration": 57,
    "start_time": "2022-07-06T11:27:19.497Z"
   },
   {
    "duration": 9,
    "start_time": "2022-07-06T11:27:19.556Z"
   },
   {
    "duration": 10,
    "start_time": "2022-07-06T11:27:19.566Z"
   },
   {
    "duration": 19,
    "start_time": "2022-07-06T11:27:19.578Z"
   },
   {
    "duration": 32,
    "start_time": "2022-07-06T11:27:19.598Z"
   },
   {
    "duration": 25,
    "start_time": "2022-07-06T11:27:19.632Z"
   },
   {
    "duration": 3,
    "start_time": "2022-07-06T11:27:19.659Z"
   },
   {
    "duration": 13,
    "start_time": "2022-07-06T11:27:19.663Z"
   },
   {
    "duration": 6,
    "start_time": "2022-07-06T11:27:19.678Z"
   },
   {
    "duration": 4,
    "start_time": "2022-07-06T11:27:19.685Z"
   },
   {
    "duration": 36,
    "start_time": "2022-07-06T11:27:19.690Z"
   },
   {
    "duration": 866,
    "start_time": "2022-07-06T11:27:19.728Z"
   },
   {
    "duration": 39,
    "start_time": "2022-07-06T11:27:20.595Z"
   },
   {
    "duration": 165,
    "start_time": "2022-07-06T11:27:20.636Z"
   },
   {
    "duration": 660,
    "start_time": "2022-07-06T11:27:20.802Z"
   },
   {
    "duration": 595,
    "start_time": "2022-07-06T11:27:21.463Z"
   },
   {
    "duration": 143,
    "start_time": "2022-07-06T11:27:22.060Z"
   },
   {
    "duration": 168,
    "start_time": "2022-07-06T11:27:22.207Z"
   },
   {
    "duration": 151,
    "start_time": "2022-07-06T11:27:22.377Z"
   }
  ],
  "celltoolbar": "Edit Metadata",
  "colab": {
   "name": "dpp_template_part2.ipynb",
   "provenance": []
  },
  "kernelspec": {
   "display_name": "Python 3 (ipykernel)",
   "language": "python",
   "name": "python3"
  },
  "language_info": {
   "codemirror_mode": {
    "name": "ipython",
    "version": 3
   },
   "file_extension": ".py",
   "mimetype": "text/x-python",
   "name": "python",
   "nbconvert_exporter": "python",
   "pygments_lexer": "ipython3",
   "version": "3.9.15"
  },
  "toc": {
   "base_numbering": 1,
   "nav_menu": {},
   "number_sections": true,
   "sideBar": true,
   "skip_h1_title": true,
   "title_cell": "Table of Contents",
   "title_sidebar": "Contents",
   "toc_cell": false,
   "toc_position": {},
   "toc_section_display": true,
   "toc_window_display": false
  }
 },
 "nbformat": 4,
 "nbformat_minor": 5
}
