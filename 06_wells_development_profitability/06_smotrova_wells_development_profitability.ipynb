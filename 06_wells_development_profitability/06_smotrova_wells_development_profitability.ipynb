{
 "cells": [
  {
   "cell_type": "markdown",
   "metadata": {},
   "source": [
    "# Выбор локации для скважины"
   ]
  },
  {
   "cell_type": "markdown",
   "metadata": {},
   "source": [
    "## Цель проекта\n",
    "\n",
    "Задача проекта - разработать алгоритм выбора оптимального месторождения для достижения максимальной прибыли при установленном уровне риска. Алгоритм будет обучаться на основании данных о пробах из трех регионов, где измерили качество нефти и объём её запасов. Необходимо оценить возможную прибыль с вероятностью 95%, а также вероятность убытков при разработке месторождений.\n",
    "\n",
    "Также установлены следующие экономические ограничения:\n",
    "* Бюджет на разработку месторождения в регионе составляет 10 млрд руб.;\n",
    "* Разведка проводится на 500 скважинах;\n",
    "* Максимальное количество скважин к разработке - 200;\n",
    "* Баррель нефти стоит 450 руб;\n",
    "* Предельно допустимый шанс убытков - 2,5%.\n",
    "\n",
    "Для реализации поставленной задачи необходимо:\n",
    "* Проанализировать исходные данные и подготовить их для дальнейшей работы;\n",
    "* Составить модели для каждого из регионов, предсказывающих уровень запасов в скважине в зависимости от ее характеристик;\n",
    "* На основании полученных моделей получить оценки запасов месторождений;\n",
    "* С помощью техники *bootstrap* выявить доверителньый интерваал прибылей в регионах, а также оценить вероятность убытков при разработке. "
   ]
  },
  {
   "cell_type": "code",
   "execution_count": 1,
   "metadata": {},
   "outputs": [],
   "source": [
    "# Импорты используемых библиотек:\n",
    "\n",
    "import pandas as pd\n",
    "import matplotlib.pyplot as plt\n",
    "import seaborn as sbn\n",
    "from numpy.random import RandomState\n",
    "\n",
    "# Подготовка выборок:\n",
    "from sklearn.model_selection import train_test_split\n",
    "from sklearn.preprocessing import StandardScaler\n",
    "\n",
    "# Регрессор и метрики качества:\n",
    "from sklearn.linear_model import LinearRegression\n",
    "from sklearn.metrics import mean_squared_error"
   ]
  },
  {
   "cell_type": "markdown",
   "metadata": {},
   "source": [
    "## Загрузка и подготовка данных\n",
    "\n",
    "### Первичный обзор\n",
    "\n",
    "Для анализа представлены датасеты для трех регионов. Регион 0:"
   ]
  },
  {
   "cell_type": "code",
   "execution_count": 2,
   "metadata": {},
   "outputs": [
    {
     "name": "stdout",
     "output_type": "stream",
     "text": [
      "<class 'pandas.core.frame.DataFrame'>\n",
      "RangeIndex: 100000 entries, 0 to 99999\n",
      "Data columns (total 5 columns):\n",
      " #   Column   Non-Null Count   Dtype  \n",
      "---  ------   --------------   -----  \n",
      " 0   id       100000 non-null  object \n",
      " 1   f0       100000 non-null  float64\n",
      " 2   f1       100000 non-null  float64\n",
      " 3   f2       100000 non-null  float64\n",
      " 4   product  100000 non-null  float64\n",
      "dtypes: float64(4), object(1)\n",
      "memory usage: 3.8+ MB\n"
     ]
    },
    {
     "data": {
      "text/html": [
       "<div>\n",
       "<style scoped>\n",
       "    .dataframe tbody tr th:only-of-type {\n",
       "        vertical-align: middle;\n",
       "    }\n",
       "\n",
       "    .dataframe tbody tr th {\n",
       "        vertical-align: top;\n",
       "    }\n",
       "\n",
       "    .dataframe thead th {\n",
       "        text-align: right;\n",
       "    }\n",
       "</style>\n",
       "<table border=\"1\" class=\"dataframe\">\n",
       "  <thead>\n",
       "    <tr style=\"text-align: right;\">\n",
       "      <th></th>\n",
       "      <th>id</th>\n",
       "      <th>f0</th>\n",
       "      <th>f1</th>\n",
       "      <th>f2</th>\n",
       "      <th>product</th>\n",
       "    </tr>\n",
       "  </thead>\n",
       "  <tbody>\n",
       "    <tr>\n",
       "      <th>0</th>\n",
       "      <td>txEyH</td>\n",
       "      <td>0.705745</td>\n",
       "      <td>-0.497823</td>\n",
       "      <td>1.221170</td>\n",
       "      <td>105.280062</td>\n",
       "    </tr>\n",
       "    <tr>\n",
       "      <th>1</th>\n",
       "      <td>2acmU</td>\n",
       "      <td>1.334711</td>\n",
       "      <td>-0.340164</td>\n",
       "      <td>4.365080</td>\n",
       "      <td>73.037750</td>\n",
       "    </tr>\n",
       "    <tr>\n",
       "      <th>2</th>\n",
       "      <td>409Wp</td>\n",
       "      <td>1.022732</td>\n",
       "      <td>0.151990</td>\n",
       "      <td>1.419926</td>\n",
       "      <td>85.265647</td>\n",
       "    </tr>\n",
       "    <tr>\n",
       "      <th>3</th>\n",
       "      <td>iJLyR</td>\n",
       "      <td>-0.032172</td>\n",
       "      <td>0.139033</td>\n",
       "      <td>2.978566</td>\n",
       "      <td>168.620776</td>\n",
       "    </tr>\n",
       "    <tr>\n",
       "      <th>4</th>\n",
       "      <td>Xdl7t</td>\n",
       "      <td>1.988431</td>\n",
       "      <td>0.155413</td>\n",
       "      <td>4.751769</td>\n",
       "      <td>154.036647</td>\n",
       "    </tr>\n",
       "  </tbody>\n",
       "</table>\n",
       "</div>"
      ],
      "text/plain": [
       "      id        f0        f1        f2     product\n",
       "0  txEyH  0.705745 -0.497823  1.221170  105.280062\n",
       "1  2acmU  1.334711 -0.340164  4.365080   73.037750\n",
       "2  409Wp  1.022732  0.151990  1.419926   85.265647\n",
       "3  iJLyR -0.032172  0.139033  2.978566  168.620776\n",
       "4  Xdl7t  1.988431  0.155413  4.751769  154.036647"
      ]
     },
     "execution_count": 2,
     "metadata": {},
     "output_type": "execute_result"
    }
   ],
   "source": [
    "# Данные региона 0:\n",
    "try:\n",
    "    df_reg0 = pd.read_csv('/datasets/geo_data_0.csv')\n",
    "except:\n",
    "    df_reg0 = pd.read_csv('datasets/geo_data/geo_data_0.csv')\n",
    "\n",
    "df_reg0.info()\n",
    "df_reg0.head()"
   ]
  },
  {
   "cell_type": "markdown",
   "metadata": {},
   "source": [
    "В датасете для региона 0 находится 100 тыс. объектов. Датасет содержит информацию об `id` скважины (не участвует в моделировании), трех параметрах скважины (`f0, f1, f2`) и оцененных запасах в тыс. баррелей. Пропуски в данных отсутствуют.\n",
    "\n",
    "Регион 1:"
   ]
  },
  {
   "cell_type": "code",
   "execution_count": 3,
   "metadata": {},
   "outputs": [
    {
     "name": "stdout",
     "output_type": "stream",
     "text": [
      "<class 'pandas.core.frame.DataFrame'>\n",
      "RangeIndex: 100000 entries, 0 to 99999\n",
      "Data columns (total 5 columns):\n",
      " #   Column   Non-Null Count   Dtype  \n",
      "---  ------   --------------   -----  \n",
      " 0   id       100000 non-null  object \n",
      " 1   f0       100000 non-null  float64\n",
      " 2   f1       100000 non-null  float64\n",
      " 3   f2       100000 non-null  float64\n",
      " 4   product  100000 non-null  float64\n",
      "dtypes: float64(4), object(1)\n",
      "memory usage: 3.8+ MB\n"
     ]
    }
   ],
   "source": [
    "# Данные региона 1:\n",
    "try:\n",
    "    df_reg1 = pd.read_csv('/datasets/geo_data_1.csv')\n",
    "except:\n",
    "    df_reg1 = pd.read_csv('datasets/geo_data/geo_data_1.csv')\n",
    "\n",
    "df_reg1.info()"
   ]
  },
  {
   "cell_type": "markdown",
   "metadata": {},
   "source": [
    "Аналогично, в датасете содержатся 100 тыс. объектов с тем же набором признаков. Пропуски в данных отсутствуют.\n",
    "\n",
    "Регион 2:"
   ]
  },
  {
   "cell_type": "code",
   "execution_count": 4,
   "metadata": {},
   "outputs": [
    {
     "name": "stdout",
     "output_type": "stream",
     "text": [
      "<class 'pandas.core.frame.DataFrame'>\n",
      "RangeIndex: 100000 entries, 0 to 99999\n",
      "Data columns (total 5 columns):\n",
      " #   Column   Non-Null Count   Dtype  \n",
      "---  ------   --------------   -----  \n",
      " 0   id       100000 non-null  object \n",
      " 1   f0       100000 non-null  float64\n",
      " 2   f1       100000 non-null  float64\n",
      " 3   f2       100000 non-null  float64\n",
      " 4   product  100000 non-null  float64\n",
      "dtypes: float64(4), object(1)\n",
      "memory usage: 3.8+ MB\n"
     ]
    }
   ],
   "source": [
    "# Данные региона 2:\n",
    "try:\n",
    "    df_reg2 = pd.read_csv('/datasets/geo_data_2.csv')\n",
    "except:\n",
    "    df_reg2 = pd.read_csv('datasets/geo_data/geo_data_2.csv')\n",
    "\n",
    "df_reg2.info()"
   ]
  },
  {
   "cell_type": "markdown",
   "metadata": {},
   "source": [
    "Как и в случае с регионами 0 и 1, датасет содержит 100 тыс. наблюдений, Данные не имеют пропусков. \n",
    "\n",
    "Теперь рассмотрим распределения признаков в разных регионах.\n",
    "\n",
    "### Распределение признаков\n",
    "\n",
    "Для удобства введем функции для визуализации и описательных статистик для всех трех регионов сразу:"
   ]
  },
  {
   "cell_type": "code",
   "execution_count": 5,
   "metadata": {},
   "outputs": [],
   "source": [
    "# Для удобства поместим данные в список, где индексу соответствует номер региона:\n",
    "dfs = [df_reg0, df_reg1, df_reg2]\n",
    "\n",
    "# Функция для визуализации распределений\n",
    "def distributions(feature, title='', xlabel=''):\n",
    "    \n",
    "    fig, axes = plt.subplots(1, 3, figsize=(15, 5))\n",
    "    fig.suptitle(title)\n",
    "\n",
    "    for i in range(0,3):\n",
    "        sbn.histplot(dfs[i][feature], ax = axes[i])\n",
    "        axes[i].set_title('Регион '+str(i))\n",
    "        axes[i].set_xlabel('')\n",
    "        axes[i].set_ylabel('')\n",
    "    axes[1].set_xlabel(xlabel)\n",
    "    axes[0].set_ylabel('Частота в ед.')\n",
    "\n",
    "# Функция для дескриптивных статистик:\n",
    "def descr_stats(feature):\n",
    "    \n",
    "    visual_tablе = pd.DataFrame(index = df_reg0['product'].describe().index)\n",
    "    for i in range(3):\n",
    "        visual_tablе['Регион '+str(i)] = dfs[i][feature].describe()\n",
    "\n",
    "    return visual_tablе.drop(index='count')"
   ]
  },
  {
   "cell_type": "markdown",
   "metadata": {},
   "source": [
    "**Целевой признак**"
   ]
  },
  {
   "cell_type": "code",
   "execution_count": 6,
   "metadata": {},
   "outputs": [
    {
     "data": {
      "image/png": "[encoded data removed]",
      "text/plain": [
       "<Figure size 1500x500 with 3 Axes>"
      ]
     },
     "metadata": {},
     "output_type": "display_data"
    }
   ],
   "source": [
    "distributions('product', \n",
    "             'Распределение оцененных запасов в регионах',\n",
    "             'Запасы в тыс.баррелей')"
   ]
  },
  {
   "cell_type": "code",
   "execution_count": 7,
   "metadata": {},
   "outputs": [
    {
     "data": {
      "text/html": [
       "<div>\n",
       "<style scoped>\n",
       "    .dataframe tbody tr th:only-of-type {\n",
       "        vertical-align: middle;\n",
       "    }\n",
       "\n",
       "    .dataframe tbody tr th {\n",
       "        vertical-align: top;\n",
       "    }\n",
       "\n",
       "    .dataframe thead th {\n",
       "        text-align: right;\n",
       "    }\n",
       "</style>\n",
       "<table border=\"1\" class=\"dataframe\">\n",
       "  <thead>\n",
       "    <tr style=\"text-align: right;\">\n",
       "      <th></th>\n",
       "      <th>Регион 0</th>\n",
       "      <th>Регион 1</th>\n",
       "      <th>Регион 2</th>\n",
       "    </tr>\n",
       "  </thead>\n",
       "  <tbody>\n",
       "    <tr>\n",
       "      <th>mean</th>\n",
       "      <td>92.500000</td>\n",
       "      <td>68.825000</td>\n",
       "      <td>95.000000</td>\n",
       "    </tr>\n",
       "    <tr>\n",
       "      <th>std</th>\n",
       "      <td>44.288691</td>\n",
       "      <td>45.944423</td>\n",
       "      <td>44.749921</td>\n",
       "    </tr>\n",
       "    <tr>\n",
       "      <th>min</th>\n",
       "      <td>0.000000</td>\n",
       "      <td>0.000000</td>\n",
       "      <td>0.000000</td>\n",
       "    </tr>\n",
       "    <tr>\n",
       "      <th>25%</th>\n",
       "      <td>56.497507</td>\n",
       "      <td>26.953261</td>\n",
       "      <td>59.450441</td>\n",
       "    </tr>\n",
       "    <tr>\n",
       "      <th>50%</th>\n",
       "      <td>91.849972</td>\n",
       "      <td>57.085625</td>\n",
       "      <td>94.925613</td>\n",
       "    </tr>\n",
       "    <tr>\n",
       "      <th>75%</th>\n",
       "      <td>128.564089</td>\n",
       "      <td>107.813044</td>\n",
       "      <td>130.595027</td>\n",
       "    </tr>\n",
       "    <tr>\n",
       "      <th>max</th>\n",
       "      <td>185.364347</td>\n",
       "      <td>137.945408</td>\n",
       "      <td>190.029838</td>\n",
       "    </tr>\n",
       "  </tbody>\n",
       "</table>\n",
       "</div>"
      ],
      "text/plain": [
       "        Регион 0    Регион 1    Регион 2\n",
       "mean   92.500000   68.825000   95.000000\n",
       "std    44.288691   45.944423   44.749921\n",
       "min     0.000000    0.000000    0.000000\n",
       "25%    56.497507   26.953261   59.450441\n",
       "50%    91.849972   57.085625   94.925613\n",
       "75%   128.564089  107.813044  130.595027\n",
       "max   185.364347  137.945408  190.029838"
      ]
     },
     "metadata": {},
     "output_type": "display_data"
    }
   ],
   "source": [
    "# Описательная статистика:\n",
    "display(descr_stats('product'))"
   ]
  },
  {
   "cell_type": "markdown",
   "metadata": {},
   "source": [
    "<a id = 'c1'></a>\n",
    "Заметно, что распределения целевого признака в регионах 0 и 2 похожи как по основным статистикам (среднее, квантили, стандартное отклонение), так и по форме (6 пиков). Распределение признака в регионе 1 существенно отличается: в данных всего 12 уникальных значений, что обеспечивает столбчатую форму диаграммы. При этом среднее значение меньше, чем для регионов 0 и 1 на ок. 20-25%, медиана - на ок. 40%.\n",
    "\n",
    "**Признак F0**"
   ]
  },
  {
   "cell_type": "code",
   "execution_count": 8,
   "metadata": {
    "scrolled": true
   },
   "outputs": [
    {
     "data": {
      "image/png": "[encoded data removed]",
      "text/plain": [
       "<Figure size 1500x500 with 3 Axes>"
      ]
     },
     "metadata": {},
     "output_type": "display_data"
    }
   ],
   "source": [
    "distributions('f0',\n",
    "             'Распределение признака F0 в регионах',\n",
    "             'Значение признака')"
   ]
  },
  {
   "cell_type": "code",
   "execution_count": 9,
   "metadata": {},
   "outputs": [
    {
     "data": {
      "text/html": [
       "<div>\n",
       "<style scoped>\n",
       "    .dataframe tbody tr th:only-of-type {\n",
       "        vertical-align: middle;\n",
       "    }\n",
       "\n",
       "    .dataframe tbody tr th {\n",
       "        vertical-align: top;\n",
       "    }\n",
       "\n",
       "    .dataframe thead th {\n",
       "        text-align: right;\n",
       "    }\n",
       "</style>\n",
       "<table border=\"1\" class=\"dataframe\">\n",
       "  <thead>\n",
       "    <tr style=\"text-align: right;\">\n",
       "      <th></th>\n",
       "      <th>Регион 0</th>\n",
       "      <th>Регион 1</th>\n",
       "      <th>Регион 2</th>\n",
       "    </tr>\n",
       "  </thead>\n",
       "  <tbody>\n",
       "    <tr>\n",
       "      <th>mean</th>\n",
       "      <td>0.500419</td>\n",
       "      <td>1.141296</td>\n",
       "      <td>0.002023</td>\n",
       "    </tr>\n",
       "    <tr>\n",
       "      <th>std</th>\n",
       "      <td>0.871832</td>\n",
       "      <td>8.965932</td>\n",
       "      <td>1.732045</td>\n",
       "    </tr>\n",
       "    <tr>\n",
       "      <th>min</th>\n",
       "      <td>-1.408605</td>\n",
       "      <td>-31.609576</td>\n",
       "      <td>-8.760004</td>\n",
       "    </tr>\n",
       "    <tr>\n",
       "      <th>25%</th>\n",
       "      <td>-0.072580</td>\n",
       "      <td>-6.298551</td>\n",
       "      <td>-1.162288</td>\n",
       "    </tr>\n",
       "    <tr>\n",
       "      <th>50%</th>\n",
       "      <td>0.502360</td>\n",
       "      <td>1.153055</td>\n",
       "      <td>0.009424</td>\n",
       "    </tr>\n",
       "    <tr>\n",
       "      <th>75%</th>\n",
       "      <td>1.073581</td>\n",
       "      <td>8.621015</td>\n",
       "      <td>1.158535</td>\n",
       "    </tr>\n",
       "    <tr>\n",
       "      <th>max</th>\n",
       "      <td>2.362331</td>\n",
       "      <td>29.421755</td>\n",
       "      <td>7.238262</td>\n",
       "    </tr>\n",
       "  </tbody>\n",
       "</table>\n",
       "</div>"
      ],
      "text/plain": [
       "      Регион 0   Регион 1  Регион 2\n",
       "mean  0.500419   1.141296  0.002023\n",
       "std   0.871832   8.965932  1.732045\n",
       "min  -1.408605 -31.609576 -8.760004\n",
       "25%  -0.072580  -6.298551 -1.162288\n",
       "50%   0.502360   1.153055  0.009424\n",
       "75%   1.073581   8.621015  1.158535\n",
       "max   2.362331  29.421755  7.238262"
      ]
     },
     "metadata": {},
     "output_type": "display_data"
    }
   ],
   "source": [
    "# Описательная статистика:\n",
    "display(descr_stats('f0'))"
   ]
  },
  {
   "cell_type": "markdown",
   "metadata": {},
   "source": [
    "Во всех трех регионах признак имеет как положительные, так и отрицательные значения. Для распределений во всех регионах характерна симметричность (неточная, но все же заметная). При этом форма распределений меняется от региона к региону:\n",
    "* наименьший разброс значений характерен для региона 0 (от -1.4 до 2.4), наибольший - для региона 1 (от -31.6 до 29.4).\n",
    "* распределение для региона 0 имеет 4 пика, для региона 1 - 2 пика, для региона 2 - 1 пик.\n",
    "\n",
    "**Признак F1**"
   ]
  },
  {
   "cell_type": "code",
   "execution_count": 10,
   "metadata": {},
   "outputs": [
    {
     "data": {
      "image/png": "[encoded data removed]",
      "text/plain": [
       "<Figure size 1500x500 with 3 Axes>"
      ]
     },
     "metadata": {},
     "output_type": "display_data"
    }
   ],
   "source": [
    "# Гистограммы для трех регионов:\n",
    "distributions('f1',\n",
    "             'Распределение признака F1 в регионах',\n",
    "             'Значение признака')"
   ]
  },
  {
   "cell_type": "code",
   "execution_count": 11,
   "metadata": {},
   "outputs": [
    {
     "data": {
      "text/html": [
       "<div>\n",
       "<style scoped>\n",
       "    .dataframe tbody tr th:only-of-type {\n",
       "        vertical-align: middle;\n",
       "    }\n",
       "\n",
       "    .dataframe tbody tr th {\n",
       "        vertical-align: top;\n",
       "    }\n",
       "\n",
       "    .dataframe thead th {\n",
       "        text-align: right;\n",
       "    }\n",
       "</style>\n",
       "<table border=\"1\" class=\"dataframe\">\n",
       "  <thead>\n",
       "    <tr style=\"text-align: right;\">\n",
       "      <th></th>\n",
       "      <th>Регион 0</th>\n",
       "      <th>Регион 1</th>\n",
       "      <th>Регион 2</th>\n",
       "    </tr>\n",
       "  </thead>\n",
       "  <tbody>\n",
       "    <tr>\n",
       "      <th>mean</th>\n",
       "      <td>0.250143</td>\n",
       "      <td>-4.796579</td>\n",
       "      <td>-0.002081</td>\n",
       "    </tr>\n",
       "    <tr>\n",
       "      <th>std</th>\n",
       "      <td>0.504433</td>\n",
       "      <td>5.119872</td>\n",
       "      <td>1.730417</td>\n",
       "    </tr>\n",
       "    <tr>\n",
       "      <th>min</th>\n",
       "      <td>-0.848218</td>\n",
       "      <td>-26.358598</td>\n",
       "      <td>-7.084020</td>\n",
       "    </tr>\n",
       "    <tr>\n",
       "      <th>25%</th>\n",
       "      <td>-0.200881</td>\n",
       "      <td>-8.267985</td>\n",
       "      <td>-1.174820</td>\n",
       "    </tr>\n",
       "    <tr>\n",
       "      <th>50%</th>\n",
       "      <td>0.250252</td>\n",
       "      <td>-4.813172</td>\n",
       "      <td>-0.009482</td>\n",
       "    </tr>\n",
       "    <tr>\n",
       "      <th>75%</th>\n",
       "      <td>0.700646</td>\n",
       "      <td>-1.332816</td>\n",
       "      <td>1.163678</td>\n",
       "    </tr>\n",
       "    <tr>\n",
       "      <th>max</th>\n",
       "      <td>1.343769</td>\n",
       "      <td>18.734063</td>\n",
       "      <td>7.844801</td>\n",
       "    </tr>\n",
       "  </tbody>\n",
       "</table>\n",
       "</div>"
      ],
      "text/plain": [
       "      Регион 0   Регион 1  Регион 2\n",
       "mean  0.250143  -4.796579 -0.002081\n",
       "std   0.504433   5.119872  1.730417\n",
       "min  -0.848218 -26.358598 -7.084020\n",
       "25%  -0.200881  -8.267985 -1.174820\n",
       "50%   0.250252  -4.813172 -0.009482\n",
       "75%   0.700646  -1.332816  1.163678\n",
       "max   1.343769  18.734063  7.844801"
      ]
     },
     "metadata": {},
     "output_type": "display_data"
    }
   ],
   "source": [
    "# Описательная статистика:\n",
    "display(descr_stats('f1'))"
   ]
  },
  {
   "cell_type": "markdown",
   "metadata": {},
   "source": [
    "Как и в случае с признаком F0, вариативность и формы распределений признака F1 разнятся от региона к региону:\n",
    "* Наибольший разброс характерен для региона 1 (от -26.4 до 18.7), наименьший - для региона 0 (от -0.8 до 1.3).\n",
    "* Распределение для региона 0 имеет 3 пика, для прочих регионов - один.\n",
    "\n",
    "**Признак F2**"
   ]
  },
  {
   "cell_type": "code",
   "execution_count": 12,
   "metadata": {},
   "outputs": [
    {
     "data": {
      "image/png": "[encoded data removed]",
      "text/plain": [
       "<Figure size 1500x500 with 3 Axes>"
      ]
     },
     "metadata": {},
     "output_type": "display_data"
    }
   ],
   "source": [
    "# Гистограммы для трех регионов:\n",
    "distributions('f2',\n",
    "             'Распределение признака F2 в регионах',\n",
    "             'Значение признака')"
   ]
  },
  {
   "cell_type": "code",
   "execution_count": 13,
   "metadata": {},
   "outputs": [
    {
     "data": {
      "text/html": [
       "<div>\n",
       "<style scoped>\n",
       "    .dataframe tbody tr th:only-of-type {\n",
       "        vertical-align: middle;\n",
       "    }\n",
       "\n",
       "    .dataframe tbody tr th {\n",
       "        vertical-align: top;\n",
       "    }\n",
       "\n",
       "    .dataframe thead th {\n",
       "        text-align: right;\n",
       "    }\n",
       "</style>\n",
       "<table border=\"1\" class=\"dataframe\">\n",
       "  <thead>\n",
       "    <tr style=\"text-align: right;\">\n",
       "      <th></th>\n",
       "      <th>Регион 0</th>\n",
       "      <th>Регион 1</th>\n",
       "      <th>Регион 2</th>\n",
       "    </tr>\n",
       "  </thead>\n",
       "  <tbody>\n",
       "    <tr>\n",
       "      <th>mean</th>\n",
       "      <td>2.502647</td>\n",
       "      <td>2.494541</td>\n",
       "      <td>2.495128</td>\n",
       "    </tr>\n",
       "    <tr>\n",
       "      <th>std</th>\n",
       "      <td>3.248248</td>\n",
       "      <td>1.703572</td>\n",
       "      <td>3.473445</td>\n",
       "    </tr>\n",
       "    <tr>\n",
       "      <th>min</th>\n",
       "      <td>-12.088328</td>\n",
       "      <td>-0.018144</td>\n",
       "      <td>-11.970335</td>\n",
       "    </tr>\n",
       "    <tr>\n",
       "      <th>25%</th>\n",
       "      <td>0.287748</td>\n",
       "      <td>1.000021</td>\n",
       "      <td>0.130359</td>\n",
       "    </tr>\n",
       "    <tr>\n",
       "      <th>50%</th>\n",
       "      <td>2.515969</td>\n",
       "      <td>2.011479</td>\n",
       "      <td>2.484236</td>\n",
       "    </tr>\n",
       "    <tr>\n",
       "      <th>75%</th>\n",
       "      <td>4.715088</td>\n",
       "      <td>3.999904</td>\n",
       "      <td>4.858794</td>\n",
       "    </tr>\n",
       "    <tr>\n",
       "      <th>max</th>\n",
       "      <td>16.003790</td>\n",
       "      <td>5.019721</td>\n",
       "      <td>16.739402</td>\n",
       "    </tr>\n",
       "  </tbody>\n",
       "</table>\n",
       "</div>"
      ],
      "text/plain": [
       "       Регион 0  Регион 1   Регион 2\n",
       "mean   2.502647  2.494541   2.495128\n",
       "std    3.248248  1.703572   3.473445\n",
       "min  -12.088328 -0.018144 -11.970335\n",
       "25%    0.287748  1.000021   0.130359\n",
       "50%    2.515969  2.011479   2.484236\n",
       "75%    4.715088  3.999904   4.858794\n",
       "max   16.003790  5.019721  16.739402"
      ]
     },
     "metadata": {},
     "output_type": "display_data"
    }
   ],
   "source": [
    "# Описательная статистика:\n",
    "display(descr_stats('f2'))"
   ]
  },
  {
   "cell_type": "markdown",
   "metadata": {},
   "source": [
    "Поведение признака F2 в большей степени напоминает поведение целевого признака в зависимости от регионов:\n",
    "* Распределения для регионов 0 и 2 похожи как с точки зрения описательных статистик (среднее, стандартное отклонение, квантили), так и формой (хотя формы распределений целевого признака и признака f2 в рамках одного региона различны).\n",
    "* Распределение признака f2 для региона 1 \"скученное\", т.е. все значения распределены по нескольким относительно узким интервалам.\n",
    "\n",
    "Возможно, дисперсия этого признака вносит больший вклад в объяснение вариации целевого признака, нежели признаки F0 и F1.\n",
    "\n",
    "### Вывод\n",
    "\n",
    "Исходные данные представлены тремя датасетами по 100 тыс. объектов для каждого из трех регионов. Пропуски в данных отсутствуют, все признаки - количественные.\n",
    "\n",
    "Распределения объясняющих признаков и целевого признака в регионах обладают разной вариативностью, в связи с чем необходимо стандартизировать данные для улучшения качества моделей."
   ]
  },
  {
   "cell_type": "markdown",
   "metadata": {},
   "source": [
    "## Обучение и проверка моделей\n",
    "\n",
    "### Подготовка выборок\n",
    "\n",
    "Разобъем исходные датасеты на обучающие и валидационные выборки в соотношении 75% : 25%."
   ]
  },
  {
   "cell_type": "code",
   "execution_count": 14,
   "metadata": {},
   "outputs": [
    {
     "name": "stdout",
     "output_type": "stream",
     "text": [
      "Размер обучающей выборки для региона 0: 75000.\n",
      "Размер обучающей выборки для региона 1: 75000.\n",
      "Размер обучающей выборки для региона 2: 75000.\n"
     ]
    }
   ],
   "source": [
    "features_train = []\n",
    "target_train = []\n",
    "features_valid = []\n",
    "target_valid = []\n",
    "\n",
    "for i in range(3):\n",
    "    # Разделяем признаки и целевой признак:\n",
    "    X = dfs[i].drop(columns=['id', 'product'])\n",
    "    y = dfs[i]['product']\n",
    "\n",
    "    # Разделяем на обучающие и валидационные выборки:\n",
    "    X_train, X_valid, y_train, y_valid = train_test_split(X, y, \n",
    "                                                          test_size = 0.25, \n",
    "                                                          random_state = 1104)\n",
    "    features_train.append(X_train)\n",
    "    features_valid.append(X_valid)\n",
    "    target_train.append(y_train)\n",
    "    target_valid.append(y_valid)\n",
    "    print(f'Размер обучающей выборки для региона {i}: {X_train.shape[0]}.')"
   ]
  },
  {
   "cell_type": "markdown",
   "metadata": {},
   "source": [
    "Теперь стандартизируем признаки для улучшения точности моделей:"
   ]
  },
  {
   "cell_type": "code",
   "execution_count": 15,
   "metadata": {},
   "outputs": [],
   "source": [
    "for i in range(3):\n",
    "    scaler = StandardScaler()\n",
    "    scaler.fit(features_train[i])\n",
    "    features_train[i] = scaler.transform(features_train[i])\n",
    "    features_valid[i] = scaler.transform(features_valid[i])"
   ]
  },
  {
   "cell_type": "markdown",
   "metadata": {},
   "source": [
    "### Обучение моделей\n",
    "\n",
    "Обучим модели линейной регрессии для каждых из трех регионов и найдем метрики на валидационных выборках:"
   ]
  },
  {
   "cell_type": "code",
   "execution_count": 16,
   "metadata": {},
   "outputs": [
    {
     "name": "stdout",
     "output_type": "stream",
     "text": [
      "Средний запас 1 скважины в регионе 0:  92.25 тыс. баррелей; RMSE:  37.81: R-squared:  0.2672.\n",
      "Средний запас 1 скважины в регионе 1:  68.67 тыс. баррелей; RMSE:  0.89: R-squared:  0.9996.\n",
      "Средний запас 1 скважины в регионе 2:  95.19 тыс. баррелей; RMSE:  40.12: R-squared:  0.1998.\n"
     ]
    }
   ],
   "source": [
    "# Заготовки для хранения результатов:\n",
    "models = []\n",
    "predictions = []\n",
    "mses = []\n",
    "r2s = []\n",
    "# Обучаем модели для трех регионов:\n",
    "for i in range(3):\n",
    "    model = LinearRegression()\n",
    "    model.fit(features_train[i], target_train[i]) # обучение для i-того региона\n",
    "    models.append(model)\n",
    "    # Находим предсказания и метрики на валидационной выборке:\n",
    "    predict = model.predict(features_valid[i])\n",
    "    predictions.append(predict)\n",
    "    mse = mean_squared_error(target_valid[i], predict)\n",
    "    r2 = model.score(features_valid[i], target_valid[i])\n",
    "    mses.append(mse)                             # сохраняем метрики для i-того региона\n",
    "    r2s.append(r2)\n",
    "\n",
    "    print('Средний запас 1 скважины в регионе {0}: {1: .2f} тыс. баррелей; RMSE: {2: .2f}: R-squared: {3: .4f}.'.\n",
    "     format(i, predict.mean(), mse**0.5, r2)\n",
    "     )"
   ]
  },
  {
   "cell_type": "markdown",
   "metadata": {},
   "source": [
    "### Вывод\n",
    "\n",
    "Средний уровень запаса, согласно предсказаниям моделей, не слишком отличается от среднего по исходным датасетам ([см. здесь](#c1)). Наибольшее среднее значение в регионе 2 (ок. 95 тыс. баррелей), затем следует регион 0 (ок. 92 тыс. баррелей). Наименьшее среднее значение запасов одной скважины в регионе 1 - ок. 68 тыс. баррелей. \n",
    "\n",
    "Однако значения среднеквадратичной ошибки ранжируются также - наибольшее значение у модели для региона 2 (ок. 40 тыс. баррелей), затем регион 0 (ок. 37 тыс. баррелей). При этом RMSE для модели региона 1 не превышает 1 тыс. баррелей. Модель для региона 1 также объясняет наибольшую долю дисперсии целевого признака (ок. 42% против ок. 27% для региона 0 и 20% для региона 2).\n",
    "\n",
    "Таким образом, регионы 0 и 2 представляются, с одной стороны, более богатыми за счет большего среднего значения запасов в одной скважине, но и более рискованными за счет большего значения ошибки. Регион 1, напротив, кажется менее обильным с точки зрения запасов, но и менее рисковым. "
   ]
  },
  {
   "cell_type": "markdown",
   "metadata": {},
   "source": [
    "## Подготовка к расчёту прибыли\n",
    "\n",
    "### Минимальный уровень запасов для окупаемости\n",
    "\n",
    "Рассчитаем средний минимальный уровень запасов в скважине, достаточный для окупаемости разработки месторождений:"
   ]
  },
  {
   "cell_type": "code",
   "execution_count": 17,
   "metadata": {},
   "outputs": [],
   "source": [
    "# Исходные данные задачи:\n",
    "N_INVESTIGATION = 500 # число разведанных скважин в регионе\n",
    "N_DEVELOPMENT = 200 # число скважин для дальнейшей разработки в регионе\n",
    "BUDGET = 10000000 # общий бюджет на разработку в регионе (в тыс.руб.)\n",
    "PRICE = 450 # стоимость одного барреля (в руб.)\n",
    "ACCEPTED_LOSS_PROBA =0.025 # предельно допустимая вероятность убытков в регионе"
   ]
  },
  {
   "cell_type": "code",
   "execution_count": 18,
   "metadata": {},
   "outputs": [
    {
     "name": "stdout",
     "output_type": "stream",
     "text": [
      "Минимальный средний запас 1 скважины для окупаемости разработки: 111.111 тыс.баррелей.\n"
     ]
    }
   ],
   "source": [
    "# Рассчитаем минимальный средний уровень запасов 1 скважины, необходимый для окупаемости:\n",
    "MIN_AVG_RESERVE = BUDGET / PRICE / N_DEVELOPMENT # доход от продажи со всех скважин в разработке равен бюджету на разработку\n",
    "print(f'Минимальный средний запас 1 скважины для окупаемости разработки: {MIN_AVG_RESERVE:.3f} тыс.баррелей.')"
   ]
  },
  {
   "cell_type": "markdown",
   "metadata": {},
   "source": [
    "Минимальный средний запас для окупаемости выше, чем средние значения запасов во всех регионах. Тем не менее, по условиям задачи отбираются лучшие месторождения из попавших в выборку, соответственно, среднее значение в отрыве от стандартного отклонения непоказательно. Т.е., хотя средния значения для регионов 0 и 2 выше, чем для региона 1, вероятность получить для них значения ниже среднего также выше за счет большего разброса. "
   ]
  },
  {
   "cell_type": "markdown",
   "metadata": {},
   "source": [
    "### Подготовка данных\n",
    "\n",
    "Прежде, чем находить распределение прибыли, объединим обучающую и валидационные выборки в общий пул, чтобы охватить весь объем имеющихся данных. Т.к. данные для моделей были масштабированы, исходный датасет не подходит."
   ]
  },
  {
   "cell_type": "code",
   "execution_count": 19,
   "metadata": {},
   "outputs": [],
   "source": [
    "features_pool = []\n",
    "target_pool = []\n",
    "\n",
    "for i in range(3):\n",
    "    X_pool = pd.concat([pd.DataFrame(features_train[i]), pd.DataFrame(features_valid[i])], ignore_index=True)\n",
    "    y_pool = pd.concat([target_train[i], target_valid[i]], ignore_index=True) # Для совпадения индексов\n",
    "    features_pool.append(X_pool)\n",
    "    target_pool.append(y_pool)"
   ]
  },
  {
   "cell_type": "markdown",
   "metadata": {},
   "source": [
    "Также напишем функцию, позволяющую найти прибыль от разработки месторождения:"
   ]
  },
  {
   "cell_type": "code",
   "execution_count": 20,
   "metadata": {},
   "outputs": [],
   "source": [
    "def profit_calc(target, prediction, num, price, cost):\n",
    "    preds_sorted = prediction.sort_values(ascending=False) # сортируем предсказания по убыванию\n",
    "    selected = target[preds_sorted.index][:num] # выбираем заданное число скважин, соответсвующих максимальным предсказаниям \n",
    "    return selected.sum() * price - cost # считаем прибыль"
   ]
  },
  {
   "cell_type": "markdown",
   "metadata": {},
   "source": [
    "## Расчёт прибыли и рисков\n",
    "\n",
    "Найдем оценку прибылей разработки в каждом из трех регионов, а также вероятности убытков, при помощи техники *bootstrap* (на 1000 выборок). \n",
    "\n",
    "### Прибыль и риски региона 0\n",
    "\n",
    "Найдем распределение прибыли, а также вероятность убытков, при разработке месторождения региона 0:"
   ]
  },
  {
   "cell_type": "code",
   "execution_count": 21,
   "metadata": {},
   "outputs": [],
   "source": [
    "state = RandomState(1104)\n",
    "profits = [None, None, None]\n",
    "lows = [None, None, None]\n",
    "highs = [None, None, None]\n",
    "means = [None, None, None]\n",
    "loss_probas = [None, None, None]\n",
    "\n",
    "for i in range(3):\n",
    "    profits[i] = pd.Series(dtype='float64', index=range(0,1000))\n",
    "    predictions = pd.Series(models[i].predict(features_pool[i])) # находим предсказания модели для всего пула\n",
    "\n",
    "    # Bootstrap:\n",
    "    for j in range(0,1000):\n",
    "        target_sub = target_pool[i].sample(n=N_INVESTIGATION, # скважины на разведку выбираем без возвращений, т.к. ...\n",
    "                                          random_state=state) # одна и та же скважина не может разрабатываться дважды                                          \n",
    "        predict_sub = predictions[target_sub.index] # соответствующие предсказания\n",
    "        profits[i][j] = profit_calc(target = target_sub,\n",
    "                                   prediction = predict_sub,\n",
    "                                   num = N_DEVELOPMENT,            # скважины на разработку\n",
    "                                   price = PRICE,                  # цена барреля\n",
    "                                   cost = BUDGET)                  # стоимость разработки\n",
    "    \n",
    "    means[i] = profits[i].mean() / 10**3 # Среднее значение прибыли, в млн руб.\n",
    "    lows[i] = profits[i].quantile(0.025) / 10**3 # нижняя граница 95% доверительного интервала, в млн руб.\n",
    "    highs[i] = profits[i].quantile(0.975) / 10**3 # верхняя граница 95% доверительного интервала, в млн руб.\n",
    "    loss_probas[i] = (profits[i] < 0).mean() # доля проб с отрицательной прибылью"
   ]
  },
  {
   "cell_type": "code",
   "execution_count": 22,
   "metadata": {},
   "outputs": [
    {
     "name": "stdout",
     "output_type": "stream",
     "text": [
      "С вероятностью 95% прибыль при разработке в регионе 0 лежит в интервале от -113.90 до 920.56 млн руб.\n",
      "Среднее значение - 411.96 млн руб.; вероятность убытков составляет 6.20%.\n",
      "Риск слишком высок!\n",
      "------------------\n",
      "С вероятностью 95% прибыль при разработке в регионе 1 лежит в интервале от 28.19 до 831.67 млн руб.\n",
      "Среднее значение - 444.07 млн руб.; вероятность убытков составляет 1.50%.\n",
      "Стоит рассмотреть возможность разработки.\n",
      "------------------\n",
      "С вероятностью 95% прибыль при разработке в регионе 2 лежит в интервале от -157.59 до 903.59 млн руб.\n",
      "Среднее значение - 377.11 млн руб.; вероятность убытков составляет 7.60%.\n",
      "Риск слишком высок!\n",
      "------------------\n"
     ]
    }
   ],
   "source": [
    "for i in range(3):\n",
    "    print('С вероятностью 95% прибыль при разработке в регионе {0} лежит в интервале от {1:.2f} до {2:.2f} млн руб.'.\n",
    "         format(i, lows[i], highs[i]))\n",
    "    print('Среднее значение - {0:.2f} млн руб.; вероятность убытков составляет {1:.2%}.'.\n",
    "         format(means[i], loss_probas[i]))\n",
    "    if loss_probas[i] > ACCEPTED_LOSS_PROBA:\n",
    "        print('Риск слишком высок!')\n",
    "    else:\n",
    "        print('Стоит рассмотреть возможность разработки.')\n",
    "    print('------------------')"
   ]
  },
  {
   "cell_type": "markdown",
   "metadata": {},
   "source": [
    "Согласно расчетам, разработка месторождения в регионах 0 и 2 оказалась слишком рисковой. При этом разработка месторождения в регионе 1 принесет в среднем ок. 440 млн руб. при вероятности убытков в 1,5%, что ниже заданного порога."
   ]
  },
  {
   "cell_type": "markdown",
   "metadata": {},
   "source": [
    "### Вывод\n",
    "\n",
    "Таким образом, на основании расчетов, оптимальным регионом для разработки является регион 1:\n",
    "* вероятность убытков составляет 1,5%;\n",
    "* средняя оценка прибыли - 444 млн руб.\n",
    "\n",
    "При этом регионы 0 и 2 показали вероятность убытков на уровне 6,2% и 7,6% соответсвенно, что подтверждает предположение о большей рисковости этих месторождений, сделанное при обзоре данных. Характерно, что среднее значение прибыли для этих регионов оказалось меньше, чем для региона 2, несмотря на большее среднее значение запасов нефти в одной скважине."
   ]
  },
  {
   "cell_type": "markdown",
   "metadata": {},
   "source": [
    "## Общий вывод\n",
    "\n",
    "Цель проекта состояла в поиске алгоритма, позволяющего определить месторождение, разработка которого принесет наибольшую прибыль при заданном уровне риска. \n",
    "\n",
    "Анализ проводился на данных по трем регионам, содержащим 100 тыс. проб каждый. Данные содержали информацию о трех характеристиках скважины, а также оцененных запасах в тыс. баррелей. Для дальнейшей работы данные были масштабированы, поскольку признаки обладали существенными различиями в вариативности.\n",
    "\n",
    "Для оценки запасов скважины исходя из ее характеристик были построены модели линейной регрессии для каждого из регионов, т.к. для каждого из них характерны свои особенности распределения объясняющих признаков. \n",
    "\n",
    "Средняя оценка запасов в скважине для регионов 0 и 2 оказалась выше, чем для региона 1 (92-95 тыс. баррелей против ок.68 тыс баррелей). Однако среднеквадратичная ошибка для моделей 0 и 2 также оказалась существенно выше, чем для модели 1 (ок. 37-40 тыс. баррелей против ок. 1 тыс. баррелей). При этом, исходя из условий задачи, средний уровень запасов в одной скважине, необходимый для окупаемости разработки, составил ок. 111 тыс. баррелей.\n",
    "\n",
    "На основании предсказаний моделей были оценены средние значения и 95% доверительные интервалы для прибыли при разработке метсорождений в каждом из регионов, а также вероятность пролучения отрицательной прибыли. Оценка проводилась методикой *bootstrap*.\n",
    "\n",
    "По результатам оценки, только разработка в регионе 1 является достаточно безрисковой (вероятность получения отрицательной прибыли ок. 1,5%). Средняя оценка прибыли составляет 444 млн руб. Разработка в регионвх 0 и 2 приводит к рискам получения убытков на уровне 6.2% и 7.6% соответсвенно, и, как следствие, меньшим значениям средней прибыли.\n",
    "\n",
    "Таким образом, предлагается проводить разработку в регионе 1."
   ]
  }
 ],
 "metadata": {
  "ExecuteTimeLog": [
   {
    "duration": 49,
    "start_time": "2022-09-27T11:09:22.177Z"
   },
   {
    "duration": 1192,
    "start_time": "2022-09-27T11:09:26.033Z"
   },
   {
    "duration": 981,
    "start_time": "2022-09-27T11:09:28.277Z"
   },
   {
    "duration": 175,
    "start_time": "2022-09-27T11:10:30.811Z"
   },
   {
    "duration": 152,
    "start_time": "2022-09-27T11:28:36.563Z"
   },
   {
    "duration": 146,
    "start_time": "2022-09-27T11:28:56.089Z"
   },
   {
    "duration": 159,
    "start_time": "2022-09-27T11:30:52.495Z"
   },
   {
    "duration": 5,
    "start_time": "2022-09-27T11:40:51.726Z"
   },
   {
    "duration": 1125,
    "start_time": "2022-09-27T11:48:14.229Z"
   },
   {
    "duration": 173,
    "start_time": "2022-09-27T11:48:15.356Z"
   },
   {
    "duration": 144,
    "start_time": "2022-09-27T11:48:15.530Z"
   },
   {
    "duration": 140,
    "start_time": "2022-09-27T11:48:15.675Z"
   },
   {
    "duration": 89,
    "start_time": "2022-09-27T11:48:15.818Z"
   },
   {
    "duration": 140,
    "start_time": "2022-09-27T11:50:13.863Z"
   },
   {
    "duration": 36,
    "start_time": "2022-09-27T11:50:35.585Z"
   },
   {
    "duration": 1084,
    "start_time": "2022-09-27T11:51:03.977Z"
   },
   {
    "duration": 174,
    "start_time": "2022-09-27T11:51:05.063Z"
   },
   {
    "duration": 137,
    "start_time": "2022-09-27T11:51:05.239Z"
   },
   {
    "duration": 138,
    "start_time": "2022-09-27T11:51:05.378Z"
   },
   {
    "duration": 219,
    "start_time": "2022-09-27T11:51:05.518Z"
   },
   {
    "duration": 34,
    "start_time": "2022-09-27T11:51:36.600Z"
   },
   {
    "duration": 248,
    "start_time": "2022-09-27T11:51:47.601Z"
   },
   {
    "duration": 430,
    "start_time": "2022-09-27T11:53:29.075Z"
   },
   {
    "duration": 1242,
    "start_time": "2022-09-27T11:55:06.348Z"
   },
   {
    "duration": 1227,
    "start_time": "2022-09-27T11:59:05.886Z"
   },
   {
    "duration": 842,
    "start_time": "2022-09-27T12:00:04.703Z"
   },
   {
    "duration": 538,
    "start_time": "2022-09-27T12:00:33.343Z"
   },
   {
    "duration": 567,
    "start_time": "2022-09-27T12:01:21.240Z"
   },
   {
    "duration": 1067,
    "start_time": "2022-09-27T12:02:04.492Z"
   },
   {
    "duration": 716,
    "start_time": "2022-09-27T12:02:15.930Z"
   },
   {
    "duration": 8,
    "start_time": "2022-09-27T12:02:38.541Z"
   },
   {
    "duration": 9,
    "start_time": "2022-09-27T12:03:16.234Z"
   },
   {
    "duration": 52,
    "start_time": "2022-09-27T12:06:50.301Z"
   },
   {
    "duration": 1211,
    "start_time": "2022-09-27T12:07:44.086Z"
   },
   {
    "duration": 1218,
    "start_time": "2022-09-27T12:07:56.800Z"
   },
   {
    "duration": 5,
    "start_time": "2022-09-27T12:10:10.618Z"
   },
   {
    "duration": 1169,
    "start_time": "2022-09-27T12:10:22.600Z"
   },
   {
    "duration": 1158,
    "start_time": "2022-09-27T12:10:53.763Z"
   },
   {
    "duration": 1171,
    "start_time": "2022-09-27T12:11:39.282Z"
   },
   {
    "duration": 1187,
    "start_time": "2022-09-27T12:11:57.704Z"
   },
   {
    "duration": 8,
    "start_time": "2022-09-27T12:12:42.002Z"
   },
   {
    "duration": 12,
    "start_time": "2022-09-27T12:12:53.484Z"
   },
   {
    "duration": 7,
    "start_time": "2022-09-27T12:12:58.252Z"
   },
   {
    "duration": 11,
    "start_time": "2022-09-27T12:13:02.289Z"
   },
   {
    "duration": 1266,
    "start_time": "2022-09-27T12:13:51.388Z"
   },
   {
    "duration": 1273,
    "start_time": "2022-09-27T12:17:01.014Z"
   },
   {
    "duration": 1217,
    "start_time": "2022-09-27T12:19:05.905Z"
   },
   {
    "duration": 1237,
    "start_time": "2022-09-27T12:20:02.863Z"
   },
   {
    "duration": 45,
    "start_time": "2022-09-27T12:20:26.715Z"
   },
   {
    "duration": 1217,
    "start_time": "2022-09-27T12:20:33.057Z"
   },
   {
    "duration": 1147,
    "start_time": "2022-09-27T12:26:23.472Z"
   },
   {
    "duration": 1169,
    "start_time": "2022-09-27T12:28:51.934Z"
   },
   {
    "duration": 1257,
    "start_time": "2022-09-27T12:32:34.011Z"
   },
   {
    "duration": 1340,
    "start_time": "2022-09-27T12:33:15.830Z"
   },
   {
    "duration": 1119,
    "start_time": "2022-09-27T12:33:49.841Z"
   },
   {
    "duration": 200,
    "start_time": "2022-09-27T12:33:50.962Z"
   },
   {
    "duration": 155,
    "start_time": "2022-09-27T12:33:51.164Z"
   },
   {
    "duration": 160,
    "start_time": "2022-09-27T12:33:51.322Z"
   },
   {
    "duration": 1608,
    "start_time": "2022-09-27T12:33:51.483Z"
   },
   {
    "duration": 76,
    "start_time": "2022-09-27T12:33:53.093Z"
   },
   {
    "duration": 1840,
    "start_time": "2022-09-27T12:33:53.171Z"
   },
   {
    "duration": 37,
    "start_time": "2022-09-27T12:35:11.905Z"
   },
   {
    "duration": 1040,
    "start_time": "2022-09-30T07:36:17.547Z"
   },
   {
    "duration": 1029,
    "start_time": "2022-09-30T07:37:18.162Z"
   },
   {
    "duration": 371,
    "start_time": "2022-09-30T07:37:19.193Z"
   },
   {
    "duration": 198,
    "start_time": "2022-09-30T07:37:19.568Z"
   },
   {
    "duration": 197,
    "start_time": "2022-09-30T07:37:19.768Z"
   },
   {
    "duration": 1516,
    "start_time": "2022-09-30T07:37:19.967Z"
   },
   {
    "duration": 57,
    "start_time": "2022-09-30T07:37:21.484Z"
   },
   {
    "duration": 1886,
    "start_time": "2022-09-30T07:37:21.542Z"
   },
   {
    "duration": 83,
    "start_time": "2022-09-30T07:37:23.429Z"
   },
   {
    "duration": 41,
    "start_time": "2022-09-30T08:38:48.847Z"
   },
   {
    "duration": 67,
    "start_time": "2022-09-30T08:47:33.337Z"
   },
   {
    "duration": 1169,
    "start_time": "2022-09-30T08:47:41.046Z"
   },
   {
    "duration": 197,
    "start_time": "2022-09-30T08:47:55.145Z"
   },
   {
    "duration": 205,
    "start_time": "2022-09-30T08:48:01.802Z"
   },
   {
    "duration": 152,
    "start_time": "2022-09-30T08:48:05.471Z"
   },
   {
    "duration": 161,
    "start_time": "2022-09-30T08:48:07.896Z"
   },
   {
    "duration": 1743,
    "start_time": "2022-09-30T08:48:14.205Z"
   },
   {
    "duration": 53,
    "start_time": "2022-09-30T08:54:24.428Z"
   },
   {
    "duration": 1041,
    "start_time": "2022-09-30T08:54:31.125Z"
   },
   {
    "duration": 156,
    "start_time": "2022-09-30T08:54:32.938Z"
   },
   {
    "duration": 144,
    "start_time": "2022-09-30T08:54:36.835Z"
   },
   {
    "duration": 135,
    "start_time": "2022-09-30T08:54:39.716Z"
   },
   {
    "duration": 1491,
    "start_time": "2022-09-30T08:54:45.624Z"
   },
   {
    "duration": 34,
    "start_time": "2022-09-30T08:54:55.050Z"
   },
   {
    "duration": 9,
    "start_time": "2022-09-30T09:12:49.124Z"
   },
   {
    "duration": 140,
    "start_time": "2022-09-30T09:20:14.931Z"
   },
   {
    "duration": 184,
    "start_time": "2022-09-30T09:20:24.138Z"
   },
   {
    "duration": 16,
    "start_time": "2022-09-30T09:20:27.962Z"
   },
   {
    "duration": 27,
    "start_time": "2022-09-30T09:24:28.304Z"
   },
   {
    "duration": 99,
    "start_time": "2022-09-30T09:25:09.204Z"
   },
   {
    "duration": 33,
    "start_time": "2022-09-30T09:25:22.560Z"
   },
   {
    "duration": 44,
    "start_time": "2022-09-30T09:25:31.820Z"
   },
   {
    "duration": 26,
    "start_time": "2022-09-30T09:25:44.316Z"
   },
   {
    "duration": 26,
    "start_time": "2022-09-30T09:26:37.812Z"
   },
   {
    "duration": 10,
    "start_time": "2022-09-30T09:31:38.724Z"
   },
   {
    "duration": 3,
    "start_time": "2022-09-30T09:34:05.350Z"
   },
   {
    "duration": 24,
    "start_time": "2022-09-30T09:34:17.216Z"
   },
   {
    "duration": 1062,
    "start_time": "2022-09-30T09:35:34.611Z"
   },
   {
    "duration": 154,
    "start_time": "2022-09-30T09:35:35.675Z"
   },
   {
    "duration": 126,
    "start_time": "2022-09-30T09:35:35.831Z"
   },
   {
    "duration": 126,
    "start_time": "2022-09-30T09:35:35.959Z"
   },
   {
    "duration": 1652,
    "start_time": "2022-09-30T09:35:36.088Z"
   },
   {
    "duration": 72,
    "start_time": "2022-09-30T09:35:37.741Z"
   },
   {
    "duration": 1824,
    "start_time": "2022-09-30T09:35:37.814Z"
   },
   {
    "duration": 73,
    "start_time": "2022-09-30T09:35:39.640Z"
   },
   {
    "duration": 1819,
    "start_time": "2022-09-30T09:35:39.715Z"
   },
   {
    "duration": 79,
    "start_time": "2022-09-30T09:35:41.536Z"
   },
   {
    "duration": 1844,
    "start_time": "2022-09-30T09:35:41.617Z"
   },
   {
    "duration": 68,
    "start_time": "2022-09-30T09:35:43.462Z"
   },
   {
    "duration": 85,
    "start_time": "2022-09-30T09:35:43.532Z"
   },
   {
    "duration": 27,
    "start_time": "2022-09-30T09:35:43.619Z"
   },
   {
    "duration": 1049,
    "start_time": "2022-09-30T10:29:22.726Z"
   },
   {
    "duration": 150,
    "start_time": "2022-09-30T10:29:25.548Z"
   },
   {
    "duration": 133,
    "start_time": "2022-09-30T10:29:29.925Z"
   },
   {
    "duration": 134,
    "start_time": "2022-09-30T10:29:33.004Z"
   },
   {
    "duration": 42,
    "start_time": "2022-09-30T10:29:42.653Z"
   },
   {
    "duration": 31,
    "start_time": "2022-09-30T10:29:51.004Z"
   },
   {
    "duration": 107,
    "start_time": "2022-09-30T10:39:16.900Z"
   },
   {
    "duration": 19,
    "start_time": "2022-09-30T10:39:26.560Z"
   },
   {
    "duration": 22,
    "start_time": "2022-09-30T10:40:14.589Z"
   },
   {
    "duration": 19,
    "start_time": "2022-09-30T10:40:24.929Z"
   },
   {
    "duration": 15,
    "start_time": "2022-09-30T10:40:52.507Z"
   },
   {
    "duration": 12,
    "start_time": "2022-09-30T10:41:20.544Z"
   },
   {
    "duration": 12,
    "start_time": "2022-09-30T10:42:50.861Z"
   },
   {
    "duration": 13,
    "start_time": "2022-09-30T10:44:16.150Z"
   },
   {
    "duration": 33,
    "start_time": "2022-09-30T10:50:34.253Z"
   },
   {
    "duration": 34,
    "start_time": "2022-09-30T10:58:54.226Z"
   },
   {
    "duration": 24,
    "start_time": "2022-09-30T10:58:56.901Z"
   },
   {
    "duration": 24,
    "start_time": "2022-09-30T10:58:59.392Z"
   },
   {
    "duration": 17,
    "start_time": "2022-09-30T10:59:02.552Z"
   },
   {
    "duration": 14,
    "start_time": "2022-09-30T10:59:04.570Z"
   },
   {
    "duration": 12,
    "start_time": "2022-09-30T11:00:09.613Z"
   },
   {
    "duration": 11,
    "start_time": "2022-09-30T11:00:10.385Z"
   },
   {
    "duration": 11,
    "start_time": "2022-09-30T11:00:11.021Z"
   },
   {
    "duration": 4,
    "start_time": "2022-09-30T11:30:29.704Z"
   },
   {
    "duration": 4,
    "start_time": "2022-09-30T11:32:50.103Z"
   },
   {
    "duration": 8,
    "start_time": "2022-09-30T11:33:24.052Z"
   },
   {
    "duration": 3,
    "start_time": "2022-09-30T11:33:24.904Z"
   },
   {
    "duration": 28,
    "start_time": "2022-09-30T11:53:36.367Z"
   },
   {
    "duration": 3,
    "start_time": "2022-09-30T11:54:50.952Z"
   },
   {
    "duration": 61,
    "start_time": "2022-09-30T11:54:59.464Z"
   },
   {
    "duration": 8,
    "start_time": "2022-09-30T11:55:07.415Z"
   },
   {
    "duration": 3,
    "start_time": "2022-09-30T11:55:18.624Z"
   },
   {
    "duration": 11,
    "start_time": "2022-09-30T11:56:27.220Z"
   },
   {
    "duration": 9,
    "start_time": "2022-09-30T11:57:05.043Z"
   },
   {
    "duration": 3,
    "start_time": "2022-09-30T12:00:14.230Z"
   },
   {
    "duration": 54,
    "start_time": "2022-09-30T12:04:06.219Z"
   },
   {
    "duration": 3,
    "start_time": "2022-09-30T12:09:31.999Z"
   },
   {
    "duration": 11,
    "start_time": "2022-09-30T12:11:49.507Z"
   },
   {
    "duration": 6,
    "start_time": "2022-09-30T12:15:06.127Z"
   },
   {
    "duration": 17,
    "start_time": "2022-09-30T12:16:13.644Z"
   },
   {
    "duration": 3,
    "start_time": "2022-09-30T12:21:18.074Z"
   },
   {
    "duration": 58,
    "start_time": "2022-09-30T12:37:11.756Z"
   },
   {
    "duration": 3,
    "start_time": "2022-09-30T12:37:33.948Z"
   },
   {
    "duration": 89,
    "start_time": "2022-09-30T12:37:37.621Z"
   },
   {
    "duration": 175,
    "start_time": "2022-09-30T12:38:20.150Z"
   },
   {
    "duration": 84,
    "start_time": "2022-09-30T12:39:19.727Z"
   },
   {
    "duration": 10,
    "start_time": "2022-09-30T12:39:53.767Z"
   },
   {
    "duration": 9,
    "start_time": "2022-09-30T12:40:07.243Z"
   },
   {
    "duration": 148,
    "start_time": "2022-09-30T12:40:40.978Z"
   },
   {
    "duration": 14,
    "start_time": "2022-09-30T12:42:48.236Z"
   },
   {
    "duration": 12,
    "start_time": "2022-09-30T12:43:20.070Z"
   },
   {
    "duration": 10,
    "start_time": "2022-09-30T12:43:31.522Z"
   },
   {
    "duration": 10,
    "start_time": "2022-09-30T12:44:10.597Z"
   },
   {
    "duration": 1351,
    "start_time": "2022-09-30T12:45:38.404Z"
   },
   {
    "duration": 2821,
    "start_time": "2022-09-30T12:46:25.569Z"
   },
   {
    "duration": 9,
    "start_time": "2022-09-30T13:04:57.528Z"
   },
   {
    "duration": 2860,
    "start_time": "2022-09-30T13:06:27.306Z"
   },
   {
    "duration": 2856,
    "start_time": "2022-09-30T13:07:14.788Z"
   },
   {
    "duration": 2828,
    "start_time": "2022-09-30T13:07:35.064Z"
   },
   {
    "duration": 2875,
    "start_time": "2022-09-30T13:11:58.622Z"
   },
   {
    "duration": 2879,
    "start_time": "2022-09-30T13:12:25.157Z"
   },
   {
    "duration": 2889,
    "start_time": "2022-09-30T13:12:49.810Z"
   },
   {
    "duration": 2888,
    "start_time": "2022-09-30T13:13:01.762Z"
   },
   {
    "duration": 2959,
    "start_time": "2022-09-30T13:14:00.803Z"
   },
   {
    "duration": 2900,
    "start_time": "2022-09-30T13:14:46.445Z"
   },
   {
    "duration": 2967,
    "start_time": "2022-09-30T13:17:11.334Z"
   },
   {
    "duration": 8,
    "start_time": "2022-09-30T13:17:44.728Z"
   },
   {
    "duration": 2998,
    "start_time": "2022-09-30T13:17:47.507Z"
   },
   {
    "duration": 8,
    "start_time": "2022-09-30T13:18:17.448Z"
   },
   {
    "duration": 3136,
    "start_time": "2022-09-30T13:23:00.968Z"
   },
   {
    "duration": 2905,
    "start_time": "2022-09-30T13:23:57.338Z"
   },
   {
    "duration": 8,
    "start_time": "2022-09-30T13:24:56.556Z"
   },
   {
    "duration": 8,
    "start_time": "2022-09-30T13:25:21.529Z"
   },
   {
    "duration": 3133,
    "start_time": "2022-09-30T13:28:37.241Z"
   },
   {
    "duration": 9,
    "start_time": "2022-09-30T13:29:32.539Z"
   },
   {
    "duration": 3008,
    "start_time": "2022-09-30T13:29:36.528Z"
   },
   {
    "duration": 7,
    "start_time": "2022-09-30T13:29:40.800Z"
   },
   {
    "duration": 1133,
    "start_time": "2022-09-30T13:30:23.296Z"
   },
   {
    "duration": 163,
    "start_time": "2022-09-30T13:30:24.432Z"
   },
   {
    "duration": 153,
    "start_time": "2022-09-30T13:30:24.597Z"
   },
   {
    "duration": 137,
    "start_time": "2022-09-30T13:30:24.752Z"
   },
   {
    "duration": 1671,
    "start_time": "2022-09-30T13:30:24.891Z"
   },
   {
    "duration": 70,
    "start_time": "2022-09-30T13:30:26.563Z"
   },
   {
    "duration": 2164,
    "start_time": "2022-09-30T13:30:26.635Z"
   },
   {
    "duration": 98,
    "start_time": "2022-09-30T13:30:28.812Z"
   },
   {
    "duration": 486,
    "start_time": "2022-09-30T13:40:05.129Z"
   },
   {
    "duration": 189,
    "start_time": "2022-09-30T13:40:14.346Z"
   },
   {
    "duration": 383,
    "start_time": "2022-09-30T13:40:43.905Z"
   },
   {
    "duration": 705,
    "start_time": "2022-09-30T13:40:57.200Z"
   },
   {
    "duration": 688,
    "start_time": "2022-09-30T13:42:54.036Z"
   },
   {
    "duration": 832,
    "start_time": "2022-09-30T13:43:31.428Z"
   },
   {
    "duration": 670,
    "start_time": "2022-09-30T13:43:53.657Z"
   },
   {
    "duration": 707,
    "start_time": "2022-09-30T13:44:06.227Z"
   },
   {
    "duration": 611,
    "start_time": "2022-09-30T13:45:49.922Z"
   },
   {
    "duration": 795,
    "start_time": "2022-09-30T13:47:09.142Z"
   },
   {
    "duration": 814,
    "start_time": "2022-09-30T13:48:21.061Z"
   },
   {
    "duration": 948,
    "start_time": "2022-09-30T13:49:11.503Z"
   },
   {
    "duration": 812,
    "start_time": "2022-09-30T13:49:35.607Z"
   },
   {
    "duration": 1275,
    "start_time": "2022-09-30T13:49:47.057Z"
   },
   {
    "duration": 152,
    "start_time": "2022-09-30T13:49:48.333Z"
   },
   {
    "duration": 135,
    "start_time": "2022-09-30T13:49:48.486Z"
   },
   {
    "duration": 131,
    "start_time": "2022-09-30T13:49:48.623Z"
   },
   {
    "duration": 667,
    "start_time": "2022-09-30T13:49:48.756Z"
   },
   {
    "duration": 33,
    "start_time": "2022-09-30T13:49:49.425Z"
   },
   {
    "duration": 888,
    "start_time": "2022-09-30T13:49:49.459Z"
   },
   {
    "duration": 32,
    "start_time": "2022-09-30T13:49:50.349Z"
   },
   {
    "duration": 873,
    "start_time": "2022-09-30T13:49:50.383Z"
   },
   {
    "duration": 33,
    "start_time": "2022-09-30T13:49:51.260Z"
   },
   {
    "duration": 912,
    "start_time": "2022-09-30T13:49:51.295Z"
   },
   {
    "duration": 47,
    "start_time": "2022-09-30T13:49:52.208Z"
   },
   {
    "duration": 29,
    "start_time": "2022-09-30T13:49:52.256Z"
   },
   {
    "duration": 37,
    "start_time": "2022-09-30T13:49:52.287Z"
   },
   {
    "duration": 14,
    "start_time": "2022-09-30T13:49:52.325Z"
   },
   {
    "duration": 174,
    "start_time": "2022-09-30T13:49:52.340Z"
   },
   {
    "duration": 119,
    "start_time": "2022-09-30T13:49:52.516Z"
   },
   {
    "duration": 209,
    "start_time": "2022-09-30T13:49:52.637Z"
   },
   {
    "duration": 16,
    "start_time": "2022-09-30T13:49:52.848Z"
   },
   {
    "duration": 19,
    "start_time": "2022-09-30T13:49:52.866Z"
   },
   {
    "duration": 20,
    "start_time": "2022-09-30T13:49:52.886Z"
   },
   {
    "duration": 2936,
    "start_time": "2022-09-30T13:49:52.907Z"
   },
   {
    "duration": 8,
    "start_time": "2022-09-30T13:49:55.844Z"
   },
   {
    "duration": 2848,
    "start_time": "2022-09-30T13:49:55.853Z"
   },
   {
    "duration": 24,
    "start_time": "2022-09-30T13:49:58.703Z"
   },
   {
    "duration": 2835,
    "start_time": "2022-09-30T13:49:58.728Z"
   },
   {
    "duration": 8,
    "start_time": "2022-09-30T13:50:01.564Z"
   },
   {
    "duration": 4,
    "start_time": "2022-09-30T13:53:07.131Z"
   },
   {
    "duration": 1500,
    "start_time": "2022-09-30T14:01:09.900Z"
   },
   {
    "duration": 190,
    "start_time": "2022-09-30T14:01:11.402Z"
   },
   {
    "duration": 163,
    "start_time": "2022-09-30T14:01:11.593Z"
   },
   {
    "duration": 148,
    "start_time": "2022-09-30T14:01:11.758Z"
   },
   {
    "duration": 774,
    "start_time": "2022-09-30T14:01:11.909Z"
   },
   {
    "duration": 49,
    "start_time": "2022-09-30T14:01:12.686Z"
   },
   {
    "duration": 1081,
    "start_time": "2022-09-30T14:01:12.741Z"
   },
   {
    "duration": 42,
    "start_time": "2022-09-30T14:01:13.824Z"
   },
   {
    "duration": 1012,
    "start_time": "2022-09-30T14:01:13.868Z"
   },
   {
    "duration": 59,
    "start_time": "2022-09-30T14:01:14.881Z"
   },
   {
    "duration": 1029,
    "start_time": "2022-09-30T14:01:14.942Z"
   },
   {
    "duration": 47,
    "start_time": "2022-09-30T14:01:15.973Z"
   },
   {
    "duration": 40,
    "start_time": "2022-09-30T14:01:16.022Z"
   },
   {
    "duration": 28,
    "start_time": "2022-09-30T14:01:16.066Z"
   },
   {
    "duration": 119,
    "start_time": "2022-09-30T14:01:16.096Z"
   },
   {
    "duration": 124,
    "start_time": "2022-09-30T14:01:16.220Z"
   },
   {
    "duration": 200,
    "start_time": "2022-09-30T14:01:16.346Z"
   },
   {
    "duration": 199,
    "start_time": "2022-09-30T14:01:16.548Z"
   },
   {
    "duration": 25,
    "start_time": "2022-09-30T14:01:16.749Z"
   },
   {
    "duration": 77,
    "start_time": "2022-09-30T14:01:16.775Z"
   },
   {
    "duration": 30,
    "start_time": "2022-09-30T14:01:16.854Z"
   },
   {
    "duration": 3145,
    "start_time": "2022-09-30T14:01:16.886Z"
   },
   {
    "duration": 10,
    "start_time": "2022-09-30T14:01:20.033Z"
   },
   {
    "duration": 3119,
    "start_time": "2022-09-30T14:01:20.044Z"
   },
   {
    "duration": 8,
    "start_time": "2022-09-30T14:01:23.164Z"
   },
   {
    "duration": 2916,
    "start_time": "2022-09-30T14:01:23.174Z"
   },
   {
    "duration": 9,
    "start_time": "2022-09-30T14:01:26.092Z"
   },
   {
    "duration": 1442,
    "start_time": "2022-09-30T14:08:57.194Z"
   },
   {
    "duration": 164,
    "start_time": "2022-09-30T14:08:58.638Z"
   },
   {
    "duration": 137,
    "start_time": "2022-09-30T14:08:58.808Z"
   },
   {
    "duration": 130,
    "start_time": "2022-09-30T14:08:58.947Z"
   },
   {
    "duration": 672,
    "start_time": "2022-09-30T14:08:59.078Z"
   },
   {
    "duration": 33,
    "start_time": "2022-09-30T14:08:59.751Z"
   },
   {
    "duration": 927,
    "start_time": "2022-09-30T14:08:59.786Z"
   },
   {
    "duration": 38,
    "start_time": "2022-09-30T14:09:00.715Z"
   },
   {
    "duration": 969,
    "start_time": "2022-09-30T14:09:00.755Z"
   },
   {
    "duration": 35,
    "start_time": "2022-09-30T14:09:01.727Z"
   },
   {
    "duration": 1010,
    "start_time": "2022-09-30T14:09:01.764Z"
   },
   {
    "duration": 59,
    "start_time": "2022-09-30T14:09:02.777Z"
   },
   {
    "duration": 45,
    "start_time": "2022-09-30T14:09:02.839Z"
   },
   {
    "duration": 102,
    "start_time": "2022-09-30T14:09:02.886Z"
   },
   {
    "duration": 47,
    "start_time": "2022-09-30T14:09:02.990Z"
   },
   {
    "duration": 210,
    "start_time": "2022-09-30T14:09:03.038Z"
   },
   {
    "duration": 184,
    "start_time": "2022-09-30T14:09:03.250Z"
   },
   {
    "duration": 186,
    "start_time": "2022-09-30T14:09:03.437Z"
   },
   {
    "duration": 17,
    "start_time": "2022-09-30T14:09:03.625Z"
   },
   {
    "duration": 24,
    "start_time": "2022-09-30T14:09:03.643Z"
   },
   {
    "duration": 5,
    "start_time": "2022-09-30T14:09:03.668Z"
   },
   {
    "duration": 3022,
    "start_time": "2022-09-30T14:09:03.675Z"
   },
   {
    "duration": 12,
    "start_time": "2022-09-30T14:09:06.699Z"
   },
   {
    "duration": 2976,
    "start_time": "2022-09-30T14:09:06.712Z"
   },
   {
    "duration": 7,
    "start_time": "2022-09-30T14:09:09.690Z"
   },
   {
    "duration": 3158,
    "start_time": "2022-09-30T14:09:09.698Z"
   },
   {
    "duration": 9,
    "start_time": "2022-09-30T14:09:12.860Z"
   },
   {
    "duration": 1315,
    "start_time": "2022-09-30T14:48:15.938Z"
   },
   {
    "duration": 165,
    "start_time": "2022-09-30T14:48:17.255Z"
   },
   {
    "duration": 131,
    "start_time": "2022-09-30T14:48:17.421Z"
   },
   {
    "duration": 125,
    "start_time": "2022-09-30T14:48:17.554Z"
   },
   {
    "duration": 671,
    "start_time": "2022-09-30T14:48:17.681Z"
   },
   {
    "duration": 33,
    "start_time": "2022-09-30T14:48:18.354Z"
   },
   {
    "duration": 911,
    "start_time": "2022-09-30T14:48:18.389Z"
   },
   {
    "duration": 50,
    "start_time": "2022-09-30T14:48:19.301Z"
   },
   {
    "duration": 867,
    "start_time": "2022-09-30T14:48:19.352Z"
   },
   {
    "duration": 33,
    "start_time": "2022-09-30T14:48:20.223Z"
   },
   {
    "duration": 931,
    "start_time": "2022-09-30T14:48:20.258Z"
   },
   {
    "duration": 41,
    "start_time": "2022-09-30T14:48:21.191Z"
   },
   {
    "duration": 31,
    "start_time": "2022-09-30T14:48:21.233Z"
   },
   {
    "duration": 15,
    "start_time": "2022-09-30T14:48:21.266Z"
   },
   {
    "duration": 127,
    "start_time": "2022-09-30T14:48:21.282Z"
   },
   {
    "duration": 120,
    "start_time": "2022-09-30T14:48:21.411Z"
   },
   {
    "duration": 206,
    "start_time": "2022-09-30T14:48:21.533Z"
   },
   {
    "duration": 7,
    "start_time": "2022-09-30T14:48:21.811Z"
   },
   {
    "duration": 118,
    "start_time": "2022-09-30T14:48:21.820Z"
   },
   {
    "duration": 35,
    "start_time": "2022-09-30T14:48:21.940Z"
   },
   {
    "duration": 17,
    "start_time": "2022-09-30T14:48:21.977Z"
   },
   {
    "duration": 2959,
    "start_time": "2022-09-30T14:48:21.995Z"
   },
   {
    "duration": 7,
    "start_time": "2022-09-30T14:48:24.956Z"
   },
   {
    "duration": 2808,
    "start_time": "2022-09-30T14:48:24.965Z"
   },
   {
    "duration": 7,
    "start_time": "2022-09-30T14:48:27.775Z"
   },
   {
    "duration": 2854,
    "start_time": "2022-09-30T14:48:27.784Z"
   },
   {
    "duration": 7,
    "start_time": "2022-09-30T14:48:30.639Z"
   },
   {
    "duration": 1412,
    "start_time": "2022-09-30T14:49:00.273Z"
   },
   {
    "duration": 155,
    "start_time": "2022-09-30T14:49:01.686Z"
   },
   {
    "duration": 125,
    "start_time": "2022-09-30T14:49:01.843Z"
   },
   {
    "duration": 129,
    "start_time": "2022-09-30T14:49:01.970Z"
   },
   {
    "duration": 702,
    "start_time": "2022-09-30T14:49:02.101Z"
   },
   {
    "duration": 34,
    "start_time": "2022-09-30T14:49:02.808Z"
   },
   {
    "duration": 949,
    "start_time": "2022-09-30T14:49:02.844Z"
   },
   {
    "duration": 45,
    "start_time": "2022-09-30T14:49:03.795Z"
   },
   {
    "duration": 913,
    "start_time": "2022-09-30T14:49:03.844Z"
   },
   {
    "duration": 33,
    "start_time": "2022-09-30T14:49:04.760Z"
   },
   {
    "duration": 905,
    "start_time": "2022-09-30T14:49:04.794Z"
   },
   {
    "duration": 38,
    "start_time": "2022-09-30T14:49:05.700Z"
   },
   {
    "duration": 28,
    "start_time": "2022-09-30T14:49:05.740Z"
   },
   {
    "duration": 45,
    "start_time": "2022-09-30T14:49:05.769Z"
   },
   {
    "duration": 95,
    "start_time": "2022-09-30T14:49:05.815Z"
   },
   {
    "duration": 105,
    "start_time": "2022-09-30T14:49:05.911Z"
   },
   {
    "duration": 193,
    "start_time": "2022-09-30T14:49:06.018Z"
   },
   {
    "duration": 96,
    "start_time": "2022-09-30T14:49:06.214Z"
   },
   {
    "duration": 7,
    "start_time": "2022-09-30T14:49:06.313Z"
   },
   {
    "duration": 16,
    "start_time": "2022-09-30T14:49:06.322Z"
   },
   {
    "duration": 4,
    "start_time": "2022-09-30T14:49:06.339Z"
   },
   {
    "duration": 2850,
    "start_time": "2022-09-30T14:49:06.344Z"
   },
   {
    "duration": 8,
    "start_time": "2022-09-30T14:49:09.196Z"
   },
   {
    "duration": 3001,
    "start_time": "2022-09-30T14:49:09.209Z"
   },
   {
    "duration": 8,
    "start_time": "2022-09-30T14:49:12.212Z"
   },
   {
    "duration": 2964,
    "start_time": "2022-09-30T14:49:12.222Z"
   },
   {
    "duration": 7,
    "start_time": "2022-09-30T14:49:15.188Z"
   },
   {
    "duration": 1284,
    "start_time": "2022-09-30T15:16:47.436Z"
   },
   {
    "duration": 163,
    "start_time": "2022-09-30T15:16:48.722Z"
   },
   {
    "duration": 124,
    "start_time": "2022-09-30T15:16:48.887Z"
   },
   {
    "duration": 129,
    "start_time": "2022-09-30T15:16:49.013Z"
   },
   {
    "duration": 636,
    "start_time": "2022-09-30T15:16:49.144Z"
   },
   {
    "duration": 37,
    "start_time": "2022-09-30T15:16:49.781Z"
   },
   {
    "duration": 856,
    "start_time": "2022-09-30T15:16:49.820Z"
   },
   {
    "duration": 38,
    "start_time": "2022-09-30T15:16:50.678Z"
   },
   {
    "duration": 829,
    "start_time": "2022-09-30T15:16:50.717Z"
   },
   {
    "duration": 33,
    "start_time": "2022-09-30T15:16:51.547Z"
   },
   {
    "duration": 879,
    "start_time": "2022-09-30T15:16:51.581Z"
   },
   {
    "duration": 34,
    "start_time": "2022-09-30T15:16:52.461Z"
   },
   {
    "duration": 52,
    "start_time": "2022-09-30T15:16:52.496Z"
   },
   {
    "duration": 49,
    "start_time": "2022-09-30T15:16:52.552Z"
   },
   {
    "duration": 17,
    "start_time": "2022-09-30T15:16:52.603Z"
   },
   {
    "duration": 212,
    "start_time": "2022-09-30T15:16:52.621Z"
   },
   {
    "duration": 186,
    "start_time": "2022-09-30T15:16:52.834Z"
   },
   {
    "duration": 90,
    "start_time": "2022-09-30T15:16:53.021Z"
   },
   {
    "duration": 98,
    "start_time": "2022-09-30T15:16:53.113Z"
   },
   {
    "duration": 37,
    "start_time": "2022-09-30T15:16:53.212Z"
   },
   {
    "duration": 11,
    "start_time": "2022-09-30T15:16:53.251Z"
   },
   {
    "duration": 2800,
    "start_time": "2022-09-30T15:16:53.263Z"
   },
   {
    "duration": 7,
    "start_time": "2022-09-30T15:16:56.065Z"
   },
   {
    "duration": 2800,
    "start_time": "2022-09-30T15:16:56.074Z"
   },
   {
    "duration": 9,
    "start_time": "2022-09-30T15:16:58.876Z"
   },
   {
    "duration": 2784,
    "start_time": "2022-09-30T15:16:58.887Z"
   },
   {
    "duration": 7,
    "start_time": "2022-09-30T15:17:01.673Z"
   },
   {
    "duration": 67,
    "start_time": "2022-10-01T14:01:03.861Z"
   },
   {
    "duration": 1729,
    "start_time": "2022-10-01T14:02:00.200Z"
   },
   {
    "duration": 443,
    "start_time": "2022-10-01T14:02:01.931Z"
   },
   {
    "duration": 219,
    "start_time": "2022-10-01T14:02:02.376Z"
   },
   {
    "duration": 228,
    "start_time": "2022-10-01T14:02:02.597Z"
   },
   {
    "duration": 723,
    "start_time": "2022-10-01T14:02:02.826Z"
   },
   {
    "duration": 37,
    "start_time": "2022-10-01T14:02:03.551Z"
   },
   {
    "duration": 1077,
    "start_time": "2022-10-01T14:02:03.590Z"
   },
   {
    "duration": 55,
    "start_time": "2022-10-01T14:02:04.670Z"
   },
   {
    "duration": 1016,
    "start_time": "2022-10-01T14:02:04.727Z"
   },
   {
    "duration": 37,
    "start_time": "2022-10-01T14:02:05.746Z"
   },
   {
    "duration": 1105,
    "start_time": "2022-10-01T14:02:05.785Z"
   },
   {
    "duration": 50,
    "start_time": "2022-10-01T14:02:06.892Z"
   },
   {
    "duration": 38,
    "start_time": "2022-10-01T14:02:06.944Z"
   },
   {
    "duration": 53,
    "start_time": "2022-10-01T14:02:06.984Z"
   },
   {
    "duration": 88,
    "start_time": "2022-10-01T14:02:07.039Z"
   },
   {
    "duration": 97,
    "start_time": "2022-10-01T14:02:07.133Z"
   },
   {
    "duration": 201,
    "start_time": "2022-10-01T14:02:07.232Z"
   },
   {
    "duration": 83,
    "start_time": "2022-10-01T14:02:07.439Z"
   },
   {
    "duration": 101,
    "start_time": "2022-10-01T14:02:07.524Z"
   },
   {
    "duration": 19,
    "start_time": "2022-10-01T14:02:07.627Z"
   },
   {
    "duration": 4,
    "start_time": "2022-10-01T14:02:07.648Z"
   },
   {
    "duration": 3276,
    "start_time": "2022-10-01T14:02:07.654Z"
   },
   {
    "duration": 7,
    "start_time": "2022-10-01T14:02:10.932Z"
   },
   {
    "duration": 3227,
    "start_time": "2022-10-01T14:02:10.941Z"
   },
   {
    "duration": 9,
    "start_time": "2022-10-01T14:02:14.170Z"
   },
   {
    "duration": 3110,
    "start_time": "2022-10-01T14:02:14.180Z"
   },
   {
    "duration": 8,
    "start_time": "2022-10-01T14:02:17.292Z"
   }
  ],
  "kernelspec": {
   "display_name": "Python 3 (ipykernel)",
   "language": "python",
   "name": "python3"
  },
  "language_info": {
   "codemirror_mode": {
    "name": "ipython",
    "version": 3
   },
   "file_extension": ".py",
   "mimetype": "text/x-python",
   "name": "python",
   "nbconvert_exporter": "python",
   "pygments_lexer": "ipython3",
   "version": "3.9.15"
  },
  "toc": {
   "base_numbering": 1,
   "nav_menu": {},
   "number_sections": true,
   "sideBar": true,
   "skip_h1_title": true,
   "title_cell": "Table of Contents",
   "title_sidebar": "Contents",
   "toc_cell": false,
   "toc_position": {},
   "toc_section_display": true,
   "toc_window_display": false
  }
 },
 "nbformat": 4,
 "nbformat_minor": 2
}
