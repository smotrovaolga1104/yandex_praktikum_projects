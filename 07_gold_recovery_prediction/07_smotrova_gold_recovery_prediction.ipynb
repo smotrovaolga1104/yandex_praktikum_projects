{
 "cells": [
  {
   "cell_type": "markdown",
   "metadata": {
    "toc": true
   },
   "source": [
    "<h1>Содержание<span class=\"tocSkip\"></span></h1>\n",
    "<div class=\"toc\"><ul class=\"toc-item\"><li><span><a href=\"#Цель-проекта\" data-toc-modified-id=\"Цель-проекта-1\"><span class=\"toc-item-num\">1&nbsp;&nbsp;</span>Цель проекта</a></span></li><li><span><a href=\"#Обзор-и-подготовка-данных\" data-toc-modified-id=\"Обзор-и-подготовка-данных-2\"><span class=\"toc-item-num\">2&nbsp;&nbsp;</span>Обзор и подготовка данных</a></span><ul class=\"toc-item\"><li><span><a href=\"#Загрузка-и-первичный-обзор\" data-toc-modified-id=\"Загрузка-и-первичный-обзор-2.1\"><span class=\"toc-item-num\">2.1&nbsp;&nbsp;</span>Загрузка и первичный обзор</a></span></li><li><span><a href=\"#Заполнение-пропусков\" data-toc-modified-id=\"Заполнение-пропусков-2.2\"><span class=\"toc-item-num\">2.2&nbsp;&nbsp;</span>Заполнение пропусков</a></span></li><li><span><a href=\"#Корректность-расчетов-целевых-признаков\" data-toc-modified-id=\"Корректность-расчетов-целевых-признаков-2.3\"><span class=\"toc-item-num\">2.3&nbsp;&nbsp;</span>Корректность расчетов целевых признаков</a></span></li><li><span><a href=\"#Вывод\" data-toc-modified-id=\"Вывод-2.4\"><span class=\"toc-item-num\">2.4&nbsp;&nbsp;</span>Вывод</a></span></li></ul></li><li><span><a href=\"#Анализ-данных\" data-toc-modified-id=\"Анализ-данных-3\"><span class=\"toc-item-num\">3&nbsp;&nbsp;</span>Анализ данных</a></span><ul class=\"toc-item\"><li><span><a href=\"#Коэффициенты-восстановления\" data-toc-modified-id=\"Коэффициенты-восстановления-3.1\"><span class=\"toc-item-num\">3.1&nbsp;&nbsp;</span>Коэффициенты восстановления</a></span></li><li><span><a href=\"#Доля-золота\" data-toc-modified-id=\"Доля-золота-3.2\"><span class=\"toc-item-num\">3.2&nbsp;&nbsp;</span>Доля золота</a></span></li><li><span><a href=\"#Доля-прочих-металлов\" data-toc-modified-id=\"Доля-прочих-металлов-3.3\"><span class=\"toc-item-num\">3.3&nbsp;&nbsp;</span>Доля прочих металлов</a></span></li><li><span><a href=\"#Суммарная-концентрация-всех-ценных-веществ\" data-toc-modified-id=\"Суммарная-концентрация-всех-ценных-веществ-3.4\"><span class=\"toc-item-num\">3.4&nbsp;&nbsp;</span>Суммарная концентрация всех ценных веществ</a></span></li><li><span><a href=\"#Размер-гранул\" data-toc-modified-id=\"Размер-гранул-3.5\"><span class=\"toc-item-num\">3.5&nbsp;&nbsp;</span>Размер гранул</a></span></li><li><span><a href=\"#Скорость-подачи-сырья\" data-toc-modified-id=\"Скорость-подачи-сырья-3.6\"><span class=\"toc-item-num\">3.6&nbsp;&nbsp;</span>Скорость подачи сырья</a></span></li><li><span><a href=\"#Реагенты\" data-toc-modified-id=\"Реагенты-3.7\"><span class=\"toc-item-num\">3.7&nbsp;&nbsp;</span>Реагенты</a></span></li><li><span><a href=\"#Вывод\" data-toc-modified-id=\"Вывод-3.8\"><span class=\"toc-item-num\">3.8&nbsp;&nbsp;</span>Вывод</a></span></li></ul></li><li><span><a href=\"#Исследование-моделей\" data-toc-modified-id=\"Исследование-моделей-4\"><span class=\"toc-item-num\">4&nbsp;&nbsp;</span>Исследование моделей</a></span><ul class=\"toc-item\"><li><span><a href=\"#Подготовка-выборок\" data-toc-modified-id=\"Подготовка-выборок-4.1\"><span class=\"toc-item-num\">4.1&nbsp;&nbsp;</span>Подготовка выборок</a></span></li><li><span><a href=\"#Определение-метрики-качества\" data-toc-modified-id=\"Определение-метрики-качества-4.2\"><span class=\"toc-item-num\">4.2&nbsp;&nbsp;</span>Определение метрики качества</a></span></li><li><span><a href=\"#Обучение-и-валидация-моделей\" data-toc-modified-id=\"Обучение-и-валидация-моделей-4.3\"><span class=\"toc-item-num\">4.3&nbsp;&nbsp;</span>Обучение и валидация моделей</a></span></li><li><span><a href=\"#Проверка-на-адекватность\" data-toc-modified-id=\"Проверка-на-адекватность-4.4\"><span class=\"toc-item-num\">4.4&nbsp;&nbsp;</span>Проверка на адекватность</a></span></li><li><span><a href=\"#Проверка-на-тестовой-выборке\" data-toc-modified-id=\"Проверка-на-тестовой-выборке-4.5\"><span class=\"toc-item-num\">4.5&nbsp;&nbsp;</span>Проверка на тестовой выборке</a></span></li><li><span><a href=\"#Вывод\" data-toc-modified-id=\"Вывод-4.6\"><span class=\"toc-item-num\">4.6&nbsp;&nbsp;</span>Вывод</a></span></li></ul></li><li><span><a href=\"#Общий-вывод\" data-toc-modified-id=\"Общий-вывод-5\"><span class=\"toc-item-num\">5&nbsp;&nbsp;</span>Общий вывод</a></span></li></ul></div>"
   ]
  },
  {
   "cell_type": "markdown",
   "metadata": {},
   "source": [
    "# Прогноз коэффициента восстановления золота из руды"
   ]
  },
  {
   "cell_type": "markdown",
   "metadata": {},
   "source": [
    "## Цель проекта\n",
    "\n",
    "Задача состоит в создании прототипа модели машинного обучения для прогноза коэффициента восстановления золота из руды в зависимости от качества сырья и технических характеристик процесса. Модель позволить оптимизировать производственный процесс за счет уменьшения рисков убыточности. Качество модели оценивается исходя из показателя **sMAPE**. \n",
    "\n",
    "$$ sMAPE = \\frac{1}{N}\\sum_{i=1}^{N} \\frac{|y_i - \\hat{y}_i|}{(|y_i| + \\hat{y}_i) / 2} \\times 100 \\% $$\n",
    "\n",
    "$$ Итоговое\\ sMAPE = 25\\%\\times sMAPE(rougher) + 75\\%\\times sMAPE(recovery),\\ где $$\n",
    "\n",
    "$y_i$ - фактическое значение коэфффициента восстановления,\n",
    "\n",
    "$\\hat{y}_i$ - прогнозное значение коэффициента восстановления,\n",
    "\n",
    "$N$ - число объектов в выборке, по которой ведется расчет,\n",
    "\n",
    "$rougher$ - стадия флотации,\n",
    "\n",
    "$recovery$ - финальная стадия технологического процесса.\n",
    "\n",
    "Данные для обучения и валидации результатов также приложены к техническому заданию. \n",
    "\n",
    "Для выполнения поставленной задачи необходимо:\n",
    "\n",
    "1. Проанализировать состав и структуру имеющихся данных;\n",
    "2. При необходимости доработать данные для дальнейшего использовапния;\n",
    "2. Обучить и провалидировать результаты нескольких типов моделей, выбрать оптимальную;\n",
    "3. Проверить результаты выбранной модели на тестовых данных."
   ]
  },
  {
   "cell_type": "code",
   "execution_count": 1,
   "metadata": {},
   "outputs": [],
   "source": [
    "# Импорты используемых библиотек:\n",
    "\n",
    "# Анализ и визуализация\n",
    "import pandas as pd\n",
    "import matplotlib.pyplot as plt\n",
    "# Подготовка и метрики\n",
    "from sklearn.preprocessing import StandardScaler\n",
    "from sklearn.model_selection import cross_val_score, GridSearchCV\n",
    "from sklearn.metrics import make_scorer\n",
    "from numpy.random import RandomState\n",
    "# Используемые модели\n",
    "from sklearn.tree import DecisionTreeRegressor\n",
    "from sklearn.ensemble import RandomForestRegressor\n",
    "from sklearn.linear_model import LinearRegression\n",
    "from sklearn.dummy import DummyRegressor"
   ]
  },
  {
   "cell_type": "markdown",
   "metadata": {},
   "source": [
    "## Обзор и подготовка данных\n",
    "\n",
    "### Загрузка и первичный обзор\n",
    "\n",
    "По условиям технического задания, данные уже разделены на обучающую и тестовую выборки. Также предоставлен датасет, содержащий обе выборки со всеми параметрами. Данные дифференцируются по дате. Загрузим имеющиеся данные и рассмотрим их состав: "
   ]
  },
  {
   "cell_type": "code",
   "execution_count": 2,
   "metadata": {},
   "outputs": [
    {
     "name": "stdout",
     "output_type": "stream",
     "text": [
      "Размер данных для обучающей выборки: (14149, 86)\n",
      "Размер данных для тестовой выборки: (5290, 52)\n",
      "Размер данных полного датасета: (19439, 86)\n"
     ]
    }
   ],
   "source": [
    "try:\n",
    "    df_train = pd.read_csv('/datasets/gold_recovery_train_new.csv', index_col='date')\n",
    "    df_test = pd.read_csv('/datasets/gold_recovery_test_new.csv', index_col='date')\n",
    "    df_full = pd.read_csv('/datasets/gold_recovery_full_new.csv', index_col='date')\n",
    "except:\n",
    "    df_train = pd.read_csv('datasets/gold_recovery/gold_recovery_train_new.csv', index_col='date')\n",
    "    df_test = pd.read_csv('datasets/gold_recovery/gold_recovery_test_new.csv', index_col='date')\n",
    "    df_full = pd.read_csv('datasets/gold_recovery/gold_recovery_full_new.csv', index_col='date')    \n",
    "\n",
    "print('Размер данных для обучающей выборки:', df_train.shape)\n",
    "print('Размер данных для тестовой выборки:', df_test.shape)\n",
    "print('Размер данных полного датасета:', df_full.shape)"
   ]
  },
  {
   "cell_type": "markdown",
   "metadata": {},
   "source": [
    "Количество объектов в обучающей и тестовой выборках относятся примерно как 73% : 27%, что отражает классическую пропорцию в объеме выборок.\n",
    "\n",
    "В исходных данных содержится 86 признаков, отвечающих за характеристики процесса флотации и очистки руды. Часть из признаков пропущена в тестовой выборке (доступно 52 признака из 86). Рассмотрим подробнее состав признаков и наличие пропусков. Начнем с полного датасета:"
   ]
  },
  {
   "cell_type": "code",
   "execution_count": 3,
   "metadata": {
    "scrolled": true
   },
   "outputs": [
    {
     "name": "stdout",
     "output_type": "stream",
     "text": [
      "\u001b[1mДанные полного датасета:\u001b[0m\n",
      "<class 'pandas.core.frame.DataFrame'>\n",
      "Index: 19439 entries, 2016-01-15 00:00:00 to 2018-08-18 10:59:59\n",
      "Data columns (total 86 columns):\n",
      " #   Column                                              Non-Null Count  Dtype  \n",
      "---  ------                                              --------------  -----  \n",
      " 0   final.output.concentrate_ag                         19438 non-null  float64\n",
      " 1   final.output.concentrate_pb                         19438 non-null  float64\n",
      " 2   final.output.concentrate_sol                        19228 non-null  float64\n",
      " 3   final.output.concentrate_au                         19439 non-null  float64\n",
      " 4   final.output.recovery                               19439 non-null  float64\n",
      " 5   final.output.tail_ag                                19438 non-null  float64\n",
      " 6   final.output.tail_pb                                19338 non-null  float64\n",
      " 7   final.output.tail_sol                               19433 non-null  float64\n",
      " 8   final.output.tail_au                                19439 non-null  float64\n",
      " 9   primary_cleaner.input.sulfate                       19415 non-null  float64\n",
      " 10  primary_cleaner.input.depressant                    19402 non-null  float64\n",
      " 11  primary_cleaner.input.feed_size                     19439 non-null  float64\n",
      " 12  primary_cleaner.input.xanthate                      19335 non-null  float64\n",
      " 13  primary_cleaner.output.concentrate_ag               19439 non-null  float64\n",
      " 14  primary_cleaner.output.concentrate_pb               19323 non-null  float64\n",
      " 15  primary_cleaner.output.concentrate_sol              19069 non-null  float64\n",
      " 16  primary_cleaner.output.concentrate_au               19439 non-null  float64\n",
      " 17  primary_cleaner.output.tail_ag                      19435 non-null  float64\n",
      " 18  primary_cleaner.output.tail_pb                      19418 non-null  float64\n",
      " 19  primary_cleaner.output.tail_sol                     19377 non-null  float64\n",
      " 20  primary_cleaner.output.tail_au                      19439 non-null  float64\n",
      " 21  primary_cleaner.state.floatbank8_a_air              19435 non-null  float64\n",
      " 22  primary_cleaner.state.floatbank8_a_level            19438 non-null  float64\n",
      " 23  primary_cleaner.state.floatbank8_b_air              19435 non-null  float64\n",
      " 24  primary_cleaner.state.floatbank8_b_level            19438 non-null  float64\n",
      " 25  primary_cleaner.state.floatbank8_c_air              19437 non-null  float64\n",
      " 26  primary_cleaner.state.floatbank8_c_level            19438 non-null  float64\n",
      " 27  primary_cleaner.state.floatbank8_d_air              19436 non-null  float64\n",
      " 28  primary_cleaner.state.floatbank8_d_level            19438 non-null  float64\n",
      " 29  rougher.calculation.sulfate_to_au_concentrate       19437 non-null  float64\n",
      " 30  rougher.calculation.floatbank10_sulfate_to_au_feed  19437 non-null  float64\n",
      " 31  rougher.calculation.floatbank11_sulfate_to_au_feed  19437 non-null  float64\n",
      " 32  rougher.calculation.au_pb_ratio                     19439 non-null  float64\n",
      " 33  rougher.input.feed_ag                               19439 non-null  float64\n",
      " 34  rougher.input.feed_pb                               19339 non-null  float64\n",
      " 35  rougher.input.feed_rate                             19428 non-null  float64\n",
      " 36  rougher.input.feed_size                             19294 non-null  float64\n",
      " 37  rougher.input.feed_sol                              19340 non-null  float64\n",
      " 38  rougher.input.feed_au                               19439 non-null  float64\n",
      " 39  rougher.input.floatbank10_sulfate                   19405 non-null  float64\n",
      " 40  rougher.input.floatbank10_xanthate                  19431 non-null  float64\n",
      " 41  rougher.input.floatbank11_sulfate                   19395 non-null  float64\n",
      " 42  rougher.input.floatbank11_xanthate                  18986 non-null  float64\n",
      " 43  rougher.output.concentrate_ag                       19439 non-null  float64\n",
      " 44  rougher.output.concentrate_pb                       19439 non-null  float64\n",
      " 45  rougher.output.concentrate_sol                      19416 non-null  float64\n",
      " 46  rougher.output.concentrate_au                       19439 non-null  float64\n",
      " 47  rougher.output.recovery                             19439 non-null  float64\n",
      " 48  rougher.output.tail_ag                              19438 non-null  float64\n",
      " 49  rougher.output.tail_pb                              19439 non-null  float64\n",
      " 50  rougher.output.tail_sol                             19439 non-null  float64\n",
      " 51  rougher.output.tail_au                              19439 non-null  float64\n",
      " 52  rougher.state.floatbank10_a_air                     19438 non-null  float64\n",
      " 53  rougher.state.floatbank10_a_level                   19438 non-null  float64\n",
      " 54  rougher.state.floatbank10_b_air                     19438 non-null  float64\n",
      " 55  rougher.state.floatbank10_b_level                   19438 non-null  float64\n",
      " 56  rougher.state.floatbank10_c_air                     19438 non-null  float64\n",
      " 57  rougher.state.floatbank10_c_level                   19438 non-null  float64\n",
      " 58  rougher.state.floatbank10_d_air                     19439 non-null  float64\n",
      " 59  rougher.state.floatbank10_d_level                   19439 non-null  float64\n",
      " 60  rougher.state.floatbank10_e_air                     19003 non-null  float64\n",
      " 61  rougher.state.floatbank10_e_level                   19439 non-null  float64\n",
      " 62  rougher.state.floatbank10_f_air                     19439 non-null  float64\n",
      " 63  rougher.state.floatbank10_f_level                   19439 non-null  float64\n",
      " 64  secondary_cleaner.output.tail_ag                    19437 non-null  float64\n",
      " 65  secondary_cleaner.output.tail_pb                    19427 non-null  float64\n",
      " 66  secondary_cleaner.output.tail_sol                   17691 non-null  float64\n",
      " 67  secondary_cleaner.output.tail_au                    19439 non-null  float64\n",
      " 68  secondary_cleaner.state.floatbank2_a_air            19219 non-null  float64\n",
      " 69  secondary_cleaner.state.floatbank2_a_level          19438 non-null  float64\n",
      " 70  secondary_cleaner.state.floatbank2_b_air            19416 non-null  float64\n",
      " 71  secondary_cleaner.state.floatbank2_b_level          19438 non-null  float64\n",
      " 72  secondary_cleaner.state.floatbank3_a_air            19426 non-null  float64\n",
      " 73  secondary_cleaner.state.floatbank3_a_level          19438 non-null  float64\n",
      " 74  secondary_cleaner.state.floatbank3_b_air            19438 non-null  float64\n",
      " 75  secondary_cleaner.state.floatbank3_b_level          19438 non-null  float64\n",
      " 76  secondary_cleaner.state.floatbank4_a_air            19433 non-null  float64\n",
      " 77  secondary_cleaner.state.floatbank4_a_level          19438 non-null  float64\n",
      " 78  secondary_cleaner.state.floatbank4_b_air            19438 non-null  float64\n",
      " 79  secondary_cleaner.state.floatbank4_b_level          19438 non-null  float64\n",
      " 80  secondary_cleaner.state.floatbank5_a_air            19438 non-null  float64\n",
      " 81  secondary_cleaner.state.floatbank5_a_level          19438 non-null  float64\n",
      " 82  secondary_cleaner.state.floatbank5_b_air            19438 non-null  float64\n",
      " 83  secondary_cleaner.state.floatbank5_b_level          19438 non-null  float64\n",
      " 84  secondary_cleaner.state.floatbank6_a_air            19437 non-null  float64\n",
      " 85  secondary_cleaner.state.floatbank6_a_level          19438 non-null  float64\n",
      "dtypes: float64(86)\n",
      "memory usage: 12.9+ MB\n"
     ]
    }
   ],
   "source": [
    "# Обзор полного датасета:\n",
    "print('\\033[1m'+'Данные полного датасета:'+'\\033[0m')\n",
    "df_full.info()"
   ]
  },
  {
   "cell_type": "markdown",
   "metadata": {},
   "source": [
    "<a id = 'c1'></a>\n",
    "Данные содержат информацию о:\n",
    "\n",
    "* Составе подаваемого на вход сырья (отслеживается не только золото, но и другие вещества, имеющие промышленную ценность), размере и скорости подачи гранул;\n",
    "* Долях промышленно-ценных веществ по переделам (флотация, первичная и вторичная очистки) как в продукте, так и в отвалах;\n",
    "* Количестве подаваемых реагентов на каждом из переделов;\n",
    "* Технических характеристиках на каждом этапе (объем воздуха и уровень жидкости) с обозначением флотационной установки. Для каждого объекта характерно несколько замеров обоих показателей;\n",
    "* Расчетных параметрах, характеризующих технологический аспект флотации (данные вторичны);\n",
    "* Коэффициентах восстановления золота после флотации и в результате всего технологического процесса.\n",
    "\n",
    "Все данные вещественного типа. В большинстве признаков есть пропуски, однако доля их невелика. Количество пропусков в доле вещества *sol* в отвале вторичной очистки составляет ок. 9% (не ключевой показатель). В остальных случаях доля пропусков не превышает 2% объего объема данных, чаще всего пропуски единичны.\n",
    "\n",
    "Рассмотрим состав обучающей выборки на предмет различий в признаках:"
   ]
  },
  {
   "cell_type": "code",
   "execution_count": 4,
   "metadata": {},
   "outputs": [
    {
     "name": "stdout",
     "output_type": "stream",
     "text": [
      "\u001b[1mДанные для обучающей выборки по сравнению с полным датасетом:\u001b[0m\n",
      "Отличия в признаках:\n",
      "[]\n",
      "Отличия в типах данных:\n",
      "[]\n"
     ]
    }
   ],
   "source": [
    "# Обзор данных для обучающей выборки:\n",
    "print('\\033[1m'+'Данные для обучающей выборки по сравнению с полным датасетом:'+'\\033[0m')\n",
    "print('Отличия в признаках:')\n",
    "print(list(df_full.columns.difference(df_train.columns)))\n",
    "print('Отличия в типах данных:')\n",
    "print(list(set(df_full.dtypes).difference(df_train.dtypes)))"
   ]
  },
  {
   "cell_type": "markdown",
   "metadata": {},
   "source": [
    "Все признаки, имеющиеся в полном датасете, присутствуют и в датасете для обучающей выборки. Различия в типах также отсутствуют. Перейдем к данным для тестовой выборки:"
   ]
  },
  {
   "cell_type": "code",
   "execution_count": 5,
   "metadata": {},
   "outputs": [
    {
     "name": "stdout",
     "output_type": "stream",
     "text": [
      "\u001b[1mДанные для тестовой выборки по сравнению с полным датасетом:\u001b[0m\n",
      "Отличия в признаках:\n",
      "['final.output.concentrate_ag', 'final.output.concentrate_au', 'final.output.concentrate_pb', 'final.output.concentrate_sol', 'final.output.recovery', 'final.output.tail_ag', 'final.output.tail_au', 'final.output.tail_pb', 'final.output.tail_sol', 'primary_cleaner.output.concentrate_ag', 'primary_cleaner.output.concentrate_au', 'primary_cleaner.output.concentrate_pb', 'primary_cleaner.output.concentrate_sol', 'primary_cleaner.output.tail_ag', 'primary_cleaner.output.tail_au', 'primary_cleaner.output.tail_pb', 'primary_cleaner.output.tail_sol', 'rougher.calculation.au_pb_ratio', 'rougher.calculation.floatbank10_sulfate_to_au_feed', 'rougher.calculation.floatbank11_sulfate_to_au_feed', 'rougher.calculation.sulfate_to_au_concentrate', 'rougher.output.concentrate_ag', 'rougher.output.concentrate_au', 'rougher.output.concentrate_pb', 'rougher.output.concentrate_sol', 'rougher.output.recovery', 'rougher.output.tail_ag', 'rougher.output.tail_au', 'rougher.output.tail_pb', 'rougher.output.tail_sol', 'secondary_cleaner.output.tail_ag', 'secondary_cleaner.output.tail_au', 'secondary_cleaner.output.tail_pb', 'secondary_cleaner.output.tail_sol']\n",
      "Отличия в типах данных:\n",
      "[]\n"
     ]
    }
   ],
   "source": [
    "# Обзор данных для тестовой выборки:\n",
    "print('\\033[1m'+'Данные для тестовой выборки по сравнению с полным датасетом:'+'\\033[0m')\n",
    "print('Отличия в признаках:')\n",
    "print(list(df_full.columns.difference(df_test.columns)))\n",
    "print('Отличия в типах данных:')\n",
    "print(list(set(df_full.dtypes).difference(df_test.dtypes)))"
   ]
  },
  {
   "cell_type": "markdown",
   "metadata": {},
   "source": [
    "Заметим, что отличие составляют данные о продуктах переделов и процесса в целом (помежуточный результат прогнозирования и целевые признаки), а также расчетные параметры (вторичные данные). Отличия в типах данных отсутствуют (все признаки вещественные)."
   ]
  },
  {
   "cell_type": "markdown",
   "metadata": {},
   "source": [
    "<a id = 'c2'></a>\n",
    "\n",
    "**Прочие наблюдения:**\n",
    "* Исходя из названий признаков, реагенты на стадии флотации подаются на установки 10 и 11. Однако технические замеры процесса флотации доступны только для установки 10.\n",
    "* Число замеров на каждом из этапов различно: для флотации производится 6 замеров (обозначаются a-f), для первичной очистки - 4 замера (a-d), для вторичной очистки - по 2 замера для установок 2-5 и один для установки 6.\n",
    "* Для этапа вторичной очистки отсутствуют значения долей концентрата, но присутстуют значения долей веществ в отвалах. Финальные характеристики отвалов (`final.output.tail`) не совпадают со значениями для вторичной очистки (`secondary_cleaner.output.tail`).\n",
    "\n",
    "Причины для указанных выше фактов неясны; их уточнение может повлиять на выбор признаков и, соответсвенно, качество модели."
   ]
  },
  {
   "cell_type": "code",
   "execution_count": 6,
   "metadata": {},
   "outputs": [
    {
     "data": {
      "text/html": [
       "<div>\n",
       "<style scoped>\n",
       "    .dataframe tbody tr th:only-of-type {\n",
       "        vertical-align: middle;\n",
       "    }\n",
       "\n",
       "    .dataframe tbody tr th {\n",
       "        vertical-align: top;\n",
       "    }\n",
       "\n",
       "    .dataframe thead th {\n",
       "        text-align: right;\n",
       "    }\n",
       "</style>\n",
       "<table border=\"1\" class=\"dataframe\">\n",
       "  <thead>\n",
       "    <tr style=\"text-align: right;\">\n",
       "      <th></th>\n",
       "      <th>final.output.tail_au</th>\n",
       "      <th>secondary_cleaner.output.tail_au</th>\n",
       "    </tr>\n",
       "    <tr>\n",
       "      <th>date</th>\n",
       "      <th></th>\n",
       "      <th></th>\n",
       "    </tr>\n",
       "  </thead>\n",
       "  <tbody>\n",
       "    <tr>\n",
       "      <th>2016-01-15 00:00:00</th>\n",
       "      <td>2.143149</td>\n",
       "      <td>2.606185</td>\n",
       "    </tr>\n",
       "    <tr>\n",
       "      <th>2016-01-15 01:00:00</th>\n",
       "      <td>2.224930</td>\n",
       "      <td>2.488248</td>\n",
       "    </tr>\n",
       "    <tr>\n",
       "      <th>2016-01-15 02:00:00</th>\n",
       "      <td>2.257889</td>\n",
       "      <td>2.458187</td>\n",
       "    </tr>\n",
       "    <tr>\n",
       "      <th>2016-01-15 03:00:00</th>\n",
       "      <td>2.146849</td>\n",
       "      <td>2.322062</td>\n",
       "    </tr>\n",
       "    <tr>\n",
       "      <th>2016-01-15 04:00:00</th>\n",
       "      <td>2.055292</td>\n",
       "      <td>2.330448</td>\n",
       "    </tr>\n",
       "  </tbody>\n",
       "</table>\n",
       "</div>"
      ],
      "text/plain": [
       "                     final.output.tail_au  secondary_cleaner.output.tail_au\n",
       "date                                                                       \n",
       "2016-01-15 00:00:00              2.143149                          2.606185\n",
       "2016-01-15 01:00:00              2.224930                          2.488248\n",
       "2016-01-15 02:00:00              2.257889                          2.458187\n",
       "2016-01-15 03:00:00              2.146849                          2.322062\n",
       "2016-01-15 04:00:00              2.055292                          2.330448"
      ]
     },
     "execution_count": 6,
     "metadata": {},
     "output_type": "execute_result"
    }
   ],
   "source": [
    "# Пример несовпадения значений по отвалам:\n",
    "df_full[['final.output.tail_au', 'secondary_cleaner.output.tail_au']].head()"
   ]
  },
  {
   "cell_type": "markdown",
   "metadata": {},
   "source": [
    "### Заполнение пропусков\n",
    "\n",
    "Как было отмечено [ранее](#c1), в датасетах присутствуют пропуски, хотя доля их невелика. Также известно, что процесс обогащения руды непрерывный, т.е. значения признаков меняются постепенно. Соответсвенно, для заполнения пропущенных значений в датасетах предлагается использовать предыдущее значение параметра. "
   ]
  },
  {
   "cell_type": "code",
   "execution_count": 7,
   "metadata": {},
   "outputs": [
    {
     "name": "stdout",
     "output_type": "stream",
     "text": [
      "Пропуски в обучающей выборке: 0\n",
      "Пропуски в тестовой выборке: 0\n",
      "Пропуски в общем датасете: 0\n"
     ]
    }
   ],
   "source": [
    "# Заполняем пропуски:\n",
    "df_train = df_train.fillna(method='ffill', axis=0)\n",
    "df_test = df_test.fillna(method='ffill', axis=0)\n",
    "df_full = df_full.fillna(method='ffill', axis=0)\n",
    "# Контролируем полноту заполнения:\n",
    "print('Пропуски в обучающей выборке:', df_train.isna().sum().sum())\n",
    "print('Пропуски в тестовой выборке:', df_test.isna().sum().sum())\n",
    "print('Пропуски в общем датасете:', df_full.isna().sum().sum())"
   ]
  },
  {
   "cell_type": "markdown",
   "metadata": {},
   "source": [
    "### Корректность расчетов целевых признаков\n",
    "\n",
    "Расчитаем значения коэффициентов восстановления золота после флотации и в результате всего процесса обогащения и сравним с имеющимися значениями. Расчет проводится по формуле:\n",
    "$$R = \\frac{C \\times (F - T)}{F \\times (C-T)} \\times 100\\% ,$$\n",
    "где R - коэффициент восстановления,\n",
    "\n",
    "С - доля золота в концентрате,\n",
    "\n",
    "F - доля золота в сырье,\n",
    "\n",
    "T - доля золота в отвале."
   ]
  },
  {
   "cell_type": "code",
   "execution_count": 8,
   "metadata": {},
   "outputs": [
    {
     "name": "stdout",
     "output_type": "stream",
     "text": [
      "Различие в коэффициентах после флотации: 9.73512347450521e-15\n",
      "Различие в коэффициентах после обогащения: 8.538049763979541e-15\n"
     ]
    }
   ],
   "source": [
    "def recovery_calc (f, c, t):                 # формула для расчета коэффициента\n",
    "    return c * (f - t) / (f * (c - t)) * 100\n",
    "\n",
    "# Расчет коэффициента после флотации:\n",
    "r_rougher = recovery_calc(f=df_train['rougher.input.feed_au'],\n",
    "                         c=df_train['rougher.output.concentrate_au'],\n",
    "                         t=df_train['rougher.output.tail_au'])\n",
    "mae_rougher = abs(df_train['rougher.output.recovery'] - r_rougher).mean()\n",
    "print('Различие в коэффициентах после флотации:', mae_rougher)\n",
    "\n",
    "# Расчет коэффициента после всего обогащения:\n",
    "r_final = recovery_calc(f=df_train['rougher.input.feed_au'],\n",
    "                       c=df_train['final.output.concentrate_au'],\n",
    "                       t=df_train['final.output.tail_au'])\n",
    "mae_final = abs(df_train['final.output.recovery'] - r_final).mean()\n",
    "print('Различие в коэффициентах после обогащения:', mae_final)"
   ]
  },
  {
   "cell_type": "markdown",
   "metadata": {},
   "source": [
    "Погрешность расчета по сравнению с предоставленными данными мизерна, вероятно, вызвана округлениями. То есть, ошибок в расчете коэффициентов восстановления в датасете нет. \n",
    "\n",
    "### Вывод\n",
    "Исходные данные содержат ок. 19 тыс. объектов, разделенные на обучающий и тестовый датасеты в пропорции 73% : 27%. Пропуски в данных в основном единичны; были заполнены путем экстаполяции предыдущих значений. В тестовом датасете отсутствует информалия о результатах этапов (долях веществ в концентратах и хвостах), а также расчетсвные метрики, выводимые из других имеющихся параметров. Также был проверен расчет целевых признаков (коэффициентов восстановления при флотации и финальный коэффициент), ошибок не выявлено.\n",
    "\n",
    "Помимо этого, исходя из названий признаков были выявлены вопросы технологического характера, уточнение которых может повлиять на состав переменных, а значит, и качество модели."
   ]
  },
  {
   "cell_type": "markdown",
   "metadata": {},
   "source": [
    "## Анализ данных\n",
    "\n",
    "Проанализируем распределения целевых признаков, а также ряда объясняющих признаков на предмет наличия аномалий. \n",
    "\n",
    "Поскольку целевые признаки (коэффициенты восстановления), а также информация, необходимая для их расчета (доли веществ в продукте) отсутствуют в тестовом датасете, их анализ будет проводиться на полном датасете. Объясняющие признаки будут рассматриваться отдельно для обучающего и тестового датасетов для проверки репрезентативности выборок.\n",
    "\n",
    "### Коэффициенты восстановления"
   ]
  },
  {
   "cell_type": "code",
   "execution_count": 9,
   "metadata": {},
   "outputs": [
    {
     "name": "stderr",
     "output_type": "stream",
     "text": [
      "C:\\Users\\1\\AppData\\Local\\Temp\\ipykernel_15768\\2246476472.py:11: UserWarning: Matplotlib is currently using module://matplotlib_inline.backend_inline, which is a non-GUI backend, so cannot show the figure.\n",
      "  fig.show()\n"
     ]
    },
    {
     "data": {
      "image/png": "[encoded data removed]",
      "text/plain": [
       "<Figure size 1000x500 with 1 Axes>"
      ]
     },
     "metadata": {},
     "output_type": "display_data"
    }
   ],
   "source": [
    "# Выбираем исследуемые признаки:\n",
    "cols_to_display = [col for col in df_full if 'recovery' in col]\n",
    "# Визуализация:\n",
    "fig = plt.figure(figsize=(10,5))\n",
    "for col in cols_to_display:\n",
    "    df_full[col].hist(bins=50, alpha=.6, legend=True)\n",
    "plt.title('Коэффициенты восстановления золота')\n",
    "plt.xlabel('Значение в %')\n",
    "plt.ylabel('Частота в ед.')\n",
    "plt.legend(['Финальный','После флотации'])\n",
    "fig.show()"
   ]
  },
  {
   "cell_type": "markdown",
   "metadata": {},
   "source": [
    "Значения коэффициента восстановления после флотации в целом выше, чем в результате всего процесса обогащения.\n",
    "\n",
    "В полном датасете присутствуют аномальные значения коэффициентов на уровне 0. Скорее всего, это объясняется аномальными значениями концентрации золота (т.к. расчеты коэффициентов были проверены, разночтнений не возникло). Также для финального коэффициента присутствует небольшой всплеск на уровне ок. 100%.\n",
    "\n",
    "### Доля золота"
   ]
  },
  {
   "cell_type": "code",
   "execution_count": 10,
   "metadata": {},
   "outputs": [
    {
     "name": "stderr",
     "output_type": "stream",
     "text": [
      "C:\\Users\\1\\AppData\\Local\\Temp\\ipykernel_15768\\4092986352.py:11: UserWarning: Matplotlib is currently using module://matplotlib_inline.backend_inline, which is a non-GUI backend, so cannot show the figure.\n",
      "  fig.show()\n"
     ]
    },
    {
     "data": {
      "image/png": "[encoded data removed]",
      "text/plain": [
       "<Figure size 1000x500 with 1 Axes>"
      ]
     },
     "metadata": {},
     "output_type": "display_data"
    }
   ],
   "source": [
    "# Выбираем исследуемые признаки:\n",
    "cols_to_display = [col for col in df_full if 'concentrate_au' in col] + ['rougher.input.feed_au']\n",
    "# Визуализация:\n",
    "fig = plt.figure(figsize=(10,5))\n",
    "for col in cols_to_display:\n",
    "    df_full[col].hist(bins=50, alpha=.6, legend=True)\n",
    "plt.title('Доля золота (сырье и концентраты)')\n",
    "plt.xlabel('Значение в %')\n",
    "plt.ylabel('Частота в ед.')\n",
    "plt.legend(['Финальный', 'Первичная очистка', 'Флотация', 'Сырье'])\n",
    "fig.show()"
   ]
  },
  {
   "cell_type": "markdown",
   "metadata": {},
   "source": [
    "Как и ожидалось, концентрация золота растет по переделам. Заметны аномальные значения около 0, которые обуславливают аномалии в коэффициентах восстановления. Рассмотрим также долю золота в отвалах:"
   ]
  },
  {
   "cell_type": "code",
   "execution_count": 11,
   "metadata": {},
   "outputs": [
    {
     "name": "stderr",
     "output_type": "stream",
     "text": [
      "C:\\Users\\1\\AppData\\Local\\Temp\\ipykernel_15768\\547580800.py:11: UserWarning: Matplotlib is currently using module://matplotlib_inline.backend_inline, which is a non-GUI backend, so cannot show the figure.\n",
      "  fig.show()\n"
     ]
    },
    {
     "data": {
      "image/png": "[encoded data removed]",
      "text/plain": [
       "<Figure size 1000x500 with 1 Axes>"
      ]
     },
     "metadata": {},
     "output_type": "display_data"
    }
   ],
   "source": [
    "# Выбираем исследуемые признаки:\n",
    "cols_to_display = [col for col in df_full if 'tail_au' in col]\n",
    "# Визуализация:\n",
    "fig = plt.figure(figsize=(10,5))\n",
    "for col in cols_to_display:\n",
    "    df_full[col].hist(bins=50, alpha=.4, legend=True)\n",
    "plt.title('Доля золота (отвалы)')\n",
    "plt.xlabel('Значение в %')\n",
    "plt.ylabel('Частота в ед.')\n",
    "plt.legend(['Финальный', 'Первичная очистка', 'Флотация', 'Вторичная очистка'])\n",
    "fig.show()"
   ]
  },
  {
   "cell_type": "markdown",
   "metadata": {},
   "source": [
    "Распределения долей золота в хвостах выглядят логично для финальных значений, флотации и первичной очистки. Заметна аномалия в районе 0 для вторичной очистки, однако данный показатель не участвует в расчете коэффициента восстановления. Таким образом, аномалии в коэффициентах восстановления вызваны аномалиями в долях золота в сырье и концентратах.\n",
    "\n",
    "### Доля прочих металлов"
   ]
  },
  {
   "cell_type": "code",
   "execution_count": 12,
   "metadata": {},
   "outputs": [
    {
     "name": "stderr",
     "output_type": "stream",
     "text": [
      "C:\\Users\\1\\AppData\\Local\\Temp\\ipykernel_15768\\2871536977.py:11: UserWarning: Matplotlib is currently using module://matplotlib_inline.backend_inline, which is a non-GUI backend, so cannot show the figure.\n",
      "  fig.show()\n"
     ]
    },
    {
     "data": {
      "image/png": "[encoded data removed]",
      "text/plain": [
       "<Figure size 1000x500 with 1 Axes>"
      ]
     },
     "metadata": {},
     "output_type": "display_data"
    }
   ],
   "source": [
    "# Выбираем исследуемые признаки для серебра:\n",
    "cols_to_display = [col for col in df_full if 'concentrate_ag' in col] + ['rougher.input.feed_ag']\n",
    "# Визуализация:\n",
    "fig = plt.figure(figsize=(10,5))\n",
    "for col in cols_to_display:\n",
    "    df_full[col].hist(bins=50, alpha=.5, legend=True)\n",
    "plt.title('Доля серебра (сырье и концентраты)')\n",
    "plt.xlabel('Значение в %')\n",
    "plt.ylabel('Частота в ед.')\n",
    "plt.legend(['Финальный', 'Первичная очистка', 'Флотация', 'Сырье'])\n",
    "fig.show()"
   ]
  },
  {
   "cell_type": "code",
   "execution_count": 13,
   "metadata": {},
   "outputs": [
    {
     "name": "stderr",
     "output_type": "stream",
     "text": [
      "C:\\Users\\1\\AppData\\Local\\Temp\\ipykernel_15768\\996728354.py:11: UserWarning: Matplotlib is currently using module://matplotlib_inline.backend_inline, which is a non-GUI backend, so cannot show the figure.\n",
      "  fig.show()\n"
     ]
    },
    {
     "data": {
      "image/png": "[encoded data removed]",
      "text/plain": [
       "<Figure size 1000x500 with 1 Axes>"
      ]
     },
     "metadata": {},
     "output_type": "display_data"
    }
   ],
   "source": [
    "# Выбираем исследуемые признаки для свинца:\n",
    "cols_to_display = [col for col in df_full if 'concentrate_pb' in col] + ['rougher.input.feed_pb']\n",
    "# Визуализация:\n",
    "fig = plt.figure(figsize=(10,5))\n",
    "for col in cols_to_display:\n",
    "    df_full[col].hist(bins=50, alpha=.5, legend=True)\n",
    "plt.title('Доля свинца (сырье и концентраты)')\n",
    "plt.xlabel('Значение в %')\n",
    "plt.ylabel('Частота в ед.')\n",
    "plt.legend(['Финальный', 'Первичная очистка', 'Флотация', 'Сырье'])\n",
    "fig.show()"
   ]
  },
  {
   "cell_type": "markdown",
   "metadata": {},
   "source": [
    "Доля серебра в продукте в целом растет после флотации, но сокращается по мере дальнейщей очистки (вероятно, связано с уменьшением доли примесей и ростом относительной доли прочих металлов). Для свинца характерен рост концентрации после флотации и первичной очистки, финальные значения распределены приблизительно в том же диапазоне, что и доли после первичной очистки.\n",
    "\n",
    "Для обоих металлов заметны аномалии в районе 0.\n",
    "\n",
    "### Суммарная концентрация всех ценных веществ"
   ]
  },
  {
   "cell_type": "code",
   "execution_count": 14,
   "metadata": {},
   "outputs": [
    {
     "name": "stderr",
     "output_type": "stream",
     "text": [
      "C:\\Users\\1\\AppData\\Local\\Temp\\ipykernel_15768\\1288659427.py:22: UserWarning: Matplotlib is currently using module://matplotlib_inline.backend_inline, which is a non-GUI backend, so cannot show the figure.\n",
      "  fig.show()\n"
     ]
    },
    {
     "data": {
      "image/png": "[encoded data removed]",
      "text/plain": [
       "<Figure size 1000x500 with 1 Axes>"
      ]
     },
     "metadata": {},
     "output_type": "display_data"
    }
   ],
   "source": [
    "# Найдем суммарные концентрации всех веществ на всех этапах:\n",
    "filter_cols = [col for col in df_full if 'final.output.concentrate' in col]           # финальные\n",
    "df_full['final.output.concentrate_all'] = df_full[filter_cols].sum(axis=1)\n",
    "filter_cols = [col for col in df_full if 'primary_cleaner.output.concentrate' in col] # первичная очистка\n",
    "df_full['primary_cleaner.output.concentrate_all'] = df_full[filter_cols].sum(axis=1)\n",
    "filter_cols = [col for col in df_full if 'rougher.output.concentrate' in col]         # флотация\n",
    "df_full['rougher.output.concentrate_all'] = df_full[filter_cols].sum(axis=1)\n",
    "df_full['rougher.input.feed_all'] = df_full[['rougher.input.feed_au',                 # сырье\n",
    "                                            'rougher.input.feed_ag',                  # вручную, т.к. есть еще feed_size/_rate\n",
    "                                            'rougher.input.feed_pb',\n",
    "                                            'rougher.input.feed_sol']].sum(axis=1)\n",
    "# Выбираем исследуемые признаки:\n",
    "cols_to_display = [col for col in df_full if 'all' in col]\n",
    "# Визуализация:\n",
    "fig = plt.figure(figsize=(10,5))\n",
    "for col in cols_to_display:\n",
    "    df_full[col].hist(bins=100, alpha=.4, legend=True)\n",
    "plt.title('Суммарная доля веществ (сырье и концентраты)')\n",
    "plt.xlabel('Значение в %')\n",
    "plt.ylabel('Частота в ед.')\n",
    "plt.legend(['Финальный', 'Первичная очистка', 'Флотация', 'Сырье'])\n",
    "fig.show()"
   ]
  },
  {
   "cell_type": "markdown",
   "metadata": {},
   "source": [
    "Доля ценных веществ в продукте ведет себя нелинейно по техночогическим этапам: после флотации общая концентрация полезных веществ в целом растет, однако после первичной очистки становится в целом несколько меньше (распределение смещено влево относительно флотационного). Вероятно, такая динамика может объясняться методологией расчета (доли в сухом веществе или в пульпе, с учетом добавленных реагентов или нет), а также изменением относительных долей веществ. \n",
    "\n",
    "### Размер гранул\n",
    "\n",
    "Размер гранул сырья является объясняющим признаком и доступен как в обучающем, так и в тестовом датасете. Рассмотрим распределения раздельно. Поскольку датасеты содержат разное количество объектов, проанализируем распределение плотности. "
   ]
  },
  {
   "cell_type": "code",
   "execution_count": 15,
   "metadata": {},
   "outputs": [
    {
     "name": "stderr",
     "output_type": "stream",
     "text": [
      "C:\\Users\\1\\AppData\\Local\\Temp\\ipykernel_15768\\3688168557.py:18: UserWarning: Matplotlib is currently using module://matplotlib_inline.backend_inline, which is a non-GUI backend, so cannot show the figure.\n",
      "  fig.show()\n"
     ]
    },
    {
     "data": {
      "image/png": "[encoded data removed]",
      "text/plain": [
       "<Figure size 1200x500 with 2 Axes>"
      ]
     },
     "metadata": {},
     "output_type": "display_data"
    }
   ],
   "source": [
    "fig, axes = plt.subplots(1, 2, figsize=(12, 5))\n",
    "fig.suptitle('Размер гранул')\n",
    "# Сырье для флотации:\n",
    "df_train['rougher.input.feed_size'].hist(ax=axes[0], bins=50, density=True, alpha=0.5)\n",
    "df_test['rougher.input.feed_size'].hist(ax=axes[0], bins=50,density=True, alpha=0.5)\n",
    "axes[0].set_xlabel('Размер')\n",
    "axes[0].set_ylabel('Плотность')\n",
    "axes[0].set_title('Для флотации')\n",
    "axes[0].legend(['Обучающий датасет', 'Тестовый датасет'])\n",
    "# Черновой концентрат для очистки:\n",
    "df_train['primary_cleaner.input.feed_size'].hist(ax=axes[1], bins=50, density=True, alpha=0.5)\n",
    "df_test['primary_cleaner.input.feed_size'].hist(ax=axes[1], bins=50, density=True, alpha=0.5)\n",
    "axes[1].set_xlabel('Размер')\n",
    "axes[1].set_ylabel('Плотность')\n",
    "axes[1].set_title('Для очистки')\n",
    "axes[1].legend(['Обучающий датасет', 'Тестовый датасет'])\n",
    "\n",
    "fig.show()"
   ]
  },
  {
   "cell_type": "markdown",
   "metadata": {},
   "source": [
    "Гранулы, подаваемые на флотацию, существенно больше, нежели подаваемые на очистку. Существенных различий в распределениях между обучающим и тестовым датасетом нет.\n",
    "\n",
    "### Скорость подачи сырья"
   ]
  },
  {
   "cell_type": "code",
   "execution_count": 16,
   "metadata": {},
   "outputs": [
    {
     "name": "stderr",
     "output_type": "stream",
     "text": [
      "C:\\Users\\1\\AppData\\Local\\Temp\\ipykernel_15768\\658952564.py:8: UserWarning: Matplotlib is currently using module://matplotlib_inline.backend_inline, which is a non-GUI backend, so cannot show the figure.\n",
      "  fig.show()\n"
     ]
    },
    {
     "data": {
      "image/png": "[encoded data removed]",
      "text/plain": [
       "<Figure size 1000x500 with 1 Axes>"
      ]
     },
     "metadata": {},
     "output_type": "display_data"
    }
   ],
   "source": [
    "fig = plt.figure(figsize=(10,5))\n",
    "df_train['rougher.input.feed_rate'].hist(bins=50, density=True, alpha=0.5)\n",
    "df_test['rougher.input.feed_rate'].hist(bins=50,density=True, alpha=0.5)\n",
    "plt.xlabel('Скорость')\n",
    "plt.ylabel('Плотность')\n",
    "plt.title('Скорость подачи сырья')\n",
    "plt.legend(['Обучающий датасет', 'Тестовый датасет'])\n",
    "fig.show()"
   ]
  },
  {
   "cell_type": "markdown",
   "metadata": {},
   "source": [
    "Присутствует небольшой аномальный всплеск на уровне нулевых значений для обоих датасетов. Распределение для обучающего датасета сильнее смещено вправо, нежел ираспределение на тестовых данных.\n",
    "\n",
    "### Реагенты"
   ]
  },
  {
   "cell_type": "code",
   "execution_count": 17,
   "metadata": {},
   "outputs": [
    {
     "name": "stderr",
     "output_type": "stream",
     "text": [
      "C:\\Users\\1\\AppData\\Local\\Temp\\ipykernel_15768\\616739852.py:21: UserWarning: Matplotlib is currently using module://matplotlib_inline.backend_inline, which is a non-GUI backend, so cannot show the figure.\n",
      "  fig.show();\n"
     ]
    },
    {
     "data": {
      "image/png": "[encoded data removed]",
      "text/plain": [
       "<Figure size 1400x600 with 2 Axes>"
      ]
     },
     "metadata": {},
     "output_type": "display_data"
    }
   ],
   "source": [
    "fig, axes = plt.subplots(1, 2, figsize=(14,6))\n",
    "fig.suptitle('Реагенты для флотации')\n",
    "# Сульфат:\n",
    "cols_to_display = [col for col in df_test if ('rougher' in col) and ('sulfate' in col)]\n",
    "for col in cols_to_display:\n",
    "    df_train[col].hist(ax=axes[0], bins=50, alpha=.5, density=True, legend=True)\n",
    "    df_test[col].hist(ax=axes[0], bins=50, alpha=.5, density=True, histtype='step', legend=True)\n",
    "axes[0].set_title('Сульфат')\n",
    "axes[0].set_xlabel('Значение')\n",
    "axes[0].set_ylabel('Плотность')\n",
    "axes[0].legend(['Уст. 10 (обуч.)', 'Уст. 10 (тест.)', 'Уст. 11 (обуч.)', 'Уст. 11 (тест.)'])\n",
    "# Ксантогенат:\n",
    "cols_to_display = [col for col in df_test if ('rougher' in col) and ('xanthate' in col)]\n",
    "for col in cols_to_display:\n",
    "    df_train[col].hist(ax=axes[1], bins=50, alpha=.5, density=True, legend=True)\n",
    "    df_test[col].hist(ax=axes[1], bins=50, alpha=.5, density=True, histtype='step', legend=True)\n",
    "axes[1].set_title('Ксантогенат')\n",
    "axes[1].set_xlabel('Значение')\n",
    "axes[1].set_ylabel('Плотность')\n",
    "axes[1].legend(['Уст. 10 (обуч.)', 'Уст. 10 (тест.)', 'Уст. 11 (обуч.)', 'Уст. 11 (тест.)'])\n",
    "fig.show();"
   ]
  },
  {
   "cell_type": "markdown",
   "metadata": {},
   "source": [
    "Распределения для двух установок в рамках одного датасета похожи; однако распределения на обучающих и тестовых данных несколько смещены относительно друг друга. Присутствуют всплески на околонулевых значениях. "
   ]
  },
  {
   "cell_type": "code",
   "execution_count": 18,
   "metadata": {},
   "outputs": [
    {
     "name": "stderr",
     "output_type": "stream",
     "text": [
      "C:\\Users\\1\\AppData\\Local\\Temp\\ipykernel_15768\\1781478870.py:19: UserWarning: Matplotlib is currently using module://matplotlib_inline.backend_inline, which is a non-GUI backend, so cannot show the figure.\n",
      "  fig.show()\n"
     ]
    },
    {
     "data": {
      "image/png": "[encoded data removed]",
      "text/plain": [
       "<Figure size 1500x500 with 3 Axes>"
      ]
     },
     "metadata": {},
     "output_type": "display_data"
    }
   ],
   "source": [
    "fig, axes = plt.subplots(1, 3, figsize=(15, 5))\n",
    "fig.suptitle('Реагенты для очистки')\n",
    "# Сульфат:\n",
    "df_train['primary_cleaner.input.sulfate'].hist(ax=axes[0], bins=50, density=True, alpha=0.5)\n",
    "df_test['primary_cleaner.input.sulfate'].hist(ax=axes[0], bins=50,density=True, alpha=0.5)\n",
    "axes[0].set_ylabel('Плотность')\n",
    "axes[0].set_title('Сульфат')\n",
    "axes[0].legend(['Обучающий датасет', 'Тестовый датасет'])\n",
    "# Кстантогенат:\n",
    "df_train['primary_cleaner.input.xanthate'].hist(ax=axes[1], bins=50, density=True, alpha=0.5)\n",
    "df_test['primary_cleaner.input.xanthate'].hist(ax=axes[1], bins=50,density=True, alpha=0.5)\n",
    "axes[1].set_title('Кстантогенат')\n",
    "axes[1].legend(['Обучающий датасет', 'Тестовый датасет'])\n",
    "\n",
    "df_train['primary_cleaner.input.depressant'].hist(ax=axes[2], bins=50, density=True, alpha=0.5)\n",
    "df_test['primary_cleaner.input.depressant'].hist(ax=axes[2], bins=50,density=True, alpha=0.5)\n",
    "axes[2].set_title('Депрессант')\n",
    "axes[2].legend(['Обучающий датасет', 'Тестовый датасет'])\n",
    "fig.show()"
   ]
  },
  {
   "cell_type": "markdown",
   "metadata": {},
   "source": [
    "Рспределения для сульфата и ксантогената, как и в случае с этапом флотации, несколько смещены друг относительно друга на обучающих и тестовых данных. Для депрессаната это смещение отсутствует.\n",
    "\n",
    "### Вывод\n",
    "\n",
    "Были проанализированы распределения целевых показателей, а также ряда объясняющих признаков, в результате выявлены подозрительные значения для суммарной концентрации веществ в районе нулевых значений. Также было выявлено небольшое смещение в распределениях сульфата и ксантогената на обучающих и тестовых датасетах (для других рассмотренных признаков смещение отсутствует)."
   ]
  },
  {
   "cell_type": "markdown",
   "metadata": {},
   "source": [
    "## Исследование моделей\n",
    "\n",
    "### Подготовка выборок\n",
    "\n",
    "Как было отмечено ранее, в данных содержатся подозрительные значения (Суммарная концентрация всех веществ менее 10%). Рассмотрим их подробнее (на полном датасете):"
   ]
  },
  {
   "cell_type": "code",
   "execution_count": 19,
   "metadata": {},
   "outputs": [
    {
     "name": "stdout",
     "output_type": "stream",
     "text": [
      "Общее число подозрительных объектов составляет 758, или 3.90%.\n"
     ]
    },
    {
     "data": {
      "text/html": [
       "<div>\n",
       "<style scoped>\n",
       "    .dataframe tbody tr th:only-of-type {\n",
       "        vertical-align: middle;\n",
       "    }\n",
       "\n",
       "    .dataframe tbody tr th {\n",
       "        vertical-align: top;\n",
       "    }\n",
       "\n",
       "    .dataframe thead th {\n",
       "        text-align: right;\n",
       "    }\n",
       "</style>\n",
       "<table border=\"1\" class=\"dataframe\">\n",
       "  <thead>\n",
       "    <tr style=\"text-align: right;\">\n",
       "      <th></th>\n",
       "      <th>final.output.concentrate_ag</th>\n",
       "      <th>final.output.concentrate_pb</th>\n",
       "      <th>final.output.concentrate_sol</th>\n",
       "      <th>final.output.concentrate_au</th>\n",
       "      <th>final.output.recovery</th>\n",
       "      <th>final.output.tail_ag</th>\n",
       "      <th>final.output.tail_pb</th>\n",
       "      <th>final.output.tail_sol</th>\n",
       "      <th>final.output.tail_au</th>\n",
       "      <th>primary_cleaner.input.sulfate</th>\n",
       "      <th>...</th>\n",
       "      <th>secondary_cleaner.state.floatbank5_a_air</th>\n",
       "      <th>secondary_cleaner.state.floatbank5_a_level</th>\n",
       "      <th>secondary_cleaner.state.floatbank5_b_air</th>\n",
       "      <th>secondary_cleaner.state.floatbank5_b_level</th>\n",
       "      <th>secondary_cleaner.state.floatbank6_a_air</th>\n",
       "      <th>secondary_cleaner.state.floatbank6_a_level</th>\n",
       "      <th>final.output.concentrate_all</th>\n",
       "      <th>primary_cleaner.output.concentrate_all</th>\n",
       "      <th>rougher.output.concentrate_all</th>\n",
       "      <th>rougher.input.feed_all</th>\n",
       "    </tr>\n",
       "    <tr>\n",
       "      <th>date</th>\n",
       "      <th></th>\n",
       "      <th></th>\n",
       "      <th></th>\n",
       "      <th></th>\n",
       "      <th></th>\n",
       "      <th></th>\n",
       "      <th></th>\n",
       "      <th></th>\n",
       "      <th></th>\n",
       "      <th></th>\n",
       "      <th></th>\n",
       "      <th></th>\n",
       "      <th></th>\n",
       "      <th></th>\n",
       "      <th></th>\n",
       "      <th></th>\n",
       "      <th></th>\n",
       "      <th></th>\n",
       "      <th></th>\n",
       "      <th></th>\n",
       "      <th></th>\n",
       "    </tr>\n",
       "  </thead>\n",
       "  <tbody>\n",
       "    <tr>\n",
       "      <th>2016-01-15 19:00:00</th>\n",
       "      <td>5.658943</td>\n",
       "      <td>10.436002</td>\n",
       "      <td>5.942418</td>\n",
       "      <td>42.509402</td>\n",
       "      <td>70.348300</td>\n",
       "      <td>10.232392</td>\n",
       "      <td>1.174845</td>\n",
       "      <td>19.498566</td>\n",
       "      <td>2.272460</td>\n",
       "      <td>149.998260</td>\n",
       "      <td>...</td>\n",
       "      <td>10.032043</td>\n",
       "      <td>-499.128183</td>\n",
       "      <td>8.016140</td>\n",
       "      <td>-499.806844</td>\n",
       "      <td>13.949790</td>\n",
       "      <td>-600.140776</td>\n",
       "      <td>64.546766</td>\n",
       "      <td>0.000000</td>\n",
       "      <td>62.930764</td>\n",
       "      <td>56.005644</td>\n",
       "    </tr>\n",
       "    <tr>\n",
       "      <th>2016-01-15 21:00:00</th>\n",
       "      <td>5.935933</td>\n",
       "      <td>10.755414</td>\n",
       "      <td>6.590334</td>\n",
       "      <td>41.660254</td>\n",
       "      <td>70.170722</td>\n",
       "      <td>10.408560</td>\n",
       "      <td>1.368093</td>\n",
       "      <td>19.235532</td>\n",
       "      <td>2.428912</td>\n",
       "      <td>158.958484</td>\n",
       "      <td>...</td>\n",
       "      <td>10.016843</td>\n",
       "      <td>-501.493066</td>\n",
       "      <td>7.962699</td>\n",
       "      <td>-499.445532</td>\n",
       "      <td>14.004658</td>\n",
       "      <td>-600.347249</td>\n",
       "      <td>64.941935</td>\n",
       "      <td>7.488378</td>\n",
       "      <td>63.039013</td>\n",
       "      <td>57.481679</td>\n",
       "    </tr>\n",
       "    <tr>\n",
       "      <th>2016-01-15 22:00:00</th>\n",
       "      <td>6.118749</td>\n",
       "      <td>10.483007</td>\n",
       "      <td>6.546983</td>\n",
       "      <td>41.406172</td>\n",
       "      <td>69.823900</td>\n",
       "      <td>10.322077</td>\n",
       "      <td>1.270956</td>\n",
       "      <td>19.384247</td>\n",
       "      <td>2.245145</td>\n",
       "      <td>158.353434</td>\n",
       "      <td>...</td>\n",
       "      <td>9.985232</td>\n",
       "      <td>-499.796583</td>\n",
       "      <td>7.985524</td>\n",
       "      <td>-499.872153</td>\n",
       "      <td>13.973257</td>\n",
       "      <td>-600.054998</td>\n",
       "      <td>64.554911</td>\n",
       "      <td>0.000000</td>\n",
       "      <td>62.225893</td>\n",
       "      <td>56.038252</td>\n",
       "    </tr>\n",
       "    <tr>\n",
       "      <th>2016-01-16 06:00:00</th>\n",
       "      <td>5.322681</td>\n",
       "      <td>9.577672</td>\n",
       "      <td>4.805490</td>\n",
       "      <td>44.059908</td>\n",
       "      <td>69.193840</td>\n",
       "      <td>10.334312</td>\n",
       "      <td>1.406355</td>\n",
       "      <td>19.923319</td>\n",
       "      <td>2.239310</td>\n",
       "      <td>145.952867</td>\n",
       "      <td>...</td>\n",
       "      <td>9.969535</td>\n",
       "      <td>-499.350934</td>\n",
       "      <td>8.017975</td>\n",
       "      <td>-500.620850</td>\n",
       "      <td>11.999969</td>\n",
       "      <td>-600.315548</td>\n",
       "      <td>63.765751</td>\n",
       "      <td>0.000000</td>\n",
       "      <td>62.283147</td>\n",
       "      <td>57.764677</td>\n",
       "    </tr>\n",
       "    <tr>\n",
       "      <th>2016-01-16 21:00:00</th>\n",
       "      <td>4.566664</td>\n",
       "      <td>10.406178</td>\n",
       "      <td>4.588698</td>\n",
       "      <td>46.614456</td>\n",
       "      <td>68.403877</td>\n",
       "      <td>10.705777</td>\n",
       "      <td>1.509070</td>\n",
       "      <td>17.875134</td>\n",
       "      <td>2.509776</td>\n",
       "      <td>131.251366</td>\n",
       "      <td>...</td>\n",
       "      <td>10.052072</td>\n",
       "      <td>-500.797905</td>\n",
       "      <td>7.984500</td>\n",
       "      <td>-499.581046</td>\n",
       "      <td>11.982025</td>\n",
       "      <td>-599.161228</td>\n",
       "      <td>66.175996</td>\n",
       "      <td>74.992510</td>\n",
       "      <td>0.000000</td>\n",
       "      <td>58.602038</td>\n",
       "    </tr>\n",
       "    <tr>\n",
       "      <th>2016-01-16 22:00:00</th>\n",
       "      <td>4.577832</td>\n",
       "      <td>10.691605</td>\n",
       "      <td>5.274175</td>\n",
       "      <td>46.250638</td>\n",
       "      <td>70.675633</td>\n",
       "      <td>10.728531</td>\n",
       "      <td>1.641216</td>\n",
       "      <td>18.349339</td>\n",
       "      <td>2.540843</td>\n",
       "      <td>141.184039</td>\n",
       "      <td>...</td>\n",
       "      <td>9.953139</td>\n",
       "      <td>-500.330920</td>\n",
       "      <td>8.012074</td>\n",
       "      <td>-500.133530</td>\n",
       "      <td>11.975316</td>\n",
       "      <td>-598.839683</td>\n",
       "      <td>66.794250</td>\n",
       "      <td>75.187102</td>\n",
       "      <td>0.000000</td>\n",
       "      <td>59.921613</td>\n",
       "    </tr>\n",
       "    <tr>\n",
       "      <th>2016-01-16 23:00:00</th>\n",
       "      <td>4.591462</td>\n",
       "      <td>10.628846</td>\n",
       "      <td>5.688961</td>\n",
       "      <td>46.663335</td>\n",
       "      <td>55.088448</td>\n",
       "      <td>10.694584</td>\n",
       "      <td>1.671644</td>\n",
       "      <td>17.910312</td>\n",
       "      <td>2.686782</td>\n",
       "      <td>126.397495</td>\n",
       "      <td>...</td>\n",
       "      <td>9.981163</td>\n",
       "      <td>-502.869109</td>\n",
       "      <td>7.941184</td>\n",
       "      <td>-500.623610</td>\n",
       "      <td>12.018837</td>\n",
       "      <td>-600.916665</td>\n",
       "      <td>67.572604</td>\n",
       "      <td>75.513787</td>\n",
       "      <td>0.000000</td>\n",
       "      <td>57.269041</td>\n",
       "    </tr>\n",
       "    <tr>\n",
       "      <th>2016-01-17 00:00:00</th>\n",
       "      <td>5.296830</td>\n",
       "      <td>10.597469</td>\n",
       "      <td>5.688961</td>\n",
       "      <td>44.015642</td>\n",
       "      <td>41.962008</td>\n",
       "      <td>11.975654</td>\n",
       "      <td>1.846558</td>\n",
       "      <td>8.138408</td>\n",
       "      <td>2.889469</td>\n",
       "      <td>69.411904</td>\n",
       "      <td>...</td>\n",
       "      <td>9.989726</td>\n",
       "      <td>-499.607365</td>\n",
       "      <td>7.958252</td>\n",
       "      <td>-498.882560</td>\n",
       "      <td>11.967977</td>\n",
       "      <td>-599.440603</td>\n",
       "      <td>65.598903</td>\n",
       "      <td>75.491415</td>\n",
       "      <td>0.000000</td>\n",
       "      <td>25.352358</td>\n",
       "    </tr>\n",
       "    <tr>\n",
       "      <th>2016-01-17 02:00:00</th>\n",
       "      <td>8.162896</td>\n",
       "      <td>8.877528</td>\n",
       "      <td>5.688961</td>\n",
       "      <td>40.715973</td>\n",
       "      <td>49.884856</td>\n",
       "      <td>10.381465</td>\n",
       "      <td>1.024030</td>\n",
       "      <td>12.974257</td>\n",
       "      <td>2.739224</td>\n",
       "      <td>116.517762</td>\n",
       "      <td>...</td>\n",
       "      <td>9.941869</td>\n",
       "      <td>-503.282068</td>\n",
       "      <td>8.018850</td>\n",
       "      <td>-500.970716</td>\n",
       "      <td>11.991078</td>\n",
       "      <td>-598.475929</td>\n",
       "      <td>63.445359</td>\n",
       "      <td>71.837866</td>\n",
       "      <td>0.000000</td>\n",
       "      <td>40.721375</td>\n",
       "    </tr>\n",
       "    <tr>\n",
       "      <th>2016-01-17 03:00:00</th>\n",
       "      <td>5.759800</td>\n",
       "      <td>9.537415</td>\n",
       "      <td>3.997737</td>\n",
       "      <td>45.267942</td>\n",
       "      <td>68.638723</td>\n",
       "      <td>10.623064</td>\n",
       "      <td>1.217058</td>\n",
       "      <td>16.072705</td>\n",
       "      <td>2.471388</td>\n",
       "      <td>118.895031</td>\n",
       "      <td>...</td>\n",
       "      <td>10.016315</td>\n",
       "      <td>-497.644975</td>\n",
       "      <td>7.999080</td>\n",
       "      <td>-500.112143</td>\n",
       "      <td>12.043030</td>\n",
       "      <td>-599.630112</td>\n",
       "      <td>64.562895</td>\n",
       "      <td>72.743749</td>\n",
       "      <td>0.000000</td>\n",
       "      <td>55.655402</td>\n",
       "    </tr>\n",
       "  </tbody>\n",
       "</table>\n",
       "<p>10 rows × 90 columns</p>\n",
       "</div>"
      ],
      "text/plain": [
       "                     final.output.concentrate_ag  final.output.concentrate_pb  \\\n",
       "date                                                                            \n",
       "2016-01-15 19:00:00                     5.658943                    10.436002   \n",
       "2016-01-15 21:00:00                     5.935933                    10.755414   \n",
       "2016-01-15 22:00:00                     6.118749                    10.483007   \n",
       "2016-01-16 06:00:00                     5.322681                     9.577672   \n",
       "2016-01-16 21:00:00                     4.566664                    10.406178   \n",
       "2016-01-16 22:00:00                     4.577832                    10.691605   \n",
       "2016-01-16 23:00:00                     4.591462                    10.628846   \n",
       "2016-01-17 00:00:00                     5.296830                    10.597469   \n",
       "2016-01-17 02:00:00                     8.162896                     8.877528   \n",
       "2016-01-17 03:00:00                     5.759800                     9.537415   \n",
       "\n",
       "                     final.output.concentrate_sol  \\\n",
       "date                                                \n",
       "2016-01-15 19:00:00                      5.942418   \n",
       "2016-01-15 21:00:00                      6.590334   \n",
       "2016-01-15 22:00:00                      6.546983   \n",
       "2016-01-16 06:00:00                      4.805490   \n",
       "2016-01-16 21:00:00                      4.588698   \n",
       "2016-01-16 22:00:00                      5.274175   \n",
       "2016-01-16 23:00:00                      5.688961   \n",
       "2016-01-17 00:00:00                      5.688961   \n",
       "2016-01-17 02:00:00                      5.688961   \n",
       "2016-01-17 03:00:00                      3.997737   \n",
       "\n",
       "                     final.output.concentrate_au  final.output.recovery  \\\n",
       "date                                                                      \n",
       "2016-01-15 19:00:00                    42.509402              70.348300   \n",
       "2016-01-15 21:00:00                    41.660254              70.170722   \n",
       "2016-01-15 22:00:00                    41.406172              69.823900   \n",
       "2016-01-16 06:00:00                    44.059908              69.193840   \n",
       "2016-01-16 21:00:00                    46.614456              68.403877   \n",
       "2016-01-16 22:00:00                    46.250638              70.675633   \n",
       "2016-01-16 23:00:00                    46.663335              55.088448   \n",
       "2016-01-17 00:00:00                    44.015642              41.962008   \n",
       "2016-01-17 02:00:00                    40.715973              49.884856   \n",
       "2016-01-17 03:00:00                    45.267942              68.638723   \n",
       "\n",
       "                     final.output.tail_ag  final.output.tail_pb  \\\n",
       "date                                                              \n",
       "2016-01-15 19:00:00             10.232392              1.174845   \n",
       "2016-01-15 21:00:00             10.408560              1.368093   \n",
       "2016-01-15 22:00:00             10.322077              1.270956   \n",
       "2016-01-16 06:00:00             10.334312              1.406355   \n",
       "2016-01-16 21:00:00             10.705777              1.509070   \n",
       "2016-01-16 22:00:00             10.728531              1.641216   \n",
       "2016-01-16 23:00:00             10.694584              1.671644   \n",
       "2016-01-17 00:00:00             11.975654              1.846558   \n",
       "2016-01-17 02:00:00             10.381465              1.024030   \n",
       "2016-01-17 03:00:00             10.623064              1.217058   \n",
       "\n",
       "                     final.output.tail_sol  final.output.tail_au  \\\n",
       "date                                                               \n",
       "2016-01-15 19:00:00              19.498566              2.272460   \n",
       "2016-01-15 21:00:00              19.235532              2.428912   \n",
       "2016-01-15 22:00:00              19.384247              2.245145   \n",
       "2016-01-16 06:00:00              19.923319              2.239310   \n",
       "2016-01-16 21:00:00              17.875134              2.509776   \n",
       "2016-01-16 22:00:00              18.349339              2.540843   \n",
       "2016-01-16 23:00:00              17.910312              2.686782   \n",
       "2016-01-17 00:00:00               8.138408              2.889469   \n",
       "2016-01-17 02:00:00              12.974257              2.739224   \n",
       "2016-01-17 03:00:00              16.072705              2.471388   \n",
       "\n",
       "                     primary_cleaner.input.sulfate  ...  \\\n",
       "date                                                ...   \n",
       "2016-01-15 19:00:00                     149.998260  ...   \n",
       "2016-01-15 21:00:00                     158.958484  ...   \n",
       "2016-01-15 22:00:00                     158.353434  ...   \n",
       "2016-01-16 06:00:00                     145.952867  ...   \n",
       "2016-01-16 21:00:00                     131.251366  ...   \n",
       "2016-01-16 22:00:00                     141.184039  ...   \n",
       "2016-01-16 23:00:00                     126.397495  ...   \n",
       "2016-01-17 00:00:00                      69.411904  ...   \n",
       "2016-01-17 02:00:00                     116.517762  ...   \n",
       "2016-01-17 03:00:00                     118.895031  ...   \n",
       "\n",
       "                     secondary_cleaner.state.floatbank5_a_air  \\\n",
       "date                                                            \n",
       "2016-01-15 19:00:00                                 10.032043   \n",
       "2016-01-15 21:00:00                                 10.016843   \n",
       "2016-01-15 22:00:00                                  9.985232   \n",
       "2016-01-16 06:00:00                                  9.969535   \n",
       "2016-01-16 21:00:00                                 10.052072   \n",
       "2016-01-16 22:00:00                                  9.953139   \n",
       "2016-01-16 23:00:00                                  9.981163   \n",
       "2016-01-17 00:00:00                                  9.989726   \n",
       "2016-01-17 02:00:00                                  9.941869   \n",
       "2016-01-17 03:00:00                                 10.016315   \n",
       "\n",
       "                     secondary_cleaner.state.floatbank5_a_level  \\\n",
       "date                                                              \n",
       "2016-01-15 19:00:00                                 -499.128183   \n",
       "2016-01-15 21:00:00                                 -501.493066   \n",
       "2016-01-15 22:00:00                                 -499.796583   \n",
       "2016-01-16 06:00:00                                 -499.350934   \n",
       "2016-01-16 21:00:00                                 -500.797905   \n",
       "2016-01-16 22:00:00                                 -500.330920   \n",
       "2016-01-16 23:00:00                                 -502.869109   \n",
       "2016-01-17 00:00:00                                 -499.607365   \n",
       "2016-01-17 02:00:00                                 -503.282068   \n",
       "2016-01-17 03:00:00                                 -497.644975   \n",
       "\n",
       "                     secondary_cleaner.state.floatbank5_b_air  \\\n",
       "date                                                            \n",
       "2016-01-15 19:00:00                                  8.016140   \n",
       "2016-01-15 21:00:00                                  7.962699   \n",
       "2016-01-15 22:00:00                                  7.985524   \n",
       "2016-01-16 06:00:00                                  8.017975   \n",
       "2016-01-16 21:00:00                                  7.984500   \n",
       "2016-01-16 22:00:00                                  8.012074   \n",
       "2016-01-16 23:00:00                                  7.941184   \n",
       "2016-01-17 00:00:00                                  7.958252   \n",
       "2016-01-17 02:00:00                                  8.018850   \n",
       "2016-01-17 03:00:00                                  7.999080   \n",
       "\n",
       "                     secondary_cleaner.state.floatbank5_b_level  \\\n",
       "date                                                              \n",
       "2016-01-15 19:00:00                                 -499.806844   \n",
       "2016-01-15 21:00:00                                 -499.445532   \n",
       "2016-01-15 22:00:00                                 -499.872153   \n",
       "2016-01-16 06:00:00                                 -500.620850   \n",
       "2016-01-16 21:00:00                                 -499.581046   \n",
       "2016-01-16 22:00:00                                 -500.133530   \n",
       "2016-01-16 23:00:00                                 -500.623610   \n",
       "2016-01-17 00:00:00                                 -498.882560   \n",
       "2016-01-17 02:00:00                                 -500.970716   \n",
       "2016-01-17 03:00:00                                 -500.112143   \n",
       "\n",
       "                     secondary_cleaner.state.floatbank6_a_air  \\\n",
       "date                                                            \n",
       "2016-01-15 19:00:00                                 13.949790   \n",
       "2016-01-15 21:00:00                                 14.004658   \n",
       "2016-01-15 22:00:00                                 13.973257   \n",
       "2016-01-16 06:00:00                                 11.999969   \n",
       "2016-01-16 21:00:00                                 11.982025   \n",
       "2016-01-16 22:00:00                                 11.975316   \n",
       "2016-01-16 23:00:00                                 12.018837   \n",
       "2016-01-17 00:00:00                                 11.967977   \n",
       "2016-01-17 02:00:00                                 11.991078   \n",
       "2016-01-17 03:00:00                                 12.043030   \n",
       "\n",
       "                     secondary_cleaner.state.floatbank6_a_level  \\\n",
       "date                                                              \n",
       "2016-01-15 19:00:00                                 -600.140776   \n",
       "2016-01-15 21:00:00                                 -600.347249   \n",
       "2016-01-15 22:00:00                                 -600.054998   \n",
       "2016-01-16 06:00:00                                 -600.315548   \n",
       "2016-01-16 21:00:00                                 -599.161228   \n",
       "2016-01-16 22:00:00                                 -598.839683   \n",
       "2016-01-16 23:00:00                                 -600.916665   \n",
       "2016-01-17 00:00:00                                 -599.440603   \n",
       "2016-01-17 02:00:00                                 -598.475929   \n",
       "2016-01-17 03:00:00                                 -599.630112   \n",
       "\n",
       "                     final.output.concentrate_all  \\\n",
       "date                                                \n",
       "2016-01-15 19:00:00                     64.546766   \n",
       "2016-01-15 21:00:00                     64.941935   \n",
       "2016-01-15 22:00:00                     64.554911   \n",
       "2016-01-16 06:00:00                     63.765751   \n",
       "2016-01-16 21:00:00                     66.175996   \n",
       "2016-01-16 22:00:00                     66.794250   \n",
       "2016-01-16 23:00:00                     67.572604   \n",
       "2016-01-17 00:00:00                     65.598903   \n",
       "2016-01-17 02:00:00                     63.445359   \n",
       "2016-01-17 03:00:00                     64.562895   \n",
       "\n",
       "                     primary_cleaner.output.concentrate_all  \\\n",
       "date                                                          \n",
       "2016-01-15 19:00:00                                0.000000   \n",
       "2016-01-15 21:00:00                                7.488378   \n",
       "2016-01-15 22:00:00                                0.000000   \n",
       "2016-01-16 06:00:00                                0.000000   \n",
       "2016-01-16 21:00:00                               74.992510   \n",
       "2016-01-16 22:00:00                               75.187102   \n",
       "2016-01-16 23:00:00                               75.513787   \n",
       "2016-01-17 00:00:00                               75.491415   \n",
       "2016-01-17 02:00:00                               71.837866   \n",
       "2016-01-17 03:00:00                               72.743749   \n",
       "\n",
       "                     rougher.output.concentrate_all  rougher.input.feed_all  \n",
       "date                                                                         \n",
       "2016-01-15 19:00:00                       62.930764               56.005644  \n",
       "2016-01-15 21:00:00                       63.039013               57.481679  \n",
       "2016-01-15 22:00:00                       62.225893               56.038252  \n",
       "2016-01-16 06:00:00                       62.283147               57.764677  \n",
       "2016-01-16 21:00:00                        0.000000               58.602038  \n",
       "2016-01-16 22:00:00                        0.000000               59.921613  \n",
       "2016-01-16 23:00:00                        0.000000               57.269041  \n",
       "2016-01-17 00:00:00                        0.000000               25.352358  \n",
       "2016-01-17 02:00:00                        0.000000               40.721375  \n",
       "2016-01-17 03:00:00                        0.000000               55.655402  \n",
       "\n",
       "[10 rows x 90 columns]"
      ]
     },
     "metadata": {},
     "output_type": "display_data"
    }
   ],
   "source": [
    "filter_cols = ((df_full['rougher.input.feed_all'] < 10) |\n",
    "              (df_full['rougher.output.concentrate_all'] < 10) |\n",
    "              (df_full['primary_cleaner.output.concentrate_all'] < 10) |\n",
    "              (df_full['final.output.concentrate_all'] < 10))\n",
    "print('Общее число подозрительных объектов составляет {0}, или {1:.2%}.'.\n",
    "      format(len(df_full[filter_cols]), len(df_full[filter_cols])/len(df_full)))\n",
    "display(df_full[filter_cols].head(10))"
   ]
  },
  {
   "cell_type": "markdown",
   "metadata": {},
   "source": [
    "Аномалии составляют ок. 4% от размера общего датасета. Удалим их из всех датасетов:"
   ]
  },
  {
   "cell_type": "code",
   "execution_count": 20,
   "metadata": {},
   "outputs": [],
   "source": [
    "# Находим индексы на удаление:\n",
    "to_delete_full = df_full[filter_cols].index                                # индексы из полного датасета\n",
    "to_delete_train = [ind for ind in df_train.index if ind in to_delete_full] # выбираем те, что есть в обучающем датасете...\n",
    "to_delete_test = [ind for ind in df_test.index if ind in to_delete_full]   #... и в тестовом\n",
    "# Удаляем данные из всех датасетов:\n",
    "df_train = df_train.drop(index = to_delete_train)\n",
    "df_test = df_test.drop(index = to_delete_test)\n",
    "df_full = df_full.drop(index = to_delete_full)"
   ]
  },
  {
   "cell_type": "markdown",
   "metadata": {},
   "source": [
    "Теперь выделим целевые и объясняющие признаки из обоих датасетов:"
   ]
  },
  {
   "cell_type": "code",
   "execution_count": 21,
   "metadata": {},
   "outputs": [
    {
     "name": "stdout",
     "output_type": "stream",
     "text": [
      "Порядок целевых признаков: ['final.output.recovery', 'rougher.output.recovery']\n"
     ]
    }
   ],
   "source": [
    "features_cols = df_test.columns                             # в тестовом датасете собраны только объясняющие признаки\n",
    "target_cols = [col for col in df_full if 'recovery' in col] # целевые признаки - два коэффициента восстановления\n",
    "print('Порядок целевых признаков:', target_cols)\n",
    "# Собираем выборки:\n",
    "features_train = df_train[features_cols]\n",
    "target_train = df_train[target_cols]\n",
    "features_test = df_test.copy()\n",
    "target_test = df_full.loc[df_test.index, target_cols]      # выбираем целевые признаки из полного датасета по индексам тестового"
   ]
  },
  {
   "cell_type": "markdown",
   "metadata": {},
   "source": [
    "Порядок целевых признаков важен для дальнейшего расчета метрики качества модели. "
   ]
  },
  {
   "cell_type": "markdown",
   "metadata": {},
   "source": [
    "### Определение метрики качества\n",
    "\n",
    "Качество модели будет оцениваться метрикой sMAPE - симметричное среднее абсолютное процентное отклонение. Поскольку целевых признаков два, финальная метрика является взвешенной для финалького коэффициента (75%) и коэффициента после флотации (25%).\n",
    "\n",
    "$$ sMAPE = \\frac{1}{N}\\sum_{i=1}^{N}\\frac{|y_i - \\hat{y}_i|}{(|y_i| + |\\hat{y}_i|) / 2} \\times 100\\% $$"
   ]
  },
  {
   "cell_type": "code",
   "execution_count": 22,
   "metadata": {},
   "outputs": [],
   "source": [
    "def smape_calc(y_true, y_pred):\n",
    "    y_true = pd.DataFrame(y_true).reset_index(drop=True)\n",
    "    y_pred = pd.DataFrame(y_pred).reset_index(drop=True)\n",
    "    scores = []\n",
    "    for i in range(0,2):\n",
    "        numerator = abs(y_true.iloc[:,i] - y_pred.iloc[:,i])\n",
    "        denominator = (abs(y_true.iloc[:,i]) + abs(y_pred.iloc[:,i])) / 2\n",
    "        calc = (numerator / denominator) * 100\n",
    "        scores.append(calc.mean())\n",
    "    return scores[0]*0.75 + scores[1]*0.25 # первым в выборках объявлен полный коэффициент, вторым - после флотации\n",
    "\n",
    "smape_scorer = make_scorer(smape_calc, greater_is_better=False) # меняет знак в оценке"
   ]
  },
  {
   "cell_type": "markdown",
   "metadata": {},
   "source": [
    "### Обучение и валидация моделей\n",
    "\n",
    "Обучим три типа моделей (дерево решений, случайный лес и линейная регрессия). Для дерева решений и случайного леса подберем оптимальные гиперпараметры."
   ]
  },
  {
   "cell_type": "code",
   "execution_count": 23,
   "metadata": {},
   "outputs": [],
   "source": [
    "state = RandomState(1104)"
   ]
  },
  {
   "cell_type": "markdown",
   "metadata": {},
   "source": [
    "**Дерево решений**"
   ]
  },
  {
   "cell_type": "code",
   "execution_count": 24,
   "metadata": {},
   "outputs": [
    {
     "name": "stdout",
     "output_type": "stream",
     "text": [
      "Наилучшая метрика для дерева решений: 9.034.\n",
      "CPU times: total: 52.4 s\n",
      "Wall time: 52.4 s\n"
     ]
    }
   ],
   "source": [
    "%%time\n",
    "\n",
    "params_tree = {'max_depth': range(1, 11), # исследуемые гиперпараметры для дерева решений\n",
    "              'min_samples_leaf': [1, 10, 20, 30]}\n",
    "\n",
    "# Подбираем параметры для наилучшего значения метрики:\n",
    "grid = GridSearchCV(estimator = DecisionTreeRegressor(random_state=state),\n",
    "                    param_grid = params_tree,\n",
    "                    scoring = smape_scorer,\n",
    "                    refit=True)\n",
    "grid.fit(features_train, target_train)\n",
    "\n",
    "model_tree = grid.best_estimator_\n",
    "smape_tree = abs(grid.best_score_) # знаки были инвертированы при валидации\n",
    "print(f'Наилучшая метрика для дерева решений: {smape_tree:.3f}.')"
   ]
  },
  {
   "cell_type": "markdown",
   "metadata": {},
   "source": [
    "**Случайный лес**"
   ]
  },
  {
   "cell_type": "code",
   "execution_count": 25,
   "metadata": {},
   "outputs": [
    {
     "name": "stdout",
     "output_type": "stream",
     "text": [
      "Наилучшая метрика для случайного леса: 9.284.\n",
      "CPU times: total: 8min 6s\n",
      "Wall time: 8min 6s\n"
     ]
    }
   ],
   "source": [
    "%%time\n",
    "\n",
    "params_forest = {'max_depth': range(1, 11),\n",
    "                'max_features': [None, 'sqrt', 'log2']}\n",
    "# Подбираем параметры для наилучшего значения метрики:\n",
    "grid = GridSearchCV(estimator = RandomForestRegressor(random_state=state),\n",
    "                    param_grid = params_forest,\n",
    "                    scoring = smape_scorer,\n",
    "                    refit=True, \n",
    "                    cv=3  # для ускорения работы\n",
    "                    )\n",
    "grid.fit(features_train, target_train)\n",
    "\n",
    "model_forest = grid.best_estimator_\n",
    "smape_forest = abs(grid.best_score_) # знаки были инвертированы при валидации\n",
    "print(f'Наилучшая метрика для случайного леса: {smape_forest:.3f}.')"
   ]
  },
  {
   "cell_type": "markdown",
   "metadata": {},
   "source": [
    "**Линейная регрессия**"
   ]
  },
  {
   "cell_type": "code",
   "execution_count": 26,
   "metadata": {},
   "outputs": [
    {
     "name": "stdout",
     "output_type": "stream",
     "text": [
      "Метрика для линейной регрессии: 10.118.\n"
     ]
    }
   ],
   "source": [
    "model_reg = LinearRegression()\n",
    "values = cross_val_score(model_reg, features_train, target_train, scoring = smape_scorer)\n",
    "smape_reg = abs(values.mean())\n",
    "print(f'Метрика для линейной регрессии: {smape_reg:.3f}.')"
   ]
  },
  {
   "cell_type": "markdown",
   "metadata": {},
   "source": [
    "### Проверка на адекватность\n",
    "\n",
    "Наилучший результат среди исследованных моделей показала модель дерева решений. Проверим модель на адекватность, сравнив с константной моделью (медианное значение)."
   ]
  },
  {
   "cell_type": "code",
   "execution_count": 27,
   "metadata": {},
   "outputs": [
    {
     "name": "stdout",
     "output_type": "stream",
     "text": [
      "Метрика для константной модели: 9.629.\n"
     ]
    }
   ],
   "source": [
    "model_median = DummyRegressor(strategy='median')\n",
    "model_median.fit(features_train, target_train)\n",
    "values = cross_val_score(model_median, features_train, target_train, scoring = smape_scorer)\n",
    "smape_median = abs(values.mean())\n",
    "print(f'Метрика для константной модели: {smape_median:.3f}.')"
   ]
  },
  {
   "cell_type": "markdown",
   "metadata": {},
   "source": [
    "Модель дерева решений показала результат, превосходящий константную модель.\n",
    "\n",
    "### Проверка на тестовой выборке\n",
    "\n",
    "Протестируем выбранную модель дерева решений на тестовой выборке:"
   ]
  },
  {
   "cell_type": "code",
   "execution_count": 28,
   "metadata": {},
   "outputs": [
    {
     "name": "stdout",
     "output_type": "stream",
     "text": [
      "Результат на тестовой выборке: 8.215152905518867\n"
     ]
    }
   ],
   "source": [
    "prediction_test = model_tree.predict(features_test)\n",
    "smape_test = smape_calc(target_test, prediction_test)\n",
    "print('Результат на тестовой выборке:', smape_test)"
   ]
  },
  {
   "cell_type": "markdown",
   "metadata": {},
   "source": [
    "Результат на тестовой выборке оказался лучше, чем на валидации.\n",
    "\n",
    "### Вывод\n",
    "\n",
    "При подготовке обучающей и тестовой выборок были удалены аномальные значения для суммарной концентрации веществ (значения около 0).\n",
    "\n",
    "Затем были обучены три типа моделей: линейная регрессия, дерево решений и случайный лес. Критерием для выбора оптимальной модели стала минимизация симметричного среднего абсолютного процентного отклонения. Наилучший результат показала модель дерева решений с глубиной 4 и минимальным числом объектов в листе 30. Однако качество модели не сильно превосходит качество константной модели (медиана)."
   ]
  },
  {
   "cell_type": "markdown",
   "metadata": {},
   "source": [
    "## Общий вывод\n",
    "\n",
    "Цель проекта состояла в создании прототипа модели, позволяющей прогнозировать коэффициент восстановления золота из руды при флотации и очистке. Критерием качества для модели является метрика sMAPE, метод расчета которой зафиксирован в техническом задании.\n",
    "\n",
    "Первым этапом реализации задачи стал анализ исходных данных. Были предоставлены три датасета: общий, содержащий всю имеющуюся информацию, а также обучающий и тестовый датасеты. Всего исходные данные насчитвают от 19 тыс. объектов, размеры обучающей и тестовой выборок соотносятся как 73% к 27%. В тестовых данных отсутствовали целевые показатели (доли веществ в концентратах и отвалах по переделам), а также расчетные характеристики (вторичная информация). Кроме того, во всех трех датасетах имелись единичные пропуски, которые были устранеы.\n",
    "\n",
    "Затем была изучена структура основных показателей. В данных были выявлены аномальные околонулевые значения для концентрации веществ (ок. 4% от общего датасета), которые были удалены для устойчивости прогнозов. Кроме того, распределения объясняющих признаков были проверены на соответствие в обучающих и тестовых выборках.\n",
    "\n",
    "В процессе изучения данных возник ряд вопросов, касающихся технологической стороны процесса ([см. здесь](#c2)).\n",
    "\n",
    "Для исследования были предложены три типа моделей: дерево решений, случайный лес и линейная регрессия. Для первых двух типов проводился подбор гиперпараметров. В результате кросс-валидации наилучший результат показала модель дерева решений с глубиной 4 и минимальным числом объектов в листе 30 - значение sMAPE составило ок. 9,0% против 9,3% для случайного леса и 10,1% для линейной регрессии. Однако показатель лучшей модели оказался лишь немного ниже, чем для константной модели (9,6%). Модель прошла проверку на тестовой выборке. \n",
    "\n",
    "Возможно, модель можно еще улучшить за счет изменения состава объясняющий признаков при более глубоком анализе технологического процесса, и, соответсвенно, исключения линейно-зависимых или просто избыточных данных из модели."
   ]
  }
 ],
 "metadata": {
  "ExecuteTimeLog": [
   {
    "duration": 668,
    "start_time": "2022-10-03T07:55:05.560Z"
   },
   {
    "duration": 118,
    "start_time": "2022-10-03T07:56:32.042Z"
   },
   {
    "duration": 106,
    "start_time": "2022-10-03T07:56:47.201Z"
   },
   {
    "duration": 37,
    "start_time": "2022-10-03T07:56:52.242Z"
   },
   {
    "duration": 818,
    "start_time": "2022-10-03T07:57:09.145Z"
   },
   {
    "duration": 700,
    "start_time": "2022-10-03T11:07:49.263Z"
   },
   {
    "duration": 402,
    "start_time": "2022-10-03T11:16:44.047Z"
   },
   {
    "duration": 355,
    "start_time": "2022-10-03T11:17:01.993Z"
   },
   {
    "duration": 373,
    "start_time": "2022-10-03T11:17:23.281Z"
   },
   {
    "duration": 12,
    "start_time": "2022-10-03T11:20:28.515Z"
   },
   {
    "duration": 12,
    "start_time": "2022-10-03T11:21:02.341Z"
   },
   {
    "duration": 15,
    "start_time": "2022-10-03T11:23:47.216Z"
   },
   {
    "duration": 19,
    "start_time": "2022-10-03T11:29:38.398Z"
   },
   {
    "duration": 31,
    "start_time": "2022-10-03T11:29:55.779Z"
   },
   {
    "duration": 1149,
    "start_time": "2022-10-03T11:31:03.120Z"
   },
   {
    "duration": 55,
    "start_time": "2022-10-03T11:34:18.018Z"
   },
   {
    "duration": 24,
    "start_time": "2022-10-03T11:35:23.187Z"
   },
   {
    "duration": 13,
    "start_time": "2022-10-03T11:35:49.035Z"
   },
   {
    "duration": 12,
    "start_time": "2022-10-03T11:57:21.496Z"
   },
   {
    "duration": 6,
    "start_time": "2022-10-03T12:01:44.124Z"
   },
   {
    "duration": 15,
    "start_time": "2022-10-03T12:02:00.436Z"
   },
   {
    "duration": 21,
    "start_time": "2022-10-03T12:02:27.237Z"
   },
   {
    "duration": 15,
    "start_time": "2022-10-03T12:04:32.208Z"
   },
   {
    "duration": 25,
    "start_time": "2022-10-03T12:08:31.507Z"
   },
   {
    "duration": 15,
    "start_time": "2022-10-03T12:08:36.899Z"
   },
   {
    "duration": 16,
    "start_time": "2022-10-03T12:09:06.787Z"
   },
   {
    "duration": 12,
    "start_time": "2022-10-03T12:10:34.717Z"
   },
   {
    "duration": 16,
    "start_time": "2022-10-03T12:10:45.086Z"
   },
   {
    "duration": 31,
    "start_time": "2022-10-03T12:11:00.966Z"
   },
   {
    "duration": 33,
    "start_time": "2022-10-03T12:11:11.750Z"
   },
   {
    "duration": 35,
    "start_time": "2022-10-03T12:11:38.478Z"
   },
   {
    "duration": 1222,
    "start_time": "2022-10-03T12:12:10.329Z"
   },
   {
    "duration": 12,
    "start_time": "2022-10-03T12:13:42.745Z"
   },
   {
    "duration": 24,
    "start_time": "2022-10-03T12:15:03.537Z"
   },
   {
    "duration": 27,
    "start_time": "2022-10-03T12:15:19.147Z"
   },
   {
    "duration": 11,
    "start_time": "2022-10-03T12:15:53.099Z"
   },
   {
    "duration": 12,
    "start_time": "2022-10-03T12:16:11.227Z"
   },
   {
    "duration": 13,
    "start_time": "2022-10-03T12:17:17.836Z"
   },
   {
    "duration": 23,
    "start_time": "2022-10-03T12:21:46.665Z"
   },
   {
    "duration": 26,
    "start_time": "2022-10-03T12:22:51.201Z"
   },
   {
    "duration": 23,
    "start_time": "2022-10-03T12:24:09.794Z"
   },
   {
    "duration": 26,
    "start_time": "2022-10-03T12:26:09.054Z"
   },
   {
    "duration": 26,
    "start_time": "2022-10-03T12:26:48.709Z"
   },
   {
    "duration": 23,
    "start_time": "2022-10-03T12:28:17.960Z"
   },
   {
    "duration": 23,
    "start_time": "2022-10-03T12:30:53.570Z"
   },
   {
    "duration": 21,
    "start_time": "2022-10-03T12:39:42.738Z"
   },
   {
    "duration": 387,
    "start_time": "2022-10-04T10:17:49.099Z"
   },
   {
    "duration": 372,
    "start_time": "2022-10-04T10:18:17.395Z"
   },
   {
    "duration": 360,
    "start_time": "2022-10-04T10:18:39.888Z"
   },
   {
    "duration": 387,
    "start_time": "2022-10-04T10:19:27.491Z"
   },
   {
    "duration": 407,
    "start_time": "2022-10-04T10:19:39.251Z"
   },
   {
    "duration": 2067,
    "start_time": "2022-10-04T10:20:50.645Z"
   },
   {
    "duration": 621,
    "start_time": "2022-10-04T10:25:16.562Z"
   },
   {
    "duration": 595,
    "start_time": "2022-10-04T10:39:57.090Z"
   },
   {
    "duration": 21,
    "start_time": "2022-10-04T10:52:12.083Z"
   },
   {
    "duration": 17,
    "start_time": "2022-10-04T10:57:32.537Z"
   },
   {
    "duration": 14,
    "start_time": "2022-10-04T10:57:51.266Z"
   },
   {
    "duration": 7,
    "start_time": "2022-10-04T10:59:46.692Z"
   },
   {
    "duration": 585,
    "start_time": "2022-10-04T10:59:56.810Z"
   },
   {
    "duration": 14,
    "start_time": "2022-10-04T11:00:00.171Z"
   },
   {
    "duration": 596,
    "start_time": "2022-10-04T11:00:17.788Z"
   },
   {
    "duration": 15,
    "start_time": "2022-10-04T11:02:46.861Z"
   },
   {
    "duration": 22,
    "start_time": "2022-10-04T11:15:49.480Z"
   },
   {
    "duration": 17,
    "start_time": "2022-10-04T11:18:33.581Z"
   },
   {
    "duration": 16,
    "start_time": "2022-10-04T11:23:51.962Z"
   },
   {
    "duration": 16,
    "start_time": "2022-10-04T11:27:19.710Z"
   },
   {
    "duration": 10,
    "start_time": "2022-10-04T11:52:06.395Z"
   },
   {
    "duration": 11,
    "start_time": "2022-10-04T11:53:17.246Z"
   },
   {
    "duration": 19,
    "start_time": "2022-10-04T11:54:04.984Z"
   },
   {
    "duration": 14,
    "start_time": "2022-10-04T11:54:15.132Z"
   },
   {
    "duration": 8,
    "start_time": "2022-10-04T12:06:12.785Z"
   },
   {
    "duration": 8,
    "start_time": "2022-10-04T12:06:36.523Z"
   },
   {
    "duration": 10,
    "start_time": "2022-10-04T12:21:02.417Z"
   },
   {
    "duration": 12,
    "start_time": "2022-10-04T12:27:02.880Z"
   },
   {
    "duration": 5,
    "start_time": "2022-10-04T12:30:24.762Z"
   },
   {
    "duration": 4,
    "start_time": "2022-10-04T12:30:40.683Z"
   },
   {
    "duration": 13,
    "start_time": "2022-10-04T12:41:09.926Z"
   },
   {
    "duration": 15,
    "start_time": "2022-10-04T12:41:34.822Z"
   },
   {
    "duration": 9,
    "start_time": "2022-10-04T12:45:38.706Z"
   },
   {
    "duration": 10,
    "start_time": "2022-10-04T12:45:56.233Z"
   },
   {
    "duration": 4,
    "start_time": "2022-10-04T12:49:54.925Z"
   },
   {
    "duration": 19,
    "start_time": "2022-10-04T12:50:21.798Z"
   },
   {
    "duration": 4,
    "start_time": "2022-10-04T12:51:52.535Z"
   },
   {
    "duration": 4,
    "start_time": "2022-10-04T12:53:02.312Z"
   },
   {
    "duration": 13,
    "start_time": "2022-10-04T12:53:56.841Z"
   },
   {
    "duration": 9,
    "start_time": "2022-10-04T12:54:30.345Z"
   },
   {
    "duration": 5,
    "start_time": "2022-10-04T12:54:51.042Z"
   },
   {
    "duration": 9,
    "start_time": "2022-10-04T12:58:55.358Z"
   },
   {
    "duration": 5,
    "start_time": "2022-10-04T12:59:32.934Z"
   },
   {
    "duration": 92,
    "start_time": "2022-10-04T12:59:52.507Z"
   },
   {
    "duration": 5,
    "start_time": "2022-10-04T13:00:07.127Z"
   },
   {
    "duration": 5,
    "start_time": "2022-10-04T13:01:46.424Z"
   },
   {
    "duration": 4,
    "start_time": "2022-10-04T13:01:56.924Z"
   },
   {
    "duration": 6,
    "start_time": "2022-10-04T13:02:52.714Z"
   },
   {
    "duration": 646,
    "start_time": "2022-10-04T13:03:15.607Z"
   },
   {
    "duration": 642,
    "start_time": "2022-10-04T13:03:16.255Z"
   },
   {
    "duration": 16,
    "start_time": "2022-10-04T13:03:16.900Z"
   },
   {
    "duration": 5,
    "start_time": "2022-10-04T13:03:16.918Z"
   },
   {
    "duration": 8,
    "start_time": "2022-10-04T13:03:16.925Z"
   },
   {
    "duration": 12,
    "start_time": "2022-10-04T13:03:16.934Z"
   },
   {
    "duration": 13,
    "start_time": "2022-10-04T13:03:16.947Z"
   },
   {
    "duration": 5,
    "start_time": "2022-10-04T13:04:33.555Z"
   },
   {
    "duration": 5,
    "start_time": "2022-10-04T13:05:06.731Z"
   },
   {
    "duration": 6,
    "start_time": "2022-10-04T13:05:23.548Z"
   },
   {
    "duration": 5,
    "start_time": "2022-10-04T13:05:46.619Z"
   },
   {
    "duration": 68,
    "start_time": "2022-10-04T13:06:35.558Z"
   },
   {
    "duration": 12,
    "start_time": "2022-10-04T13:06:49.068Z"
   },
   {
    "duration": 6,
    "start_time": "2022-10-04T13:07:20.029Z"
   },
   {
    "duration": 6,
    "start_time": "2022-10-04T13:07:21.573Z"
   },
   {
    "duration": 6,
    "start_time": "2022-10-04T13:08:41.782Z"
   },
   {
    "duration": 9,
    "start_time": "2022-10-04T13:09:43.935Z"
   },
   {
    "duration": 43,
    "start_time": "2022-10-04T13:09:50.487Z"
   },
   {
    "duration": 20,
    "start_time": "2022-10-04T13:14:53.445Z"
   },
   {
    "duration": 5,
    "start_time": "2022-10-04T13:16:16.015Z"
   },
   {
    "duration": 6,
    "start_time": "2022-10-04T13:16:44.296Z"
   },
   {
    "duration": 5,
    "start_time": "2022-10-04T13:16:49.935Z"
   },
   {
    "duration": 5,
    "start_time": "2022-10-04T13:19:09.625Z"
   },
   {
    "duration": 6,
    "start_time": "2022-10-04T13:19:48.121Z"
   },
   {
    "duration": 9,
    "start_time": "2022-10-04T13:33:00.500Z"
   },
   {
    "duration": 11,
    "start_time": "2022-10-04T14:00:52.596Z"
   },
   {
    "duration": 14,
    "start_time": "2022-10-04T14:01:41.219Z"
   },
   {
    "duration": 8,
    "start_time": "2022-10-04T14:11:12.484Z"
   },
   {
    "duration": 27,
    "start_time": "2022-10-04T14:17:40.227Z"
   },
   {
    "duration": 26,
    "start_time": "2022-10-04T14:17:57.362Z"
   },
   {
    "duration": 26,
    "start_time": "2022-10-04T14:18:29.051Z"
   },
   {
    "duration": 25,
    "start_time": "2022-10-04T14:19:13.644Z"
   },
   {
    "duration": 640,
    "start_time": "2022-10-04T14:20:03.609Z"
   },
   {
    "duration": 683,
    "start_time": "2022-10-04T14:20:04.252Z"
   },
   {
    "duration": 16,
    "start_time": "2022-10-04T14:20:04.936Z"
   },
   {
    "duration": 5,
    "start_time": "2022-10-04T14:20:04.953Z"
   },
   {
    "duration": 13,
    "start_time": "2022-10-04T14:20:04.961Z"
   },
   {
    "duration": 32,
    "start_time": "2022-10-04T14:20:04.976Z"
   },
   {
    "duration": 34,
    "start_time": "2022-10-04T14:20:05.009Z"
   },
   {
    "duration": 10,
    "start_time": "2022-10-04T14:20:05.044Z"
   },
   {
    "duration": 83,
    "start_time": "2022-10-05T10:50:12.928Z"
   },
   {
    "duration": 3,
    "start_time": "2022-10-05T10:55:10.950Z"
   },
   {
    "duration": 8,
    "start_time": "2022-10-05T10:55:49.822Z"
   },
   {
    "duration": 195,
    "start_time": "2022-10-05T10:55:59.549Z"
   },
   {
    "duration": 11,
    "start_time": "2022-10-05T10:56:25.837Z"
   },
   {
    "duration": 182,
    "start_time": "2022-10-05T10:57:00.646Z"
   },
   {
    "duration": 149,
    "start_time": "2022-10-05T10:59:40.760Z"
   },
   {
    "duration": 271,
    "start_time": "2022-10-05T10:59:56.200Z"
   },
   {
    "duration": 232,
    "start_time": "2022-10-05T11:00:08.891Z"
   },
   {
    "duration": 341,
    "start_time": "2022-10-05T11:02:44.196Z"
   },
   {
    "duration": 294,
    "start_time": "2022-10-05T11:03:22.277Z"
   },
   {
    "duration": 303,
    "start_time": "2022-10-05T11:04:48.574Z"
   },
   {
    "duration": 319,
    "start_time": "2022-10-05T11:07:22.802Z"
   },
   {
    "duration": 372,
    "start_time": "2022-10-05T11:07:37.265Z"
   },
   {
    "duration": 288,
    "start_time": "2022-10-05T11:07:48.201Z"
   },
   {
    "duration": 278,
    "start_time": "2022-10-05T11:13:58.119Z"
   },
   {
    "duration": 272,
    "start_time": "2022-10-05T11:16:02.836Z"
   },
   {
    "duration": 464,
    "start_time": "2022-10-05T11:19:38.650Z"
   },
   {
    "duration": 557,
    "start_time": "2022-10-05T11:19:56.821Z"
   },
   {
    "duration": 467,
    "start_time": "2022-10-05T11:25:21.042Z"
   },
   {
    "duration": 489,
    "start_time": "2022-10-05T11:26:02.434Z"
   },
   {
    "duration": 535,
    "start_time": "2022-10-05T11:26:18.635Z"
   },
   {
    "duration": 466,
    "start_time": "2022-10-05T11:26:38.740Z"
   },
   {
    "duration": 450,
    "start_time": "2022-10-05T11:31:46.544Z"
   },
   {
    "duration": 322,
    "start_time": "2022-10-05T11:32:40.522Z"
   },
   {
    "duration": 579,
    "start_time": "2022-10-05T11:32:48.121Z"
   },
   {
    "duration": 500,
    "start_time": "2022-10-05T11:34:28.764Z"
   },
   {
    "duration": 505,
    "start_time": "2022-10-05T11:34:46.075Z"
   },
   {
    "duration": 452,
    "start_time": "2022-10-05T11:42:57.716Z"
   },
   {
    "duration": 616,
    "start_time": "2022-10-05T11:44:24.548Z"
   },
   {
    "duration": 556,
    "start_time": "2022-10-05T11:44:41.380Z"
   },
   {
    "duration": 504,
    "start_time": "2022-10-05T11:44:59.109Z"
   },
   {
    "duration": 469,
    "start_time": "2022-10-05T11:46:32.671Z"
   },
   {
    "duration": 583,
    "start_time": "2022-10-05T11:49:01.737Z"
   },
   {
    "duration": 505,
    "start_time": "2022-10-05T12:10:32.718Z"
   },
   {
    "duration": 1079,
    "start_time": "2022-10-05T12:10:47.629Z"
   },
   {
    "duration": 4,
    "start_time": "2022-10-05T12:12:12.728Z"
   },
   {
    "duration": 620,
    "start_time": "2022-10-05T12:12:31.740Z"
   },
   {
    "duration": 683,
    "start_time": "2022-10-05T12:12:32.362Z"
   },
   {
    "duration": 16,
    "start_time": "2022-10-05T12:12:33.047Z"
   },
   {
    "duration": 5,
    "start_time": "2022-10-05T12:12:33.064Z"
   },
   {
    "duration": 9,
    "start_time": "2022-10-05T12:12:33.071Z"
   },
   {
    "duration": 31,
    "start_time": "2022-10-05T12:12:33.081Z"
   },
   {
    "duration": 36,
    "start_time": "2022-10-05T12:12:33.113Z"
   },
   {
    "duration": 10,
    "start_time": "2022-10-05T12:12:33.151Z"
   },
   {
    "duration": 339,
    "start_time": "2022-10-05T12:12:33.163Z"
   },
   {
    "duration": 555,
    "start_time": "2022-10-05T12:12:33.504Z"
   },
   {
    "duration": 586,
    "start_time": "2022-10-05T12:12:34.061Z"
   },
   {
    "duration": 460,
    "start_time": "2022-10-05T12:12:34.648Z"
   },
   {
    "duration": 500,
    "start_time": "2022-10-05T12:12:35.110Z"
   },
   {
    "duration": 5,
    "start_time": "2022-10-05T12:12:35.612Z"
   },
   {
    "duration": 119,
    "start_time": "2022-10-05T12:13:02.198Z"
   },
   {
    "duration": 609,
    "start_time": "2022-10-05T12:13:17.945Z"
   },
   {
    "duration": 703,
    "start_time": "2022-10-05T12:13:18.556Z"
   },
   {
    "duration": 18,
    "start_time": "2022-10-05T12:13:19.260Z"
   },
   {
    "duration": 5,
    "start_time": "2022-10-05T12:13:19.280Z"
   },
   {
    "duration": 6,
    "start_time": "2022-10-05T12:13:19.301Z"
   },
   {
    "duration": 19,
    "start_time": "2022-10-05T12:13:19.308Z"
   },
   {
    "duration": 33,
    "start_time": "2022-10-05T12:13:19.329Z"
   },
   {
    "duration": 40,
    "start_time": "2022-10-05T12:13:19.364Z"
   },
   {
    "duration": 390,
    "start_time": "2022-10-05T12:13:19.407Z"
   },
   {
    "duration": 565,
    "start_time": "2022-10-05T12:13:19.800Z"
   },
   {
    "duration": 514,
    "start_time": "2022-10-05T12:13:20.366Z"
   },
   {
    "duration": 493,
    "start_time": "2022-10-05T12:13:20.881Z"
   },
   {
    "duration": 502,
    "start_time": "2022-10-05T12:13:21.376Z"
   },
   {
    "duration": 397,
    "start_time": "2022-10-05T12:13:21.879Z"
   },
   {
    "duration": 590,
    "start_time": "2022-10-05T12:14:07.616Z"
   },
   {
    "duration": 674,
    "start_time": "2022-10-05T12:14:08.208Z"
   },
   {
    "duration": 22,
    "start_time": "2022-10-05T12:14:08.883Z"
   },
   {
    "duration": 4,
    "start_time": "2022-10-05T12:14:08.907Z"
   },
   {
    "duration": 7,
    "start_time": "2022-10-05T12:14:08.914Z"
   },
   {
    "duration": 12,
    "start_time": "2022-10-05T12:14:08.923Z"
   },
   {
    "duration": 33,
    "start_time": "2022-10-05T12:14:08.937Z"
   },
   {
    "duration": 40,
    "start_time": "2022-10-05T12:14:08.972Z"
   },
   {
    "duration": 325,
    "start_time": "2022-10-05T12:14:09.014Z"
   },
   {
    "duration": 556,
    "start_time": "2022-10-05T12:14:09.340Z"
   },
   {
    "duration": 451,
    "start_time": "2022-10-05T12:14:09.899Z"
   },
   {
    "duration": 490,
    "start_time": "2022-10-05T12:14:10.351Z"
   },
   {
    "duration": 489,
    "start_time": "2022-10-05T12:14:10.844Z"
   },
   {
    "duration": 437,
    "start_time": "2022-10-05T12:14:11.335Z"
   },
   {
    "duration": 581,
    "start_time": "2022-10-05T12:14:38.639Z"
   },
   {
    "duration": 672,
    "start_time": "2022-10-05T12:14:39.222Z"
   },
   {
    "duration": 20,
    "start_time": "2022-10-05T12:14:39.895Z"
   },
   {
    "duration": 4,
    "start_time": "2022-10-05T12:14:39.917Z"
   },
   {
    "duration": 7,
    "start_time": "2022-10-05T12:14:39.922Z"
   },
   {
    "duration": 13,
    "start_time": "2022-10-05T12:14:39.930Z"
   },
   {
    "duration": 71,
    "start_time": "2022-10-05T12:14:39.944Z"
   },
   {
    "duration": 13,
    "start_time": "2022-10-05T12:14:40.016Z"
   },
   {
    "duration": 339,
    "start_time": "2022-10-05T12:14:40.031Z"
   },
   {
    "duration": 548,
    "start_time": "2022-10-05T12:14:40.372Z"
   },
   {
    "duration": 465,
    "start_time": "2022-10-05T12:14:40.922Z"
   },
   {
    "duration": 575,
    "start_time": "2022-10-05T12:14:41.390Z"
   },
   {
    "duration": 506,
    "start_time": "2022-10-05T12:14:41.967Z"
   },
   {
    "duration": 625,
    "start_time": "2022-10-05T12:14:42.475Z"
   },
   {
    "duration": 643,
    "start_time": "2022-10-05T12:15:22.488Z"
   },
   {
    "duration": 702,
    "start_time": "2022-10-05T12:15:23.133Z"
   },
   {
    "duration": 17,
    "start_time": "2022-10-05T12:15:23.837Z"
   },
   {
    "duration": 6,
    "start_time": "2022-10-05T12:15:23.856Z"
   },
   {
    "duration": 19,
    "start_time": "2022-10-05T12:15:23.863Z"
   },
   {
    "duration": 27,
    "start_time": "2022-10-05T12:15:23.884Z"
   },
   {
    "duration": 36,
    "start_time": "2022-10-05T12:15:23.914Z"
   },
   {
    "duration": 12,
    "start_time": "2022-10-05T12:15:23.951Z"
   },
   {
    "duration": 387,
    "start_time": "2022-10-05T12:15:23.965Z"
   },
   {
    "duration": 630,
    "start_time": "2022-10-05T12:15:24.354Z"
   },
   {
    "duration": 481,
    "start_time": "2022-10-05T12:15:24.986Z"
   },
   {
    "duration": 489,
    "start_time": "2022-10-05T12:15:25.469Z"
   },
   {
    "duration": 457,
    "start_time": "2022-10-05T12:15:25.960Z"
   },
   {
    "duration": 752,
    "start_time": "2022-10-05T12:15:26.419Z"
   },
   {
    "duration": 644,
    "start_time": "2022-10-05T12:15:47.491Z"
   },
   {
    "duration": 696,
    "start_time": "2022-10-05T12:15:48.137Z"
   },
   {
    "duration": 20,
    "start_time": "2022-10-05T12:15:48.838Z"
   },
   {
    "duration": 7,
    "start_time": "2022-10-05T12:15:48.861Z"
   },
   {
    "duration": 38,
    "start_time": "2022-10-05T12:15:48.870Z"
   },
   {
    "duration": 13,
    "start_time": "2022-10-05T12:15:48.910Z"
   },
   {
    "duration": 32,
    "start_time": "2022-10-05T12:15:48.925Z"
   },
   {
    "duration": 10,
    "start_time": "2022-10-05T12:15:48.959Z"
   },
   {
    "duration": 349,
    "start_time": "2022-10-05T12:15:48.971Z"
   },
   {
    "duration": 554,
    "start_time": "2022-10-05T12:15:49.323Z"
   },
   {
    "duration": 458,
    "start_time": "2022-10-05T12:15:49.879Z"
   },
   {
    "duration": 489,
    "start_time": "2022-10-05T12:15:50.339Z"
   },
   {
    "duration": 492,
    "start_time": "2022-10-05T12:15:50.831Z"
   },
   {
    "duration": 790,
    "start_time": "2022-10-05T12:15:51.325Z"
   },
   {
    "duration": 651,
    "start_time": "2022-10-05T12:17:06.478Z"
   },
   {
    "duration": 681,
    "start_time": "2022-10-05T12:17:07.131Z"
   },
   {
    "duration": 15,
    "start_time": "2022-10-05T12:17:07.814Z"
   },
   {
    "duration": 25,
    "start_time": "2022-10-05T12:17:07.831Z"
   },
   {
    "duration": 31,
    "start_time": "2022-10-05T12:17:07.858Z"
   },
   {
    "duration": 32,
    "start_time": "2022-10-05T12:17:07.891Z"
   },
   {
    "duration": 39,
    "start_time": "2022-10-05T12:17:07.925Z"
   },
   {
    "duration": 14,
    "start_time": "2022-10-05T12:17:07.966Z"
   },
   {
    "duration": 320,
    "start_time": "2022-10-05T12:17:07.982Z"
   },
   {
    "duration": 521,
    "start_time": "2022-10-05T12:17:08.304Z"
   },
   {
    "duration": 470,
    "start_time": "2022-10-05T12:17:08.827Z"
   },
   {
    "duration": 482,
    "start_time": "2022-10-05T12:17:09.301Z"
   },
   {
    "duration": 484,
    "start_time": "2022-10-05T12:17:09.784Z"
   },
   {
    "duration": 896,
    "start_time": "2022-10-05T12:17:10.271Z"
   },
   {
    "duration": 599,
    "start_time": "2022-10-05T12:17:39.312Z"
   },
   {
    "duration": 666,
    "start_time": "2022-10-05T12:17:39.913Z"
   },
   {
    "duration": 23,
    "start_time": "2022-10-05T12:17:40.581Z"
   },
   {
    "duration": 5,
    "start_time": "2022-10-05T12:17:40.606Z"
   },
   {
    "duration": 8,
    "start_time": "2022-10-05T12:17:40.614Z"
   },
   {
    "duration": 18,
    "start_time": "2022-10-05T12:17:40.624Z"
   },
   {
    "duration": 60,
    "start_time": "2022-10-05T12:17:40.644Z"
   },
   {
    "duration": 10,
    "start_time": "2022-10-05T12:17:40.706Z"
   },
   {
    "duration": 329,
    "start_time": "2022-10-05T12:17:40.718Z"
   },
   {
    "duration": 559,
    "start_time": "2022-10-05T12:17:41.049Z"
   },
   {
    "duration": 532,
    "start_time": "2022-10-05T12:17:41.609Z"
   },
   {
    "duration": 499,
    "start_time": "2022-10-05T12:17:42.143Z"
   },
   {
    "duration": 531,
    "start_time": "2022-10-05T12:17:42.644Z"
   },
   {
    "duration": 914,
    "start_time": "2022-10-05T12:17:43.177Z"
   },
   {
    "duration": 294,
    "start_time": "2022-10-05T12:37:52.865Z"
   },
   {
    "duration": 249,
    "start_time": "2022-10-05T12:38:42.730Z"
   },
   {
    "duration": 290,
    "start_time": "2022-10-05T12:42:23.724Z"
   },
   {
    "duration": 179,
    "start_time": "2022-10-05T12:43:26.253Z"
   },
   {
    "duration": 410,
    "start_time": "2022-10-05T12:43:57.391Z"
   },
   {
    "duration": 376,
    "start_time": "2022-10-05T12:45:17.032Z"
   },
   {
    "duration": 261,
    "start_time": "2022-10-05T12:49:36.252Z"
   },
   {
    "duration": 399,
    "start_time": "2022-10-05T12:49:52.348Z"
   },
   {
    "duration": 585,
    "start_time": "2022-10-05T12:52:20.631Z"
   },
   {
    "duration": 643,
    "start_time": "2022-10-05T12:52:28.679Z"
   },
   {
    "duration": 587,
    "start_time": "2022-10-05T12:54:41.953Z"
   },
   {
    "duration": 299,
    "start_time": "2022-10-05T13:00:36.631Z"
   },
   {
    "duration": 359,
    "start_time": "2022-10-05T13:02:35.628Z"
   },
   {
    "duration": 334,
    "start_time": "2022-10-05T13:03:05.305Z"
   },
   {
    "duration": 461,
    "start_time": "2022-10-05T13:03:20.211Z"
   },
   {
    "duration": 603,
    "start_time": "2022-10-05T13:18:30.135Z"
   },
   {
    "duration": 698,
    "start_time": "2022-10-05T13:18:40.600Z"
   },
   {
    "duration": 614,
    "start_time": "2022-10-05T13:19:25.047Z"
   },
   {
    "duration": 658,
    "start_time": "2022-10-05T13:19:38.001Z"
   },
   {
    "duration": 1030,
    "start_time": "2022-10-05T13:23:25.924Z"
   },
   {
    "duration": 576,
    "start_time": "2022-10-05T13:23:56.354Z"
   },
   {
    "duration": 731,
    "start_time": "2022-10-05T13:23:56.931Z"
   },
   {
    "duration": 18,
    "start_time": "2022-10-05T13:23:57.664Z"
   },
   {
    "duration": 21,
    "start_time": "2022-10-05T13:23:57.684Z"
   },
   {
    "duration": 8,
    "start_time": "2022-10-05T13:23:57.712Z"
   },
   {
    "duration": 10,
    "start_time": "2022-10-05T13:23:57.722Z"
   },
   {
    "duration": 36,
    "start_time": "2022-10-05T13:23:57.734Z"
   },
   {
    "duration": 11,
    "start_time": "2022-10-05T13:23:57.771Z"
   },
   {
    "duration": 327,
    "start_time": "2022-10-05T13:23:57.800Z"
   },
   {
    "duration": 552,
    "start_time": "2022-10-05T13:23:58.130Z"
   },
   {
    "duration": 506,
    "start_time": "2022-10-05T13:23:58.684Z"
   },
   {
    "duration": 492,
    "start_time": "2022-10-05T13:23:59.192Z"
   },
   {
    "duration": 489,
    "start_time": "2022-10-05T13:23:59.686Z"
   },
   {
    "duration": 902,
    "start_time": "2022-10-05T13:24:00.176Z"
   },
   {
    "duration": 624,
    "start_time": "2022-10-05T13:24:01.080Z"
   },
   {
    "duration": 550,
    "start_time": "2022-10-05T13:24:01.709Z"
   },
   {
    "duration": 926,
    "start_time": "2022-10-05T13:24:02.261Z"
   },
   {
    "duration": 1092,
    "start_time": "2022-10-05T13:24:23.013Z"
   },
   {
    "duration": 679,
    "start_time": "2022-10-05T13:25:14.603Z"
   },
   {
    "duration": 596,
    "start_time": "2022-10-05T13:28:42.547Z"
   },
   {
    "duration": 716,
    "start_time": "2022-10-05T13:28:43.145Z"
   },
   {
    "duration": 15,
    "start_time": "2022-10-05T13:28:43.863Z"
   },
   {
    "duration": 4,
    "start_time": "2022-10-05T13:28:43.880Z"
   },
   {
    "duration": 8,
    "start_time": "2022-10-05T13:28:43.905Z"
   },
   {
    "duration": 15,
    "start_time": "2022-10-05T13:28:43.915Z"
   },
   {
    "duration": 32,
    "start_time": "2022-10-05T13:28:43.931Z"
   },
   {
    "duration": 11,
    "start_time": "2022-10-05T13:28:43.964Z"
   },
   {
    "duration": 404,
    "start_time": "2022-10-05T13:28:43.977Z"
   },
   {
    "duration": 607,
    "start_time": "2022-10-05T13:28:44.384Z"
   },
   {
    "duration": 499,
    "start_time": "2022-10-05T13:28:44.993Z"
   },
   {
    "duration": 480,
    "start_time": "2022-10-05T13:28:45.494Z"
   },
   {
    "duration": 492,
    "start_time": "2022-10-05T13:28:45.975Z"
   },
   {
    "duration": 892,
    "start_time": "2022-10-05T13:28:46.469Z"
   },
   {
    "duration": 605,
    "start_time": "2022-10-05T13:28:47.363Z"
   },
   {
    "duration": 540,
    "start_time": "2022-10-05T13:28:47.969Z"
   },
   {
    "duration": 669,
    "start_time": "2022-10-05T13:28:48.512Z"
   },
   {
    "duration": 474,
    "start_time": "2022-10-05T13:28:49.182Z"
   },
   {
    "duration": 600,
    "start_time": "2022-10-05T13:35:23.315Z"
   },
   {
    "duration": 754,
    "start_time": "2022-10-05T13:35:23.917Z"
   },
   {
    "duration": 28,
    "start_time": "2022-10-05T13:35:24.673Z"
   },
   {
    "duration": 13,
    "start_time": "2022-10-05T13:35:24.709Z"
   },
   {
    "duration": 13,
    "start_time": "2022-10-05T13:35:24.725Z"
   },
   {
    "duration": 22,
    "start_time": "2022-10-05T13:35:24.740Z"
   },
   {
    "duration": 33,
    "start_time": "2022-10-05T13:35:24.764Z"
   },
   {
    "duration": 20,
    "start_time": "2022-10-05T13:35:24.798Z"
   },
   {
    "duration": 338,
    "start_time": "2022-10-05T13:35:24.820Z"
   },
   {
    "duration": 555,
    "start_time": "2022-10-05T13:35:25.160Z"
   },
   {
    "duration": 448,
    "start_time": "2022-10-05T13:35:25.719Z"
   },
   {
    "duration": 479,
    "start_time": "2022-10-05T13:35:26.169Z"
   },
   {
    "duration": 486,
    "start_time": "2022-10-05T13:35:26.650Z"
   },
   {
    "duration": 901,
    "start_time": "2022-10-05T13:35:27.139Z"
   },
   {
    "duration": 582,
    "start_time": "2022-10-05T13:35:28.042Z"
   },
   {
    "duration": 527,
    "start_time": "2022-10-05T13:35:28.626Z"
   },
   {
    "duration": 669,
    "start_time": "2022-10-05T13:35:29.155Z"
   },
   {
    "duration": 56,
    "start_time": "2022-10-05T13:35:29.825Z"
   },
   {
    "duration": 641,
    "start_time": "2022-10-05T13:35:42.709Z"
   },
   {
    "duration": 918,
    "start_time": "2022-10-05T13:35:49.627Z"
   },
   {
    "duration": 526,
    "start_time": "2022-10-06T06:23:01.255Z"
   },
   {
    "duration": 634,
    "start_time": "2022-10-06T06:23:01.783Z"
   },
   {
    "duration": 16,
    "start_time": "2022-10-06T06:23:02.418Z"
   },
   {
    "duration": 5,
    "start_time": "2022-10-06T06:23:02.435Z"
   },
   {
    "duration": 9,
    "start_time": "2022-10-06T06:23:02.442Z"
   },
   {
    "duration": 11,
    "start_time": "2022-10-06T06:23:02.452Z"
   },
   {
    "duration": 52,
    "start_time": "2022-10-06T06:23:02.465Z"
   },
   {
    "duration": 10,
    "start_time": "2022-10-06T06:23:02.518Z"
   },
   {
    "duration": 314,
    "start_time": "2022-10-06T06:23:02.529Z"
   },
   {
    "duration": 507,
    "start_time": "2022-10-06T06:23:02.845Z"
   },
   {
    "duration": 450,
    "start_time": "2022-10-06T06:23:03.353Z"
   },
   {
    "duration": 485,
    "start_time": "2022-10-06T06:23:03.805Z"
   },
   {
    "duration": 463,
    "start_time": "2022-10-06T06:23:04.292Z"
   },
   {
    "duration": 828,
    "start_time": "2022-10-06T06:23:04.757Z"
   },
   {
    "duration": 540,
    "start_time": "2022-10-06T06:23:05.586Z"
   },
   {
    "duration": 298,
    "start_time": "2022-10-06T06:23:06.128Z"
   },
   {
    "duration": 688,
    "start_time": "2022-10-06T06:23:06.427Z"
   },
   {
    "duration": 784,
    "start_time": "2022-10-06T06:23:07.117Z"
   },
   {
    "duration": 25,
    "start_time": "2022-10-06T06:46:31.477Z"
   },
   {
    "duration": 6763,
    "start_time": "2022-10-06T06:47:06.987Z"
   },
   {
    "duration": 579,
    "start_time": "2022-10-06T06:47:39.606Z"
   },
   {
    "duration": 647,
    "start_time": "2022-10-06T06:47:40.187Z"
   },
   {
    "duration": 16,
    "start_time": "2022-10-06T06:47:40.835Z"
   },
   {
    "duration": 5,
    "start_time": "2022-10-06T06:47:40.852Z"
   },
   {
    "duration": 6,
    "start_time": "2022-10-06T06:47:40.858Z"
   },
   {
    "duration": 12,
    "start_time": "2022-10-06T06:47:40.865Z"
   },
   {
    "duration": 49,
    "start_time": "2022-10-06T06:47:40.879Z"
   },
   {
    "duration": 10,
    "start_time": "2022-10-06T06:47:40.930Z"
   },
   {
    "duration": 308,
    "start_time": "2022-10-06T06:47:40.942Z"
   },
   {
    "duration": 521,
    "start_time": "2022-10-06T06:47:41.253Z"
   },
   {
    "duration": 463,
    "start_time": "2022-10-06T06:47:41.776Z"
   },
   {
    "duration": 439,
    "start_time": "2022-10-06T06:47:42.241Z"
   },
   {
    "duration": 481,
    "start_time": "2022-10-06T06:47:42.682Z"
   },
   {
    "duration": 849,
    "start_time": "2022-10-06T06:47:43.165Z"
   },
   {
    "duration": 600,
    "start_time": "2022-10-06T06:47:44.015Z"
   },
   {
    "duration": 288,
    "start_time": "2022-10-06T06:47:44.617Z"
   },
   {
    "duration": 694,
    "start_time": "2022-10-06T06:47:44.906Z"
   },
   {
    "duration": 746,
    "start_time": "2022-10-06T06:47:45.602Z"
   },
   {
    "duration": 6747,
    "start_time": "2022-10-06T06:47:46.350Z"
   },
   {
    "duration": 4,
    "start_time": "2022-10-06T06:50:15.717Z"
   },
   {
    "duration": 4,
    "start_time": "2022-10-06T06:50:26.747Z"
   },
   {
    "duration": 7,
    "start_time": "2022-10-06T06:50:38.933Z"
   },
   {
    "duration": 7,
    "start_time": "2022-10-06T06:51:09.628Z"
   },
   {
    "duration": 7,
    "start_time": "2022-10-06T06:52:07.511Z"
   },
   {
    "duration": 14,
    "start_time": "2022-10-06T06:52:27.869Z"
   },
   {
    "duration": 21,
    "start_time": "2022-10-06T06:52:49.087Z"
   },
   {
    "duration": 21,
    "start_time": "2022-10-06T06:53:27.703Z"
   },
   {
    "duration": 4,
    "start_time": "2022-10-06T06:53:53.952Z"
   },
   {
    "duration": 23,
    "start_time": "2022-10-06T06:54:37.752Z"
   },
   {
    "duration": 1115,
    "start_time": "2022-10-06T06:58:43.580Z"
   },
   {
    "duration": 572,
    "start_time": "2022-10-06T06:59:37.122Z"
   },
   {
    "duration": 649,
    "start_time": "2022-10-06T06:59:37.696Z"
   },
   {
    "duration": 16,
    "start_time": "2022-10-06T06:59:38.347Z"
   },
   {
    "duration": 5,
    "start_time": "2022-10-06T06:59:38.364Z"
   },
   {
    "duration": 8,
    "start_time": "2022-10-06T06:59:38.370Z"
   },
   {
    "duration": 35,
    "start_time": "2022-10-06T06:59:38.379Z"
   },
   {
    "duration": 30,
    "start_time": "2022-10-06T06:59:38.415Z"
   },
   {
    "duration": 10,
    "start_time": "2022-10-06T06:59:38.446Z"
   },
   {
    "duration": 297,
    "start_time": "2022-10-06T06:59:38.458Z"
   },
   {
    "duration": 494,
    "start_time": "2022-10-06T06:59:38.757Z"
   },
   {
    "duration": 437,
    "start_time": "2022-10-06T06:59:39.252Z"
   },
   {
    "duration": 454,
    "start_time": "2022-10-06T06:59:39.690Z"
   },
   {
    "duration": 470,
    "start_time": "2022-10-06T06:59:40.146Z"
   },
   {
    "duration": 835,
    "start_time": "2022-10-06T06:59:40.619Z"
   },
   {
    "duration": 582,
    "start_time": "2022-10-06T06:59:41.456Z"
   },
   {
    "duration": 313,
    "start_time": "2022-10-06T06:59:42.041Z"
   },
   {
    "duration": 689,
    "start_time": "2022-10-06T06:59:42.356Z"
   },
   {
    "duration": 789,
    "start_time": "2022-10-06T06:59:43.047Z"
   },
   {
    "duration": 21,
    "start_time": "2022-10-06T06:59:43.838Z"
   },
   {
    "duration": 25,
    "start_time": "2022-10-06T07:00:20.285Z"
   },
   {
    "duration": 619,
    "start_time": "2022-10-06T07:01:34.487Z"
   },
   {
    "duration": 651,
    "start_time": "2022-10-06T07:01:35.108Z"
   },
   {
    "duration": 17,
    "start_time": "2022-10-06T07:01:35.760Z"
   },
   {
    "duration": 5,
    "start_time": "2022-10-06T07:01:35.778Z"
   },
   {
    "duration": 5,
    "start_time": "2022-10-06T07:01:35.800Z"
   },
   {
    "duration": 13,
    "start_time": "2022-10-06T07:01:35.806Z"
   },
   {
    "duration": 11,
    "start_time": "2022-10-06T07:01:35.821Z"
   },
   {
    "duration": 9,
    "start_time": "2022-10-06T07:01:35.834Z"
   },
   {
    "duration": 322,
    "start_time": "2022-10-06T07:01:35.844Z"
   },
   {
    "duration": 508,
    "start_time": "2022-10-06T07:01:36.168Z"
   },
   {
    "duration": 443,
    "start_time": "2022-10-06T07:01:36.678Z"
   },
   {
    "duration": 463,
    "start_time": "2022-10-06T07:01:37.122Z"
   },
   {
    "duration": 436,
    "start_time": "2022-10-06T07:01:37.586Z"
   },
   {
    "duration": 846,
    "start_time": "2022-10-06T07:01:38.024Z"
   },
   {
    "duration": 568,
    "start_time": "2022-10-06T07:01:38.872Z"
   },
   {
    "duration": 303,
    "start_time": "2022-10-06T07:01:39.441Z"
   },
   {
    "duration": 691,
    "start_time": "2022-10-06T07:01:39.745Z"
   },
   {
    "duration": 786,
    "start_time": "2022-10-06T07:01:40.438Z"
   },
   {
    "duration": 37,
    "start_time": "2022-10-06T07:01:41.226Z"
   },
   {
    "duration": 556,
    "start_time": "2022-10-06T07:02:51.632Z"
   },
   {
    "duration": 651,
    "start_time": "2022-10-06T07:02:52.190Z"
   },
   {
    "duration": 17,
    "start_time": "2022-10-06T07:02:52.843Z"
   },
   {
    "duration": 5,
    "start_time": "2022-10-06T07:02:52.862Z"
   },
   {
    "duration": 9,
    "start_time": "2022-10-06T07:02:52.868Z"
   },
   {
    "duration": 31,
    "start_time": "2022-10-06T07:02:52.879Z"
   },
   {
    "duration": 33,
    "start_time": "2022-10-06T07:02:52.912Z"
   },
   {
    "duration": 10,
    "start_time": "2022-10-06T07:02:52.947Z"
   },
   {
    "duration": 312,
    "start_time": "2022-10-06T07:02:52.958Z"
   },
   {
    "duration": 503,
    "start_time": "2022-10-06T07:02:53.272Z"
   },
   {
    "duration": 449,
    "start_time": "2022-10-06T07:02:53.776Z"
   },
   {
    "duration": 458,
    "start_time": "2022-10-06T07:02:54.226Z"
   },
   {
    "duration": 431,
    "start_time": "2022-10-06T07:02:54.685Z"
   },
   {
    "duration": 821,
    "start_time": "2022-10-06T07:02:55.119Z"
   },
   {
    "duration": 532,
    "start_time": "2022-10-06T07:02:55.942Z"
   },
   {
    "duration": 304,
    "start_time": "2022-10-06T07:02:56.476Z"
   },
   {
    "duration": 692,
    "start_time": "2022-10-06T07:02:56.782Z"
   },
   {
    "duration": 747,
    "start_time": "2022-10-06T07:02:57.476Z"
   },
   {
    "duration": 41,
    "start_time": "2022-10-06T07:02:58.224Z"
   },
   {
    "duration": 27,
    "start_time": "2022-10-06T07:06:13.680Z"
   },
   {
    "duration": 79,
    "start_time": "2022-10-06T07:08:45.560Z"
   },
   {
    "duration": 11,
    "start_time": "2022-10-06T07:11:09.363Z"
   },
   {
    "duration": 12,
    "start_time": "2022-10-06T07:11:58.764Z"
   },
   {
    "duration": 10,
    "start_time": "2022-10-06T07:12:06.243Z"
   },
   {
    "duration": 15,
    "start_time": "2022-10-06T07:13:06.533Z"
   },
   {
    "duration": 12,
    "start_time": "2022-10-06T07:13:21.802Z"
   },
   {
    "duration": 28,
    "start_time": "2022-10-06T07:16:37.344Z"
   },
   {
    "duration": 821,
    "start_time": "2022-10-06T07:17:09.977Z"
   },
   {
    "duration": 4,
    "start_time": "2022-10-06T07:21:02.879Z"
   },
   {
    "duration": 8,
    "start_time": "2022-10-06T07:22:13.942Z"
   },
   {
    "duration": 4,
    "start_time": "2022-10-06T07:25:13.576Z"
   },
   {
    "duration": 16,
    "start_time": "2022-10-06T07:29:11.540Z"
   },
   {
    "duration": 11,
    "start_time": "2022-10-06T07:29:17.371Z"
   },
   {
    "duration": 805,
    "start_time": "2022-10-06T07:34:48.962Z"
   },
   {
    "duration": 20,
    "start_time": "2022-10-06T07:36:20.100Z"
   },
   {
    "duration": 3,
    "start_time": "2022-10-06T07:55:16.868Z"
   },
   {
    "duration": 4,
    "start_time": "2022-10-06T07:56:00.397Z"
   },
   {
    "duration": 1227,
    "start_time": "2022-10-06T07:56:06.329Z"
   },
   {
    "duration": 653,
    "start_time": "2022-10-06T07:56:07.558Z"
   },
   {
    "duration": 15,
    "start_time": "2022-10-06T07:56:08.213Z"
   },
   {
    "duration": 4,
    "start_time": "2022-10-06T07:56:08.230Z"
   },
   {
    "duration": 10,
    "start_time": "2022-10-06T07:56:08.235Z"
   },
   {
    "duration": 17,
    "start_time": "2022-10-06T07:56:08.246Z"
   },
   {
    "duration": 51,
    "start_time": "2022-10-06T07:56:08.264Z"
   },
   {
    "duration": 12,
    "start_time": "2022-10-06T07:56:08.316Z"
   },
   {
    "duration": 310,
    "start_time": "2022-10-06T07:56:08.330Z"
   },
   {
    "duration": 519,
    "start_time": "2022-10-06T07:56:08.642Z"
   },
   {
    "duration": 463,
    "start_time": "2022-10-06T07:56:09.162Z"
   },
   {
    "duration": 454,
    "start_time": "2022-10-06T07:56:09.626Z"
   },
   {
    "duration": 445,
    "start_time": "2022-10-06T07:56:10.081Z"
   },
   {
    "duration": 859,
    "start_time": "2022-10-06T07:56:10.528Z"
   },
   {
    "duration": 544,
    "start_time": "2022-10-06T07:56:11.389Z"
   },
   {
    "duration": 290,
    "start_time": "2022-10-06T07:56:11.934Z"
   },
   {
    "duration": 719,
    "start_time": "2022-10-06T07:56:12.226Z"
   },
   {
    "duration": 764,
    "start_time": "2022-10-06T07:56:12.947Z"
   },
   {
    "duration": 39,
    "start_time": "2022-10-06T07:56:13.713Z"
   },
   {
    "duration": 46,
    "start_time": "2022-10-06T07:56:13.754Z"
   },
   {
    "duration": 12,
    "start_time": "2022-10-06T07:56:13.802Z"
   },
   {
    "duration": 26,
    "start_time": "2022-10-06T07:56:13.815Z"
   },
   {
    "duration": 87,
    "start_time": "2022-10-06T08:04:27.125Z"
   },
   {
    "duration": 47,
    "start_time": "2022-10-06T08:05:06.285Z"
   },
   {
    "duration": 122,
    "start_time": "2022-10-06T08:05:17.700Z"
   },
   {
    "duration": 4,
    "start_time": "2022-10-06T08:05:29.085Z"
   },
   {
    "duration": 103,
    "start_time": "2022-10-06T08:07:35.815Z"
   },
   {
    "duration": 4,
    "start_time": "2022-10-06T08:07:44.775Z"
   },
   {
    "duration": 4,
    "start_time": "2022-10-06T08:22:28.125Z"
   },
   {
    "duration": 55966,
    "start_time": "2022-10-06T08:28:24.266Z"
   },
   {
    "duration": 1313,
    "start_time": "2022-10-06T08:30:24.684Z"
   },
   {
    "duration": 684,
    "start_time": "2022-10-06T08:30:25.999Z"
   },
   {
    "duration": 23,
    "start_time": "2022-10-06T08:30:26.684Z"
   },
   {
    "duration": 6,
    "start_time": "2022-10-06T08:30:26.715Z"
   },
   {
    "duration": 8,
    "start_time": "2022-10-06T08:30:26.722Z"
   },
   {
    "duration": 14,
    "start_time": "2022-10-06T08:30:26.732Z"
   },
   {
    "duration": 43,
    "start_time": "2022-10-06T08:30:26.748Z"
   },
   {
    "duration": 16,
    "start_time": "2022-10-06T08:30:26.800Z"
   },
   {
    "duration": 354,
    "start_time": "2022-10-06T08:30:26.817Z"
   },
   {
    "duration": 559,
    "start_time": "2022-10-06T08:30:27.174Z"
   },
   {
    "duration": 504,
    "start_time": "2022-10-06T08:30:27.735Z"
   },
   {
    "duration": 505,
    "start_time": "2022-10-06T08:30:28.240Z"
   },
   {
    "duration": 537,
    "start_time": "2022-10-06T08:30:28.747Z"
   },
   {
    "duration": 950,
    "start_time": "2022-10-06T08:30:29.286Z"
   },
   {
    "duration": 593,
    "start_time": "2022-10-06T08:30:30.238Z"
   },
   {
    "duration": 346,
    "start_time": "2022-10-06T08:30:30.833Z"
   },
   {
    "duration": 787,
    "start_time": "2022-10-06T08:30:31.181Z"
   },
   {
    "duration": 873,
    "start_time": "2022-10-06T08:30:31.969Z"
   },
   {
    "duration": 42,
    "start_time": "2022-10-06T08:30:32.844Z"
   },
   {
    "duration": 43,
    "start_time": "2022-10-06T08:30:32.901Z"
   },
   {
    "duration": 12,
    "start_time": "2022-10-06T08:30:32.946Z"
   },
   {
    "duration": 26,
    "start_time": "2022-10-06T08:30:32.960Z"
   },
   {
    "duration": 18,
    "start_time": "2022-10-06T08:30:32.987Z"
   },
   {
    "duration": 17641,
    "start_time": "2022-10-06T08:30:33.007Z"
   },
   {
    "duration": 1340,
    "start_time": "2022-10-06T08:31:19.118Z"
   },
   {
    "duration": 716,
    "start_time": "2022-10-06T08:31:20.460Z"
   },
   {
    "duration": 27,
    "start_time": "2022-10-06T08:31:21.177Z"
   },
   {
    "duration": 8,
    "start_time": "2022-10-06T08:31:21.207Z"
   },
   {
    "duration": 14,
    "start_time": "2022-10-06T08:31:21.216Z"
   },
   {
    "duration": 13,
    "start_time": "2022-10-06T08:31:21.231Z"
   },
   {
    "duration": 32,
    "start_time": "2022-10-06T08:31:21.246Z"
   },
   {
    "duration": 31,
    "start_time": "2022-10-06T08:31:21.280Z"
   },
   {
    "duration": 332,
    "start_time": "2022-10-06T08:31:21.312Z"
   },
   {
    "duration": 565,
    "start_time": "2022-10-06T08:31:21.646Z"
   },
   {
    "duration": 502,
    "start_time": "2022-10-06T08:31:22.212Z"
   },
   {
    "duration": 503,
    "start_time": "2022-10-06T08:31:22.716Z"
   },
   {
    "duration": 505,
    "start_time": "2022-10-06T08:31:23.222Z"
   },
   {
    "duration": 1051,
    "start_time": "2022-10-06T08:31:23.729Z"
   },
   {
    "duration": 621,
    "start_time": "2022-10-06T08:31:24.782Z"
   },
   {
    "duration": 349,
    "start_time": "2022-10-06T08:31:25.411Z"
   },
   {
    "duration": 792,
    "start_time": "2022-10-06T08:31:25.762Z"
   },
   {
    "duration": 865,
    "start_time": "2022-10-06T08:31:26.556Z"
   },
   {
    "duration": 48,
    "start_time": "2022-10-06T08:31:27.423Z"
   },
   {
    "duration": 52,
    "start_time": "2022-10-06T08:31:27.473Z"
   },
   {
    "duration": 16,
    "start_time": "2022-10-06T08:31:27.527Z"
   },
   {
    "duration": 22,
    "start_time": "2022-10-06T08:31:27.545Z"
   },
   {
    "duration": 4,
    "start_time": "2022-10-06T08:31:27.569Z"
   },
   {
    "duration": 47635,
    "start_time": "2022-10-06T08:31:27.574Z"
   },
   {
    "duration": 1356,
    "start_time": "2022-10-06T08:34:39.676Z"
   },
   {
    "duration": 755,
    "start_time": "2022-10-06T08:34:41.034Z"
   },
   {
    "duration": 33,
    "start_time": "2022-10-06T08:34:41.791Z"
   },
   {
    "duration": 6,
    "start_time": "2022-10-06T08:34:41.826Z"
   },
   {
    "duration": 11,
    "start_time": "2022-10-06T08:34:41.834Z"
   },
   {
    "duration": 14,
    "start_time": "2022-10-06T08:34:41.847Z"
   },
   {
    "duration": 57,
    "start_time": "2022-10-06T08:34:41.863Z"
   },
   {
    "duration": 12,
    "start_time": "2022-10-06T08:34:41.923Z"
   },
   {
    "duration": 377,
    "start_time": "2022-10-06T08:34:41.937Z"
   },
   {
    "duration": 602,
    "start_time": "2022-10-06T08:34:42.324Z"
   },
   {
    "duration": 548,
    "start_time": "2022-10-06T08:34:42.928Z"
   },
   {
    "duration": 533,
    "start_time": "2022-10-06T08:34:43.478Z"
   },
   {
    "duration": 609,
    "start_time": "2022-10-06T08:34:44.018Z"
   },
   {
    "duration": 1004,
    "start_time": "2022-10-06T08:34:44.630Z"
   },
   {
    "duration": 608,
    "start_time": "2022-10-06T08:34:45.636Z"
   },
   {
    "duration": 351,
    "start_time": "2022-10-06T08:34:46.245Z"
   },
   {
    "duration": 795,
    "start_time": "2022-10-06T08:34:46.597Z"
   },
   {
    "duration": 906,
    "start_time": "2022-10-06T08:34:47.393Z"
   },
   {
    "duration": 45,
    "start_time": "2022-10-06T08:34:48.301Z"
   },
   {
    "duration": 52,
    "start_time": "2022-10-06T08:34:48.348Z"
   },
   {
    "duration": 20,
    "start_time": "2022-10-06T08:34:48.402Z"
   },
   {
    "duration": 27,
    "start_time": "2022-10-06T08:34:48.423Z"
   },
   {
    "duration": 5,
    "start_time": "2022-10-06T08:34:48.451Z"
   },
   {
    "duration": 19452,
    "start_time": "2022-10-06T08:34:48.457Z"
   },
   {
    "duration": 4,
    "start_time": "2022-10-06T08:43:34.820Z"
   },
   {
    "duration": 17,
    "start_time": "2022-10-06T08:49:10.402Z"
   },
   {
    "duration": 386,
    "start_time": "2022-10-06T08:49:22.571Z"
   },
   {
    "duration": 46905,
    "start_time": "2022-10-06T08:49:44.120Z"
   },
   {
    "duration": 1355,
    "start_time": "2022-10-06T08:53:11.469Z"
   },
   {
    "duration": 697,
    "start_time": "2022-10-06T08:53:12.826Z"
   },
   {
    "duration": 18,
    "start_time": "2022-10-06T08:53:13.528Z"
   },
   {
    "duration": 7,
    "start_time": "2022-10-06T08:53:13.548Z"
   },
   {
    "duration": 12,
    "start_time": "2022-10-06T08:53:13.557Z"
   },
   {
    "duration": 20,
    "start_time": "2022-10-06T08:53:13.571Z"
   },
   {
    "duration": 43,
    "start_time": "2022-10-06T08:53:13.602Z"
   },
   {
    "duration": 10,
    "start_time": "2022-10-06T08:53:13.647Z"
   },
   {
    "duration": 350,
    "start_time": "2022-10-06T08:53:13.659Z"
   },
   {
    "duration": 672,
    "start_time": "2022-10-06T08:53:14.012Z"
   },
   {
    "duration": 535,
    "start_time": "2022-10-06T08:53:14.686Z"
   },
   {
    "duration": 609,
    "start_time": "2022-10-06T08:53:15.223Z"
   },
   {
    "duration": 520,
    "start_time": "2022-10-06T08:53:15.834Z"
   },
   {
    "duration": 962,
    "start_time": "2022-10-06T08:53:16.356Z"
   },
   {
    "duration": 669,
    "start_time": "2022-10-06T08:53:17.322Z"
   },
   {
    "duration": 343,
    "start_time": "2022-10-06T08:53:17.992Z"
   },
   {
    "duration": 785,
    "start_time": "2022-10-06T08:53:18.336Z"
   },
   {
    "duration": 859,
    "start_time": "2022-10-06T08:53:19.123Z"
   },
   {
    "duration": 48,
    "start_time": "2022-10-06T08:53:19.983Z"
   },
   {
    "duration": 32,
    "start_time": "2022-10-06T08:53:20.033Z"
   },
   {
    "duration": 35,
    "start_time": "2022-10-06T08:53:20.068Z"
   },
   {
    "duration": 26,
    "start_time": "2022-10-06T08:53:20.104Z"
   },
   {
    "duration": 5,
    "start_time": "2022-10-06T08:53:20.131Z"
   },
   {
    "duration": 90281,
    "start_time": "2022-10-06T08:53:20.138Z"
   },
   {
    "duration": 754,
    "start_time": "2022-10-06T08:56:23.860Z"
   },
   {
    "duration": 616,
    "start_time": "2022-10-06T08:56:43.370Z"
   },
   {
    "duration": 726,
    "start_time": "2022-10-06T08:57:28.939Z"
   },
   {
    "duration": 644,
    "start_time": "2022-10-06T08:57:41.947Z"
   },
   {
    "duration": 633,
    "start_time": "2022-10-06T08:57:58.881Z"
   },
   {
    "duration": 606,
    "start_time": "2022-10-06T08:58:12.891Z"
   },
   {
    "duration": 659,
    "start_time": "2022-10-06T08:58:41.925Z"
   },
   {
    "duration": 8,
    "start_time": "2022-10-06T09:00:04.837Z"
   },
   {
    "duration": 770,
    "start_time": "2022-10-06T09:00:22.230Z"
   },
   {
    "duration": 756,
    "start_time": "2022-10-06T09:03:01.178Z"
   },
   {
    "duration": 6,
    "start_time": "2022-10-06T09:03:33.299Z"
   },
   {
    "duration": 822,
    "start_time": "2022-10-06T09:03:35.234Z"
   },
   {
    "duration": 6,
    "start_time": "2022-10-06T09:04:32.619Z"
   },
   {
    "duration": 778,
    "start_time": "2022-10-06T09:04:37.667Z"
   },
   {
    "duration": 6,
    "start_time": "2022-10-06T09:08:00.671Z"
   },
   {
    "duration": 830,
    "start_time": "2022-10-06T09:08:07.814Z"
   },
   {
    "duration": 4,
    "start_time": "2022-10-06T09:08:25.894Z"
   },
   {
    "duration": 822,
    "start_time": "2022-10-06T09:08:28.511Z"
   },
   {
    "duration": 9,
    "start_time": "2022-10-06T09:08:42.416Z"
   },
   {
    "duration": 728,
    "start_time": "2022-10-06T09:08:44.654Z"
   },
   {
    "duration": 6,
    "start_time": "2022-10-06T09:08:56.992Z"
   },
   {
    "duration": 814,
    "start_time": "2022-10-06T09:08:58.631Z"
   },
   {
    "duration": 6,
    "start_time": "2022-10-06T09:10:32.936Z"
   },
   {
    "duration": 1732,
    "start_time": "2022-10-06T09:10:41.217Z"
   },
   {
    "duration": 1013,
    "start_time": "2022-10-06T09:10:42.951Z"
   },
   {
    "duration": 35,
    "start_time": "2022-10-06T09:10:43.967Z"
   },
   {
    "duration": 8,
    "start_time": "2022-10-06T09:10:44.005Z"
   },
   {
    "duration": 19,
    "start_time": "2022-10-06T09:10:44.015Z"
   },
   {
    "duration": 31,
    "start_time": "2022-10-06T09:10:44.036Z"
   },
   {
    "duration": 71,
    "start_time": "2022-10-06T09:10:44.069Z"
   },
   {
    "duration": 31,
    "start_time": "2022-10-06T09:10:44.143Z"
   },
   {
    "duration": 502,
    "start_time": "2022-10-06T09:10:44.176Z"
   },
   {
    "duration": 830,
    "start_time": "2022-10-06T09:10:44.682Z"
   },
   {
    "duration": 751,
    "start_time": "2022-10-06T09:10:45.523Z"
   },
   {
    "duration": 613,
    "start_time": "2022-10-06T09:10:46.276Z"
   },
   {
    "duration": 513,
    "start_time": "2022-10-06T09:10:46.899Z"
   },
   {
    "duration": 965,
    "start_time": "2022-10-06T09:10:47.414Z"
   },
   {
    "duration": 835,
    "start_time": "2022-10-06T09:10:48.381Z"
   },
   {
    "duration": 363,
    "start_time": "2022-10-06T09:10:49.218Z"
   },
   {
    "duration": 974,
    "start_time": "2022-10-06T09:10:49.583Z"
   },
   {
    "duration": 869,
    "start_time": "2022-10-06T09:10:50.559Z"
   },
   {
    "duration": 59,
    "start_time": "2022-10-06T09:10:51.431Z"
   },
   {
    "duration": 52,
    "start_time": "2022-10-06T09:10:51.501Z"
   },
   {
    "duration": 17,
    "start_time": "2022-10-06T09:10:51.555Z"
   },
   {
    "duration": 48,
    "start_time": "2022-10-06T09:10:51.575Z"
   },
   {
    "duration": 17,
    "start_time": "2022-10-06T09:10:51.625Z"
   },
   {
    "duration": 147421,
    "start_time": "2022-10-06T09:13:08.394Z"
   },
   {
    "duration": 29997,
    "start_time": "2022-10-06T09:19:21.266Z"
   },
   {
    "duration": 4,
    "start_time": "2022-10-06T09:23:29.533Z"
   },
   {
    "duration": 30684,
    "start_time": "2022-10-06T09:23:32.197Z"
   },
   {
    "duration": 7513,
    "start_time": "2022-10-06T09:26:16.839Z"
   },
   {
    "duration": 7824,
    "start_time": "2022-10-06T09:27:14.545Z"
   },
   {
    "duration": 30232,
    "start_time": "2022-10-06T09:30:05.155Z"
   },
   {
    "duration": 16736,
    "start_time": "2022-10-06T09:31:04.326Z"
   },
   {
    "duration": 1406,
    "start_time": "2022-10-06T09:31:29.787Z"
   },
   {
    "duration": 719,
    "start_time": "2022-10-06T09:31:31.197Z"
   },
   {
    "duration": 17,
    "start_time": "2022-10-06T09:31:31.917Z"
   },
   {
    "duration": 16,
    "start_time": "2022-10-06T09:31:31.936Z"
   },
   {
    "duration": 7,
    "start_time": "2022-10-06T09:31:31.954Z"
   },
   {
    "duration": 17,
    "start_time": "2022-10-06T09:31:31.963Z"
   },
   {
    "duration": 52,
    "start_time": "2022-10-06T09:31:31.982Z"
   },
   {
    "duration": 18,
    "start_time": "2022-10-06T09:31:32.037Z"
   },
   {
    "duration": 367,
    "start_time": "2022-10-06T09:31:32.057Z"
   },
   {
    "duration": 758,
    "start_time": "2022-10-06T09:31:32.427Z"
   },
   {
    "duration": 509,
    "start_time": "2022-10-06T09:31:33.189Z"
   },
   {
    "duration": 569,
    "start_time": "2022-10-06T09:31:33.704Z"
   },
   {
    "duration": 695,
    "start_time": "2022-10-06T09:31:34.275Z"
   },
   {
    "duration": 1333,
    "start_time": "2022-10-06T09:31:34.974Z"
   },
   {
    "duration": 738,
    "start_time": "2022-10-06T09:31:36.309Z"
   },
   {
    "duration": 334,
    "start_time": "2022-10-06T09:31:37.049Z"
   },
   {
    "duration": 864,
    "start_time": "2022-10-06T09:31:37.385Z"
   },
   {
    "duration": 1059,
    "start_time": "2022-10-06T09:31:38.251Z"
   },
   {
    "duration": 54,
    "start_time": "2022-10-06T09:31:39.320Z"
   },
   {
    "duration": 55,
    "start_time": "2022-10-06T09:31:39.376Z"
   },
   {
    "duration": 22,
    "start_time": "2022-10-06T09:31:39.433Z"
   },
   {
    "duration": 54,
    "start_time": "2022-10-06T09:31:39.458Z"
   },
   {
    "duration": 18,
    "start_time": "2022-10-06T09:31:39.514Z"
   },
   {
    "duration": 32236,
    "start_time": "2022-10-06T09:31:39.535Z"
   },
   {
    "duration": 30233,
    "start_time": "2022-10-06T09:34:13.525Z"
   },
   {
    "duration": 30277,
    "start_time": "2022-10-06T09:35:21.676Z"
   },
   {
    "duration": 6,
    "start_time": "2022-10-06T09:46:11.455Z"
   },
   {
    "duration": 181,
    "start_time": "2022-10-06T09:46:12.704Z"
   },
   {
    "duration": 4,
    "start_time": "2022-10-06T09:46:22.591Z"
   },
   {
    "duration": 6,
    "start_time": "2022-10-06T09:46:31.127Z"
   },
   {
    "duration": 30185,
    "start_time": "2022-10-06T09:46:39.559Z"
   },
   {
    "duration": 7,
    "start_time": "2022-10-06T09:52:02.572Z"
   },
   {
    "duration": 30268,
    "start_time": "2022-10-06T09:52:04.891Z"
   },
   {
    "duration": 1227,
    "start_time": "2022-10-06T09:52:49.662Z"
   },
   {
    "duration": 775,
    "start_time": "2022-10-06T09:52:50.891Z"
   },
   {
    "duration": 16,
    "start_time": "2022-10-06T09:52:51.667Z"
   },
   {
    "duration": 4,
    "start_time": "2022-10-06T09:52:51.684Z"
   },
   {
    "duration": 25,
    "start_time": "2022-10-06T09:52:51.702Z"
   },
   {
    "duration": 15,
    "start_time": "2022-10-06T09:52:51.729Z"
   },
   {
    "duration": 33,
    "start_time": "2022-10-06T09:52:51.746Z"
   },
   {
    "duration": 11,
    "start_time": "2022-10-06T09:52:51.780Z"
   },
   {
    "duration": 330,
    "start_time": "2022-10-06T09:52:51.800Z"
   },
   {
    "duration": 597,
    "start_time": "2022-10-06T09:52:52.132Z"
   },
   {
    "duration": 505,
    "start_time": "2022-10-06T09:52:52.730Z"
   },
   {
    "duration": 494,
    "start_time": "2022-10-06T09:52:53.237Z"
   },
   {
    "duration": 546,
    "start_time": "2022-10-06T09:52:53.733Z"
   },
   {
    "duration": 1086,
    "start_time": "2022-10-06T09:52:54.284Z"
   },
   {
    "duration": 624,
    "start_time": "2022-10-06T09:52:55.371Z"
   },
   {
    "duration": 331,
    "start_time": "2022-10-06T09:52:56.001Z"
   },
   {
    "duration": 863,
    "start_time": "2022-10-06T09:52:56.334Z"
   },
   {
    "duration": 944,
    "start_time": "2022-10-06T09:52:57.200Z"
   },
   {
    "duration": 40,
    "start_time": "2022-10-06T09:52:58.146Z"
   },
   {
    "duration": 40,
    "start_time": "2022-10-06T09:52:58.200Z"
   },
   {
    "duration": 12,
    "start_time": "2022-10-06T09:52:58.242Z"
   },
   {
    "duration": 23,
    "start_time": "2022-10-06T09:52:58.256Z"
   },
   {
    "duration": 28,
    "start_time": "2022-10-06T09:52:58.280Z"
   },
   {
    "duration": 467,
    "start_time": "2022-10-06T09:52:58.313Z"
   },
   {
    "duration": 30798,
    "start_time": "2022-10-06T09:53:02.043Z"
   },
   {
    "duration": 30343,
    "start_time": "2022-10-06T09:54:18.711Z"
   },
   {
    "duration": 85794,
    "start_time": "2022-10-06T09:57:20.120Z"
   },
   {
    "duration": 141695,
    "start_time": "2022-10-06T09:59:41.188Z"
   },
   {
    "duration": 4,
    "start_time": "2022-10-06T10:05:36.052Z"
   },
   {
    "duration": 63102,
    "start_time": "2022-10-06T10:07:24.471Z"
   },
   {
    "duration": 1430,
    "start_time": "2022-10-06T10:08:41.086Z"
   },
   {
    "duration": 711,
    "start_time": "2022-10-06T10:08:42.519Z"
   },
   {
    "duration": 17,
    "start_time": "2022-10-06T10:08:43.232Z"
   },
   {
    "duration": 5,
    "start_time": "2022-10-06T10:08:43.251Z"
   },
   {
    "duration": 11,
    "start_time": "2022-10-06T10:08:43.257Z"
   },
   {
    "duration": 42,
    "start_time": "2022-10-06T10:08:43.270Z"
   },
   {
    "duration": 33,
    "start_time": "2022-10-06T10:08:43.315Z"
   },
   {
    "duration": 10,
    "start_time": "2022-10-06T10:08:43.350Z"
   },
   {
    "duration": 369,
    "start_time": "2022-10-06T10:08:43.362Z"
   },
   {
    "duration": 688,
    "start_time": "2022-10-06T10:08:43.734Z"
   },
   {
    "duration": 628,
    "start_time": "2022-10-06T10:08:44.425Z"
   },
   {
    "duration": 539,
    "start_time": "2022-10-06T10:08:45.055Z"
   },
   {
    "duration": 525,
    "start_time": "2022-10-06T10:08:45.596Z"
   },
   {
    "duration": 963,
    "start_time": "2022-10-06T10:08:46.123Z"
   },
   {
    "duration": 650,
    "start_time": "2022-10-06T10:08:47.088Z"
   },
   {
    "duration": 386,
    "start_time": "2022-10-06T10:08:47.740Z"
   },
   {
    "duration": 813,
    "start_time": "2022-10-06T10:08:48.128Z"
   },
   {
    "duration": 929,
    "start_time": "2022-10-06T10:08:48.943Z"
   },
   {
    "duration": 64,
    "start_time": "2022-10-06T10:08:49.875Z"
   },
   {
    "duration": 36,
    "start_time": "2022-10-06T10:08:49.941Z"
   },
   {
    "duration": 31,
    "start_time": "2022-10-06T10:08:49.979Z"
   },
   {
    "duration": 28,
    "start_time": "2022-10-06T10:08:50.012Z"
   },
   {
    "duration": 5,
    "start_time": "2022-10-06T10:08:50.042Z"
   },
   {
    "duration": 15,
    "start_time": "2022-10-06T10:08:50.049Z"
   },
   {
    "duration": 138480,
    "start_time": "2022-10-06T10:08:50.067Z"
   },
   {
    "duration": 1580373,
    "start_time": "2022-10-06T10:11:08.548Z"
   },
   {
    "duration": 76766,
    "start_time": "2022-10-06T10:37:59.755Z"
   },
   {
    "duration": 366932,
    "start_time": "2022-10-06T10:39:42.817Z"
   },
   {
    "duration": 12,
    "start_time": "2022-10-06T10:49:06.690Z"
   },
   {
    "duration": 934,
    "start_time": "2022-10-06T10:49:14.578Z"
   },
   {
    "duration": 1553,
    "start_time": "2022-10-06T10:49:24.953Z"
   },
   {
    "duration": 11,
    "start_time": "2022-10-06T10:51:08.252Z"
   },
   {
    "duration": 339021,
    "start_time": "2022-10-06T10:54:15.799Z"
   },
   {
    "duration": 4,
    "start_time": "2022-10-06T10:59:54.822Z"
   },
   {
    "duration": 1322,
    "start_time": "2022-10-06T11:00:16.346Z"
   },
   {
    "duration": 686,
    "start_time": "2022-10-06T11:00:17.670Z"
   },
   {
    "duration": 16,
    "start_time": "2022-10-06T11:00:18.358Z"
   },
   {
    "duration": 9,
    "start_time": "2022-10-06T11:00:18.375Z"
   },
   {
    "duration": 27,
    "start_time": "2022-10-06T11:00:18.386Z"
   },
   {
    "duration": 30,
    "start_time": "2022-10-06T11:00:18.415Z"
   },
   {
    "duration": 32,
    "start_time": "2022-10-06T11:00:18.447Z"
   },
   {
    "duration": 10,
    "start_time": "2022-10-06T11:00:18.481Z"
   },
   {
    "duration": 324,
    "start_time": "2022-10-06T11:00:18.492Z"
   },
   {
    "duration": 558,
    "start_time": "2022-10-06T11:00:18.818Z"
   },
   {
    "duration": 490,
    "start_time": "2022-10-06T11:00:19.378Z"
   },
   {
    "duration": 493,
    "start_time": "2022-10-06T11:00:19.870Z"
   },
   {
    "duration": 504,
    "start_time": "2022-10-06T11:00:20.365Z"
   },
   {
    "duration": 954,
    "start_time": "2022-10-06T11:00:20.873Z"
   },
   {
    "duration": 589,
    "start_time": "2022-10-06T11:00:21.829Z"
   },
   {
    "duration": 324,
    "start_time": "2022-10-06T11:00:22.420Z"
   },
   {
    "duration": 785,
    "start_time": "2022-10-06T11:00:22.745Z"
   },
   {
    "duration": 890,
    "start_time": "2022-10-06T11:00:23.532Z"
   },
   {
    "duration": 57,
    "start_time": "2022-10-06T11:00:24.424Z"
   },
   {
    "duration": 49,
    "start_time": "2022-10-06T11:00:24.483Z"
   },
   {
    "duration": 14,
    "start_time": "2022-10-06T11:00:24.535Z"
   },
   {
    "duration": 33,
    "start_time": "2022-10-06T11:00:24.551Z"
   },
   {
    "duration": 29,
    "start_time": "2022-10-06T11:00:24.587Z"
   },
   {
    "duration": 18,
    "start_time": "2022-10-06T11:00:24.623Z"
   },
   {
    "duration": 71658,
    "start_time": "2022-10-06T11:00:24.644Z"
   },
   {
    "duration": 659517,
    "start_time": "2022-10-06T11:01:36.306Z"
   },
   {
    "duration": 1985,
    "start_time": "2022-10-06T11:12:35.824Z"
   },
   {
    "duration": 1281,
    "start_time": "2022-10-06T11:12:41.152Z"
   },
   {
    "duration": 746,
    "start_time": "2022-10-06T11:12:42.435Z"
   },
   {
    "duration": 32,
    "start_time": "2022-10-06T11:12:43.182Z"
   },
   {
    "duration": 5,
    "start_time": "2022-10-06T11:12:43.217Z"
   },
   {
    "duration": 11,
    "start_time": "2022-10-06T11:12:43.224Z"
   },
   {
    "duration": 19,
    "start_time": "2022-10-06T11:12:43.236Z"
   },
   {
    "duration": 50,
    "start_time": "2022-10-06T11:12:43.257Z"
   },
   {
    "duration": 14,
    "start_time": "2022-10-06T11:12:43.309Z"
   },
   {
    "duration": 337,
    "start_time": "2022-10-06T11:12:43.324Z"
   },
   {
    "duration": 624,
    "start_time": "2022-10-06T11:12:43.663Z"
   },
   {
    "duration": 574,
    "start_time": "2022-10-06T11:12:44.289Z"
   },
   {
    "duration": 508,
    "start_time": "2022-10-06T11:12:44.865Z"
   },
   {
    "duration": 519,
    "start_time": "2022-10-06T11:12:45.375Z"
   },
   {
    "duration": 956,
    "start_time": "2022-10-06T11:12:45.896Z"
   },
   {
    "duration": 600,
    "start_time": "2022-10-06T11:12:46.854Z"
   },
   {
    "duration": 322,
    "start_time": "2022-10-06T11:12:47.455Z"
   },
   {
    "duration": 786,
    "start_time": "2022-10-06T11:12:47.779Z"
   },
   {
    "duration": 1025,
    "start_time": "2022-10-06T11:12:48.568Z"
   },
   {
    "duration": 50,
    "start_time": "2022-10-06T11:12:49.595Z"
   },
   {
    "duration": 33,
    "start_time": "2022-10-06T11:12:49.647Z"
   },
   {
    "duration": 22,
    "start_time": "2022-10-06T11:12:49.700Z"
   },
   {
    "duration": 42,
    "start_time": "2022-10-06T11:12:49.724Z"
   },
   {
    "duration": 5,
    "start_time": "2022-10-06T11:12:49.769Z"
   },
   {
    "duration": 17,
    "start_time": "2022-10-06T11:12:49.775Z"
   },
   {
    "duration": 23700,
    "start_time": "2022-10-06T11:12:49.793Z"
   },
   {
    "duration": 691103,
    "start_time": "2022-10-06T11:13:13.500Z"
   },
   {
    "duration": 1605,
    "start_time": "2022-10-06T11:24:44.611Z"
   },
   {
    "duration": 9022,
    "start_time": "2022-10-06T11:26:26.715Z"
   },
   {
    "duration": 689548,
    "start_time": "2022-10-06T11:26:44.016Z"
   },
   {
    "duration": 45,
    "start_time": "2022-10-06T11:40:36.104Z"
   },
   {
    "duration": 69295,
    "start_time": "2022-10-06T11:41:08.334Z"
   },
   {
    "duration": 1385,
    "start_time": "2022-10-06T11:43:04.179Z"
   },
   {
    "duration": 652,
    "start_time": "2022-10-06T11:43:05.566Z"
   },
   {
    "duration": 15,
    "start_time": "2022-10-06T11:43:06.220Z"
   },
   {
    "duration": 5,
    "start_time": "2022-10-06T11:43:06.236Z"
   },
   {
    "duration": 8,
    "start_time": "2022-10-06T11:43:06.243Z"
   },
   {
    "duration": 14,
    "start_time": "2022-10-06T11:43:06.252Z"
   },
   {
    "duration": 56,
    "start_time": "2022-10-06T11:43:06.267Z"
   },
   {
    "duration": 10,
    "start_time": "2022-10-06T11:43:06.324Z"
   },
   {
    "duration": 305,
    "start_time": "2022-10-06T11:43:06.336Z"
   },
   {
    "duration": 547,
    "start_time": "2022-10-06T11:43:06.642Z"
   },
   {
    "duration": 514,
    "start_time": "2022-10-06T11:43:07.191Z"
   },
   {
    "duration": 532,
    "start_time": "2022-10-06T11:43:07.707Z"
   },
   {
    "duration": 534,
    "start_time": "2022-10-06T11:43:08.241Z"
   },
   {
    "duration": 939,
    "start_time": "2022-10-06T11:43:08.777Z"
   },
   {
    "duration": 577,
    "start_time": "2022-10-06T11:43:09.717Z"
   },
   {
    "duration": 323,
    "start_time": "2022-10-06T11:43:10.295Z"
   },
   {
    "duration": 743,
    "start_time": "2022-10-06T11:43:10.620Z"
   },
   {
    "duration": 829,
    "start_time": "2022-10-06T11:43:11.364Z"
   },
   {
    "duration": 40,
    "start_time": "2022-10-06T11:43:12.201Z"
   },
   {
    "duration": 29,
    "start_time": "2022-10-06T11:43:12.243Z"
   },
   {
    "duration": 30,
    "start_time": "2022-10-06T11:43:12.273Z"
   },
   {
    "duration": 23,
    "start_time": "2022-10-06T11:43:12.304Z"
   },
   {
    "duration": 5,
    "start_time": "2022-10-06T11:43:12.329Z"
   },
   {
    "duration": 22,
    "start_time": "2022-10-06T11:43:12.335Z"
   },
   {
    "duration": 42534,
    "start_time": "2022-10-06T11:43:12.358Z"
   },
   {
    "duration": 434218,
    "start_time": "2022-10-06T11:43:54.894Z"
   },
   {
    "duration": 1787,
    "start_time": "2022-10-06T11:51:09.114Z"
   },
   {
    "duration": 151,
    "start_time": "2022-10-06T11:51:10.904Z"
   },
   {
    "duration": 243161,
    "start_time": "2022-10-06T11:53:16.489Z"
   },
   {
    "duration": 436256,
    "start_time": "2022-10-06T11:59:11.753Z"
   },
   {
    "duration": 5,
    "start_time": "2022-10-06T12:06:28.010Z"
   },
   {
    "duration": 20,
    "start_time": "2022-10-06T12:06:28.016Z"
   },
   {
    "duration": 4,
    "start_time": "2022-10-06T12:11:35.682Z"
   },
   {
    "duration": 1318,
    "start_time": "2022-10-06T12:50:24.871Z"
   },
   {
    "duration": 650,
    "start_time": "2022-10-06T12:50:26.191Z"
   },
   {
    "duration": 15,
    "start_time": "2022-10-06T12:50:26.842Z"
   },
   {
    "duration": 5,
    "start_time": "2022-10-06T12:50:26.859Z"
   },
   {
    "duration": 27,
    "start_time": "2022-10-06T12:50:26.866Z"
   },
   {
    "duration": 30,
    "start_time": "2022-10-06T12:50:26.895Z"
   },
   {
    "duration": 42,
    "start_time": "2022-10-06T12:50:26.927Z"
   },
   {
    "duration": 13,
    "start_time": "2022-10-06T12:50:26.970Z"
   },
   {
    "duration": 305,
    "start_time": "2022-10-06T12:50:26.984Z"
   },
   {
    "duration": 545,
    "start_time": "2022-10-06T12:50:27.291Z"
   },
   {
    "duration": 485,
    "start_time": "2022-10-06T12:50:27.838Z"
   },
   {
    "duration": 480,
    "start_time": "2022-10-06T12:50:28.325Z"
   },
   {
    "duration": 491,
    "start_time": "2022-10-06T12:50:28.806Z"
   },
   {
    "duration": 905,
    "start_time": "2022-10-06T12:50:29.299Z"
   },
   {
    "duration": 611,
    "start_time": "2022-10-06T12:50:30.206Z"
   },
   {
    "duration": 353,
    "start_time": "2022-10-06T12:50:30.819Z"
   },
   {
    "duration": 765,
    "start_time": "2022-10-06T12:50:31.174Z"
   },
   {
    "duration": 805,
    "start_time": "2022-10-06T12:50:31.941Z"
   },
   {
    "duration": 39,
    "start_time": "2022-10-06T12:50:32.747Z"
   },
   {
    "duration": 42,
    "start_time": "2022-10-06T12:50:32.788Z"
   },
   {
    "duration": 22,
    "start_time": "2022-10-06T12:50:32.832Z"
   },
   {
    "duration": 42,
    "start_time": "2022-10-06T12:50:32.855Z"
   },
   {
    "duration": 5,
    "start_time": "2022-10-06T12:50:32.899Z"
   },
   {
    "duration": 20,
    "start_time": "2022-10-06T12:50:32.905Z"
   },
   {
    "duration": 42963,
    "start_time": "2022-10-06T12:50:32.927Z"
   },
   {
    "duration": 437934,
    "start_time": "2022-10-06T12:51:15.892Z"
   },
   {
    "duration": 1581,
    "start_time": "2022-10-06T12:58:33.827Z"
   },
   {
    "duration": 137,
    "start_time": "2022-10-06T12:58:35.414Z"
   },
   {
    "duration": 7,
    "start_time": "2022-10-06T12:58:35.553Z"
   },
   {
    "duration": 5,
    "start_time": "2022-10-06T20:32:27.326Z"
   },
   {
    "duration": 5,
    "start_time": "2022-10-06T20:32:34.838Z"
   },
   {
    "duration": 1347,
    "start_time": "2022-10-07T06:26:14.978Z"
   },
   {
    "duration": 1775,
    "start_time": "2022-10-07T06:26:16.327Z"
   },
   {
    "duration": 16,
    "start_time": "2022-10-07T06:26:18.107Z"
   },
   {
    "duration": 5,
    "start_time": "2022-10-07T06:26:18.124Z"
   },
   {
    "duration": 21,
    "start_time": "2022-10-07T06:26:18.131Z"
   },
   {
    "duration": 21,
    "start_time": "2022-10-07T06:26:18.154Z"
   },
   {
    "duration": 29,
    "start_time": "2022-10-07T06:26:18.177Z"
   },
   {
    "duration": 14,
    "start_time": "2022-10-07T06:26:18.208Z"
   },
   {
    "duration": 286,
    "start_time": "2022-10-07T06:26:18.225Z"
   },
   {
    "duration": 484,
    "start_time": "2022-10-07T06:26:18.513Z"
   },
   {
    "duration": 422,
    "start_time": "2022-10-07T06:26:18.999Z"
   },
   {
    "duration": 428,
    "start_time": "2022-10-07T06:26:19.423Z"
   },
   {
    "duration": 424,
    "start_time": "2022-10-07T06:26:19.852Z"
   },
   {
    "duration": 843,
    "start_time": "2022-10-07T06:26:20.278Z"
   },
   {
    "duration": 554,
    "start_time": "2022-10-07T06:26:21.123Z"
   },
   {
    "duration": 302,
    "start_time": "2022-10-07T06:26:21.678Z"
   },
   {
    "duration": 685,
    "start_time": "2022-10-07T06:26:21.982Z"
   },
   {
    "duration": 777,
    "start_time": "2022-10-07T06:26:22.669Z"
   },
   {
    "duration": 37,
    "start_time": "2022-10-07T06:26:23.447Z"
   },
   {
    "duration": 43,
    "start_time": "2022-10-07T06:26:23.485Z"
   },
   {
    "duration": 12,
    "start_time": "2022-10-07T06:26:23.530Z"
   },
   {
    "duration": 21,
    "start_time": "2022-10-07T06:26:23.544Z"
   },
   {
    "duration": 20,
    "start_time": "2022-10-07T06:26:23.566Z"
   },
   {
    "duration": 32,
    "start_time": "2022-10-07T06:26:23.587Z"
   },
   {
    "duration": 40985,
    "start_time": "2022-10-07T06:26:23.620Z"
   },
   {
    "duration": 502988,
    "start_time": "2022-10-07T06:27:04.607Z"
   },
   {
    "duration": 1229,
    "start_time": "2022-10-07T06:35:27.597Z"
   },
   {
    "duration": 137,
    "start_time": "2022-10-07T06:35:28.828Z"
   },
   {
    "duration": 9,
    "start_time": "2022-10-07T06:35:28.967Z"
   },
   {
    "duration": 1505778,
    "start_time": "2022-10-07T06:45:18.122Z"
   },
   {
    "duration": 1521228,
    "start_time": "2022-10-07T07:14:07.371Z"
   },
   {
    "duration": 819661,
    "start_time": "2022-10-07T07:39:55.146Z"
   },
   {
    "duration": 56007,
    "start_time": "2022-10-07T07:54:53.906Z"
   },
   {
    "duration": 4,
    "start_time": "2022-10-07T08:07:30.661Z"
   },
   {
    "duration": 1289,
    "start_time": "2022-10-07T08:08:11.498Z"
   },
   {
    "duration": 612,
    "start_time": "2022-10-07T08:08:12.789Z"
   },
   {
    "duration": 22,
    "start_time": "2022-10-07T08:08:13.403Z"
   },
   {
    "duration": 4,
    "start_time": "2022-10-07T08:08:13.427Z"
   },
   {
    "duration": 8,
    "start_time": "2022-10-07T08:08:13.433Z"
   },
   {
    "duration": 16,
    "start_time": "2022-10-07T08:08:13.442Z"
   },
   {
    "duration": 35,
    "start_time": "2022-10-07T08:08:13.460Z"
   },
   {
    "duration": 28,
    "start_time": "2022-10-07T08:08:13.497Z"
   },
   {
    "duration": 302,
    "start_time": "2022-10-07T08:08:13.527Z"
   },
   {
    "duration": 528,
    "start_time": "2022-10-07T08:08:13.831Z"
   },
   {
    "duration": 452,
    "start_time": "2022-10-07T08:08:14.361Z"
   },
   {
    "duration": 450,
    "start_time": "2022-10-07T08:08:14.815Z"
   },
   {
    "duration": 466,
    "start_time": "2022-10-07T08:08:15.266Z"
   },
   {
    "duration": 940,
    "start_time": "2022-10-07T08:08:15.734Z"
   },
   {
    "duration": 556,
    "start_time": "2022-10-07T08:08:16.675Z"
   },
   {
    "duration": 318,
    "start_time": "2022-10-07T08:08:17.232Z"
   },
   {
    "duration": 733,
    "start_time": "2022-10-07T08:08:17.552Z"
   },
   {
    "duration": 822,
    "start_time": "2022-10-07T08:08:18.287Z"
   },
   {
    "duration": 47,
    "start_time": "2022-10-07T08:08:19.111Z"
   },
   {
    "duration": 31,
    "start_time": "2022-10-07T08:08:19.159Z"
   },
   {
    "duration": 34,
    "start_time": "2022-10-07T08:08:19.192Z"
   },
   {
    "duration": 6,
    "start_time": "2022-10-07T08:08:19.228Z"
   },
   {
    "duration": 10,
    "start_time": "2022-10-07T08:08:19.236Z"
   },
   {
    "duration": 54889,
    "start_time": "2022-10-07T08:08:19.248Z"
   },
   {
    "duration": 1996334,
    "start_time": "2022-10-07T08:09:14.138Z"
   },
   {
    "duration": 1351,
    "start_time": "2022-10-07T08:42:30.473Z"
   },
   {
    "duration": 129,
    "start_time": "2022-10-07T08:42:31.825Z"
   },
   {
    "duration": 10,
    "start_time": "2022-10-07T08:42:31.956Z"
   },
   {
    "duration": 1233,
    "start_time": "2022-10-07T08:45:34.383Z"
   },
   {
    "duration": 666,
    "start_time": "2022-10-07T08:45:35.618Z"
   },
   {
    "duration": 16,
    "start_time": "2022-10-07T08:45:36.285Z"
   },
   {
    "duration": 5,
    "start_time": "2022-10-07T08:45:36.302Z"
   },
   {
    "duration": 20,
    "start_time": "2022-10-07T08:45:36.308Z"
   },
   {
    "duration": 18,
    "start_time": "2022-10-07T08:45:36.330Z"
   },
   {
    "duration": 31,
    "start_time": "2022-10-07T08:45:36.349Z"
   },
   {
    "duration": 11,
    "start_time": "2022-10-07T08:45:36.382Z"
   },
   {
    "duration": 310,
    "start_time": "2022-10-07T08:45:36.395Z"
   },
   {
    "duration": 502,
    "start_time": "2022-10-07T08:45:36.707Z"
   },
   {
    "duration": 425,
    "start_time": "2022-10-07T08:45:37.211Z"
   },
   {
    "duration": 452,
    "start_time": "2022-10-07T08:45:37.637Z"
   },
   {
    "duration": 458,
    "start_time": "2022-10-07T08:45:38.090Z"
   },
   {
    "duration": 908,
    "start_time": "2022-10-07T08:45:38.550Z"
   },
   {
    "duration": 522,
    "start_time": "2022-10-07T08:45:39.459Z"
   },
   {
    "duration": 296,
    "start_time": "2022-10-07T08:45:39.982Z"
   },
   {
    "duration": 667,
    "start_time": "2022-10-07T08:45:40.280Z"
   },
   {
    "duration": 810,
    "start_time": "2022-10-07T08:45:40.949Z"
   },
   {
    "duration": 37,
    "start_time": "2022-10-07T08:45:41.761Z"
   },
   {
    "duration": 43,
    "start_time": "2022-10-07T08:45:41.799Z"
   },
   {
    "duration": 11,
    "start_time": "2022-10-07T08:45:41.843Z"
   },
   {
    "duration": 4,
    "start_time": "2022-10-07T08:45:41.856Z"
   },
   {
    "duration": 10,
    "start_time": "2022-10-07T08:45:41.861Z"
   },
   {
    "duration": 54672,
    "start_time": "2022-10-07T08:45:41.872Z"
   },
   {
    "duration": 511391,
    "start_time": "2022-10-07T08:46:36.546Z"
   },
   {
    "duration": 1390,
    "start_time": "2022-10-07T08:55:07.938Z"
   },
   {
    "duration": 216,
    "start_time": "2022-10-07T08:55:09.330Z"
   },
   {
    "duration": 11,
    "start_time": "2022-10-07T08:55:09.549Z"
   }
  ],
  "kernelspec": {
   "display_name": "Python 3 (ipykernel)",
   "language": "python",
   "name": "python3"
  },
  "language_info": {
   "codemirror_mode": {
    "name": "ipython",
    "version": 3
   },
   "file_extension": ".py",
   "mimetype": "text/x-python",
   "name": "python",
   "nbconvert_exporter": "python",
   "pygments_lexer": "ipython3",
   "version": "3.9.15"
  },
  "toc": {
   "base_numbering": 1,
   "nav_menu": {},
   "number_sections": true,
   "sideBar": true,
   "skip_h1_title": true,
   "title_cell": "Содержание",
   "title_sidebar": "Contents",
   "toc_cell": true,
   "toc_position": {
    "height": "calc(100% - 180px)",
    "left": "10px",
    "top": "150px",
    "width": "193.883px"
   },
   "toc_section_display": true,
   "toc_window_display": true
  }
 },
 "nbformat": 4,
 "nbformat_minor": 2
}
