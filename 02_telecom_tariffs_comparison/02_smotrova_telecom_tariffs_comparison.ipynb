{
 "cells": [
  {
   "cell_type": "markdown",
   "metadata": {},
   "source": [
    "# Исследование прибыльности тарифов сотового оператора\n",
    "\n",
    "## Введение\n",
    "\n",
    "### Цель проекта\n",
    "\n",
    "Цель проекта состоит в сравнении доходности разных тарифов оператора сотовой связи для дальнейшей оптимизации рекламных бюджетов. Необходимо проверить две гипотезы на уровне значимости в 5%:\n",
    "\n",
    "- средняя выручка с пользователей тарифов «Ультра» и «Смарт» различается;\n",
    "- средняя выручка с пользователей из Москвы отличается от выручки с пользователей других регионов.\n",
    "\n",
    "Для реализации поставленной задачи следует:\n",
    "- Проанализировать данные на предмет их полноты. По необходимости устанить проблемы в данных (пропуски, дубликаты, аномалии и т.п.);\n",
    "- По необходимости подготовить признаки для исследования (агрегировать данные, расчитать средние значения и т.п.);\n",
    "- Сравнить пользователей разных тарифов по основным поведенческим характеристикам;\n",
    "- Сформулировать гипотезы для проверки и провести статистические тесты.\n",
    "\n",
    "### Общий контекст\n",
    "\n",
    "Оператор \"Мегалайн\" предлагает два тарифа: \"Смарт\" и \"Ультра\".  Основные характеристики тарифов:\n",
    "\n",
    "| Характеристика | \"Смарт\" | \"Ультра\" |\n",
    "| :---------------------- | :---------------------- | :---------------------- |\n",
    "|Ежемесячная плата, руб.|550|1950|\n",
    "|**Включено в пакет:**|||\n",
    "|Минуты|500|3000|\n",
    "|SMS|50|1000|\n",
    "|Интернет, ГБ|15|30|\n",
    "|**Стоимость сверх пакета, руб:**|||\n",
    "|1 минута|3|1|\n",
    "|1 SMS|3|1|\n",
    "|1 ГБ|200|150|\n",
    "\n",
    "Для анализа доступна выборка по 500 клиентам за 2018 г. Данные предоставлены в виде пяти файлов:\n",
    "- Информация о пользователях;\n",
    "- Данные о звонках, смс и использовании интернет-трафика (3 файла);\n",
    "- Характеристики тарифов."
   ]
  },
  {
   "cell_type": "code",
   "execution_count": 1,
   "metadata": {
    "deletable": false
   },
   "outputs": [],
   "source": [
    "# Импорты используемых библиотек:\n",
    "import pandas as pd\n",
    "import numpy as np\n",
    "import seaborn as sns\n",
    "import matplotlib.pyplot as plt\n",
    "from scipy import stats as st"
   ]
  },
  {
   "cell_type": "markdown",
   "metadata": {},
   "source": [
    "## Обзор данных"
   ]
  },
  {
   "cell_type": "markdown",
   "metadata": {
    "tags": [
     "start_task"
    ]
   },
   "source": [
    "Загрузим данные, рассмотрим их состав. Начнем с данных по звонкам:"
   ]
  },
  {
   "cell_type": "code",
   "execution_count": 2,
   "metadata": {
    "tags": []
   },
   "outputs": [
    {
     "name": "stdout",
     "output_type": "stream",
     "text": [
      "<class 'pandas.core.frame.DataFrame'>\n",
      "RangeIndex: 202607 entries, 0 to 202606\n",
      "Data columns (total 4 columns):\n",
      " #   Column     Non-Null Count   Dtype  \n",
      "---  ------     --------------   -----  \n",
      " 0   id         202607 non-null  object \n",
      " 1   call_date  202607 non-null  object \n",
      " 2   duration   202607 non-null  float64\n",
      " 3   user_id    202607 non-null  int64  \n",
      "dtypes: float64(1), int64(1), object(2)\n",
      "memory usage: 6.2+ MB\n",
      "None\n"
     ]
    },
    {
     "data": {
      "text/html": [
       "<div>\n",
       "<style scoped>\n",
       "    .dataframe tbody tr th:only-of-type {\n",
       "        vertical-align: middle;\n",
       "    }\n",
       "\n",
       "    .dataframe tbody tr th {\n",
       "        vertical-align: top;\n",
       "    }\n",
       "\n",
       "    .dataframe thead th {\n",
       "        text-align: right;\n",
       "    }\n",
       "</style>\n",
       "<table border=\"1\" class=\"dataframe\">\n",
       "  <thead>\n",
       "    <tr style=\"text-align: right;\">\n",
       "      <th></th>\n",
       "      <th>id</th>\n",
       "      <th>call_date</th>\n",
       "      <th>duration</th>\n",
       "      <th>user_id</th>\n",
       "    </tr>\n",
       "  </thead>\n",
       "  <tbody>\n",
       "    <tr>\n",
       "      <th>0</th>\n",
       "      <td>1000_0</td>\n",
       "      <td>2018-07-25</td>\n",
       "      <td>0.00</td>\n",
       "      <td>1000</td>\n",
       "    </tr>\n",
       "    <tr>\n",
       "      <th>1</th>\n",
       "      <td>1000_1</td>\n",
       "      <td>2018-08-17</td>\n",
       "      <td>0.00</td>\n",
       "      <td>1000</td>\n",
       "    </tr>\n",
       "    <tr>\n",
       "      <th>2</th>\n",
       "      <td>1000_2</td>\n",
       "      <td>2018-06-11</td>\n",
       "      <td>2.85</td>\n",
       "      <td>1000</td>\n",
       "    </tr>\n",
       "    <tr>\n",
       "      <th>3</th>\n",
       "      <td>1000_3</td>\n",
       "      <td>2018-09-21</td>\n",
       "      <td>13.80</td>\n",
       "      <td>1000</td>\n",
       "    </tr>\n",
       "    <tr>\n",
       "      <th>4</th>\n",
       "      <td>1000_4</td>\n",
       "      <td>2018-12-15</td>\n",
       "      <td>5.18</td>\n",
       "      <td>1000</td>\n",
       "    </tr>\n",
       "  </tbody>\n",
       "</table>\n",
       "</div>"
      ],
      "text/plain": [
       "       id   call_date  duration  user_id\n",
       "0  1000_0  2018-07-25      0.00     1000\n",
       "1  1000_1  2018-08-17      0.00     1000\n",
       "2  1000_2  2018-06-11      2.85     1000\n",
       "3  1000_3  2018-09-21     13.80     1000\n",
       "4  1000_4  2018-12-15      5.18     1000"
      ]
     },
     "metadata": {},
     "output_type": "display_data"
    }
   ],
   "source": [
    "# Файл с информацией по звонкам:\n",
    "try:\n",
    "    calls = pd.read_csv('/datasets/calls.csv')\n",
    "except:\n",
    "    calls = pd.read_csv('datasets/telecom_tariffs/calls.csv')\n",
    "\n",
    "print(calls.info())\n",
    "display(calls.head())"
   ]
  },
  {
   "cell_type": "markdown",
   "metadata": {},
   "source": [
    "Файл содержит информацию об id звонка, id клиента, дате звонка и его продолжительности. В файле представлено ок. 200 тыс. наблюдений. Рассмотрим распределение продолжительности звонков:"
   ]
  },
  {
   "cell_type": "code",
   "execution_count": 3,
   "metadata": {
    "tags": []
   },
   "outputs": [
    {
     "data": {
      "image/png": "[encoded data removed]",
      "text/plain": [
       "<Figure size 640x480 with 1 Axes>"
      ]
     },
     "metadata": {},
     "output_type": "display_data"
    }
   ],
   "source": [
    "calls['duration'].hist(bins=35, grid=False)\n",
    "plt.title('Распределение длительности одного звонка');"
   ]
  },
  {
   "cell_type": "markdown",
   "metadata": {},
   "source": [
    "Есть всплеск на распределении на уровне нуля: нулем обозначены пропущенные вызовы. В остальном распределение выглядит нормально.\n",
    "\n",
    "Рассмотрим информацию об использовании Интернет-трафика:"
   ]
  },
  {
   "cell_type": "code",
   "execution_count": 4,
   "metadata": {
    "tags": []
   },
   "outputs": [
    {
     "name": "stdout",
     "output_type": "stream",
     "text": [
      "<class 'pandas.core.frame.DataFrame'>\n",
      "RangeIndex: 149396 entries, 0 to 149395\n",
      "Data columns (total 5 columns):\n",
      " #   Column        Non-Null Count   Dtype  \n",
      "---  ------        --------------   -----  \n",
      " 0   Unnamed: 0    149396 non-null  int64  \n",
      " 1   id            149396 non-null  object \n",
      " 2   mb_used       149396 non-null  float64\n",
      " 3   session_date  149396 non-null  object \n",
      " 4   user_id       149396 non-null  int64  \n",
      "dtypes: float64(1), int64(2), object(2)\n",
      "memory usage: 5.7+ MB\n",
      "None\n"
     ]
    },
    {
     "data": {
      "text/html": [
       "<div>\n",
       "<style scoped>\n",
       "    .dataframe tbody tr th:only-of-type {\n",
       "        vertical-align: middle;\n",
       "    }\n",
       "\n",
       "    .dataframe tbody tr th {\n",
       "        vertical-align: top;\n",
       "    }\n",
       "\n",
       "    .dataframe thead th {\n",
       "        text-align: right;\n",
       "    }\n",
       "</style>\n",
       "<table border=\"1\" class=\"dataframe\">\n",
       "  <thead>\n",
       "    <tr style=\"text-align: right;\">\n",
       "      <th></th>\n",
       "      <th>Unnamed: 0</th>\n",
       "      <th>id</th>\n",
       "      <th>mb_used</th>\n",
       "      <th>session_date</th>\n",
       "      <th>user_id</th>\n",
       "    </tr>\n",
       "  </thead>\n",
       "  <tbody>\n",
       "    <tr>\n",
       "      <th>0</th>\n",
       "      <td>0</td>\n",
       "      <td>1000_0</td>\n",
       "      <td>112.95</td>\n",
       "      <td>2018-11-25</td>\n",
       "      <td>1000</td>\n",
       "    </tr>\n",
       "    <tr>\n",
       "      <th>1</th>\n",
       "      <td>1</td>\n",
       "      <td>1000_1</td>\n",
       "      <td>1052.81</td>\n",
       "      <td>2018-09-07</td>\n",
       "      <td>1000</td>\n",
       "    </tr>\n",
       "    <tr>\n",
       "      <th>2</th>\n",
       "      <td>2</td>\n",
       "      <td>1000_2</td>\n",
       "      <td>1197.26</td>\n",
       "      <td>2018-06-25</td>\n",
       "      <td>1000</td>\n",
       "    </tr>\n",
       "    <tr>\n",
       "      <th>3</th>\n",
       "      <td>3</td>\n",
       "      <td>1000_3</td>\n",
       "      <td>550.27</td>\n",
       "      <td>2018-08-22</td>\n",
       "      <td>1000</td>\n",
       "    </tr>\n",
       "    <tr>\n",
       "      <th>4</th>\n",
       "      <td>4</td>\n",
       "      <td>1000_4</td>\n",
       "      <td>302.56</td>\n",
       "      <td>2018-09-24</td>\n",
       "      <td>1000</td>\n",
       "    </tr>\n",
       "  </tbody>\n",
       "</table>\n",
       "</div>"
      ],
      "text/plain": [
       "   Unnamed: 0      id  mb_used session_date  user_id\n",
       "0           0  1000_0   112.95   2018-11-25     1000\n",
       "1           1  1000_1  1052.81   2018-09-07     1000\n",
       "2           2  1000_2  1197.26   2018-06-25     1000\n",
       "3           3  1000_3   550.27   2018-08-22     1000\n",
       "4           4  1000_4   302.56   2018-09-24     1000"
      ]
     },
     "metadata": {},
     "output_type": "display_data"
    }
   ],
   "source": [
    "# Файл с информацией по трафику:\n",
    "try:\n",
    "    sessions = pd.read_csv('/datasets/internet.csv')\n",
    "except:\n",
    "    sessions = pd.read_csv('datasets/telecom_tariffs/internet.csv')\n",
    "\n",
    "print(sessions.info())\n",
    "display(sessions.head())"
   ]
  },
  {
   "cell_type": "markdown",
   "metadata": {},
   "source": [
    "Имеется ок. 150 тыс. наблюдений. Файл имеет ту же структуру, что и данные о звонках: вместо длительности разговора указан использованный за сессию трафик в МБ. Также есть столбец, дублирующий индекс (`Unnamed: 0`). Рассмотрим распределение использованных мегабайт за сессию:"
   ]
  },
  {
   "cell_type": "code",
   "execution_count": 5,
   "metadata": {
    "tags": []
   },
   "outputs": [
    {
     "data": {
      "image/png": "[encoded data removed]",
      "text/plain": [
       "<Figure size 640x480 with 1 Axes>"
      ]
     },
     "metadata": {},
     "output_type": "display_data"
    }
   ],
   "source": [
    "# Распределение трафика:\n",
    "sessions['mb_used'].hist(bins=100, grid=False)\n",
    "plt.title('Распределение трафика за сессию');"
   ]
  },
  {
   "cell_type": "markdown",
   "metadata": {},
   "source": [
    "Как и в случае со звонками, есть существенный всплеск на уровне нулевых значений.\n",
    "\n",
    "Перейдем к рассмотрению информации об смс:"
   ]
  },
  {
   "cell_type": "code",
   "execution_count": 6,
   "metadata": {
    "tags": []
   },
   "outputs": [
    {
     "name": "stdout",
     "output_type": "stream",
     "text": [
      "<class 'pandas.core.frame.DataFrame'>\n",
      "RangeIndex: 123036 entries, 0 to 123035\n",
      "Data columns (total 3 columns):\n",
      " #   Column        Non-Null Count   Dtype \n",
      "---  ------        --------------   ----- \n",
      " 0   id            123036 non-null  object\n",
      " 1   message_date  123036 non-null  object\n",
      " 2   user_id       123036 non-null  int64 \n",
      "dtypes: int64(1), object(2)\n",
      "memory usage: 2.8+ MB\n",
      "None\n"
     ]
    },
    {
     "data": {
      "text/html": [
       "<div>\n",
       "<style scoped>\n",
       "    .dataframe tbody tr th:only-of-type {\n",
       "        vertical-align: middle;\n",
       "    }\n",
       "\n",
       "    .dataframe tbody tr th {\n",
       "        vertical-align: top;\n",
       "    }\n",
       "\n",
       "    .dataframe thead th {\n",
       "        text-align: right;\n",
       "    }\n",
       "</style>\n",
       "<table border=\"1\" class=\"dataframe\">\n",
       "  <thead>\n",
       "    <tr style=\"text-align: right;\">\n",
       "      <th></th>\n",
       "      <th>id</th>\n",
       "      <th>message_date</th>\n",
       "      <th>user_id</th>\n",
       "    </tr>\n",
       "  </thead>\n",
       "  <tbody>\n",
       "    <tr>\n",
       "      <th>0</th>\n",
       "      <td>1000_0</td>\n",
       "      <td>2018-06-27</td>\n",
       "      <td>1000</td>\n",
       "    </tr>\n",
       "    <tr>\n",
       "      <th>1</th>\n",
       "      <td>1000_1</td>\n",
       "      <td>2018-10-08</td>\n",
       "      <td>1000</td>\n",
       "    </tr>\n",
       "    <tr>\n",
       "      <th>2</th>\n",
       "      <td>1000_2</td>\n",
       "      <td>2018-08-04</td>\n",
       "      <td>1000</td>\n",
       "    </tr>\n",
       "    <tr>\n",
       "      <th>3</th>\n",
       "      <td>1000_3</td>\n",
       "      <td>2018-06-16</td>\n",
       "      <td>1000</td>\n",
       "    </tr>\n",
       "    <tr>\n",
       "      <th>4</th>\n",
       "      <td>1000_4</td>\n",
       "      <td>2018-12-05</td>\n",
       "      <td>1000</td>\n",
       "    </tr>\n",
       "  </tbody>\n",
       "</table>\n",
       "</div>"
      ],
      "text/plain": [
       "       id message_date  user_id\n",
       "0  1000_0   2018-06-27     1000\n",
       "1  1000_1   2018-10-08     1000\n",
       "2  1000_2   2018-08-04     1000\n",
       "3  1000_3   2018-06-16     1000\n",
       "4  1000_4   2018-12-05     1000"
      ]
     },
     "metadata": {},
     "output_type": "display_data"
    }
   ],
   "source": [
    "# Файл с информацией по СМС:\n",
    "try:\n",
    "    messages = pd.read_csv('/datasets/messages.csv')\n",
    "except:\n",
    "    messages = pd.read_csv('datasets/telecom_tariffs/messages.csv')\n",
    "\n",
    "print(messages.info())\n",
    "display(messages.head())"
   ]
  },
  {
   "cell_type": "markdown",
   "metadata": {},
   "source": [
    "Каждая запись в файле означает отправку одного смс с указанием id смс, id клиента и даты отправки сообщения. Всего в файле ок. 123 тыс. наблюдений.\n",
    "\n",
    "Перейдем к информации о тарифах:"
   ]
  },
  {
   "cell_type": "code",
   "execution_count": 7,
   "metadata": {
    "deletable": false
   },
   "outputs": [
    {
     "data": {
      "text/html": [
       "<div>\n",
       "<style scoped>\n",
       "    .dataframe tbody tr th:only-of-type {\n",
       "        vertical-align: middle;\n",
       "    }\n",
       "\n",
       "    .dataframe tbody tr th {\n",
       "        vertical-align: top;\n",
       "    }\n",
       "\n",
       "    .dataframe thead th {\n",
       "        text-align: right;\n",
       "    }\n",
       "</style>\n",
       "<table border=\"1\" class=\"dataframe\">\n",
       "  <thead>\n",
       "    <tr style=\"text-align: right;\">\n",
       "      <th></th>\n",
       "      <th>messages_included</th>\n",
       "      <th>mb_per_month_included</th>\n",
       "      <th>minutes_included</th>\n",
       "      <th>rub_monthly_fee</th>\n",
       "      <th>rub_per_gb</th>\n",
       "      <th>rub_per_message</th>\n",
       "      <th>rub_per_minute</th>\n",
       "      <th>tariff_name</th>\n",
       "    </tr>\n",
       "  </thead>\n",
       "  <tbody>\n",
       "    <tr>\n",
       "      <th>0</th>\n",
       "      <td>50</td>\n",
       "      <td>15360</td>\n",
       "      <td>500</td>\n",
       "      <td>550</td>\n",
       "      <td>200</td>\n",
       "      <td>3</td>\n",
       "      <td>3</td>\n",
       "      <td>smart</td>\n",
       "    </tr>\n",
       "    <tr>\n",
       "      <th>1</th>\n",
       "      <td>1000</td>\n",
       "      <td>30720</td>\n",
       "      <td>3000</td>\n",
       "      <td>1950</td>\n",
       "      <td>150</td>\n",
       "      <td>1</td>\n",
       "      <td>1</td>\n",
       "      <td>ultra</td>\n",
       "    </tr>\n",
       "  </tbody>\n",
       "</table>\n",
       "</div>"
      ],
      "text/plain": [
       "   messages_included  mb_per_month_included  minutes_included  \\\n",
       "0                 50                  15360               500   \n",
       "1               1000                  30720              3000   \n",
       "\n",
       "   rub_monthly_fee  rub_per_gb  rub_per_message  rub_per_minute tariff_name  \n",
       "0              550         200                3               3       smart  \n",
       "1             1950         150                1               1       ultra  "
      ]
     },
     "execution_count": 7,
     "metadata": {},
     "output_type": "execute_result"
    }
   ],
   "source": [
    "# Файл с информацией по тарифам:\n",
    "try:\n",
    "    tariffs = pd.read_csv('/datasets/tariffs.csv')\n",
    "except:\n",
    "    tariffs = pd.read_csv('datasets/telecom_tariffs/tariffs.csv')\n",
    "\n",
    "tariffs"
   ]
  },
  {
   "cell_type": "markdown",
   "metadata": {},
   "source": [
    "Файл содержит всего две строки, обозначающие характеристики тарифов \"Смарт\" и \"Ультра\". \n",
    "\n",
    "Рассмотрим информацию о пользователях:"
   ]
  },
  {
   "cell_type": "code",
   "execution_count": 8,
   "metadata": {
    "deletable": false
   },
   "outputs": [
    {
     "name": "stdout",
     "output_type": "stream",
     "text": [
      "<class 'pandas.core.frame.DataFrame'>\n",
      "RangeIndex: 500 entries, 0 to 499\n",
      "Data columns (total 8 columns):\n",
      " #   Column      Non-Null Count  Dtype \n",
      "---  ------      --------------  ----- \n",
      " 0   user_id     500 non-null    int64 \n",
      " 1   age         500 non-null    int64 \n",
      " 2   churn_date  38 non-null     object\n",
      " 3   city        500 non-null    object\n",
      " 4   first_name  500 non-null    object\n",
      " 5   last_name   500 non-null    object\n",
      " 6   reg_date    500 non-null    object\n",
      " 7   tariff      500 non-null    object\n",
      "dtypes: int64(2), object(6)\n",
      "memory usage: 31.4+ KB\n",
      "None\n"
     ]
    },
    {
     "data": {
      "text/html": [
       "<div>\n",
       "<style scoped>\n",
       "    .dataframe tbody tr th:only-of-type {\n",
       "        vertical-align: middle;\n",
       "    }\n",
       "\n",
       "    .dataframe tbody tr th {\n",
       "        vertical-align: top;\n",
       "    }\n",
       "\n",
       "    .dataframe thead th {\n",
       "        text-align: right;\n",
       "    }\n",
       "</style>\n",
       "<table border=\"1\" class=\"dataframe\">\n",
       "  <thead>\n",
       "    <tr style=\"text-align: right;\">\n",
       "      <th></th>\n",
       "      <th>user_id</th>\n",
       "      <th>age</th>\n",
       "      <th>churn_date</th>\n",
       "      <th>city</th>\n",
       "      <th>first_name</th>\n",
       "      <th>last_name</th>\n",
       "      <th>reg_date</th>\n",
       "      <th>tariff</th>\n",
       "    </tr>\n",
       "  </thead>\n",
       "  <tbody>\n",
       "    <tr>\n",
       "      <th>0</th>\n",
       "      <td>1000</td>\n",
       "      <td>52</td>\n",
       "      <td>NaN</td>\n",
       "      <td>Краснодар</td>\n",
       "      <td>Рафаил</td>\n",
       "      <td>Верещагин</td>\n",
       "      <td>2018-05-25</td>\n",
       "      <td>ultra</td>\n",
       "    </tr>\n",
       "    <tr>\n",
       "      <th>1</th>\n",
       "      <td>1001</td>\n",
       "      <td>41</td>\n",
       "      <td>NaN</td>\n",
       "      <td>Москва</td>\n",
       "      <td>Иван</td>\n",
       "      <td>Ежов</td>\n",
       "      <td>2018-11-01</td>\n",
       "      <td>smart</td>\n",
       "    </tr>\n",
       "    <tr>\n",
       "      <th>2</th>\n",
       "      <td>1002</td>\n",
       "      <td>59</td>\n",
       "      <td>NaN</td>\n",
       "      <td>Стерлитамак</td>\n",
       "      <td>Евгений</td>\n",
       "      <td>Абрамович</td>\n",
       "      <td>2018-06-17</td>\n",
       "      <td>smart</td>\n",
       "    </tr>\n",
       "    <tr>\n",
       "      <th>3</th>\n",
       "      <td>1003</td>\n",
       "      <td>23</td>\n",
       "      <td>NaN</td>\n",
       "      <td>Москва</td>\n",
       "      <td>Белла</td>\n",
       "      <td>Белякова</td>\n",
       "      <td>2018-08-17</td>\n",
       "      <td>ultra</td>\n",
       "    </tr>\n",
       "    <tr>\n",
       "      <th>4</th>\n",
       "      <td>1004</td>\n",
       "      <td>68</td>\n",
       "      <td>NaN</td>\n",
       "      <td>Новокузнецк</td>\n",
       "      <td>Татьяна</td>\n",
       "      <td>Авдеенко</td>\n",
       "      <td>2018-05-14</td>\n",
       "      <td>ultra</td>\n",
       "    </tr>\n",
       "  </tbody>\n",
       "</table>\n",
       "</div>"
      ],
      "text/plain": [
       "   user_id  age churn_date         city first_name  last_name    reg_date  \\\n",
       "0     1000   52        NaN    Краснодар     Рафаил  Верещагин  2018-05-25   \n",
       "1     1001   41        NaN       Москва       Иван       Ежов  2018-11-01   \n",
       "2     1002   59        NaN  Стерлитамак    Евгений  Абрамович  2018-06-17   \n",
       "3     1003   23        NaN       Москва      Белла   Белякова  2018-08-17   \n",
       "4     1004   68        NaN  Новокузнецк    Татьяна   Авдеенко  2018-05-14   \n",
       "\n",
       "  tariff  \n",
       "0  ultra  \n",
       "1  smart  \n",
       "2  smart  \n",
       "3  ultra  \n",
       "4  ultra  "
      ]
     },
     "metadata": {},
     "output_type": "display_data"
    }
   ],
   "source": [
    "# Файл с информацией по пользователям:\n",
    "try:\n",
    "    users = pd.read_csv('/datasets/users.csv')\n",
    "except:\n",
    "    users = pd.read_csv('datasets/telecom_tariffs/users.csv')\n",
    "\n",
    "print(users.info())\n",
    "display(users.head())"
   ]
  },
  {
   "cell_type": "markdown",
   "metadata": {},
   "source": [
    "В файле представлена персональная информация о клиентах: возраст, город проживания, имя и фамилия, дата регистрации и подключенный тариф. Также есть 38 пользователей, разорвавших договор (`churn_rate`)."
   ]
  },
  {
   "cell_type": "markdown",
   "metadata": {
    "tags": []
   },
   "source": [
    "## Обработка данных\n",
    "\n",
    "Во всех таблицах, кроме тарифов, имеются данные о датах (регистрации, совершения действия). Переведем их в формат даты (сейчас определены как строки)."
   ]
  },
  {
   "cell_type": "code",
   "execution_count": 9,
   "metadata": {
    "tags": []
   },
   "outputs": [],
   "source": [
    "# Конверитруем формат столбцов с датами:\n",
    "users['reg_date'] = pd.to_datetime(users['reg_date']) \n",
    "users['churn_date'] = pd.to_datetime(users['churn_date']) \n",
    "calls['call_date'] = pd.to_datetime(calls['call_date'])\n",
    "messages['message_date'] = pd.to_datetime(messages['message_date'])\n",
    "sessions['session_date'] = pd.to_datetime(sessions['session_date'])"
   ]
  },
  {
   "cell_type": "markdown",
   "metadata": {
    "tags": [
     "start_task"
    ]
   },
   "source": [
    "Заметим также, что в столбце `duration` датафрейма `calls` значения дробные. По условиям тарификации разговор длиной даже в 1 секунду считается как целая минута. В связи с этим округлим значения вверх и приведем к целочисленному типу:"
   ]
  },
  {
   "cell_type": "code",
   "execution_count": 10,
   "metadata": {
    "tags": []
   },
   "outputs": [],
   "source": [
    "calls['duration'] = np.ceil(calls['duration']).astype('int')"
   ]
  },
  {
   "cell_type": "markdown",
   "metadata": {
    "tags": [
     "start_task"
    ]
   },
   "source": [
    "Также удалим столбец `Unnamed: 0` из датафрейма `sessions` (избыточен, т.к. дублирует индекс):"
   ]
  },
  {
   "cell_type": "code",
   "execution_count": 11,
   "metadata": {
    "tags": []
   },
   "outputs": [],
   "source": [
    "sessions = sessions.drop(columns='Unnamed: 0')"
   ]
  },
  {
   "cell_type": "markdown",
   "metadata": {},
   "source": [
    "Создадим в датафреймах о звонках, смс и трафике колонку, означающую месяц свершения операции (для дальнейшей группировки)."
   ]
  },
  {
   "cell_type": "code",
   "execution_count": 12,
   "metadata": {
    "tags": []
   },
   "outputs": [],
   "source": [
    "calls['month'] = calls['call_date'].dt.month\n",
    "messages['month'] = messages['message_date'].dt.month\n",
    "sessions['month'] = sessions['session_date'].dt.month"
   ]
  },
  {
   "cell_type": "markdown",
   "metadata": {
    "tags": [
     "start_task"
    ]
   },
   "source": [
    "Теперь посчитаем число и длительность разговоров для каждого пользователя в месяц, а также количество использованных смс и интернет-трафика:"
   ]
  },
  {
   "cell_type": "code",
   "execution_count": 13,
   "metadata": {
    "tags": []
   },
   "outputs": [],
   "source": [
    "# подсчёт количества звонков для каждого пользователя по месяцам\n",
    "calls_per_month = calls.groupby(['user_id', 'month']).agg(calls=('duration', 'count')) \n",
    "# подсчёт израсходованных минут для каждого пользователя по месяцам\n",
    "minutes_per_month = calls.groupby(['user_id', 'month']).agg(minutes=('duration', 'sum'))\n",
    "# подсчёт количества отправленных сообщений для каждого пользователя по месяцам\n",
    "messages_per_month = messages.groupby(['user_id', 'month']).agg(messages=('message_date', 'count'))\n",
    "# подсчёт потраченных мегабайт для каждого пользователя по месяцам\n",
    "sessions_per_month = sessions.groupby(['user_id', 'month']).agg({'mb_used' : 'sum'}) "
   ]
  },
  {
   "cell_type": "markdown",
   "metadata": {
    "tags": []
   },
   "source": [
    "## Анализ данных и подсчёт выручки\n",
    "\n",
    "### Формирование показателей\n",
    "\n",
    "В информации о пользователях содержался признак, расторгнул ли клиент договор. Найдем долю ушедших пользователей:"
   ]
  },
  {
   "cell_type": "code",
   "execution_count": 14,
   "metadata": {
    "tags": []
   },
   "outputs": [
    {
     "name": "stdout",
     "output_type": "stream",
     "text": [
      "Договор расторгли  7.6% клиентов.\n"
     ]
    }
   ],
   "source": [
    "exited = users['churn_date'].count() / users['churn_date'].shape[0]\n",
    "print(f'Договор расторгли {exited: .1%} клиентов.')"
   ]
  },
  {
   "cell_type": "markdown",
   "metadata": {
    "tags": []
   },
   "source": [
    "Ушедшие пользователи составляют менее 10% от датасета. Кроме того, параметр не влияет на сравнение поведения клиентов в зависимости от тарифа.\n",
    "\n",
    "Для дальнейшего анализа объединим полученные данные датафрейм `user_behavior`. Для каждой пары \"пользователь - месяц\" будут доступны информация о тарифе, количестве звонков, сообщений и потраченных мегабайтах."
   ]
  },
  {
   "cell_type": "code",
   "execution_count": 15,
   "metadata": {
    "tags": []
   },
   "outputs": [
    {
     "data": {
      "text/html": [
       "<div>\n",
       "<style scoped>\n",
       "    .dataframe tbody tr th:only-of-type {\n",
       "        vertical-align: middle;\n",
       "    }\n",
       "\n",
       "    .dataframe tbody tr th {\n",
       "        vertical-align: top;\n",
       "    }\n",
       "\n",
       "    .dataframe thead th {\n",
       "        text-align: right;\n",
       "    }\n",
       "</style>\n",
       "<table border=\"1\" class=\"dataframe\">\n",
       "  <thead>\n",
       "    <tr style=\"text-align: right;\">\n",
       "      <th></th>\n",
       "      <th>user_id</th>\n",
       "      <th>month</th>\n",
       "      <th>calls</th>\n",
       "      <th>messages</th>\n",
       "      <th>mb_used</th>\n",
       "      <th>minutes</th>\n",
       "      <th>age</th>\n",
       "      <th>churn_date</th>\n",
       "      <th>city</th>\n",
       "      <th>first_name</th>\n",
       "      <th>last_name</th>\n",
       "      <th>reg_date</th>\n",
       "      <th>tariff</th>\n",
       "    </tr>\n",
       "  </thead>\n",
       "  <tbody>\n",
       "    <tr>\n",
       "      <th>0</th>\n",
       "      <td>1000</td>\n",
       "      <td>5</td>\n",
       "      <td>22.0</td>\n",
       "      <td>22.0</td>\n",
       "      <td>2253.49</td>\n",
       "      <td>159.0</td>\n",
       "      <td>52</td>\n",
       "      <td>NaT</td>\n",
       "      <td>Краснодар</td>\n",
       "      <td>Рафаил</td>\n",
       "      <td>Верещагин</td>\n",
       "      <td>2018-05-25</td>\n",
       "      <td>ultra</td>\n",
       "    </tr>\n",
       "    <tr>\n",
       "      <th>1</th>\n",
       "      <td>1000</td>\n",
       "      <td>6</td>\n",
       "      <td>43.0</td>\n",
       "      <td>60.0</td>\n",
       "      <td>23233.77</td>\n",
       "      <td>172.0</td>\n",
       "      <td>52</td>\n",
       "      <td>NaT</td>\n",
       "      <td>Краснодар</td>\n",
       "      <td>Рафаил</td>\n",
       "      <td>Верещагин</td>\n",
       "      <td>2018-05-25</td>\n",
       "      <td>ultra</td>\n",
       "    </tr>\n",
       "    <tr>\n",
       "      <th>2</th>\n",
       "      <td>1000</td>\n",
       "      <td>7</td>\n",
       "      <td>47.0</td>\n",
       "      <td>75.0</td>\n",
       "      <td>14003.64</td>\n",
       "      <td>340.0</td>\n",
       "      <td>52</td>\n",
       "      <td>NaT</td>\n",
       "      <td>Краснодар</td>\n",
       "      <td>Рафаил</td>\n",
       "      <td>Верещагин</td>\n",
       "      <td>2018-05-25</td>\n",
       "      <td>ultra</td>\n",
       "    </tr>\n",
       "    <tr>\n",
       "      <th>3</th>\n",
       "      <td>1000</td>\n",
       "      <td>8</td>\n",
       "      <td>52.0</td>\n",
       "      <td>81.0</td>\n",
       "      <td>14055.93</td>\n",
       "      <td>408.0</td>\n",
       "      <td>52</td>\n",
       "      <td>NaT</td>\n",
       "      <td>Краснодар</td>\n",
       "      <td>Рафаил</td>\n",
       "      <td>Верещагин</td>\n",
       "      <td>2018-05-25</td>\n",
       "      <td>ultra</td>\n",
       "    </tr>\n",
       "    <tr>\n",
       "      <th>4</th>\n",
       "      <td>1000</td>\n",
       "      <td>9</td>\n",
       "      <td>58.0</td>\n",
       "      <td>57.0</td>\n",
       "      <td>14568.91</td>\n",
       "      <td>466.0</td>\n",
       "      <td>52</td>\n",
       "      <td>NaT</td>\n",
       "      <td>Краснодар</td>\n",
       "      <td>Рафаил</td>\n",
       "      <td>Верещагин</td>\n",
       "      <td>2018-05-25</td>\n",
       "      <td>ultra</td>\n",
       "    </tr>\n",
       "  </tbody>\n",
       "</table>\n",
       "</div>"
      ],
      "text/plain": [
       "   user_id  month  calls  messages   mb_used  minutes  age churn_date  \\\n",
       "0     1000      5   22.0      22.0   2253.49    159.0   52        NaT   \n",
       "1     1000      6   43.0      60.0  23233.77    172.0   52        NaT   \n",
       "2     1000      7   47.0      75.0  14003.64    340.0   52        NaT   \n",
       "3     1000      8   52.0      81.0  14055.93    408.0   52        NaT   \n",
       "4     1000      9   58.0      57.0  14568.91    466.0   52        NaT   \n",
       "\n",
       "        city first_name  last_name   reg_date tariff  \n",
       "0  Краснодар     Рафаил  Верещагин 2018-05-25  ultra  \n",
       "1  Краснодар     Рафаил  Верещагин 2018-05-25  ultra  \n",
       "2  Краснодар     Рафаил  Верещагин 2018-05-25  ultra  \n",
       "3  Краснодар     Рафаил  Верещагин 2018-05-25  ultra  \n",
       "4  Краснодар     Рафаил  Верещагин 2018-05-25  ultra  "
      ]
     },
     "execution_count": 15,
     "metadata": {},
     "output_type": "execute_result"
    }
   ],
   "source": [
    "user_behavior = calls_per_month\\\n",
    "    .merge(messages_per_month, left_index=True, right_index=True, how='outer')\\\n",
    "    .merge(sessions_per_month, left_index=True, right_index=True, how='outer')\\\n",
    "    .merge(minutes_per_month, left_index=True, right_index=True, how='outer')\\\n",
    "    .reset_index()\\\n",
    "    .merge(users, how='left', left_on='user_id', right_on='user_id')\\\n",
    "\n",
    "user_behavior.head()"
   ]
  },
  {
   "cell_type": "markdown",
   "metadata": {
    "tags": []
   },
   "source": [
    "Проверим пропуски в таблице `user_behavior` после объединения:"
   ]
  },
  {
   "cell_type": "code",
   "execution_count": 16,
   "metadata": {
    "tags": []
   },
   "outputs": [
    {
     "data": {
      "text/plain": [
       "user_id          0\n",
       "month            0\n",
       "calls           40\n",
       "messages       497\n",
       "mb_used         11\n",
       "minutes         40\n",
       "age              0\n",
       "churn_date    3027\n",
       "city             0\n",
       "first_name       0\n",
       "last_name        0\n",
       "reg_date         0\n",
       "tariff           0\n",
       "dtype: int64"
      ]
     },
     "execution_count": 16,
     "metadata": {},
     "output_type": "execute_result"
    }
   ],
   "source": [
    "user_behavior.isna().sum()"
   ]
  },
  {
   "cell_type": "markdown",
   "metadata": {
    "tags": []
   },
   "source": [
    "Пропуски означают, что в этом месяце пользователь не совершал операции, поэтому заполним образовавшиеся пропуски в данных нулями:"
   ]
  },
  {
   "cell_type": "code",
   "execution_count": 17,
   "metadata": {
    "tags": []
   },
   "outputs": [],
   "source": [
    "user_behavior['calls'] = user_behavior['calls'].fillna(0)\n",
    "user_behavior['minutes'] = user_behavior['minutes'].fillna(0)\n",
    "user_behavior['messages'] = user_behavior['messages'].fillna(0)\n",
    "user_behavior['mb_used'] = user_behavior['mb_used'].fillna(0)"
   ]
  },
  {
   "cell_type": "markdown",
   "metadata": {
    "tags": []
   },
   "source": [
    "Присоединяем информацию о тарифах:"
   ]
  },
  {
   "cell_type": "code",
   "execution_count": 18,
   "metadata": {
    "tags": []
   },
   "outputs": [],
   "source": [
    "# для простоты переименуем столбец tariff_name на tariff\n",
    "\n",
    "tariffs = tariffs.rename(\n",
    "                        columns={'tariff_name': 'tariff'})\n",
    "# присоединяем информацию о тарифе:\n",
    "user_behavior = user_behavior.merge(tariffs, on='tariff')"
   ]
  },
  {
   "cell_type": "markdown",
   "metadata": {
    "tags": []
   },
   "source": [
    "Найдем количество минут разговора, сообщений и мегабайт, превышающих включенные в тариф:"
   ]
  },
  {
   "cell_type": "code",
   "execution_count": 19,
   "metadata": {
    "tags": []
   },
   "outputs": [],
   "source": [
    "# Найдем разницу между использованными и включенными; \n",
    "# если разница отрицательна - пользователь не вышел за лимит, заменим на 0\n",
    "user_behavior['paid_minutes'] = user_behavior['minutes'] - user_behavior['minutes_included']\n",
    "user_behavior['paid_messages'] = user_behavior['messages'] - user_behavior['messages_included']\n",
    "user_behavior['paid_mb'] = user_behavior['mb_used'] - user_behavior['mb_per_month_included']\n",
    "\n",
    "for col in ['paid_messages', 'paid_minutes', 'paid_mb']:\n",
    "    user_behavior.loc[user_behavior[col] < 0, col] = 0"
   ]
  },
  {
   "cell_type": "markdown",
   "metadata": {
    "tags": []
   },
   "source": [
    "Переводим превышающие тариф мегабайты в гигабайты и сохраняем в столбец `paid_gb`:"
   ]
  },
  {
   "cell_type": "code",
   "execution_count": 20,
   "metadata": {
    "tags": []
   },
   "outputs": [],
   "source": [
    "user_behavior['paid_gb'] = np.ceil(user_behavior['paid_mb'] / 1024).astype(int)"
   ]
  },
  {
   "cell_type": "markdown",
   "metadata": {
    "tags": []
   },
   "source": [
    "Считаем выручку за минуты разговора, сообщения и интернет:"
   ]
  },
  {
   "cell_type": "code",
   "execution_count": 21,
   "metadata": {
    "tags": []
   },
   "outputs": [],
   "source": [
    "user_behavior['cost_minutes'] = user_behavior['paid_minutes'] * user_behavior['rub_per_minute']\n",
    "user_behavior['cost_messages'] = user_behavior['paid_messages'] * user_behavior['rub_per_message']\n",
    "user_behavior['cost_gb'] = user_behavior['paid_gb'] * user_behavior['rub_per_gb']"
   ]
  },
  {
   "cell_type": "markdown",
   "metadata": {
    "tags": []
   },
   "source": [
    "Считаем помесячную выручку с каждого пользователя, она будет храниться в столбец `total_cost`"
   ]
  },
  {
   "cell_type": "code",
   "execution_count": 22,
   "metadata": {
    "tags": []
   },
   "outputs": [],
   "source": [
    "user_behavior['total_cost'] = \\\n",
    "      user_behavior['rub_monthly_fee']\\\n",
    "    + user_behavior['cost_minutes']\\\n",
    "    + user_behavior['cost_messages']\\\n",
    "    + user_behavior['cost_gb']"
   ]
  },
  {
   "cell_type": "markdown",
   "metadata": {
    "tags": []
   },
   "source": [
    "Датафрейм `stats_df` для каждой пары \"месяц-тариф\" будет хранить основные характеристики"
   ]
  },
  {
   "cell_type": "code",
   "execution_count": 23,
   "metadata": {
    "tags": []
   },
   "outputs": [
    {
     "data": {
      "text/html": [
       "<div>\n",
       "<style scoped>\n",
       "    .dataframe tbody tr th:only-of-type {\n",
       "        vertical-align: middle;\n",
       "    }\n",
       "\n",
       "    .dataframe tbody tr th {\n",
       "        vertical-align: top;\n",
       "    }\n",
       "\n",
       "    .dataframe thead th {\n",
       "        text-align: right;\n",
       "    }\n",
       "</style>\n",
       "<table border=\"1\" class=\"dataframe\">\n",
       "  <thead>\n",
       "    <tr style=\"text-align: right;\">\n",
       "      <th></th>\n",
       "      <th>month</th>\n",
       "      <th>tariff</th>\n",
       "      <th>calls_mean</th>\n",
       "      <th>sessions_mean</th>\n",
       "      <th>messages_mean</th>\n",
       "      <th>minutes_mean</th>\n",
       "      <th>calls_std</th>\n",
       "      <th>sessions_std</th>\n",
       "      <th>messages_std</th>\n",
       "      <th>minutes_std</th>\n",
       "      <th>calls_median</th>\n",
       "      <th>sessions_median</th>\n",
       "      <th>messages_median</th>\n",
       "      <th>minutes_median</th>\n",
       "    </tr>\n",
       "  </thead>\n",
       "  <tbody>\n",
       "    <tr>\n",
       "      <th>0</th>\n",
       "      <td>1</td>\n",
       "      <td>smart</td>\n",
       "      <td>27.68</td>\n",
       "      <td>8513.72</td>\n",
       "      <td>18.24</td>\n",
       "      <td>203.85</td>\n",
       "      <td>20.81</td>\n",
       "      <td>6444.68</td>\n",
       "      <td>16.20</td>\n",
       "      <td>154.23</td>\n",
       "      <td>20.5</td>\n",
       "      <td>7096.18</td>\n",
       "      <td>15.0</td>\n",
       "      <td>162.5</td>\n",
       "    </tr>\n",
       "    <tr>\n",
       "      <th>1</th>\n",
       "      <td>1</td>\n",
       "      <td>ultra</td>\n",
       "      <td>59.44</td>\n",
       "      <td>13140.68</td>\n",
       "      <td>33.78</td>\n",
       "      <td>428.11</td>\n",
       "      <td>41.64</td>\n",
       "      <td>6865.35</td>\n",
       "      <td>30.67</td>\n",
       "      <td>269.76</td>\n",
       "      <td>51.0</td>\n",
       "      <td>14791.37</td>\n",
       "      <td>32.0</td>\n",
       "      <td>382.0</td>\n",
       "    </tr>\n",
       "    <tr>\n",
       "      <th>2</th>\n",
       "      <td>2</td>\n",
       "      <td>smart</td>\n",
       "      <td>40.19</td>\n",
       "      <td>11597.05</td>\n",
       "      <td>24.09</td>\n",
       "      <td>298.69</td>\n",
       "      <td>25.39</td>\n",
       "      <td>6247.35</td>\n",
       "      <td>21.75</td>\n",
       "      <td>190.82</td>\n",
       "      <td>38.5</td>\n",
       "      <td>12553.71</td>\n",
       "      <td>20.0</td>\n",
       "      <td>258.0</td>\n",
       "    </tr>\n",
       "    <tr>\n",
       "      <th>3</th>\n",
       "      <td>2</td>\n",
       "      <td>ultra</td>\n",
       "      <td>41.54</td>\n",
       "      <td>11775.94</td>\n",
       "      <td>21.96</td>\n",
       "      <td>297.12</td>\n",
       "      <td>40.97</td>\n",
       "      <td>10644.64</td>\n",
       "      <td>26.77</td>\n",
       "      <td>296.51</td>\n",
       "      <td>25.0</td>\n",
       "      <td>7327.12</td>\n",
       "      <td>5.5</td>\n",
       "      <td>168.0</td>\n",
       "    </tr>\n",
       "    <tr>\n",
       "      <th>4</th>\n",
       "      <td>3</td>\n",
       "      <td>smart</td>\n",
       "      <td>54.32</td>\n",
       "      <td>15104.16</td>\n",
       "      <td>31.86</td>\n",
       "      <td>390.05</td>\n",
       "      <td>25.54</td>\n",
       "      <td>5828.24</td>\n",
       "      <td>26.80</td>\n",
       "      <td>191.89</td>\n",
       "      <td>59.0</td>\n",
       "      <td>15670.25</td>\n",
       "      <td>23.0</td>\n",
       "      <td>409.0</td>\n",
       "    </tr>\n",
       "    <tr>\n",
       "      <th>5</th>\n",
       "      <td>3</td>\n",
       "      <td>ultra</td>\n",
       "      <td>67.68</td>\n",
       "      <td>17535.55</td>\n",
       "      <td>32.30</td>\n",
       "      <td>489.65</td>\n",
       "      <td>44.84</td>\n",
       "      <td>10951.79</td>\n",
       "      <td>41.62</td>\n",
       "      <td>333.74</td>\n",
       "      <td>57.0</td>\n",
       "      <td>17495.18</td>\n",
       "      <td>20.0</td>\n",
       "      <td>403.0</td>\n",
       "    </tr>\n",
       "    <tr>\n",
       "      <th>6</th>\n",
       "      <td>4</td>\n",
       "      <td>smart</td>\n",
       "      <td>51.31</td>\n",
       "      <td>13462.18</td>\n",
       "      <td>30.74</td>\n",
       "      <td>367.13</td>\n",
       "      <td>25.70</td>\n",
       "      <td>5698.25</td>\n",
       "      <td>24.54</td>\n",
       "      <td>186.49</td>\n",
       "      <td>52.0</td>\n",
       "      <td>14087.65</td>\n",
       "      <td>28.0</td>\n",
       "      <td>368.5</td>\n",
       "    </tr>\n",
       "    <tr>\n",
       "      <th>7</th>\n",
       "      <td>4</td>\n",
       "      <td>ultra</td>\n",
       "      <td>64.09</td>\n",
       "      <td>16828.13</td>\n",
       "      <td>31.56</td>\n",
       "      <td>458.02</td>\n",
       "      <td>36.27</td>\n",
       "      <td>9718.65</td>\n",
       "      <td>37.51</td>\n",
       "      <td>267.68</td>\n",
       "      <td>61.0</td>\n",
       "      <td>16645.78</td>\n",
       "      <td>17.0</td>\n",
       "      <td>453.0</td>\n",
       "    </tr>\n",
       "    <tr>\n",
       "      <th>8</th>\n",
       "      <td>5</td>\n",
       "      <td>smart</td>\n",
       "      <td>55.24</td>\n",
       "      <td>15805.18</td>\n",
       "      <td>33.77</td>\n",
       "      <td>387.36</td>\n",
       "      <td>25.38</td>\n",
       "      <td>5978.23</td>\n",
       "      <td>27.04</td>\n",
       "      <td>186.60</td>\n",
       "      <td>59.0</td>\n",
       "      <td>16323.94</td>\n",
       "      <td>30.0</td>\n",
       "      <td>433.0</td>\n",
       "    </tr>\n",
       "    <tr>\n",
       "      <th>9</th>\n",
       "      <td>5</td>\n",
       "      <td>ultra</td>\n",
       "      <td>72.51</td>\n",
       "      <td>19363.15</td>\n",
       "      <td>37.85</td>\n",
       "      <td>510.33</td>\n",
       "      <td>41.08</td>\n",
       "      <td>10046.11</td>\n",
       "      <td>40.31</td>\n",
       "      <td>289.60</td>\n",
       "      <td>75.0</td>\n",
       "      <td>18696.43</td>\n",
       "      <td>25.0</td>\n",
       "      <td>519.0</td>\n",
       "    </tr>\n",
       "  </tbody>\n",
       "</table>\n",
       "</div>"
      ],
      "text/plain": [
       "   month tariff  calls_mean  sessions_mean  messages_mean  minutes_mean  \\\n",
       "0      1  smart       27.68        8513.72          18.24        203.85   \n",
       "1      1  ultra       59.44       13140.68          33.78        428.11   \n",
       "2      2  smart       40.19       11597.05          24.09        298.69   \n",
       "3      2  ultra       41.54       11775.94          21.96        297.12   \n",
       "4      3  smart       54.32       15104.16          31.86        390.05   \n",
       "5      3  ultra       67.68       17535.55          32.30        489.65   \n",
       "6      4  smart       51.31       13462.18          30.74        367.13   \n",
       "7      4  ultra       64.09       16828.13          31.56        458.02   \n",
       "8      5  smart       55.24       15805.18          33.77        387.36   \n",
       "9      5  ultra       72.51       19363.15          37.85        510.33   \n",
       "\n",
       "   calls_std  sessions_std  messages_std  minutes_std  calls_median  \\\n",
       "0      20.81       6444.68         16.20       154.23          20.5   \n",
       "1      41.64       6865.35         30.67       269.76          51.0   \n",
       "2      25.39       6247.35         21.75       190.82          38.5   \n",
       "3      40.97      10644.64         26.77       296.51          25.0   \n",
       "4      25.54       5828.24         26.80       191.89          59.0   \n",
       "5      44.84      10951.79         41.62       333.74          57.0   \n",
       "6      25.70       5698.25         24.54       186.49          52.0   \n",
       "7      36.27       9718.65         37.51       267.68          61.0   \n",
       "8      25.38       5978.23         27.04       186.60          59.0   \n",
       "9      41.08      10046.11         40.31       289.60          75.0   \n",
       "\n",
       "   sessions_median  messages_median  minutes_median  \n",
       "0          7096.18             15.0           162.5  \n",
       "1         14791.37             32.0           382.0  \n",
       "2         12553.71             20.0           258.0  \n",
       "3          7327.12              5.5           168.0  \n",
       "4         15670.25             23.0           409.0  \n",
       "5         17495.18             20.0           403.0  \n",
       "6         14087.65             28.0           368.5  \n",
       "7         16645.78             17.0           453.0  \n",
       "8         16323.94             30.0           433.0  \n",
       "9         18696.43             25.0           519.0  "
      ]
     },
     "execution_count": 23,
     "metadata": {},
     "output_type": "execute_result"
    }
   ],
   "source": [
    "# сохранение статистических метрик для каждой пары месяц-тариф ...\n",
    "# в одной таблице stats_df (среднее значение, стандартное отклонение, медиана)\n",
    "\n",
    "stats_df = user_behavior.pivot_table(\n",
    "            index=['month', 'tariff'],\\\n",
    "            values=['calls', 'minutes', 'messages', 'mb_used'],\\\n",
    "            aggfunc=['mean', 'std', 'median']\\\n",
    ").round(2).reset_index()\n",
    "\n",
    "stats_df.columns=['month', 'tariff', 'calls_mean', 'sessions_mean', 'messages_mean', 'minutes_mean',\n",
    "                                     'calls_std',  'sessions_std', 'messages_std', 'minutes_std', \n",
    "                                     'calls_median', 'sessions_median', 'messages_median',  'minutes_median']\n",
    "\n",
    "stats_df.head(10)"
   ]
  },
  {
   "cell_type": "markdown",
   "metadata": {
    "tags": []
   },
   "source": [
    "### Анализ поведения клиентов\n",
    "\n",
    "Рассмотрим распределение среднего количества звонков по месяцам в разрезе тарифов:"
   ]
  },
  {
   "cell_type": "code",
   "execution_count": 24,
   "metadata": {
    "tags": []
   },
   "outputs": [
    {
     "data": {
      "image/png": "[encoded data removed]",
      "text/plain": [
       "<Figure size 640x480 with 1 Axes>"
      ]
     },
     "metadata": {},
     "output_type": "display_data"
    }
   ],
   "source": [
    "ax = sns.barplot(x='month',\n",
    "            y='calls_mean',\n",
    "            hue=\"tariff\",\n",
    "            data=stats_df,\n",
    "            palette=['lightblue', 'blue'])\n",
    "\n",
    "ax.set_title('Среднее кол-во звонков по видам тарифов и месяцам')\n",
    "ax.set(xlabel='Номер месяца', ylabel='Среднее количество звонков');"
   ]
  },
  {
   "cell_type": "code",
   "execution_count": 25,
   "metadata": {
    "tags": []
   },
   "outputs": [
    {
     "data": {
      "image/png": "[encoded data removed]",
      "text/plain": [
       "<Figure size 640x480 with 1 Axes>"
      ]
     },
     "metadata": {},
     "output_type": "display_data"
    }
   ],
   "source": [
    "user_behavior.groupby('tariff')['calls'].plot(kind='hist', bins=35, alpha=0.5)\n",
    "plt.legend(['Smart', 'Ultra'])\n",
    "plt.xlabel('Количество звонков')\n",
    "plt.ylabel('Количество клиентов')\n",
    "plt.title('Распределение числа звонков в месяц')\n",
    "plt.show()"
   ]
  },
  {
   "cell_type": "markdown",
   "metadata": {},
   "source": [
    "Среднее количество звонков клиентов \"Смарт\" меньше, чем у клиентов \"Ультра\". Тем не менее, среднее число растет для обоих видов пользователей от января к декабрю. При этом в целом по году распределение числа звонков более сконцентрированное для пользователей \"Смарт\".\n",
    "\n",
    "Распределение длительности звонков по месяцам и тарифам:"
   ]
  },
  {
   "cell_type": "code",
   "execution_count": 26,
   "metadata": {
    "tags": []
   },
   "outputs": [
    {
     "data": {
      "image/png": "[encoded data removed]",
      "text/plain": [
       "<Figure size 640x480 with 1 Axes>"
      ]
     },
     "metadata": {},
     "output_type": "display_data"
    }
   ],
   "source": [
    "ax = sns.barplot(x='month',\n",
    "            y='minutes_mean',\n",
    "            hue=\"tariff\",\n",
    "            data=stats_df,\n",
    "            palette=['lightblue', 'blue'])\n",
    "\n",
    "ax.set_title('Средняя длительность звонков по видам тарифов и месяцам')\n",
    "ax.set(xlabel='Номер месяца', ylabel='Средняя продолжительность звонков');"
   ]
  },
  {
   "cell_type": "code",
   "execution_count": 27,
   "metadata": {
    "tags": []
   },
   "outputs": [
    {
     "data": {
      "image/png": "[encoded data removed]",
      "text/plain": [
       "<Figure size 640x480 with 1 Axes>"
      ]
     },
     "metadata": {},
     "output_type": "display_data"
    }
   ],
   "source": [
    "user_behavior.groupby('tariff')['minutes'].plot(kind='hist', bins=35, alpha=0.5)\n",
    "plt.legend(['Smart', 'Ultra'])\n",
    "plt.xlabel('Длительность звонков')\n",
    "plt.ylabel('Количество клиентов')\n",
    "plt.title('Распределение длительности звонков в месяц')\n",
    "plt.show()"
   ]
  },
  {
   "cell_type": "markdown",
   "metadata": {
    "tags": []
   },
   "source": [
    "Средняя длительность разговоров у абонентов тарифа \"Ультра\" больше, чем у абонентов тарифа \"Смарт\". В течение года пользователи обоих тарифов увеличивают среднюю продолжительность своих разговоров. Рост средней длительности разговоров у абонентов тарифа \"Смарт\" равномерный в течение года, в то время как для пользователей \"Ультра\" это не справедливо. Стоит отметить, что феврале у абонентов обоих тарифных планов наблюдались самые низкие показатели."
   ]
  },
  {
   "cell_type": "markdown",
   "metadata": {
    "tags": []
   },
   "source": [
    "Распределение среднего количества сообщений по видам тарифов и месяцам:"
   ]
  },
  {
   "cell_type": "code",
   "execution_count": 28,
   "metadata": {
    "tags": []
   },
   "outputs": [
    {
     "data": {
      "image/png": "[encoded data removed]",
      "text/plain": [
       "<Figure size 640x480 with 1 Axes>"
      ]
     },
     "metadata": {},
     "output_type": "display_data"
    }
   ],
   "source": [
    "ax = sns.barplot(x='month',\n",
    "            y='messages_mean',\n",
    "            hue=\"tariff\",\n",
    "            data=stats_df,\n",
    "            palette=['lightblue', 'blue']\n",
    ")\n",
    "\n",
    "ax.set_title('Распределение количества сообщений по видам тарифов и месяцам')\n",
    "ax.set(xlabel='Номер месяца', ylabel='Среднее количество звонков');"
   ]
  },
  {
   "cell_type": "code",
   "execution_count": 29,
   "metadata": {
    "tags": []
   },
   "outputs": [
    {
     "data": {
      "image/png": "[encoded data removed]",
      "text/plain": [
       "<Figure size 640x480 with 1 Axes>"
      ]
     },
     "metadata": {},
     "output_type": "display_data"
    }
   ],
   "source": [
    "user_behavior.groupby('tariff')['messages'].plot(kind='hist', bins=35, alpha=0.5)\n",
    "plt.legend(['Smart', 'Ultra'])\n",
    "plt.xlabel('Количество смс')\n",
    "plt.ylabel('Количество клиентов')\n",
    "plt.title('Распределение числа смс в месяц')\n",
    "plt.show()"
   ]
  },
  {
   "cell_type": "markdown",
   "metadata": {
    "tags": []
   },
   "source": [
    "В среднем пользователи тарифа \"Ультра\" отправляют больше сообщений, чем пользователи тарифа \"Смарт\". Количество сообщений в течение года на обоих тарифах растет, хотя для пользователей тарифа \"Смарт\" динамика более пологая. При этом, как и с длительностью звонков, распределение для тарифа \"Смарт\" более сконцентрированное, нежели у клиентов тарифа \"Ультра\".\n",
    "\n",
    "Рассмотрим использование интернет-трафика по месяцам:"
   ]
  },
  {
   "cell_type": "code",
   "execution_count": 30,
   "metadata": {
    "tags": []
   },
   "outputs": [
    {
     "data": {
      "image/png": "[encoded data removed]",
      "text/plain": [
       "<Figure size 640x480 with 1 Axes>"
      ]
     },
     "metadata": {},
     "output_type": "display_data"
    }
   ],
   "source": [
    "ax = sns.barplot(x='month',\n",
    "            y='sessions_mean',\n",
    "            hue=\"tariff\",\n",
    "            data=stats_df,\n",
    "            palette=['lightblue', 'blue']\n",
    ")\n",
    "\n",
    "ax.set_title('Среднее количество потраченного трафика (Мб) по видам тарифов и месяцам')\n",
    "ax.set(xlabel='Номер месяца', ylabel='Среднее количество мегабайт');"
   ]
  },
  {
   "cell_type": "markdown",
   "metadata": {
    "tags": []
   },
   "source": [
    "Сравнение потраченных мегабайт среди пользователей тарифов \"Смарт\" и \"Ультра\":"
   ]
  },
  {
   "cell_type": "code",
   "execution_count": 31,
   "metadata": {
    "tags": []
   },
   "outputs": [
    {
     "data": {
      "image/png": "[encoded data removed]",
      "text/plain": [
       "<Figure size 640x480 with 1 Axes>"
      ]
     },
     "metadata": {},
     "output_type": "display_data"
    }
   ],
   "source": [
    "user_behavior.groupby('tariff')['mb_used'].plot(kind='hist', bins=35, alpha=0.5)\n",
    "plt.legend(['Smart', 'Ultra'])\n",
    "plt.xlabel('Использовано МБ')\n",
    "plt.ylabel('Количество клиентов')\n",
    "plt.title('Распределение использованного интренет-трафика в месяц')\n",
    "plt.show()"
   ]
  },
  {
   "cell_type": "markdown",
   "metadata": {
    "tags": []
   },
   "source": [
    "Меньше всего пользователи использовали интернет в январе, феврале и апреле. Чаще всего абоненты тарифа \"Смарт\" тратят 15-17 Гб, а абоненты тарифного плана \"Ультра\" - 19-21 ГБ."
   ]
  },
  {
   "cell_type": "markdown",
   "metadata": {
    "tags": []
   },
   "source": [
    "## Проверка гипотез\n",
    "\n",
    "Проверим гипотезу о том, что средняя выручка пользователей тарифов «Ультра» и «Смарт» различаются. Сформулирем нулевую и альтернативкую гипотезы следующим образом:\n",
    "\n",
    "```\n",
    "H_0: Выручка (total_cost) пользователей \"Ультра\" = выручка (total_cost) пользователей \"Смарт\"`\n",
    "H_a: Выручка (total_cost) пользователей \"Ультра\" ≠ выручка (total_cost) пользователей \"Смарт\"`\n",
    "alpha = 0.05\n",
    "```"
   ]
  },
  {
   "cell_type": "code",
   "execution_count": 32,
   "metadata": {},
   "outputs": [
    {
     "data": {
      "image/png": "[encoded data removed]",
      "text/plain": [
       "<Figure size 640x480 with 1 Axes>"
      ]
     },
     "metadata": {},
     "output_type": "display_data"
    }
   ],
   "source": [
    "user_behavior.groupby('tariff')['total_cost'].plot(kind='hist', bins=10, alpha=0.5)\n",
    "plt.legend(['Smart', 'Ultra'])\n",
    "plt.xlabel('Выручка, руб.')\n",
    "plt.ylabel('Количество клиентов')\n",
    "plt.title('Распределение ежемесячной выручки')\n",
    "plt.show()"
   ]
  },
  {
   "cell_type": "code",
   "execution_count": 33,
   "metadata": {
    "tags": []
   },
   "outputs": [
    {
     "name": "stdout",
     "output_type": "stream",
     "text": [
      "Значение p-value: 4.2606313931076085e-250\n",
      "Отвергаем нулевую гипотезу\n"
     ]
    }
   ],
   "source": [
    "# Уровень значимости для проверок:\n",
    "alpha = 0.05 \n",
    "\n",
    "# Результаты проверки:\n",
    "results = st.ttest_ind(user_behavior.query('tariff == \"smart\"')['total_cost'],\n",
    "                       user_behavior.query('tariff == \"ultra\"')['total_cost'],\n",
    "                       equal_var=False) \n",
    "\n",
    "print('Значение p-value:', results.pvalue) \n",
    "if results.pvalue < alpha:\n",
    "    print('Отвергаем нулевую гипотезу')\n",
    "else:\n",
    "    print('Не получилось отвергнуть нулевую гипотезу')"
   ]
  },
  {
   "cell_type": "markdown",
   "metadata": {},
   "source": [
    "Т.е. с вероятностью 95% выручка, генерируемая от тарифов, действительно различна.\n",
    "\n",
    "Теперь проверим гипотезу, что пользователи из Москвы приносят больше выручки, чем пользователи из других городов:\n",
    "\n",
    "```\n",
    "H_0: Выручка (total_cost) пользователей из Москвы = выручка (total_cost) пользователей не из Москвы`\n",
    "H_1: Выручка (total_cost) пользователей из Москвы ≠ выручка (total_cost) пользователей не из Москвы`\n",
    "alpha = 0.05\n",
    "```"
   ]
  },
  {
   "cell_type": "code",
   "execution_count": 34,
   "metadata": {},
   "outputs": [
    {
     "data": {
      "image/png": "[encoded data removed]",
      "text/plain": [
       "<Figure size 640x480 with 1 Axes>"
      ]
     },
     "metadata": {},
     "output_type": "display_data"
    }
   ],
   "source": [
    "user_behavior[user_behavior['city'] =='Москва']['total_cost'].hist(bins=35, alpha=0.3, color='green')\n",
    "user_behavior[user_behavior['tariff'] !='Москва']['total_cost'].hist(bins=35, alpha=0.2, color='blue')\n",
    "plt.legend(['Москва', 'Не Москва'])\n",
    "plt.xlabel('Выручка, руб.')\n",
    "plt.ylabel('Количество клиентов')\n",
    "plt.title('Распределение ежемесячной выручки')\n",
    "plt.show()"
   ]
  },
  {
   "cell_type": "code",
   "execution_count": 35,
   "metadata": {
    "tags": []
   },
   "outputs": [
    {
     "name": "stdout",
     "output_type": "stream",
     "text": [
      "Значение p-value: 0.5257376663729298\n",
      "Не получилось отвергнуть нулевую гипотезу\n"
     ]
    }
   ],
   "source": [
    "results = st.ttest_ind(user_behavior.query('city == \"Москва\"')['total_cost'],\n",
    "                       user_behavior.query('city != \"Москва\"')['total_cost'],\n",
    "                       equal_var=False) \n",
    "\n",
    "print('Значение p-value:', results.pvalue) \n",
    "if results.pvalue < alpha:\n",
    "    print('Отвергаем нулевую гипотезу')\n",
    "else:\n",
    "    print('Не получилось отвергнуть нулевую гипотезу')"
   ]
  },
  {
   "cell_type": "markdown",
   "metadata": {},
   "source": [
    "Иначе говоря, с вероятностью 95% нельзя утверждать, что выручка из Москвы превышает выручку из прочих регионов.\n",
    "\n",
    "## Вывод\n",
    "\n",
    "Цель проекта состояла в проверке двух гипотез на уровне значимости в 5% для дальнейшего исследования доходности тарифов оператора:\n",
    "\n",
    "- средняя выручка с пользователей тарифов «Ультра» и «Смарт» различается;\n",
    "- средняя выручка с пользователей из Москвы отличается от выручки с пользователей других регионов.\n",
    "\n",
    "Для проверки были предоставлены данные о звонках, смс и интернет-трафике для 500 пользователей за 2018 г., а также персональная информация о самих пользователях и характеристики тарифов.\n",
    "\n",
    "Вначале информация была проверена на пригодность для анализа. В результате:\n",
    "- Информация о датах совершения операции была переведена в формат дат;\n",
    "- Нерелевантные столбцы были удалены;\n",
    "- Длительность звонков была округлена вверх и переведена в целочисленный тип (для унификации с методами начисления у оператора).\n",
    "\n",
    "Затем данные были агрегированы по пользователям и месяцам и объединены с информацией об используемом тарифе. На основе этих данных была расчитана выручка от каждого клиента как ежемесячная плата плюс стоимость всех услуг сверх тарифа.\n",
    "\n",
    "Далее были проаналированы отличия в пользовательском поведении в зависимости от тарифа: выяснилось, что клиенты \"Смарт\" в среднем используют меньше минут, смс и Интернета, чем пользователи тарифа \"Ультра\". Также распределение показателей для тарифа \"Смарт\" более сконцентрированое, чем для \"Ультра\".\n",
    "\n",
    "После статистическими метогдами были проверены выдвинутые гипотезы (см. выше). На основании тестов с вероятностью 95% можно сказать, что выручка от тарифов различается, однако гипотезу о региональных отличиях отвергнуть не удалось."
   ]
  }
 ],
 "metadata": {
  "ExecuteTimeLog": [
   {
    "duration": 62,
    "start_time": "2022-07-27T13:12:54.381Z"
   },
   {
    "duration": 7,
    "start_time": "2022-07-27T13:12:58.836Z"
   },
   {
    "duration": 388,
    "start_time": "2022-07-27T13:13:05.536Z"
   },
   {
    "duration": 561,
    "start_time": "2022-07-27T13:13:05.933Z"
   },
   {
    "duration": 413,
    "start_time": "2022-07-27T13:13:18.928Z"
   },
   {
    "duration": 160,
    "start_time": "2022-07-27T13:13:19.343Z"
   },
   {
    "duration": 27,
    "start_time": "2022-07-27T13:13:22.296Z"
   },
   {
    "duration": 24,
    "start_time": "2022-07-27T13:14:11.050Z"
   },
   {
    "duration": 581,
    "start_time": "2022-07-27T13:14:59.955Z"
   },
   {
    "duration": 24,
    "start_time": "2022-07-27T13:15:26.972Z"
   },
   {
    "duration": 140,
    "start_time": "2022-07-27T13:15:47.115Z"
   },
   {
    "duration": 411,
    "start_time": "2022-07-27T13:16:57.638Z"
   },
   {
    "duration": 10,
    "start_time": "2022-07-27T13:17:16.607Z"
   },
   {
    "duration": 18,
    "start_time": "2022-07-27T13:18:33.567Z"
   },
   {
    "duration": 12,
    "start_time": "2022-07-27T13:19:03.186Z"
   },
   {
    "duration": 144,
    "start_time": "2022-07-27T13:19:24.327Z"
   },
   {
    "duration": 163,
    "start_time": "2022-07-27T13:20:24.512Z"
   },
   {
    "duration": 8,
    "start_time": "2022-07-27T13:20:44.384Z"
   },
   {
    "duration": 17,
    "start_time": "2022-07-27T13:21:10.777Z"
   },
   {
    "duration": 57,
    "start_time": "2022-07-27T13:22:00.028Z"
   },
   {
    "duration": 11,
    "start_time": "2022-07-27T13:22:30.995Z"
   },
   {
    "duration": 11,
    "start_time": "2022-07-27T13:22:50.499Z"
   },
   {
    "duration": 77,
    "start_time": "2022-07-27T13:23:31.060Z"
   },
   {
    "duration": 14,
    "start_time": "2022-07-27T13:23:46.540Z"
   },
   {
    "duration": 11,
    "start_time": "2022-07-27T13:24:37.765Z"
   },
   {
    "duration": 72,
    "start_time": "2022-07-27T13:45:33.355Z"
   },
   {
    "duration": 6,
    "start_time": "2022-07-27T13:47:51.348Z"
   },
   {
    "duration": 74,
    "start_time": "2022-07-27T13:50:18.039Z"
   },
   {
    "duration": 20,
    "start_time": "2022-07-27T13:50:27.509Z"
   },
   {
    "duration": 9,
    "start_time": "2022-07-27T13:50:36.391Z"
   },
   {
    "duration": 23,
    "start_time": "2022-07-27T13:52:24.665Z"
   },
   {
    "duration": 29,
    "start_time": "2022-07-27T13:52:39.475Z"
   },
   {
    "duration": 15,
    "start_time": "2022-07-27T13:53:21.874Z"
   },
   {
    "duration": 16,
    "start_time": "2022-07-27T13:53:55.684Z"
   },
   {
    "duration": 21,
    "start_time": "2022-07-27T13:56:40.943Z"
   },
   {
    "duration": 9,
    "start_time": "2022-07-27T13:56:52.574Z"
   },
   {
    "duration": 11,
    "start_time": "2022-07-27T13:57:00.957Z"
   },
   {
    "duration": 382,
    "start_time": "2022-07-27T13:59:03.506Z"
   },
   {
    "duration": 149,
    "start_time": "2022-07-27T13:59:03.890Z"
   },
   {
    "duration": 16,
    "start_time": "2022-07-27T13:59:04.041Z"
   },
   {
    "duration": 23,
    "start_time": "2022-07-27T13:59:04.060Z"
   },
   {
    "duration": 390,
    "start_time": "2022-07-27T13:59:04.084Z"
   },
   {
    "duration": 116,
    "start_time": "2022-07-27T13:59:04.475Z"
   },
   {
    "duration": 10,
    "start_time": "2022-07-27T13:59:04.593Z"
   },
   {
    "duration": 36,
    "start_time": "2022-07-27T13:59:04.605Z"
   },
   {
    "duration": 153,
    "start_time": "2022-07-27T13:59:04.643Z"
   },
   {
    "duration": 85,
    "start_time": "2022-07-27T13:59:04.804Z"
   },
   {
    "duration": 11,
    "start_time": "2022-07-27T13:59:04.891Z"
   },
   {
    "duration": 21,
    "start_time": "2022-07-27T13:59:04.904Z"
   },
   {
    "duration": 31,
    "start_time": "2022-07-27T13:59:04.927Z"
   },
   {
    "duration": 9,
    "start_time": "2022-07-27T13:59:04.961Z"
   },
   {
    "duration": 13,
    "start_time": "2022-07-27T13:59:04.972Z"
   },
   {
    "duration": 31,
    "start_time": "2022-07-27T13:59:04.986Z"
   },
   {
    "duration": 10,
    "start_time": "2022-07-27T13:59:05.018Z"
   },
   {
    "duration": 16,
    "start_time": "2022-07-27T13:59:05.029Z"
   },
   {
    "duration": 86,
    "start_time": "2022-07-27T13:59:05.046Z"
   },
   {
    "duration": 5,
    "start_time": "2022-07-27T13:59:05.134Z"
   },
   {
    "duration": 16,
    "start_time": "2022-07-27T13:59:05.141Z"
   },
   {
    "duration": 33,
    "start_time": "2022-07-27T13:59:05.159Z"
   },
   {
    "duration": 28,
    "start_time": "2022-07-27T13:59:05.194Z"
   },
   {
    "duration": 27,
    "start_time": "2022-07-27T13:59:05.224Z"
   },
   {
    "duration": 27,
    "start_time": "2022-07-27T13:59:05.253Z"
   },
   {
    "duration": 10,
    "start_time": "2022-07-27T13:59:05.282Z"
   },
   {
    "duration": 10,
    "start_time": "2022-07-27T13:59:05.293Z"
   },
   {
    "duration": 7,
    "start_time": "2022-07-27T13:59:05.306Z"
   },
   {
    "duration": 7,
    "start_time": "2022-07-27T13:59:05.314Z"
   },
   {
    "duration": 5,
    "start_time": "2022-07-27T13:59:05.323Z"
   },
   {
    "duration": 6,
    "start_time": "2022-07-27T13:59:05.329Z"
   },
   {
    "duration": 6,
    "start_time": "2022-07-27T13:59:05.337Z"
   },
   {
    "duration": 9,
    "start_time": "2022-07-27T13:59:05.345Z"
   },
   {
    "duration": 105,
    "start_time": "2022-07-27T13:59:05.355Z"
   },
   {
    "duration": 0,
    "start_time": "2022-07-27T13:59:05.462Z"
   },
   {
    "duration": 0,
    "start_time": "2022-07-27T13:59:05.464Z"
   },
   {
    "duration": 0,
    "start_time": "2022-07-27T13:59:05.467Z"
   },
   {
    "duration": 0,
    "start_time": "2022-07-27T13:59:05.468Z"
   },
   {
    "duration": 0,
    "start_time": "2022-07-27T13:59:05.470Z"
   },
   {
    "duration": 0,
    "start_time": "2022-07-27T13:59:05.473Z"
   },
   {
    "duration": 0,
    "start_time": "2022-07-27T13:59:05.475Z"
   },
   {
    "duration": 0,
    "start_time": "2022-07-27T13:59:05.476Z"
   },
   {
    "duration": 0,
    "start_time": "2022-07-27T13:59:05.479Z"
   },
   {
    "duration": 0,
    "start_time": "2022-07-27T13:59:05.502Z"
   },
   {
    "duration": 0,
    "start_time": "2022-07-27T13:59:05.504Z"
   },
   {
    "duration": 0,
    "start_time": "2022-07-27T13:59:05.505Z"
   },
   {
    "duration": 0,
    "start_time": "2022-07-27T13:59:05.507Z"
   },
   {
    "duration": 0,
    "start_time": "2022-07-27T13:59:05.508Z"
   },
   {
    "duration": 0,
    "start_time": "2022-07-27T13:59:05.509Z"
   },
   {
    "duration": 0,
    "start_time": "2022-07-27T13:59:05.510Z"
   },
   {
    "duration": 0,
    "start_time": "2022-07-27T13:59:05.511Z"
   },
   {
    "duration": 0,
    "start_time": "2022-07-27T13:59:05.512Z"
   },
   {
    "duration": 0,
    "start_time": "2022-07-27T13:59:05.513Z"
   },
   {
    "duration": 0,
    "start_time": "2022-07-27T13:59:05.514Z"
   },
   {
    "duration": 25,
    "start_time": "2022-07-27T14:00:22.531Z"
   },
   {
    "duration": 9,
    "start_time": "2022-07-27T14:00:47.412Z"
   },
   {
    "duration": 7,
    "start_time": "2022-07-27T14:02:53.710Z"
   },
   {
    "duration": 17,
    "start_time": "2022-07-27T14:02:55.827Z"
   },
   {
    "duration": 8,
    "start_time": "2022-07-27T14:02:56.909Z"
   },
   {
    "duration": 19,
    "start_time": "2022-07-27T14:03:21.086Z"
   },
   {
    "duration": 9,
    "start_time": "2022-07-27T14:03:23.330Z"
   },
   {
    "duration": 22,
    "start_time": "2022-07-27T14:23:43.299Z"
   },
   {
    "duration": 9,
    "start_time": "2022-07-27T14:23:58.634Z"
   },
   {
    "duration": 22,
    "start_time": "2022-07-27T14:24:56.068Z"
   },
   {
    "duration": 10,
    "start_time": "2022-07-27T14:24:57.476Z"
   },
   {
    "duration": 18,
    "start_time": "2022-07-27T14:25:46.405Z"
   },
   {
    "duration": 10,
    "start_time": "2022-07-27T14:25:47.416Z"
   },
   {
    "duration": 44,
    "start_time": "2022-07-27T14:26:40.742Z"
   },
   {
    "duration": 7,
    "start_time": "2022-07-27T14:26:45.261Z"
   },
   {
    "duration": 6,
    "start_time": "2022-07-27T14:26:50.229Z"
   },
   {
    "duration": 3,
    "start_time": "2022-07-27T14:27:01.023Z"
   },
   {
    "duration": 8,
    "start_time": "2022-07-27T14:27:03.181Z"
   },
   {
    "duration": 12,
    "start_time": "2022-07-27T14:27:07.501Z"
   },
   {
    "duration": 5,
    "start_time": "2022-07-27T14:27:39.670Z"
   },
   {
    "duration": 7,
    "start_time": "2022-07-27T14:27:48.158Z"
   },
   {
    "duration": 4,
    "start_time": "2022-07-27T14:28:03.116Z"
   },
   {
    "duration": 47,
    "start_time": "2022-07-27T14:28:14.557Z"
   },
   {
    "duration": 733,
    "start_time": "2022-07-27T14:28:43.472Z"
   },
   {
    "duration": 219,
    "start_time": "2022-07-27T14:29:09.984Z"
   },
   {
    "duration": 270,
    "start_time": "2022-07-27T14:29:23.675Z"
   },
   {
    "duration": 266,
    "start_time": "2022-07-27T14:29:40.824Z"
   },
   {
    "duration": 228,
    "start_time": "2022-07-27T14:30:53.810Z"
   },
   {
    "duration": 183,
    "start_time": "2022-07-27T14:30:56.730Z"
   },
   {
    "duration": 272,
    "start_time": "2022-07-27T14:31:28.738Z"
   },
   {
    "duration": 221,
    "start_time": "2022-07-27T14:31:33.460Z"
   },
   {
    "duration": 6,
    "start_time": "2022-07-27T14:37:02.032Z"
   },
   {
    "duration": 36,
    "start_time": "2022-07-27T14:40:59.225Z"
   },
   {
    "duration": 3,
    "start_time": "2022-07-27T14:41:05.318Z"
   },
   {
    "duration": 142,
    "start_time": "2022-07-27T14:41:06.388Z"
   },
   {
    "duration": 421,
    "start_time": "2022-07-27T14:43:19.189Z"
   },
   {
    "duration": 145,
    "start_time": "2022-07-27T14:43:19.612Z"
   },
   {
    "duration": 14,
    "start_time": "2022-07-27T14:43:19.761Z"
   },
   {
    "duration": 31,
    "start_time": "2022-07-27T14:43:19.776Z"
   },
   {
    "duration": 355,
    "start_time": "2022-07-27T14:43:19.809Z"
   },
   {
    "duration": 114,
    "start_time": "2022-07-27T14:43:20.165Z"
   },
   {
    "duration": 8,
    "start_time": "2022-07-27T14:43:20.281Z"
   },
   {
    "duration": 22,
    "start_time": "2022-07-27T14:43:20.290Z"
   },
   {
    "duration": 140,
    "start_time": "2022-07-27T14:43:20.314Z"
   },
   {
    "duration": 83,
    "start_time": "2022-07-27T14:43:20.456Z"
   },
   {
    "duration": 7,
    "start_time": "2022-07-27T14:43:20.540Z"
   },
   {
    "duration": 20,
    "start_time": "2022-07-27T14:43:20.548Z"
   },
   {
    "duration": 15,
    "start_time": "2022-07-27T14:43:20.569Z"
   },
   {
    "duration": 6,
    "start_time": "2022-07-27T14:43:20.586Z"
   },
   {
    "duration": 13,
    "start_time": "2022-07-27T14:43:20.594Z"
   },
   {
    "duration": 29,
    "start_time": "2022-07-27T14:43:20.608Z"
   },
   {
    "duration": 8,
    "start_time": "2022-07-27T14:43:20.639Z"
   },
   {
    "duration": 12,
    "start_time": "2022-07-27T14:43:20.648Z"
   },
   {
    "duration": 67,
    "start_time": "2022-07-27T14:43:20.662Z"
   },
   {
    "duration": 6,
    "start_time": "2022-07-27T14:43:20.731Z"
   },
   {
    "duration": 12,
    "start_time": "2022-07-27T14:43:20.738Z"
   },
   {
    "duration": 27,
    "start_time": "2022-07-27T14:43:20.751Z"
   },
   {
    "duration": 25,
    "start_time": "2022-07-27T14:43:20.780Z"
   },
   {
    "duration": 18,
    "start_time": "2022-07-27T14:43:20.806Z"
   },
   {
    "duration": 23,
    "start_time": "2022-07-27T14:43:20.826Z"
   },
   {
    "duration": 9,
    "start_time": "2022-07-27T14:43:20.850Z"
   },
   {
    "duration": 51,
    "start_time": "2022-07-27T14:43:20.863Z"
   },
   {
    "duration": 7,
    "start_time": "2022-07-27T14:43:20.916Z"
   },
   {
    "duration": 19,
    "start_time": "2022-07-27T14:43:20.925Z"
   },
   {
    "duration": 7,
    "start_time": "2022-07-27T14:43:20.945Z"
   },
   {
    "duration": 23,
    "start_time": "2022-07-27T14:43:20.953Z"
   },
   {
    "duration": 27,
    "start_time": "2022-07-27T14:43:20.977Z"
   },
   {
    "duration": 12,
    "start_time": "2022-07-27T14:43:21.006Z"
   },
   {
    "duration": 36,
    "start_time": "2022-07-27T14:43:21.020Z"
   },
   {
    "duration": 7,
    "start_time": "2022-07-27T14:43:21.057Z"
   },
   {
    "duration": 16,
    "start_time": "2022-07-27T14:43:21.066Z"
   },
   {
    "duration": 13,
    "start_time": "2022-07-27T14:43:21.084Z"
   },
   {
    "duration": 10,
    "start_time": "2022-07-27T14:43:21.098Z"
   },
   {
    "duration": 9,
    "start_time": "2022-07-27T14:43:21.109Z"
   },
   {
    "duration": 4,
    "start_time": "2022-07-27T14:43:21.119Z"
   },
   {
    "duration": 8,
    "start_time": "2022-07-27T14:43:21.124Z"
   },
   {
    "duration": 5,
    "start_time": "2022-07-27T14:43:21.134Z"
   },
   {
    "duration": 46,
    "start_time": "2022-07-27T14:43:21.141Z"
   },
   {
    "duration": 777,
    "start_time": "2022-07-27T14:43:21.201Z"
   },
   {
    "duration": 229,
    "start_time": "2022-07-27T14:43:21.980Z"
   },
   {
    "duration": 279,
    "start_time": "2022-07-27T14:43:22.211Z"
   },
   {
    "duration": 269,
    "start_time": "2022-07-27T14:43:22.492Z"
   },
   {
    "duration": 262,
    "start_time": "2022-07-27T14:43:22.763Z"
   },
   {
    "duration": 202,
    "start_time": "2022-07-27T14:43:23.027Z"
   },
   {
    "duration": 278,
    "start_time": "2022-07-27T14:43:23.231Z"
   },
   {
    "duration": 200,
    "start_time": "2022-07-27T14:43:23.510Z"
   },
   {
    "duration": 3,
    "start_time": "2022-07-27T14:43:23.711Z"
   },
   {
    "duration": 265,
    "start_time": "2022-07-27T14:43:23.715Z"
   },
   {
    "duration": 0,
    "start_time": "2022-07-27T14:43:23.982Z"
   },
   {
    "duration": 10,
    "start_time": "2022-07-27T14:44:14.454Z"
   },
   {
    "duration": 85,
    "start_time": "2022-07-27T14:48:50.699Z"
   },
   {
    "duration": 14,
    "start_time": "2022-07-27T14:48:56.684Z"
   }
  ],
  "kernelspec": {
   "display_name": "Python 3 (ipykernel)",
   "language": "python",
   "name": "python3"
  },
  "language_info": {
   "codemirror_mode": {
    "name": "ipython",
    "version": 3
   },
   "file_extension": ".py",
   "mimetype": "text/x-python",
   "name": "python",
   "nbconvert_exporter": "python",
   "pygments_lexer": "ipython3",
   "version": "3.9.15"
  },
  "toc": {
   "base_numbering": 1,
   "nav_menu": {},
   "number_sections": true,
   "sideBar": true,
   "skip_h1_title": true,
   "title_cell": "Table of Contents",
   "title_sidebar": "Contents",
   "toc_cell": false,
   "toc_position": {},
   "toc_section_display": true,
   "toc_window_display": false
  }
 },
 "nbformat": 4,
 "nbformat_minor": 4
}
