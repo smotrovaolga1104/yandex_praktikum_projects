{
 "cells": [
  {
   "cell_type": "markdown",
   "metadata": {
    "toc": true
   },
   "source": [
    "<h1>Содержание<span class=\"tocSkip\"></span></h1>\n",
    "<div class=\"toc\"><ul class=\"toc-item\"><li><span><a href=\"#Цель-проекта\" data-toc-modified-id=\"Цель-проекта-1\"><span class=\"toc-item-num\">1&nbsp;&nbsp;</span>Цель проекта</a></span></li><li><span><a href=\"#Загрузка-и-первичный-обзор-данных\" data-toc-modified-id=\"Загрузка-и-первичный-обзор-данных-2\"><span class=\"toc-item-num\">2&nbsp;&nbsp;</span>Загрузка и первичный обзор данных</a></span></li><li><span><a href=\"#Лемматизация\" data-toc-modified-id=\"Лемматизация-3\"><span class=\"toc-item-num\">3&nbsp;&nbsp;</span>Лемматизация</a></span></li><li><span><a href=\"#Обучение-моделей\" data-toc-modified-id=\"Обучение-моделей-4\"><span class=\"toc-item-num\">4&nbsp;&nbsp;</span>Обучение моделей</a></span><ul class=\"toc-item\"><li><span><a href=\"#Подготовка-к-обучению\" data-toc-modified-id=\"Подготовка-к-обучению-4.1\"><span class=\"toc-item-num\">4.1&nbsp;&nbsp;</span>Подготовка к обучению</a></span></li><li><span><a href=\"#Обучение-моделей\" data-toc-modified-id=\"Обучение-моделей-4.2\"><span class=\"toc-item-num\">4.2&nbsp;&nbsp;</span>Обучение моделей</a></span></li></ul></li><li><span><a href=\"#Предсказания-на-тестовой-выборке\" data-toc-modified-id=\"Предсказания-на-тестовой-выборке-5\"><span class=\"toc-item-num\">5&nbsp;&nbsp;</span>Предсказания на тестовой выборке</a></span></li><li><span><a href=\"#Общий-вывод\" data-toc-modified-id=\"Общий-вывод-6\"><span class=\"toc-item-num\">6&nbsp;&nbsp;</span>Общий вывод</a></span></li></ul></div>"
   ]
  },
  {
   "cell_type": "markdown",
   "metadata": {},
   "source": [
    "# Выявление токсичных комментариев\n",
    "\n",
    "## Цель проекта\n",
    "\n",
    "Цель проекта состоит в построении модели, классифицирующей комментарии пользователей на позитивные и негативные (для отправки токсичных комментариев на модерацию). Обучение модели будет происходить на заранее размеченных данных. По требованию заказчика, качество модели будет определяться метрикой *F1*; показатель должен быть не менее 0.75. \n",
    "\n",
    "Для достижения поставленной цели необходимо:\n",
    "\n",
    "1. Подготовить данные, переведя естественный текст в векторную форму;\n",
    "2. Обучить несколько типов моделей, подобрать оптимальные гиперпараметры;\n",
    "3. Сравнить качество моделей на кросс-валидации, выбрать модель с наивысшей метрикой;\n",
    "4. Проверить выбранную модель на тестовой выборке.\n",
    "\n",
    "Перевод естественного текста в векторный вид будет производиться методов *TF-IDF*. В качестве прогностических моделей будут исследоваться логистическая регрессия, градиентный бустинг и байесовский классификатор."
   ]
  },
  {
   "cell_type": "code",
   "execution_count": 1,
   "metadata": {},
   "outputs": [],
   "source": [
    "#!pip install optuna\n",
    "# Импорты используемых библиотек:\n",
    "import pandas as pd\n",
    "import numpy as np\n",
    "import matplotlib.pyplot as plt\n",
    "import seaborn as sns\n",
    "from tqdm import tqdm\n",
    "from warnings import filterwarnings\n",
    "# Лемматизация:\n",
    "import nltk\n",
    "from nltk.stem import WordNetLemmatizer\n",
    "from nltk.corpus import wordnet\n",
    "import re\n",
    "# Подготовка признаков:\n",
    "from sklearn.feature_extraction.text import TfidfVectorizer\n",
    "from sklearn.pipeline import Pipeline\n",
    "# Обучение и проверка качества моделей:\n",
    "import optuna as op\n",
    "from sklearn.model_selection import train_test_split, cross_validate, StratifiedKFold\n",
    "from sklearn.linear_model import LogisticRegression\n",
    "from sklearn.naive_bayes import MultinomialNB\n",
    "from lightgbm import LGBMClassifier\n",
    "from sklearn.metrics import f1_score, make_scorer\n",
    "\n",
    "# Скачиваем необходимые для лемматизации пакеты:\n",
    "#nltk.download('wordnet')\n",
    "#nltk.download('punkt')\n",
    "#nltk.download('averaged_perceptron_tagger')\n",
    "#nltk.download('omw-1.4')\n",
    "#nltk.download('stopwords')\n",
    "\n",
    "RANDOM_STATE = 1104"
   ]
  },
  {
   "cell_type": "markdown",
   "metadata": {},
   "source": [
    "## Загрузка и первичный обзор данных\n",
    "\n",
    "Рассмотрим предоставленные данные:"
   ]
  },
  {
   "cell_type": "code",
   "execution_count": 2,
   "metadata": {},
   "outputs": [
    {
     "name": "stdout",
     "output_type": "stream",
     "text": [
      "<class 'pandas.core.frame.DataFrame'>\n",
      "Int64Index: 159292 entries, 0 to 159450\n",
      "Data columns (total 2 columns):\n",
      " #   Column  Non-Null Count   Dtype \n",
      "---  ------  --------------   ----- \n",
      " 0   text    159292 non-null  object\n",
      " 1   toxic   159292 non-null  int64 \n",
      "dtypes: int64(1), object(1)\n",
      "memory usage: 3.6+ MB\n",
      "None\n"
     ]
    },
    {
     "data": {
      "text/html": [
       "<div>\n",
       "<style scoped>\n",
       "    .dataframe tbody tr th:only-of-type {\n",
       "        vertical-align: middle;\n",
       "    }\n",
       "\n",
       "    .dataframe tbody tr th {\n",
       "        vertical-align: top;\n",
       "    }\n",
       "\n",
       "    .dataframe thead th {\n",
       "        text-align: right;\n",
       "    }\n",
       "</style>\n",
       "<table border=\"1\" class=\"dataframe\">\n",
       "  <thead>\n",
       "    <tr style=\"text-align: right;\">\n",
       "      <th></th>\n",
       "      <th>text</th>\n",
       "      <th>toxic</th>\n",
       "    </tr>\n",
       "  </thead>\n",
       "  <tbody>\n",
       "    <tr>\n",
       "      <th>25097</th>\n",
       "      <td>Message==\\nI've replied to your message on my ...</td>\n",
       "      <td>0</td>\n",
       "    </tr>\n",
       "    <tr>\n",
       "      <th>117608</th>\n",
       "      <td>\"\\n\\n Importance of this dispute \\n\\nI think t...</td>\n",
       "      <td>0</td>\n",
       "    </tr>\n",
       "    <tr>\n",
       "      <th>49688</th>\n",
       "      <td>I put a copy of the thumbnail image into WikiC...</td>\n",
       "      <td>0</td>\n",
       "    </tr>\n",
       "    <tr>\n",
       "      <th>7672</th>\n",
       "      <td>\"\\n\\nPlease do not create articles on your tal...</td>\n",
       "      <td>0</td>\n",
       "    </tr>\n",
       "    <tr>\n",
       "      <th>72658</th>\n",
       "      <td>\"presented his researches on ASCE \"\"Earth and ...</td>\n",
       "      <td>0</td>\n",
       "    </tr>\n",
       "    <tr>\n",
       "      <th>62532</th>\n",
       "      <td>\"\\nActually, you and Jack are incorrect:\\n\"\"Th...</td>\n",
       "      <td>0</td>\n",
       "    </tr>\n",
       "    <tr>\n",
       "      <th>118255</th>\n",
       "      <td>Below i will post the other un block template ...</td>\n",
       "      <td>0</td>\n",
       "    </tr>\n",
       "    <tr>\n",
       "      <th>132664</th>\n",
       "      <td>\"\\nUpdate per User_talk:Ealdgyth, if Abu Zeyd ...</td>\n",
       "      <td>0</td>\n",
       "    </tr>\n",
       "    <tr>\n",
       "      <th>8273</th>\n",
       "      <td>\"\\nI've addressed your concerns regarding my p...</td>\n",
       "      <td>0</td>\n",
       "    </tr>\n",
       "    <tr>\n",
       "      <th>32445</th>\n",
       "      <td>Probably just someone jealous of her extreme h...</td>\n",
       "      <td>0</td>\n",
       "    </tr>\n",
       "  </tbody>\n",
       "</table>\n",
       "</div>"
      ],
      "text/plain": [
       "                                                     text  toxic\n",
       "25097   Message==\\nI've replied to your message on my ...      0\n",
       "117608  \"\\n\\n Importance of this dispute \\n\\nI think t...      0\n",
       "49688   I put a copy of the thumbnail image into WikiC...      0\n",
       "7672    \"\\n\\nPlease do not create articles on your tal...      0\n",
       "72658   \"presented his researches on ASCE \"\"Earth and ...      0\n",
       "62532   \"\\nActually, you and Jack are incorrect:\\n\"\"Th...      0\n",
       "118255  Below i will post the other un block template ...      0\n",
       "132664  \"\\nUpdate per User_talk:Ealdgyth, if Abu Zeyd ...      0\n",
       "8273    \"\\nI've addressed your concerns regarding my p...      0\n",
       "32445   Probably just someone jealous of her extreme h...      0"
      ]
     },
     "metadata": {},
     "output_type": "display_data"
    }
   ],
   "source": [
    "try:\n",
    "    df = pd.read_csv('C:/Users/1/python/datasets/toxic_comments.csv', index_col = [0])\n",
    "except:\n",
    "    df = pd.read_csv('/datasets/toxic_comments.csv', index_col = [0])    \n",
    "\n",
    "print(df.info())\n",
    "display(df.sample(10))"
   ]
  },
  {
   "cell_type": "markdown",
   "metadata": {},
   "source": [
    "Имеющийся корпус текстов содержит ок. 160 тыс. комментариев на английском языке. Явные пропуски отсутствуют. Целевой признак представлен в колонке `toxic`. Рассмотрим соотношение позитивных (0) и негативных (1) комментариев в исходных данных:"
   ]
  },
  {
   "cell_type": "code",
   "execution_count": 3,
   "metadata": {},
   "outputs": [
    {
     "name": "stdout",
     "output_type": "stream",
     "text": [
      "Соотношение позитивных и негативных комментариев, в %:\n"
     ]
    },
    {
     "data": {
      "text/plain": [
       "0    89.838787\n",
       "1    10.161213\n",
       "Name: toxic, dtype: float64"
      ]
     },
     "execution_count": 3,
     "metadata": {},
     "output_type": "execute_result"
    }
   ],
   "source": [
    "print('Соотношение позитивных и негативных комментариев, в %:')\n",
    "df['toxic'].value_counts(normalize=True)*100"
   ]
  },
  {
   "cell_type": "markdown",
   "metadata": {},
   "source": [
    "Токсичные комментарии составляют ок. 10% от общего числа объектов, т.е. выборка несбалансирована по классам. Дисбаланс нужно будет учесть при разделении выборки на обучающую и тестовую и при обучении моделей.\n",
    "\n",
    "Рассмотрим, какой приблизительной длины (в количестве слов) комментарии. Длина приблизительная, поскольку в тексте могут быть символьные обозначения, служебные обозначения и т.п., отделенные пробелами, которые при применяемом методе могут быть посчитаны как слова."
   ]
  },
  {
   "cell_type": "code",
   "execution_count": 4,
   "metadata": {},
   "outputs": [
    {
     "data": {
      "image/png": "[encoded data removed]",
      "text/plain": [
       "<Figure size 640x480 with 1 Axes>"
      ]
     },
     "metadata": {},
     "output_type": "display_data"
    }
   ],
   "source": [
    "# Определим примерную длину текста в словах:\n",
    "df['length'] = df['text'].apply(lambda x: len(x.split()))\n",
    "\n",
    "sns.histplot(data = df,\n",
    "            x='length')\n",
    "plt.title('Распределение примерных длин текстов')\n",
    "plt.xlabel('Примерное число слов')\n",
    "plt.show()"
   ]
  },
  {
   "cell_type": "markdown",
   "metadata": {},
   "source": [
    "Видим, что основной массив текстов не превосходит по длине 400 слов. Найдем долю текстов, примерная длина которых больше заданного порога:"
   ]
  },
  {
   "cell_type": "code",
   "execution_count": 5,
   "metadata": {},
   "outputs": [
    {
     "name": "stdout",
     "output_type": "stream",
     "text": [
      "Доля объектов длиной более 400 составляет 1.872% от общей выборки.\n"
     ]
    }
   ],
   "source": [
    "len_treshold = 400\n",
    "print('Доля объектов длиной более {0} составляет {1:.3%} от общей выборки.'.\n",
    "     format(len_treshold, len(df.query('length > @len_treshold')) / len(df))\n",
    "     )"
   ]
  },
  {
   "cell_type": "markdown",
   "metadata": {},
   "source": [
    "Доля длинных комментариев невелика. Рассмотрим распределение целевого признака среди длинных комментариев. Если доля токсичных комментариев среди них примерно такая же, как и в целом по выборке, удалим такие комментарии (для упрощения токенизации и, соответсвенно, уменьшения матрицы признаков в дальнейшем)."
   ]
  },
  {
   "cell_type": "code",
   "execution_count": 6,
   "metadata": {},
   "outputs": [
    {
     "name": "stdout",
     "output_type": "stream",
     "text": [
      "Соотношение позитивных и негативных комментариев среди длинных, в %:\n"
     ]
    },
    {
     "data": {
      "text/plain": [
       "0    90.17438\n",
       "1     9.82562\n",
       "Name: toxic, dtype: float64"
      ]
     },
     "execution_count": 6,
     "metadata": {},
     "output_type": "execute_result"
    }
   ],
   "source": [
    "print('Соотношение позитивных и негативных комментариев среди длинных, в %:')\n",
    "df.query('length > @len_treshold')['toxic'].value_counts(normalize=True)*100"
   ]
  },
  {
   "cell_type": "markdown",
   "metadata": {},
   "source": [
    "Видим, что в целом доля токсичных текстов среди длинных комментариев совпадает с долей по всей выборке. Значит, удаление аномально длинных комментариев не повлияет на распределение классов в выборке, и при этом уменьшит долю \"мусорных\" признаков при токенизации.\n",
    "\n",
    "Также удалим явные дубликаты (если они имеются)."
   ]
  },
  {
   "cell_type": "code",
   "execution_count": 7,
   "metadata": {},
   "outputs": [],
   "source": [
    "df = df.query('length <= @len_treshold').reset_index(drop=True)\n",
    "df = df.drop_duplicates()"
   ]
  },
  {
   "cell_type": "markdown",
   "metadata": {},
   "source": [
    "**Вывод:**\n",
    "\n",
    "Исходные данные представляли собой корпус комментариев размером ок. 160 тыс. объектов, размеченный по классам. Классы несбалансированы: на долю позитивного класса приходится ок. 10% объектов. Из выборки были удалены аномально длинные комментарии (более 400 слов, менее 2% от выборки)."
   ]
  },
  {
   "cell_type": "markdown",
   "metadata": {},
   "source": [
    "## Лемматизация\n",
    "\n",
    "Для перевода естественного языка в векторное представление предполагается использовать метод *TF-IDF*. Однако прежде необходимо лемматизитровать текст. \n",
    "\n",
    "При этом, для ускорения дальнейшей векторизации (будет осушествляться на каждом шаге кросс-валидации), исключим стоп-слова на этапе лемматизации."
   ]
  },
  {
   "cell_type": "code",
   "execution_count": 8,
   "metadata": {
    "scrolled": false
   },
   "outputs": [],
   "source": [
    "# Стоп-слова, используемые при векторизации:\n",
    "stopwords = list(nltk.corpus.stopwords.words('english'))\n",
    "# Функция для определения POS-тег слова для корректной лемматизации:\n",
    "def get_wordnet_pos(word):\n",
    "    tag = nltk.pos_tag([word])[0][1][0].upper()\n",
    "    tag_dict = {\"J\": wordnet.ADJ,\n",
    "                \"N\": wordnet.NOUN,\n",
    "                \"V\": wordnet.VERB,\n",
    "                \"R\": wordnet.ADV}\n",
    "    return tag_dict.get(tag, wordnet.NOUN)\n",
    "\n",
    "# Функция для лемматизации:\n",
    "def lemmatization(text):\n",
    "    # Приводим к нижнему регистру:\n",
    "    text = text.lower()\n",
    "    # Избавляемся от знаков препинания, служебных символов и т.п. и стоп-слов:\n",
    "    clean_text = re.sub(r'[^a-z ]', ' ', text)\n",
    "    new_text_list = [i for i in clean_text.split() if i not in stopwords]\n",
    "    new_text = ' '.join(new_text_list)\n",
    "    # Лемматизируем по списку слов в строке:\n",
    "    word_list = nltk.word_tokenize(new_text)\n",
    "    m = WordNetLemmatizer()\n",
    "    fin_text = ' '.join([m.lemmatize(w,  get_wordnet_pos(w)) for w in word_list])\n",
    "    return fin_text"
   ]
  },
  {
   "cell_type": "markdown",
   "metadata": {},
   "source": [
    "*Для ускорения работы лемматизация была проведена единожды и сохранена; дальнейшая работа осуществляется с лемматизированным текстом.*\n",
    "\n",
    "*Код ниже оставлен для иллюстрации того, как лемматизация была реализована.*"
   ]
  },
  {
   "cell_type": "code",
   "execution_count": 9,
   "metadata": {},
   "outputs": [],
   "source": [
    "tqdm.pandas()\n",
    "# Применяем лемматизацию к корпусу текстов:\n",
    "#df['lemm_text'] = df['text'].progress_apply(lambda x: lemmatization(x))"
   ]
  },
  {
   "cell_type": "code",
   "execution_count": 10,
   "metadata": {},
   "outputs": [],
   "source": [
    "# Загружаем файл с результатами лемматизации\n",
    "lemm_df = pd.read_csv('https://getfile.dokpub.com/yandex/get/https://disk.yandex.ru/d/fYohnf7YgXFeHw')"
   ]
  },
  {
   "cell_type": "markdown",
   "metadata": {},
   "source": [
    "Рассмотрим результаты лемматизации:"
   ]
  },
  {
   "cell_type": "code",
   "execution_count": 11,
   "metadata": {},
   "outputs": [
    {
     "name": "stdout",
     "output_type": "stream",
     "text": [
      "<class 'pandas.core.frame.DataFrame'>\n",
      "RangeIndex: 156310 entries, 0 to 156309\n",
      "Data columns (total 4 columns):\n",
      " #   Column     Non-Null Count   Dtype \n",
      "---  ------     --------------   ----- \n",
      " 0   text       156310 non-null  object\n",
      " 1   toxic      156310 non-null  int64 \n",
      " 2   length     156310 non-null  int64 \n",
      " 3   lemm_text  156249 non-null  object\n",
      "dtypes: int64(2), object(2)\n",
      "memory usage: 4.8+ MB\n"
     ]
    }
   ],
   "source": [
    "lemm_df = lemm_df.drop('Unnamed: 0', axis=1)\n",
    "lemm_df.info()"
   ]
  },
  {
   "cell_type": "markdown",
   "metadata": {},
   "source": [
    "Заметим, что в результате образовалось небольшое количество пропусков в лемматизированном тексте (61 объект, менее 0,1% от выборки). Видимо, такие комметнарии состояли только из стоп-слов и служебных символов (знаков препинания и т.п.). Удалим таким объекты из выборки.\n",
    "\n",
    "Далее рассмотрим длины лемматизированных текстов в зависимости от токсичности комментария:"
   ]
  },
  {
   "cell_type": "code",
   "execution_count": 12,
   "metadata": {},
   "outputs": [
    {
     "data": {
      "image/png": "[encoded data removed]",
      "text/plain": [
       "<Figure size 640x480 with 1 Axes>"
      ]
     },
     "metadata": {},
     "output_type": "display_data"
    }
   ],
   "source": [
    "lemm_df = lemm_df.dropna()\n",
    "lemm_df['lemm_length'] = lemm_df['lemm_text'].apply(lambda x: len(x.split()))\n",
    "\n",
    "sns.histplot(data=lemm_df,\n",
    "            x='lemm_length',\n",
    "            hue='toxic',\n",
    "            stat='probability',\n",
    "            common_norm = False)\n",
    "plt.title('Распределение длин текстов')\n",
    "plt.xlabel('Число слов')\n",
    "plt.ylabel('Доля')\n",
    "plt.show()"
   ]
  },
  {
   "cell_type": "markdown",
   "metadata": {},
   "source": [
    "В выборке присутствуют аномально длинные комментарии (более 200 токенов). Их количество, судя по гистограммам, невелико, однако затрудняет анализ. Найдем число таких объектов и, если их число невелико, удалим их из выборки:"
   ]
  },
  {
   "cell_type": "code",
   "execution_count": 13,
   "metadata": {},
   "outputs": [
    {
     "name": "stdout",
     "output_type": "stream",
     "text": [
      "Число комментариев длиной более 200: 452\n"
     ]
    }
   ],
   "source": [
    "print('Число комментариев длиной более 200:', \\\n",
    "      len(lemm_df.query('lemm_length > 200')))"
   ]
  },
  {
   "cell_type": "code",
   "execution_count": 14,
   "metadata": {},
   "outputs": [
    {
     "data": {
      "image/png": "[encoded data removed]",
      "text/plain": [
       "<Figure size 640x480 with 1 Axes>"
      ]
     },
     "metadata": {},
     "output_type": "display_data"
    }
   ],
   "source": [
    "lemm_df = lemm_df.query('lemm_length <= 200')\n",
    "sns.histplot(data=lemm_df,\n",
    "            x='lemm_length',\n",
    "            hue='toxic',\n",
    "            stat='probability',\n",
    "            common_norm = False,\n",
    "            alpha = 0.5)\n",
    "plt.title('Распределение длин текстов после очистки')\n",
    "plt.xlabel('Число слов')\n",
    "plt.ylabel('Доля')\n",
    "plt.show()"
   ]
  },
  {
   "cell_type": "markdown",
   "metadata": {},
   "source": [
    "Присутстсуют небольшие различия в длине между токсичными и нормальными комментариями: бОльшая доля токсичных комментариев короткая (до 20 слов). "
   ]
  },
  {
   "cell_type": "markdown",
   "metadata": {},
   "source": [
    "## Обучение моделей\n",
    "\n",
    "Классификаторами будут выступать три типа моделей - логистическая регрессия, байесовский классификатор и градиентный бустинг. Подбор гиперпараметров будет вестить для максимизации метрики *F1*.\n",
    "\n",
    "При этом, чтобы избежать \"утечки\" при переводе языка в векторное представление на валидации, воспользуемся инструментом `Pipeline`. Таким образом удастся избежать переобучения. Подбор гиперпараметров будет осуществлятся с помощью фреймворка `Optuna`.\n",
    "\n",
    "\n",
    "### Подготовка к обучению\n",
    "\n",
    "Прежде, чем перейти к обучению моделей, подготовим выборки:"
   ]
  },
  {
   "cell_type": "code",
   "execution_count": 15,
   "metadata": {},
   "outputs": [],
   "source": [
    "# Выделяем выборки:\n",
    "text = lemm_df['lemm_text']\n",
    "text = text.apply(lambda x: np.str_(x))\n",
    "target = lemm_df['toxic']\n",
    "\n",
    "text_train, text_test, target_train, target_test = train_test_split(text,\n",
    "                                                                   target,\n",
    "                                                                   test_size = 0.2,\n",
    "                                                                   random_state = RANDOM_STATE, \n",
    "                                                                   stratify = target)"
   ]
  },
  {
   "cell_type": "code",
   "execution_count": 16,
   "metadata": {},
   "outputs": [],
   "source": [
    "text_train = text_train.reset_index(drop=True)\n",
    "target_train = target_train.reset_index(drop=True)"
   ]
  },
  {
   "cell_type": "markdown",
   "metadata": {},
   "source": [
    "Сформируем цели (т.е. функции максимизации), которые сначала переведут комментарии в векторное представление (**TF-IDF**), а затем на основе полученных векторов обучат классификаторы и проведут кросс-валидацию. По возможности будем использовать встроенное взвешивание классов."
   ]
  },
  {
   "cell_type": "code",
   "execution_count": 17,
   "metadata": {},
   "outputs": [],
   "source": [
    "# Логистическая регрессия:\n",
    "\n",
    "def objective_lr(trial, X, y):  \n",
    "    # гиперпараметры для перебора:\n",
    "    param = {'solver': trial.suggest_categorical('solver', ['lbfgs', 'liblinear', 'newton-cg', 'saga']),\n",
    "             'C': trial.suggest_float('C', 0, 7),\n",
    "             'random_state' : trial.suggest_categorical('random_state', [RANDOM_STATE]),\n",
    "             'class_weight': trial.suggest_categorical('class_weight', ['balanced'])\n",
    "            }\n",
    "    \n",
    "    # задаем модель для обучения:\n",
    "    model = LogisticRegression(**param)\n",
    "    \n",
    "    pipe = Pipeline(steps = [\n",
    "        ('tfidf', TfidfVectorizer()),\n",
    "        ('est', model)\n",
    "    ])\n",
    "    \n",
    "    # задаем алгоритм кросс-валидации:\n",
    "    cv_method = StratifiedKFold(random_state=RANDOM_STATE,\n",
    "                               shuffle=True)\n",
    "    results = cross_validate(pipe, X, y,\n",
    "                             scoring=make_scorer(f1_score),\n",
    "                             cv=cv_method,\n",
    "                             n_jobs=-1)\n",
    "    return results['test_score'].mean()"
   ]
  },
  {
   "cell_type": "code",
   "execution_count": 18,
   "metadata": {},
   "outputs": [],
   "source": [
    "# Байесовский классификатор:\n",
    "\n",
    "def objective_nb(trial, X, y):\n",
    "    param = {'alpha': trial.suggest_float('alpha', 0, 7)}\n",
    "    \n",
    "    model = MultinomialNB(**param)\n",
    "    \n",
    "    pipe = Pipeline(steps = [\n",
    "        ('tfidf', TfidfVectorizer()),\n",
    "        ('est', model)\n",
    "    ])\n",
    "    cv_method = StratifiedKFold(random_state=RANDOM_STATE,\n",
    "                               shuffle=True)\n",
    "    results = cross_validate(pipe, X, y,\n",
    "                             scoring=make_scorer(f1_score),\n",
    "                             cv=cv_method,\n",
    "                             n_jobs=-1)\n",
    "    return results['test_score'].mean()"
   ]
  },
  {
   "cell_type": "code",
   "execution_count": 19,
   "metadata": {},
   "outputs": [],
   "source": [
    "# Градиентный бустинг LGBM:\n",
    "\n",
    "def objective_boost(trial, X, y):\n",
    "    param = {'n_estimators' : trial.suggest_int('n_estimators', 100, 1000, step=50),\n",
    "             'max_depth' : trial.suggest_int('max_depth', 2, 10),\n",
    "             'learning_rate' : trial.suggest_float('learning_rate', 0.01, 0.6),\n",
    "             'random_state' : trial.suggest_categorical('random_state', [RANDOM_STATE]),\n",
    "             'class_weight': trial.suggest_categorical('class_weight', ['balanced'])\n",
    "            }\n",
    "    \n",
    "    model = LGBMClassifier(**param)\n",
    "    \n",
    "    pipe = Pipeline(steps = [\n",
    "        ('tfidf', TfidfVectorizer()),\n",
    "        ('est', model)\n",
    "    ])\n",
    "    cv_method = StratifiedKFold(random_state=RANDOM_STATE,\n",
    "                               shuffle=True)\n",
    "    results = cross_validate(pipe, X, y,\n",
    "                             scoring=make_scorer(f1_score),\n",
    "                             cv=cv_method,\n",
    "                             n_jobs=-1)\n",
    "    return results['test_score'].mean()"
   ]
  },
  {
   "cell_type": "markdown",
   "metadata": {},
   "source": [
    "### Обучение моделей\n",
    "\n",
    "Обучим модели с подбором гиперпараметров:"
   ]
  },
  {
   "cell_type": "code",
   "execution_count": 20,
   "metadata": {},
   "outputs": [
    {
     "name": "stderr",
     "output_type": "stream",
     "text": [
      "\u001b[32m[I 2023-03-01 14:43:02,659]\u001b[0m A new study created in memory with name: Логистическая регрессия\u001b[0m\n",
      "\u001b[32m[I 2023-03-01 14:43:17,118]\u001b[0m Trial 0 finished with value: 0.752053313983596 and parameters: {'solver': 'newton-cg', 'C': 1.4494289420757172, 'random_state': 1104, 'class_weight': 'balanced'}. Best is trial 0 with value: 0.752053313983596.\u001b[0m\n",
      "\u001b[32m[I 2023-03-01 14:43:30,056]\u001b[0m Trial 1 finished with value: 0.7604804337602513 and parameters: {'solver': 'liblinear', 'C': 4.404056585847139, 'random_state': 1104, 'class_weight': 'balanced'}. Best is trial 1 with value: 0.7604804337602513.\u001b[0m\n",
      "\u001b[32m[I 2023-03-01 14:43:43,208]\u001b[0m Trial 2 finished with value: 0.7540231217974329 and parameters: {'solver': 'lbfgs', 'C': 1.7010565496636634, 'random_state': 1104, 'class_weight': 'balanced'}. Best is trial 1 with value: 0.7604804337602513.\u001b[0m\n",
      "\u001b[32m[I 2023-03-01 14:44:02,464]\u001b[0m Trial 3 finished with value: 0.7526721108343686 and parameters: {'solver': 'saga', 'C': 1.9834812479415498, 'random_state': 1104, 'class_weight': 'balanced'}. Best is trial 1 with value: 0.7604804337602513.\u001b[0m\n",
      "\u001b[32m[I 2023-03-01 14:44:14,680]\u001b[0m Trial 4 finished with value: 0.7604313589573541 and parameters: {'solver': 'liblinear', 'C': 6.301495962575202, 'random_state': 1104, 'class_weight': 'balanced'}. Best is trial 1 with value: 0.7604804337602513.\u001b[0m\n",
      "\u001b[32m[I 2023-03-01 14:44:33,902]\u001b[0m Trial 5 finished with value: 0.7528678085746874 and parameters: {'solver': 'saga', 'C': 3.0228586210995054, 'random_state': 1104, 'class_weight': 'balanced'}. Best is trial 1 with value: 0.7604804337602513.\u001b[0m\n",
      "\u001b[32m[I 2023-03-01 14:44:53,064]\u001b[0m Trial 6 finished with value: 0.7452921339982199 and parameters: {'solver': 'saga', 'C': 6.660610827638966, 'random_state': 1104, 'class_weight': 'balanced'}. Best is trial 1 with value: 0.7604804337602513.\u001b[0m\n",
      "\u001b[32m[I 2023-03-01 14:45:05,835]\u001b[0m Trial 7 finished with value: 0.7607407679934365 and parameters: {'solver': 'newton-cg', 'C': 5.2159977591938915, 'random_state': 1104, 'class_weight': 'balanced'}. Best is trial 7 with value: 0.7607407679934365.\u001b[0m\n",
      "\u001b[32m[I 2023-03-01 14:45:17,180]\u001b[0m Trial 8 finished with value: 0.7485910357465786 and parameters: {'solver': 'liblinear', 'C': 1.1798825022147619, 'random_state': 1104, 'class_weight': 'balanced'}. Best is trial 7 with value: 0.7607407679934365.\u001b[0m\n",
      "\u001b[32m[I 2023-03-01 14:45:36,413]\u001b[0m Trial 9 finished with value: 0.7571905177453809 and parameters: {'solver': 'saga', 'C': 5.849654506006787, 'random_state': 1104, 'class_weight': 'balanced'}. Best is trial 7 with value: 0.7607407679934365.\u001b[0m\n",
      "\u001b[32m[I 2023-03-01 14:45:47,509]\u001b[0m Trial 10 finished with value: 0.6905403239640553 and parameters: {'solver': 'newton-cg', 'C': 0.027349932541750555, 'random_state': 1104, 'class_weight': 'balanced'}. Best is trial 7 with value: 0.7607407679934365.\u001b[0m\n",
      "\u001b[32m[I 2023-03-01 14:45:59,656]\u001b[0m Trial 11 finished with value: 0.7608292810340377 and parameters: {'solver': 'liblinear', 'C': 4.618593889401155, 'random_state': 1104, 'class_weight': 'balanced'}. Best is trial 11 with value: 0.7608292810340377.\u001b[0m\n",
      "\u001b[32m[I 2023-03-01 14:46:12,421]\u001b[0m Trial 12 finished with value: 0.7609643976613145 and parameters: {'solver': 'newton-cg', 'C': 4.798554059797223, 'random_state': 1104, 'class_weight': 'balanced'}. Best is trial 12 with value: 0.7609643976613145.\u001b[0m\n",
      "\u001b[32m[I 2023-03-01 14:46:25,418]\u001b[0m Trial 13 finished with value: 0.7602715784666626 and parameters: {'solver': 'lbfgs', 'C': 4.322838710251422, 'random_state': 1104, 'class_weight': 'balanced'}. Best is trial 12 with value: 0.7609643976613145.\u001b[0m\n",
      "\u001b[32m[I 2023-03-01 14:46:37,478]\u001b[0m Trial 14 finished with value: 0.7607468641383525 and parameters: {'solver': 'liblinear', 'C': 4.919979261201488, 'random_state': 1104, 'class_weight': 'balanced'}. Best is trial 12 with value: 0.7609643976613145.\u001b[0m\n",
      "\u001b[32m[I 2023-03-01 14:46:50,278]\u001b[0m Trial 15 finished with value: 0.7608873175970768 and parameters: {'solver': 'newton-cg', 'C': 3.589163236136698, 'random_state': 1104, 'class_weight': 'balanced'}. Best is trial 12 with value: 0.7609643976613145.\u001b[0m\n",
      "\u001b[32m[I 2023-03-01 14:47:02,955]\u001b[0m Trial 16 finished with value: 0.7608447705975886 and parameters: {'solver': 'newton-cg', 'C': 3.527487304812812, 'random_state': 1104, 'class_weight': 'balanced'}. Best is trial 12 with value: 0.7609643976613145.\u001b[0m\n",
      "\u001b[32m[I 2023-03-01 14:47:15,532]\u001b[0m Trial 17 finished with value: 0.7608047288039643 and parameters: {'solver': 'newton-cg', 'C': 3.4617404410036627, 'random_state': 1104, 'class_weight': 'balanced'}. Best is trial 12 with value: 0.7609643976613145.\u001b[0m\n",
      "\u001b[32m[I 2023-03-01 14:47:28,693]\u001b[0m Trial 18 finished with value: 0.7606285120042218 and parameters: {'solver': 'newton-cg', 'C': 5.5884337497438175, 'random_state': 1104, 'class_weight': 'balanced'}. Best is trial 12 with value: 0.7609643976613145.\u001b[0m\n",
      "\u001b[32m[I 2023-03-01 14:47:41,472]\u001b[0m Trial 19 finished with value: 0.7604584646033835 and parameters: {'solver': 'newton-cg', 'C': 4.163450736740103, 'random_state': 1104, 'class_weight': 'balanced'}. Best is trial 12 with value: 0.7609643976613145.\u001b[0m\n"
     ]
    },
    {
     "name": "stdout",
     "output_type": "stream",
     "text": [
      "CPU times: total: 1min 55s\n",
      "Wall time: 4min 38s\n"
     ]
    }
   ],
   "source": [
    "%%time\n",
    "\n",
    "# Логистическая регрессия:\n",
    "study_lr = op.create_study(direction=\"maximize\", study_name=\"Логистическая регрессия\")\n",
    "func_lr = lambda trial: objective_lr(trial, text_train, target_train)\n",
    "study_lr.optimize(func_lr, n_trials=20)"
   ]
  },
  {
   "cell_type": "code",
   "execution_count": 21,
   "metadata": {},
   "outputs": [
    {
     "name": "stderr",
     "output_type": "stream",
     "text": [
      "\u001b[32m[I 2023-03-01 14:47:41,481]\u001b[0m A new study created in memory with name: Байесовский классификатор\u001b[0m\n",
      "\u001b[32m[I 2023-03-01 14:47:51,646]\u001b[0m Trial 0 finished with value: 0.44792264777890267 and parameters: {'alpha': 0.5759054230238019}. Best is trial 0 with value: 0.44792264777890267.\u001b[0m\n",
      "\u001b[32m[I 2023-03-01 14:48:01,701]\u001b[0m Trial 1 finished with value: 0.3409930230061221 and parameters: {'alpha': 1.1097718235559833}. Best is trial 0 with value: 0.44792264777890267.\u001b[0m\n",
      "\u001b[32m[I 2023-03-01 14:48:11,901]\u001b[0m Trial 2 finished with value: 0.12918402529694245 and parameters: {'alpha': 5.767047219708796}. Best is trial 0 with value: 0.44792264777890267.\u001b[0m\n",
      "\u001b[32m[I 2023-03-01 14:48:22,031]\u001b[0m Trial 3 finished with value: 0.1232186828012934 and parameters: {'alpha': 6.1858280017445075}. Best is trial 0 with value: 0.44792264777890267.\u001b[0m\n",
      "\u001b[32m[I 2023-03-01 14:48:32,127]\u001b[0m Trial 4 finished with value: 0.1980808736244647 and parameters: {'alpha': 2.939398854918969}. Best is trial 0 with value: 0.44792264777890267.\u001b[0m\n",
      "\u001b[32m[I 2023-03-01 14:48:42,184]\u001b[0m Trial 5 finished with value: 0.1863448452779532 and parameters: {'alpha': 3.2788887217069926}. Best is trial 0 with value: 0.44792264777890267.\u001b[0m\n",
      "\u001b[32m[I 2023-03-01 14:48:52,262]\u001b[0m Trial 6 finished with value: 0.1549246836146578 and parameters: {'alpha': 4.398418572963704}. Best is trial 0 with value: 0.44792264777890267.\u001b[0m\n",
      "\u001b[32m[I 2023-03-01 14:49:02,482]\u001b[0m Trial 7 finished with value: 0.33184567144411214 and parameters: {'alpha': 1.173858522409117}. Best is trial 0 with value: 0.44792264777890267.\u001b[0m\n",
      "\u001b[32m[I 2023-03-01 14:49:12,661]\u001b[0m Trial 8 finished with value: 0.18256918454991874 and parameters: {'alpha': 3.3643037933384576}. Best is trial 0 with value: 0.44792264777890267.\u001b[0m\n",
      "\u001b[32m[I 2023-03-01 14:49:22,725]\u001b[0m Trial 9 finished with value: 0.11245074929752233 and parameters: {'alpha': 6.962836655447078}. Best is trial 0 with value: 0.44792264777890267.\u001b[0m\n",
      "\u001b[32m[I 2023-03-01 14:49:32,815]\u001b[0m Trial 10 finished with value: 0.6585684051486418 and parameters: {'alpha': 0.05077811257624942}. Best is trial 10 with value: 0.6585684051486418.\u001b[0m\n",
      "\u001b[32m[I 2023-03-01 14:49:42,908]\u001b[0m Trial 11 finished with value: 0.6419598991359503 and parameters: {'alpha': 0.08796867301802917}. Best is trial 10 with value: 0.6585684051486418.\u001b[0m\n",
      "\u001b[32m[I 2023-03-01 14:49:53,106]\u001b[0m Trial 12 finished with value: 0.653977593147966 and parameters: {'alpha': 0.06502267782078051}. Best is trial 10 with value: 0.6585684051486418.\u001b[0m\n",
      "\u001b[32m[I 2023-03-01 14:50:03,156]\u001b[0m Trial 13 finished with value: 0.2636153410481984 and parameters: {'alpha': 1.8082658540486631}. Best is trial 10 with value: 0.6585684051486418.\u001b[0m\n",
      "\u001b[32m[I 2023-03-01 14:50:13,236]\u001b[0m Trial 14 finished with value: 0.6629781274746676 and parameters: {'alpha': 0.04173191048450462}. Best is trial 14 with value: 0.6629781274746676.\u001b[0m\n",
      "\u001b[32m[I 2023-03-01 14:50:23,337]\u001b[0m Trial 15 finished with value: 0.24620255467440177 and parameters: {'alpha': 2.0433377142406894}. Best is trial 14 with value: 0.6629781274746676.\u001b[0m\n",
      "\u001b[32m[I 2023-03-01 14:50:33,471]\u001b[0m Trial 16 finished with value: 0.658466114384623 and parameters: {'alpha': 0.0510943855339875}. Best is trial 14 with value: 0.6629781274746676.\u001b[0m\n",
      "\u001b[32m[I 2023-03-01 14:50:43,612]\u001b[0m Trial 17 finished with value: 0.35748284425699073 and parameters: {'alpha': 1.0224957972885749}. Best is trial 14 with value: 0.6629781274746676.\u001b[0m\n",
      "\u001b[32m[I 2023-03-01 14:50:53,750]\u001b[0m Trial 18 finished with value: 0.24693099288497752 and parameters: {'alpha': 2.031398359621593}. Best is trial 14 with value: 0.6629781274746676.\u001b[0m\n",
      "\u001b[32m[I 2023-03-01 14:51:03,812]\u001b[0m Trial 19 finished with value: 0.21117956373266603 and parameters: {'alpha': 2.6550363451268284}. Best is trial 14 with value: 0.6629781274746676.\u001b[0m\n"
     ]
    },
    {
     "name": "stdout",
     "output_type": "stream",
     "text": [
      "CPU times: total: 1min 53s\n",
      "Wall time: 3min 22s\n"
     ]
    }
   ],
   "source": [
    "%%time\n",
    "\n",
    "# Байесовский классификатор:\n",
    "study_nb = op.create_study(direction=\"maximize\", study_name=\"Байесовский классификатор\")\n",
    "func_nb = lambda trial: objective_nb(trial, text_train, target_train)\n",
    "study_nb.optimize(func_nb, n_trials=20)"
   ]
  },
  {
   "cell_type": "code",
   "execution_count": 24,
   "metadata": {},
   "outputs": [
    {
     "name": "stderr",
     "output_type": "stream",
     "text": [
      "\u001b[32m[I 2023-03-01 14:57:28,648]\u001b[0m A new study created in memory with name: Градиентный бустинг\u001b[0m\n",
      "\u001b[32m[I 2023-03-01 14:58:21,843]\u001b[0m Trial 0 finished with value: 0.7478033185830938 and parameters: {'n_estimators': 800, 'max_depth': 2, 'learning_rate': 0.2614386961867744, 'random_state': 1104, 'class_weight': 'balanced'}. Best is trial 0 with value: 0.7478033185830938.\u001b[0m\n",
      "\u001b[32m[I 2023-03-01 14:59:14,352]\u001b[0m Trial 1 finished with value: 0.7408037781969092 and parameters: {'n_estimators': 250, 'max_depth': 7, 'learning_rate': 0.06483978823599826, 'random_state': 1104, 'class_weight': 'balanced'}. Best is trial 0 with value: 0.7478033185830938.\u001b[0m\n",
      "\u001b[32m[I 2023-03-01 15:00:08,314]\u001b[0m Trial 2 finished with value: 0.7494156426052598 and parameters: {'n_estimators': 850, 'max_depth': 2, 'learning_rate': 0.3453486673185535, 'random_state': 1104, 'class_weight': 'balanced'}. Best is trial 2 with value: 0.7494156426052598.\u001b[0m\n",
      "\u001b[32m[I 2023-03-01 15:02:04,526]\u001b[0m Trial 3 finished with value: 0.763293309838904 and parameters: {'n_estimators': 850, 'max_depth': 7, 'learning_rate': 0.08740199521714045, 'random_state': 1104, 'class_weight': 'balanced'}. Best is trial 3 with value: 0.763293309838904.\u001b[0m\n",
      "\u001b[32m[I 2023-03-01 15:02:45,419]\u001b[0m Trial 4 finished with value: 0.7344871595495726 and parameters: {'n_estimators': 250, 'max_depth': 5, 'learning_rate': 0.0731393726678495, 'random_state': 1104, 'class_weight': 'balanced'}. Best is trial 3 with value: 0.763293309838904.\u001b[0m\n",
      "\u001b[32m[I 2023-03-01 15:04:39,154]\u001b[0m Trial 5 finished with value: 0.7481549944804129 and parameters: {'n_estimators': 900, 'max_depth': 6, 'learning_rate': 0.032217872476836204, 'random_state': 1104, 'class_weight': 'balanced'}. Best is trial 3 with value: 0.763293309838904.\u001b[0m\n",
      "\u001b[32m[I 2023-03-01 15:06:56,959]\u001b[0m Trial 6 finished with value: 0.765621123182875 and parameters: {'n_estimators': 850, 'max_depth': 10, 'learning_rate': 0.5979316462027829, 'random_state': 1104, 'class_weight': 'balanced'}. Best is trial 6 with value: 0.765621123182875.\u001b[0m\n",
      "\u001b[32m[I 2023-03-01 15:09:23,634]\u001b[0m Trial 7 finished with value: 0.7679418551407668 and parameters: {'n_estimators': 1000, 'max_depth': 9, 'learning_rate': 0.5080374694812148, 'random_state': 1104, 'class_weight': 'balanced'}. Best is trial 7 with value: 0.7679418551407668.\u001b[0m\n",
      "\u001b[32m[I 2023-03-01 15:10:07,355]\u001b[0m Trial 8 finished with value: 0.7433166924754733 and parameters: {'n_estimators': 600, 'max_depth': 2, 'learning_rate': 0.12280456039944024, 'random_state': 1104, 'class_weight': 'balanced'}. Best is trial 7 with value: 0.7679418551407668.\u001b[0m\n",
      "\u001b[32m[I 2023-03-01 15:10:43,314]\u001b[0m Trial 9 finished with value: 0.7374359239835424 and parameters: {'n_estimators': 250, 'max_depth': 4, 'learning_rate': 0.09982977175407085, 'random_state': 1104, 'class_weight': 'balanced'}. Best is trial 7 with value: 0.7679418551407668.\u001b[0m\n",
      "\u001b[32m[I 2023-03-01 15:12:19,072]\u001b[0m Trial 10 finished with value: 0.7651425632961615 and parameters: {'n_estimators': 550, 'max_depth': 10, 'learning_rate': 0.5717547724469283, 'random_state': 1104, 'class_weight': 'balanced'}. Best is trial 7 with value: 0.7679418551407668.\u001b[0m\n",
      "\u001b[32m[I 2023-03-01 15:14:56,396]\u001b[0m Trial 11 finished with value: 0.7637532944959458 and parameters: {'n_estimators': 1000, 'max_depth': 10, 'learning_rate': 0.597399357928455, 'random_state': 1104, 'class_weight': 'balanced'}. Best is trial 7 with value: 0.7679418551407668.\u001b[0m\n",
      "\u001b[32m[I 2023-03-01 15:16:39,646]\u001b[0m Trial 12 finished with value: 0.7647172344310126 and parameters: {'n_estimators': 650, 'max_depth': 9, 'learning_rate': 0.49854860971476744, 'random_state': 1104, 'class_weight': 'balanced'}. Best is trial 7 with value: 0.7679418551407668.\u001b[0m\n",
      "\u001b[32m[I 2023-03-01 15:18:54,404]\u001b[0m Trial 13 finished with value: 0.7660609478277436 and parameters: {'n_estimators': 1000, 'max_depth': 8, 'learning_rate': 0.49002469527939, 'random_state': 1104, 'class_weight': 'balanced'}. Best is trial 7 with value: 0.7679418551407668.\u001b[0m\n",
      "\u001b[32m[I 2023-03-01 15:21:09,895]\u001b[0m Trial 14 finished with value: 0.7690646556465801 and parameters: {'n_estimators': 1000, 'max_depth': 8, 'learning_rate': 0.4442856335507108, 'random_state': 1104, 'class_weight': 'balanced'}. Best is trial 14 with value: 0.7690646556465801.\u001b[0m\n",
      "\u001b[32m[I 2023-03-01 15:22:51,728]\u001b[0m Trial 15 finished with value: 0.7673780466129678 and parameters: {'n_estimators': 700, 'max_depth': 8, 'learning_rate': 0.4238666792072827, 'random_state': 1104, 'class_weight': 'balanced'}. Best is trial 14 with value: 0.7690646556465801.\u001b[0m\n",
      "\u001b[32m[I 2023-03-01 15:24:04,580]\u001b[0m Trial 16 finished with value: 0.7633133599420079 and parameters: {'n_estimators': 450, 'max_depth': 8, 'learning_rate': 0.41257585424396276, 'random_state': 1104, 'class_weight': 'balanced'}. Best is trial 14 with value: 0.7690646556465801.\u001b[0m\n",
      "\u001b[32m[I 2023-03-01 15:24:37,464]\u001b[0m Trial 17 finished with value: 0.745293463074961 and parameters: {'n_estimators': 100, 'max_depth': 9, 'learning_rate': 0.5009772765051586, 'random_state': 1104, 'class_weight': 'balanced'}. Best is trial 14 with value: 0.7690646556465801.\u001b[0m\n",
      "\u001b[32m[I 2023-03-01 15:26:26,429]\u001b[0m Trial 18 finished with value: 0.7686919907195797 and parameters: {'n_estimators': 1000, 'max_depth': 6, 'learning_rate': 0.3016870966421584, 'random_state': 1104, 'class_weight': 'balanced'}. Best is trial 14 with value: 0.7690646556465801.\u001b[0m\n",
      "\u001b[32m[I 2023-03-01 15:27:43,687]\u001b[0m Trial 19 finished with value: 0.7636858814344566 and parameters: {'n_estimators': 750, 'max_depth': 5, 'learning_rate': 0.26408366737119704, 'random_state': 1104, 'class_weight': 'balanced'}. Best is trial 14 with value: 0.7690646556465801.\u001b[0m\n"
     ]
    },
    {
     "name": "stdout",
     "output_type": "stream",
     "text": [
      "CPU times: total: 1min 54s\n",
      "Wall time: 30min 15s\n"
     ]
    }
   ],
   "source": [
    "%%time\n",
    "\n",
    "# Градиентный бустинг:\n",
    "study_boost = op.create_study(direction=\"maximize\", study_name=\"Градиентный бустинг\")\n",
    "func_boost = lambda trial: objective_boost(trial, text_train, target_train)\n",
    "study_boost.optimize(func_boost, n_trials=20)"
   ]
  },
  {
   "cell_type": "markdown",
   "metadata": {},
   "source": [
    "Сравним результаты обучения лучших моделей каждого типа:"
   ]
  },
  {
   "cell_type": "code",
   "execution_count": 25,
   "metadata": {},
   "outputs": [
    {
     "data": {
      "text/plain": [
       "Логистическая регрессия      0.760964\n",
       "Байесовский классификатор    0.662978\n",
       "Градиентный бустинг          0.769065\n",
       "dtype: float64"
      ]
     },
     "metadata": {},
     "output_type": "display_data"
    }
   ],
   "source": [
    "results_table = pd.Series(index = [\"Логистическая регрессия\", \n",
    "                                   \"Байесовский классификатор\", \n",
    "                                   \"Градиентный бустинг\"], \n",
    "                          dtype='float64')\n",
    "results_table[\"Логистическая регрессия\"] = study_lr.best_value\n",
    "results_table[\"Байесовский классификатор\"] = study_nb.best_value\n",
    "results_table[\"Градиентный бустинг\"] = study_boost.best_value\n",
    "\n",
    "display(results_table)"
   ]
  },
  {
   "cell_type": "markdown",
   "metadata": {},
   "source": [
    "Байесовский классификатор не достиг заданного порога качества *F1* в 0.75.  Наилучший результат показала модель градиетного бустинга (ок. 0.77) со следующими гиперпараметрами: "
   ]
  },
  {
   "cell_type": "code",
   "execution_count": 26,
   "metadata": {},
   "outputs": [
    {
     "name": "stdout",
     "output_type": "stream",
     "text": [
      "{'n_estimators': 1000, 'max_depth': 8, 'learning_rate': 0.4442856335507108, 'random_state': 1104, 'class_weight': 'balanced'}\n"
     ]
    }
   ],
   "source": [
    "best_model_params = study_boost.best_params\n",
    "print(best_model_params)"
   ]
  },
  {
   "cell_type": "markdown",
   "metadata": {},
   "source": [
    "## Предсказания на тестовой выборке\n",
    "\n",
    "Найдем качество модели на тестовой выборке:"
   ]
  },
  {
   "cell_type": "code",
   "execution_count": 28,
   "metadata": {},
   "outputs": [
    {
     "name": "stdout",
     "output_type": "stream",
     "text": [
      "Качество модели на тестовой выборке: 0.7820410762617418\n"
     ]
    }
   ],
   "source": [
    "# Задаем и обучаем на всей обучающей выборке лучшую модель:\n",
    "best_model = Pipeline(steps = [('tfidf', TfidfVectorizer()),\n",
    "                              ('est', LGBMClassifier(**best_model_params))]\n",
    "                     )\n",
    "best_model.fit(text_train, target_train)\n",
    "\n",
    "# Качество на тестовой выборке:\n",
    "prediction = best_model.predict(text_test)\n",
    "print('Качество модели на тестовой выборке:', f1_score(target_test, prediction))"
   ]
  },
  {
   "cell_type": "markdown",
   "metadata": {},
   "source": [
    "Качество модели на тестовой выборке превышает заданный порог.\n",
    "\n",
    "## Общий вывод\n",
    "\n",
    "Цель проекта состояла в создании модели, выявляющей токсичные комментарии пользователей на платформе, которые затем будут отправлены на модерацию. Для обучения модели был предоставлен заранее размеченный корпус текстов (ок. 160 тыс. комментариев).\n",
    "\n",
    "Для ускорения лемматизации и устранения возможных \"мусорных\" признаков из выборки были удалены аномально длинные комментарии (примерная блина более 400 слов). Предоставленная выборка не сбалансирована по классам - на долю позитивного класса (т.е. токсичных комментариев) приходится ок. 10% объектов. \n",
    "\n",
    "Выборка была разделена на обучающую (кросс-валидация) и тестовую выборки в соотношении 80% : 20%. Была проведена лемматизация комментариев для дальнейшего перевода в вектора методом *TF-IDF*. \n",
    "\n",
    "Были обучены три типа моделей: логистическая регрессия, градиентный бустинг и байесовский классификатор. Байесовский классификатор не достиг требуемого уровня метрики *F1*; наилучший результат на кросс-валидации (0.772) показала модель градиентного бустинга.\n",
    "\n",
    "Т.е. для мониторинга комментариев предлагается использовать модель **градиентного бустинга**."
   ]
  }
 ],
 "metadata": {
  "kernelspec": {
   "display_name": "Python 3 (ipykernel)",
   "language": "python",
   "name": "python3"
  },
  "language_info": {
   "codemirror_mode": {
    "name": "ipython",
    "version": 3
   },
   "file_extension": ".py",
   "mimetype": "text/x-python",
   "name": "python",
   "nbconvert_exporter": "python",
   "pygments_lexer": "ipython3",
   "version": "3.9.15"
  },
  "toc": {
   "base_numbering": 1,
   "nav_menu": {},
   "number_sections": true,
   "sideBar": true,
   "skip_h1_title": true,
   "title_cell": "Содержание",
   "title_sidebar": "Contents",
   "toc_cell": true,
   "toc_position": {
    "height": "calc(100% - 180px)",
    "left": "10px",
    "top": "150px",
    "width": "192.391px"
   },
   "toc_section_display": true,
   "toc_window_display": false
  }
 },
 "nbformat": 4,
 "nbformat_minor": 2
}
